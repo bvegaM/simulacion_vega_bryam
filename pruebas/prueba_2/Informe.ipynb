{
 "cells": [
  {
   "cell_type": "markdown",
   "id": "916be0b0",
   "metadata": {},
   "source": [
    "# Desarrollo de una simulación de ingreso a clases presenciales post covid\n",
    "\n",
    "> Nombre: Bryam Vega <br>\n",
    "> Maestro: Ing. Diego Quisi <br>\n",
    "> Universidad: Universidad Politécnica Salesiana\n",
    "\n",
    "## Introducción\n",
    "\n",
    "Diseñe y desarrolle un modelo y/o script que permita simular el siguiente caso real:\n",
    "En base a los datos del siguiente link https://educacion.gob.ec/wp-content/uploads/downloads/2012/08/AZUAY11.pdf, genere una simulación del ingresos de los estudiantes, para ello debemos escoger un establecimiento y en base a los docentes y estudiantes modelar el reingreso de los estudiantes en base a los siguientes datos:\n",
    "\n",
    "*\tSolo se va a tener en cuanta uno de los planteles educativos(Escuela, colegio, universidad dentro del Azuay).\n",
    "\n",
    "*\tSe tiene un promedio que el 90% de los docentes han sido vacunados y pueden realizar el proceso de ingreso en cada uno de los cursos.\n",
    "\n",
    "*\tDentro del procesos se tiene que alrededor del 5% - 10% de los estudiantes no podrán asistir debido a no presentar la vacuna/enfermedades.\n",
    "\n",
    "*\tLos estudiantes solo pertenecen a una sola entidad educativa al igual que los docentes.\n",
    "\n",
    "*\tSe va  a tener un periodo de prueba de un mes, posterior a ello se realiza al azar al 10% de estudiantes una prueba PCR para validar que no estén contagiados.\n",
    "\n",
    "*\tDe la ultima el 2% de los estudiantes dan positivo por lo que se cierra el curso completo.\n",
    "\n",
    "*\tLos estudiantes asisten cada semana y estos están en un horario de 6 horas ya sea diurno o nocturno.\n",
    "\n",
    "*\tTienen un receso 30 minutos dentro del establecimiento en donde se concentran todos los estudiantes y es un foco de contagio del 2%."
   ]
  },
  {
   "cell_type": "markdown",
   "id": "87421b17",
   "metadata": {},
   "source": [
    "# Desarrollo del modelo de simulación\n",
    "\n",
    "![salle](https://static.wixstatic.com/media/98d749_b19830878b154d7e824dc9271f9d6c86~mv2.png/v1/fill/w_500,h_150,al_c,q_85,usm_0.66_1.00_0.01/logo.webp)\n",
    "\n",
    "Mediante los siguientes requerimientos, procedemos a realizar el proceso de simulación requerido. Para ello tomamos en cuenta la **Unidad Educativa Hermano Miguel de la Salle**. Para esta simulación solamente tomaremos en cuenta los datos de la sección básica superior y bachillerato. Con ello en cuenta la instutición cuenta con los siguientes datos:\n",
    "\n",
    "* **Número de docentes:** 43\n",
    "* **Número de cursos:** 24\n",
    "* **Número de estudiantes:** 1080\n",
    "\n",
    "Con estas características procedemos a inicializar los parámetros necesarios para realizar nuestra simulación:"
   ]
  },
  {
   "cell_type": "markdown",
   "id": "243555bd",
   "metadata": {},
   "source": [
    "## Parámetros iniciales de la simulación.\n",
    "\n",
    "Tomando en cuenta los requerimientos se obtienen lso siguientes parámetros:\n",
    "\n",
    "* Existira un total de 38 docentes ya que el 90% debe asistir al plantel.\n",
    "* Existira un total de 972 estudiantes que asistirán al plantel educativo ya que el 5%-10% no podra asistir por enfermedad o vacuna.\n",
    "* Existira un horario de 6 horas, es decir 360 min para realizar la simulación de cada día.\n",
    "* se tiene un receso de 30 min cada día en donde existira una posibilidad de contagio."
   ]
  },
  {
   "cell_type": "code",
   "execution_count": 1,
   "id": "c7982b70",
   "metadata": {},
   "outputs": [],
   "source": [
    "NUMERO_DOCENTES              = 38\n",
    "NUMERO_ESTUDIANTES           = 972\n",
    "CURSOS                       = 24\n",
    "NUMERO_ESTUDIANTES_POR_CURSO = NUMERO_ESTUDIANTES//CURSOS\n",
    "TIEMPO_SIMULACION            = 361*NUMERO_ESTUDIANTES\n",
    "DIAS                         = 0\n",
    "MES                          = 'SEPTIEMBRE'\n",
    "RESCESO                      = 30"
   ]
  },
  {
   "cell_type": "markdown",
   "id": "b5990551",
   "metadata": {},
   "source": [
    "## Creamos los estudiantes que se van a clases  y maestros\n",
    "\n",
    "Mediante la clase Student vamos a crear los estudiantes que van a ingresar en nuestra simulación. Para ello se crea una lista de estudiantes que contiene la clase estudiante."
   ]
  },
  {
   "cell_type": "code",
   "execution_count": 2,
   "id": "ea9299b7",
   "metadata": {},
   "outputs": [],
   "source": [
    "class Estudiante:  \n",
    "    def __init__(self,nombre,curso,infectado,examen):\n",
    "        self.nombre    = nombre\n",
    "        self.curso     = curso\n",
    "        self.infectado = infectado\n",
    "        self.examen    = examen\n",
    "        \n",
    "class Maestro:\n",
    "    def __init__(self,nombre,infectado,examen):\n",
    "        self.nombre      = nombre\n",
    "        self.curso       = 'indefinido'\n",
    "        self.institucion = 'Unidad Educativa Hermano Miguel de la Salle'\n",
    "        self.infectado   = infectado\n",
    "        self.examen      = examen\n",
    "    \n",
    "def llenarEstudiantes():\n",
    "    count=1\n",
    "    lista_estudiantes = {}\n",
    "    cursos_nivel      = ['octavo','noveno','decimo','primero','segundo','tercero']\n",
    "    cursos_id         = ['A','B','C','D']\n",
    "    for i in cursos_nivel:\n",
    "        for j in cursos_id:\n",
    "            for z in range(0,NUMERO_ESTUDIANTES_POR_CURSO+3 if i=='tercero' else NUMERO_ESTUDIANTES_POR_CURSO):\n",
    "                nombre='estudiante_{}'.format(count)\n",
    "                estudiante = Estudiante(nombre,'{}_{}'.format(i,j),0,0)\n",
    "                lista_estudiantes[nombre]=estudiante\n",
    "                count+=1\n",
    "    return lista_estudiantes\n",
    "\n",
    "def llenarMaestros():\n",
    "    count=1\n",
    "    lista_maestros = {}\n",
    "    for i in range(0,NUMERO_DOCENTES):\n",
    "        nombre = 'maestro_{}'.format(count)\n",
    "        maestro = Maestro(nombre,0,0)\n",
    "        lista_maestros[nombre]=maestro\n",
    "        count+=1\n",
    "    return lista_maestros"
   ]
  },
  {
   "cell_type": "markdown",
   "id": "83b01737",
   "metadata": {},
   "source": [
    "Llamamos a llenar los estudiantes que van a estar en nuestra simulación y procedemos inicializarlos. A continuación se ve como se crearón los estudiantes."
   ]
  },
  {
   "cell_type": "code",
   "execution_count": 3,
   "id": "60c18ece",
   "metadata": {},
   "outputs": [],
   "source": [
    "LISTA_ESTUDIANTES = llenarEstudiantes()\n",
    "LISTA_MAESTROS    = llenarMaestros()"
   ]
  },
  {
   "cell_type": "markdown",
   "id": "2105d3ac",
   "metadata": {},
   "source": [
    "Una vez realizado esto unificamos los datos para tener un total de personas que iran al plantel y poder realizar toda la simulación."
   ]
  },
  {
   "cell_type": "code",
   "execution_count": 4,
   "id": "970aaece",
   "metadata": {},
   "outputs": [],
   "source": [
    "LISTA_PERSONAS = {**LISTA_ESTUDIANTES,**LISTA_MAESTROS}"
   ]
  },
  {
   "cell_type": "markdown",
   "id": "d9f909d5",
   "metadata": {},
   "source": [
    "## Ejecución de la simulación\n",
    "\n",
    "En esta sección se crean los métodos necesarios para realizar el proceso de simulación tomando en cuenta la institución como una clase para nuestra simulación y los métodos del proceso del día de clases y proceso de prueba pcr para probar la simulación."
   ]
  },
  {
   "cell_type": "markdown",
   "id": "4c5649a5",
   "metadata": {},
   "source": [
    "### Importamos librerias\n",
    "\n",
    "Las librerías que utilizamos son ```simpy``` para nuestra simulación y ```random``` para la generación de valores randómicos."
   ]
  },
  {
   "cell_type": "code",
   "execution_count": 5,
   "id": "76754d53",
   "metadata": {},
   "outputs": [],
   "source": [
    "import simpy\n",
    "import random"
   ]
  },
  {
   "cell_type": "markdown",
   "id": "a1bd24f4",
   "metadata": {},
   "source": [
    "### Creación de las clases de simulación\n",
    "\n",
    "Para este caso contamos con nuestra clase ```Colegio``` el cual contiene los métodos ```proceso_dia_clases``` que simula los días de clases y ```proceso_pcr``` que simula el proceso de las pruebas pcr.\n",
    "\n",
    "Por otro lado tenemos nuestra clase ```Simulacion``` que contiene los métodos para correr la simulación."
   ]
  },
  {
   "cell_type": "code",
   "execution_count": 6,
   "id": "13cc7d7d",
   "metadata": {},
   "outputs": [],
   "source": [
    "class Colegio():\n",
    "    def __init__(self,environment):\n",
    "        self.env          = environment\n",
    "        self.pcr          = simpy.Resource(self.env,5)\n",
    "        \n",
    "    def proceso_clases(self):\n",
    "        yield self.env.timeout(165)\n",
    "    \n",
    "    def proceso_receso(self):\n",
    "        global RESCESO\n",
    "        yield self.env.timeout(RESCESO)\n",
    "        \n",
    "    def proceso_prueba(self):\n",
    "        yield self.env.timeout(2)\n",
    "        \n",
    "    def proceso_dia_clases(self,persona):\n",
    "        yield self.env.process(self.proceso_clases())\n",
    "        yield self.env.process(self.proceso_receso())\n",
    "        if(random.randint(1,100)>98):\n",
    "            persona.infectado=1\n",
    "            LISTA_PERSONAS[persona.nombre] = persona\n",
    "        yield self.env.process(self.proceso_clases())\n",
    "    \n",
    "    def proceso_pcr(self,persona):\n",
    "        with self.pcr.request() as pcr:\n",
    "            yield pcr\n",
    "            yield self.env.process(self.proceso_prueba())\n",
    "            if(random.randint(1,100)>(95 if persona.infectado==1 else 98)):\n",
    "                persona.infectado=2\n",
    "                LISTA_PERSONAS[persona.nombre] = persona\n",
    "\n",
    "class Simulacion():\n",
    "    \n",
    "    def ejecutar_simulacion(self,env,filtrado):\n",
    "        colegio = Colegio(env)\n",
    "        global DIAS\n",
    "        if DIAS < 31:\n",
    "            print('inrgresan {} personas a la instituación'.format(len(filtrado)))\n",
    "            for i in filtrado.items():\n",
    "                yield env.process(colegio.proceso_dia_clases(i[1]))\n",
    "        else:\n",
    "            print('se tomo una muestra de: {} para prueba PCR'.format(int(len(LISTA_PERSONAS)*0.1)))\n",
    "            for i in random.choices(list(LISTA_PERSONAS.keys()),k=int(len(LISTA_PERSONAS)*0.1)):\n",
    "                env.process(colegio.proceso_pcr(LISTA_PERSONAS[i]))\n",
    "                \n",
    "def filtrar_posibles_contagios():\n",
    "    filtrado={}\n",
    "    for i in LISTA_PERSONAS.items():\n",
    "        if i[1].infectado!=1:\n",
    "            filtrado[i[0]]=i[1]\n",
    "    return filtrado"
   ]
  },
  {
   "cell_type": "code",
   "execution_count": 7,
   "id": "e46a3718",
   "metadata": {},
   "outputs": [
    {
     "name": "stdout",
     "output_type": "stream",
     "text": [
      "========== DÍA 0 ==========\n",
      "inrgresan 1010 personas a la instituación\n",
      "posibles infectados con corte en el día: 17\n",
      "========== DÍA 1 ==========\n",
      "inrgresan 993 personas a la instituación\n",
      "posibles infectados con corte en el día: 45\n",
      "========== DÍA 2 ==========\n",
      "inrgresan 965 personas a la instituación\n",
      "posibles infectados con corte en el día: 59\n",
      "========== DÍA 3 ==========\n",
      "inrgresan 951 personas a la instituación\n",
      "posibles infectados con corte en el día: 73\n",
      "========== DÍA 4 ==========\n",
      "inrgresan 937 personas a la instituación\n",
      "posibles infectados con corte en el día: 92\n",
      "========== DÍA 5 ==========\n",
      "inrgresan 918 personas a la instituación\n",
      "posibles infectados con corte en el día: 108\n",
      "========== DÍA 6 ==========\n",
      "inrgresan 902 personas a la instituación\n",
      "posibles infectados con corte en el día: 121\n",
      "========== DÍA 7 ==========\n",
      "inrgresan 889 personas a la instituación\n",
      "posibles infectados con corte en el día: 148\n",
      "========== DÍA 8 ==========\n",
      "inrgresan 862 personas a la instituación\n",
      "posibles infectados con corte en el día: 161\n",
      "========== DÍA 9 ==========\n",
      "inrgresan 849 personas a la instituación\n",
      "posibles infectados con corte en el día: 181\n",
      "========== DÍA 10 ==========\n",
      "inrgresan 829 personas a la instituación\n",
      "posibles infectados con corte en el día: 194\n",
      "========== DÍA 11 ==========\n",
      "inrgresan 816 personas a la instituación\n",
      "posibles infectados con corte en el día: 205\n",
      "========== DÍA 12 ==========\n",
      "inrgresan 805 personas a la instituación\n",
      "posibles infectados con corte en el día: 221\n",
      "========== DÍA 13 ==========\n",
      "inrgresan 789 personas a la instituación\n",
      "posibles infectados con corte en el día: 242\n",
      "========== DÍA 14 ==========\n",
      "inrgresan 768 personas a la instituación\n",
      "posibles infectados con corte en el día: 260\n",
      "========== DÍA 15 ==========\n",
      "inrgresan 750 personas a la instituación\n",
      "posibles infectados con corte en el día: 274\n",
      "========== DÍA 16 ==========\n",
      "inrgresan 736 personas a la instituación\n",
      "posibles infectados con corte en el día: 285\n",
      "========== DÍA 17 ==========\n",
      "inrgresan 725 personas a la instituación\n",
      "posibles infectados con corte en el día: 293\n",
      "========== DÍA 18 ==========\n",
      "inrgresan 717 personas a la instituación\n",
      "posibles infectados con corte en el día: 306\n",
      "========== DÍA 19 ==========\n",
      "inrgresan 704 personas a la instituación\n",
      "posibles infectados con corte en el día: 320\n",
      "========== DÍA 20 ==========\n",
      "inrgresan 690 personas a la instituación\n",
      "posibles infectados con corte en el día: 335\n",
      "========== DÍA 21 ==========\n",
      "inrgresan 675 personas a la instituación\n",
      "posibles infectados con corte en el día: 350\n",
      "========== DÍA 22 ==========\n",
      "inrgresan 660 personas a la instituación\n",
      "posibles infectados con corte en el día: 357\n",
      "========== DÍA 23 ==========\n",
      "inrgresan 653 personas a la instituación\n",
      "posibles infectados con corte en el día: 372\n",
      "========== DÍA 24 ==========\n",
      "inrgresan 638 personas a la instituación\n",
      "posibles infectados con corte en el día: 387\n",
      "========== DÍA 25 ==========\n",
      "inrgresan 623 personas a la instituación\n",
      "posibles infectados con corte en el día: 398\n",
      "========== DÍA 26 ==========\n",
      "inrgresan 612 personas a la instituación\n",
      "posibles infectados con corte en el día: 408\n",
      "========== DÍA 27 ==========\n",
      "inrgresan 602 personas a la instituación\n",
      "posibles infectados con corte en el día: 419\n",
      "========== DÍA 28 ==========\n",
      "inrgresan 591 personas a la instituación\n",
      "posibles infectados con corte en el día: 427\n",
      "========== DÍA 29 ==========\n",
      "inrgresan 583 personas a la instituación\n",
      "posibles infectados con corte en el día: 439\n",
      "========== DÍA 30 ==========\n",
      "inrgresan 571 personas a la instituación\n",
      "posibles infectados con corte en el día: 450\n",
      "========== DÍA 31 ==========\n",
      "se tomo una muestra de: 101 para prueba PCR\n",
      "infectados confirmados: 3\n"
     ]
    }
   ],
   "source": [
    "DIAS=0\n",
    "while (DIAS<=31):\n",
    "    print(\"=\"*10,'DÍA {}'.format(DIAS),\"=\"*10)\n",
    "    env = simpy.Environment()\n",
    "    simulacion = Simulacion()\n",
    "    env.process(simulacion.ejecutar_simulacion(env,filtrar_posibles_contagios()))\n",
    "    env.run(until=TIEMPO_SIMULACION)\n",
    "    if(DIAS==31):\n",
    "        print('infectados confirmados: {}'.format(len([i for i in LISTA_PERSONAS.items() if i[1].infectado ==2]))) \n",
    "    else:\n",
    "        print('posibles infectados con corte en el día: {}'.format(len([i for i in LISTA_PERSONAS.items() if i[1].infectado ==1])))\n",
    "    DIAS+=1"
   ]
  },
  {
   "cell_type": "markdown",
   "id": "8a13d599",
   "metadata": {},
   "source": [
    "# Reportes\n",
    "\n",
    "En esta sección se realiza un reporte para resumir la información de la simulación y analizar resultados"
   ]
  },
  {
   "cell_type": "code",
   "execution_count": 14,
   "id": "78e90ce4",
   "metadata": {},
   "outputs": [
    {
     "data": {
      "text/html": [
       "        <script type=\"text/javascript\">\n",
       "        window.PlotlyConfig = {MathJaxConfig: 'local'};\n",
       "        if (window.MathJax) {MathJax.Hub.Config({SVG: {font: \"STIX-Web\"}});}\n",
       "        if (typeof require !== 'undefined') {\n",
       "        require.undef(\"plotly\");\n",
       "        requirejs.config({\n",
       "            paths: {\n",
       "                'plotly': ['https://cdn.plot.ly/plotly-latest.min']\n",
       "            }\n",
       "        });\n",
       "        require(['plotly'], function(Plotly) {\n",
       "            window._Plotly = Plotly;\n",
       "        });\n",
       "        }\n",
       "        </script>\n",
       "        "
      ]
     },
     "metadata": {},
     "output_type": "display_data"
    }
   ],
   "source": [
    "import altair as alt\n",
    "import pandas as pd\n",
    "import plotly.express as px\n",
    "import plotly\n",
    "plotly.offline.init_notebook_mode(connected=True)"
   ]
  },
  {
   "cell_type": "markdown",
   "id": "f140e2a9",
   "metadata": {},
   "source": [
    "## Estadísticas generales"
   ]
  },
  {
   "cell_type": "code",
   "execution_count": 9,
   "id": "7dc32b3c",
   "metadata": {},
   "outputs": [
    {
     "name": "stdout",
     "output_type": "stream",
     "text": [
      "Número total de personas en la institución: 1010\n",
      "Número total de estudiantes: 972\n",
      "Número total de maestros: 38\n",
      "Número total de personas con posible contagio: 448\n",
      "Número total de personas contagiadas confirmadas: 3\n",
      "Cursos que se cierran: ['noveno_C', 'segundo_D', 'tercero_A']\n"
     ]
    }
   ],
   "source": [
    "print('Número total de personas en la institución: {}'.format(len(LISTA_PERSONAS)))\n",
    "print('Número total de estudiantes: {}'.format(len(LISTA_ESTUDIANTES)))\n",
    "print('Número total de maestros: {}'.format(len(LISTA_MAESTROS)))\n",
    "print('Número total de personas con posible contagio: {}'.format(len([i for i in LISTA_PERSONAS.items() if i[1].infectado ==1])))\n",
    "print('Número total de personas contagiadas confirmadas: {}'.format(len([i for i in LISTA_PERSONAS.items() if i[1].infectado ==2])))\n",
    "print('Cursos que se cierran: {}'.format(list(pd.DataFrame([i[1].curso for i in LISTA_PERSONAS.items() if i[1].infectado ==2],columns=['cursos'])['cursos'].unique())))\n"
   ]
  },
  {
   "cell_type": "markdown",
   "id": "50c007b6",
   "metadata": {},
   "source": [
    "## Estudiantes y docentes que entran y salen al fin del mes"
   ]
  },
  {
   "cell_type": "code",
   "execution_count": 10,
   "id": "f8d9d4f8",
   "metadata": {
    "hide_input": false,
    "scrolled": true
   },
   "outputs": [
    {
     "data": {
      "text/html": [
       "<div>\n",
       "<style scoped>\n",
       "    .dataframe tbody tr th:only-of-type {\n",
       "        vertical-align: middle;\n",
       "    }\n",
       "\n",
       "    .dataframe tbody tr th {\n",
       "        vertical-align: top;\n",
       "    }\n",
       "\n",
       "    .dataframe thead th {\n",
       "        text-align: right;\n",
       "    }\n",
       "</style>\n",
       "<table border=\"1\" class=\"dataframe\">\n",
       "  <thead>\n",
       "    <tr style=\"text-align: right;\">\n",
       "      <th></th>\n",
       "      <th>description</th>\n",
       "      <th>value</th>\n",
       "    </tr>\n",
       "  </thead>\n",
       "  <tbody>\n",
       "    <tr>\n",
       "      <th>0</th>\n",
       "      <td>no infectados</td>\n",
       "      <td>25</td>\n",
       "    </tr>\n",
       "    <tr>\n",
       "      <th>1</th>\n",
       "      <td>posibles infectados</td>\n",
       "      <td>13</td>\n",
       "    </tr>\n",
       "    <tr>\n",
       "      <th>2</th>\n",
       "      <td>infectados</td>\n",
       "      <td>0</td>\n",
       "    </tr>\n",
       "  </tbody>\n",
       "</table>\n",
       "</div>"
      ],
      "text/plain": [
       "           description  value\n",
       "0        no infectados     25\n",
       "1  posibles infectados     13\n",
       "2           infectados      0"
      ]
     },
     "execution_count": 10,
     "metadata": {},
     "output_type": "execute_result"
    }
   ],
   "source": [
    "filtrado_estudiantes = {}\n",
    "filtrado_maestros    = {}\n",
    "for i in LISTA_PERSONAS.items():\n",
    "    if(i[0].find('maestro')!=-1):\n",
    "        filtrado_maestros[i[0]]=i[1]\n",
    "    else:\n",
    "        filtrado_estudiantes[i[0]]=i[1]\n",
    "\n",
    "no_infectados = 0\n",
    "infectados    = 0\n",
    "po_infectados = 0\n",
    "for i in filtrado_maestros.items():\n",
    "    if i[1].infectado==1:\n",
    "        po_infectados+=1\n",
    "    elif i[1].infectado==2:\n",
    "        infectados+=1\n",
    "    else:\n",
    "        no_infectados+=1\n",
    "df_maestro = pd.DataFrame([('no infectados',no_infectados),('posibles infectados',po_infectados),\n",
    "                          ('infectados',infectados)],columns=['description','value'])\n",
    "df_maestro"
   ]
  },
  {
   "cell_type": "code",
   "execution_count": 11,
   "id": "2236bd47",
   "metadata": {},
   "outputs": [
    {
     "data": {
      "text/html": [
       "<div>\n",
       "<style scoped>\n",
       "    .dataframe tbody tr th:only-of-type {\n",
       "        vertical-align: middle;\n",
       "    }\n",
       "\n",
       "    .dataframe tbody tr th {\n",
       "        vertical-align: top;\n",
       "    }\n",
       "\n",
       "    .dataframe thead th {\n",
       "        text-align: right;\n",
       "    }\n",
       "</style>\n",
       "<table border=\"1\" class=\"dataframe\">\n",
       "  <thead>\n",
       "    <tr style=\"text-align: right;\">\n",
       "      <th></th>\n",
       "      <th>description</th>\n",
       "      <th>value</th>\n",
       "    </tr>\n",
       "  </thead>\n",
       "  <tbody>\n",
       "    <tr>\n",
       "      <th>0</th>\n",
       "      <td>no infectados</td>\n",
       "      <td>534</td>\n",
       "    </tr>\n",
       "    <tr>\n",
       "      <th>1</th>\n",
       "      <td>posibles infectados</td>\n",
       "      <td>435</td>\n",
       "    </tr>\n",
       "    <tr>\n",
       "      <th>2</th>\n",
       "      <td>infectados</td>\n",
       "      <td>3</td>\n",
       "    </tr>\n",
       "  </tbody>\n",
       "</table>\n",
       "</div>"
      ],
      "text/plain": [
       "           description  value\n",
       "0        no infectados    534\n",
       "1  posibles infectados    435\n",
       "2           infectados      3"
      ]
     },
     "execution_count": 11,
     "metadata": {},
     "output_type": "execute_result"
    }
   ],
   "source": [
    "no_infectados = 0\n",
    "infectados    = 0\n",
    "po_infectados = 0\n",
    "for i in filtrado_estudiantes.items():\n",
    "    if i[1].infectado==1:\n",
    "        po_infectados+=1\n",
    "    elif i[1].infectado==2:\n",
    "        infectados+=1\n",
    "    else:\n",
    "        no_infectados+=1\n",
    "df_estudiantes = pd.DataFrame([('no infectados',no_infectados),('posibles infectados',po_infectados),\n",
    "                          ('infectados',infectados)],columns=['description','value'])\n",
    "df_estudiantes"
   ]
  },
  {
   "cell_type": "code",
   "execution_count": 12,
   "id": "8fd29b88",
   "metadata": {},
   "outputs": [
    {
     "data": {
      "text/html": [
       "\n",
       "<div id=\"altair-viz-d1482310e0bf4ab5afc1b6fa479476dd\"></div>\n",
       "<script type=\"text/javascript\">\n",
       "  (function(spec, embedOpt){\n",
       "    let outputDiv = document.currentScript.previousElementSibling;\n",
       "    if (outputDiv.id !== \"altair-viz-d1482310e0bf4ab5afc1b6fa479476dd\") {\n",
       "      outputDiv = document.getElementById(\"altair-viz-d1482310e0bf4ab5afc1b6fa479476dd\");\n",
       "    }\n",
       "    const paths = {\n",
       "      \"vega\": \"https://cdn.jsdelivr.net/npm//vega@5?noext\",\n",
       "      \"vega-lib\": \"https://cdn.jsdelivr.net/npm//vega-lib?noext\",\n",
       "      \"vega-lite\": \"https://cdn.jsdelivr.net/npm//vega-lite@4.8.1?noext\",\n",
       "      \"vega-embed\": \"https://cdn.jsdelivr.net/npm//vega-embed@6?noext\",\n",
       "    };\n",
       "\n",
       "    function loadScript(lib) {\n",
       "      return new Promise(function(resolve, reject) {\n",
       "        var s = document.createElement('script');\n",
       "        s.src = paths[lib];\n",
       "        s.async = true;\n",
       "        s.onload = () => resolve(paths[lib]);\n",
       "        s.onerror = () => reject(`Error loading script: ${paths[lib]}`);\n",
       "        document.getElementsByTagName(\"head\")[0].appendChild(s);\n",
       "      });\n",
       "    }\n",
       "\n",
       "    function showError(err) {\n",
       "      outputDiv.innerHTML = `<div class=\"error\" style=\"color:red;\">${err}</div>`;\n",
       "      throw err;\n",
       "    }\n",
       "\n",
       "    function displayChart(vegaEmbed) {\n",
       "      vegaEmbed(outputDiv, spec, embedOpt)\n",
       "        .catch(err => showError(`Javascript Error: ${err.message}<br>This usually means there's a typo in your chart specification. See the javascript console for the full traceback.`));\n",
       "    }\n",
       "\n",
       "    if(typeof define === \"function\" && define.amd) {\n",
       "      requirejs.config({paths});\n",
       "      require([\"vega-embed\"], displayChart, err => showError(`Error loading script: ${err.message}`));\n",
       "    } else if (typeof vegaEmbed === \"function\") {\n",
       "      displayChart(vegaEmbed);\n",
       "    } else {\n",
       "      loadScript(\"vega\")\n",
       "        .then(() => loadScript(\"vega-lite\"))\n",
       "        .then(() => loadScript(\"vega-embed\"))\n",
       "        .catch(showError)\n",
       "        .then(() => displayChart(vegaEmbed));\n",
       "    }\n",
       "  })({\"config\": {\"view\": {\"continuousWidth\": 400, \"continuousHeight\": 300}}, \"vconcat\": [{\"data\": {\"name\": \"data-9ae1315089cfe95b8f370570bb3e48c7\"}, \"mark\": \"bar\", \"encoding\": {\"color\": {\"condition\": {\"value\": \"red\", \"test\": \"(datum.value === 534)\"}, \"value\": \"lightgrey\"}, \"x\": {\"type\": \"quantitative\", \"field\": \"value\", \"title\": \"cantidad\"}, \"y\": {\"type\": \"nominal\", \"field\": \"description\", \"sort\": {\"field\": \"value\", \"order\": \"ascending\"}, \"title\": \"descripci\\u00f3n\"}}, \"title\": \"Estudiantes contagiados/ no contagiados / posibles contagiados\"}, {\"data\": {\"name\": \"data-34be4f1eaf1ead5a9b363a69989e1619\"}, \"mark\": \"bar\", \"encoding\": {\"color\": {\"condition\": {\"value\": \"red\", \"test\": \"(datum.value === 25)\"}, \"value\": \"lightgrey\"}, \"x\": {\"type\": \"quantitative\", \"field\": \"value\", \"title\": \"cantidad\"}, \"y\": {\"type\": \"nominal\", \"field\": \"description\", \"sort\": {\"field\": \"value\", \"order\": \"ascending\"}, \"title\": \"descripci\\u00f3n\"}}, \"title\": \"Maestros contagiados/ no contagiados / posibles contagiados\"}], \"$schema\": \"https://vega.github.io/schema/vega-lite/v4.8.1.json\", \"datasets\": {\"data-9ae1315089cfe95b8f370570bb3e48c7\": [{\"description\": \"no infectados\", \"value\": 534}, {\"description\": \"posibles infectados\", \"value\": 435}, {\"description\": \"infectados\", \"value\": 3}], \"data-34be4f1eaf1ead5a9b363a69989e1619\": [{\"description\": \"no infectados\", \"value\": 25}, {\"description\": \"posibles infectados\", \"value\": 13}, {\"description\": \"infectados\", \"value\": 0}]}}, {\"mode\": \"vega-lite\"});\n",
       "</script>"
      ],
      "text/plain": [
       "alt.VConcatChart(...)"
      ]
     },
     "execution_count": 12,
     "metadata": {},
     "output_type": "execute_result"
    }
   ],
   "source": [
    "alt.Chart(df_estudiantes).mark_bar().encode(\n",
    "    y=alt.Y('description',sort=alt.EncodingSortField(field=\"value\",order='ascending'),title='descripción'),\n",
    "    x=alt.X('value',title='cantidad'),\n",
    "    color= alt.condition(\n",
    "            alt.datum.value == max(df_estudiantes['value']),\n",
    "            alt.value('red'),    \n",
    "            alt.value('lightgrey')\n",
    "            )\n",
    ").properties(\n",
    "    title='Estudiantes contagiados/ no contagiados / posibles contagiados'\n",
    ")&alt.Chart(df_maestro).mark_bar().encode(\n",
    "    y=alt.Y('description',sort=alt.EncodingSortField(field=\"value\",order='ascending'),title='descripción'),\n",
    "    x=alt.X('value',title='cantidad'),\n",
    "    color= alt.condition(\n",
    "            alt.datum.value == max(df_maestro['value']),\n",
    "            alt.value('red'),    \n",
    "            alt.value('lightgrey')\n",
    "            )\n",
    ").properties(title='Maestros contagiados/ no contagiados / posibles contagiados')"
   ]
  },
  {
   "cell_type": "code",
   "execution_count": 13,
   "id": "f20b0e00",
   "metadata": {},
   "outputs": [
    {
     "name": "stdout",
     "output_type": "stream",
     "text": [
      "Al final del mes salen un total de : 13 maestros\n",
      "Al final del mes salen un total de : 438 estudiantes\n"
     ]
    }
   ],
   "source": [
    "print('Al final del mes salen un total de : {} maestros'.format(df_maestro[1:3]['value'].sum()))\n",
    "print('Al final del mes salen un total de : {} estudiantes'.format(df_estudiantes[1:3]['value'].sum()))"
   ]
  },
  {
   "cell_type": "markdown",
   "id": "7b05d97e",
   "metadata": {},
   "source": [
    "## Porcentaje de contagiados / no contagiados / posibles contagiados en la institución"
   ]
  },
  {
   "cell_type": "code",
   "execution_count": 15,
   "id": "48b55e6b",
   "metadata": {},
   "outputs": [],
   "source": [
    "no_infectados = 0\n",
    "infectados    = 0\n",
    "po_infectados = 0\n",
    "for i in LISTA_PERSONAS.items():\n",
    "    if i[1].infectado==1:\n",
    "        po_infectados+=1\n",
    "    elif i[1].infectado==2:\n",
    "        infectados+=1\n",
    "    else:\n",
    "        no_infectados+=1\n",
    "\n",
    "df_general = pd.DataFrame([('no infectados',no_infectados/len(LISTA_PERSONAS)),\n",
    "                           ('posibles infectados',po_infectados/len(LISTA_PERSONAS)),\n",
    "                          ('infectados',infectados/len(LISTA_PERSONAS))],columns=['description','value'])"
   ]
  },
  {
   "cell_type": "code",
   "execution_count": 16,
   "id": "d94d133a",
   "metadata": {},
   "outputs": [
    {
     "data": {
      "text/html": [
       "<div>\n",
       "<style scoped>\n",
       "    .dataframe tbody tr th:only-of-type {\n",
       "        vertical-align: middle;\n",
       "    }\n",
       "\n",
       "    .dataframe tbody tr th {\n",
       "        vertical-align: top;\n",
       "    }\n",
       "\n",
       "    .dataframe thead th {\n",
       "        text-align: right;\n",
       "    }\n",
       "</style>\n",
       "<table border=\"1\" class=\"dataframe\">\n",
       "  <thead>\n",
       "    <tr style=\"text-align: right;\">\n",
       "      <th></th>\n",
       "      <th>description</th>\n",
       "      <th>value</th>\n",
       "    </tr>\n",
       "  </thead>\n",
       "  <tbody>\n",
       "    <tr>\n",
       "      <th>0</th>\n",
       "      <td>no infectados</td>\n",
       "      <td>0.553465</td>\n",
       "    </tr>\n",
       "    <tr>\n",
       "      <th>1</th>\n",
       "      <td>posibles infectados</td>\n",
       "      <td>0.443564</td>\n",
       "    </tr>\n",
       "    <tr>\n",
       "      <th>2</th>\n",
       "      <td>infectados</td>\n",
       "      <td>0.002970</td>\n",
       "    </tr>\n",
       "  </tbody>\n",
       "</table>\n",
       "</div>"
      ],
      "text/plain": [
       "           description     value\n",
       "0        no infectados  0.553465\n",
       "1  posibles infectados  0.443564\n",
       "2           infectados  0.002970"
      ]
     },
     "execution_count": 16,
     "metadata": {},
     "output_type": "execute_result"
    }
   ],
   "source": [
    "df_general"
   ]
  },
  {
   "cell_type": "code",
   "execution_count": 18,
   "id": "9fe3d381",
   "metadata": {},
   "outputs": [
    {
     "data": {
      "application/vnd.plotly.v1+json": {
       "config": {
        "plotlyServerURL": "https://plot.ly"
       },
       "data": [
        {
         "domain": {
          "x": [
           0,
           1
          ],
          "y": [
           0,
           1
          ]
         },
         "hovertemplate": "description=%{label}<br>value=%{value}<extra></extra>",
         "labels": [
          "no infectados",
          "posibles infectados",
          "infectados"
         ],
         "legendgroup": "",
         "name": "",
         "showlegend": true,
         "type": "pie",
         "values": [
          0.5534653465346535,
          0.44356435643564357,
          0.0029702970297029703
         ]
        }
       ],
       "layout": {
        "height": 500,
        "legend": {
         "tracegroupgap": 0
        },
        "margin": {
         "t": 60
        },
        "piecolorway": [
         "red",
         "lightgrey",
         "darkgrey"
        ],
        "template": {
         "data": {
          "bar": [
           {
            "error_x": {
             "color": "#2a3f5f"
            },
            "error_y": {
             "color": "#2a3f5f"
            },
            "marker": {
             "line": {
              "color": "#E5ECF6",
              "width": 0.5
             }
            },
            "type": "bar"
           }
          ],
          "barpolar": [
           {
            "marker": {
             "line": {
              "color": "#E5ECF6",
              "width": 0.5
             }
            },
            "type": "barpolar"
           }
          ],
          "carpet": [
           {
            "aaxis": {
             "endlinecolor": "#2a3f5f",
             "gridcolor": "white",
             "linecolor": "white",
             "minorgridcolor": "white",
             "startlinecolor": "#2a3f5f"
            },
            "baxis": {
             "endlinecolor": "#2a3f5f",
             "gridcolor": "white",
             "linecolor": "white",
             "minorgridcolor": "white",
             "startlinecolor": "#2a3f5f"
            },
            "type": "carpet"
           }
          ],
          "choropleth": [
           {
            "colorbar": {
             "outlinewidth": 0,
             "ticks": ""
            },
            "type": "choropleth"
           }
          ],
          "contour": [
           {
            "colorbar": {
             "outlinewidth": 0,
             "ticks": ""
            },
            "colorscale": [
             [
              0,
              "#0d0887"
             ],
             [
              0.1111111111111111,
              "#46039f"
             ],
             [
              0.2222222222222222,
              "#7201a8"
             ],
             [
              0.3333333333333333,
              "#9c179e"
             ],
             [
              0.4444444444444444,
              "#bd3786"
             ],
             [
              0.5555555555555556,
              "#d8576b"
             ],
             [
              0.6666666666666666,
              "#ed7953"
             ],
             [
              0.7777777777777778,
              "#fb9f3a"
             ],
             [
              0.8888888888888888,
              "#fdca26"
             ],
             [
              1,
              "#f0f921"
             ]
            ],
            "type": "contour"
           }
          ],
          "contourcarpet": [
           {
            "colorbar": {
             "outlinewidth": 0,
             "ticks": ""
            },
            "type": "contourcarpet"
           }
          ],
          "heatmap": [
           {
            "colorbar": {
             "outlinewidth": 0,
             "ticks": ""
            },
            "colorscale": [
             [
              0,
              "#0d0887"
             ],
             [
              0.1111111111111111,
              "#46039f"
             ],
             [
              0.2222222222222222,
              "#7201a8"
             ],
             [
              0.3333333333333333,
              "#9c179e"
             ],
             [
              0.4444444444444444,
              "#bd3786"
             ],
             [
              0.5555555555555556,
              "#d8576b"
             ],
             [
              0.6666666666666666,
              "#ed7953"
             ],
             [
              0.7777777777777778,
              "#fb9f3a"
             ],
             [
              0.8888888888888888,
              "#fdca26"
             ],
             [
              1,
              "#f0f921"
             ]
            ],
            "type": "heatmap"
           }
          ],
          "heatmapgl": [
           {
            "colorbar": {
             "outlinewidth": 0,
             "ticks": ""
            },
            "colorscale": [
             [
              0,
              "#0d0887"
             ],
             [
              0.1111111111111111,
              "#46039f"
             ],
             [
              0.2222222222222222,
              "#7201a8"
             ],
             [
              0.3333333333333333,
              "#9c179e"
             ],
             [
              0.4444444444444444,
              "#bd3786"
             ],
             [
              0.5555555555555556,
              "#d8576b"
             ],
             [
              0.6666666666666666,
              "#ed7953"
             ],
             [
              0.7777777777777778,
              "#fb9f3a"
             ],
             [
              0.8888888888888888,
              "#fdca26"
             ],
             [
              1,
              "#f0f921"
             ]
            ],
            "type": "heatmapgl"
           }
          ],
          "histogram": [
           {
            "marker": {
             "colorbar": {
              "outlinewidth": 0,
              "ticks": ""
             }
            },
            "type": "histogram"
           }
          ],
          "histogram2d": [
           {
            "colorbar": {
             "outlinewidth": 0,
             "ticks": ""
            },
            "colorscale": [
             [
              0,
              "#0d0887"
             ],
             [
              0.1111111111111111,
              "#46039f"
             ],
             [
              0.2222222222222222,
              "#7201a8"
             ],
             [
              0.3333333333333333,
              "#9c179e"
             ],
             [
              0.4444444444444444,
              "#bd3786"
             ],
             [
              0.5555555555555556,
              "#d8576b"
             ],
             [
              0.6666666666666666,
              "#ed7953"
             ],
             [
              0.7777777777777778,
              "#fb9f3a"
             ],
             [
              0.8888888888888888,
              "#fdca26"
             ],
             [
              1,
              "#f0f921"
             ]
            ],
            "type": "histogram2d"
           }
          ],
          "histogram2dcontour": [
           {
            "colorbar": {
             "outlinewidth": 0,
             "ticks": ""
            },
            "colorscale": [
             [
              0,
              "#0d0887"
             ],
             [
              0.1111111111111111,
              "#46039f"
             ],
             [
              0.2222222222222222,
              "#7201a8"
             ],
             [
              0.3333333333333333,
              "#9c179e"
             ],
             [
              0.4444444444444444,
              "#bd3786"
             ],
             [
              0.5555555555555556,
              "#d8576b"
             ],
             [
              0.6666666666666666,
              "#ed7953"
             ],
             [
              0.7777777777777778,
              "#fb9f3a"
             ],
             [
              0.8888888888888888,
              "#fdca26"
             ],
             [
              1,
              "#f0f921"
             ]
            ],
            "type": "histogram2dcontour"
           }
          ],
          "mesh3d": [
           {
            "colorbar": {
             "outlinewidth": 0,
             "ticks": ""
            },
            "type": "mesh3d"
           }
          ],
          "parcoords": [
           {
            "line": {
             "colorbar": {
              "outlinewidth": 0,
              "ticks": ""
             }
            },
            "type": "parcoords"
           }
          ],
          "pie": [
           {
            "automargin": true,
            "type": "pie"
           }
          ],
          "scatter": [
           {
            "marker": {
             "colorbar": {
              "outlinewidth": 0,
              "ticks": ""
             }
            },
            "type": "scatter"
           }
          ],
          "scatter3d": [
           {
            "line": {
             "colorbar": {
              "outlinewidth": 0,
              "ticks": ""
             }
            },
            "marker": {
             "colorbar": {
              "outlinewidth": 0,
              "ticks": ""
             }
            },
            "type": "scatter3d"
           }
          ],
          "scattercarpet": [
           {
            "marker": {
             "colorbar": {
              "outlinewidth": 0,
              "ticks": ""
             }
            },
            "type": "scattercarpet"
           }
          ],
          "scattergeo": [
           {
            "marker": {
             "colorbar": {
              "outlinewidth": 0,
              "ticks": ""
             }
            },
            "type": "scattergeo"
           }
          ],
          "scattergl": [
           {
            "marker": {
             "colorbar": {
              "outlinewidth": 0,
              "ticks": ""
             }
            },
            "type": "scattergl"
           }
          ],
          "scattermapbox": [
           {
            "marker": {
             "colorbar": {
              "outlinewidth": 0,
              "ticks": ""
             }
            },
            "type": "scattermapbox"
           }
          ],
          "scatterpolar": [
           {
            "marker": {
             "colorbar": {
              "outlinewidth": 0,
              "ticks": ""
             }
            },
            "type": "scatterpolar"
           }
          ],
          "scatterpolargl": [
           {
            "marker": {
             "colorbar": {
              "outlinewidth": 0,
              "ticks": ""
             }
            },
            "type": "scatterpolargl"
           }
          ],
          "scatterternary": [
           {
            "marker": {
             "colorbar": {
              "outlinewidth": 0,
              "ticks": ""
             }
            },
            "type": "scatterternary"
           }
          ],
          "surface": [
           {
            "colorbar": {
             "outlinewidth": 0,
             "ticks": ""
            },
            "colorscale": [
             [
              0,
              "#0d0887"
             ],
             [
              0.1111111111111111,
              "#46039f"
             ],
             [
              0.2222222222222222,
              "#7201a8"
             ],
             [
              0.3333333333333333,
              "#9c179e"
             ],
             [
              0.4444444444444444,
              "#bd3786"
             ],
             [
              0.5555555555555556,
              "#d8576b"
             ],
             [
              0.6666666666666666,
              "#ed7953"
             ],
             [
              0.7777777777777778,
              "#fb9f3a"
             ],
             [
              0.8888888888888888,
              "#fdca26"
             ],
             [
              1,
              "#f0f921"
             ]
            ],
            "type": "surface"
           }
          ],
          "table": [
           {
            "cells": {
             "fill": {
              "color": "#EBF0F8"
             },
             "line": {
              "color": "white"
             }
            },
            "header": {
             "fill": {
              "color": "#C8D4E3"
             },
             "line": {
              "color": "white"
             }
            },
            "type": "table"
           }
          ]
         },
         "layout": {
          "annotationdefaults": {
           "arrowcolor": "#2a3f5f",
           "arrowhead": 0,
           "arrowwidth": 1
          },
          "autotypenumbers": "strict",
          "coloraxis": {
           "colorbar": {
            "outlinewidth": 0,
            "ticks": ""
           }
          },
          "colorscale": {
           "diverging": [
            [
             0,
             "#8e0152"
            ],
            [
             0.1,
             "#c51b7d"
            ],
            [
             0.2,
             "#de77ae"
            ],
            [
             0.3,
             "#f1b6da"
            ],
            [
             0.4,
             "#fde0ef"
            ],
            [
             0.5,
             "#f7f7f7"
            ],
            [
             0.6,
             "#e6f5d0"
            ],
            [
             0.7,
             "#b8e186"
            ],
            [
             0.8,
             "#7fbc41"
            ],
            [
             0.9,
             "#4d9221"
            ],
            [
             1,
             "#276419"
            ]
           ],
           "sequential": [
            [
             0,
             "#0d0887"
            ],
            [
             0.1111111111111111,
             "#46039f"
            ],
            [
             0.2222222222222222,
             "#7201a8"
            ],
            [
             0.3333333333333333,
             "#9c179e"
            ],
            [
             0.4444444444444444,
             "#bd3786"
            ],
            [
             0.5555555555555556,
             "#d8576b"
            ],
            [
             0.6666666666666666,
             "#ed7953"
            ],
            [
             0.7777777777777778,
             "#fb9f3a"
            ],
            [
             0.8888888888888888,
             "#fdca26"
            ],
            [
             1,
             "#f0f921"
            ]
           ],
           "sequentialminus": [
            [
             0,
             "#0d0887"
            ],
            [
             0.1111111111111111,
             "#46039f"
            ],
            [
             0.2222222222222222,
             "#7201a8"
            ],
            [
             0.3333333333333333,
             "#9c179e"
            ],
            [
             0.4444444444444444,
             "#bd3786"
            ],
            [
             0.5555555555555556,
             "#d8576b"
            ],
            [
             0.6666666666666666,
             "#ed7953"
            ],
            [
             0.7777777777777778,
             "#fb9f3a"
            ],
            [
             0.8888888888888888,
             "#fdca26"
            ],
            [
             1,
             "#f0f921"
            ]
           ]
          },
          "colorway": [
           "#636efa",
           "#EF553B",
           "#00cc96",
           "#ab63fa",
           "#FFA15A",
           "#19d3f3",
           "#FF6692",
           "#B6E880",
           "#FF97FF",
           "#FECB52"
          ],
          "font": {
           "color": "#2a3f5f"
          },
          "geo": {
           "bgcolor": "white",
           "lakecolor": "white",
           "landcolor": "#E5ECF6",
           "showlakes": true,
           "showland": true,
           "subunitcolor": "white"
          },
          "hoverlabel": {
           "align": "left"
          },
          "hovermode": "closest",
          "mapbox": {
           "style": "light"
          },
          "paper_bgcolor": "white",
          "plot_bgcolor": "#E5ECF6",
          "polar": {
           "angularaxis": {
            "gridcolor": "white",
            "linecolor": "white",
            "ticks": ""
           },
           "bgcolor": "#E5ECF6",
           "radialaxis": {
            "gridcolor": "white",
            "linecolor": "white",
            "ticks": ""
           }
          },
          "scene": {
           "xaxis": {
            "backgroundcolor": "#E5ECF6",
            "gridcolor": "white",
            "gridwidth": 2,
            "linecolor": "white",
            "showbackground": true,
            "ticks": "",
            "zerolinecolor": "white"
           },
           "yaxis": {
            "backgroundcolor": "#E5ECF6",
            "gridcolor": "white",
            "gridwidth": 2,
            "linecolor": "white",
            "showbackground": true,
            "ticks": "",
            "zerolinecolor": "white"
           },
           "zaxis": {
            "backgroundcolor": "#E5ECF6",
            "gridcolor": "white",
            "gridwidth": 2,
            "linecolor": "white",
            "showbackground": true,
            "ticks": "",
            "zerolinecolor": "white"
           }
          },
          "shapedefaults": {
           "line": {
            "color": "#2a3f5f"
           }
          },
          "ternary": {
           "aaxis": {
            "gridcolor": "white",
            "linecolor": "white",
            "ticks": ""
           },
           "baxis": {
            "gridcolor": "white",
            "linecolor": "white",
            "ticks": ""
           },
           "bgcolor": "#E5ECF6",
           "caxis": {
            "gridcolor": "white",
            "linecolor": "white",
            "ticks": ""
           }
          },
          "title": {
           "x": 0.05
          },
          "xaxis": {
           "automargin": true,
           "gridcolor": "white",
           "linecolor": "white",
           "ticks": "",
           "title": {
            "standoff": 15
           },
           "zerolinecolor": "white",
           "zerolinewidth": 2
          },
          "yaxis": {
           "automargin": true,
           "gridcolor": "white",
           "linecolor": "white",
           "ticks": "",
           "title": {
            "standoff": 15
           },
           "zerolinecolor": "white",
           "zerolinewidth": 2
          }
         }
        },
        "title": {
         "text": "contagiados / no contagiados / posibles contagiados en la institución de la Salle",
         "x": 0.5
        },
        "width": 1000
       }
      },
      "text/html": [
       "<div>                            <div id=\"3ea0019f-93a3-4a19-a01c-e5218c7a42e5\" class=\"plotly-graph-div\" style=\"height:500px; width:1000px;\"></div>            <script type=\"text/javascript\">                require([\"plotly\"], function(Plotly) {                    window.PLOTLYENV=window.PLOTLYENV || {};                                    if (document.getElementById(\"3ea0019f-93a3-4a19-a01c-e5218c7a42e5\")) {                    Plotly.newPlot(                        \"3ea0019f-93a3-4a19-a01c-e5218c7a42e5\",                        [{\"domain\": {\"x\": [0.0, 1.0], \"y\": [0.0, 1.0]}, \"hovertemplate\": \"description=%{label}<br>value=%{value}<extra></extra>\", \"labels\": [\"no infectados\", \"posibles infectados\", \"infectados\"], \"legendgroup\": \"\", \"name\": \"\", \"showlegend\": true, \"type\": \"pie\", \"values\": [0.5534653465346535, 0.44356435643564357, 0.0029702970297029703]}],                        {\"height\": 500, \"legend\": {\"tracegroupgap\": 0}, \"margin\": {\"t\": 60}, \"piecolorway\": [\"red\", \"lightgrey\", \"darkgrey\"], \"template\": {\"data\": {\"bar\": [{\"error_x\": {\"color\": \"#2a3f5f\"}, \"error_y\": {\"color\": \"#2a3f5f\"}, \"marker\": {\"line\": {\"color\": \"#E5ECF6\", \"width\": 0.5}}, \"type\": \"bar\"}], \"barpolar\": [{\"marker\": {\"line\": {\"color\": \"#E5ECF6\", \"width\": 0.5}}, \"type\": \"barpolar\"}], \"carpet\": [{\"aaxis\": {\"endlinecolor\": \"#2a3f5f\", \"gridcolor\": \"white\", \"linecolor\": \"white\", \"minorgridcolor\": \"white\", \"startlinecolor\": \"#2a3f5f\"}, \"baxis\": {\"endlinecolor\": \"#2a3f5f\", \"gridcolor\": \"white\", \"linecolor\": \"white\", \"minorgridcolor\": \"white\", \"startlinecolor\": \"#2a3f5f\"}, \"type\": \"carpet\"}], \"choropleth\": [{\"colorbar\": {\"outlinewidth\": 0, \"ticks\": \"\"}, \"type\": \"choropleth\"}], \"contour\": [{\"colorbar\": {\"outlinewidth\": 0, \"ticks\": \"\"}, \"colorscale\": [[0.0, \"#0d0887\"], [0.1111111111111111, \"#46039f\"], [0.2222222222222222, \"#7201a8\"], [0.3333333333333333, \"#9c179e\"], [0.4444444444444444, \"#bd3786\"], [0.5555555555555556, \"#d8576b\"], [0.6666666666666666, \"#ed7953\"], [0.7777777777777778, \"#fb9f3a\"], [0.8888888888888888, \"#fdca26\"], [1.0, \"#f0f921\"]], \"type\": \"contour\"}], \"contourcarpet\": [{\"colorbar\": {\"outlinewidth\": 0, \"ticks\": \"\"}, \"type\": \"contourcarpet\"}], \"heatmap\": [{\"colorbar\": {\"outlinewidth\": 0, \"ticks\": \"\"}, \"colorscale\": [[0.0, \"#0d0887\"], [0.1111111111111111, \"#46039f\"], [0.2222222222222222, \"#7201a8\"], [0.3333333333333333, \"#9c179e\"], [0.4444444444444444, \"#bd3786\"], [0.5555555555555556, \"#d8576b\"], [0.6666666666666666, \"#ed7953\"], [0.7777777777777778, \"#fb9f3a\"], [0.8888888888888888, \"#fdca26\"], [1.0, \"#f0f921\"]], \"type\": \"heatmap\"}], \"heatmapgl\": [{\"colorbar\": {\"outlinewidth\": 0, \"ticks\": \"\"}, \"colorscale\": [[0.0, \"#0d0887\"], [0.1111111111111111, \"#46039f\"], [0.2222222222222222, \"#7201a8\"], [0.3333333333333333, \"#9c179e\"], [0.4444444444444444, \"#bd3786\"], [0.5555555555555556, \"#d8576b\"], [0.6666666666666666, \"#ed7953\"], [0.7777777777777778, \"#fb9f3a\"], [0.8888888888888888, \"#fdca26\"], [1.0, \"#f0f921\"]], \"type\": \"heatmapgl\"}], \"histogram\": [{\"marker\": {\"colorbar\": {\"outlinewidth\": 0, \"ticks\": \"\"}}, \"type\": \"histogram\"}], \"histogram2d\": [{\"colorbar\": {\"outlinewidth\": 0, \"ticks\": \"\"}, \"colorscale\": [[0.0, \"#0d0887\"], [0.1111111111111111, \"#46039f\"], [0.2222222222222222, \"#7201a8\"], [0.3333333333333333, \"#9c179e\"], [0.4444444444444444, \"#bd3786\"], [0.5555555555555556, \"#d8576b\"], [0.6666666666666666, \"#ed7953\"], [0.7777777777777778, \"#fb9f3a\"], [0.8888888888888888, \"#fdca26\"], [1.0, \"#f0f921\"]], \"type\": \"histogram2d\"}], \"histogram2dcontour\": [{\"colorbar\": {\"outlinewidth\": 0, \"ticks\": \"\"}, \"colorscale\": [[0.0, \"#0d0887\"], [0.1111111111111111, \"#46039f\"], [0.2222222222222222, \"#7201a8\"], [0.3333333333333333, \"#9c179e\"], [0.4444444444444444, \"#bd3786\"], [0.5555555555555556, \"#d8576b\"], [0.6666666666666666, \"#ed7953\"], [0.7777777777777778, \"#fb9f3a\"], [0.8888888888888888, \"#fdca26\"], [1.0, \"#f0f921\"]], \"type\": \"histogram2dcontour\"}], \"mesh3d\": [{\"colorbar\": {\"outlinewidth\": 0, \"ticks\": \"\"}, \"type\": \"mesh3d\"}], \"parcoords\": [{\"line\": {\"colorbar\": {\"outlinewidth\": 0, \"ticks\": \"\"}}, \"type\": \"parcoords\"}], \"pie\": [{\"automargin\": true, \"type\": \"pie\"}], \"scatter\": [{\"marker\": {\"colorbar\": {\"outlinewidth\": 0, \"ticks\": \"\"}}, \"type\": \"scatter\"}], \"scatter3d\": [{\"line\": {\"colorbar\": {\"outlinewidth\": 0, \"ticks\": \"\"}}, \"marker\": {\"colorbar\": {\"outlinewidth\": 0, \"ticks\": \"\"}}, \"type\": \"scatter3d\"}], \"scattercarpet\": [{\"marker\": {\"colorbar\": {\"outlinewidth\": 0, \"ticks\": \"\"}}, \"type\": \"scattercarpet\"}], \"scattergeo\": [{\"marker\": {\"colorbar\": {\"outlinewidth\": 0, \"ticks\": \"\"}}, \"type\": \"scattergeo\"}], \"scattergl\": [{\"marker\": {\"colorbar\": {\"outlinewidth\": 0, \"ticks\": \"\"}}, \"type\": \"scattergl\"}], \"scattermapbox\": [{\"marker\": {\"colorbar\": {\"outlinewidth\": 0, \"ticks\": \"\"}}, \"type\": \"scattermapbox\"}], \"scatterpolar\": [{\"marker\": {\"colorbar\": {\"outlinewidth\": 0, \"ticks\": \"\"}}, \"type\": \"scatterpolar\"}], \"scatterpolargl\": [{\"marker\": {\"colorbar\": {\"outlinewidth\": 0, \"ticks\": \"\"}}, \"type\": \"scatterpolargl\"}], \"scatterternary\": [{\"marker\": {\"colorbar\": {\"outlinewidth\": 0, \"ticks\": \"\"}}, \"type\": \"scatterternary\"}], \"surface\": [{\"colorbar\": {\"outlinewidth\": 0, \"ticks\": \"\"}, \"colorscale\": [[0.0, \"#0d0887\"], [0.1111111111111111, \"#46039f\"], [0.2222222222222222, \"#7201a8\"], [0.3333333333333333, \"#9c179e\"], [0.4444444444444444, \"#bd3786\"], [0.5555555555555556, \"#d8576b\"], [0.6666666666666666, \"#ed7953\"], [0.7777777777777778, \"#fb9f3a\"], [0.8888888888888888, \"#fdca26\"], [1.0, \"#f0f921\"]], \"type\": \"surface\"}], \"table\": [{\"cells\": {\"fill\": {\"color\": \"#EBF0F8\"}, \"line\": {\"color\": \"white\"}}, \"header\": {\"fill\": {\"color\": \"#C8D4E3\"}, \"line\": {\"color\": \"white\"}}, \"type\": \"table\"}]}, \"layout\": {\"annotationdefaults\": {\"arrowcolor\": \"#2a3f5f\", \"arrowhead\": 0, \"arrowwidth\": 1}, \"autotypenumbers\": \"strict\", \"coloraxis\": {\"colorbar\": {\"outlinewidth\": 0, \"ticks\": \"\"}}, \"colorscale\": {\"diverging\": [[0, \"#8e0152\"], [0.1, \"#c51b7d\"], [0.2, \"#de77ae\"], [0.3, \"#f1b6da\"], [0.4, \"#fde0ef\"], [0.5, \"#f7f7f7\"], [0.6, \"#e6f5d0\"], [0.7, \"#b8e186\"], [0.8, \"#7fbc41\"], [0.9, \"#4d9221\"], [1, \"#276419\"]], \"sequential\": [[0.0, \"#0d0887\"], [0.1111111111111111, \"#46039f\"], [0.2222222222222222, \"#7201a8\"], [0.3333333333333333, \"#9c179e\"], [0.4444444444444444, \"#bd3786\"], [0.5555555555555556, \"#d8576b\"], [0.6666666666666666, \"#ed7953\"], [0.7777777777777778, \"#fb9f3a\"], [0.8888888888888888, \"#fdca26\"], [1.0, \"#f0f921\"]], \"sequentialminus\": [[0.0, \"#0d0887\"], [0.1111111111111111, \"#46039f\"], [0.2222222222222222, \"#7201a8\"], [0.3333333333333333, \"#9c179e\"], [0.4444444444444444, \"#bd3786\"], [0.5555555555555556, \"#d8576b\"], [0.6666666666666666, \"#ed7953\"], [0.7777777777777778, \"#fb9f3a\"], [0.8888888888888888, \"#fdca26\"], [1.0, \"#f0f921\"]]}, \"colorway\": [\"#636efa\", \"#EF553B\", \"#00cc96\", \"#ab63fa\", \"#FFA15A\", \"#19d3f3\", \"#FF6692\", \"#B6E880\", \"#FF97FF\", \"#FECB52\"], \"font\": {\"color\": \"#2a3f5f\"}, \"geo\": {\"bgcolor\": \"white\", \"lakecolor\": \"white\", \"landcolor\": \"#E5ECF6\", \"showlakes\": true, \"showland\": true, \"subunitcolor\": \"white\"}, \"hoverlabel\": {\"align\": \"left\"}, \"hovermode\": \"closest\", \"mapbox\": {\"style\": \"light\"}, \"paper_bgcolor\": \"white\", \"plot_bgcolor\": \"#E5ECF6\", \"polar\": {\"angularaxis\": {\"gridcolor\": \"white\", \"linecolor\": \"white\", \"ticks\": \"\"}, \"bgcolor\": \"#E5ECF6\", \"radialaxis\": {\"gridcolor\": \"white\", \"linecolor\": \"white\", \"ticks\": \"\"}}, \"scene\": {\"xaxis\": {\"backgroundcolor\": \"#E5ECF6\", \"gridcolor\": \"white\", \"gridwidth\": 2, \"linecolor\": \"white\", \"showbackground\": true, \"ticks\": \"\", \"zerolinecolor\": \"white\"}, \"yaxis\": {\"backgroundcolor\": \"#E5ECF6\", \"gridcolor\": \"white\", \"gridwidth\": 2, \"linecolor\": \"white\", \"showbackground\": true, \"ticks\": \"\", \"zerolinecolor\": \"white\"}, \"zaxis\": {\"backgroundcolor\": \"#E5ECF6\", \"gridcolor\": \"white\", \"gridwidth\": 2, \"linecolor\": \"white\", \"showbackground\": true, \"ticks\": \"\", \"zerolinecolor\": \"white\"}}, \"shapedefaults\": {\"line\": {\"color\": \"#2a3f5f\"}}, \"ternary\": {\"aaxis\": {\"gridcolor\": \"white\", \"linecolor\": \"white\", \"ticks\": \"\"}, \"baxis\": {\"gridcolor\": \"white\", \"linecolor\": \"white\", \"ticks\": \"\"}, \"bgcolor\": \"#E5ECF6\", \"caxis\": {\"gridcolor\": \"white\", \"linecolor\": \"white\", \"ticks\": \"\"}}, \"title\": {\"x\": 0.05}, \"xaxis\": {\"automargin\": true, \"gridcolor\": \"white\", \"linecolor\": \"white\", \"ticks\": \"\", \"title\": {\"standoff\": 15}, \"zerolinecolor\": \"white\", \"zerolinewidth\": 2}, \"yaxis\": {\"automargin\": true, \"gridcolor\": \"white\", \"linecolor\": \"white\", \"ticks\": \"\", \"title\": {\"standoff\": 15}, \"zerolinecolor\": \"white\", \"zerolinewidth\": 2}}}, \"title\": {\"text\": \"contagiados / no contagiados / posibles contagiados en la instituci\\u00f3n de la Salle\", \"x\": 0.5}, \"width\": 1000},                        {\"responsive\": true}                    ).then(function(){\n",
       "                            \n",
       "var gd = document.getElementById('3ea0019f-93a3-4a19-a01c-e5218c7a42e5');\n",
       "var x = new MutationObserver(function (mutations, observer) {{\n",
       "        var display = window.getComputedStyle(gd).display;\n",
       "        if (!display || display === 'none') {{\n",
       "            console.log([gd, 'removed!']);\n",
       "            Plotly.purge(gd);\n",
       "            observer.disconnect();\n",
       "        }}\n",
       "}});\n",
       "\n",
       "// Listen for the removal of the full notebook cells\n",
       "var notebookContainer = gd.closest('#notebook-container');\n",
       "if (notebookContainer) {{\n",
       "    x.observe(notebookContainer, {childList: true});\n",
       "}}\n",
       "\n",
       "// Listen for the clearing of the current output cell\n",
       "var outputEl = gd.closest('.output');\n",
       "if (outputEl) {{\n",
       "    x.observe(outputEl, {childList: true});\n",
       "}}\n",
       "\n",
       "                        })                };                });            </script>        </div>"
      ]
     },
     "metadata": {},
     "output_type": "display_data"
    }
   ],
   "source": [
    "fig = px.pie(df_general, values=\"value\",\n",
    "             names=\"description\", \n",
    "             color_discrete_sequence=['red','lightgrey','darkgrey'],width=1000,height=500)\n",
    "fig.update_layout(title_text='contagiados / no contagiados / posibles contagiados en la institución de la Salle', title_x=0.5)"
   ]
  },
  {
   "cell_type": "markdown",
   "id": "4450788a",
   "metadata": {},
   "source": [
    "# Opinión\n",
    "\n",
    "Después de haber realizado la simulación del proceso de ingreso a clases notamos como los el número de posibles infectados es muy grande, por lo que aunque no se debe cerrar el curso, esos estudiantes no podran asistir a clases presenciales por lo que es necesario que se cumpla con las clases virtuales de igual manera. Tomando en cuenta las estadísticas, es preferible que todavía no se realice un re ingreso a clases por dichos datos. Por otro lado podemos caer en cuenta que las pruebas pcr afirman el contagio, pero en este caso, esa afirmación es un grupo muy pequeño, pero de igual forma así sea pequeño afecta al resto de estudiantes puesto que se debe cerrar el curso de la persona infectada."
   ]
  },
  {
   "cell_type": "markdown",
   "id": "eab68cb3",
   "metadata": {},
   "source": [
    "# Conclusiones\n",
    "\n",
    "Nos damos cuenta que la simulación es una herramienta muy poderosa para poder predecir lo que podría pasar en un evento o en una acción. Es importante recalcar que la simulación debe ir acompañada de buenas gráficas con el fin de entender de mejor manera el comportamiento de la simulación. En caso de que se requiera una simulación en 2D/3D es preferible usar herramientas más avanzadas ya que usar programación para realizar aquello toma mucho tiempo de investigación y de desarrollo, por lo que en este caso se ha optado por no realizar la misma."
   ]
  },
  {
   "cell_type": "markdown",
   "id": "8a2e9001",
   "metadata": {},
   "source": [
    "# Recomendaciones\n",
    "\n",
    "En caso de que se desee realizar modelos 2D/3D utilizando herramientas como pygame, es indispensable un taller de uso de pygame orientado a la simulación con simpy ya que el tiempo es muy importante y el investigar dicho modelado es muy pesado tomando en cuenta el tiempo que el estudiante de último ciclo tiene para la realización del mismo."
   ]
  }
 ],
 "metadata": {
  "@webio": {
   "lastCommId": null,
   "lastKernelId": null
  },
  "hide_input": false,
  "kernelspec": {
   "display_name": "Python 3",
   "language": "python",
   "name": "python3"
  },
  "language_info": {
   "codemirror_mode": {
    "name": "ipython",
    "version": 3
   },
   "file_extension": ".py",
   "mimetype": "text/x-python",
   "name": "python",
   "nbconvert_exporter": "python",
   "pygments_lexer": "ipython3",
   "version": "3.8.3"
  },
  "toc": {
   "base_numbering": 1,
   "nav_menu": {},
   "number_sections": true,
   "sideBar": true,
   "skip_h1_title": false,
   "title_cell": "Table of Contents",
   "title_sidebar": "Contents",
   "toc_cell": false,
   "toc_position": {},
   "toc_section_display": true,
   "toc_window_display": false
  }
 },
 "nbformat": 4,
 "nbformat_minor": 5
}
