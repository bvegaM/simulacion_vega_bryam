{
 "cells": [
  {
   "cell_type": "markdown",
   "metadata": {},
   "source": [
    "<img src=\"https://www.universidades.com.ec/logos/original/logo-universidad-politecnica-salesiana.png\" style=\"margin: 0 auto\"/>"
   ]
  },
  {
   "cell_type": "markdown",
   "metadata": {},
   "source": [
    "<h1 style=\"text-align:center;color: darkblue\">Desarrollo de un modelo SIR</h1>"
   ]
  },
  {
   "cell_type": "markdown",
   "metadata": {},
   "source": [
    "<ul style=\"text-align:center;list-style:none\">\n",
    "    <li><strong>Autor: </strong> Bryam David Vega Moreno</li>\n",
    "    <li><strong>Maestro: </strong> Diego Quisi</li>\n",
    "    <li><strong>Materia: </strong> Simulación</li>\n",
    "    <li><strong>Universidad: </strong> Universidad Politécnica Salesiana</li>\n",
    "    <li><strong>Carrera: </strong> Ciencias de la computación</li>\n",
    "</ul>"
   ]
  },
  {
   "cell_type": "markdown",
   "metadata": {},
   "source": [
    "------------"
   ]
  },
  {
   "cell_type": "markdown",
   "metadata": {},
   "source": [
    "<h2 style=\"color:yellowgreen\">Introducción</h2>"
   ]
  },
  {
   "cell_type": "markdown",
   "metadata": {},
   "source": [
    "El modelo SIR es un modelo matemático que permite predecir el comportamiento de una enfermedad infecciosa, a partir de ciertas condiciones iniciales"
   ]
  },
  {
   "cell_type": "markdown",
   "metadata": {},
   "source": [
    "<img src=\"https://media.giphy.com/media/MDb57lGm0VFT7IYoTj/giphy.gif\" style=\"margin: 0 auto\"/>"
   ]
  },
  {
   "cell_type": "markdown",
   "metadata": {},
   "source": [
    "Este modelo clasifica una población en tres grupos distintos:\n",
    "<ul>\n",
    "    <li><strong>Suceptible: </strong> Número de personas que son propensas a la enfermedad </li>\n",
    "    <li><strong>Infectado: </strong>  Número de personas que tienen la enfermedad y que pueden infectar a la gente susceptible</li>\n",
    "    <li><strong>Recuperado: </strong> Númeto de persoans que no pueden contraer la enfermedad, porque se han recuperado completamente, o porque son inmunes  </li>\n",
    "</ul>\n",
    "\n",
    "Ademas de estos grupos, este modelo depende principalmente de tres parámetros:\n",
    "<ul>\n",
    "    <li><strong>Tasa de transmisión (β): </strong> Describe que tan rápido se transmite la infección de un individuo a otro </li>\n",
    "    <li><strong>Tasa de recuperación (γ): </strong>  Describe qué tan rápido un individuo infectado se recupera.</li>\n",
    "    <li><strong>Población (N): </strong>  Número de población del país.</li>\n",
    "</ul>\n",
    "\n",
    "Para poder resolver este modelo debemos hacer uso de las siguientes fórmulas:\n",
    "\n",
    "\\begin{align*}\n",
    "\\frac{\\mathrm{d}S}{\\mathrm{d}t} &= -\\beta S \\frac{ I}{N},\\\\\n",
    "\\frac{\\mathrm{d}I}{\\mathrm{d}t} &= \\beta S \\frac{ I}{N} - \\gamma I,\\\\\n",
    "\\frac{\\mathrm{d}R}{\\mathrm{d}t} &= \\gamma I.\n",
    "\\end{align*}\n",
    "\n",
    "Para poder realizar un modelo básico SIR, utilizaremos la libreria SciPy el cual contiene un conjunto de paquetes que permiten resolver sistemas de ecuaciones, integrarlas y graficarlas. A continuación mostramos el código\n",
    "\n",
    "Ahora, cuando podemos estimar beta y gamma, hay varios conocimientos derivados de el. Si D, es el promedio de días  para recuperarse de infecciones , se deriba de gamma."
   ]
  },
  {
   "cell_type": "markdown",
   "metadata": {},
   "source": [
    "\\begin{align*}\n",
    "D= \\frac{ I}{\\gamma}\n",
    "\\end{align*}"
   ]
  },
  {
   "cell_type": "markdown",
   "metadata": {},
   "source": [
    "Ademas de ello, podemos estimar la naturaleza de la enfermadad en terminos del poder de la infección."
   ]
  },
  {
   "cell_type": "markdown",
   "metadata": {},
   "source": [
    "\\begin{align*}\n",
    "R_0= \\frac{ \\beta}{\\gamma}\n",
    "\\end{align*}"
   ]
  },
  {
   "cell_type": "markdown",
   "metadata": {},
   "source": [
    "Se llama número de reproducción básico **R0**. Es el número promedio de personas infectadas de otra persona. Si es alto, la probabilidad de pandemia también es mayor. Si bien antes teniamos como variables fijas beta y gamma, ahora lo que procederemos a hacer es estimar β y γ para ajustar el modelo SIR a los casos confirmados reales (el número de personas infecciosas). A continuación vamos a proceder con el código y la explicación"
   ]
  },
  {
   "cell_type": "markdown",
   "metadata": {},
   "source": [
    "-----------------------------------------"
   ]
  },
  {
   "cell_type": "markdown",
   "metadata": {},
   "source": [
    "<h2 style=\"color:yellowgreen\">Librerias a importar</h2>"
   ]
  },
  {
   "cell_type": "markdown",
   "metadata": {},
   "source": [
    "**Para el análisis de datos**"
   ]
  },
  {
   "cell_type": "code",
   "execution_count": 1,
   "metadata": {},
   "outputs": [],
   "source": [
    "import pandas as pd\n",
    "import numpy as np\n",
    "from datetime import timedelta, datetime"
   ]
  },
  {
   "cell_type": "markdown",
   "metadata": {},
   "source": [
    "**Librerias para visualización de datos**"
   ]
  },
  {
   "cell_type": "code",
   "execution_count": 2,
   "metadata": {},
   "outputs": [],
   "source": [
    "import altair as alt\n",
    "import matplotlib.pyplot as plt"
   ]
  },
  {
   "cell_type": "markdown",
   "metadata": {},
   "source": [
    "**Librerias para resolución de ecuaciones diferenciales**"
   ]
  },
  {
   "cell_type": "code",
   "execution_count": 3,
   "metadata": {},
   "outputs": [],
   "source": [
    "import scipy.integrate as spi\n",
    "from scipy.optimize import minimize\n",
    "from scipy.integrate import solve_ivp"
   ]
  },
  {
   "cell_type": "markdown",
   "metadata": {},
   "source": [
    "----------------------------------------------"
   ]
  },
  {
   "cell_type": "markdown",
   "metadata": {},
   "source": [
    "<h2 style=\"color:yellowgreen\">Simulación del modelo SIR para COVID-19</h2>"
   ]
  },
  {
   "cell_type": "markdown",
   "metadata": {},
   "source": [
    "Lo primero que procedemos a hacer es crear nuestras variables I0,R0,S0 con la finaliad de tener datos iniciales, estos datos pueden ir variando para ir simulando los diferentes escenarios. Para los valores tomados, tendremos en cuenta que existiran 10 millones suceptibles, mientras que habran 10 infectados y 0 recuperados. De la misma manera tomaremos 365 días a partir del día del primer caso. A continuación mostramos las variables"
   ]
  },
  {
   "cell_type": "code",
   "execution_count": 4,
   "metadata": {},
   "outputs": [],
   "source": [
    "I0=10\n",
    "R0=0\n",
    "S0 = 100000\n",
    "t = 365\n",
    "y0 = S0,I0,R0"
   ]
  },
  {
   "cell_type": "code",
   "execution_count": 5,
   "metadata": {
    "tags": [
     "parameters"
    ]
   },
   "outputs": [],
   "source": [
    "path_confirmed=''\n",
    "path_recovered=''\n",
    "country=''\n",
    "date=''"
   ]
  },
  {
   "cell_type": "markdown",
   "metadata": {},
   "source": [
    "Con las variables y condiciones iniciales procedemos a leer los datos que necesitamos para poder realizar nuestro modelo SIR, en este caso utilizamos los dataset de numero de confirmados y numero de recuperados con la finalidad de que se pueda obtener una mejor curva para los recovered puesto que después de un conjunto de experimentos, existia un problema en el número de recuperados. El código de lectura y obtención de datos es el siguiente:"
   ]
  },
  {
   "cell_type": "code",
   "execution_count": 6,
   "metadata": {},
   "outputs": [],
   "source": [
    "def filter_country(df,country,start_date):\n",
    "    country_df = df[df['Country/Region'] == country]\n",
    "    return country_df.iloc[0].loc[start_date:]\n",
    "\n",
    "def load_data(path_confirmed,path_recovered,country,date):\n",
    "    df_confirmed = filter_country(pd.read_csv(path_confirmed),country,date)\n",
    "    df_recovered = filter_country(pd.read_csv(path_recovered),country,date)\n",
    "    return df_confirmed,df_recovered"
   ]
  },
  {
   "cell_type": "code",
   "execution_count": null,
   "metadata": {},
   "outputs": [],
   "source": [
    "data_confirmed,data_recovered=load_data(path_confirmed,path_recovered,country,date)"
   ]
  },
  {
   "cell_type": "markdown",
   "metadata": {},
   "source": [
    "Ahora procedemos a realizar una función con el fin de optimizar los valores de beta y gamma con el fin de mejorar dichos valores con respecto a la data que tenemos, para ello utilizamos dos funciones para a la final ver sus diferencias, en la primera función **loss_confirmed_recovered** utilizamos la data de personas infectadas y recuperadas a fin de mejorar la curva de recovered, mientras que en la otra función **loss_confirmed** solamente utilizamos la data de infectados. A continuación mostramos la función que nos permite optimizar dicho proceso. \n",
    "\n",
    "**NOTA**\n",
    "\n",
    "A partir de este punto vamos a optener dos soluciones, debido a que tenemos diferentes funciones de optimización y tomamos en cuenta diferentes combinaciones de tipos de datos, con esto en cuenta vamos a referirnos a dichas funciones con la siguiente nomenclatura a patir de aqui:\n",
    "* **loss_confirmed_recovered:** primera función\n",
    "* **loss_confirmed:** segunda función"
   ]
  },
  {
   "cell_type": "code",
   "execution_count": 7,
   "metadata": {},
   "outputs": [],
   "source": [
    "def loss_confirmed_recovered(point, data, recovered):\n",
    "    size = len(data)\n",
    "    beta, gamma = point\n",
    "    def SIR(t, y):\n",
    "        S = y[0]\n",
    "        I = y[1]\n",
    "        R = y[2]\n",
    "        return [-beta*S*I, beta*S*I-gamma*I, gamma*I]\n",
    "    solution = solve_ivp(SIR, [0, size], [S0,I0,R0], t_eval=np.arange(0, size, 1), vectorized=True)\n",
    "    l1 = np.sqrt(np.mean((solution.y[1] - data)**2))\n",
    "    l2 = np.sqrt(np.mean((solution.y[2] - recovered)**2))\n",
    "    alpha = 0.1\n",
    "    return alpha * l1 + (1 - alpha) * l2\n",
    "\n",
    "def loss_confirmed(point, data):\n",
    "    size = len(data)\n",
    "    beta, gamma = point\n",
    "    def SIR(t, y):\n",
    "        S = y[0]\n",
    "        I = y[1]\n",
    "        R = y[2]\n",
    "        return [-beta*S*I, beta*S*I-gamma*I, gamma*I]\n",
    "    solution = solve_ivp(SIR, [0, size], [S0,I0,R0], t_eval=np.arange(0, size, 1), vectorized=True)\n",
    "    return np.sqrt(np.mean((solution.y[1] - data)**2))"
   ]
  },
  {
   "cell_type": "markdown",
   "metadata": {},
   "source": [
    "En el siguiente código procedemos a realizar la optimización para ambos casos explicados anteriormente"
   ]
  },
  {
   "cell_type": "code",
   "execution_count": null,
   "metadata": {},
   "outputs": [],
   "source": [
    "optimal_cr = minimize(\n",
    "            loss_confirmed_recovered,\n",
    "            [0.001, 0.001],\n",
    "            args=(data_confirmed,data_recovered),\n",
    "            method='L-BFGS-B',\n",
    "            bounds=[(0.00000001, 0.4), (0.00000001, 0.4)])\n",
    "\n",
    "optimal_c = minimize(\n",
    "            loss_confirmed,\n",
    "            [0.001, 0.001],\n",
    "            args=(data_confirmed),\n",
    "            method='L-BFGS-B',\n",
    "            bounds=[(0.00000001, 0.4), (0.00000001, 0.4)])"
   ]
  },
  {
   "cell_type": "code",
   "execution_count": null,
   "metadata": {},
   "outputs": [],
   "source": [
    "beta_cr,gamma_cr = optimal_cr.x\n",
    "beta_c,gamma_c = optimal_c.x"
   ]
  },
  {
   "cell_type": "markdown",
   "metadata": {},
   "source": [
    "Despues de optimizar dichos valores, procedemos a motrar los valores que obtuvimos con la primera función"
   ]
  },
  {
   "cell_type": "code",
   "execution_count": null,
   "metadata": {},
   "outputs": [],
   "source": [
    "print(\"valor gamma confirmed_recovered: {}\".format(gamma_cr))\n",
    "print(\"valor beta confirmed_recovered: {}\".format(beta_cr))"
   ]
  },
  {
   "cell_type": "markdown",
   "metadata": {},
   "source": [
    "Mientras que por otro lado, estos son los valores que obtuvimos con la segunda función"
   ]
  },
  {
   "cell_type": "code",
   "execution_count": null,
   "metadata": {},
   "outputs": [],
   "source": [
    "print(\"valor gamma confirmed: {}\".format(gamma_c))\n",
    "print(\"valor beta confirmed: {}\".format(beta_c))"
   ]
  },
  {
   "cell_type": "markdown",
   "metadata": {},
   "source": [
    "Con dichos valores procedemos a obtener R_0 con el objetivo de conocer mas que nada su valor. En este caso mostrarmos el R_0 con los valores de beta y gamma de la primera función"
   ]
  },
  {
   "cell_type": "code",
   "execution_count": null,
   "metadata": {},
   "outputs": [],
   "source": [
    "R_0= beta_cr/gamma_cr\n",
    "print(\"Número de reproducción R_0 confirmed_recovered: {}\".format(R_0))"
   ]
  },
  {
   "cell_type": "markdown",
   "metadata": {},
   "source": [
    "Mientras que por otro lado mostramos el valor de R_0 con los valores de beta y gamma de la segunda función"
   ]
  },
  {
   "cell_type": "code",
   "execution_count": null,
   "metadata": {},
   "outputs": [],
   "source": [
    "R_0= beta_c/gamma_c\n",
    "print(\"Número de reproducción R_0 confirmed: {}\".format(R_0))"
   ]
  },
  {
   "cell_type": "markdown",
   "metadata": {},
   "source": [
    "Una vez obtenido el valor de R_0 el cual es un indicador para ver el número de reproducción del virus, procedemos a realizar la resolución del modelo SIR, no necesitamos de R_0 en este momento, simplemente es un indicador que nos permite saber como se reproduce el virus en nuestra ciudad. Ahora con ello en mente mostramos el código en donde resolvemos el modelo SIR"
   ]
  },
  {
   "cell_type": "code",
   "execution_count": 8,
   "metadata": {},
   "outputs": [],
   "source": [
    "def extend_index(index, new_size):\n",
    "        values = index.values\n",
    "        current = datetime.strptime(index[-1], '%m/%d/%y')\n",
    "        while len(values) < new_size:\n",
    "            current = current + timedelta(days=1)\n",
    "            values = np.append(values, datetime.strftime(current, '%m/%d/%y'))\n",
    "        return values\n",
    "\n",
    "def predict(beta, gamma, data):\n",
    "        predict_range = t\n",
    "        new_index = extend_index(data.index, predict_range)\n",
    "        size = len(new_index)\n",
    "        def SIR(t, y):\n",
    "            S = y[0]\n",
    "            I = y[1]\n",
    "            R = y[2]\n",
    "            return [-beta*S*I, beta*S*I-gamma*I, gamma*I]\n",
    "        extended_actual = np.concatenate((data.values, [None] * (size - len(data.values))))\n",
    "        return new_index, extended_actual, solve_ivp(SIR, [0, size], [S0,I0,R0], t_eval=np.arange(0, size, 1))"
   ]
  },
  {
   "cell_type": "markdown",
   "metadata": {},
   "source": [
    "Procedemos a realizar las predicciones para nuestros datos, teniendo en cuenta el beta y gamma. A continuación realizamos dichas predicciones para la primera y segunda función"
   ]
  },
  {
   "cell_type": "code",
   "execution_count": null,
   "metadata": {},
   "outputs": [],
   "source": [
    "new_index, extended_actual, prediction_cr = predict(beta_cr, gamma_cr, data_confirmed)\n",
    "new_index, extended_actual, prediction_c = predict(beta_c, gamma_c, data_confirmed)"
   ]
  },
  {
   "cell_type": "markdown",
   "metadata": {},
   "source": [
    "Después de realizar las predicciones para el modelo SIR procedemos a armar un dataframe para poder visualizar nuestro modelo terminado. A la final tendremos dos datasets ya que el uno es de la primera función, mientras que el otro es de la segunda función"
   ]
  },
  {
   "cell_type": "code",
   "execution_count": null,
   "metadata": {},
   "outputs": [],
   "source": [
    "df_cr = pd.DataFrame(\n",
    "            {'date':[i for i in range(0,len(new_index))],\n",
    "            'suceptible': prediction_cr.y[0],\n",
    "            'infected': prediction_cr.y[1],\n",
    "            'recovered': prediction_cr.y[2]})\n",
    "df_c = pd.DataFrame(\n",
    "            {'date':[i for i in range(0,len(new_index))],\n",
    "            'suceptible': prediction_c.y[0],\n",
    "            'infected': prediction_c.y[1],\n",
    "            'recovered': prediction_c.y[2]})"
   ]
  },
  {
   "cell_type": "markdown",
   "metadata": {},
   "source": [
    "#### Dataset Confirmed recovered Cases"
   ]
  },
  {
   "cell_type": "code",
   "execution_count": null,
   "metadata": {},
   "outputs": [],
   "source": [
    "df_cr.head(5)"
   ]
  },
  {
   "cell_type": "code",
   "execution_count": null,
   "metadata": {},
   "outputs": [],
   "source": [
    "alt.Chart(df_cr.melt('date')).mark_line().encode(\n",
    "    x='date',\n",
    "    y=alt.Y('value'),\n",
    "    color='variable'\n",
    ").properties(\n",
    "    title='SIR model for Ecuador with confirmed and recovered cases'\n",
    ").interactive()"
   ]
  },
  {
   "cell_type": "markdown",
   "metadata": {},
   "source": [
    "#### Dataset confirmed Cases"
   ]
  },
  {
   "cell_type": "code",
   "execution_count": null,
   "metadata": {},
   "outputs": [],
   "source": [
    "df_c.head(5)"
   ]
  },
  {
   "cell_type": "code",
   "execution_count": null,
   "metadata": {},
   "outputs": [],
   "source": [
    "alt.Chart(df_c.melt('date')).mark_line().encode(\n",
    "    x='date',\n",
    "    y=alt.Y('value'),\n",
    "    color='variable'\n",
    ").properties(\n",
    "    title='SIR model for Ecuador only confirmed cases'\n",
    ").interactive()"
   ]
  },
  {
   "cell_type": "markdown",
   "metadata": {},
   "source": [
    "Como podemos apreciar, con el uso de la primera función existe una mejor visualización de las personas recuperadas, es decir, es muy importante tomar en cuenta dicho valor para que exista una curva correcta con respecto a los casos recuperados. Sin embargo, como podemos ver en la gráfica de la segunda función en donde solamente se tomo en cuenta el número de personas confrmadas, podemos notar claramente como no existe número de personas récuperadas y al no existir recuperadas por ende dichas personas van a seguir infectadas, por lo cual esto es erroneo ya que si existen personas recuperadas. Por lo tanto la mejor manera de simular el modelo SIR, es con la función de optimización **loss_confirmed_recovered** ya que toma en cuenta a las personas infectadas y recuperadas y de esa manera podemos ver que al existir recuperados, el número de infectados bajan lo cual tiene lógica."
   ]
  }
 ],
 "metadata": {
  "celltoolbar": "Tags",
  "kernelspec": {
   "display_name": "Python 3",
   "language": "python",
   "name": "python3"
  },
  "language_info": {
   "codemirror_mode": {
    "name": "ipython",
    "version": 3
   },
   "file_extension": ".py",
   "mimetype": "text/x-python",
   "name": "python",
   "nbconvert_exporter": "python",
   "pygments_lexer": "ipython3",
   "version": "3.8.3"
  }
 },
 "nbformat": 4,
 "nbformat_minor": 4
}
