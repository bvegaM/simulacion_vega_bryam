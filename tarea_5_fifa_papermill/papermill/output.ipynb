{
 "cells": [
  {
   "cell_type": "markdown",
   "id": "cd44eceb",
   "metadata": {
    "papermill": {
     "duration": 0.024304,
     "end_time": "2021-05-05T00:02:00.873415",
     "exception": false,
     "start_time": "2021-05-05T00:02:00.849111",
     "status": "completed"
    },
    "tags": []
   },
   "source": [
    "<img src=\"https://www.universidades.com.ec/logos/original/logo-universidad-politecnica-salesiana.png\" style=\"margin: 0 auto\"/>"
   ]
  },
  {
   "cell_type": "markdown",
   "id": "b7bf0ba0",
   "metadata": {
    "papermill": {
     "duration": 0.020451,
     "end_time": "2021-05-05T00:02:00.914449",
     "exception": false,
     "start_time": "2021-05-05T00:02:00.893998",
     "status": "completed"
    },
    "tags": []
   },
   "source": [
    "<h1 style=\"text-align:center;color: darkblue\">Desarrollo de un modelo SIR</h1>"
   ]
  },
  {
   "cell_type": "markdown",
   "id": "b09e63bc",
   "metadata": {
    "papermill": {
     "duration": 0.01661,
     "end_time": "2021-05-05T00:02:00.950270",
     "exception": false,
     "start_time": "2021-05-05T00:02:00.933660",
     "status": "completed"
    },
    "tags": []
   },
   "source": [
    "<ul style=\"text-align:center;list-style:none\">\n",
    "    <li><strong>Autor: </strong> Bryam David Vega Moreno</li>\n",
    "    <li><strong>Maestro: </strong> Diego Quisi</li>\n",
    "    <li><strong>Materia: </strong> Simulación</li>\n",
    "    <li><strong>Universidad: </strong> Universidad Politécnica Salesiana</li>\n",
    "    <li><strong>Carrera: </strong> Ciencias de la computación</li>\n",
    "</ul>"
   ]
  },
  {
   "cell_type": "markdown",
   "id": "b7523e23",
   "metadata": {
    "papermill": {
     "duration": 0.015691,
     "end_time": "2021-05-05T00:02:00.980547",
     "exception": false,
     "start_time": "2021-05-05T00:02:00.964856",
     "status": "completed"
    },
    "tags": []
   },
   "source": [
    "------------"
   ]
  },
  {
   "cell_type": "markdown",
   "id": "2fb0323b",
   "metadata": {
    "papermill": {
     "duration": 0.016397,
     "end_time": "2021-05-05T00:02:01.014501",
     "exception": false,
     "start_time": "2021-05-05T00:02:00.998104",
     "status": "completed"
    },
    "tags": []
   },
   "source": [
    "<h2 style=\"color:yellowgreen\">Introducción</h2>"
   ]
  },
  {
   "cell_type": "markdown",
   "id": "f618f42a",
   "metadata": {
    "papermill": {
     "duration": 0.014936,
     "end_time": "2021-05-05T00:02:01.045516",
     "exception": false,
     "start_time": "2021-05-05T00:02:01.030580",
     "status": "completed"
    },
    "tags": []
   },
   "source": [
    "El modelo SIR es un modelo matemático que permite predecir el comportamiento de una enfermedad infecciosa, a partir de ciertas condiciones iniciales"
   ]
  },
  {
   "cell_type": "markdown",
   "id": "efa22448",
   "metadata": {
    "papermill": {
     "duration": 0.015115,
     "end_time": "2021-05-05T00:02:01.075668",
     "exception": false,
     "start_time": "2021-05-05T00:02:01.060553",
     "status": "completed"
    },
    "tags": []
   },
   "source": [
    "<img src=\"https://media.giphy.com/media/MDb57lGm0VFT7IYoTj/giphy.gif\" style=\"margin: 0 auto\"/>"
   ]
  },
  {
   "cell_type": "markdown",
   "id": "0a1f8ab8",
   "metadata": {
    "papermill": {
     "duration": 0.01517,
     "end_time": "2021-05-05T00:02:01.106029",
     "exception": false,
     "start_time": "2021-05-05T00:02:01.090859",
     "status": "completed"
    },
    "tags": []
   },
   "source": [
    "Este modelo clasifica una población en tres grupos distintos:\n",
    "<ul>\n",
    "    <li><strong>Suceptible: </strong> Número de personas que son propensas a la enfermedad </li>\n",
    "    <li><strong>Infectado: </strong>  Número de personas que tienen la enfermedad y que pueden infectar a la gente susceptible</li>\n",
    "    <li><strong>Recuperado: </strong> Númeto de persoans que no pueden contraer la enfermedad, porque se han recuperado completamente, o porque son inmunes  </li>\n",
    "</ul>\n",
    "\n",
    "Ademas de estos grupos, este modelo depende principalmente de tres parámetros:\n",
    "<ul>\n",
    "    <li><strong>Tasa de transmisión (β): </strong> Describe que tan rápido se transmite la infección de un individuo a otro </li>\n",
    "    <li><strong>Tasa de recuperación (γ): </strong>  Describe qué tan rápido un individuo infectado se recupera.</li>\n",
    "    <li><strong>Población (N): </strong>  Número de población del país.</li>\n",
    "</ul>\n",
    "\n",
    "Para poder resolver este modelo debemos hacer uso de las siguientes fórmulas:\n",
    "\n",
    "\\begin{align*}\n",
    "\\frac{\\mathrm{d}S}{\\mathrm{d}t} &= -\\beta S \\frac{ I}{N},\\\\\n",
    "\\frac{\\mathrm{d}I}{\\mathrm{d}t} &= \\beta S \\frac{ I}{N} - \\gamma I,\\\\\n",
    "\\frac{\\mathrm{d}R}{\\mathrm{d}t} &= \\gamma I.\n",
    "\\end{align*}\n",
    "\n",
    "Para poder realizar un modelo básico SIR, utilizaremos la libreria SciPy el cual contiene un conjunto de paquetes que permiten resolver sistemas de ecuaciones, integrarlas y graficarlas. A continuación mostramos el código\n",
    "\n",
    "Ahora, cuando podemos estimar beta y gamma, hay varios conocimientos derivados de el. Si D, es el promedio de días  para recuperarse de infecciones , se deriba de gamma."
   ]
  },
  {
   "cell_type": "markdown",
   "id": "031e4dbd",
   "metadata": {
    "papermill": {
     "duration": 0.016181,
     "end_time": "2021-05-05T00:02:01.137299",
     "exception": false,
     "start_time": "2021-05-05T00:02:01.121118",
     "status": "completed"
    },
    "tags": []
   },
   "source": [
    "\\begin{align*}\n",
    "D= \\frac{ I}{\\gamma}\n",
    "\\end{align*}"
   ]
  },
  {
   "cell_type": "markdown",
   "id": "9b741483",
   "metadata": {
    "papermill": {
     "duration": 0.015423,
     "end_time": "2021-05-05T00:02:01.168402",
     "exception": false,
     "start_time": "2021-05-05T00:02:01.152979",
     "status": "completed"
    },
    "tags": []
   },
   "source": [
    "Ademas de ello, podemos estimar la naturaleza de la enfermadad en terminos del poder de la infección."
   ]
  },
  {
   "cell_type": "markdown",
   "id": "f123b12b",
   "metadata": {
    "papermill": {
     "duration": 0.015576,
     "end_time": "2021-05-05T00:02:01.199015",
     "exception": false,
     "start_time": "2021-05-05T00:02:01.183439",
     "status": "completed"
    },
    "tags": []
   },
   "source": [
    "\\begin{align*}\n",
    "R_0= \\frac{ \\beta}{\\gamma}\n",
    "\\end{align*}"
   ]
  },
  {
   "cell_type": "markdown",
   "id": "1d4ac85d",
   "metadata": {
    "papermill": {
     "duration": 0.015712,
     "end_time": "2021-05-05T00:02:01.230147",
     "exception": false,
     "start_time": "2021-05-05T00:02:01.214435",
     "status": "completed"
    },
    "tags": []
   },
   "source": [
    "Se llama número de reproducción básico **R0**. Es el número promedio de personas infectadas de otra persona. Si es alto, la probabilidad de pandemia también es mayor. Si bien antes teniamos como variables fijas beta y gamma, ahora lo que procederemos a hacer es estimar β y γ para ajustar el modelo SIR a los casos confirmados reales (el número de personas infecciosas). A continuación vamos a proceder con el código y la explicación"
   ]
  },
  {
   "cell_type": "markdown",
   "id": "c97c898b",
   "metadata": {
    "papermill": {
     "duration": 0.016479,
     "end_time": "2021-05-05T00:02:01.261941",
     "exception": false,
     "start_time": "2021-05-05T00:02:01.245462",
     "status": "completed"
    },
    "tags": []
   },
   "source": [
    "-----------------------------------------"
   ]
  },
  {
   "cell_type": "markdown",
   "id": "833d9cb9",
   "metadata": {
    "papermill": {
     "duration": 0.01506,
     "end_time": "2021-05-05T00:02:01.292197",
     "exception": false,
     "start_time": "2021-05-05T00:02:01.277137",
     "status": "completed"
    },
    "tags": []
   },
   "source": [
    "<h2 style=\"color:yellowgreen\">Librerias a importar</h2>"
   ]
  },
  {
   "cell_type": "markdown",
   "id": "d86aa58b",
   "metadata": {
    "papermill": {
     "duration": 0.015037,
     "end_time": "2021-05-05T00:02:01.322319",
     "exception": false,
     "start_time": "2021-05-05T00:02:01.307282",
     "status": "completed"
    },
    "tags": []
   },
   "source": [
    "**Para el análisis de datos**"
   ]
  },
  {
   "cell_type": "code",
   "execution_count": 1,
   "id": "ad00012f",
   "metadata": {
    "execution": {
     "iopub.execute_input": "2021-05-05T00:02:01.355643Z",
     "iopub.status.busy": "2021-05-05T00:02:01.355011Z",
     "iopub.status.idle": "2021-05-05T00:02:01.758274Z",
     "shell.execute_reply": "2021-05-05T00:02:01.758734Z"
    },
    "papermill": {
     "duration": 0.421754,
     "end_time": "2021-05-05T00:02:01.758960",
     "exception": false,
     "start_time": "2021-05-05T00:02:01.337206",
     "status": "completed"
    },
    "tags": []
   },
   "outputs": [],
   "source": [
    "import pandas as pd\n",
    "import numpy as np\n",
    "from datetime import timedelta, datetime"
   ]
  },
  {
   "cell_type": "markdown",
   "id": "d51b5c36",
   "metadata": {
    "papermill": {
     "duration": 0.019456,
     "end_time": "2021-05-05T00:02:01.798851",
     "exception": false,
     "start_time": "2021-05-05T00:02:01.779395",
     "status": "completed"
    },
    "tags": []
   },
   "source": [
    "**Librerias para visualización de datos**"
   ]
  },
  {
   "cell_type": "code",
   "execution_count": 2,
   "id": "acda334d",
   "metadata": {
    "execution": {
     "iopub.execute_input": "2021-05-05T00:02:01.834642Z",
     "iopub.status.busy": "2021-05-05T00:02:01.834068Z",
     "iopub.status.idle": "2021-05-05T00:02:02.315202Z",
     "shell.execute_reply": "2021-05-05T00:02:02.315636Z"
    },
    "papermill": {
     "duration": 0.499326,
     "end_time": "2021-05-05T00:02:02.315820",
     "exception": false,
     "start_time": "2021-05-05T00:02:01.816494",
     "status": "completed"
    },
    "tags": []
   },
   "outputs": [],
   "source": [
    "import altair as alt\n",
    "import matplotlib.pyplot as plt"
   ]
  },
  {
   "cell_type": "markdown",
   "id": "bdc74944",
   "metadata": {
    "papermill": {
     "duration": 0.019852,
     "end_time": "2021-05-05T00:02:02.354799",
     "exception": false,
     "start_time": "2021-05-05T00:02:02.334947",
     "status": "completed"
    },
    "tags": []
   },
   "source": [
    "**Librerias para resolución de ecuaciones diferenciales**"
   ]
  },
  {
   "cell_type": "code",
   "execution_count": 3,
   "id": "84c4500e",
   "metadata": {
    "execution": {
     "iopub.execute_input": "2021-05-05T00:02:02.391849Z",
     "iopub.status.busy": "2021-05-05T00:02:02.391306Z",
     "iopub.status.idle": "2021-05-05T00:02:02.635512Z",
     "shell.execute_reply": "2021-05-05T00:02:02.635891Z"
    },
    "papermill": {
     "duration": 0.263006,
     "end_time": "2021-05-05T00:02:02.636056",
     "exception": false,
     "start_time": "2021-05-05T00:02:02.373050",
     "status": "completed"
    },
    "tags": []
   },
   "outputs": [],
   "source": [
    "import scipy.integrate as spi\n",
    "from scipy.optimize import minimize\n",
    "from scipy.integrate import solve_ivp"
   ]
  },
  {
   "cell_type": "markdown",
   "id": "652fb928",
   "metadata": {
    "papermill": {
     "duration": 0.01669,
     "end_time": "2021-05-05T00:02:02.668421",
     "exception": false,
     "start_time": "2021-05-05T00:02:02.651731",
     "status": "completed"
    },
    "tags": []
   },
   "source": [
    "----------------------------------------------"
   ]
  },
  {
   "cell_type": "markdown",
   "id": "5ed60801",
   "metadata": {
    "papermill": {
     "duration": 0.014976,
     "end_time": "2021-05-05T00:02:02.698821",
     "exception": false,
     "start_time": "2021-05-05T00:02:02.683845",
     "status": "completed"
    },
    "tags": []
   },
   "source": [
    "<h2 style=\"color:yellowgreen\">Simulación del modelo SIR para COVID-19</h2>"
   ]
  },
  {
   "cell_type": "markdown",
   "id": "b6b0dc16",
   "metadata": {
    "papermill": {
     "duration": 0.016473,
     "end_time": "2021-05-05T00:02:02.730935",
     "exception": false,
     "start_time": "2021-05-05T00:02:02.714462",
     "status": "completed"
    },
    "tags": []
   },
   "source": [
    "Lo primero que procedemos a hacer es crear nuestras variables I0,R0,S0 con la finaliad de tener datos iniciales, estos datos pueden ir variando para ir simulando los diferentes escenarios. Para los valores tomados, tendremos en cuenta que existiran 10 millones suceptibles, mientras que habran 10 infectados y 0 recuperados. De la misma manera tomaremos 365 días a partir del día del primer caso. A continuación mostramos las variables"
   ]
  },
  {
   "cell_type": "code",
   "execution_count": 4,
   "id": "00af9319",
   "metadata": {
    "execution": {
     "iopub.execute_input": "2021-05-05T00:02:02.764474Z",
     "iopub.status.busy": "2021-05-05T00:02:02.764004Z",
     "iopub.status.idle": "2021-05-05T00:02:02.765816Z",
     "shell.execute_reply": "2021-05-05T00:02:02.766110Z"
    },
    "papermill": {
     "duration": 0.019982,
     "end_time": "2021-05-05T00:02:02.766253",
     "exception": false,
     "start_time": "2021-05-05T00:02:02.746271",
     "status": "completed"
    },
    "tags": []
   },
   "outputs": [],
   "source": [
    "I0=10\n",
    "R0=0\n",
    "S0 = 100000\n",
    "t = 365\n",
    "y0 = S0,I0,R0"
   ]
  },
  {
   "cell_type": "code",
   "execution_count": 5,
   "id": "fb0f91f2",
   "metadata": {
    "execution": {
     "iopub.execute_input": "2021-05-05T00:02:02.801258Z",
     "iopub.status.busy": "2021-05-05T00:02:02.800626Z",
     "iopub.status.idle": "2021-05-05T00:02:02.802696Z",
     "shell.execute_reply": "2021-05-05T00:02:02.803197Z"
    },
    "papermill": {
     "duration": 0.021823,
     "end_time": "2021-05-05T00:02:02.803364",
     "exception": false,
     "start_time": "2021-05-05T00:02:02.781541",
     "status": "completed"
    },
    "tags": [
     "parameters"
    ]
   },
   "outputs": [],
   "source": [
    "path_confirmed=''\n",
    "path_recovered=''\n",
    "country=''\n",
    "date=''"
   ]
  },
  {
   "cell_type": "code",
   "execution_count": 6,
   "id": "0ec8e722",
   "metadata": {
    "execution": {
     "iopub.execute_input": "2021-05-05T00:02:02.838180Z",
     "iopub.status.busy": "2021-05-05T00:02:02.837694Z",
     "iopub.status.idle": "2021-05-05T00:02:02.839346Z",
     "shell.execute_reply": "2021-05-05T00:02:02.839681Z"
    },
    "papermill": {
     "duration": 0.020245,
     "end_time": "2021-05-05T00:02:02.839825",
     "exception": false,
     "start_time": "2021-05-05T00:02:02.819580",
     "status": "completed"
    },
    "tags": [
     "injected-parameters"
    ]
   },
   "outputs": [],
   "source": [
    "# Parameters\n",
    "path_confirmed = \"./in/time_series_covid19_confirmed_global.csv\"\n",
    "path_recovered = \"./in/time_series_covid19_recovered_global.csv\"\n",
    "country = \"Ecuador\"\n",
    "date = \"3/1/20\"\n"
   ]
  },
  {
   "cell_type": "markdown",
   "id": "57fb1452",
   "metadata": {
    "papermill": {
     "duration": 0.015464,
     "end_time": "2021-05-05T00:02:02.870857",
     "exception": false,
     "start_time": "2021-05-05T00:02:02.855393",
     "status": "completed"
    },
    "tags": []
   },
   "source": [
    "Con las variables y condiciones iniciales procedemos a leer los datos que necesitamos para poder realizar nuestro modelo SIR, en este caso utilizamos los dataset de numero de confirmados y numero de recuperados con la finalidad de que se pueda obtener una mejor curva para los recovered puesto que después de un conjunto de experimentos, existia un problema en el número de recuperados. El código de lectura y obtención de datos es el siguiente:"
   ]
  },
  {
   "cell_type": "code",
   "execution_count": 7,
   "id": "9a56e9c8",
   "metadata": {
    "execution": {
     "iopub.execute_input": "2021-05-05T00:02:02.907497Z",
     "iopub.status.busy": "2021-05-05T00:02:02.906964Z",
     "iopub.status.idle": "2021-05-05T00:02:02.908903Z",
     "shell.execute_reply": "2021-05-05T00:02:02.909205Z"
    },
    "papermill": {
     "duration": 0.022745,
     "end_time": "2021-05-05T00:02:02.909360",
     "exception": false,
     "start_time": "2021-05-05T00:02:02.886615",
     "status": "completed"
    },
    "tags": []
   },
   "outputs": [],
   "source": [
    "def filter_country(df,country,start_date):\n",
    "    country_df = df[df['Country/Region'] == country]\n",
    "    return country_df.iloc[0].loc[start_date:]\n",
    "\n",
    "def load_data(path_confirmed,path_recovered,country,date):\n",
    "    df_confirmed = filter_country(pd.read_csv(path_confirmed),country,date)\n",
    "    df_recovered = filter_country(pd.read_csv(path_recovered),country,date)\n",
    "    return df_confirmed,df_recovered"
   ]
  },
  {
   "cell_type": "code",
   "execution_count": 8,
   "id": "b41badde",
   "metadata": {
    "execution": {
     "iopub.execute_input": "2021-05-05T00:02:02.944088Z",
     "iopub.status.busy": "2021-05-05T00:02:02.943609Z",
     "iopub.status.idle": "2021-05-05T00:02:03.053477Z",
     "shell.execute_reply": "2021-05-05T00:02:03.053953Z"
    },
    "papermill": {
     "duration": 0.128965,
     "end_time": "2021-05-05T00:02:03.054132",
     "exception": false,
     "start_time": "2021-05-05T00:02:02.925167",
     "status": "completed"
    },
    "tags": []
   },
   "outputs": [],
   "source": [
    "data_confirmed,data_recovered=load_data(path_confirmed,path_recovered,country,date)"
   ]
  },
  {
   "cell_type": "markdown",
   "id": "f8587799",
   "metadata": {
    "papermill": {
     "duration": 0.015382,
     "end_time": "2021-05-05T00:02:03.087412",
     "exception": false,
     "start_time": "2021-05-05T00:02:03.072030",
     "status": "completed"
    },
    "tags": []
   },
   "source": [
    "Ahora procedemos a realizar una función con el fin de optimizar los valores de beta y gamma con el fin de mejorar dichos valores con respecto a la data que tenemos, para ello utilizamos dos funciones para a la final ver sus diferencias, en la primera función **loss_confirmed_recovered** utilizamos la data de personas infectadas y recuperadas a fin de mejorar la curva de recovered, mientras que en la otra función **loss_confirmed** solamente utilizamos la data de infectados. A continuación mostramos la función que nos permite optimizar dicho proceso. \n",
    "\n",
    "**NOTA**\n",
    "\n",
    "A partir de este punto vamos a optener dos soluciones, debido a que tenemos diferentes funciones de optimización y tomamos en cuenta diferentes combinaciones de tipos de datos, con esto en cuenta vamos a referirnos a dichas funciones con la siguiente nomenclatura a patir de aqui:\n",
    "* **loss_confirmed_recovered:** primera función\n",
    "* **loss_confirmed:** segunda función"
   ]
  },
  {
   "cell_type": "code",
   "execution_count": 9,
   "id": "89a015b4",
   "metadata": {
    "execution": {
     "iopub.execute_input": "2021-05-05T00:02:03.128262Z",
     "iopub.status.busy": "2021-05-05T00:02:03.127642Z",
     "iopub.status.idle": "2021-05-05T00:02:03.129333Z",
     "shell.execute_reply": "2021-05-05T00:02:03.129656Z"
    },
    "papermill": {
     "duration": 0.027113,
     "end_time": "2021-05-05T00:02:03.129868",
     "exception": false,
     "start_time": "2021-05-05T00:02:03.102755",
     "status": "completed"
    },
    "tags": []
   },
   "outputs": [],
   "source": [
    "def loss_confirmed_recovered(point, data, recovered):\n",
    "    size = len(data)\n",
    "    beta, gamma = point\n",
    "    def SIR(t, y):\n",
    "        S = y[0]\n",
    "        I = y[1]\n",
    "        R = y[2]\n",
    "        return [-beta*S*I, beta*S*I-gamma*I, gamma*I]\n",
    "    solution = solve_ivp(SIR, [0, size], [S0,I0,R0], t_eval=np.arange(0, size, 1), vectorized=True)\n",
    "    l1 = np.sqrt(np.mean((solution.y[1] - data)**2))\n",
    "    l2 = np.sqrt(np.mean((solution.y[2] - recovered)**2))\n",
    "    alpha = 0.1\n",
    "    return alpha * l1 + (1 - alpha) * l2\n",
    "\n",
    "def loss_confirmed(point, data):\n",
    "    size = len(data)\n",
    "    beta, gamma = point\n",
    "    def SIR(t, y):\n",
    "        S = y[0]\n",
    "        I = y[1]\n",
    "        R = y[2]\n",
    "        return [-beta*S*I, beta*S*I-gamma*I, gamma*I]\n",
    "    solution = solve_ivp(SIR, [0, size], [S0,I0,R0], t_eval=np.arange(0, size, 1), vectorized=True)\n",
    "    return np.sqrt(np.mean((solution.y[1] - data)**2))"
   ]
  },
  {
   "cell_type": "markdown",
   "id": "12462de4",
   "metadata": {
    "papermill": {
     "duration": 0.015947,
     "end_time": "2021-05-05T00:02:03.162046",
     "exception": false,
     "start_time": "2021-05-05T00:02:03.146099",
     "status": "completed"
    },
    "tags": []
   },
   "source": [
    "En el siguiente código procedemos a realizar la optimización para ambos casos explicados anteriormente"
   ]
  },
  {
   "cell_type": "code",
   "execution_count": 10,
   "id": "9ef175b0",
   "metadata": {
    "execution": {
     "iopub.execute_input": "2021-05-05T00:02:03.210144Z",
     "iopub.status.busy": "2021-05-05T00:02:03.206816Z",
     "iopub.status.idle": "2021-05-05T00:07:50.532210Z",
     "shell.execute_reply": "2021-05-05T00:07:50.532552Z"
    },
    "papermill": {
     "duration": 347.355237,
     "end_time": "2021-05-05T00:07:50.532711",
     "exception": false,
     "start_time": "2021-05-05T00:02:03.177474",
     "status": "completed"
    },
    "tags": []
   },
   "outputs": [],
   "source": [
    "optimal_cr = minimize(\n",
    "            loss_confirmed_recovered,\n",
    "            [0.001, 0.001],\n",
    "            args=(data_confirmed,data_recovered),\n",
    "            method='L-BFGS-B',\n",
    "            bounds=[(0.00000001, 0.4), (0.00000001, 0.4)])\n",
    "\n",
    "optimal_c = minimize(\n",
    "            loss_confirmed,\n",
    "            [0.001, 0.001],\n",
    "            args=(data_confirmed),\n",
    "            method='L-BFGS-B',\n",
    "            bounds=[(0.00000001, 0.4), (0.00000001, 0.4)])"
   ]
  },
  {
   "cell_type": "code",
   "execution_count": 11,
   "id": "8caf7c71",
   "metadata": {
    "execution": {
     "iopub.execute_input": "2021-05-05T00:07:50.568632Z",
     "iopub.status.busy": "2021-05-05T00:07:50.568161Z",
     "iopub.status.idle": "2021-05-05T00:07:50.569792Z",
     "shell.execute_reply": "2021-05-05T00:07:50.570115Z"
    },
    "papermill": {
     "duration": 0.020878,
     "end_time": "2021-05-05T00:07:50.570256",
     "exception": false,
     "start_time": "2021-05-05T00:07:50.549378",
     "status": "completed"
    },
    "tags": []
   },
   "outputs": [],
   "source": [
    "beta_cr,gamma_cr = optimal_cr.x\n",
    "beta_c,gamma_c = optimal_c.x"
   ]
  },
  {
   "cell_type": "markdown",
   "id": "a7023db0",
   "metadata": {
    "papermill": {
     "duration": 0.015818,
     "end_time": "2021-05-05T00:07:50.601651",
     "exception": false,
     "start_time": "2021-05-05T00:07:50.585833",
     "status": "completed"
    },
    "tags": []
   },
   "source": [
    "Despues de optimizar dichos valores, procedemos a motrar los valores que obtuvimos con la primera función"
   ]
  },
  {
   "cell_type": "code",
   "execution_count": 12,
   "id": "298e48b5",
   "metadata": {
    "execution": {
     "iopub.execute_input": "2021-05-05T00:07:50.636952Z",
     "iopub.status.busy": "2021-05-05T00:07:50.636421Z",
     "iopub.status.idle": "2021-05-05T00:07:50.638892Z",
     "shell.execute_reply": "2021-05-05T00:07:50.639225Z"
    },
    "papermill": {
     "duration": 0.021401,
     "end_time": "2021-05-05T00:07:50.639436",
     "exception": false,
     "start_time": "2021-05-05T00:07:50.618035",
     "status": "completed"
    },
    "tags": []
   },
   "outputs": [
    {
     "name": "stdout",
     "output_type": "stream",
     "text": [
      "valor gamma confirmed_recovered: 0.021909766044310948\n",
      "valor beta confirmed_recovered: 1.2249257546538603e-06\n"
     ]
    }
   ],
   "source": [
    "print(\"valor gamma confirmed_recovered: {}\".format(gamma_cr))\n",
    "print(\"valor beta confirmed_recovered: {}\".format(beta_cr))"
   ]
  },
  {
   "cell_type": "markdown",
   "id": "76f0ac22",
   "metadata": {
    "papermill": {
     "duration": 0.016309,
     "end_time": "2021-05-05T00:07:50.673376",
     "exception": false,
     "start_time": "2021-05-05T00:07:50.657067",
     "status": "completed"
    },
    "tags": []
   },
   "source": [
    "Mientras que por otro lado, estos son los valores que obtuvimos con la segunda función"
   ]
  },
  {
   "cell_type": "code",
   "execution_count": 13,
   "id": "14a530ff",
   "metadata": {
    "execution": {
     "iopub.execute_input": "2021-05-05T00:07:50.709038Z",
     "iopub.status.busy": "2021-05-05T00:07:50.708489Z",
     "iopub.status.idle": "2021-05-05T00:07:50.710494Z",
     "shell.execute_reply": "2021-05-05T00:07:50.710824Z"
    },
    "papermill": {
     "duration": 0.021174,
     "end_time": "2021-05-05T00:07:50.710974",
     "exception": false,
     "start_time": "2021-05-05T00:07:50.689800",
     "status": "completed"
    },
    "tags": []
   },
   "outputs": [
    {
     "name": "stdout",
     "output_type": "stream",
     "text": [
      "valor gamma confirmed: 4.574930844836162e-06\n",
      "valor beta confirmed: 4.574930844836162e-06\n"
     ]
    }
   ],
   "source": [
    "print(\"valor gamma confirmed: {}\".format(gamma_c))\n",
    "print(\"valor beta confirmed: {}\".format(beta_c))"
   ]
  },
  {
   "cell_type": "markdown",
   "id": "a6b6e924",
   "metadata": {
    "papermill": {
     "duration": 0.016463,
     "end_time": "2021-05-05T00:07:50.743707",
     "exception": false,
     "start_time": "2021-05-05T00:07:50.727244",
     "status": "completed"
    },
    "tags": []
   },
   "source": [
    "Con dichos valores procedemos a obtener R_0 con el objetivo de conocer mas que nada su valor. En este caso mostrarmos el R_0 con los valores de beta y gamma de la primera función"
   ]
  },
  {
   "cell_type": "code",
   "execution_count": 14,
   "id": "8a05d619",
   "metadata": {
    "execution": {
     "iopub.execute_input": "2021-05-05T00:07:50.779769Z",
     "iopub.status.busy": "2021-05-05T00:07:50.779284Z",
     "iopub.status.idle": "2021-05-05T00:07:50.781211Z",
     "shell.execute_reply": "2021-05-05T00:07:50.781542Z"
    },
    "papermill": {
     "duration": 0.021118,
     "end_time": "2021-05-05T00:07:50.781687",
     "exception": false,
     "start_time": "2021-05-05T00:07:50.760569",
     "status": "completed"
    },
    "tags": []
   },
   "outputs": [
    {
     "name": "stdout",
     "output_type": "stream",
     "text": [
      "Número de reproducción R_0 confirmed_recovered: 5.5907751464645256e-05\n"
     ]
    }
   ],
   "source": [
    "R_0= beta_cr/gamma_cr\n",
    "print(\"Número de reproducción R_0 confirmed_recovered: {}\".format(R_0))"
   ]
  },
  {
   "cell_type": "markdown",
   "id": "405359ff",
   "metadata": {
    "papermill": {
     "duration": 0.016599,
     "end_time": "2021-05-05T00:07:50.814817",
     "exception": false,
     "start_time": "2021-05-05T00:07:50.798218",
     "status": "completed"
    },
    "tags": []
   },
   "source": [
    "Mientras que por otro lado mostramos el valor de R_0 con los valores de beta y gamma de la segunda función"
   ]
  },
  {
   "cell_type": "code",
   "execution_count": 15,
   "id": "34344153",
   "metadata": {
    "execution": {
     "iopub.execute_input": "2021-05-05T00:07:50.851621Z",
     "iopub.status.busy": "2021-05-05T00:07:50.851074Z",
     "iopub.status.idle": "2021-05-05T00:07:50.852977Z",
     "shell.execute_reply": "2021-05-05T00:07:50.853309Z"
    },
    "papermill": {
     "duration": 0.021931,
     "end_time": "2021-05-05T00:07:50.853454",
     "exception": false,
     "start_time": "2021-05-05T00:07:50.831523",
     "status": "completed"
    },
    "tags": []
   },
   "outputs": [
    {
     "name": "stdout",
     "output_type": "stream",
     "text": [
      "Número de reproducción R_0 confirmed: 1.0\n"
     ]
    }
   ],
   "source": [
    "R_0= beta_c/gamma_c\n",
    "print(\"Número de reproducción R_0 confirmed: {}\".format(R_0))"
   ]
  },
  {
   "cell_type": "markdown",
   "id": "93a93142",
   "metadata": {
    "papermill": {
     "duration": 0.016848,
     "end_time": "2021-05-05T00:07:50.887087",
     "exception": false,
     "start_time": "2021-05-05T00:07:50.870239",
     "status": "completed"
    },
    "tags": []
   },
   "source": [
    "Una vez obtenido el valor de R_0 el cual es un indicador para ver el número de reproducción del virus, procedemos a realizar la resolución del modelo SIR, no necesitamos de R_0 en este momento, simplemente es un indicador que nos permite saber como se reproduce el virus en nuestra ciudad. Ahora con ello en mente mostramos el código en donde resolvemos el modelo SIR"
   ]
  },
  {
   "cell_type": "code",
   "execution_count": 16,
   "id": "d6d2dee5",
   "metadata": {
    "execution": {
     "iopub.execute_input": "2021-05-05T00:07:50.927312Z",
     "iopub.status.busy": "2021-05-05T00:07:50.926823Z",
     "iopub.status.idle": "2021-05-05T00:07:50.928639Z",
     "shell.execute_reply": "2021-05-05T00:07:50.928992Z"
    },
    "papermill": {
     "duration": 0.025372,
     "end_time": "2021-05-05T00:07:50.929195",
     "exception": false,
     "start_time": "2021-05-05T00:07:50.903823",
     "status": "completed"
    },
    "tags": []
   },
   "outputs": [],
   "source": [
    "def extend_index(index, new_size):\n",
    "        values = index.values\n",
    "        current = datetime.strptime(index[-1], '%m/%d/%y')\n",
    "        while len(values) < new_size:\n",
    "            current = current + timedelta(days=1)\n",
    "            values = np.append(values, datetime.strftime(current, '%m/%d/%y'))\n",
    "        return values\n",
    "\n",
    "def predict(beta, gamma, data):\n",
    "        predict_range = t\n",
    "        new_index = extend_index(data.index, predict_range)\n",
    "        size = len(new_index)\n",
    "        def SIR(t, y):\n",
    "            S = y[0]\n",
    "            I = y[1]\n",
    "            R = y[2]\n",
    "            return [-beta*S*I, beta*S*I-gamma*I, gamma*I]\n",
    "        extended_actual = np.concatenate((data.values, [None] * (size - len(data.values))))\n",
    "        return new_index, extended_actual, solve_ivp(SIR, [0, size], [S0,I0,R0], t_eval=np.arange(0, size, 1))"
   ]
  },
  {
   "cell_type": "markdown",
   "id": "7b01c4e6",
   "metadata": {
    "papermill": {
     "duration": 0.016947,
     "end_time": "2021-05-05T00:07:50.963158",
     "exception": false,
     "start_time": "2021-05-05T00:07:50.946211",
     "status": "completed"
    },
    "tags": []
   },
   "source": [
    "Procedemos a realizar las predicciones para nuestros datos, teniendo en cuenta el beta y gamma. A continuación realizamos dichas predicciones para la primera y segunda función"
   ]
  },
  {
   "cell_type": "code",
   "execution_count": 17,
   "id": "0c4cc292",
   "metadata": {
    "execution": {
     "iopub.execute_input": "2021-05-05T00:07:51.020561Z",
     "iopub.status.busy": "2021-05-05T00:07:51.020061Z",
     "iopub.status.idle": "2021-05-05T00:07:51.022021Z",
     "shell.execute_reply": "2021-05-05T00:07:51.022356Z"
    },
    "papermill": {
     "duration": 0.042195,
     "end_time": "2021-05-05T00:07:51.022509",
     "exception": false,
     "start_time": "2021-05-05T00:07:50.980314",
     "status": "completed"
    },
    "tags": []
   },
   "outputs": [],
   "source": [
    "new_index, extended_actual, prediction_cr = predict(beta_cr, gamma_cr, data_confirmed)\n",
    "new_index, extended_actual, prediction_c = predict(beta_c, gamma_c, data_confirmed)"
   ]
  },
  {
   "cell_type": "markdown",
   "id": "55497742",
   "metadata": {
    "papermill": {
     "duration": 0.017114,
     "end_time": "2021-05-05T00:07:51.056593",
     "exception": false,
     "start_time": "2021-05-05T00:07:51.039479",
     "status": "completed"
    },
    "tags": []
   },
   "source": [
    "Después de realizar las predicciones para el modelo SIR procedemos a armar un dataframe para poder visualizar nuestro modelo terminado. A la final tendremos dos datasets ya que el uno es de la primera función, mientras que el otro es de la segunda función"
   ]
  },
  {
   "cell_type": "code",
   "execution_count": 18,
   "id": "09563cc8",
   "metadata": {
    "execution": {
     "iopub.execute_input": "2021-05-05T00:07:51.096990Z",
     "iopub.status.busy": "2021-05-05T00:07:51.096496Z",
     "iopub.status.idle": "2021-05-05T00:07:51.098428Z",
     "shell.execute_reply": "2021-05-05T00:07:51.097837Z"
    },
    "papermill": {
     "duration": 0.024858,
     "end_time": "2021-05-05T00:07:51.098566",
     "exception": false,
     "start_time": "2021-05-05T00:07:51.073708",
     "status": "completed"
    },
    "tags": []
   },
   "outputs": [],
   "source": [
    "df_cr = pd.DataFrame(\n",
    "            {'date':[i for i in range(0,len(new_index))],\n",
    "            'suceptible': prediction_cr.y[0],\n",
    "            'infected': prediction_cr.y[1],\n",
    "            'recovered': prediction_cr.y[2]})\n",
    "df_c = pd.DataFrame(\n",
    "            {'date':[i for i in range(0,len(new_index))],\n",
    "            'suceptible': prediction_c.y[0],\n",
    "            'infected': prediction_c.y[1],\n",
    "            'recovered': prediction_c.y[2]})"
   ]
  },
  {
   "cell_type": "markdown",
   "id": "686cd37b",
   "metadata": {
    "papermill": {
     "duration": 0.017206,
     "end_time": "2021-05-05T00:07:51.132721",
     "exception": false,
     "start_time": "2021-05-05T00:07:51.115515",
     "status": "completed"
    },
    "tags": []
   },
   "source": [
    "#### Dataset Confirmed recovered Cases"
   ]
  },
  {
   "cell_type": "code",
   "execution_count": 19,
   "id": "c1d0eb6b",
   "metadata": {
    "execution": {
     "iopub.execute_input": "2021-05-05T00:07:51.172837Z",
     "iopub.status.busy": "2021-05-05T00:07:51.172293Z",
     "iopub.status.idle": "2021-05-05T00:07:51.183274Z",
     "shell.execute_reply": "2021-05-05T00:07:51.183754Z"
    },
    "papermill": {
     "duration": 0.033569,
     "end_time": "2021-05-05T00:07:51.183934",
     "exception": false,
     "start_time": "2021-05-05T00:07:51.150365",
     "status": "completed"
    },
    "tags": []
   },
   "outputs": [
    {
     "data": {
      "text/html": [
       "<div>\n",
       "<style scoped>\n",
       "    .dataframe tbody tr th:only-of-type {\n",
       "        vertical-align: middle;\n",
       "    }\n",
       "\n",
       "    .dataframe tbody tr th {\n",
       "        vertical-align: top;\n",
       "    }\n",
       "\n",
       "    .dataframe thead th {\n",
       "        text-align: right;\n",
       "    }\n",
       "</style>\n",
       "<table border=\"1\" class=\"dataframe\">\n",
       "  <thead>\n",
       "    <tr style=\"text-align: right;\">\n",
       "      <th></th>\n",
       "      <th>date</th>\n",
       "      <th>suceptible</th>\n",
       "      <th>infected</th>\n",
       "      <th>recovered</th>\n",
       "    </tr>\n",
       "  </thead>\n",
       "  <tbody>\n",
       "    <tr>\n",
       "      <th>0</th>\n",
       "      <td>0</td>\n",
       "      <td>100000.000000</td>\n",
       "      <td>10.000000</td>\n",
       "      <td>0.000000</td>\n",
       "    </tr>\n",
       "    <tr>\n",
       "      <th>1</th>\n",
       "      <td>1</td>\n",
       "      <td>99998.711348</td>\n",
       "      <td>11.058154</td>\n",
       "      <td>0.230498</td>\n",
       "    </tr>\n",
       "    <tr>\n",
       "      <th>2</th>\n",
       "      <td>2</td>\n",
       "      <td>99997.286259</td>\n",
       "      <td>12.228338</td>\n",
       "      <td>0.485403</td>\n",
       "    </tr>\n",
       "    <tr>\n",
       "      <th>3</th>\n",
       "      <td>3</td>\n",
       "      <td>99995.710512</td>\n",
       "      <td>13.522228</td>\n",
       "      <td>0.767260</td>\n",
       "    </tr>\n",
       "    <tr>\n",
       "      <th>4</th>\n",
       "      <td>4</td>\n",
       "      <td>99993.968185</td>\n",
       "      <td>14.952895</td>\n",
       "      <td>1.078920</td>\n",
       "    </tr>\n",
       "  </tbody>\n",
       "</table>\n",
       "</div>"
      ],
      "text/plain": [
       "   date     suceptible   infected  recovered\n",
       "0     0  100000.000000  10.000000   0.000000\n",
       "1     1   99998.711348  11.058154   0.230498\n",
       "2     2   99997.286259  12.228338   0.485403\n",
       "3     3   99995.710512  13.522228   0.767260\n",
       "4     4   99993.968185  14.952895   1.078920"
      ]
     },
     "execution_count": 19,
     "metadata": {},
     "output_type": "execute_result"
    }
   ],
   "source": [
    "df_cr.head(5)"
   ]
  },
  {
   "cell_type": "code",
   "execution_count": 20,
   "id": "f85fda0c",
   "metadata": {
    "execution": {
     "iopub.execute_input": "2021-05-05T00:07:51.245402Z",
     "iopub.status.busy": "2021-05-05T00:07:51.244764Z",
     "iopub.status.idle": "2021-05-05T00:07:51.262283Z",
     "shell.execute_reply": "2021-05-05T00:07:51.262681Z"
    },
    "papermill": {
     "duration": 0.058812,
     "end_time": "2021-05-05T00:07:51.262853",
     "exception": false,
     "start_time": "2021-05-05T00:07:51.204041",
     "status": "completed"
    },
    "tags": []
   },
   "outputs": [
    {
     "data": {
      "text/html": [
       "\n",
       "<div id=\"altair-viz-d83995b751d949d6ae6dad113bccb44f\"></div>\n",
       "<script type=\"text/javascript\">\n",
       "  (function(spec, embedOpt){\n",
       "    let outputDiv = document.currentScript.previousElementSibling;\n",
       "    if (outputDiv.id !== \"altair-viz-d83995b751d949d6ae6dad113bccb44f\") {\n",
       "      outputDiv = document.getElementById(\"altair-viz-d83995b751d949d6ae6dad113bccb44f\");\n",
       "    }\n",
       "    const paths = {\n",
       "      \"vega\": \"https://cdn.jsdelivr.net/npm//vega@5?noext\",\n",
       "      \"vega-lib\": \"https://cdn.jsdelivr.net/npm//vega-lib?noext\",\n",
       "      \"vega-lite\": \"https://cdn.jsdelivr.net/npm//vega-lite@4.8.1?noext\",\n",
       "      \"vega-embed\": \"https://cdn.jsdelivr.net/npm//vega-embed@6?noext\",\n",
       "    };\n",
       "\n",
       "    function loadScript(lib) {\n",
       "      return new Promise(function(resolve, reject) {\n",
       "        var s = document.createElement('script');\n",
       "        s.src = paths[lib];\n",
       "        s.async = true;\n",
       "        s.onload = () => resolve(paths[lib]);\n",
       "        s.onerror = () => reject(`Error loading script: ${paths[lib]}`);\n",
       "        document.getElementsByTagName(\"head\")[0].appendChild(s);\n",
       "      });\n",
       "    }\n",
       "\n",
       "    function showError(err) {\n",
       "      outputDiv.innerHTML = `<div class=\"error\" style=\"color:red;\">${err}</div>`;\n",
       "      throw err;\n",
       "    }\n",
       "\n",
       "    function displayChart(vegaEmbed) {\n",
       "      vegaEmbed(outputDiv, spec, embedOpt)\n",
       "        .catch(err => showError(`Javascript Error: ${err.message}<br>This usually means there's a typo in your chart specification. See the javascript console for the full traceback.`));\n",
       "    }\n",
       "\n",
       "    if(typeof define === \"function\" && define.amd) {\n",
       "      requirejs.config({paths});\n",
       "      require([\"vega-embed\"], displayChart, err => showError(`Error loading script: ${err.message}`));\n",
       "    } else if (typeof vegaEmbed === \"function\") {\n",
       "      displayChart(vegaEmbed);\n",
       "    } else {\n",
       "      loadScript(\"vega\")\n",
       "        .then(() => loadScript(\"vega-lite\"))\n",
       "        .then(() => loadScript(\"vega-embed\"))\n",
       "        .catch(showError)\n",
       "        .then(() => displayChart(vegaEmbed));\n",
       "    }\n",
       "  })({\"config\": {\"view\": {\"continuousWidth\": 400, \"continuousHeight\": 300}}, \"data\": {\"name\": \"data-bd460db99b51b9b8632d2f3e0dad06a1\"}, \"mark\": \"line\", \"encoding\": {\"color\": {\"type\": \"nominal\", \"field\": \"variable\"}, \"x\": {\"type\": \"quantitative\", \"field\": \"date\"}, \"y\": {\"type\": \"quantitative\", \"field\": \"value\"}}, \"selection\": {\"selector001\": {\"type\": \"interval\", \"bind\": \"scales\", \"encodings\": [\"x\", \"y\"]}}, \"title\": \"SIR model for Ecuador with confirmed and recovered cases\", \"$schema\": \"https://vega.github.io/schema/vega-lite/v4.8.1.json\", \"datasets\": {\"data-bd460db99b51b9b8632d2f3e0dad06a1\": [{\"date\": 0, \"variable\": \"suceptible\", \"value\": 100000.0}, {\"date\": 1, \"variable\": \"suceptible\", \"value\": 99998.71134840419}, {\"date\": 2, \"variable\": \"suceptible\", \"value\": 99997.28625946204}, {\"date\": 3, \"variable\": \"suceptible\", \"value\": 99995.71051186512}, {\"date\": 4, \"variable\": \"suceptible\", \"value\": 99993.9681850077}, {\"date\": 5, \"variable\": \"suceptible\", \"value\": 99992.04151399256}, {\"date\": 6, \"variable\": \"suceptible\", \"value\": 99989.91088963089}, {\"date\": 7, \"variable\": \"suceptible\", \"value\": 99987.55485411332}, {\"date\": 8, \"variable\": \"suceptible\", \"value\": 99984.94873174735}, {\"date\": 9, \"variable\": \"suceptible\", \"value\": 99982.0669977508}, {\"date\": 10, \"variable\": \"suceptible\", \"value\": 99978.88189836645}, {\"date\": 11, \"variable\": \"suceptible\", \"value\": 99975.36146386145}, {\"date\": 12, \"variable\": \"suceptible\", \"value\": 99971.46950852715}, {\"date\": 13, \"variable\": \"suceptible\", \"value\": 99967.16563067916}, {\"date\": 14, \"variable\": \"suceptible\", \"value\": 99962.40521265738}, {\"date\": 15, \"variable\": \"suceptible\", \"value\": 99957.13942082599}, {\"date\": 16, \"variable\": \"suceptible\", \"value\": 99951.31520557338}, {\"date\": 17, \"variable\": \"suceptible\", \"value\": 99944.87530131228}, {\"date\": 18, \"variable\": \"suceptible\", \"value\": 99937.7564338868}, {\"date\": 19, \"variable\": \"suceptible\", \"value\": 99929.88083863698}, {\"date\": 20, \"variable\": \"suceptible\", \"value\": 99921.17632935266}, {\"date\": 21, \"variable\": \"suceptible\", \"value\": 99911.56076442079}, {\"date\": 22, \"variable\": \"suceptible\", \"value\": 99900.93854319134}, {\"date\": 23, \"variable\": \"suceptible\", \"value\": 99889.20060597727}, {\"date\": 24, \"variable\": \"suceptible\", \"value\": 99876.22443405451}, {\"date\": 25, \"variable\": \"suceptible\", \"value\": 99861.87404966204}, {\"date\": 26, \"variable\": \"suceptible\", \"value\": 99846.0000160018}, {\"date\": 27, \"variable\": \"suceptible\", \"value\": 99828.43943723872}, {\"date\": 28, \"variable\": \"suceptible\", \"value\": 99809.01595850076}, {\"date\": 29, \"variable\": \"suceptible\", \"value\": 99787.53976587887}, {\"date\": 30, \"variable\": \"suceptible\", \"value\": 99763.80758642698}, {\"date\": 31, \"variable\": \"suceptible\", \"value\": 99737.59254970805}, {\"date\": 32, \"variable\": \"suceptible\", \"value\": 99708.60652322172}, {\"date\": 33, \"variable\": \"suceptible\", \"value\": 99676.58947233923}, {\"date\": 34, \"variable\": \"suceptible\", \"value\": 99641.24525126061}, {\"date\": 35, \"variable\": \"suceptible\", \"value\": 99602.2295191479}, {\"date\": 36, \"variable\": \"suceptible\", \"value\": 99559.14974012513}, {\"date\": 37, \"variable\": \"suceptible\", \"value\": 99511.56518327826}, {\"date\": 38, \"variable\": \"suceptible\", \"value\": 99458.9869226553}, {\"date\": 39, \"variable\": \"suceptible\", \"value\": 99400.8778372662}, {\"date\": 40, \"variable\": \"suceptible\", \"value\": 99336.65261108291}, {\"date\": 41, \"variable\": \"suceptible\", \"value\": 99265.67773303935}, {\"date\": 42, \"variable\": \"suceptible\", \"value\": 99187.27149703144}, {\"date\": 43, \"variable\": \"suceptible\", \"value\": 99100.70400191705}, {\"date\": 44, \"variable\": \"suceptible\", \"value\": 99005.19715151608}, {\"date\": 45, \"variable\": \"suceptible\", \"value\": 98899.91430527034}, {\"date\": 46, \"variable\": \"suceptible\", \"value\": 98783.85091109796}, {\"date\": 47, \"variable\": \"suceptible\", \"value\": 98655.93815979353}, {\"date\": 48, \"variable\": \"suceptible\", \"value\": 98514.99545985807}, {\"date\": 49, \"variable\": \"suceptible\", \"value\": 98359.70621824476}, {\"date\": 50, \"variable\": \"suceptible\", \"value\": 98188.61784035883}, {\"date\": 51, \"variable\": \"suceptible\", \"value\": 98000.1417300576}, {\"date\": 52, \"variable\": \"suceptible\", \"value\": 97792.55328965049}, {\"date\": 53, \"variable\": \"suceptible\", \"value\": 97563.99191989902}, {\"date\": 54, \"variable\": \"suceptible\", \"value\": 97312.4610200168}, {\"date\": 55, \"variable\": \"suceptible\", \"value\": 97035.8279876695}, {\"date\": 56, \"variable\": \"suceptible\", \"value\": 96731.82421897491}, {\"date\": 57, \"variable\": \"suceptible\", \"value\": 96398.04510850292}, {\"date\": 58, \"variable\": \"suceptible\", \"value\": 96031.95004927549}, {\"date\": 59, \"variable\": \"suceptible\", \"value\": 95630.86243276666}, {\"date\": 60, \"variable\": \"suceptible\", \"value\": 95192.39911164046}, {\"date\": 61, \"variable\": \"suceptible\", \"value\": 94714.45771214289}, {\"date\": 62, \"variable\": \"suceptible\", \"value\": 94192.62292794816}, {\"date\": 63, \"variable\": \"suceptible\", \"value\": 93622.4660364509}, {\"date\": 64, \"variable\": \"suceptible\", \"value\": 92999.73868226407}, {\"date\": 65, \"variable\": \"suceptible\", \"value\": 92320.37287721898}, {\"date\": 66, \"variable\": \"suceptible\", \"value\": 91580.48100036528}, {\"date\": 67, \"variable\": \"suceptible\", \"value\": 90776.35579797097}, {\"date\": 68, \"variable\": \"suceptible\", \"value\": 89904.47038352242}, {\"date\": 69, \"variable\": \"suceptible\", \"value\": 88961.47823772431}, {\"date\": 70, \"variable\": \"suceptible\", \"value\": 87944.21320849973}, {\"date\": 71, \"variable\": \"suceptible\", \"value\": 86849.68951099005}, {\"date\": 72, \"variable\": \"suceptible\", \"value\": 85675.10172755504}, {\"date\": 73, \"variable\": \"suceptible\", \"value\": 84417.82480777278}, {\"date\": 74, \"variable\": \"suceptible\", \"value\": 83075.41406843973}, {\"date\": 75, \"variable\": \"suceptible\", \"value\": 81645.61082797917}, {\"date\": 76, \"variable\": \"suceptible\", \"value\": 80127.12640292419}, {\"date\": 77, \"variable\": \"suceptible\", \"value\": 78520.10784581503}, {\"date\": 78, \"variable\": \"suceptible\", \"value\": 76825.52812761364}, {\"date\": 79, \"variable\": \"suceptible\", \"value\": 75045.28504961141}, {\"date\": 80, \"variable\": \"suceptible\", \"value\": 73182.20124342911}, {\"date\": 81, \"variable\": \"suceptible\", \"value\": 71240.02417101694}, {\"date\": 82, \"variable\": \"suceptible\", \"value\": 69223.42612465445}, {\"date\": 83, \"variable\": \"suceptible\", \"value\": 67138.00422695064}, {\"date\": 84, \"variable\": \"suceptible\", \"value\": 64990.280430843886}, {\"date\": 85, \"variable\": \"suceptible\", \"value\": 62787.70151960198}, {\"date\": 86, \"variable\": \"suceptible\", \"value\": 60538.6391068221}, {\"date\": 87, \"variable\": \"suceptible\", \"value\": 58252.3896364308}, {\"date\": 88, \"variable\": \"suceptible\", \"value\": 55939.17438268411}, {\"date\": 89, \"variable\": \"suceptible\", \"value\": 53610.13945016741}, {\"date\": 90, \"variable\": \"suceptible\", \"value\": 51277.355773795454}, {\"date\": 91, \"variable\": \"suceptible\", \"value\": 48953.81911881245}, {\"date\": 92, \"variable\": \"suceptible\", \"value\": 46653.45008079198}, {\"date\": 93, \"variable\": \"suceptible\", \"value\": 44391.094085637036}, {\"date\": 94, \"variable\": \"suceptible\", \"value\": 42177.45442869754}, {\"date\": 95, \"variable\": \"suceptible\", \"value\": 40014.942542671255}, {\"date\": 96, \"variable\": \"suceptible\", \"value\": 37909.57263113197}, {\"date\": 97, \"variable\": \"suceptible\", \"value\": 35866.75636174565}, {\"date\": 98, \"variable\": \"suceptible\", \"value\": 33891.216393003415}, {\"date\": 99, \"variable\": \"suceptible\", \"value\": 31986.986374221524}, {\"date\": 100, \"variable\": \"suceptible\", \"value\": 30157.4109455414}, {\"date\": 101, \"variable\": \"suceptible\", \"value\": 28405.145737929604}, {\"date\": 102, \"variable\": \"suceptible\", \"value\": 26732.15737317786}, {\"date\": 103, \"variable\": \"suceptible\", \"value\": 25139.72346390304}, {\"date\": 104, \"variable\": \"suceptible\", \"value\": 23628.43261354717}, {\"date\": 105, \"variable\": \"suceptible\", \"value\": 22198.184416377426}, {\"date\": 106, \"variable\": \"suceptible\", \"value\": 20848.189457486144}, {\"date\": 107, \"variable\": \"suceptible\", \"value\": 19576.969312790803}, {\"date\": 108, \"variable\": \"suceptible\", \"value\": 18382.356549034033}, {\"date\": 109, \"variable\": \"suceptible\", \"value\": 17261.494723783628}, {\"date\": 110, \"variable\": \"suceptible\", \"value\": 16210.838385432515}, {\"date\": 111, \"variable\": \"suceptible\", \"value\": 15226.153073198784}, {\"date\": 112, \"variable\": \"suceptible\", \"value\": 14303.30691991252}, {\"date\": 113, \"variable\": \"suceptible\", \"value\": 13441.313551702133}, {\"date\": 114, \"variable\": \"suceptible\", \"value\": 12636.389629214898}, {\"date\": 115, \"variable\": \"suceptible\", \"value\": 11884.48783731167}, {\"date\": 116, \"variable\": \"suceptible\", \"value\": 11181.827797685211}, {\"date\": 117, \"variable\": \"suceptible\", \"value\": 10524.896068860187}, {\"date\": 118, \"variable\": \"suceptible\", \"value\": 9910.446146193175}, {\"date\": 119, \"variable\": \"suceptible\", \"value\": 9335.498461872661}, {\"date\": 120, \"variable\": \"suceptible\", \"value\": 8797.340384919036}, {\"date\": 121, \"variable\": \"suceptible\", \"value\": 8293.526221184607}, {\"date\": 122, \"variable\": \"suceptible\", \"value\": 7821.87721335358}, {\"date\": 123, \"variable\": \"suceptible\", \"value\": 7380.481540942075}, {\"date\": 124, \"variable\": \"suceptible\", \"value\": 6967.6943202981165}, {\"date\": 125, \"variable\": \"suceptible\", \"value\": 6582.137604601643}, {\"date\": 126, \"variable\": \"suceptible\", \"value\": 6222.700383864494}, {\"date\": 127, \"variable\": \"suceptible\", \"value\": 5888.538584930424}, {\"date\": 128, \"variable\": \"suceptible\", \"value\": 5579.07507147509}, {\"date\": 129, \"variable\": \"suceptible\", \"value\": 5293.680190154804}, {\"date\": 130, \"variable\": \"suceptible\", \"value\": 5027.876557385911}, {\"date\": 131, \"variable\": \"suceptible\", \"value\": 4779.270896011437}, {\"date\": 132, \"variable\": \"suceptible\", \"value\": 4546.64874181276}, {\"date\": 133, \"variable\": \"suceptible\", \"value\": 4328.864848931488}, {\"date\": 134, \"variable\": \"suceptible\", \"value\": 4124.843189869463}, {\"date\": 135, \"variable\": \"suceptible\", \"value\": 3933.5769554887547}, {\"date\": 136, \"variable\": \"suceptible\", \"value\": 3754.1285550116695}, {\"date\": 137, \"variable\": \"suceptible\", \"value\": 3585.629616020742}, {\"date\": 138, \"variable\": \"suceptible\", \"value\": 3427.280984458742}, {\"date\": 139, \"variable\": \"suceptible\", \"value\": 3278.3527246286676}, {\"date\": 140, \"variable\": \"suceptible\", \"value\": 3138.184119193751}, {\"date\": 141, \"variable\": \"suceptible\", \"value\": 3006.183669177458}, {\"date\": 142, \"variable\": \"suceptible\", \"value\": 2881.8290939634812}, {\"date\": 143, \"variable\": \"suceptible\", \"value\": 2764.66733129575}, {\"date\": 144, \"variable\": \"suceptible\", \"value\": 2654.314537278424}, {\"date\": 145, \"variable\": \"suceptible\", \"value\": 2550.4560863758934}, {\"date\": 146, \"variable\": \"suceptible\", \"value\": 2452.839743604069}, {\"date\": 147, \"variable\": \"suceptible\", \"value\": 2360.805973389452}, {\"date\": 148, \"variable\": \"suceptible\", \"value\": 2273.8024107038154}, {\"date\": 149, \"variable\": \"suceptible\", \"value\": 2191.5373612212516}, {\"date\": 150, \"variable\": \"suceptible\", \"value\": 2113.7312568785974}, {\"date\": 151, \"variable\": \"suceptible\", \"value\": 2040.1166558754346}, {\"date\": 152, \"variable\": \"suceptible\", \"value\": 1970.4382426740895}, {\"date\": 153, \"variable\": \"suceptible\", \"value\": 1904.4528279996343}, {\"date\": 154, \"variable\": \"suceptible\", \"value\": 1841.9293488398862}, {\"date\": 155, \"variable\": \"suceptible\", \"value\": 1782.6488684454062}, {\"date\": 156, \"variable\": \"suceptible\", \"value\": 1726.4045763295026}, {\"date\": 157, \"variable\": \"suceptible\", \"value\": 1673.0017882682268}, {\"date\": 158, \"variable\": \"suceptible\", \"value\": 1622.2579463003758}, {\"date\": 159, \"variable\": \"suceptible\", \"value\": 1574.002618727492}, {\"date\": 160, \"variable\": \"suceptible\", \"value\": 1528.0775001138627}, {\"date\": 161, \"variable\": \"suceptible\", \"value\": 1484.33641128652}, {\"date\": 162, \"variable\": \"suceptible\", \"value\": 1442.6452993352414}, {\"date\": 163, \"variable\": \"suceptible\", \"value\": 1402.8822376125488}, {\"date\": 164, \"variable\": \"suceptible\", \"value\": 1364.9374257337106}, {\"date\": 165, \"variable\": \"suceptible\", \"value\": 1328.713189576738}, {\"date\": 166, \"variable\": \"suceptible\", \"value\": 1294.1239812823899}, {\"date\": 167, \"variable\": \"suceptible\", \"value\": 1261.0963792541677}, {\"date\": 168, \"variable\": \"suceptible\", \"value\": 1229.5690881583193}, {\"date\": 169, \"variable\": \"suceptible\", \"value\": 1199.492938923838}, {\"date\": 170, \"variable\": \"suceptible\", \"value\": 1170.773019265693}, {\"date\": 171, \"variable\": \"suceptible\", \"value\": 1143.2216573418643}, {\"date\": 172, \"variable\": \"suceptible\", \"value\": 1116.7906344931966}, {\"date\": 173, \"variable\": \"suceptible\", \"value\": 1091.4403432976942}, {\"date\": 174, \"variable\": \"suceptible\", \"value\": 1067.1318722730541}, {\"date\": 175, \"variable\": \"suceptible\", \"value\": 1043.8270058766645}, {\"date\": 176, \"variable\": \"suceptible\", \"value\": 1021.488224505606}, {\"date\": 177, \"variable\": \"suceptible\", \"value\": 1000.0787044966507}, {\"date\": 178, \"variable\": \"suceptible\", \"value\": 979.5623181262627}, {\"date\": 179, \"variable\": \"suceptible\", \"value\": 959.9036336105979}, {\"date\": 180, \"variable\": \"suceptible\", \"value\": 941.0679151055041}, {\"date\": 181, \"variable\": \"suceptible\", \"value\": 923.0211227065208}, {\"date\": 182, \"variable\": \"suceptible\", \"value\": 905.7299124488796}, {\"date\": 183, \"variable\": \"suceptible\", \"value\": 889.1616363075038}, {\"date\": 184, \"variable\": \"suceptible\", \"value\": 873.2843421970088}, {\"date\": 185, \"variable\": \"suceptible\", \"value\": 858.066773971701}, {\"date\": 186, \"variable\": \"suceptible\", \"value\": 843.4783714255798}, {\"date\": 187, \"variable\": \"suceptible\", \"value\": 829.4892702923357}, {\"date\": 188, \"variable\": \"suceptible\", \"value\": 816.0703022453515}, {\"date\": 189, \"variable\": \"suceptible\", \"value\": 803.1929948977015}, {\"date\": 190, \"variable\": \"suceptible\", \"value\": 790.8295718021519}, {\"date\": 191, \"variable\": \"suceptible\", \"value\": 778.9529524511609}, {\"date\": 192, \"variable\": \"suceptible\", \"value\": 767.5367522768784}, {\"date\": 193, \"variable\": \"suceptible\", \"value\": 756.5552826511464}, {\"date\": 194, \"variable\": \"suceptible\", \"value\": 745.9835508854985}, {\"date\": 195, \"variable\": \"suceptible\", \"value\": 735.7972602311602}, {\"date\": 196, \"variable\": \"suceptible\", \"value\": 725.9728098790488}, {\"date\": 197, \"variable\": \"suceptible\", \"value\": 716.4872949597736}, {\"date\": 198, \"variable\": \"suceptible\", \"value\": 707.3185065436359}, {\"date\": 199, \"variable\": \"suceptible\", \"value\": 698.444931640628}, {\"date\": 200, \"variable\": \"suceptible\", \"value\": 689.8457532004355}, {\"date\": 201, \"variable\": \"suceptible\", \"value\": 681.5008501124347}, {\"date\": 202, \"variable\": \"suceptible\", \"value\": 673.3907972056938}, {\"date\": 203, \"variable\": \"suceptible\", \"value\": 665.4968652489736}, {\"date\": 204, \"variable\": \"suceptible\", \"value\": 657.801020950726}, {\"date\": 205, \"variable\": \"suceptible\", \"value\": 650.2859269590951}, {\"date\": 206, \"variable\": \"suceptible\", \"value\": 642.9353977221025}, {\"date\": 207, \"variable\": \"suceptible\", \"value\": 635.7734676904458}, {\"date\": 208, \"variable\": \"suceptible\", \"value\": 628.8183689749449}, {\"date\": 209, \"variable\": \"suceptible\", \"value\": 622.0658740484743}, {\"date\": 210, \"variable\": \"suceptible\", \"value\": 615.5117574065771}, {\"date\": 211, \"variable\": \"suceptible\", \"value\": 609.1517955674655}, {\"date\": 212, \"variable\": \"suceptible\", \"value\": 602.9817670720195}, {\"date\": 213, \"variable\": \"suceptible\", \"value\": 596.9974524837883}, {\"date\": 214, \"variable\": \"suceptible\", \"value\": 591.1946343889895}, {\"date\": 215, \"variable\": \"suceptible\", \"value\": 585.5690973965093}, {\"date\": 216, \"variable\": \"suceptible\", \"value\": 580.1166281379024}, {\"date\": 217, \"variable\": \"suceptible\", \"value\": 574.833015267392}, {\"date\": 218, \"variable\": \"suceptible\", \"value\": 569.7140494618704}, {\"date\": 219, \"variable\": \"suceptible\", \"value\": 564.755523420898}, {\"date\": 220, \"variable\": \"suceptible\", \"value\": 559.953231866704}, {\"date\": 221, \"variable\": \"suceptible\", \"value\": 555.3029715441859}, {\"date\": 222, \"variable\": \"suceptible\", \"value\": 550.8005412209101}, {\"date\": 223, \"variable\": \"suceptible\", \"value\": 546.4417416871116}, {\"date\": 224, \"variable\": \"suceptible\", \"value\": 542.2223757556939}, {\"date\": 225, \"variable\": \"suceptible\", \"value\": 538.1382482622289}, {\"date\": 226, \"variable\": \"suceptible\", \"value\": 534.1851660649575}, {\"date\": 227, \"variable\": \"suceptible\", \"value\": 530.3589380447888}, {\"date\": 228, \"variable\": \"suceptible\", \"value\": 526.6553751053007}, {\"date\": 229, \"variable\": \"suceptible\", \"value\": 523.0702901727396}, {\"date\": 230, \"variable\": \"suceptible\", \"value\": 519.5994981960207}, {\"date\": 231, \"variable\": \"suceptible\", \"value\": 516.2388161467275}, {\"date\": 232, \"variable\": \"suceptible\", \"value\": 512.9840630191121}, {\"date\": 233, \"variable\": \"suceptible\", \"value\": 509.8310598300955}, {\"date\": 234, \"variable\": \"suceptible\", \"value\": 506.775629619267}, {\"date\": 235, \"variable\": \"suceptible\", \"value\": 503.8135974488846}, {\"date\": 236, \"variable\": \"suceptible\", \"value\": 500.94079040387487}, {\"date\": 237, \"variable\": \"suceptible\", \"value\": 498.15303759183297}, {\"date\": 238, \"variable\": \"suceptible\", \"value\": 495.4461701430226}, {\"date\": 239, \"variable\": \"suceptible\", \"value\": 492.8160212103762}, {\"date\": 240, \"variable\": \"suceptible\", \"value\": 490.25842596949474}, {\"date\": 241, \"variable\": \"suceptible\", \"value\": 487.7692216186475}, {\"date\": 242, \"variable\": \"suceptible\", \"value\": 485.34424737877293}, {\"date\": 243, \"variable\": \"suceptible\", \"value\": 482.9793444934774}, {\"date\": 244, \"variable\": \"suceptible\", \"value\": 480.67035622903643}, {\"date\": 245, \"variable\": \"suceptible\", \"value\": 478.4131278743938}, {\"date\": 246, \"variable\": \"suceptible\", \"value\": 476.20350674116213}, {\"date\": 247, \"variable\": \"suceptible\", \"value\": 474.03734216362227}, {\"date\": 248, \"variable\": \"suceptible\", \"value\": 471.91048549872403}, {\"date\": 249, \"variable\": \"suceptible\", \"value\": 469.81879012608556}, {\"date\": 250, \"variable\": \"suceptible\", \"value\": 467.75811144799377}, {\"date\": 251, \"variable\": \"suceptible\", \"value\": 465.72430688940403}, {\"date\": 252, \"variable\": \"suceptible\", \"value\": 463.726290823179}, {\"date\": 253, \"variable\": \"suceptible\", \"value\": 461.7762750485276}, {\"date\": 254, \"variable\": \"suceptible\", \"value\": 459.87333349277196}, {\"date\": 255, \"variable\": \"suceptible\", \"value\": 458.01653944396116}, {\"date\": 256, \"variable\": \"suceptible\", \"value\": 456.2049722017663}, {\"date\": 257, \"variable\": \"suceptible\", \"value\": 454.43771707748033}, {\"date\": 258, \"variable\": \"suceptible\", \"value\": 452.71386539401817}, {\"date\": 259, \"variable\": \"suceptible\", \"value\": 451.0325144859166}, {\"date\": 260, \"variable\": \"suceptible\", \"value\": 449.3927676993342}, {\"date\": 261, \"variable\": \"suceptible\", \"value\": 447.7937343920515}, {\"date\": 262, \"variable\": \"suceptible\", \"value\": 446.234529933471}, {\"date\": 263, \"variable\": \"suceptible\", \"value\": 444.71427570461697}, {\"date\": 264, \"variable\": \"suceptible\", \"value\": 443.2320990981356}, {\"date\": 265, \"variable\": \"suceptible\", \"value\": 441.78713351829515}, {\"date\": 266, \"variable\": \"suceptible\", \"value\": 440.37851838098544}, {\"date\": 267, \"variable\": \"suceptible\", \"value\": 439.00539911371845}, {\"date\": 268, \"variable\": \"suceptible\", \"value\": 437.66692715562795}, {\"date\": 269, \"variable\": \"suceptible\", \"value\": 436.36225995746963}, {\"date\": 270, \"variable\": \"suceptible\", \"value\": 435.09056098162097}, {\"date\": 271, \"variable\": \"suceptible\", \"value\": 433.8509997020815}, {\"date\": 272, \"variable\": \"suceptible\", \"value\": 432.6427516044725}, {\"date\": 273, \"variable\": \"suceptible\", \"value\": 431.4649981860373}, {\"date\": 274, \"variable\": \"suceptible\", \"value\": 430.31692695564095}, {\"date\": 275, \"variable\": \"suceptible\", \"value\": 429.1977314337705}, {\"date\": 276, \"variable\": \"suceptible\", \"value\": 428.1066111525348}, {\"date\": 277, \"variable\": \"suceptible\", \"value\": 427.04277165566475}, {\"date\": 278, \"variable\": \"suceptible\", \"value\": 426.005424498513}, {\"date\": 279, \"variable\": \"suceptible\", \"value\": 424.9937872480541}, {\"date\": 280, \"variable\": \"suceptible\", \"value\": 424.0070834828846}, {\"date\": 281, \"variable\": \"suceptible\", \"value\": 423.0445427932228}, {\"date\": 282, \"variable\": \"suceptible\", \"value\": 422.1054007809089}, {\"date\": 283, \"variable\": \"suceptible\", \"value\": 421.1888990594052}, {\"date\": 284, \"variable\": \"suceptible\", \"value\": 420.29428525379564}, {\"date\": 285, \"variable\": \"suceptible\", \"value\": 419.42081300078615}, {\"date\": 286, \"variable\": \"suceptible\", \"value\": 418.56774194870457}, {\"date\": 287, \"variable\": \"suceptible\", \"value\": 417.73433775750067}, {\"date\": 288, \"variable\": \"suceptible\", \"value\": 416.919872098746}, {\"date\": 289, \"variable\": \"suceptible\", \"value\": 416.123622655634}, {\"date\": 290, \"variable\": \"suceptible\", \"value\": 415.3448731229802}, {\"date\": 291, \"variable\": \"suceptible\", \"value\": 414.5829132072217}, {\"date\": 292, \"variable\": \"suceptible\", \"value\": 413.8370386264178}, {\"date\": 293, \"variable\": \"suceptible\", \"value\": 413.10655111024954}, {\"date\": 294, \"variable\": \"suceptible\", \"value\": 412.3907584000198}, {\"date\": 295, \"variable\": \"suceptible\", \"value\": 411.68897424865355}, {\"date\": 296, \"variable\": \"suceptible\", \"value\": 411.00051842069746}, {\"date\": 297, \"variable\": \"suceptible\", \"value\": 410.32561771294985}, {\"date\": 298, \"variable\": \"suceptible\", \"value\": 409.66548322492133}, {\"date\": 299, \"variable\": \"suceptible\", \"value\": 409.01988335717294}, {\"date\": 300, \"variable\": \"suceptible\", \"value\": 408.3885543929019}, {\"date\": 301, \"variable\": \"suceptible\", \"value\": 407.77123447095613}, {\"date\": 302, \"variable\": \"suceptible\", \"value\": 407.1676635858345}, {\"date\": 303, \"variable\": \"suceptible\", \"value\": 406.5775835876865}, {\"date\": 304, \"variable\": \"suceptible\", \"value\": 406.00073818231266}, {\"date\": 305, \"variable\": \"suceptible\", \"value\": 405.4368729311641}, {\"date\": 306, \"variable\": \"suceptible\", \"value\": 404.88573525134285}, {\"date\": 307, \"variable\": \"suceptible\", \"value\": 404.34707441560187}, {\"date\": 308, \"variable\": \"suceptible\", \"value\": 403.8206415523447}, {\"date\": 309, \"variable\": \"suceptible\", \"value\": 403.30618964562575}, {\"date\": 310, \"variable\": \"suceptible\", \"value\": 402.80347353515043}, {\"date\": 311, \"variable\": \"suceptible\", \"value\": 402.31224991627477}, {\"date\": 312, \"variable\": \"suceptible\", \"value\": 401.8322773400056}, {\"date\": 313, \"variable\": \"suceptible\", \"value\": 401.36331621300064}, {\"date\": 314, \"variable\": \"suceptible\", \"value\": 400.90512879756847}, {\"date\": 315, \"variable\": \"suceptible\", \"value\": 400.4574792116683}, {\"date\": 316, \"variable\": \"suceptible\", \"value\": 400.0201334289104}, {\"date\": 317, \"variable\": \"suceptible\", \"value\": 399.5928592785556}, {\"date\": 318, \"variable\": \"suceptible\", \"value\": 399.17542644551565}, {\"date\": 319, \"variable\": \"suceptible\", \"value\": 398.7676064703532}, {\"date\": 320, \"variable\": \"suceptible\", \"value\": 398.3691727492815}, {\"date\": 321, \"variable\": \"suceptible\", \"value\": 397.9799005341648}, {\"date\": 322, \"variable\": \"suceptible\", \"value\": 397.5995669325181}, {\"date\": 323, \"variable\": \"suceptible\", \"value\": 397.2279509075071}, {\"date\": 324, \"variable\": \"suceptible\", \"value\": 396.86483327794855}, {\"date\": 325, \"variable\": \"suceptible\", \"value\": 396.50999671830976}, {\"date\": 326, \"variable\": \"suceptible\", \"value\": 396.163225758709}, {\"date\": 327, \"variable\": \"suceptible\", \"value\": 395.82430678491534}, {\"date\": 328, \"variable\": \"suceptible\", \"value\": 395.49302803834854}, {\"date\": 329, \"variable\": \"suceptible\", \"value\": 395.16917961607936}, {\"date\": 330, \"variable\": \"suceptible\", \"value\": 394.8525534708292}, {\"date\": 331, \"variable\": \"suceptible\", \"value\": 394.5429434109704}, {\"date\": 332, \"variable\": \"suceptible\", \"value\": 394.240145100526}, {\"date\": 333, \"variable\": \"suceptible\", \"value\": 393.94395605916986}, {\"date\": 334, \"variable\": \"suceptible\", \"value\": 393.65417566222675}, {\"date\": 335, \"variable\": \"suceptible\", \"value\": 393.37060514067224}, {\"date\": 336, \"variable\": \"suceptible\", \"value\": 393.0930475811325}, {\"date\": 337, \"variable\": \"suceptible\", \"value\": 392.82130792588487}, {\"date\": 338, \"variable\": \"suceptible\", \"value\": 392.5551929728571}, {\"date\": 339, \"variable\": \"suceptible\", \"value\": 392.2945113756281}, {\"date\": 340, \"variable\": \"suceptible\", \"value\": 392.03907364342734}, {\"date\": 341, \"variable\": \"suceptible\", \"value\": 391.78869214113524}, {\"date\": 342, \"variable\": \"suceptible\", \"value\": 391.54319457397094}, {\"date\": 343, \"variable\": \"suceptible\", \"value\": 391.3027450181446}, {\"date\": 344, \"variable\": \"suceptible\", \"value\": 391.0673831801197}, {\"date\": 345, \"variable\": \"suceptible\", \"value\": 390.83702039440465}, {\"date\": 346, \"variable\": \"suceptible\", \"value\": 390.61156864079703}, {\"date\": 347, \"variable\": \"suceptible\", \"value\": 390.39094054438357}, {\"date\": 348, \"variable\": \"suceptible\", \"value\": 390.17504937554014}, {\"date\": 349, \"variable\": \"suceptible\", \"value\": 389.9638090499317}, {\"date\": 350, \"variable\": \"suceptible\", \"value\": 389.7571341285123}, {\"date\": 351, \"variable\": \"suceptible\", \"value\": 389.5549398175252}, {\"date\": 352, \"variable\": \"suceptible\", \"value\": 389.35714196850296}, {\"date\": 353, \"variable\": \"suceptible\", \"value\": 389.1636570782669}, {\"date\": 354, \"variable\": \"suceptible\", \"value\": 388.97440228892776}, {\"date\": 355, \"variable\": \"suceptible\", \"value\": 388.7892953878853}, {\"date\": 356, \"variable\": \"suceptible\", \"value\": 388.60825480782853}, {\"date\": 357, \"variable\": \"suceptible\", \"value\": 388.43119962673546}, {\"date\": 358, \"variable\": \"suceptible\", \"value\": 388.25804956787323}, {\"date\": 359, \"variable\": \"suceptible\", \"value\": 388.0887249997983}, {\"date\": 360, \"variable\": \"suceptible\", \"value\": 387.923146936356}, {\"date\": 361, \"variable\": \"suceptible\", \"value\": 387.76123703668105}, {\"date\": 362, \"variable\": \"suceptible\", \"value\": 387.60291760519715}, {\"date\": 363, \"variable\": \"suceptible\", \"value\": 387.44811159161713}, {\"date\": 364, \"variable\": \"suceptible\", \"value\": 387.2967425909431}, {\"date\": 365, \"variable\": \"suceptible\", \"value\": 387.1487348434661}, {\"date\": 366, \"variable\": \"suceptible\", \"value\": 387.00401323476655}, {\"date\": 367, \"variable\": \"suceptible\", \"value\": 386.8625032957137}, {\"date\": 368, \"variable\": \"suceptible\", \"value\": 386.72413120246625}, {\"date\": 369, \"variable\": \"suceptible\", \"value\": 386.58882377647177}, {\"date\": 370, \"variable\": \"suceptible\", \"value\": 386.4565084844672}, {\"date\": 371, \"variable\": \"suceptible\", \"value\": 386.32711343847836}, {\"date\": 372, \"variable\": \"suceptible\", \"value\": 386.2005673958205}, {\"date\": 373, \"variable\": \"suceptible\", \"value\": 386.07679975909775}, {\"date\": 374, \"variable\": \"suceptible\", \"value\": 385.95574057620354}, {\"date\": 375, \"variable\": \"suceptible\", \"value\": 385.83732054032026}, {\"date\": 376, \"variable\": \"suceptible\", \"value\": 385.7214709899197}, {\"date\": 377, \"variable\": \"suceptible\", \"value\": 385.6081239087625}, {\"date\": 378, \"variable\": \"suceptible\", \"value\": 385.4972119258986}, {\"date\": 379, \"variable\": \"suceptible\", \"value\": 385.38866831566713}, {\"date\": 380, \"variable\": \"suceptible\", \"value\": 385.2824269976962}, {\"date\": 381, \"variable\": \"suceptible\", \"value\": 385.1784225369031}, {\"date\": 382, \"variable\": \"suceptible\", \"value\": 385.0765901434943}, {\"date\": 383, \"variable\": \"suceptible\", \"value\": 384.9768656729654}, {\"date\": 384, \"variable\": \"suceptible\", \"value\": 384.8791856261011}, {\"date\": 385, \"variable\": \"suceptible\", \"value\": 384.78348714897527}, {\"date\": 386, \"variable\": \"suceptible\", \"value\": 384.68970803295093}, {\"date\": 387, \"variable\": \"suceptible\", \"value\": 384.5977867146801}, {\"date\": 388, \"variable\": \"suceptible\", \"value\": 384.50771201541056}, {\"date\": 389, \"variable\": \"suceptible\", \"value\": 384.41955881302005}, {\"date\": 390, \"variable\": \"suceptible\", \"value\": 384.3332926690418}, {\"date\": 391, \"variable\": \"suceptible\", \"value\": 384.2488739360982}, {\"date\": 392, \"variable\": \"suceptible\", \"value\": 384.16626362397574}, {\"date\": 393, \"variable\": \"suceptible\", \"value\": 384.0854233996243}, {\"date\": 394, \"variable\": \"suceptible\", \"value\": 384.0063155871578}, {\"date\": 395, \"variable\": \"suceptible\", \"value\": 383.9289031678537}, {\"date\": 396, \"variable\": \"suceptible\", \"value\": 383.85314978015344}, {\"date\": 397, \"variable\": \"suceptible\", \"value\": 383.779019719662}, {\"date\": 398, \"variable\": \"suceptible\", \"value\": 383.70647793914816}, {\"date\": 399, \"variable\": \"suceptible\", \"value\": 383.6354900485445}, {\"date\": 400, \"variable\": \"suceptible\", \"value\": 383.5660223149474}, {\"date\": 401, \"variable\": \"suceptible\", \"value\": 383.4980416626168}, {\"date\": 402, \"variable\": \"suceptible\", \"value\": 383.4315156729766}, {\"date\": 403, \"variable\": \"suceptible\", \"value\": 383.36641258461435}, {\"date\": 404, \"variable\": \"suceptible\", \"value\": 383.3027012932813}, {\"date\": 405, \"variable\": \"suceptible\", \"value\": 383.2403513518926}, {\"date\": 406, \"variable\": \"suceptible\", \"value\": 383.17933297052707}, {\"date\": 407, \"variable\": \"suceptible\", \"value\": 383.1196170164272}, {\"date\": 408, \"variable\": \"suceptible\", \"value\": 383.06117501399933}, {\"date\": 0, \"variable\": \"infected\", \"value\": 10.0}, {\"date\": 1, \"variable\": \"infected\", \"value\": 11.058154051649264}, {\"date\": 2, \"variable\": \"infected\", \"value\": 12.228337757428012}, {\"date\": 3, \"variable\": \"infected\", \"value\": 13.522227681060372}, {\"date\": 4, \"variable\": \"infected\", \"value\": 14.952895357516665}, {\"date\": 5, \"variable\": \"infected\", \"value\": 16.534926270785704}, {\"date\": 6, \"variable\": \"infected\", \"value\": 18.284419853874766}, {\"date\": 7, \"variable\": \"infected\", \"value\": 20.218993035615515}, {\"date\": 8, \"variable\": \"infected\", \"value\": 22.358902182827762}, {\"date\": 9, \"variable\": \"infected\", \"value\": 24.72510322914148}, {\"date\": 10, \"variable\": \"infected\", \"value\": 27.340383097649624}, {\"date\": 11, \"variable\": \"infected\", \"value\": 30.23098774867522}, {\"date\": 12, \"variable\": \"infected\", \"value\": 33.42662217977133}, {\"date\": 13, \"variable\": \"infected\", \"value\": 36.96045042572109}, {\"date\": 14, \"variable\": \"infected\", \"value\": 40.8690955585377}, {\"date\": 15, \"variable\": \"infected\", \"value\": 45.19263968746442}, {\"date\": 16, \"variable\": \"infected\", \"value\": 49.97462395897454}, {\"date\": 17, \"variable\": \"infected\", \"value\": 55.26204855677147}, {\"date\": 18, \"variable\": \"infected\", \"value\": 61.106834702491014}, {\"date\": 19, \"variable\": \"infected\", \"value\": 67.57275425711669}, {\"date\": 20, \"variable\": \"infected\", \"value\": 74.71908178761653}, {\"date\": 21, \"variable\": \"infected\", \"value\": 82.61325518137171}, {\"date\": 22, \"variable\": \"infected\", \"value\": 91.33373189301892}, {\"date\": 23, \"variable\": \"infected\", \"value\": 100.96998894445048}, {\"date\": 24, \"variable\": \"infected\", \"value\": 111.62252292481425}, {\"date\": 25, \"variable\": \"infected\", \"value\": 123.40284999051372}, {\"date\": 26, \"variable\": \"infected\", \"value\": 136.43350586520785}, {\"date\": 27, \"variable\": \"infected\", \"value\": 150.84804583981136}, {\"date\": 28, \"variable\": \"infected\", \"value\": 166.79104477249442}, {\"date\": 29, \"variable\": \"infected\", \"value\": 184.4180970886828}, {\"date\": 30, \"variable\": \"infected\", \"value\": 203.89581678105787}, {\"date\": 31, \"variable\": \"infected\", \"value\": 225.40992678025634}, {\"date\": 32, \"variable\": \"infected\", \"value\": 249.19561552617114}, {\"date\": 33, \"variable\": \"infected\", \"value\": 275.4665977744985}, {\"date\": 34, \"variable\": \"infected\", \"value\": 304.46606503777764}, {\"date\": 35, \"variable\": \"infected\", \"value\": 336.47629959136424}, {\"date\": 36, \"variable\": \"infected\", \"value\": 371.8186744734303}, {\"date\": 37, \"variable\": \"infected\", \"value\": 410.85365348496396}, {\"date\": 38, \"variable\": \"infected\", \"value\": 453.98079118977}, {\"date\": 39, \"variable\": \"infected\", \"value\": 501.63873291446964}, {\"date\": 40, \"variable\": \"infected\", \"value\": 554.3052147484999}, {\"date\": 41, \"variable\": \"infected\", \"value\": 612.4970635441148}, {\"date\": 42, \"variable\": \"infected\", \"value\": 676.7701969163843}, {\"date\": 43, \"variable\": \"infected\", \"value\": 747.7196232431944}, {\"date\": 44, \"variable\": \"infected\", \"value\": 825.9794416652486}, {\"date\": 45, \"variable\": \"infected\", \"value\": 912.2287985301165}, {\"date\": 46, \"variable\": \"infected\", \"value\": 1007.2673223299548}, {\"date\": 47, \"variable\": \"infected\", \"value\": 1111.973962759804}, {\"date\": 48, \"variable\": \"infected\", \"value\": 1227.3197680857031}, {\"date\": 49, \"variable\": \"infected\", \"value\": 1354.3798018637513}, {\"date\": 50, \"variable\": \"infected\", \"value\": 1494.3331429401067}, {\"date\": 51, \"variable\": \"infected\", \"value\": 1648.4628854509865}, {\"date\": 52, \"variable\": \"infected\", \"value\": 1818.1561388226683}, {\"date\": 53, \"variable\": \"infected\", \"value\": 2004.904027771488}, {\"date\": 54, \"variable\": \"infected\", \"value\": 2210.3016923038413}, {\"date\": 55, \"variable\": \"infected\", \"value\": 2436.048287716184}, {\"date\": 56, \"variable\": \"infected\", \"value\": 2683.946984595029}, {\"date\": 57, \"variable\": \"infected\", \"value\": 2955.9049688169525}, {\"date\": 58, \"variable\": \"infected\", \"value\": 3253.9334415485864}, {\"date\": 59, \"variable\": \"infected\", \"value\": 3580.1476192466234}, {\"date\": 60, \"variable\": \"infected\", \"value\": 3936.3460112258003}, {\"date\": 61, \"variable\": \"infected\", \"value\": 4323.97342679702}, {\"date\": 62, \"variable\": \"infected\", \"value\": 4746.638037188981}, {\"date\": 63, \"variable\": \"infected\", \"value\": 5207.906363443078}, {\"date\": 64, \"variable\": \"infected\", \"value\": 5711.115750684021}, {\"date\": 65, \"variable\": \"infected\", \"value\": 6259.374368119832}, {\"date\": 66, \"variable\": \"infected\", \"value\": 6855.561209041853}, {\"date\": 67, \"variable\": \"infected\", \"value\": 7502.326090824737}, {\"date\": 68, \"variable\": \"infected\", \"value\": 8202.089654926454}, {\"date\": 69, \"variable\": \"infected\", \"value\": 8957.043366888287}, {\"date\": 70, \"variable\": \"infected\", \"value\": 9769.14951633484}, {\"date\": 71, \"variable\": \"infected\", \"value\": 10640.141216974025}, {\"date\": 72, \"variable\": \"infected\", \"value\": 11571.522406597072}, {\"date\": 73, \"variable\": \"infected\", \"value\": 12564.567847078531}, {\"date\": 74, \"variable\": \"infected\", \"value\": 13620.323124376257}, {\"date\": 75, \"variable\": \"infected\", \"value\": 14739.611423497023}, {\"date\": 76, \"variable\": \"infected\", \"value\": 15923.053571211412}, {\"date\": 77, \"variable\": \"infected\", \"value\": 17169.141790920836}, {\"date\": 78, \"variable\": \"infected\", \"value\": 18475.06214467372}, {\"date\": 79, \"variable\": \"infected\", \"value\": 19837.280780446465}, {\"date\": 80, \"variable\": \"infected\", \"value\": 21251.54393214344}, {\"date\": 81, \"variable\": \"infected\", \"value\": 22712.877919596995}, {\"date\": 82, \"variable\": \"infected\", \"value\": 24215.589148567436}, {\"date\": 83, \"variable\": \"infected\", \"value\": 25753.264110743068}, {\"date\": 84, \"variable\": \"infected\", \"value\": 27318.76938374014}, {\"date\": 85, \"variable\": \"infected\", \"value\": 28904.25163110288}, {\"date\": 86, \"variable\": \"infected\", \"value\": 30501.137602303505}, {\"date\": 87, \"variable\": \"infected\", \"value\": 32100.134132742198}, {\"date\": 88, \"variable\": \"infected\", \"value\": 33691.228143747096}, {\"date\": 89, \"variable\": \"infected\", \"value\": 35263.68664257432}, {\"date\": 90, \"variable\": \"infected\", \"value\": 36806.05672240798}, {\"date\": 91, \"variable\": \"infected\", \"value\": 38306.16556236014}, {\"date\": 92, \"variable\": \"infected\", \"value\": 39751.12042747082}, {\"date\": 93, \"variable\": \"infected\", \"value\": 41127.308668708065}, {\"date\": 94, \"variable\": \"infected\", \"value\": 42425.051746748584}, {\"date\": 95, \"variable\": \"infected\", \"value\": 43643.266080319314}, {\"date\": 96, \"variable\": \"infected\", \"value\": 44778.20796084976}, {\"date\": 97, \"variable\": \"infected\", \"value\": 45826.69750757817}, {\"date\": 98, \"variable\": \"infected\", \"value\": 46786.19379753323}, {\"date\": 99, \"variable\": \"infected\", \"value\": 47654.79486553407}, {\"date\": 100, \"variable\": \"infected\", \"value\": 48431.23770419023}, {\"date\": 101, \"variable\": \"infected\", \"value\": 49114.89826390169}, {\"date\": 102, \"variable\": \"infected\", \"value\": 49705.79145285887}, {\"date\": 103, \"variable\": \"infected\", \"value\": 50204.57113704262}, {\"date\": 104, \"variable\": \"infected\", \"value\": 50612.53014022421}, {\"date\": 105, \"variable\": \"infected\", \"value\": 50931.60024396537}, {\"date\": 106, \"variable\": \"infected\", \"value\": 51164.35218761821}, {\"date\": 107, \"variable\": \"infected\", \"value\": 51313.99566832533}, {\"date\": 108, \"variable\": \"infected\", \"value\": 51384.37934101974}, {\"date\": 109, \"variable\": \"infected\", \"value\": 51379.99081842488}, {\"date\": 110, \"variable\": \"infected\", \"value\": 51305.956671054606}, {\"date\": 111, \"variable\": \"infected\", \"value\": 51168.04242721322}, {\"date\": 112, \"variable\": \"infected\", \"value\": 50971.98907994941}, {\"date\": 113, \"variable\": \"infected\", \"value\": 50720.63545131275}, {\"date\": 114, \"variable\": \"infected\", \"value\": 50418.68218748164}, {\"date\": 115, \"variable\": \"infected\", \"value\": 50070.94838547261}, {\"date\": 116, \"variable\": \"infected\", \"value\": 49681.953092534466}, {\"date\": 117, \"variable\": \"infected\", \"value\": 49255.9153061482}, {\"date\": 118, \"variable\": \"infected\", \"value\": 48796.75397402703}, {\"date\": 119, \"variable\": \"infected\", \"value\": 48308.0879941164}, {\"date\": 120, \"variable\": \"infected\", \"value\": 47793.236214593984}, {\"date\": 121, \"variable\": \"infected\", \"value\": 47255.217433869664}, {\"date\": 122, \"variable\": \"infected\", \"value\": 46696.75040058556}, {\"date\": 123, \"variable\": \"infected\", \"value\": 46120.253813615986}, {\"date\": 124, \"variable\": \"infected\", \"value\": 45527.8463220675}, {\"date\": 125, \"variable\": \"infected\", \"value\": 44921.34652527888}, {\"date\": 126, \"variable\": \"infected\", \"value\": 44302.27297282112}, {\"date\": 127, \"variable\": \"infected\", \"value\": 43671.84416449744}, {\"date\": 128, \"variable\": \"infected\", \"value\": 43030.978550343265}, {\"date\": 129, \"variable\": \"infected\", \"value\": 42380.59769978901}, {\"date\": 130, \"variable\": \"infected\", \"value\": 41725.17071286323}, {\"date\": 131, \"variable\": \"infected\", \"value\": 41067.03748926099}, {\"date\": 132, \"variable\": \"infected\", \"value\": 40407.39187741377}, {\"date\": 133, \"variable\": \"infected\", \"value\": 39747.349882661925}, {\"date\": 134, \"variable\": \"infected\", \"value\": 39087.94966725471}, {\"date\": 135, \"variable\": \"infected\", \"value\": 38430.15155035026}, {\"date\": 136, \"variable\": \"infected\", \"value\": 37774.83800801558}, {\"date\": 137, \"variable\": \"infected\", \"value\": 37122.81367322657}, {\"date\": 138, \"variable\": \"infected\", \"value\": 36474.80533586802}, {\"date\": 139, \"variable\": \"infected\", \"value\": 35831.46194273358}, {\"date\": 140, \"variable\": \"infected\", \"value\": 35193.3545975258}, {\"date\": 141, \"variable\": \"infected\", \"value\": 34560.97656085612}, {\"date\": 142, \"variable\": \"infected\", \"value\": 33934.74325024484}, {\"date\": 143, \"variable\": \"infected\", \"value\": 33314.992240121166}, {\"date\": 144, \"variable\": \"infected\", \"value\": 32701.983261823167}, {\"date\": 145, \"variable\": \"infected\", \"value\": 32095.89820359781}, {\"date\": 146, \"variable\": \"infected\", \"value\": 31496.84786180063}, {\"date\": 147, \"variable\": \"infected\", \"value\": 30905.328281380396}, {\"date\": 148, \"variable\": \"infected\", \"value\": 30321.699440496355}, {\"date\": 149, \"variable\": \"infected\", \"value\": 29746.05945980853}, {\"date\": 150, \"variable\": \"infected\", \"value\": 29178.495653343824}, {\"date\": 151, \"variable\": \"infected\", \"value\": 28619.084528496052}, {\"date\": 152, \"variable\": \"infected\", \"value\": 28067.891786025946}, {\"date\": 153, \"variable\": \"infected\", \"value\": 27524.97232006111}, {\"date\": 154, \"variable\": \"infected\", \"value\": 26990.370218096086}, {\"date\": 155, \"variable\": \"infected\", \"value\": 26464.11876099228}, {\"date\": 156, \"variable\": \"infected\", \"value\": 25946.240422978037}, {\"date\": 157, \"variable\": \"infected\", \"value\": 25436.74687164857}, {\"date\": 158, \"variable\": \"infected\", \"value\": 24935.63896796602}, {\"date\": 159, \"variable\": \"infected\", \"value\": 24442.906766259424}, {\"date\": 160, \"variable\": \"infected\", \"value\": 23958.529514224712}, {\"date\": 161, \"variable\": \"infected\", \"value\": 23482.475652924728}, {\"date\": 162, \"variable\": \"infected\", \"value\": 23014.702816789206}, {\"date\": 163, \"variable\": \"infected\", \"value\": 22555.157833614794}, {\"date\": 164, \"variable\": \"infected\", \"value\": 22103.776724565036}, {\"date\": 165, \"variable\": \"infected\", \"value\": 21660.484704170376}, {\"date\": 166, \"variable\": \"infected\", \"value\": 21225.196180328174}, {\"date\": 167, \"variable\": \"infected\", \"value\": 20797.814754302668}, {\"date\": 168, \"variable\": \"infected\", \"value\": 20378.233220725026}, {\"date\": 169, \"variable\": \"infected\", \"value\": 19966.33356759329}, {\"date\": 170, \"variable\": \"infected\", \"value\": 19562.02031407155}, {\"date\": 171, \"variable\": \"infected\", \"value\": 19165.257167164884}, {\"date\": 172, \"variable\": \"infected\", \"value\": 18775.936260827046}, {\"date\": 173, \"variable\": \"infected\", \"value\": 18393.946243533985}, {\"date\": 174, \"variable\": \"infected\", \"value\": 18019.176631984235}, {\"date\": 175, \"variable\": \"infected\", \"value\": 17651.517811098918}, {\"date\": 176, \"variable\": \"infected\", \"value\": 17290.86103402173}, {\"date\": 177, \"variable\": \"infected\", \"value\": 16937.09842211896}, {\"date\": 178, \"variable\": \"infected\", \"value\": 16590.122964979484}, {\"date\": 179, \"variable\": \"infected\", \"value\": 16249.828520414747}, {\"date\": 180, \"variable\": \"infected\", \"value\": 15916.109814458792}, {\"date\": 181, \"variable\": \"infected\", \"value\": 15588.862441368246}, {\"date\": 182, \"variable\": \"infected\", \"value\": 15267.982863622314}, {\"date\": 183, \"variable\": \"infected\", \"value\": 14953.368411922791}, {\"date\": 184, \"variable\": \"infected\", \"value\": 14644.91728519405}, {\"date\": 185, \"variable\": \"infected\", \"value\": 14342.528550583054}, {\"date\": 186, \"variable\": \"infected\", \"value\": 14046.10214345935}, {\"date\": 187, \"variable\": \"infected\", \"value\": 13755.538867415067}, {\"date\": 188, \"variable\": \"infected\", \"value\": 13470.740394264914}, {\"date\": 189, \"variable\": \"infected\", \"value\": 13191.609264046197}, {\"date\": 190, \"variable\": \"infected\", \"value\": 12918.048885018794}, {\"date\": 191, \"variable\": \"infected\", \"value\": 12649.963533665177}, {\"date\": 192, \"variable\": \"infected\", \"value\": 12387.258354690388}, {\"date\": 193, \"variable\": \"infected\", \"value\": 12129.839361022074}, {\"date\": 194, \"variable\": \"infected\", \"value\": 11877.613433810446}, {\"date\": 195, \"variable\": \"infected\", \"value\": 11630.488322428313}, {\"date\": 196, \"variable\": \"infected\", \"value\": 11388.372644471063}, {\"date\": 197, \"variable\": \"infected\", \"value\": 11151.175885756667}, {\"date\": 198, \"variable\": \"infected\", \"value\": 10918.808400325684}, {\"date\": 199, \"variable\": \"infected\", \"value\": 10691.181410441257}, {\"date\": 200, \"variable\": \"infected\", \"value\": 10468.20700658911}, {\"date\": 201, \"variable\": \"infected\", \"value\": 10249.798147477555}, {\"date\": 202, \"variable\": \"infected\", \"value\": 10035.868660037484}, {\"date\": 203, \"variable\": \"infected\", \"value\": 9826.333239422378}, {\"date\": 204, \"variable\": \"infected\", \"value\": 9621.1074490083}, {\"date\": 205, \"variable\": \"infected\", \"value\": 9420.107720393898}, {\"date\": 206, \"variable\": \"infected\", \"value\": 9223.250461089709}, {\"date\": 207, \"variable\": \"infected\", \"value\": 9030.383599507768}, {\"date\": 208, \"variable\": \"infected\", \"value\": 8841.393330855028}, {\"date\": 209, \"variable\": \"infected\", \"value\": 8656.215359224436}, {\"date\": 210, \"variable\": \"infected\", \"value\": 8474.785894763008}, {\"date\": 211, \"variable\": \"infected\", \"value\": 8297.041653671846}, {\"date\": 212, \"variable\": \"infected\", \"value\": 8122.91985820612}, {\"date\": 213, \"variable\": \"infected\", \"value\": 7952.358236675085}, {\"date\": 214, \"variable\": \"infected\", \"value\": 7785.295023442068}, {\"date\": 215, \"variable\": \"infected\", \"value\": 7621.668958924478}, {\"date\": 216, \"variable\": \"infected\", \"value\": 7461.419289593797}, {\"date\": 217, \"variable\": \"infected\", \"value\": 7304.485767975586}, {\"date\": 218, \"variable\": \"infected\", \"value\": 7150.808652649484}, {\"date\": 219, \"variable\": \"infected\", \"value\": 7000.328708249208}, {\"date\": 220, \"variable\": \"infected\", \"value\": 6852.98720546255}, {\"date\": 221, \"variable\": \"infected\", \"value\": 6708.72592103138}, {\"date\": 222, \"variable\": \"infected\", \"value\": 6567.487137751645}, {\"date\": 223, \"variable\": \"infected\", \"value\": 6429.213644473372}, {\"date\": 224, \"variable\": \"infected\", \"value\": 6293.848736100663}, {\"date\": 225, \"variable\": \"infected\", \"value\": 6161.336213591696}, {\"date\": 226, \"variable\": \"infected\", \"value\": 6031.620383958731}, {\"date\": 227, \"variable\": \"infected\", \"value\": 5904.646060268098}, {\"date\": 228, \"variable\": \"infected\", \"value\": 5780.358561640212}, {\"date\": 229, \"variable\": \"infected\", \"value\": 5658.703713249562}, {\"date\": 230, \"variable\": \"infected\", \"value\": 5539.627846324711}, {\"date\": 231, \"variable\": \"infected\", \"value\": 5423.077798148306}, {\"date\": 232, \"variable\": \"infected\", \"value\": 5309.000912057067}, {\"date\": 233, \"variable\": \"infected\", \"value\": 5197.34503744179}, {\"date\": 234, \"variable\": \"infected\", \"value\": 5088.058529747353}, {\"date\": 235, \"variable\": \"infected\", \"value\": 4981.090250472707}, {\"date\": 236, \"variable\": \"infected\", \"value\": 4876.389567170885}, {\"date\": 237, \"variable\": \"infected\", \"value\": 4773.90635344899}, {\"date\": 238, \"variable\": \"infected\", \"value\": 4673.590988968209}, {\"date\": 239, \"variable\": \"infected\", \"value\": 4575.394359443805}, {\"date\": 240, \"variable\": \"infected\", \"value\": 4479.267856645117}, {\"date\": 241, \"variable\": \"infected\", \"value\": 4385.1633783955585}, {\"date\": 242, \"variable\": \"infected\", \"value\": 4293.033328572627}, {\"date\": 243, \"variable\": \"infected\", \"value\": 4202.830617107893}, {\"date\": 244, \"variable\": \"infected\", \"value\": 4114.508659987005}, {\"date\": 245, \"variable\": \"infected\", \"value\": 4028.021379249688}, {\"date\": 246, \"variable\": \"infected\", \"value\": 3943.323202989747}, {\"date\": 247, \"variable\": \"infected\", \"value\": 3860.3690653550593}, {\"date\": 248, \"variable\": \"infected\", \"value\": 3779.1144065475864}, {\"date\": 249, \"variable\": \"infected\", \"value\": 3699.5151728233614}, {\"date\": 250, \"variable\": \"infected\", \"value\": 3621.5278164924975}, {\"date\": 251, \"variable\": \"infected\", \"value\": 3545.109295919183}, {\"date\": 252, \"variable\": \"infected\", \"value\": 3470.235654626118}, {\"date\": 253, \"variable\": \"infected\", \"value\": 3396.8955132237893}, {\"date\": 254, \"variable\": \"infected\", \"value\": 3325.0630067002758}, {\"date\": 255, \"variable\": \"infected\", \"value\": 3254.7124555404343}, {\"date\": 256, \"variable\": \"infected\", \"value\": 3185.818374221586}, {\"date\": 257, \"variable\": \"infected\", \"value\": 3118.3554712135146}, {\"date\": 258, \"variable\": \"infected\", \"value\": 3052.2986489784653}, {\"date\": 259, \"variable\": \"infected\", \"value\": 2987.6230039711477}, {\"date\": 260, \"variable\": \"infected\", \"value\": 2924.303826638733}, {\"date\": 261, \"variable\": \"infected\", \"value\": 2862.316601420856}, {\"date\": 262, \"variable\": \"infected\", \"value\": 2801.637006749613}, {\"date\": 263, \"variable\": \"infected\", \"value\": 2742.2409150495655}, {\"date\": 264, \"variable\": \"infected\", \"value\": 2684.104392737735}, {\"date\": 265, \"variable\": \"infected\", \"value\": 2627.2037002236075}, {\"date\": 266, \"variable\": \"infected\", \"value\": 2571.5152919091306}, {\"date\": 267, \"variable\": \"infected\", \"value\": 2517.0158161887166}, {\"date\": 268, \"variable\": \"infected\", \"value\": 2463.682115449238}, {\"date\": 269, \"variable\": \"infected\", \"value\": 2411.4912260700326}, {\"date\": 270, \"variable\": \"infected\", \"value\": 2360.4203784228994}, {\"date\": 271, \"variable\": \"infected\", \"value\": 2310.4469968721005}, {\"date\": 272, \"variable\": \"infected\", \"value\": 2261.54869977436}, {\"date\": 273, \"variable\": \"infected\", \"value\": 2213.703299478868}, {\"date\": 274, \"variable\": \"infected\", \"value\": 2166.888802327272}, {\"date\": 275, \"variable\": \"infected\", \"value\": 2121.083408653687}, {\"date\": 276, \"variable\": \"infected\", \"value\": 2076.2655127846892}, {\"date\": 277, \"variable\": \"infected\", \"value\": 2032.4137030393167}, {\"date\": 278, \"variable\": \"infected\", \"value\": 1989.5067617290722}, {\"date\": 279, \"variable\": \"infected\", \"value\": 1947.5236651579185}, {\"date\": 280, \"variable\": \"infected\", \"value\": 1906.443583622284}, {\"date\": 281, \"variable\": \"infected\", \"value\": 1866.2458814110582}, {\"date\": 282, \"variable\": \"infected\", \"value\": 1826.9101168055931}, {\"date\": 283, \"variable\": \"infected\", \"value\": 1788.4160420797054}, {\"date\": 284, \"variable\": \"infected\", \"value\": 1750.743603499673}, {\"date\": 285, \"variable\": \"infected\", \"value\": 1713.8729413242365}, {\"date\": 286, \"variable\": \"infected\", \"value\": 1677.7843898045999}, {\"date\": 287, \"variable\": \"infected\", \"value\": 1642.4584771844304}, {\"date\": 288, \"variable\": \"infected\", \"value\": 1607.8759256998562}, {\"date\": 289, \"variable\": \"infected\", \"value\": 1574.0176515794706}, {\"date\": 290, \"variable\": \"infected\", \"value\": 1540.8647650443281}, {\"date\": 291, \"variable\": \"infected\", \"value\": 1508.3985703079459}, {\"date\": 292, \"variable\": \"infected\", \"value\": 1476.6005655763051}, {\"date\": 293, \"variable\": \"infected\", \"value\": 1445.4524430478482}, {\"date\": 294, \"variable\": \"infected\", \"value\": 1414.9360889134819}, {\"date\": 295, \"variable\": \"infected\", \"value\": 1385.0335833565755}, {\"date\": 296, \"variable\": \"infected\", \"value\": 1355.727200552959}, {\"date\": 297, \"variable\": \"infected\", \"value\": 1327.0081895782535}, {\"date\": 298, \"variable\": \"infected\", \"value\": 1298.8794231944041}, {\"date\": 299, \"variable\": \"infected\", \"value\": 1271.3312666253344}, {\"date\": 300, \"variable\": \"infected\", \"value\": 1244.353842031981}, {\"date\": 301, \"variable\": \"infected\", \"value\": 1217.9373438286834}, {\"date\": 302, \"variable\": \"infected\", \"value\": 1192.0720386831852}, {\"date\": 303, \"variable\": \"infected\", \"value\": 1166.7482655166327}, {\"date\": 304, \"variable\": \"infected\", \"value\": 1141.9564355035761}, {\"date\": 305, \"variable\": \"infected\", \"value\": 1117.687032071969}, {\"date\": 306, \"variable\": \"infected\", \"value\": 1093.9306109031686}, {\"date\": 307, \"variable\": \"infected\", \"value\": 1070.677799931935}, {\"date\": 308, \"variable\": \"infected\", \"value\": 1047.9192993464324}, {\"date\": 309, \"variable\": \"infected\", \"value\": 1025.645881588228}, {\"date\": 310, \"variable\": \"infected\", \"value\": 1003.848391352293}, {\"date\": 311, \"variable\": \"infected\", \"value\": 982.5177455870011}, {\"date\": 312, \"variable\": \"infected\", \"value\": 961.6449334941306}, {\"date\": 313, \"variable\": \"infected\", \"value\": 941.2210165288622}, {\"date\": 314, \"variable\": \"infected\", \"value\": 921.2371283997808}, {\"date\": 315, \"variable\": \"infected\", \"value\": 901.6844750688745}, {\"date\": 316, \"variable\": \"infected\", \"value\": 882.5543347515347}, {\"date\": 317, \"variable\": \"infected\", \"value\": 863.8380579165564}, {\"date\": 318, \"variable\": \"infected\", \"value\": 845.5270672861382}, {\"date\": 319, \"variable\": \"infected\", \"value\": 827.6128578358818}, {\"date\": 320, \"variable\": \"infected\", \"value\": 810.0869967947925}, {\"date\": 321, \"variable\": \"infected\", \"value\": 792.9411236452794}, {\"date\": 322, \"variable\": \"infected\", \"value\": 776.1669501231545}, {\"date\": 323, \"variable\": \"infected\", \"value\": 759.7562602176333}, {\"date\": 324, \"variable\": \"infected\", \"value\": 743.7009101713353}, {\"date\": 325, \"variable\": \"infected\", \"value\": 727.9928284802829}, {\"date\": 326, \"variable\": \"infected\", \"value\": 712.6240158939021}, {\"date\": 327, \"variable\": \"infected\", \"value\": 697.5865454150227}, {\"date\": 328, \"variable\": \"infected\", \"value\": 682.8725622998774}, {\"date\": 329, \"variable\": \"infected\", \"value\": 668.4742840581025}, {\"date\": 330, \"variable\": \"infected\", \"value\": 654.384000452738}, {\"date\": 331, \"variable\": \"infected\", \"value\": 640.5940735002272}, {\"date\": 332, \"variable\": \"infected\", \"value\": 627.0969374704168}, {\"date\": 333, \"variable\": \"infected\", \"value\": 613.8850988865572}, {\"date\": 334, \"variable\": \"infected\", \"value\": 600.9511365253015}, {\"date\": 335, \"variable\": \"infected\", \"value\": 588.2877014167075}, {\"date\": 336, \"variable\": \"infected\", \"value\": 575.8875168442353}, {\"date\": 337, \"variable\": \"infected\", \"value\": 563.743378344749}, {\"date\": 338, \"variable\": \"infected\", \"value\": 551.8481537085162}, {\"date\": 339, \"variable\": \"infected\", \"value\": 540.1947829792077}, {\"date\": 340, \"variable\": \"infected\", \"value\": 528.7762784538979}, {\"date\": 341, \"variable\": \"infected\", \"value\": 517.5857246830643}, {\"date\": 342, \"variable\": \"infected\", \"value\": 506.61658412665395}, {\"date\": 343, \"variable\": \"infected\", \"value\": 495.87018084780374}, {\"date\": 344, \"variable\": \"infected\", \"value\": 485.34556750342375}, {\"date\": 345, \"variable\": \"infected\", \"value\": 475.03897913230304}, {\"date\": 346, \"variable\": \"infected\", \"value\": 464.9466783792995}, {\"date\": 347, \"variable\": \"infected\", \"value\": 455.0649554953401}, {\"date\": 348, \"variable\": \"infected\", \"value\": 445.39012833742055}, {\"date\": 349, \"variable\": \"infected\", \"value\": 435.91854236860553}, {\"date\": 350, \"variable\": \"infected\", \"value\": 426.6465706580287}, {\"date\": 351, \"variable\": \"infected\", \"value\": 417.5706138808925}, {\"date\": 352, \"variable\": \"infected\", \"value\": 408.6871003184684}, {\"date\": 353, \"variable\": \"infected\", \"value\": 399.99248585809687}, {\"date\": 354, \"variable\": \"infected\", \"value\": 391.48325399318696}, {\"date\": 355, \"variable\": \"infected\", \"value\": 383.155915823217}, {\"date\": 356, \"variable\": \"infected\", \"value\": 375.0070100537341}, {\"date\": 357, \"variable\": \"infected\", \"value\": 367.0331029963543}, {\"date\": 358, \"variable\": \"infected\", \"value\": 359.2307885687623}, {\"date\": 359, \"variable\": \"infected\", \"value\": 351.5966882947123}, {\"date\": 360, \"variable\": \"infected\", \"value\": 344.1274513040267}, {\"date\": 361, \"variable\": \"infected\", \"value\": 336.8197543325974}, {\"date\": 362, \"variable\": \"infected\", \"value\": 329.6703017223849}, {\"date\": 363, \"variable\": \"infected\", \"value\": 322.67582542141884}, {\"date\": 364, \"variable\": \"infected\", \"value\": 315.83308498379756}, {\"date\": 365, \"variable\": \"infected\", \"value\": 309.13886756968833}, {\"date\": 366, \"variable\": \"infected\", \"value\": 302.5899879453275}, {\"date\": 367, \"variable\": \"infected\", \"value\": 296.1832884830202}, {\"date\": 368, \"variable\": \"infected\", \"value\": 289.9156391611406}, {\"date\": 369, \"variable\": \"infected\", \"value\": 283.7839375641315}, {\"date\": 370, \"variable\": \"infected\", \"value\": 277.78510888250497}, {\"date\": 371, \"variable\": \"infected\", \"value\": 271.9161059128419}, {\"date\": 372, \"variable\": \"infected\", \"value\": 266.1739090577919}, {\"date\": 373, \"variable\": \"infected\", \"value\": 260.55552632607373}, {\"date\": 374, \"variable\": \"infected\", \"value\": 255.05799333247484}, {\"date\": 375, \"variable\": \"infected\", \"value\": 249.6783732978518}, {\"date\": 376, \"variable\": \"infected\", \"value\": 244.41375704913008}, {\"date\": 377, \"variable\": \"infected\", \"value\": 239.261263019304}, {\"date\": 378, \"variable\": \"infected\", \"value\": 234.21803724743665}, {\"date\": 379, \"variable\": \"infected\", \"value\": 229.28125337866038}, {\"date\": 380, \"variable\": \"infected\", \"value\": 224.44811266417616}, {\"date\": 381, \"variable\": \"infected\", \"value\": 219.71584396125388}, {\"date\": 382, \"variable\": \"infected\", \"value\": 215.08170373323264}, {\"date\": 383, \"variable\": \"infected\", \"value\": 210.54297604952012}, {\"date\": 384, \"variable\": \"infected\", \"value\": 206.09697258559322}, {\"date\": 385, \"variable\": \"infected\", \"value\": 201.7410326229974}, {\"date\": 386, \"variable\": \"infected\", \"value\": 197.47252304934727}, {\"date\": 387, \"variable\": \"infected\", \"value\": 193.28883835832636}, {\"date\": 388, \"variable\": \"infected\", \"value\": 189.18924347541596}, {\"date\": 389, \"variable\": \"infected\", \"value\": 185.17620948173695}, {\"date\": 390, \"variable\": \"infected\", \"value\": 181.2481745264417}, {\"date\": 391, \"variable\": \"infected\", \"value\": 177.4033878090975}, {\"date\": 392, \"variable\": \"infected\", \"value\": 173.64012660408636}, {\"date\": 393, \"variable\": \"infected\", \"value\": 169.95669626060467}, {\"date\": 394, \"variable\": \"infected\", \"value\": 166.3514302026635}, {\"date\": 395, \"variable\": \"infected\", \"value\": 162.82268992908837}, {\"date\": 396, \"variable\": \"infected\", \"value\": 159.36886501351938}, {\"date\": 397, \"variable\": \"infected\", \"value\": 155.9883731044112}, {\"date\": 398, \"variable\": \"infected\", \"value\": 152.6796599250331}, {\"date\": 399, \"variable\": \"infected\", \"value\": 149.44119927346873}, {\"date\": 400, \"variable\": \"infected\", \"value\": 146.27149302261643}, {\"date\": 401, \"variable\": \"infected\", \"value\": 143.16907112018905}, {\"date\": 402, \"variable\": \"infected\", \"value\": 140.132491588714}, {\"date\": 403, \"variable\": \"infected\", \"value\": 137.16034052553323}, {\"date\": 404, \"variable\": \"infected\", \"value\": 134.25123210280321}, {\"date\": 405, \"variable\": \"infected\", \"value\": 131.403808567495}, {\"date\": 406, \"variable\": \"infected\", \"value\": 128.6167402413942}, {\"date\": 407, \"variable\": \"infected\", \"value\": 125.88872552110095}, {\"date\": 408, \"variable\": \"infected\", \"value\": 123.21849087802994}, {\"date\": 0, \"variable\": \"recovered\", \"value\": 0.0}, {\"date\": 1, \"variable\": \"recovered\", \"value\": 0.23049754416627133}, {\"date\": 2, \"variable\": \"recovered\", \"value\": 0.48540278053241}, {\"date\": 3, \"variable\": \"recovered\", \"value\": 0.7672604538270771}, {\"date\": 4, \"variable\": \"recovered\", \"value\": 1.0789196347785637}, {\"date\": 5, \"variable\": \"recovered\", \"value\": 1.4235597366502855}, {\"date\": 6, \"variable\": \"recovered\", \"value\": 1.8046905152407817}, {\"date\": 7, \"variable\": \"recovered\", \"value\": 2.2261528510809057}, {\"date\": 8, \"variable\": \"recovered\", \"value\": 2.6923660698283847}, {\"date\": 9, \"variable\": \"recovered\", \"value\": 3.2078990200768005}, {\"date\": 10, \"variable\": \"recovered\", \"value\": 3.7777185359001058}, {\"date\": 11, \"variable\": \"recovered\", \"value\": 4.407548389876981}, {\"date\": 12, \"variable\": \"recovered\", \"value\": 5.103869293090831}, {\"date\": 13, \"variable\": \"recovered\", \"value\": 5.873918895129791}, {\"date\": 14, \"variable\": \"recovered\", \"value\": 6.725691784086721}, {\"date\": 15, \"variable\": \"recovered\", \"value\": 7.667939486559208}, {\"date\": 16, \"variable\": \"recovered\", \"value\": 8.710170467649565}, {\"date\": 17, \"variable\": \"recovered\", \"value\": 9.862650130964832}, {\"date\": 18, \"variable\": \"recovered\", \"value\": 11.136731410724252}, {\"date\": 19, \"variable\": \"recovered\", \"value\": 12.546407105911673}, {\"date\": 20, \"variable\": \"recovered\", \"value\": 14.104588859730697}, {\"date\": 21, \"variable\": \"recovered\", \"value\": 15.825980397838801}, {\"date\": 22, \"variable\": \"recovered\", \"value\": 17.727724915640273}, {\"date\": 23, \"variable\": \"recovered\", \"value\": 19.82940507828617}, {\"date\": 24, \"variable\": \"recovered\", \"value\": 22.153043020674367}, {\"date\": 25, \"variable\": \"recovered\", \"value\": 24.723100347449517}, {\"date\": 26, \"variable\": \"recovered\", \"value\": 27.56647813300306}, {\"date\": 27, \"variable\": \"recovered\", \"value\": 30.712516921473263}, {\"date\": 28, \"variable\": \"recovered\", \"value\": 34.19299672674516}, {\"date\": 29, \"variable\": \"recovered\", \"value\": 38.04213703245057}, {\"date\": 30, \"variable\": \"recovered\", \"value\": 42.29659679196812}, {\"date\": 31, \"variable\": \"recovered\", \"value\": 46.997523511702816}, {\"date\": 32, \"variable\": \"recovered\", \"value\": 52.19786125211997}, {\"date\": 33, \"variable\": \"recovered\", \"value\": 57.94392988629013}, {\"date\": 34, \"variable\": \"recovered\", \"value\": 64.28868370162685}, {\"date\": 35, \"variable\": \"recovered\", \"value\": 71.29418126074444}, {\"date\": 36, \"variable\": \"recovered\", \"value\": 79.03158540145796}, {\"date\": 37, \"variable\": \"recovered\", \"value\": 87.58116323678324}, {\"date\": 38, \"variable\": \"recovered\", \"value\": 97.03228615493688}, {\"date\": 39, \"variable\": \"recovered\", \"value\": 107.48342981933627}, {\"date\": 40, \"variable\": \"recovered\", \"value\": 119.04217416859944}, {\"date\": 41, \"variable\": \"recovered\", \"value\": 131.82520341654535}, {\"date\": 42, \"variable\": \"recovered\", \"value\": 145.9583060521936}, {\"date\": 43, \"variable\": \"recovered\", \"value\": 161.57637483976455}, {\"date\": 44, \"variable\": \"recovered\", \"value\": 178.82340681867936}, {\"date\": 45, \"variable\": \"recovered\", \"value\": 197.85689619955136}, {\"date\": 46, \"variable\": \"recovered\", \"value\": 218.88176657208945}, {\"date\": 47, \"variable\": \"recovered\", \"value\": 242.08787744668135}, {\"date\": 48, \"variable\": \"recovered\", \"value\": 267.6847720562316}, {\"date\": 49, \"variable\": \"recovered\", \"value\": 295.91397989149453}, {\"date\": 50, \"variable\": \"recovered\", \"value\": 327.049016701074}, {\"date\": 51, \"variable\": \"recovered\", \"value\": 361.39538449142333}, {\"date\": 52, \"variable\": \"recovered\", \"value\": 399.29057152684567}, {\"date\": 53, \"variable\": \"recovered\", \"value\": 441.10405232949364}, {\"date\": 54, \"variable\": \"recovered\", \"value\": 487.2372876793695}, {\"date\": 55, \"variable\": \"recovered\", \"value\": 538.123724614325}, {\"date\": 56, \"variable\": \"recovered\", \"value\": 594.228796430062}, {\"date\": 57, \"variable\": \"recovered\", \"value\": 656.049922680131}, {\"date\": 58, \"variable\": \"recovered\", \"value\": 724.1165091759331}, {\"date\": 59, \"variable\": \"recovered\", \"value\": 798.9899479867186}, {\"date\": 60, \"variable\": \"recovered\", \"value\": 881.254877133741}, {\"date\": 61, \"variable\": \"recovered\", \"value\": 971.5688610601038}, {\"date\": 62, \"variable\": \"recovered\", \"value\": 1070.739034862867}, {\"date\": 63, \"variable\": \"recovered\", \"value\": 1179.6276001060262}, {\"date\": 64, \"variable\": \"recovered\", \"value\": 1299.145567051914}, {\"date\": 65, \"variable\": \"recovered\", \"value\": 1430.2527546611977}, {\"date\": 66, \"variable\": \"recovered\", \"value\": 1573.9577905928813}, {\"date\": 67, \"variable\": \"recovered\", \"value\": 1731.3181112043044}, {\"date\": 68, \"variable\": \"recovered\", \"value\": 1903.4399615511422}, {\"date\": 69, \"variable\": \"recovered\", \"value\": 2091.4783953874066}, {\"date\": 70, \"variable\": \"recovered\", \"value\": 2296.6372751654444}, {\"date\": 71, \"variable\": \"recovered\", \"value\": 2520.1692720359397}, {\"date\": 72, \"variable\": \"recovered\", \"value\": 2763.37586584791}, {\"date\": 73, \"variable\": \"recovered\", \"value\": 3027.6073451487123}, {\"date\": 74, \"variable\": \"recovered\", \"value\": 3314.2628071840354}, {\"date\": 75, \"variable\": \"recovered\", \"value\": 3624.777748523819}, {\"date\": 76, \"variable\": \"recovered\", \"value\": 3959.8200258644015}, {\"date\": 77, \"variable\": \"recovered\", \"value\": 4320.750363264147}, {\"date\": 78, \"variable\": \"recovered\", \"value\": 4709.409727712651}, {\"date\": 79, \"variable\": \"recovered\", \"value\": 5127.4341699421375}, {\"date\": 80, \"variable\": \"recovered\", \"value\": 5576.254824427456}, {\"date\": 81, \"variable\": \"recovered\", \"value\": 6057.097909386082}, {\"date\": 82, \"variable\": \"recovered\", \"value\": 6570.984726778121}, {\"date\": 83, \"variable\": \"recovered\", \"value\": 7118.731662306302}, {\"date\": 84, \"variable\": \"recovered\", \"value\": 7700.950185415982}, {\"date\": 85, \"variable\": \"recovered\", \"value\": 8318.046849295148}, {\"date\": 86, \"variable\": \"recovered\", \"value\": 8970.223290874404}, {\"date\": 87, \"variable\": \"recovered\", \"value\": 9657.476230827}, {\"date\": 88, \"variable\": \"recovered\", \"value\": 10379.597473568789}, {\"date\": 89, \"variable\": \"recovered\", \"value\": 11136.173907258271}, {\"date\": 90, \"variable\": \"recovered\", \"value\": 11926.587503796558}, {\"date\": 91, \"variable\": \"recovered\", \"value\": 12750.015318827402}, {\"date\": 92, \"variable\": \"recovered\", \"value\": 13605.42949173717}, {\"date\": 93, \"variable\": \"recovered\", \"value\": 14491.597245654862}, {\"date\": 94, \"variable\": \"recovered\", \"value\": 15407.493824553881}, {\"date\": 95, \"variable\": \"recovered\", \"value\": 16351.791377009442}, {\"date\": 96, \"variable\": \"recovered\", \"value\": 17322.21940801828}, {\"date\": 97, \"variable\": \"recovered\", \"value\": 18316.546130676186}, {\"date\": 98, \"variable\": \"recovered\", \"value\": 19332.58980946336}, {\"date\": 99, \"variable\": \"recovered\", \"value\": 20368.21876024441}, {\"date\": 100, \"variable\": \"recovered\", \"value\": 21421.351350268378}, {\"date\": 101, \"variable\": \"recovered\", \"value\": 22489.955998168713}, {\"date\": 102, \"variable\": \"recovered\", \"value\": 23572.05117396328}, {\"date\": 103, \"variable\": \"recovered\", \"value\": 24665.705399054346}, {\"date\": 104, \"variable\": \"recovered\", \"value\": 25769.037246228625}, {\"date\": 105, \"variable\": \"recovered\", \"value\": 26880.215339657214}, {\"date\": 106, \"variable\": \"recovered\", \"value\": 27997.458354895643}, {\"date\": 107, \"variable\": \"recovered\", \"value\": 29119.035018883864}, {\"date\": 108, \"variable\": \"recovered\", \"value\": 30243.26410994622}, {\"date\": 109, \"variable\": \"recovered\", \"value\": 31368.514457791498}, {\"date\": 110, \"variable\": \"recovered\", \"value\": 32493.204943512883}, {\"date\": 111, \"variable\": \"recovered\", \"value\": 33615.804499587975}, {\"date\": 112, \"variable\": \"recovered\", \"value\": 34734.70400013808}, {\"date\": 113, \"variable\": \"recovered\", \"value\": 35848.05099698512}, {\"date\": 114, \"variable\": \"recovered\", \"value\": 36954.92818330347}, {\"date\": 115, \"variable\": \"recovered\", \"value\": 38054.56377721572}, {\"date\": 116, \"variable\": \"recovered\", \"value\": 39146.21910978033}, {\"date\": 117, \"variable\": \"recovered\", \"value\": 40229.18862499163}, {\"date\": 118, \"variable\": \"recovered\", \"value\": 41302.799879779806}, {\"date\": 119, \"variable\": \"recovered\", \"value\": 42366.413544010946}, {\"date\": 120, \"variable\": \"recovered\", \"value\": 43419.423400486994}, {\"date\": 121, \"variable\": \"recovered\", \"value\": 44461.25634494574}, {\"date\": 122, \"variable\": \"recovered\", \"value\": 45491.37238606087}, {\"date\": 123, \"variable\": \"recovered\", \"value\": 46509.26464544195}, {\"date\": 124, \"variable\": \"recovered\", \"value\": 47514.45935763439}, {\"date\": 125, \"variable\": \"recovered\", \"value\": 48506.51587011949}, {\"date\": 126, \"variable\": \"recovered\", \"value\": 49485.0266433144}, {\"date\": 127, \"variable\": \"recovered\", \"value\": 50449.617250572155}, {\"date\": 128, \"variable\": \"recovered\", \"value\": 51399.94637818166}, {\"date\": 129, \"variable\": \"recovered\", \"value\": 52335.72211005619}, {\"date\": 130, \"variable\": \"recovered\", \"value\": 53256.95272975086}, {\"date\": 131, \"variable\": \"recovered\", \"value\": 54163.69161472758}, {\"date\": 132, \"variable\": \"recovered\", \"value\": 55055.95938077348}, {\"date\": 133, \"variable\": \"recovered\", \"value\": 55933.78526840659}, {\"date\": 134, \"variable\": \"recovered\", \"value\": 56797.20714287583}, {\"date\": 135, \"variable\": \"recovered\", \"value\": 57646.27149416099}, {\"date\": 136, \"variable\": \"recovered\", \"value\": 58481.03343697275}, {\"date\": 137, \"variable\": \"recovered\", \"value\": 59301.55671075269}, {\"date\": 138, \"variable\": \"recovered\", \"value\": 60107.91367967324}, {\"date\": 139, \"variable\": \"recovered\", \"value\": 60900.18533263775}, {\"date\": 140, \"variable\": \"recovered\", \"value\": 61678.46128328045}, {\"date\": 141, \"variable\": \"recovered\", \"value\": 62442.83976996643}, {\"date\": 142, \"variable\": \"recovered\", \"value\": 63193.42765579168}, {\"date\": 143, \"variable\": \"recovered\", \"value\": 63930.340428583084}, {\"date\": 144, \"variable\": \"recovered\", \"value\": 64653.702200898406}, {\"date\": 145, \"variable\": \"recovered\", \"value\": 65363.64571002629}, {\"date\": 146, \"variable\": \"recovered\", \"value\": 66060.31239459531}, {\"date\": 147, \"variable\": \"recovered\", \"value\": 66743.86574523016}, {\"date\": 148, \"variable\": \"recovered\", \"value\": 67414.49814879983}, {\"date\": 149, \"variable\": \"recovered\", \"value\": 68072.40317897023}, {\"date\": 150, \"variable\": \"recovered\", \"value\": 68717.77308977759}, {\"date\": 151, \"variable\": \"recovered\", \"value\": 69350.79881562851}, {\"date\": 152, \"variable\": \"recovered\", \"value\": 69971.66997129997}, {\"date\": 153, \"variable\": \"recovered\", \"value\": 70580.57485193927}, {\"date\": 154, \"variable\": \"recovered\", \"value\": 71177.70043306403}, {\"date\": 155, \"variable\": \"recovered\", \"value\": 71763.23237056233}, {\"date\": 156, \"variable\": \"recovered\", \"value\": 72337.35500069248}, {\"date\": 157, \"variable\": \"recovered\", \"value\": 72900.25134008321}, {\"date\": 158, \"variable\": \"recovered\", \"value\": 73452.10308573362}, {\"date\": 159, \"variable\": \"recovered\", \"value\": 73993.09061501309}, {\"date\": 160, \"variable\": \"recovered\", \"value\": 74523.39298566144}, {\"date\": 161, \"variable\": \"recovered\", \"value\": 75043.18793578877}, {\"date\": 162, \"variable\": \"recovered\", \"value\": 75552.65188387557}, {\"date\": 163, \"variable\": \"recovered\", \"value\": 76051.95992877267}, {\"date\": 164, \"variable\": \"recovered\", \"value\": 76541.28584970126}, {\"date\": 165, \"variable\": \"recovered\", \"value\": 77020.8021062529}, {\"date\": 166, \"variable\": \"recovered\", \"value\": 77490.67983838945}, {\"date\": 167, \"variable\": \"recovered\", \"value\": 77951.08886644318}, {\"date\": 168, \"variable\": \"recovered\", \"value\": 78402.19769111669}, {\"date\": 169, \"variable\": \"recovered\", \"value\": 78844.17349348289}, {\"date\": 170, \"variable\": \"recovered\", \"value\": 79277.20666666277}, {\"date\": 171, \"variable\": \"recovered\", \"value\": 79701.52117549325}, {\"date\": 172, \"variable\": \"recovered\", \"value\": 80117.27310467977}, {\"date\": 173, \"variable\": \"recovered\", \"value\": 80524.61341316832}, {\"date\": 174, \"variable\": \"recovered\", \"value\": 80923.69149574272}, {\"date\": 175, \"variable\": \"recovered\", \"value\": 81314.65518302443}, {\"date\": 176, \"variable\": \"recovered\", \"value\": 81697.65074147267}, {\"date\": 177, \"variable\": \"recovered\", \"value\": 82072.82287338439}, {\"date\": 178, \"variable\": \"recovered\", \"value\": 82440.31471689427}, {\"date\": 179, \"variable\": \"recovered\", \"value\": 82800.26784597467}, {\"date\": 180, \"variable\": \"recovered\", \"value\": 83152.82227043572}, {\"date\": 181, \"variable\": \"recovered\", \"value\": 83498.11643592524}, {\"date\": 182, \"variable\": \"recovered\", \"value\": 83836.28722392881}, {\"date\": 183, \"variable\": \"recovered\", \"value\": 84167.46995176972}, {\"date\": 184, \"variable\": \"recovered\", \"value\": 84491.79837260894}, {\"date\": 185, \"variable\": \"recovered\", \"value\": 84809.40467544526}, {\"date\": 186, \"variable\": \"recovered\", \"value\": 85120.41948511508}, {\"date\": 187, \"variable\": \"recovered\", \"value\": 85424.9718622926}, {\"date\": 188, \"variable\": \"recovered\", \"value\": 85723.18930348974}, {\"date\": 189, \"variable\": \"recovered\", \"value\": 86015.19774105611}, {\"date\": 190, \"variable\": \"recovered\", \"value\": 86301.12154317906}, {\"date\": 191, \"variable\": \"recovered\", \"value\": 86581.08351388367}, {\"date\": 192, \"variable\": \"recovered\", \"value\": 86855.20489303274}, {\"date\": 193, \"variable\": \"recovered\", \"value\": 87123.60535632679}, {\"date\": 194, \"variable\": \"recovered\", \"value\": 87386.40301530407}, {\"date\": 195, \"variable\": \"recovered\", \"value\": 87643.71441734054}, {\"date\": 196, \"variable\": \"recovered\", \"value\": 87895.6545456499}, {\"date\": 197, \"variable\": \"recovered\", \"value\": 88142.33681928358}, {\"date\": 198, \"variable\": \"recovered\", \"value\": 88383.87309313069}, {\"date\": 199, \"variable\": \"recovered\", \"value\": 88620.37365791813}, {\"date\": 200, \"variable\": \"recovered\", \"value\": 88851.94724021047}, {\"date\": 201, \"variable\": \"recovered\", \"value\": 89078.70100241002}, {\"date\": 202, \"variable\": \"recovered\", \"value\": 89300.74054275683}, {\"date\": 203, \"variable\": \"recovered\", \"value\": 89518.16989532867}, {\"date\": 204, \"variable\": \"recovered\", \"value\": 89731.09153004098}, {\"date\": 205, \"variable\": \"recovered\", \"value\": 89939.60635264702}, {\"date\": 206, \"variable\": \"recovered\", \"value\": 90143.8141411882}, {\"date\": 207, \"variable\": \"recovered\", \"value\": 90343.8429328018}, {\"date\": 208, \"variable\": \"recovered\", \"value\": 90539.78830017002}, {\"date\": 209, \"variable\": \"recovered\", \"value\": 90731.71876672709}, {\"date\": 210, \"variable\": \"recovered\", \"value\": 90919.70234783042}, {\"date\": 211, \"variable\": \"recovered\", \"value\": 91103.8065507607}, {\"date\": 212, \"variable\": \"recovered\", \"value\": 91284.09837472187}, {\"date\": 213, \"variable\": \"recovered\", \"value\": 91460.64431084113}, {\"date\": 214, \"variable\": \"recovered\", \"value\": 91633.51034216894}, {\"date\": 215, \"variable\": \"recovered\", \"value\": 91802.76194367901}, {\"date\": 216, \"variable\": \"recovered\", \"value\": 91968.4640822683}, {\"date\": 217, \"variable\": \"recovered\", \"value\": 92130.68121675703}, {\"date\": 218, \"variable\": \"recovered\", \"value\": 92289.47729788865}, {\"date\": 219, \"variable\": \"recovered\", \"value\": 92444.9157683299}, {\"date\": 220, \"variable\": \"recovered\", \"value\": 92597.05956267075}, {\"date\": 221, \"variable\": \"recovered\", \"value\": 92745.97110742444}, {\"date\": 222, \"variable\": \"recovered\", \"value\": 92891.71232102744}, {\"date\": 223, \"variable\": \"recovered\", \"value\": 93034.34461383952}, {\"date\": 224, \"variable\": \"recovered\", \"value\": 93173.92888814365}, {\"date\": 225, \"variable\": \"recovered\", \"value\": 93310.52553814607}, {\"date\": 226, \"variable\": \"recovered\", \"value\": 93444.19444997632}, {\"date\": 227, \"variable\": \"recovered\", \"value\": 93574.99500168712}, {\"date\": 228, \"variable\": \"recovered\", \"value\": 93702.98606325449}, {\"date\": 229, \"variable\": \"recovered\", \"value\": 93828.2259965777}, {\"date\": 230, \"variable\": \"recovered\", \"value\": 93950.77265547928}, {\"date\": 231, \"variable\": \"recovered\", \"value\": 94070.68338570496}, {\"date\": 232, \"variable\": \"recovered\", \"value\": 94188.01502492382}, {\"date\": 233, \"variable\": \"recovered\", \"value\": 94302.82390272812}, {\"date\": 234, \"variable\": \"recovered\", \"value\": 94415.16584063339}, {\"date\": 235, \"variable\": \"recovered\", \"value\": 94525.0961520784}, {\"date\": 236, \"variable\": \"recovered\", \"value\": 94632.66964242524}, {\"date\": 237, \"variable\": \"recovered\", \"value\": 94737.94060895918}, {\"date\": 238, \"variable\": \"recovered\", \"value\": 94840.96284088877}, {\"date\": 239, \"variable\": \"recovered\", \"value\": 94941.78961934581}, {\"date\": 240, \"variable\": \"recovered\", \"value\": 95040.4737173854}, {\"date\": 241, \"variable\": \"recovered\", \"value\": 95137.0673999858}, {\"date\": 242, \"variable\": \"recovered\", \"value\": 95231.6224240486}, {\"date\": 243, \"variable\": \"recovered\", \"value\": 95324.19003839864}, {\"date\": 244, \"variable\": \"recovered\", \"value\": 95414.82098378395}, {\"date\": 245, \"variable\": \"recovered\", \"value\": 95503.56549287592}, {\"date\": 246, \"variable\": \"recovered\", \"value\": 95590.47329026909}, {\"date\": 247, \"variable\": \"recovered\", \"value\": 95675.59359248131}, {\"date\": 248, \"variable\": \"recovered\", \"value\": 95758.97510795368}, {\"date\": 249, \"variable\": \"recovered\", \"value\": 95840.66603705056}, {\"date\": 250, \"variable\": \"recovered\", \"value\": 95920.7140720595}, {\"date\": 251, \"variable\": \"recovered\", \"value\": 95999.16639719141}, {\"date\": 252, \"variable\": \"recovered\", \"value\": 96076.0380545507}, {\"date\": 253, \"variable\": \"recovered\", \"value\": 96151.32821172768}, {\"date\": 254, \"variable\": \"recovered\", \"value\": 96225.06365980695}, {\"date\": 255, \"variable\": \"recovered\", \"value\": 96297.27100501562}, {\"date\": 256, \"variable\": \"recovered\", \"value\": 96367.97665357665}, {\"date\": 257, \"variable\": \"recovered\", \"value\": 96437.20681170901}, {\"date\": 258, \"variable\": \"recovered\", \"value\": 96504.98748562753}, {\"date\": 259, \"variable\": \"recovered\", \"value\": 96571.34448154294}, {\"date\": 260, \"variable\": \"recovered\", \"value\": 96636.30340566194}, {\"date\": 261, \"variable\": \"recovered\", \"value\": 96699.8896641871}, {\"date\": 262, \"variable\": \"recovered\", \"value\": 96762.12846331693}, {\"date\": 263, \"variable\": \"recovered\", \"value\": 96823.04480924582}, {\"date\": 264, \"variable\": \"recovered\", \"value\": 96882.66350816414}, {\"date\": 265, \"variable\": \"recovered\", \"value\": 96941.00916625811}, {\"date\": 266, \"variable\": \"recovered\", \"value\": 96998.10618970988}, {\"date\": 267, \"variable\": \"recovered\", \"value\": 97053.97878469757}, {\"date\": 268, \"variable\": \"recovered\", \"value\": 97108.65095739513}, {\"date\": 269, \"variable\": \"recovered\", \"value\": 97162.1465139725}, {\"date\": 270, \"variable\": \"recovered\", \"value\": 97214.48906059549}, {\"date\": 271, \"variable\": \"recovered\", \"value\": 97265.70200342583}, {\"date\": 272, \"variable\": \"recovered\", \"value\": 97315.80854862118}, {\"date\": 273, \"variable\": \"recovered\", \"value\": 97364.8317023351}, {\"date\": 274, \"variable\": \"recovered\", \"value\": 97412.79427071709}, {\"date\": 275, \"variable\": \"recovered\", \"value\": 97459.71885991255}, {\"date\": 276, \"variable\": \"recovered\", \"value\": 97505.62787606278}, {\"date\": 277, \"variable\": \"recovered\", \"value\": 97550.54352530502}, {\"date\": 278, \"variable\": \"recovered\", \"value\": 97594.48781377242}, {\"date\": 279, \"variable\": \"recovered\", \"value\": 97637.48254759403}, {\"date\": 280, \"variable\": \"recovered\", \"value\": 97679.54933289484}, {\"date\": 281, \"variable\": \"recovered\", \"value\": 97720.70957579573}, {\"date\": 282, \"variable\": \"recovered\", \"value\": 97760.9844824135}, {\"date\": 283, \"variable\": \"recovered\", \"value\": 97800.3950588609}, {\"date\": 284, \"variable\": \"recovered\", \"value\": 97838.96211124654}, {\"date\": 285, \"variable\": \"recovered\", \"value\": 97876.70624567498}, {\"date\": 286, \"variable\": \"recovered\", \"value\": 97913.6478682467}, {\"date\": 287, \"variable\": \"recovered\", \"value\": 97949.80718505807}, {\"date\": 288, \"variable\": \"recovered\", \"value\": 97985.2042022014}, {\"date\": 289, \"variable\": \"recovered\", \"value\": 98019.8587257649}, {\"date\": 290, \"variable\": \"recovered\", \"value\": 98053.7903618327}, {\"date\": 291, \"variable\": \"recovered\", \"value\": 98087.01851648484}, {\"date\": 292, \"variable\": \"recovered\", \"value\": 98119.56239579729}, {\"date\": 293, \"variable\": \"recovered\", \"value\": 98151.44100584192}, {\"date\": 294, \"variable\": \"recovered\", \"value\": 98182.6731526865}, {\"date\": 295, \"variable\": \"recovered\", \"value\": 98213.27744239478}, {\"date\": 296, \"variable\": \"recovered\", \"value\": 98243.27228102635}, {\"date\": 297, \"variable\": \"recovered\", \"value\": 98272.6661927088}, {\"date\": 298, \"variable\": \"recovered\", \"value\": 98301.45509358068}, {\"date\": 299, \"variable\": \"recovered\", \"value\": 98329.6488500175}, {\"date\": 300, \"variable\": \"recovered\", \"value\": 98357.25760357513}, {\"date\": 301, \"variable\": \"recovered\", \"value\": 98384.29142170037}, {\"date\": 302, \"variable\": \"recovered\", \"value\": 98410.76029773099}, {\"date\": 303, \"variable\": \"recovered\", \"value\": 98436.67415089569}, {\"date\": 304, \"variable\": \"recovered\", \"value\": 98462.04282631412}, {\"date\": 305, \"variable\": \"recovered\", \"value\": 98486.87609499687}, {\"date\": 306, \"variable\": \"recovered\", \"value\": 98511.1836538455}, {\"date\": 307, \"variable\": \"recovered\", \"value\": 98534.97512565248}, {\"date\": 308, \"variable\": \"recovered\", \"value\": 98558.26005910123}, {\"date\": 309, \"variable\": \"recovered\", \"value\": 98581.04792876616}, {\"date\": 310, \"variable\": \"recovered\", \"value\": 98603.34813511257}, {\"date\": 311, \"variable\": \"recovered\", \"value\": 98625.17000449673}, {\"date\": 312, \"variable\": \"recovered\", \"value\": 98646.52278916587}, {\"date\": 313, \"variable\": \"recovered\", \"value\": 98667.41566725814}, {\"date\": 314, \"variable\": \"recovered\", \"value\": 98687.85774280266}, {\"date\": 315, \"variable\": \"recovered\", \"value\": 98707.85804571946}, {\"date\": 316, \"variable\": \"recovered\", \"value\": 98727.42553181956}, {\"date\": 317, \"variable\": \"recovered\", \"value\": 98746.5690828049}, {\"date\": 318, \"variable\": \"recovered\", \"value\": 98765.29750626835}, {\"date\": 319, \"variable\": \"recovered\", \"value\": 98783.61953569377}, {\"date\": 320, \"variable\": \"recovered\", \"value\": 98801.54383045594}, {\"date\": 321, \"variable\": \"recovered\", \"value\": 98819.07897582056}, {\"date\": 322, \"variable\": \"recovered\", \"value\": 98836.23348294433}, {\"date\": 323, \"variable\": \"recovered\", \"value\": 98853.01578887487}, {\"date\": 324, \"variable\": \"recovered\", \"value\": 98869.43425655072}, {\"date\": 325, \"variable\": \"recovered\", \"value\": 98885.49717480142}, {\"date\": 326, \"variable\": \"recovered\", \"value\": 98901.21275834739}, {\"date\": 327, \"variable\": \"recovered\", \"value\": 98916.58914780007}, {\"date\": 328, \"variable\": \"recovered\", \"value\": 98931.63440966178}, {\"date\": 329, \"variable\": \"recovered\", \"value\": 98946.35653632582}, {\"date\": 330, \"variable\": \"recovered\", \"value\": 98960.76344607644}, {\"date\": 331, \"variable\": \"recovered\", \"value\": 98974.86298308881}, {\"date\": 332, \"variable\": \"recovered\", \"value\": 98988.66291742906}, {\"date\": 333, \"variable\": \"recovered\", \"value\": 99002.17094505428}, {\"date\": 334, \"variable\": \"recovered\", \"value\": 99015.39468781248}, {\"date\": 335, \"variable\": \"recovered\", \"value\": 99028.34169344262}, {\"date\": 336, \"variable\": \"recovered\", \"value\": 99041.01943557464}, {\"date\": 337, \"variable\": \"recovered\", \"value\": 99053.43531372938}, {\"date\": 338, \"variable\": \"recovered\", \"value\": 99065.59665331863}, {\"date\": 339, \"variable\": \"recovered\", \"value\": 99077.51070564517}, {\"date\": 340, \"variable\": \"recovered\", \"value\": 99089.18464790269}, {\"date\": 341, \"variable\": \"recovered\", \"value\": 99100.6255831758}, {\"date\": 342, \"variable\": \"recovered\", \"value\": 99111.84022129938}, {\"date\": 343, \"variable\": \"recovered\", \"value\": 99122.82707413407}, {\"date\": 344, \"variable\": \"recovered\", \"value\": 99133.58704931647}, {\"date\": 345, \"variable\": \"recovered\", \"value\": 99144.12400047331}, {\"date\": 346, \"variable\": \"recovered\", \"value\": 99154.44175297991}, {\"date\": 347, \"variable\": \"recovered\", \"value\": 99164.54410396029}, {\"date\": 348, \"variable\": \"recovered\", \"value\": 99174.43482228705}, {\"date\": 349, \"variable\": \"recovered\", \"value\": 99184.11764858148}, {\"date\": 350, \"variable\": \"recovered\", \"value\": 99193.59629521347}, {\"date\": 351, \"variable\": \"recovered\", \"value\": 99202.87444630159}, {\"date\": 352, \"variable\": \"recovered\", \"value\": 99211.95575771305}, {\"date\": 353, \"variable\": \"recovered\", \"value\": 99220.84385706365}, {\"date\": 354, \"variable\": \"recovered\", \"value\": 99229.5423437179}, {\"date\": 355, \"variable\": \"recovered\", \"value\": 99238.05478878891}, {\"date\": 356, \"variable\": \"recovered\", \"value\": 99246.38473513845}, {\"date\": 357, \"variable\": \"recovered\", \"value\": 99254.53569737692}, {\"date\": 358, \"variable\": \"recovered\", \"value\": 99262.51116186338}, {\"date\": 359, \"variable\": \"recovered\", \"value\": 99270.3145867055}, {\"date\": 360, \"variable\": \"recovered\", \"value\": 99277.94940175963}, {\"date\": 361, \"variable\": \"recovered\", \"value\": 99285.41900863074}, {\"date\": 362, \"variable\": \"recovered\", \"value\": 99292.72678067243}, {\"date\": 363, \"variable\": \"recovered\", \"value\": 99299.87606298698}, {\"date\": 364, \"variable\": \"recovered\", \"value\": 99306.87017242528}, {\"date\": 365, \"variable\": \"recovered\", \"value\": 99313.71239758686}, {\"date\": 366, \"variable\": \"recovered\", \"value\": 99320.40599881992}, {\"date\": 367, \"variable\": \"recovered\", \"value\": 99326.95420822127}, {\"date\": 368, \"variable\": \"recovered\", \"value\": 99333.36022963641}, {\"date\": 369, \"variable\": \"recovered\", \"value\": 99339.6272386594}, {\"date\": 370, \"variable\": \"recovered\", \"value\": 99345.75838263304}, {\"date\": 371, \"variable\": \"recovered\", \"value\": 99351.75678064869}, {\"date\": 372, \"variable\": \"recovered\", \"value\": 99357.6255235464}, {\"date\": 373, \"variable\": \"recovered\", \"value\": 99363.36767391484}, {\"date\": 374, \"variable\": \"recovered\", \"value\": 99368.98626609133}, {\"date\": 375, \"variable\": \"recovered\", \"value\": 99374.48430616184}, {\"date\": 376, \"variable\": \"recovered\", \"value\": 99379.86477196096}, {\"date\": 377, \"variable\": \"recovered\", \"value\": 99385.13061307195}, {\"date\": 378, \"variable\": \"recovered\", \"value\": 99390.28475082667}, {\"date\": 379, \"variable\": \"recovered\", \"value\": 99395.33007830569}, {\"date\": 380, \"variable\": \"recovered\", \"value\": 99400.26946033814}, {\"date\": 381, \"variable\": \"recovered\", \"value\": 99405.10573350186}, {\"date\": 382, \"variable\": \"recovered\", \"value\": 99409.84170612329}, {\"date\": 383, \"variable\": \"recovered\", \"value\": 99414.48015827753}, {\"date\": 384, \"variable\": \"recovered\", \"value\": 99419.02384178832}, {\"date\": 385, \"variable\": \"recovered\", \"value\": 99423.47548022804}, {\"date\": 386, \"variable\": \"recovered\", \"value\": 99427.83776891771}, {\"date\": 387, \"variable\": \"recovered\", \"value\": 99432.11337492701}, {\"date\": 388, \"variable\": \"recovered\", \"value\": 99436.30304450919}, {\"date\": 389, \"variable\": \"recovered\", \"value\": 99440.40423170525}, {\"date\": 390, \"variable\": \"recovered\", \"value\": 99444.41853280453}, {\"date\": 391, \"variable\": \"recovered\", \"value\": 99448.34773825482}, {\"date\": 392, \"variable\": \"recovered\", \"value\": 99452.19360977196}, {\"date\": 393, \"variable\": \"recovered\", \"value\": 99455.95788033979}, {\"date\": 394, \"variable\": \"recovered\", \"value\": 99459.6422542102}, {\"date\": 395, \"variable\": \"recovered\", \"value\": 99463.24840690308}, {\"date\": 396, \"variable\": \"recovered\", \"value\": 99466.77798520634}, {\"date\": 397, \"variable\": \"recovered\", \"value\": 99470.23260717595}, {\"date\": 398, \"variable\": \"recovered\", \"value\": 99473.61386213584}, {\"date\": 399, \"variable\": \"recovered\", \"value\": 99476.923310678}, {\"date\": 400, \"variable\": \"recovered\", \"value\": 99480.16248466245}, {\"date\": 401, \"variable\": \"recovered\", \"value\": 99483.33288721721}, {\"date\": 402, \"variable\": \"recovered\", \"value\": 99486.43599273832}, {\"date\": 403, \"variable\": \"recovered\", \"value\": 99489.47324688987}, {\"date\": 404, \"variable\": \"recovered\", \"value\": 99492.44606660394}, {\"date\": 405, \"variable\": \"recovered\", \"value\": 99495.35584008062}, {\"date\": 406, \"variable\": \"recovered\", \"value\": 99498.20392678809}, {\"date\": 407, \"variable\": \"recovered\", \"value\": 99500.99165746248}, {\"date\": 408, \"variable\": \"recovered\", \"value\": 99503.72033410799}]}}, {\"mode\": \"vega-lite\"});\n",
       "</script>"
      ],
      "text/plain": [
       "alt.Chart(...)"
      ]
     },
     "execution_count": 20,
     "metadata": {},
     "output_type": "execute_result"
    }
   ],
   "source": [
    "alt.Chart(df_cr.melt('date')).mark_line().encode(\n",
    "    x='date',\n",
    "    y=alt.Y('value'),\n",
    "    color='variable'\n",
    ").properties(\n",
    "    title='SIR model for Ecuador with confirmed and recovered cases'\n",
    ").interactive()"
   ]
  },
  {
   "cell_type": "markdown",
   "id": "45f3ddc3",
   "metadata": {
    "papermill": {
     "duration": 0.019035,
     "end_time": "2021-05-05T00:07:51.304380",
     "exception": false,
     "start_time": "2021-05-05T00:07:51.285345",
     "status": "completed"
    },
    "tags": []
   },
   "source": [
    "#### Dataset confirmed Cases"
   ]
  },
  {
   "cell_type": "code",
   "execution_count": 21,
   "id": "9eb3217f",
   "metadata": {
    "execution": {
     "iopub.execute_input": "2021-05-05T00:07:51.348275Z",
     "iopub.status.busy": "2021-05-05T00:07:51.347562Z",
     "iopub.status.idle": "2021-05-05T00:07:51.350083Z",
     "shell.execute_reply": "2021-05-05T00:07:51.350415Z"
    },
    "papermill": {
     "duration": 0.027347,
     "end_time": "2021-05-05T00:07:51.350566",
     "exception": false,
     "start_time": "2021-05-05T00:07:51.323219",
     "status": "completed"
    },
    "tags": []
   },
   "outputs": [
    {
     "data": {
      "text/html": [
       "<div>\n",
       "<style scoped>\n",
       "    .dataframe tbody tr th:only-of-type {\n",
       "        vertical-align: middle;\n",
       "    }\n",
       "\n",
       "    .dataframe tbody tr th {\n",
       "        vertical-align: top;\n",
       "    }\n",
       "\n",
       "    .dataframe thead th {\n",
       "        text-align: right;\n",
       "    }\n",
       "</style>\n",
       "<table border=\"1\" class=\"dataframe\">\n",
       "  <thead>\n",
       "    <tr style=\"text-align: right;\">\n",
       "      <th></th>\n",
       "      <th>date</th>\n",
       "      <th>suceptible</th>\n",
       "      <th>infected</th>\n",
       "      <th>recovered</th>\n",
       "    </tr>\n",
       "  </thead>\n",
       "  <tbody>\n",
       "    <tr>\n",
       "      <th>0</th>\n",
       "      <td>0</td>\n",
       "      <td>100000.000000</td>\n",
       "      <td>10.000000</td>\n",
       "      <td>0.000000</td>\n",
       "    </tr>\n",
       "    <tr>\n",
       "      <th>1</th>\n",
       "      <td>1</td>\n",
       "      <td>99994.199144</td>\n",
       "      <td>15.800798</td>\n",
       "      <td>0.000058</td>\n",
       "    </tr>\n",
       "    <tr>\n",
       "      <th>2</th>\n",
       "      <td>2</td>\n",
       "      <td>99985.031025</td>\n",
       "      <td>24.968825</td>\n",
       "      <td>0.000150</td>\n",
       "    </tr>\n",
       "    <tr>\n",
       "      <th>3</th>\n",
       "      <td>3</td>\n",
       "      <td>99970.567197</td>\n",
       "      <td>39.432509</td>\n",
       "      <td>0.000294</td>\n",
       "    </tr>\n",
       "    <tr>\n",
       "      <th>4</th>\n",
       "      <td>4</td>\n",
       "      <td>99947.686515</td>\n",
       "      <td>62.312961</td>\n",
       "      <td>0.000523</td>\n",
       "    </tr>\n",
       "  </tbody>\n",
       "</table>\n",
       "</div>"
      ],
      "text/plain": [
       "   date     suceptible   infected  recovered\n",
       "0     0  100000.000000  10.000000   0.000000\n",
       "1     1   99994.199144  15.800798   0.000058\n",
       "2     2   99985.031025  24.968825   0.000150\n",
       "3     3   99970.567197  39.432509   0.000294\n",
       "4     4   99947.686515  62.312961   0.000523"
      ]
     },
     "execution_count": 21,
     "metadata": {},
     "output_type": "execute_result"
    }
   ],
   "source": [
    "df_c.head(5)"
   ]
  },
  {
   "cell_type": "code",
   "execution_count": 22,
   "id": "2a46b1d0",
   "metadata": {
    "execution": {
     "iopub.execute_input": "2021-05-05T00:07:51.410926Z",
     "iopub.status.busy": "2021-05-05T00:07:51.410417Z",
     "iopub.status.idle": "2021-05-05T00:07:51.413991Z",
     "shell.execute_reply": "2021-05-05T00:07:51.414322Z"
    },
    "papermill": {
     "duration": 0.044979,
     "end_time": "2021-05-05T00:07:51.414486",
     "exception": false,
     "start_time": "2021-05-05T00:07:51.369507",
     "status": "completed"
    },
    "tags": []
   },
   "outputs": [
    {
     "data": {
      "text/html": [
       "\n",
       "<div id=\"altair-viz-0541c3341a5e4706a7c6b1f6fc0932a1\"></div>\n",
       "<script type=\"text/javascript\">\n",
       "  (function(spec, embedOpt){\n",
       "    let outputDiv = document.currentScript.previousElementSibling;\n",
       "    if (outputDiv.id !== \"altair-viz-0541c3341a5e4706a7c6b1f6fc0932a1\") {\n",
       "      outputDiv = document.getElementById(\"altair-viz-0541c3341a5e4706a7c6b1f6fc0932a1\");\n",
       "    }\n",
       "    const paths = {\n",
       "      \"vega\": \"https://cdn.jsdelivr.net/npm//vega@5?noext\",\n",
       "      \"vega-lib\": \"https://cdn.jsdelivr.net/npm//vega-lib?noext\",\n",
       "      \"vega-lite\": \"https://cdn.jsdelivr.net/npm//vega-lite@4.8.1?noext\",\n",
       "      \"vega-embed\": \"https://cdn.jsdelivr.net/npm//vega-embed@6?noext\",\n",
       "    };\n",
       "\n",
       "    function loadScript(lib) {\n",
       "      return new Promise(function(resolve, reject) {\n",
       "        var s = document.createElement('script');\n",
       "        s.src = paths[lib];\n",
       "        s.async = true;\n",
       "        s.onload = () => resolve(paths[lib]);\n",
       "        s.onerror = () => reject(`Error loading script: ${paths[lib]}`);\n",
       "        document.getElementsByTagName(\"head\")[0].appendChild(s);\n",
       "      });\n",
       "    }\n",
       "\n",
       "    function showError(err) {\n",
       "      outputDiv.innerHTML = `<div class=\"error\" style=\"color:red;\">${err}</div>`;\n",
       "      throw err;\n",
       "    }\n",
       "\n",
       "    function displayChart(vegaEmbed) {\n",
       "      vegaEmbed(outputDiv, spec, embedOpt)\n",
       "        .catch(err => showError(`Javascript Error: ${err.message}<br>This usually means there's a typo in your chart specification. See the javascript console for the full traceback.`));\n",
       "    }\n",
       "\n",
       "    if(typeof define === \"function\" && define.amd) {\n",
       "      requirejs.config({paths});\n",
       "      require([\"vega-embed\"], displayChart, err => showError(`Error loading script: ${err.message}`));\n",
       "    } else if (typeof vegaEmbed === \"function\") {\n",
       "      displayChart(vegaEmbed);\n",
       "    } else {\n",
       "      loadScript(\"vega\")\n",
       "        .then(() => loadScript(\"vega-lite\"))\n",
       "        .then(() => loadScript(\"vega-embed\"))\n",
       "        .catch(showError)\n",
       "        .then(() => displayChart(vegaEmbed));\n",
       "    }\n",
       "  })({\"config\": {\"view\": {\"continuousWidth\": 400, \"continuousHeight\": 300}}, \"data\": {\"name\": \"data-e85334b50423de54be065b2f2e24b52b\"}, \"mark\": \"line\", \"encoding\": {\"color\": {\"type\": \"nominal\", \"field\": \"variable\"}, \"x\": {\"type\": \"quantitative\", \"field\": \"date\"}, \"y\": {\"type\": \"quantitative\", \"field\": \"value\"}}, \"selection\": {\"selector002\": {\"type\": \"interval\", \"bind\": \"scales\", \"encodings\": [\"x\", \"y\"]}}, \"title\": \"SIR model for Ecuador only confirmed cases\", \"$schema\": \"https://vega.github.io/schema/vega-lite/v4.8.1.json\", \"datasets\": {\"data-e85334b50423de54be065b2f2e24b52b\": [{\"date\": 0, \"variable\": \"suceptible\", \"value\": 100000.0}, {\"date\": 1, \"variable\": \"suceptible\", \"value\": 99994.19914376514}, {\"date\": 2, \"variable\": \"suceptible\", \"value\": 99985.03102483695}, {\"date\": 3, \"variable\": \"suceptible\", \"value\": 99970.56719666217}, {\"date\": 4, \"variable\": \"suceptible\", \"value\": 99947.68651540607}, {\"date\": 5, \"variable\": \"suceptible\", \"value\": 99911.55698425254}, {\"date\": 6, \"variable\": \"suceptible\", \"value\": 99854.68488527357}, {\"date\": 7, \"variable\": \"suceptible\", \"value\": 99764.66876037828}, {\"date\": 8, \"variable\": \"suceptible\", \"value\": 99622.75919240352}, {\"date\": 9, \"variable\": \"suceptible\", \"value\": 99400.09191374898}, {\"date\": 10, \"variable\": \"suceptible\", \"value\": 99049.52014040218}, {\"date\": 11, \"variable\": \"suceptible\", \"value\": 98500.00609068872}, {\"date\": 12, \"variable\": \"suceptible\", \"value\": 97646.50369710203}, {\"date\": 13, \"variable\": \"suceptible\", \"value\": 96325.24617686577}, {\"date\": 14, \"variable\": \"suceptible\", \"value\": 94305.95514113353}, {\"date\": 15, \"variable\": \"suceptible\", \"value\": 91300.24990138279}, {\"date\": 16, \"variable\": \"suceptible\", \"value\": 86895.24556638986}, {\"date\": 17, \"variable\": \"suceptible\", \"value\": 80726.10408581204}, {\"date\": 18, \"variable\": \"suceptible\", \"value\": 72594.18541389519}, {\"date\": 19, \"variable\": \"suceptible\", \"value\": 62615.7131099439}, {\"date\": 20, \"variable\": \"suceptible\", \"value\": 51467.48425454413}, {\"date\": 21, \"variable\": \"suceptible\", \"value\": 40112.30693235376}, {\"date\": 22, \"variable\": \"suceptible\", \"value\": 29735.410818806446}, {\"date\": 23, \"variable\": \"suceptible\", \"value\": 21112.165176725735}, {\"date\": 24, \"variable\": \"suceptible\", \"value\": 14454.486526531822}, {\"date\": 25, \"variable\": \"suceptible\", \"value\": 9668.094432012538}, {\"date\": 26, \"variable\": \"suceptible\", \"value\": 6351.920697514264}, {\"date\": 27, \"variable\": \"suceptible\", \"value\": 4114.516899207517}, {\"date\": 28, \"variable\": \"suceptible\", \"value\": 2644.418665483302}, {\"date\": 29, \"variable\": \"suceptible\", \"value\": 1689.2019028824614}, {\"date\": 30, \"variable\": \"suceptible\", \"value\": 1076.5821557068605}, {\"date\": 31, \"variable\": \"suceptible\", \"value\": 683.3677522499305}, {\"date\": 32, \"variable\": \"suceptible\", \"value\": 434.4595704640124}, {\"date\": 33, \"variable\": \"suceptible\", \"value\": 275.1007422374478}, {\"date\": 34, \"variable\": \"suceptible\", \"value\": 174.61039181835855}, {\"date\": 35, \"variable\": \"suceptible\", \"value\": 110.4793475877153}, {\"date\": 36, \"variable\": \"suceptible\", \"value\": 70.0559561930849}, {\"date\": 37, \"variable\": \"suceptible\", \"value\": 44.328235306127645}, {\"date\": 38, \"variable\": \"suceptible\", \"value\": 28.08829892446235}, {\"date\": 39, \"variable\": \"suceptible\", \"value\": 17.7800122327038}, {\"date\": 40, \"variable\": \"suceptible\", \"value\": 11.259005313871823}, {\"date\": 41, \"variable\": \"suceptible\", \"value\": 7.130639511635569}, {\"date\": 42, \"variable\": \"suceptible\", \"value\": 4.512862908016888}, {\"date\": 43, \"variable\": \"suceptible\", \"value\": 2.859562675639499}, {\"date\": 44, \"variable\": \"suceptible\", \"value\": 1.808923222605567}, {\"date\": 45, \"variable\": \"suceptible\", \"value\": 1.1467000092487472}, {\"date\": 46, \"variable\": \"suceptible\", \"value\": 0.725139539800043}, {\"date\": 47, \"variable\": \"suceptible\", \"value\": 0.45980420133215777}, {\"date\": 48, \"variable\": \"suceptible\", \"value\": 0.29071224739300017}, {\"date\": 49, \"variable\": \"suceptible\", \"value\": 0.18435437675630356}, {\"date\": 50, \"variable\": \"suceptible\", \"value\": 0.11655902836761758}, {\"date\": 51, \"variable\": \"suceptible\", \"value\": 0.07390157484867545}, {\"date\": 52, \"variable\": \"suceptible\", \"value\": 0.046737560768624786}, {\"date\": 53, \"variable\": \"suceptible\", \"value\": 0.029621136504968157}, {\"date\": 54, \"variable\": \"suceptible\", \"value\": 0.01874211066242739}, {\"date\": 55, \"variable\": \"suceptible\", \"value\": 0.011872140026569906}, {\"date\": 56, \"variable\": \"suceptible\", \"value\": 0.007516214796221426}, {\"date\": 57, \"variable\": \"suceptible\", \"value\": 0.004758343576738098}, {\"date\": 58, \"variable\": \"suceptible\", \"value\": 0.0030144731846738606}, {\"date\": 59, \"variable\": \"suceptible\", \"value\": 0.0019071731509000185}, {\"date\": 60, \"variable\": \"suceptible\", \"value\": 0.001209145746601827}, {\"date\": 61, \"variable\": \"suceptible\", \"value\": 0.0007644215517463063}, {\"date\": 62, \"variable\": \"suceptible\", \"value\": 0.00048511196563511005}, {\"date\": 63, \"variable\": \"suceptible\", \"value\": 0.0003064416959004081}, {\"date\": 64, \"variable\": \"suceptible\", \"value\": 0.00019450243961968044}, {\"date\": 65, \"variable\": \"suceptible\", \"value\": 0.00012302459515201608}, {\"date\": 66, \"variable\": \"suceptible\", \"value\": 7.77766536700297e-05}, {\"date\": 67, \"variable\": \"suceptible\", \"value\": 4.962458449220771e-05}, {\"date\": 68, \"variable\": \"suceptible\", \"value\": 3.116655878972814e-05}, {\"date\": 69, \"variable\": \"suceptible\", \"value\": 1.973386308932642e-05}, {\"date\": 70, \"variable\": \"suceptible\", \"value\": 1.278938408255221e-05}, {\"date\": 71, \"variable\": \"suceptible\", \"value\": 7.957919989042902e-06}, {\"date\": 72, \"variable\": \"suceptible\", \"value\": 4.9118698367288505e-06}, {\"date\": 73, \"variable\": \"suceptible\", \"value\": 3.2683059616964453e-06}, {\"date\": 74, \"variable\": \"suceptible\", \"value\": 2.2381522730633458e-06}, {\"date\": 75, \"variable\": \"suceptible\", \"value\": 1.3016626158382627e-06}, {\"date\": 76, \"variable\": \"suceptible\", \"value\": 7.009785461881608e-07}, {\"date\": 77, \"variable\": \"suceptible\", \"value\": 4.7281412551475065e-07}, {\"date\": 78, \"variable\": \"suceptible\", \"value\": 4.7578889758798107e-07}, {\"date\": 79, \"variable\": \"suceptible\", \"value\": 3.9525572903276215e-07}, {\"date\": 80, \"variable\": \"suceptible\", \"value\": 1.516692800979056e-07}, {\"date\": 81, \"variable\": \"suceptible\", \"value\": -4.649157077222476e-08}, {\"date\": 82, \"variable\": \"suceptible\", \"value\": -1.0916471190785155e-07}, {\"date\": 83, \"variable\": \"suceptible\", \"value\": -2.2566684428535102e-08}, {\"date\": 84, \"variable\": \"suceptible\", \"value\": 1.5080731775682454e-07}, {\"date\": 85, \"variable\": \"suceptible\", \"value\": 2.721834479499895e-07}, {\"date\": 86, \"variable\": \"suceptible\", \"value\": 1.3470597043200013e-07}, {\"date\": 87, \"variable\": \"suceptible\", \"value\": -2.484185933086164e-07}, {\"date\": 88, \"variable\": \"suceptible\", \"value\": -6.118803925408258e-07}, {\"date\": 89, \"variable\": \"suceptible\", \"value\": -7.716279756264927e-07}, {\"date\": 90, \"variable\": \"suceptible\", \"value\": -6.424681039124601e-07}, {\"date\": 91, \"variable\": \"suceptible\", \"value\": -2.3806575173054628e-07}, {\"date\": 92, \"variable\": \"suceptible\", \"value\": 3.29055893602453e-07}, {\"date\": 93, \"variable\": \"suceptible\", \"value\": 8.475154317847562e-07}, {\"date\": 94, \"variable\": \"suceptible\", \"value\": 1.0070732495296183e-06}, {\"date\": 95, \"variable\": \"suceptible\", \"value\": 5.440243143441301e-07}, {\"date\": 96, \"variable\": \"suceptible\", \"value\": -9.551098875988186e-08}, {\"date\": 97, \"variable\": \"suceptible\", \"value\": -5.050925514306012e-07}, {\"date\": 98, \"variable\": \"suceptible\", \"value\": -4.942356583203359e-07}, {\"date\": 99, \"variable\": \"suceptible\", \"value\": -7.438479576233535e-08}, {\"date\": 100, \"variable\": \"suceptible\", \"value\": 5.410863482292067e-07}, {\"date\": 101, \"variable\": \"suceptible\", \"value\": 9.368748839591538e-07}, {\"date\": 102, \"variable\": \"suceptible\", \"value\": 6.166943526408814e-07}, {\"date\": 103, \"variable\": \"suceptible\", \"value\": 4.033645645600205e-09}, {\"date\": 104, \"variable\": \"suceptible\", \"value\": -4.3952140247759816e-07}, {\"date\": 105, \"variable\": \"suceptible\", \"value\": -5.008501459224435e-07}, {\"date\": 106, \"variable\": \"suceptible\", \"value\": -1.585714522661721e-07}, {\"date\": 107, \"variable\": \"suceptible\", \"value\": 4.1695629753047287e-07}, {\"date\": 108, \"variable\": \"suceptible\", \"value\": 8.636352091232443e-07}, {\"date\": 109, \"variable\": \"suceptible\", \"value\": 6.648890071846219e-07}, {\"date\": 110, \"variable\": \"suceptible\", \"value\": -1.5154412244589118e-08}, {\"date\": 111, \"variable\": \"suceptible\", \"value\": -6.148025281566902e-07}, {\"date\": 112, \"variable\": \"suceptible\", \"value\": -8.182288531246697e-07}, {\"date\": 113, \"variable\": \"suceptible\", \"value\": -5.22135324291898e-07}, {\"date\": 114, \"variable\": \"suceptible\", \"value\": 1.6424769662786768e-07}, {\"date\": 115, \"variable\": \"suceptible\", \"value\": 9.191614233504916e-07}, {\"date\": 116, \"variable\": \"suceptible\", \"value\": 1.2083186450214523e-06}, {\"date\": 117, \"variable\": \"suceptible\", \"value\": 5.56325699744226e-07}, {\"date\": 118, \"variable\": \"suceptible\", \"value\": -3.9333653708703326e-07}, {\"date\": 119, \"variable\": \"suceptible\", \"value\": -1.0269046407003698e-06}, {\"date\": 120, \"variable\": \"suceptible\", \"value\": -1.031345207865035e-06}, {\"date\": 121, \"variable\": \"suceptible\", \"value\": -3.8211146650464296e-07}, {\"date\": 122, \"variable\": \"suceptible\", \"value\": 6.568567243028339e-07}, {\"date\": 123, \"variable\": \"suceptible\", \"value\": 1.5331328743250572e-06}, {\"date\": 124, \"variable\": \"suceptible\", \"value\": 1.4175062803067914e-06}, {\"date\": 125, \"variable\": \"suceptible\", \"value\": 4.0187376817855036e-07}, {\"date\": 126, \"variable\": \"suceptible\", \"value\": -5.356207195518188e-07}, {\"date\": 127, \"variable\": \"suceptible\", \"value\": -9.048673083245646e-07}, {\"date\": 128, \"variable\": \"suceptible\", \"value\": -5.49172605965646e-07}, {\"date\": 129, \"variable\": \"suceptible\", \"value\": 3.5474029731326024e-07}, {\"date\": 130, \"variable\": \"suceptible\", \"value\": 1.2967318289147721e-06}, {\"date\": 131, \"variable\": \"suceptible\", \"value\": 1.433245933855783e-06}, {\"date\": 132, \"variable\": \"suceptible\", \"value\": 6.111428435894489e-07}, {\"date\": 133, \"variable\": \"suceptible\", \"value\": -1.655428488255318e-07}, {\"date\": 134, \"variable\": \"suceptible\", \"value\": -5.033505069825372e-07}, {\"date\": 135, \"variable\": \"suceptible\", \"value\": -2.811879345083375e-07}, {\"date\": 136, \"variable\": \"suceptible\", \"value\": 3.497507461270764e-07}, {\"date\": 137, \"variable\": \"suceptible\", \"value\": 9.659850936105051e-07}, {\"date\": 138, \"variable\": \"suceptible\", \"value\": 8.918621540583041e-07}, {\"date\": 139, \"variable\": \"suceptible\", \"value\": 2.6965997585008164e-07}, {\"date\": 140, \"variable\": \"suceptible\", \"value\": -2.6188531560217284e-07}, {\"date\": 141, \"variable\": \"suceptible\", \"value\": -4.4000695878416517e-07}, {\"date\": 142, \"variable\": \"suceptible\", \"value\": -2.0151153195747472e-07}, {\"date\": 143, \"variable\": \"suceptible\", \"value\": 3.1722104684045374e-07}, {\"date\": 144, \"variable\": \"suceptible\", \"value\": 7.802375197963001e-07}, {\"date\": 145, \"variable\": \"suceptible\", \"value\": 6.72418852328584e-07}, {\"date\": 146, \"variable\": \"suceptible\", \"value\": 8.339598963788715e-08}, {\"date\": 147, \"variable\": \"suceptible\", \"value\": -4.5428235659332285e-07}, {\"date\": 148, \"variable\": \"suceptible\", \"value\": -6.554879179707665e-07}, {\"date\": 149, \"variable\": \"suceptible\", \"value\": -4.2406616080345856e-07}, {\"date\": 150, \"variable\": \"suceptible\", \"value\": 1.471637138962925e-07}, {\"date\": 151, \"variable\": \"suceptible\", \"value\": 7.764087704128849e-07}, {\"date\": 152, \"variable\": \"suceptible\", \"value\": 9.929023383274245e-07}, {\"date\": 153, \"variable\": \"suceptible\", \"value\": 4.018522921850362e-07}, {\"date\": 154, \"variable\": \"suceptible\", \"value\": -4.318294802983478e-07}, {\"date\": 155, \"variable\": \"suceptible\", \"value\": -9.798655360862195e-07}, {\"date\": 156, \"variable\": \"suceptible\", \"value\": -9.699297466866184e-07}, {\"date\": 157, \"variable\": \"suceptible\", \"value\": -3.795657189880601e-07}, {\"date\": 158, \"variable\": \"suceptible\", \"value\": 5.638132047404739e-07}, {\"date\": 159, \"variable\": \"suceptible\", \"value\": 1.3829239468495206e-06}, {\"date\": 160, \"variable\": \"suceptible\", \"value\": 1.3525931707399927e-06}, {\"date\": 161, \"variable\": \"suceptible\", \"value\": 3.670918920027978e-07}, {\"date\": 162, \"variable\": \"suceptible\", \"value\": -6.4155319571684e-07}, {\"date\": 163, \"variable\": \"suceptible\", \"value\": -1.1156186893420396e-06}, {\"date\": 164, \"variable\": \"suceptible\", \"value\": -8.327256315770473e-07}, {\"date\": 165, \"variable\": \"suceptible\", \"value\": 9.416048909277067e-08}, {\"date\": 166, \"variable\": \"suceptible\", \"value\": 1.216729738400911e-06}, {\"date\": 167, \"variable\": \"suceptible\", \"value\": 1.7513277362997604e-06}, {\"date\": 168, \"variable\": \"suceptible\", \"value\": 1.007938408694996e-06}, {\"date\": 169, \"variable\": \"suceptible\", \"value\": 1.6853165650766137e-08}, {\"date\": 170, \"variable\": \"suceptible\", \"value\": -5.842829671552588e-07}, {\"date\": 171, \"variable\": \"suceptible\", \"value\": -5.393738223493143e-07}, {\"date\": 172, \"variable\": \"suceptible\", \"value\": 9.02011022887821e-08}, {\"date\": 173, \"variable\": \"suceptible\", \"value\": 9.255866438256318e-07}, {\"date\": 174, \"variable\": \"suceptible\", \"value\": 1.2704519741742533e-06}, {\"date\": 175, \"variable\": \"suceptible\", \"value\": 6.618890592518363e-07}, {\"date\": 176, \"variable\": \"suceptible\", \"value\": -1.7949280862277324e-08}, {\"date\": 177, \"variable\": \"suceptible\", \"value\": -3.799230504901743e-07}, {\"date\": 178, \"variable\": \"suceptible\", \"value\": -2.836577322337039e-07}, {\"date\": 179, \"variable\": \"suceptible\", \"value\": 1.867310290009047e-07}, {\"date\": 180, \"variable\": \"suceptible\", \"value\": 7.226374260030401e-07}, {\"date\": 181, \"variable\": \"suceptible\", \"value\": 7.912389483224015e-07}, {\"date\": 182, \"variable\": \"suceptible\", \"value\": 2.688106169687767e-07}, {\"date\": 183, \"variable\": \"suceptible\", \"value\": -2.5906732009060544e-07}, {\"date\": 184, \"variable\": \"suceptible\", \"value\": -5.048736090692836e-07}, {\"date\": 185, \"variable\": \"suceptible\", \"value\": -3.5970413172739206e-07}, {\"date\": 186, \"variable\": \"suceptible\", \"value\": 1.0672809462834092e-07}, {\"date\": 187, \"variable\": \"suceptible\", \"value\": 6.460929171445906e-07}, {\"date\": 188, \"variable\": \"suceptible\", \"value\": 8.314430474214365e-07}, {\"date\": 189, \"variable\": \"suceptible\", \"value\": 3.21990815652486e-07}, {\"date\": 190, \"variable\": \"suceptible\", \"value\": -3.761301562669362e-07}, {\"date\": 191, \"variable\": \"suceptible\", \"value\": -8.254828783085021e-07}, {\"date\": 192, \"variable\": \"suceptible\", \"value\": -8.033587544326515e-07}, {\"date\": 193, \"variable\": \"suceptible\", \"value\": -2.9688808068733815e-07}, {\"date\": 194, \"variable\": \"suceptible\", \"value\": 4.969599547919719e-07}, {\"date\": 195, \"variable\": \"suceptible\", \"value\": 1.171377271782301e-06}, {\"date\": 196, \"variable\": \"suceptible\", \"value\": 1.1125110950969944e-06}, {\"date\": 197, \"variable\": \"suceptible\", \"value\": 2.0146851148235362e-07}, {\"date\": 198, \"variable\": \"suceptible\", \"value\": -7.595492883497864e-07}, {\"date\": 199, \"variable\": \"suceptible\", \"value\": -1.2309433208034753e-06}, {\"date\": 200, \"variable\": \"suceptible\", \"value\": -9.806124063082595e-07}, {\"date\": 201, \"variable\": \"suceptible\", \"value\": -8.395316931917706e-08}, {\"date\": 202, \"variable\": \"suceptible\", \"value\": 1.0761399616832335e-06}, {\"date\": 203, \"variable\": \"suceptible\", \"value\": 1.8092747541929404e-06}, {\"date\": 204, \"variable\": \"suceptible\", \"value\": 1.2671480889050486e-06}, {\"date\": 205, \"variable\": \"suceptible\", \"value\": 1.334776150832829e-07}, {\"date\": 206, \"variable\": \"suceptible\", \"value\": -7.126081369601191e-07}, {\"date\": 207, \"variable\": \"suceptible\", \"value\": -8.6639248234939e-07}, {\"date\": 208, \"variable\": \"suceptible\", \"value\": -2.7874038075134355e-07}, {\"date\": 209, \"variable\": \"suceptible\", \"value\": 7.439015636246223e-07}, {\"date\": 210, \"variable\": \"suceptible\", \"value\": 1.5395051020265328e-06}, {\"date\": 211, \"variable\": \"suceptible\", \"value\": 1.2032599447299458e-06}, {\"date\": 212, \"variable\": \"suceptible\", \"value\": 3.422716563099376e-07}, {\"date\": 213, \"variable\": \"suceptible\", \"value\": -2.8491827654814046e-07}, {\"date\": 214, \"variable\": \"suceptible\", \"value\": -4.046900257141873e-07}, {\"date\": 215, \"variable\": \"suceptible\", \"value\": -1.160900919112302e-08}, {\"date\": 216, \"variable\": \"suceptible\", \"value\": 6.315741088851128e-07}, {\"date\": 217, \"variable\": \"suceptible\", \"value\": 9.93923418245562e-07}, {\"date\": 218, \"variable\": \"suceptible\", \"value\": 5.705792714349975e-07}, {\"date\": 219, \"variable\": \"suceptible\", \"value\": -7.537102552454525e-09}, {\"date\": 220, \"variable\": \"suceptible\", \"value\": -3.605668966138619e-07}, {\"date\": 221, \"variable\": \"suceptible\", \"value\": -3.357038999132587e-07}, {\"date\": 222, \"variable\": \"suceptible\", \"value\": 3.503451372486997e-08}, {\"date\": 223, \"variable\": \"suceptible\", \"value\": 5.34807385815584e-07}, {\"date\": 224, \"variable\": \"suceptible\", \"value\": 7.619501732134932e-07}, {\"date\": 225, \"variable\": \"suceptible\", \"value\": 3.542114791778825e-07}, {\"date\": 226, \"variable\": \"suceptible\", \"value\": -2.336109704347463e-07}, {\"date\": 227, \"variable\": \"suceptible\", \"value\": -6.205344005655062e-07}, {\"date\": 228, \"variable\": \"suceptible\", \"value\": -6.166436910985249e-07}, {\"date\": 229, \"variable\": \"suceptible\", \"value\": -2.1146957785781925e-07}, {\"date\": 230, \"variable\": \"suceptible\", \"value\": 4.260113473927007e-07}, {\"date\": 231, \"variable\": \"suceptible\", \"value\": 9.473766369492377e-07}, {\"date\": 232, \"variable\": \"suceptible\", \"value\": 8.323753067487355e-07}, {\"date\": 233, \"variable\": \"suceptible\", \"value\": 3.146803563351428e-08}, {\"date\": 234, \"variable\": \"suceptible\", \"value\": -7.878936441311658e-07}, {\"date\": 235, \"variable\": \"suceptible\", \"value\": -1.172070602320328e-06}, {\"date\": 236, \"variable\": \"suceptible\", \"value\": -9.265481518478591e-07}, {\"date\": 237, \"variable\": \"suceptible\", \"value\": -1.1593604876650725e-07}, {\"date\": 238, \"variable\": \"suceptible\", \"value\": 9.360315077321175e-07}, {\"date\": 239, \"variable\": \"suceptible\", \"value\": 1.6464958753175321e-06}, {\"date\": 240, \"variable\": \"suceptible\", \"value\": 1.237631393764144e-06}, {\"date\": 241, \"variable\": \"suceptible\", \"value\": 7.647161267079924e-08}, {\"date\": 242, \"variable\": \"suceptible\", \"value\": -9.034712586764342e-07}, {\"date\": 243, \"variable\": \"suceptible\", \"value\": -1.1984271740492481e-06}, {\"date\": 244, \"variable\": \"suceptible\", \"value\": -6.694295393664514e-07}, {\"date\": 245, \"variable\": \"suceptible\", \"value\": 4.57684787306032e-07}, {\"date\": 246, \"variable\": \"suceptible\", \"value\": 1.5922754957551692e-06}, {\"date\": 247, \"variable\": \"suceptible\", \"value\": 1.7788988236208088e-06}, {\"date\": 248, \"variable\": \"suceptible\", \"value\": 7.955765986484352e-07}, {\"date\": 249, \"variable\": \"suceptible\", \"value\": -1.4584303038728736e-07}, {\"date\": 250, \"variable\": \"suceptible\", \"value\": -5.680290545799449e-07}, {\"date\": 251, \"variable\": \"suceptible\", \"value\": -3.218484797876261e-07}, {\"date\": 252, \"variable\": \"suceptible\", \"value\": 4.151907359011647e-07}, {\"date\": 253, \"variable\": \"suceptible\", \"value\": 1.1389396821675126e-06}, {\"date\": 254, \"variable\": \"suceptible\", \"value\": 1.047095054748445e-06}, {\"date\": 255, \"variable\": \"suceptible\", \"value\": 3.7322909903722993e-07}, {\"date\": 256, \"variable\": \"suceptible\", \"value\": -1.685812523045792e-07}, {\"date\": 257, \"variable\": \"suceptible\", \"value\": -3.305717030726456e-07}, {\"date\": 258, \"variable\": \"suceptible\", \"value\": -7.601668759177455e-08}, {\"date\": 259, \"variable\": \"suceptible\", \"value\": 4.207706292840895e-07}, {\"date\": 260, \"variable\": \"suceptible\", \"value\": 7.744383521718581e-07}, {\"date\": 261, \"variable\": \"suceptible\", \"value\": 5.054419194429417e-07}, {\"date\": 262, \"variable\": \"suceptible\", \"value\": -2.4280807089198888e-08}, {\"date\": 263, \"variable\": \"suceptible\", \"value\": -4.1190535507958475e-07}, {\"date\": 264, \"variable\": \"suceptible\", \"value\": -4.687544223287895e-07}, {\"date\": 265, \"variable\": \"suceptible\", \"value\": -1.7087217118097545e-07}, {\"date\": 266, \"variable\": \"suceptible\", \"value\": 3.4097577147611143e-07}, {\"date\": 267, \"variable\": \"suceptible\", \"value\": 7.61302314211137e-07}, {\"date\": 268, \"variable\": \"suceptible\", \"value\": 6.335883671228888e-07}, {\"date\": 269, \"variable\": \"suceptible\", \"value\": -2.8053531506750153e-08}, {\"date\": 270, \"variable\": \"suceptible\", \"value\": -6.764444184453692e-07}, {\"date\": 271, \"variable\": \"suceptible\", \"value\": -9.5835059670166e-07}, {\"date\": 272, \"variable\": \"suceptible\", \"value\": -7.289879415898227e-07}, {\"date\": 273, \"variable\": \"suceptible\", \"value\": -5.2021900729571416e-08}, {\"date\": 274, \"variable\": \"suceptible\", \"value\": 8.004325059538793e-07}, {\"date\": 275, \"variable\": \"suceptible\", \"value\": 1.3478106862298e-06}, {\"date\": 276, \"variable\": \"suceptible\", \"value\": 9.530695191375508e-07}, {\"date\": 277, \"variable\": \"suceptible\", \"value\": -1.345433981301676e-07}, {\"date\": 278, \"variable\": \"suceptible\", \"value\": -1.0835334323928001e-06}, {\"date\": 279, \"variable\": \"suceptible\", \"value\": -1.3955847440733653e-06}, {\"date\": 280, \"variable\": \"suceptible\", \"value\": -9.055806639971015e-07}, {\"date\": 281, \"variable\": \"suceptible\", \"value\": 2.1839630660852736e-07}, {\"date\": 282, \"variable\": \"suceptible\", \"value\": 1.4750644961138434e-06}, {\"date\": 283, \"variable\": \"suceptible\", \"value\": 2.0299430624869495e-06}, {\"date\": 284, \"variable\": \"suceptible\", \"value\": 1.1507454316649463e-06}, {\"date\": 285, \"variable\": \"suceptible\", \"value\": -4.931615752005171e-08}, {\"date\": 286, \"variable\": \"suceptible\", \"value\": -7.959098752235771e-07}, {\"date\": 287, \"variable\": \"suceptible\", \"value\": -7.58656498012044e-07}, {\"date\": 288, \"variable\": \"suceptible\", \"value\": 1.1018267005678577e-08}, {\"date\": 289, \"variable\": \"suceptible\", \"value\": 1.0798837821782704e-06}, {\"date\": 290, \"variable\": \"suceptible\", \"value\": 1.6329044793119518e-06}, {\"date\": 291, \"variable\": \"suceptible\", \"value\": 9.696492178073398e-07}, {\"date\": 292, \"variable\": \"suceptible\", \"value\": 1.5802594013587582e-07}, {\"date\": 293, \"variable\": \"suceptible\", \"value\": -3.003477932446866e-07}, {\"date\": 294, \"variable\": \"suceptible\", \"value\": -2.3965390876062595e-07}, {\"date\": 295, \"variable\": \"suceptible\", \"value\": 2.4465059198949307e-07}, {\"date\": 296, \"variable\": \"suceptible\", \"value\": 7.958336322348133e-07}, {\"date\": 297, \"variable\": \"suceptible\", \"value\": 8.02495620844351e-07}, {\"date\": 298, \"variable\": \"suceptible\", \"value\": 2.810529275997465e-07}, {\"date\": 299, \"variable\": \"suceptible\", \"value\": -1.830303665497998e-07}, {\"date\": 300, \"variable\": \"suceptible\", \"value\": -3.578802316514778e-07}, {\"date\": 301, \"variable\": \"suceptible\", \"value\": -1.804697347535687e-07}, {\"date\": 302, \"variable\": \"suceptible\", \"value\": 2.4338096009455793e-07}, {\"date\": 303, \"variable\": \"suceptible\", \"value\": 6.390045918424464e-07}, {\"date\": 304, \"variable\": \"suceptible\", \"value\": 5.730212813701715e-07}, {\"date\": 305, \"variable\": \"suceptible\", \"value\": 4.57839430999908e-08}, {\"date\": 306, \"variable\": \"suceptible\", \"value\": -4.715715393977644e-07}, {\"date\": 307, \"variable\": \"suceptible\", \"value\": -6.966126452790212e-07}, {\"date\": 308, \"variable\": \"suceptible\", \"value\": -5.170481779659829e-07}, {\"date\": 309, \"variable\": \"suceptible\", \"value\": 9.27173485287273e-09}, {\"date\": 310, \"variable\": \"suceptible\", \"value\": 6.543556412227867e-07}, {\"date\": 311, \"variable\": \"suceptible\", \"value\": 1.0200707649227276e-06}, {\"date\": 312, \"variable\": \"suceptible\", \"value\": 6.051630267441725e-07}, {\"date\": 313, \"variable\": \"suceptible\", \"value\": -3.2671224558897847e-07}, {\"date\": 314, \"variable\": \"suceptible\", \"value\": -1.1067003309699172e-06}, {\"date\": 315, \"variable\": \"suceptible\", \"value\": -1.3306853348849332e-06}, {\"date\": 316, \"variable\": \"suceptible\", \"value\": -8.670208255470767e-07}, {\"date\": 317, \"variable\": \"suceptible\", \"value\": 1.4347016610384282e-07}, {\"date\": 318, \"variable\": \"suceptible\", \"value\": 1.2874951464012627e-06}, {\"date\": 319, \"variable\": \"suceptible\", \"value\": 1.8792921589518504e-06}, {\"date\": 320, \"variable\": \"suceptible\", \"value\": 1.2253420909841919e-06}, {\"date\": 321, \"variable\": \"suceptible\", \"value\": 2.634006508016088e-07}, {\"date\": 322, \"variable\": \"suceptible\", \"value\": -3.4565898598161516e-07}, {\"date\": 323, \"variable\": \"suceptible\", \"value\": -3.604877765781833e-07}, {\"date\": 324, \"variable\": \"suceptible\", \"value\": 1.5792068827607608e-07}, {\"date\": 325, \"variable\": \"suceptible\", \"value\": 8.462301843222205e-07}, {\"date\": 326, \"variable\": \"suceptible\", \"value\": 1.038761853778193e-06}, {\"date\": 327, \"variable\": \"suceptible\", \"value\": 4.951141452449797e-07}, {\"date\": 328, \"variable\": \"suceptible\", \"value\": -1.9394005277492374e-08}, {\"date\": 329, \"variable\": \"suceptible\", \"value\": -2.5024015150524733e-07}, {\"date\": 330, \"variable\": \"suceptible\", \"value\": -1.2395515459235127e-07}, {\"date\": 331, \"variable\": \"suceptible\", \"value\": 2.5491358030378785e-07}, {\"date\": 332, \"variable\": \"suceptible\", \"value\": 6.038021040224223e-07}, {\"date\": 333, \"variable\": \"suceptible\", \"value\": 4.906255695848311e-07}, {\"date\": 334, \"variable\": \"suceptible\", \"value\": 2.7705402177257392e-08}, {\"date\": 335, \"variable\": \"suceptible\", \"value\": -3.7884996784816053e-07}, {\"date\": 336, \"variable\": \"suceptible\", \"value\": -5.164421349951252e-07}, {\"date\": 337, \"variable\": \"suceptible\", \"value\": -3.1823988042784895e-07}, {\"date\": 338, \"variable\": \"suceptible\", \"value\": 1.368208280289514e-07}, {\"date\": 339, \"variable\": \"suceptible\", \"value\": 6.240368358900472e-07}, {\"date\": 340, \"variable\": \"suceptible\", \"value\": 7.729378020097066e-07}, {\"date\": 341, \"variable\": \"suceptible\", \"value\": 2.3788393469956783e-07}, {\"date\": 342, \"variable\": \"suceptible\", \"value\": -5.630317508390077e-07}, {\"date\": 343, \"variable\": \"suceptible\", \"value\": -1.1237317721191079e-06}, {\"date\": 344, \"variable\": \"suceptible\", \"value\": -1.1629782933478147e-06}, {\"date\": 345, \"variable\": \"suceptible\", \"value\": -6.239572217625728e-07}, {\"date\": 346, \"variable\": \"suceptible\", \"value\": 3.2572179236881183e-07}, {\"date\": 347, \"variable\": \"suceptible\", \"value\": 1.2940253557481677e-06}, {\"date\": 348, \"variable\": \"suceptible\", \"value\": 1.6644963320469724e-06}, {\"date\": 349, \"variable\": \"suceptible\", \"value\": 9.58536884931191e-07}, {\"date\": 350, \"variable\": \"suceptible\", \"value\": 8.70188878877138e-08}, {\"date\": 351, \"variable\": \"suceptible\", \"value\": -4.1997153750796776e-07}, {\"date\": 352, \"variable\": \"suceptible\", \"value\": -3.622690727656508e-07}, {\"date\": 353, \"variable\": \"suceptible\", \"value\": 1.8002564389481527e-07}, {\"date\": 354, \"variable\": \"suceptible\", \"value\": 8.465460175435217e-07}, {\"date\": 355, \"variable\": \"suceptible\", \"value\": 9.966594965405097e-07}, {\"date\": 356, \"variable\": \"suceptible\", \"value\": 4.490147890147547e-07}, {\"date\": 357, \"variable\": \"suceptible\", \"value\": -6.85595184084075e-08}, {\"date\": 358, \"variable\": \"suceptible\", \"value\": -2.9728644657254605e-07}, {\"date\": 359, \"variable\": \"suceptible\", \"value\": -1.5933787494705342e-07}, {\"date\": 360, \"variable\": \"suceptible\", \"value\": 2.4297861466297764e-07}, {\"date\": 361, \"variable\": \"suceptible\", \"value\": 6.272197381167635e-07}, {\"date\": 362, \"variable\": \"suceptible\", \"value\": 5.475442823464229e-07}, {\"date\": 363, \"variable\": \"suceptible\", \"value\": 6.045248591023368e-08}, {\"date\": 364, \"variable\": \"suceptible\", \"value\": -3.9012115831738173e-07}, {\"date\": 365, \"variable\": \"suceptible\", \"value\": -5.641310977451322e-07}, {\"date\": 366, \"variable\": \"suceptible\", \"value\": -3.7739349747817763e-07}, {\"date\": 367, \"variable\": \"suceptible\", \"value\": 9.841375968187097e-08}, {\"date\": 368, \"variable\": \"suceptible\", \"value\": 6.357510732369458e-07}, {\"date\": 369, \"variable\": \"suceptible\", \"value\": 8.512171249925378e-07}, {\"date\": 370, \"variable\": \"suceptible\", \"value\": 3.4824821671122297e-07}, {\"date\": 371, \"variable\": \"suceptible\", \"value\": -4.777683867413477e-07}, {\"date\": 372, \"variable\": \"suceptible\", \"value\": -1.0844190320012817e-06}, {\"date\": 373, \"variable\": \"suceptible\", \"value\": -1.165548146600106e-06}, {\"date\": 374, \"variable\": \"suceptible\", \"value\": -6.499530846155336e-07}, {\"date\": 375, \"variable\": \"suceptible\", \"value\": 2.9861587332851873e-07}, {\"date\": 376, \"variable\": \"suceptible\", \"value\": 1.2814555200619583e-06}, {\"date\": 377, \"variable\": \"suceptible\", \"value\": 1.6649097218684925e-06}, {\"date\": 378, \"variable\": \"suceptible\", \"value\": 9.554904413977933e-07}, {\"date\": 379, \"variable\": \"suceptible\", \"value\": 7.827698936966531e-08}, {\"date\": 380, \"variable\": \"suceptible\", \"value\": -4.3216893701603237e-07}, {\"date\": 381, \"variable\": \"suceptible\", \"value\": -3.732467638674598e-07}, {\"date\": 382, \"variable\": \"suceptible\", \"value\": 1.7555096792579237e-07}, {\"date\": 383, \"variable\": \"suceptible\", \"value\": 8.526386026926969e-07}, {\"date\": 384, \"variable\": \"suceptible\", \"value\": 1.0143373699807944e-06}, {\"date\": 385, \"variable\": \"suceptible\", \"value\": 4.600619771931039e-07}, {\"date\": 386, \"variable\": \"suceptible\", \"value\": -6.992677704961178e-08}, {\"date\": 387, \"variable\": \"suceptible\", \"value\": -3.081651177943969e-07}, {\"date\": 388, \"variable\": \"suceptible\", \"value\": -1.719814485618442e-07}, {\"date\": 389, \"variable\": \"suceptible\", \"value\": 2.3784836487690237e-07}, {\"date\": 390, \"variable\": \"suceptible\", \"value\": 6.37100994500149e-07}, {\"date\": 391, \"variable\": \"suceptible\", \"value\": 5.716874954423873e-07}, {\"date\": 392, \"variable\": \"suceptible\", \"value\": 8.00632687074535e-08}, {\"date\": 393, \"variable\": \"suceptible\", \"value\": -3.80843992070382e-07}, {\"date\": 394, \"variable\": \"suceptible\", \"value\": -5.645238321183456e-07}, {\"date\": 395, \"variable\": \"suceptible\", \"value\": -3.8292467733571284e-07}, {\"date\": 396, \"variable\": \"suceptible\", \"value\": 9.354616570619371e-08}, {\"date\": 397, \"variable\": \"suceptible\", \"value\": 6.360225097640034e-07}, {\"date\": 398, \"variable\": \"suceptible\", \"value\": 8.571792869222998e-07}, {\"date\": 399, \"variable\": \"suceptible\", \"value\": 3.5844649201475544e-07}, {\"date\": 400, \"variable\": \"suceptible\", \"value\": -4.5856901647462145e-07}, {\"date\": 401, \"variable\": \"suceptible\", \"value\": -1.056464822666945e-06}, {\"date\": 402, \"variable\": \"suceptible\", \"value\": -1.1336102506151608e-06}, {\"date\": 403, \"variable\": \"suceptible\", \"value\": -6.219546791562385e-07}, {\"date\": 404, \"variable\": \"suceptible\", \"value\": 3.129724580888282e-07}, {\"date\": 405, \"variable\": \"suceptible\", \"value\": 1.2720616727150228e-06}, {\"date\": 406, \"variable\": \"suceptible\", \"value\": 1.6226234215333174e-06}, {\"date\": 407, \"variable\": \"suceptible\", \"value\": 1.0765089535962224e-06}, {\"date\": 408, \"variable\": \"suceptible\", \"value\": 6.813810022701488e-07}, {\"date\": 0, \"variable\": \"infected\", \"value\": 10.0}, {\"date\": 1, \"variable\": \"infected\", \"value\": 15.800798224620937}, {\"date\": 2, \"variable\": \"infected\", \"value\": 24.968825461580238}, {\"date\": 3, \"variable\": \"infected\", \"value\": 39.43250896654632}, {\"date\": 4, \"variable\": \"infected\", \"value\": 62.31296132278125}, {\"date\": 5, \"variable\": \"infected\", \"value\": 98.44213090470747}, {\"date\": 6, \"variable\": \"infected\", \"value\": 155.31366052196398}, {\"date\": 7, \"variable\": \"infected\", \"value\": 245.32888355713146}, {\"date\": 8, \"variable\": \"infected\", \"value\": 387.2370276822045}, {\"date\": 9, \"variable\": \"infected\", \"value\": 609.9020688952648}, {\"date\": 10, \"variable\": \"infected\", \"value\": 960.4703099075525}, {\"date\": 11, \"variable\": \"infected\", \"value\": 1509.9787938988331}, {\"date\": 12, \"variable\": \"infected\", \"value\": 2363.472477834727}, {\"date\": 13, \"variable\": \"infected\", \"value\": 3684.716391281343}, {\"date\": 14, \"variable\": \"infected\", \"value\": 5703.986242470866}, {\"date\": 15, \"variable\": \"infected\", \"value\": 8709.658991761336}, {\"date\": 16, \"variable\": \"infected\", \"value\": 13114.61397741424}, {\"date\": 17, \"variable\": \"infected\", \"value\": 19283.682035621427}, {\"date\": 18, \"variable\": \"infected\", \"value\": 27415.494787342534}, {\"date\": 19, \"variable\": \"infected\", \"value\": 37393.81988805542}, {\"date\": 20, \"variable\": \"infected\", \"value\": 48541.85231344417}, {\"date\": 21, \"variable\": \"infected\", \"value\": 59896.78098641005}, {\"date\": 22, \"variable\": \"infected\", \"value\": 70273.37865128886}, {\"date\": 23, \"variable\": \"infected\", \"value\": 78896.28269854118}, {\"date\": 24, \"variable\": \"infected\", \"value\": 85553.58458994697}, {\"date\": 25, \"variable\": \"infected\", \"value\": 90339.57321429887}, {\"date\": 26, \"variable\": \"infected\", \"value\": 93655.32540848361}, {\"date\": 27, \"variable\": \"infected\", \"value\": 95892.29527729846}, {\"date\": 28, \"variable\": \"infected\", \"value\": 97361.95118889093}, {\"date\": 29, \"variable\": \"infected\", \"value\": 98316.72019137886}, {\"date\": 30, \"variable\": \"infected\", \"value\": 98928.88862666972}, {\"date\": 31, \"variable\": \"infected\", \"value\": 99321.64947976446}, {\"date\": 32, \"variable\": \"infected\", \"value\": 99570.10264801234}, {\"date\": 33, \"variable\": \"infected\", \"value\": 99729.00556254365}, {\"date\": 34, \"variable\": \"infected\", \"value\": 99829.03940906523}, {\"date\": 35, \"variable\": \"infected\", \"value\": 99892.71358676157}, {\"date\": 36, \"variable\": \"infected\", \"value\": 99932.6798760701}, {\"date\": 37, \"variable\": \"infected\", \"value\": 99957.95034981749}, {\"date\": 38, \"variable\": \"infected\", \"value\": 99973.73294618791}, {\"date\": 39, \"variable\": \"infected\", \"value\": 99983.58383561333}, {\"date\": 40, \"variable\": \"infected\", \"value\": 99989.64740947292}, {\"date\": 41, \"variable\": \"infected\", \"value\": 99993.31832037725}, {\"date\": 42, \"variable\": \"infected\", \"value\": 99995.47862906805}, {\"date\": 43, \"variable\": \"infected\", \"value\": 99996.67445383492}, {\"date\": 44, \"variable\": \"infected\", \"value\": 99997.26761388849}, {\"date\": 45, \"variable\": \"infected\", \"value\": 99997.47235591101}, {\"date\": 46, \"variable\": \"infected\", \"value\": 99997.43643487588}, {\"date\": 47, \"variable\": \"infected\", \"value\": 99997.24428924044}, {\"date\": 48, \"variable\": \"infected\", \"value\": 99996.95590135094}, {\"date\": 49, \"variable\": \"infected\", \"value\": 99996.60478084373}, {\"date\": 50, \"variable\": \"infected\", \"value\": 99996.21509952156}, {\"date\": 51, \"variable\": \"infected\", \"value\": 99995.80028214605}, {\"date\": 52, \"variable\": \"infected\", \"value\": 99995.36997326909}, {\"date\": 53, \"variable\": \"infected\", \"value\": 99994.92961879472}, {\"date\": 54, \"variable\": \"infected\", \"value\": 99994.48302895244}, {\"date\": 55, \"variable\": \"infected\", \"value\": 99994.03243210776}, {\"date\": 56, \"variable\": \"infected\", \"value\": 99993.5793232854}, {\"date\": 57, \"variable\": \"infected\", \"value\": 99993.12461848592}, {\"date\": 58, \"variable\": \"infected\", \"value\": 99992.66890176832}, {\"date\": 59, \"variable\": \"infected\", \"value\": 99992.21255056684}, {\"date\": 60, \"variable\": \"infected\", \"value\": 99991.75579218147}, {\"date\": 61, \"variable\": \"infected\", \"value\": 99991.2987825832}, {\"date\": 62, \"variable\": \"infected\", \"value\": 99990.84160966147}, {\"date\": 63, \"variable\": \"infected\", \"value\": 99990.38433819223}, {\"date\": 64, \"variable\": \"infected\", \"value\": 99989.9270020841}, {\"date\": 65, \"variable\": \"infected\", \"value\": 99989.46962760694}, {\"date\": 66, \"variable\": \"infected\", \"value\": 99989.0122289924}, {\"date\": 67, \"variable\": \"infected\", \"value\": 99988.55481537459}, {\"date\": 68, \"variable\": \"infected\", \"value\": 99988.0973941554}, {\"date\": 69, \"variable\": \"infected\", \"value\": 99987.63996800355}, {\"date\": 70, \"variable\": \"infected\", \"value\": 99987.18253945619}, {\"date\": 71, \"variable\": \"infected\", \"value\": 99986.72511088852}, {\"date\": 72, \"variable\": \"infected\", \"value\": 99986.26768262814}, {\"date\": 73, \"variable\": \"infected\", \"value\": 99985.81025505798}, {\"date\": 74, \"variable\": \"infected\", \"value\": 99985.3528289671}, {\"date\": 75, \"variable\": \"infected\", \"value\": 99984.89540487523}, {\"date\": 76, \"variable\": \"infected\", \"value\": 99984.43798254026}, {\"date\": 77, \"variable\": \"infected\", \"value\": 99983.98056192542}, {\"date\": 78, \"variable\": \"infected\", \"value\": 99983.52314317212}, {\"date\": 79, \"variable\": \"infected\", \"value\": 99983.06572659497}, {\"date\": 80, \"variable\": \"infected\", \"value\": 99982.60831227353}, {\"date\": 81, \"variable\": \"infected\", \"value\": 99982.15089999928}, {\"date\": 82, \"variable\": \"infected\", \"value\": 99981.69348968219}, {\"date\": 83, \"variable\": \"infected\", \"value\": 99981.23608130842}, {\"date\": 84, \"variable\": \"infected\", \"value\": 99980.7786749405}, {\"date\": 85, \"variable\": \"infected\", \"value\": 99980.32127071716}, {\"date\": 86, \"variable\": \"infected\", \"value\": 99979.86386884529}, {\"date\": 87, \"variable\": \"infected\", \"value\": 99979.40646931162}, {\"date\": 88, \"variable\": \"infected\", \"value\": 99978.94907185088}, {\"date\": 89, \"variable\": \"infected\", \"value\": 99978.49167627895}, {\"date\": 90, \"variable\": \"infected\", \"value\": 99978.03428251068}, {\"date\": 91, \"variable\": \"infected\", \"value\": 99977.5768905597}, {\"date\": 92, \"variable\": \"infected\", \"value\": 99977.11950053854}, {\"date\": 93, \"variable\": \"infected\", \"value\": 99976.66211265854}, {\"date\": 94, \"variable\": \"infected\", \"value\": 99976.20472722997}, {\"date\": 95, \"variable\": \"infected\", \"value\": 99975.74734451651}, {\"date\": 96, \"variable\": \"infected\", \"value\": 99975.28996407203}, {\"date\": 97, \"variable\": \"infected\", \"value\": 99974.83258549008}, {\"date\": 98, \"variable\": \"infected\", \"value\": 99974.37520858015}, {\"date\": 99, \"variable\": \"infected\", \"value\": 99973.9178333537}, {\"date\": 100, \"variable\": \"infected\", \"value\": 99973.46046002407}, {\"date\": 101, \"variable\": \"infected\", \"value\": 99973.00308900657}, {\"date\": 102, \"variable\": \"infected\", \"value\": 99972.54572079748}, {\"date\": 103, \"variable\": \"infected\", \"value\": 99972.0883549733}, {\"date\": 104, \"variable\": \"infected\", \"value\": 99971.63099107244}, {\"date\": 105, \"variable\": \"infected\", \"value\": 99971.17362888173}, {\"date\": 106, \"variable\": \"infected\", \"value\": 99970.71626837982}, {\"date\": 107, \"variable\": \"infected\", \"value\": 99970.25890973704}, {\"date\": 108, \"variable\": \"infected\", \"value\": 99969.8015533155}, {\"date\": 109, \"variable\": \"infected\", \"value\": 99969.34419963174}, {\"date\": 110, \"variable\": \"infected\", \"value\": 99968.88684852165}, {\"date\": 111, \"variable\": \"infected\", \"value\": 99968.42949942351}, {\"date\": 112, \"variable\": \"infected\", \"value\": 99967.97215202148}, {\"date\": 113, \"variable\": \"infected\", \"value\": 99967.51480621225}, {\"date\": 114, \"variable\": \"infected\", \"value\": 99967.05746210506}, {\"date\": 115, \"variable\": \"infected\", \"value\": 99966.60012002164}, {\"date\": 116, \"variable\": \"infected\", \"value\": 99966.14278049627}, {\"date\": 117, \"variable\": \"infected\", \"value\": 99965.68544400437}, {\"date\": 118, \"variable\": \"infected\", \"value\": 99965.22810990243}, {\"date\": 119, \"variable\": \"infected\", \"value\": 99964.77077757663}, {\"date\": 120, \"variable\": \"infected\", \"value\": 99964.31344671399}, {\"date\": 121, \"variable\": \"infected\", \"value\": 99963.8561172899}, {\"date\": 122, \"variable\": \"infected\", \"value\": 99963.39878956832}, {\"date\": 123, \"variable\": \"infected\", \"value\": 99962.94146410168}, {\"date\": 124, \"variable\": \"infected\", \"value\": 99962.48414171916}, {\"date\": 125, \"variable\": \"infected\", \"value\": 99962.02682232887}, {\"date\": 126, \"variable\": \"infected\", \"value\": 99961.56950495265}, {\"date\": 127, \"variable\": \"infected\", \"value\": 99961.11218910039}, {\"date\": 128, \"variable\": \"infected\", \"value\": 99960.65487461534}, {\"date\": 129, \"variable\": \"infected\", \"value\": 99960.19756167424}, {\"date\": 130, \"variable\": \"infected\", \"value\": 99959.74025078725}, {\"date\": 131, \"variable\": \"infected\", \"value\": 99959.28294279789}, {\"date\": 132, \"variable\": \"infected\", \"value\": 99958.82563785929}, {\"date\": 133, \"variable\": \"infected\", \"value\": 99958.36833496742}, {\"date\": 134, \"variable\": \"infected\", \"value\": 99957.91103372881}, {\"date\": 135, \"variable\": \"infected\", \"value\": 99957.45373402233}, {\"date\": 136, \"variable\": \"infected\", \"value\": 99956.99643599919}, {\"date\": 137, \"variable\": \"infected\", \"value\": 99956.53914008284}, {\"date\": 138, \"variable\": \"infected\", \"value\": 99956.08184694893}, {\"date\": 139, \"variable\": \"infected\", \"value\": 99955.62455645521}, {\"date\": 140, \"variable\": \"infected\", \"value\": 99955.1672679629}, {\"date\": 141, \"variable\": \"infected\", \"value\": 99954.7099812092}, {\"date\": 142, \"variable\": \"infected\", \"value\": 99954.25269613096}, {\"date\": 143, \"variable\": \"infected\", \"value\": 99953.7954128645}, {\"date\": 144, \"variable\": \"infected\", \"value\": 99953.33813174581}, {\"date\": 145, \"variable\": \"infected\", \"value\": 99952.88085328997}, {\"date\": 146, \"variable\": \"infected\", \"value\": 99952.42357740735}, {\"date\": 147, \"variable\": \"infected\", \"value\": 99951.9663035654}, {\"date\": 148, \"variable\": \"infected\", \"value\": 99951.50903147896}, {\"date\": 149, \"variable\": \"infected\", \"value\": 99951.05176105187}, {\"date\": 150, \"variable\": \"infected\", \"value\": 99950.59449237694}, {\"date\": 151, \"variable\": \"infected\", \"value\": 99950.13722573598}, {\"date\": 152, \"variable\": \"infected\", \"value\": 99949.6799615997}, {\"date\": 153, \"variable\": \"infected\", \"value\": 99949.22270036294}, {\"date\": 154, \"variable\": \"infected\", \"value\": 99948.76544146075}, {\"date\": 155, \"variable\": \"infected\", \"value\": 99948.30818436484}, {\"date\": 156, \"variable\": \"infected\", \"value\": 99947.85092880286}, {\"date\": 157, \"variable\": \"infected\", \"value\": 99947.39367475235}, {\"date\": 158, \"variable\": \"infected\", \"value\": 99946.93642244073}, {\"date\": 159, \"variable\": \"infected\", \"value\": 99946.47917234527}, {\"date\": 160, \"variable\": \"infected\", \"value\": 99946.02192519113}, {\"date\": 161, \"variable\": \"infected\", \"value\": 99945.56468108406}, {\"date\": 162, \"variable\": \"infected\", \"value\": 99945.10743909197}, {\"date\": 163, \"variable\": \"infected\", \"value\": 99944.65019865715}, {\"date\": 164, \"variable\": \"infected\", \"value\": 99944.19295955721}, {\"date\": 165, \"variable\": \"infected\", \"value\": 99943.7357219051}, {\"date\": 166, \"variable\": \"infected\", \"value\": 99943.27848614912}, {\"date\": 167, \"variable\": \"infected\", \"value\": 99942.82125307294}, {\"date\": 168, \"variable\": \"infected\", \"value\": 99942.36402336655}, {\"date\": 169, \"variable\": \"infected\", \"value\": 99941.90679599966}, {\"date\": 170, \"variable\": \"infected\", \"value\": 99941.4495703346}, {\"date\": 171, \"variable\": \"infected\", \"value\": 99940.99234611526}, {\"date\": 172, \"variable\": \"infected\", \"value\": 99940.53512340302}, {\"date\": 173, \"variable\": \"infected\", \"value\": 99940.07790257671}, {\"date\": 174, \"variable\": \"infected\", \"value\": 99939.62068433268}, {\"date\": 175, \"variable\": \"infected\", \"value\": 99939.16346913383}, {\"date\": 176, \"variable\": \"infected\", \"value\": 99938.70625609797}, {\"date\": 177, \"variable\": \"infected\", \"value\": 99938.24904483595}, {\"date\": 178, \"variable\": \"infected\", \"value\": 99937.7918352074}, {\"date\": 179, \"variable\": \"infected\", \"value\": 99937.33462729643}, {\"date\": 180, \"variable\": \"infected\", \"value\": 99936.87742141163}, {\"date\": 181, \"variable\": \"infected\", \"value\": 99936.4202180858}, {\"date\": 182, \"variable\": \"infected\", \"value\": 99935.96301744269}, {\"date\": 183, \"variable\": \"infected\", \"value\": 99935.50581889668}, {\"date\": 184, \"variable\": \"infected\", \"value\": 99935.04862216025}, {\"date\": 185, \"variable\": \"infected\", \"value\": 99934.59142712447}, {\"date\": 186, \"variable\": \"infected\", \"value\": 99934.13423385906}, {\"date\": 187, \"variable\": \"infected\", \"value\": 99933.67704261234}, {\"date\": 188, \"variable\": \"infected\", \"value\": 99933.21985381126}, {\"date\": 189, \"variable\": \"infected\", \"value\": 99932.76266779657}, {\"date\": 190, \"variable\": \"infected\", \"value\": 99932.30548406216}, {\"date\": 191, \"variable\": \"infected\", \"value\": 99931.84830217055}, {\"date\": 192, \"variable\": \"infected\", \"value\": 99931.39112189904}, {\"date\": 193, \"variable\": \"infected\", \"value\": 99930.93394323473}, {\"date\": 194, \"variable\": \"infected\", \"value\": 99930.4767663746}, {\"date\": 195, \"variable\": \"infected\", \"value\": 99930.01959172545}, {\"date\": 196, \"variable\": \"infected\", \"value\": 99929.56241990114}, {\"date\": 197, \"variable\": \"infected\", \"value\": 99929.1052510205}, {\"date\": 198, \"variable\": \"infected\", \"value\": 99928.64808428139}, {\"date\": 199, \"variable\": \"infected\", \"value\": 99928.19091914414}, {\"date\": 200, \"variable\": \"infected\", \"value\": 99927.73375537666}, {\"date\": 201, \"variable\": \"infected\", \"value\": 99927.27659305431}, {\"date\": 202, \"variable\": \"infected\", \"value\": 99926.81943256002}, {\"date\": 203, \"variable\": \"infected\", \"value\": 99926.36227458416}, {\"date\": 204, \"variable\": \"infected\", \"value\": 99925.90511997502}, {\"date\": 205, \"variable\": \"infected\", \"value\": 99925.4479680489}, {\"date\": 206, \"variable\": \"infected\", \"value\": 99924.99081792662}, {\"date\": 207, \"variable\": \"infected\", \"value\": 99924.53366920345}, {\"date\": 208, \"variable\": \"infected\", \"value\": 99924.07652183027}, {\"date\": 209, \"variable\": \"infected\", \"value\": 99923.6193761135}, {\"date\": 210, \"variable\": \"infected\", \"value\": 99923.16223271517}, {\"date\": 211, \"variable\": \"infected\", \"value\": 99922.7050925401}, {\"date\": 212, \"variable\": \"infected\", \"value\": 99922.24795498115}, {\"date\": 213, \"variable\": \"infected\", \"value\": 99921.79081927978}, {\"date\": 214, \"variable\": \"infected\", \"value\": 99921.33368516233}, {\"date\": 215, \"variable\": \"infected\", \"value\": 99920.87655262339}, {\"date\": 216, \"variable\": \"infected\", \"value\": 99920.41942192569}, {\"date\": 217, \"variable\": \"infected\", \"value\": 99919.96229360015}, {\"date\": 218, \"variable\": \"infected\", \"value\": 99919.50516815165}, {\"date\": 219, \"variable\": \"infected\", \"value\": 99919.04804494923}, {\"date\": 220, \"variable\": \"infected\", \"value\": 99918.59092361302}, {\"date\": 221, \"variable\": \"infected\", \"value\": 99918.13380399022}, {\"date\": 222, \"variable\": \"infected\", \"value\": 99917.67668611283}, {\"date\": 223, \"variable\": \"infected\", \"value\": 99917.21957019767}, {\"date\": 224, \"variable\": \"infected\", \"value\": 99916.76245664641}, {\"date\": 225, \"variable\": \"infected\", \"value\": 99916.3053458213}, {\"date\": 226, \"variable\": \"infected\", \"value\": 99915.84823726752}, {\"date\": 227, \"variable\": \"infected\", \"value\": 99915.39113060408}, {\"date\": 228, \"variable\": \"infected\", \"value\": 99914.93402564105}, {\"date\": 229, \"variable\": \"infected\", \"value\": 99914.47692236795}, {\"date\": 230, \"variable\": \"infected\", \"value\": 99914.01982095375}, {\"date\": 231, \"variable\": \"infected\", \"value\": 99913.56272174686}, {\"date\": 232, \"variable\": \"infected\", \"value\": 99913.10562526753}, {\"date\": 233, \"variable\": \"infected\", \"value\": 99912.6485315653}, {\"date\": 234, \"variable\": \"infected\", \"value\": 99912.1914399727}, {\"date\": 235, \"variable\": \"infected\", \"value\": 99911.73435003607}, {\"date\": 236, \"variable\": \"infected\", \"value\": 99911.27726156088}, {\"date\": 237, \"variable\": \"infected\", \"value\": 99910.82017461174}, {\"date\": 238, \"variable\": \"infected\", \"value\": 99910.36308951238}, {\"date\": 239, \"variable\": \"infected\", \"value\": 99909.90600684565}, {\"date\": 240, \"variable\": \"infected\", \"value\": 99909.44892738937}, {\"date\": 241, \"variable\": \"infected\", \"value\": 99908.99185077651}, {\"date\": 242, \"variable\": \"infected\", \"value\": 99908.5347760735}, {\"date\": 243, \"variable\": \"infected\", \"value\": 99908.0777027766}, {\"date\": 244, \"variable\": \"infected\", \"value\": 99907.62063074681}, {\"date\": 245, \"variable\": \"infected\", \"value\": 99907.16356020996}, {\"date\": 246, \"variable\": \"infected\", \"value\": 99906.70649175669}, {\"date\": 247, \"variable\": \"infected\", \"value\": 99906.24942634245}, {\"date\": 248, \"variable\": \"infected\", \"value\": 99905.7923641892}, {\"date\": 249, \"variable\": \"infected\", \"value\": 99905.33530408508}, {\"date\": 250, \"variable\": \"infected\", \"value\": 99904.87824555273}, {\"date\": 251, \"variable\": \"infected\", \"value\": 99904.42118844301}, {\"date\": 252, \"variable\": \"infected\", \"value\": 99903.96413293343}, {\"date\": 253, \"variable\": \"infected\", \"value\": 99903.50707952814}, {\"date\": 254, \"variable\": \"infected\", \"value\": 99903.05002902941}, {\"date\": 255, \"variable\": \"infected\", \"value\": 99902.59298120369}, {\"date\": 256, \"variable\": \"infected\", \"value\": 99902.13593533688}, {\"date\": 257, \"variable\": \"infected\", \"value\": 99901.67889118119}, {\"date\": 258, \"variable\": \"infected\", \"value\": 99901.22184869989}, {\"date\": 259, \"variable\": \"infected\", \"value\": 99900.7648080673}, {\"date\": 260, \"variable\": \"infected\", \"value\": 99900.30776966874}, {\"date\": 261, \"variable\": \"infected\", \"value\": 99899.85073398377}, {\"date\": 262, \"variable\": \"infected\", \"value\": 99899.39370065041}, {\"date\": 263, \"variable\": \"infected\", \"value\": 99898.93666926587}, {\"date\": 264, \"variable\": \"infected\", \"value\": 99898.47963964143}, {\"date\": 265, \"variable\": \"infected\", \"value\": 99898.02261175313}, {\"date\": 266, \"variable\": \"infected\", \"value\": 99897.56558574172}, {\"date\": 267, \"variable\": \"infected\", \"value\": 99897.1085619127}, {\"date\": 268, \"variable\": \"infected\", \"value\": 99896.65154072255}, {\"date\": 269, \"variable\": \"infected\", \"value\": 99896.1945221572}, {\"date\": 270, \"variable\": \"infected\", \"value\": 99895.7375056694}, {\"date\": 271, \"variable\": \"infected\", \"value\": 99895.28049090593}, {\"date\": 272, \"variable\": \"infected\", \"value\": 99894.823477722}, {\"date\": 273, \"variable\": \"infected\", \"value\": 99894.36646618127}, {\"date\": 274, \"variable\": \"infected\", \"value\": 99893.90945655582}, {\"date\": 275, \"variable\": \"infected\", \"value\": 99893.45244932624}, {\"date\": 276, \"variable\": \"infected\", \"value\": 99892.99544512955}, {\"date\": 277, \"variable\": \"infected\", \"value\": 99892.5384437165}, {\"date\": 278, \"variable\": \"infected\", \"value\": 99892.08144425557}, {\"date\": 279, \"variable\": \"infected\", \"value\": 99891.62444624845}, {\"date\": 280, \"variable\": \"infected\", \"value\": 99891.16744953}, {\"date\": 281, \"variable\": \"infected\", \"value\": 99890.71045426828}, {\"date\": 282, \"variable\": \"infected\", \"value\": 99890.25346096458}, {\"date\": 283, \"variable\": \"infected\", \"value\": 99889.79647045338}, {\"date\": 284, \"variable\": \"infected\", \"value\": 99889.33948346696}, {\"date\": 285, \"variable\": \"infected\", \"value\": 99888.8824988921}, {\"date\": 286, \"variable\": \"infected\", \"value\": 99888.42551595443}, {\"date\": 287, \"variable\": \"infected\", \"value\": 99887.96853432358}, {\"date\": 288, \"variable\": \"infected\", \"value\": 99887.51155405094}, {\"date\": 289, \"variable\": \"infected\", \"value\": 99887.05457556977}, {\"date\": 290, \"variable\": \"infected\", \"value\": 99886.59759969507}, {\"date\": 291, \"variable\": \"infected\", \"value\": 99886.1406271273}, {\"date\": 292, \"variable\": \"infected\", \"value\": 99885.68365679852}, {\"date\": 293, \"variable\": \"infected\", \"value\": 99885.22668820707}, {\"date\": 294, \"variable\": \"infected\", \"value\": 99884.76972118716}, {\"date\": 295, \"variable\": \"infected\", \"value\": 99884.31275583421}, {\"date\": 296, \"variable\": \"infected\", \"value\": 99883.85579250497}, {\"date\": 297, \"variable\": \"infected\", \"value\": 99883.39883181082}, {\"date\": 298, \"variable\": \"infected\", \"value\": 99882.94187373534}, {\"date\": 299, \"variable\": \"infected\", \"value\": 99882.48491769304}, {\"date\": 300, \"variable\": \"infected\", \"value\": 99882.02796345206}, {\"date\": 301, \"variable\": \"infected\", \"value\": 99881.57101094934}, {\"date\": 302, \"variable\": \"infected\", \"value\": 99881.1140602907}, {\"date\": 303, \"variable\": \"infected\", \"value\": 99880.65711175078}, {\"date\": 304, \"variable\": \"infected\", \"value\": 99880.200165763}, {\"date\": 305, \"variable\": \"infected\", \"value\": 99879.74322232696}, {\"date\": 306, \"variable\": \"infected\", \"value\": 99879.28628097152}, {\"date\": 307, \"variable\": \"infected\", \"value\": 99878.82934141422}, {\"date\": 308, \"variable\": \"infected\", \"value\": 99878.3724035428}, {\"date\": 309, \"variable\": \"infected\", \"value\": 99877.91546741506}, {\"date\": 310, \"variable\": \"infected\", \"value\": 99877.45853325899}, {\"date\": 311, \"variable\": \"infected\", \"value\": 99877.00160147274}, {\"date\": 312, \"variable\": \"infected\", \"value\": 99876.54467255755}, {\"date\": 313, \"variable\": \"infected\", \"value\": 99876.08774624974}, {\"date\": 314, \"variable\": \"infected\", \"value\": 99875.63082188045}, {\"date\": 315, \"variable\": \"infected\", \"value\": 99875.17389904555}, {\"date\": 316, \"variable\": \"infected\", \"value\": 99874.71697761337}, {\"date\": 317, \"variable\": \"infected\", \"value\": 99874.26005772474}, {\"date\": 318, \"variable\": \"infected\", \"value\": 99873.80313979294}, {\"date\": 319, \"variable\": \"infected\", \"value\": 99873.34622450374}, {\"date\": 320, \"variable\": \"infected\", \"value\": 99872.88931255063}, {\"date\": 321, \"variable\": \"infected\", \"value\": 99872.43240299587}, {\"date\": 322, \"variable\": \"infected\", \"value\": 99871.97549517854}, {\"date\": 323, \"variable\": \"infected\", \"value\": 99871.5185888573}, {\"date\": 324, \"variable\": \"infected\", \"value\": 99871.06168409313}, {\"date\": 325, \"variable\": \"infected\", \"value\": 99870.60478124936}, {\"date\": 326, \"variable\": \"infected\", \"value\": 99870.14788099166}, {\"date\": 327, \"variable\": \"infected\", \"value\": 99869.69098356042}, {\"date\": 328, \"variable\": \"infected\", \"value\": 99869.23408819032}, {\"date\": 329, \"variable\": \"infected\", \"value\": 99868.77719462682}, {\"date\": 330, \"variable\": \"infected\", \"value\": 99868.32030279643}, {\"date\": 331, \"variable\": \"infected\", \"value\": 99867.86341280371}, {\"date\": 332, \"variable\": \"infected\", \"value\": 99867.4065249312}, {\"date\": 333, \"variable\": \"infected\", \"value\": 99866.94963961098}, {\"date\": 334, \"variable\": \"infected\", \"value\": 99866.49275673073}, {\"date\": 335, \"variable\": \"infected\", \"value\": 99866.0358758843}, {\"date\": 336, \"variable\": \"infected\", \"value\": 99865.57899685911}, {\"date\": 337, \"variable\": \"infected\", \"value\": 99865.12211958831}, {\"date\": 338, \"variable\": \"infected\", \"value\": 99864.66524415083}, {\"date\": 339, \"variable\": \"infected\", \"value\": 99864.20837077136}, {\"date\": 340, \"variable\": \"infected\", \"value\": 99863.75149982036}, {\"date\": 341, \"variable\": \"infected\", \"value\": 99863.29463164347}, {\"date\": 342, \"variable\": \"infected\", \"value\": 99862.83776582258}, {\"date\": 343, \"variable\": \"infected\", \"value\": 99862.3809018516}, {\"date\": 344, \"variable\": \"infected\", \"value\": 99861.9240394493}, {\"date\": 345, \"variable\": \"infected\", \"value\": 99861.46717855881}, {\"date\": 346, \"variable\": \"infected\", \"value\": 99861.01031934777}, {\"date\": 347, \"variable\": \"infected\", \"value\": 99860.55346220819}, {\"date\": 348, \"variable\": \"infected\", \"value\": 99860.09660775652}, {\"date\": 349, \"variable\": \"infected\", \"value\": 99859.63975647138}, {\"date\": 350, \"variable\": \"infected\", \"value\": 99859.18290744185}, {\"date\": 351, \"variable\": \"infected\", \"value\": 99858.72606013785}, {\"date\": 352, \"variable\": \"infected\", \"value\": 99858.26921435918}, {\"date\": 353, \"variable\": \"infected\", \"value\": 99857.81237018597}, {\"date\": 354, \"variable\": \"infected\", \"value\": 99857.35552797854}, {\"date\": 355, \"variable\": \"infected\", \"value\": 99856.89868837754}, {\"date\": 356, \"variable\": \"infected\", \"value\": 99856.4418515643}, {\"date\": 357, \"variable\": \"infected\", \"value\": 99855.985016811}, {\"date\": 358, \"variable\": \"infected\", \"value\": 99855.52818385883}, {\"date\": 359, \"variable\": \"infected\", \"value\": 99855.07135262994}, {\"date\": 360, \"variable\": \"infected\", \"value\": 99854.61452322666}, {\"date\": 361, \"variable\": \"infected\", \"value\": 99854.15769593141}, {\"date\": 362, \"variable\": \"infected\", \"value\": 99853.70087119003}, {\"date\": 363, \"variable\": \"infected\", \"value\": 99853.244048946}, {\"date\": 364, \"variable\": \"infected\", \"value\": 99852.78722875539}, {\"date\": 365, \"variable\": \"infected\", \"value\": 99852.33041037813}, {\"date\": 366, \"variable\": \"infected\", \"value\": 99851.87359373001}, {\"date\": 367, \"variable\": \"infected\", \"value\": 99851.41677888273}, {\"date\": 368, \"variable\": \"infected\", \"value\": 99850.9599660638}, {\"date\": 369, \"variable\": \"infected\", \"value\": 99850.50315565664}, {\"date\": 370, \"variable\": \"infected\", \"value\": 99850.04634805777}, {\"date\": 371, \"variable\": \"infected\", \"value\": 99849.58954287184}, {\"date\": 372, \"variable\": \"infected\", \"value\": 99849.13273955637}, {\"date\": 373, \"variable\": \"infected\", \"value\": 99848.67593780522}, {\"date\": 374, \"variable\": \"infected\", \"value\": 99848.21913754719}, {\"date\": 375, \"variable\": \"infected\", \"value\": 99847.76233894599}, {\"date\": 376, \"variable\": \"infected\", \"value\": 99847.30554240033}, {\"date\": 377, \"variable\": \"infected\", \"value\": 99846.84874854387}, {\"date\": 378, \"variable\": \"infected\", \"value\": 99846.39195787009}, {\"date\": 379, \"variable\": \"infected\", \"value\": 99845.93516945388}, {\"date\": 380, \"variable\": \"infected\", \"value\": 99845.47838276067}, {\"date\": 381, \"variable\": \"infected\", \"value\": 99845.02159758787}, {\"date\": 382, \"variable\": \"infected\", \"value\": 99844.56481401493}, {\"date\": 383, \"variable\": \"infected\", \"value\": 99844.10803240344}, {\"date\": 384, \"variable\": \"infected\", \"value\": 99843.6512533971}, {\"date\": 385, \"variable\": \"infected\", \"value\": 99843.19447719645}, {\"date\": 386, \"variable\": \"infected\", \"value\": 99842.73770306124}, {\"date\": 387, \"variable\": \"infected\", \"value\": 99842.28093072398}, {\"date\": 388, \"variable\": \"infected\", \"value\": 99841.824160102}, {\"date\": 389, \"variable\": \"infected\", \"value\": 99841.36739129605}, {\"date\": 390, \"variable\": \"infected\", \"value\": 99840.91062459037}, {\"date\": 391, \"variable\": \"infected\", \"value\": 99840.45386043903}, {\"date\": 392, \"variable\": \"infected\", \"value\": 99839.99709880355}, {\"date\": 393, \"variable\": \"infected\", \"value\": 99839.54033922701}, {\"date\": 394, \"variable\": \"infected\", \"value\": 99839.08358146288}, {\"date\": 395, \"variable\": \"infected\", \"value\": 99838.6268254231}, {\"date\": 396, \"variable\": \"infected\", \"value\": 99838.17007117806}, {\"date\": 397, \"variable\": \"infected\", \"value\": 99837.71331895664}, {\"date\": 398, \"variable\": \"infected\", \"value\": 99837.25656914614}, {\"date\": 399, \"variable\": \"infected\", \"value\": 99836.79982214511}, {\"date\": 400, \"variable\": \"infected\", \"value\": 99836.34307755197}, {\"date\": 401, \"variable\": \"infected\", \"value\": 99835.88633482928}, {\"date\": 402, \"variable\": \"infected\", \"value\": 99835.42959367539}, {\"date\": 403, \"variable\": \"infected\", \"value\": 99834.97285402226}, {\"date\": 404, \"variable\": \"infected\", \"value\": 99834.51611603539}, {\"date\": 405, \"variable\": \"infected\", \"value\": 99834.0593801139}, {\"date\": 406, \"variable\": \"infected\", \"value\": 99833.60264689047}, {\"date\": 407, \"variable\": \"infected\", \"value\": 99833.14591665324}, {\"date\": 408, \"variable\": \"infected\", \"value\": 99832.68918835453}, {\"date\": 0, \"variable\": \"recovered\", \"value\": 0.0}, {\"date\": 1, \"variable\": \"recovered\", \"value\": 5.801024361570844e-05}, {\"date\": 2, \"variable\": \"recovered\", \"value\": 0.0001497014813223632}, {\"date\": 3, \"variable\": \"recovered\", \"value\": 0.00029437128916532724}, {\"date\": 4, \"variable\": \"recovered\", \"value\": 0.0005232711661903587}, {\"date\": 5, \"variable\": \"recovered\", \"value\": 0.0008848427584254181}, {\"date\": 6, \"variable\": \"recovered\", \"value\": 0.001454204461963348}, {\"date\": 7, \"variable\": \"recovered\", \"value\": 0.002356064592680736}, {\"date\": 8, \"variable\": \"recovered\", \"value\": 0.0037799142727565427}, {\"date\": 9, \"variable\": \"recovered\", \"value\": 0.00601735575183678}, {\"date\": 10, \"variable\": \"recovered\", \"value\": 0.00954969026544813}, {\"date\": 11, \"variable\": \"recovered\", \"value\": 0.01511541244365695}, {\"date\": 12, \"variable\": \"recovered\", \"value\": 0.02382506325240953}, {\"date\": 13, \"variable\": \"recovered\", \"value\": 0.03743185290200058}, {\"date\": 14, \"variable\": \"recovered\", \"value\": 0.05861639561214806}, {\"date\": 15, \"variable\": \"recovered\", \"value\": 0.09110685587398862}, {\"date\": 16, \"variable\": \"recovered\", \"value\": 0.14045619591023412}, {\"date\": 17, \"variable\": \"recovered\", \"value\": 0.21387856653960463}, {\"date\": 18, \"variable\": \"recovered\", \"value\": 0.31979876227804865}, {\"date\": 19, \"variable\": \"recovered\", \"value\": 0.46700200068059183}, {\"date\": 20, \"variable\": \"recovered\", \"value\": 0.6634320116982515}, {\"date\": 21, \"variable\": \"recovered\", \"value\": 0.9120812362011745}, {\"date\": 22, \"variable\": \"recovered\", \"value\": 1.2105299046990363}, {\"date\": 23, \"variable\": \"recovered\", \"value\": 1.5521247330839054}, {\"date\": 24, \"variable\": \"recovered\", \"value\": 1.9288835212075734}, {\"date\": 25, \"variable\": \"recovered\", \"value\": 2.3323536885876788}, {\"date\": 26, \"variable\": \"recovered\", \"value\": 2.753894002125458}, {\"date\": 27, \"variable\": \"recovered\", \"value\": 3.187823494027515}, {\"date\": 28, \"variable\": \"recovered\", \"value\": 3.6301456257553135}, {\"date\": 29, \"variable\": \"recovered\", \"value\": 4.0779057386674635}, {\"date\": 30, \"variable\": \"recovered\", \"value\": 4.529217623398434}, {\"date\": 31, \"variable\": \"recovered\", \"value\": 4.982767985594936}, {\"date\": 32, \"variable\": \"recovered\", \"value\": 5.437781523635281}, {\"date\": 33, \"variable\": \"recovered\", \"value\": 5.893695218882}, {\"date\": 34, \"variable\": \"recovered\", \"value\": 6.35019911639076}, {\"date\": 35, \"variable\": \"recovered\", \"value\": 6.807065650694257}, {\"date\": 36, \"variable\": \"recovered\", \"value\": 7.26416773679073}, {\"date\": 37, \"variable\": \"recovered\", \"value\": 7.721414876363849}, {\"date\": 38, \"variable\": \"recovered\", \"value\": 8.178754887610612}, {\"date\": 39, \"variable\": \"recovered\", \"value\": 8.63615215394704}, {\"date\": 40, \"variable\": \"recovered\", \"value\": 9.093585213185484}, {\"date\": 41, \"variable\": \"recovered\", \"value\": 9.551040111097251}, {\"date\": 42, \"variable\": \"recovered\", \"value\": 10.008508023913873}, {\"date\": 43, \"variable\": \"recovered\", \"value\": 10.465983489413203}, {\"date\": 44, \"variable\": \"recovered\", \"value\": 10.9234628888793}, {\"date\": 45, \"variable\": \"recovered\", \"value\": 11.38094407971539}, {\"date\": 46, \"variable\": \"recovered\", \"value\": 11.838425584290869}, {\"date\": 47, \"variable\": \"recovered\", \"value\": 12.295906558210426}, {\"date\": 48, \"variable\": \"recovered\", \"value\": 12.75338640164212}, {\"date\": 49, \"variable\": \"recovered\", \"value\": 13.210864779494317}, {\"date\": 50, \"variable\": \"recovered\", \"value\": 13.668341450053134}, {\"date\": 51, \"variable\": \"recovered\", \"value\": 14.125816279078295}, {\"date\": 52, \"variable\": \"recovered\", \"value\": 14.583289170131492}, {\"date\": 53, \"variable\": \"recovered\", \"value\": 15.04076006876198}, {\"date\": 54, \"variable\": \"recovered\", \"value\": 15.498228936875883}, {\"date\": 55, \"variable\": \"recovered\", \"value\": 15.955695752198398}, {\"date\": 56, \"variable\": \"recovered\", \"value\": 16.41316049978829}, {\"date\": 57, \"variable\": \"recovered\", \"value\": 16.870623170494746}, {\"date\": 58, \"variable\": \"recovered\", \"value\": 17.328083758486486}, {\"date\": 59, \"variable\": \"recovered\", \"value\": 17.785542259998547}, {\"date\": 60, \"variable\": \"recovered\", \"value\": 18.242998672767378}, {\"date\": 61, \"variable\": \"recovered\", \"value\": 18.70045299524275}, {\"date\": 62, \"variable\": \"recovered\", \"value\": 19.157905226555293}, {\"date\": 63, \"variable\": \"recovered\", \"value\": 19.615355366066765}, {\"date\": 64, \"variable\": \"recovered\", \"value\": 20.072803413447645}, {\"date\": 65, \"variable\": \"recovered\", \"value\": 20.530249368444778}, {\"date\": 66, \"variable\": \"recovered\", \"value\": 20.98769323092541}, {\"date\": 67, \"variable\": \"recovered\", \"value\": 21.445135000807767}, {\"date\": 68, \"variable\": \"recovered\", \"value\": 21.902574678027403}, {\"date\": 69, \"variable\": \"recovered\", \"value\": 22.360012262567196}, {\"date\": 70, \"variable\": \"recovered\", \"value\": 22.817447754411347}, {\"date\": 71, \"variable\": \"recovered\", \"value\": 23.274881153545675}, {\"date\": 72, \"variable\": \"recovered\", \"value\": 23.73231245997648}, {\"date\": 73, \"variable\": \"recovered\", \"value\": 24.189741673709506}, {\"date\": 74, \"variable\": \"recovered\", \"value\": 24.647168794746438}, {\"date\": 75, \"variable\": \"recovered\", \"value\": 25.104593823091644}, {\"date\": 76, \"variable\": \"recovered\", \"value\": 25.562016758757128}, {\"date\": 77, \"variable\": \"recovered\", \"value\": 26.019437601752823}, {\"date\": 78, \"variable\": \"recovered\", \"value\": 26.476856352086894}, {\"date\": 79, \"variable\": \"recovered\", \"value\": 26.93427300976577}, {\"date\": 80, \"variable\": \"recovered\", \"value\": 27.391687574798222}, {\"date\": 81, \"variable\": \"recovered\", \"value\": 27.849100047195915}, {\"date\": 82, \"variable\": \"recovered\", \"value\": 28.30651042696932}, {\"date\": 83, \"variable\": \"recovered\", \"value\": 28.763918714128152}, {\"date\": 84, \"variable\": \"recovered\", \"value\": 29.221324908681353}, {\"date\": 85, \"variable\": \"recovered\", \"value\": 29.678729010637117}, {\"date\": 86, \"variable\": \"recovered\", \"value\": 30.13613102000294}, {\"date\": 87, \"variable\": \"recovered\", \"value\": 30.593530936788532}, {\"date\": 88, \"variable\": \"recovered\", \"value\": 31.050928761006123}, {\"date\": 89, \"variable\": \"recovered\", \"value\": 31.50832449266712}, {\"date\": 90, \"variable\": \"recovered\", \"value\": 31.965718131781955}, {\"date\": 91, \"variable\": \"recovered\", \"value\": 32.42310967836006}, {\"date\": 92, \"variable\": \"recovered\", \"value\": 32.88049913240989}, {\"date\": 93, \"variable\": \"recovered\", \"value\": 33.337886493938896}, {\"date\": 94, \"variable\": \"recovered\", \"value\": 33.79527176295355}, {\"date\": 95, \"variable\": \"recovered\", \"value\": 34.252654939460776}, {\"date\": 96, \"variable\": \"recovered\", \"value\": 34.71003602347463}, {\"date\": 97, \"variable\": \"recovered\", \"value\": 35.16741501500874}, {\"date\": 98, \"variable\": \"recovered\", \"value\": 35.62479191407459}, {\"date\": 99, \"variable\": \"recovered\", \"value\": 36.082166720681634}, {\"date\": 100, \"variable\": \"recovered\", \"value\": 36.53953943483731}, {\"date\": 101, \"variable\": \"recovered\", \"value\": 36.99691005654704}, {\"date\": 102, \"variable\": \"recovered\", \"value\": 37.45427858581542}, {\"date\": 103, \"variable\": \"recovered\", \"value\": 37.91164502265628}, {\"date\": 104, \"variable\": \"recovered\", \"value\": 38.36900936708379}, {\"date\": 105, \"variable\": \"recovered\", \"value\": 38.82637161910967}, {\"date\": 106, \"variable\": \"recovered\", \"value\": 39.28373177874369}, {\"date\": 107, \"variable\": \"recovered\", \"value\": 39.74108984599374}, {\"date\": 108, \"variable\": \"recovered\", \"value\": 40.19844582086575}, {\"date\": 109, \"variable\": \"recovered\", \"value\": 40.65579970336414}, {\"date\": 110, \"variable\": \"recovered\", \"value\": 41.11315149350011}, {\"date\": 111, \"variable\": \"recovered\", \"value\": 41.57050119128886}, {\"date\": 112, \"variable\": \"recovered\", \"value\": 42.02784879674313}, {\"date\": 113, \"variable\": \"recovered\", \"value\": 42.485194309873506}, {\"date\": 114, \"variable\": \"recovered\", \"value\": 42.94253773068848}, {\"date\": 115, \"variable\": \"recovered\", \"value\": 43.399879059194404}, {\"date\": 116, \"variable\": \"recovered\", \"value\": 43.857218295395505}, {\"date\": 117, \"variable\": \"recovered\", \"value\": 44.3145554392966}, {\"date\": 118, \"variable\": \"recovered\", \"value\": 44.77189049091369}, {\"date\": 119, \"variable\": \"recovered\", \"value\": 45.2292234502625}, {\"date\": 120, \"variable\": \"recovered\", \"value\": 45.68655431735573}, {\"date\": 121, \"variable\": \"recovered\", \"value\": 46.14388309220319}, {\"date\": 122, \"variable\": \"recovered\", \"value\": 46.60120977481182}, {\"date\": 123, \"variable\": \"recovered\", \"value\": 47.05853436518566}, {\"date\": 124, \"variable\": \"recovered\", \"value\": 47.515856863325986}, {\"date\": 125, \"variable\": \"recovered\", \"value\": 47.973177269243294}, {\"date\": 126, \"variable\": \"recovered\", \"value\": 48.430495582956944}, {\"date\": 127, \"variable\": \"recovered\", \"value\": 48.8878118044814}, {\"date\": 128, \"variable\": \"recovered\", \"value\": 49.3451259338278}, {\"date\": 129, \"variable\": \"recovered\", \"value\": 49.80243797100397}, {\"date\": 130, \"variable\": \"recovered\", \"value\": 50.25974791601435}, {\"date\": 131, \"variable\": \"recovered\", \"value\": 50.717055768860085}, {\"date\": 132, \"variable\": \"recovered\", \"value\": 51.174361529549216}, {\"date\": 133, \"variable\": \"recovered\", \"value\": 51.63166519810136}, {\"date\": 134, \"variable\": \"recovered\", \"value\": 52.088966774530014}, {\"date\": 135, \"variable\": \"recovered\", \"value\": 52.546266258845975}, {\"date\": 136, \"variable\": \"recovered\", \"value\": 53.00356365105729}, {\"date\": 137, \"variable\": \"recovered\", \"value\": 53.4608589511693}, {\"date\": 138, \"variable\": \"recovered\", \"value\": 53.91815215918482}, {\"date\": 139, \"variable\": \"recovered\", \"value\": 54.37544327511484}, {\"date\": 140, \"variable\": \"recovered\", \"value\": 54.832732298975316}, {\"date\": 141, \"variable\": \"recovered\", \"value\": 55.290019230778455}, {\"date\": 142, \"variable\": \"recovered\", \"value\": 55.74730407053446}, {\"date\": 143, \"variable\": \"recovered\", \"value\": 56.204586818251535}, {\"date\": 144, \"variable\": \"recovered\", \"value\": 56.66186747393589}, {\"date\": 145, \"variable\": \"recovered\", \"value\": 57.11914603759194}, {\"date\": 146, \"variable\": \"recovered\", \"value\": 57.576422509230156}, {\"date\": 147, \"variable\": \"recovered\", \"value\": 58.03369688886544}, {\"date\": 148, \"variable\": \"recovered\", \"value\": 58.49096917651021}, {\"date\": 149, \"variable\": \"recovered\", \"value\": 58.948239372175}, {\"date\": 150, \"variable\": \"recovered\", \"value\": 59.405507475868454}, {\"date\": 151, \"variable\": \"recovered\", \"value\": 59.86277348759732}, {\"date\": 152, \"variable\": \"recovered\", \"value\": 60.32003740736646}, {\"date\": 153, \"variable\": \"recovered\", \"value\": 60.7772992351815}, {\"date\": 154, \"variable\": \"recovered\", \"value\": 61.23455897105766}, {\"date\": 155, \"variable\": \"recovered\", \"value\": 61.691816615009785}, {\"date\": 156, \"variable\": \"recovered\", \"value\": 62.14907216705018}, {\"date\": 157, \"variable\": \"recovered\", \"value\": 62.60632562718864}, {\"date\": 158, \"variable\": \"recovered\", \"value\": 63.063576995432456}, {\"date\": 159, \"variable\": \"recovered\", \"value\": 63.520826271786426}, {\"date\": 160, \"variable\": \"recovered\", \"value\": 63.978073456252865}, {\"date\": 161, \"variable\": \"recovered\", \"value\": 64.43531854884029}, {\"date\": 162, \"variable\": \"recovered\", \"value\": 64.89256154956757}, {\"date\": 163, \"variable\": \"recovered\", \"value\": 65.3498024584499}, {\"date\": 164, \"variable\": \"recovered\", \"value\": 65.80704127549905}, {\"date\": 165, \"variable\": \"recovered\", \"value\": 66.26427800072345}, {\"date\": 166, \"variable\": \"recovered\", \"value\": 66.7215126341282}, {\"date\": 167, \"variable\": \"recovered\", \"value\": 67.17874517571502}, {\"date\": 168, \"variable\": \"recovered\", \"value\": 67.63597562548658}, {\"date\": 169, \"variable\": \"recovered\", \"value\": 68.09320398346276}, {\"date\": 170, \"variable\": \"recovered\", \"value\": 68.55043024965951}, {\"date\": 171, \"variable\": \"recovered\", \"value\": 69.00765442408897}, {\"date\": 172, \"variable\": \"recovered\", \"value\": 69.46487650676008}, {\"date\": 173, \"variable\": \"recovered\", \"value\": 69.92209649767861}, {\"date\": 174, \"variable\": \"recovered\", \"value\": 70.37931439684719}, {\"date\": 175, \"variable\": \"recovered\", \"value\": 70.83653020427076}, {\"date\": 176, \"variable\": \"recovered\", \"value\": 71.29374391996768}, {\"date\": 177, \"variable\": \"recovered\", \"value\": 71.75095554395143}, {\"date\": 178, \"variable\": \"recovered\", \"value\": 72.20816507623302}, {\"date\": 179, \"variable\": \"recovered\", \"value\": 72.66537251682112}, {\"date\": 180, \"variable\": \"recovered\", \"value\": 73.12257786572225}, {\"date\": 181, \"variable\": \"recovered\", \"value\": 73.57978112294062}, {\"date\": 182, \"variable\": \"recovered\", \"value\": 74.03698228848458}, {\"date\": 183, \"variable\": \"recovered\", \"value\": 74.49418136236956}, {\"date\": 184, \"variable\": \"recovered\", \"value\": 74.95137834460802}, {\"date\": 185, \"variable\": \"recovered\", \"value\": 75.40857323521057}, {\"date\": 186, \"variable\": \"recovered\", \"value\": 75.86576603418614}, {\"date\": 187, \"variable\": \"recovered\", \"value\": 76.32295674154176}, {\"date\": 188, \"variable\": \"recovered\", \"value\": 76.78014535728278}, {\"date\": 189, \"variable\": \"recovered\", \"value\": 77.23733188141532}, {\"date\": 190, \"variable\": \"recovered\", \"value\": 77.69451631395401}, {\"date\": 191, \"variable\": \"recovered\", \"value\": 78.15169865491282}, {\"date\": 192, \"variable\": \"recovered\", \"value\": 78.60887890430355}, {\"date\": 193, \"variable\": \"recovered\", \"value\": 79.06605706213588}, {\"date\": 194, \"variable\": \"recovered\", \"value\": 79.52323312841742}, {\"date\": 195, \"variable\": \"recovered\", \"value\": 79.98040710315365}, {\"date\": 196, \"variable\": \"recovered\", \"value\": 80.43757898634802}, {\"date\": 197, \"variable\": \"recovered\", \"value\": 80.89474877800889}, {\"date\": 198, \"variable\": \"recovered\", \"value\": 81.35191647815385}, {\"date\": 199, \"variable\": \"recovered\", \"value\": 81.8090820867979}, {\"date\": 200, \"variable\": \"recovered\", \"value\": 82.26624560395291}, {\"date\": 201, \"variable\": \"recovered\", \"value\": 82.7234070296277}, {\"date\": 202, \"variable\": \"recovered\", \"value\": 83.18056636382799}, {\"date\": 203, \"variable\": \"recovered\", \"value\": 83.63772360655646}, {\"date\": 204, \"variable\": \"recovered\", \"value\": 84.09487875781419}, {\"date\": 205, \"variable\": \"recovered\", \"value\": 84.55203181761756}, {\"date\": 206, \"variable\": \"recovered\", \"value\": 85.00918278598498}, {\"date\": 207, \"variable\": \"recovered\", \"value\": 85.46633166293003}, {\"date\": 208, \"variable\": \"recovered\", \"value\": 85.9234784484628}, {\"date\": 209, \"variable\": \"recovered\", \"value\": 86.38062314258977}, {\"date\": 210, \"variable\": \"recovered\", \"value\": 86.83776574531389}, {\"date\": 211, \"variable\": \"recovered\", \"value\": 87.29490625663567}, {\"date\": 212, \"variable\": \"recovered\", \"value\": 87.75204467657076}, {\"date\": 213, \"variable\": \"recovered\", \"value\": 88.20918100513632}, {\"date\": 214, \"variable\": \"recovered\", \"value\": 88.66631524234465}, {\"date\": 215, \"variable\": \"recovered\", \"value\": 89.12344738820538}, {\"date\": 216, \"variable\": \"recovered\", \"value\": 89.58057744272543}, {\"date\": 217, \"variable\": \"recovered\", \"value\": 90.03770540590908}, {\"date\": 218, \"variable\": \"recovered\", \"value\": 90.49483127776081}, {\"date\": 219, \"variable\": \"recovered\", \"value\": 90.95195505829655}, {\"date\": 220, \"variable\": \"recovered\", \"value\": 91.40907674752962}, {\"date\": 221, \"variable\": \"recovered\", \"value\": 91.86619634547115}, {\"date\": 222, \"variable\": \"recovered\", \"value\": 92.32331385213038}, {\"date\": 223, \"variable\": \"recovered\", \"value\": 92.7804292675147}, {\"date\": 224, \"variable\": \"recovered\", \"value\": 93.23754259162968}, {\"date\": 225, \"variable\": \"recovered\", \"value\": 93.69465382448122}, {\"date\": 226, \"variable\": \"recovered\", \"value\": 94.15176296608347}, {\"date\": 227, \"variable\": \"recovered\", \"value\": 94.6088700164498}, {\"date\": 228, \"variable\": \"recovered\", \"value\": 95.06597497559169}, {\"date\": 229, \"variable\": \"recovered\", \"value\": 95.52307784351879}, {\"date\": 230, \"variable\": \"recovered\", \"value\": 95.980178620239}, {\"date\": 231, \"variable\": \"recovered\", \"value\": 96.43727730575839}, {\"date\": 232, \"variable\": \"recovered\", \"value\": 96.8943739000813}, {\"date\": 233, \"variable\": \"recovered\", \"value\": 97.35146840321684}, {\"date\": 234, \"variable\": \"recovered\", \"value\": 97.80856081518122}, {\"date\": 235, \"variable\": \"recovered\", \"value\": 98.26565113598858}, {\"date\": 236, \"variable\": \"recovered\", \"value\": 98.72273936565041}, {\"date\": 237, \"variable\": \"recovered\", \"value\": 99.17982550417565}, {\"date\": 238, \"variable\": \"recovered\", \"value\": 99.63690955157061}, {\"date\": 239, \"variable\": \"recovered\", \"value\": 100.09399150783902}, {\"date\": 240, \"variable\": \"recovered\", \"value\": 100.55107137298268}, {\"date\": 241, \"variable\": \"recovered\", \"value\": 101.00814914701482}, {\"date\": 242, \"variable\": \"recovered\", \"value\": 101.46522482995434}, {\"date\": 243, \"variable\": \"recovered\", \"value\": 101.92229842181587}, {\"date\": 244, \"variable\": \"recovered\", \"value\": 102.37936992261035}, {\"date\": 245, \"variable\": \"recovered\", \"value\": 102.8364393323451}, {\"date\": 246, \"variable\": \"recovered\", \"value\": 103.29350665102376}, {\"date\": 247, \"variable\": \"recovered\", \"value\": 103.75057187864634}, {\"date\": 248, \"variable\": \"recovered\", \"value\": 104.20763501522018}, {\"date\": 249, \"variable\": \"recovered\", \"value\": 104.66469606076699}, {\"date\": 250, \"variable\": \"recovered\", \"value\": 105.1217550153011}, {\"date\": 251, \"variable\": \"recovered\", \"value\": 105.57881187883358}, {\"date\": 252, \"variable\": \"recovered\", \"value\": 106.03586665137222}, {\"date\": 253, \"variable\": \"recovered\", \"value\": 106.49291933292152}, {\"date\": 254, \"variable\": \"recovered\", \"value\": 106.94996992348302}, {\"date\": 255, \"variable\": \"recovered\", \"value\": 107.40701842306865}, {\"date\": 256, \"variable\": \"recovered\", \"value\": 107.8640648316951}, {\"date\": 257, \"variable\": \"recovered\", \"value\": 108.32110914937442}, {\"date\": 258, \"variable\": \"recovered\", \"value\": 108.77815137611655}, {\"date\": 259, \"variable\": \"recovered\", \"value\": 109.23519151192932}, {\"date\": 260, \"variable\": \"recovered\", \"value\": 109.6922295568184}, {\"date\": 261, \"variable\": \"recovered\", \"value\": 110.1492655107886}, {\"date\": 262, \"variable\": \"recovered\", \"value\": 110.60629937385309}, {\"date\": 263, \"variable\": \"recovered\", \"value\": 111.06333114602546}, {\"date\": 264, \"variable\": \"recovered\", \"value\": 111.52036082731718}, {\"date\": 265, \"variable\": \"recovered\", \"value\": 111.97738841773804}, {\"date\": 266, \"variable\": \"recovered\", \"value\": 112.4344139172962}, {\"date\": 267, \"variable\": \"recovered\", \"value\": 112.89143732599818}, {\"date\": 268, \"variable\": \"recovered\", \"value\": 113.34845864384897}, {\"date\": 269, \"variable\": \"recovered\", \"value\": 113.80547787085827}, {\"date\": 270, \"variable\": \"recovered\", \"value\": 114.26249500704114}, {\"date\": 271, \"variable\": \"recovered\", \"value\": 114.71951005241066}, {\"date\": 272, \"variable\": \"recovered\", \"value\": 115.17652300697785}, {\"date\": 273, \"variable\": \"recovered\", \"value\": 115.63353387075163}, {\"date\": 274, \"variable\": \"recovered\", \"value\": 116.09054264373886}, {\"date\": 275, \"variable\": \"recovered\", \"value\": 116.54754932594429}, {\"date\": 276, \"variable\": \"recovered\", \"value\": 117.0045539173711}, {\"date\": 277, \"variable\": \"recovered\", \"value\": 117.46155641803136}, {\"date\": 278, \"variable\": \"recovered\", \"value\": 117.91855682794295}, {\"date\": 279, \"variable\": \"recovered\", \"value\": 118.37555514712044}, {\"date\": 280, \"variable\": \"recovered\", \"value\": 118.83255137557501}, {\"date\": 281, \"variable\": \"recovered\", \"value\": 119.2895455133146}, {\"date\": 282, \"variable\": \"recovered\", \"value\": 119.7465375603437}, {\"date\": 283, \"variable\": \"recovered\", \"value\": 120.20352751666354}, {\"date\": 284, \"variable\": \"recovered\", \"value\": 120.66051538227637}, {\"date\": 285, \"variable\": \"recovered\", \"value\": 121.1175011572029}, {\"date\": 286, \"variable\": \"recovered\", \"value\": 121.57448484146042}, {\"date\": 287, \"variable\": \"recovered\", \"value\": 122.03146643506182}, {\"date\": 288, \"variable\": \"recovered\", \"value\": 122.48844593801614}, {\"date\": 289, \"variable\": \"recovered\", \"value\": 122.94542335032862}, {\"date\": 290, \"variable\": \"recovered\", \"value\": 123.40239867200066}, {\"date\": 291, \"variable\": \"recovered\", \"value\": 123.85937190303481}, {\"date\": 292, \"variable\": \"recovered\", \"value\": 124.31634304345133}, {\"date\": 293, \"variable\": \"recovered\", \"value\": 124.7733120932648}, {\"date\": 294, \"variable\": \"recovered\", \"value\": 125.23027905248645}, {\"date\": 295, \"variable\": \"recovered\", \"value\": 125.68724392112489}, {\"date\": 296, \"variable\": \"recovered\", \"value\": 126.1442066991861}, {\"date\": 297, \"variable\": \"recovered\", \"value\": 126.60116738667354}, {\"date\": 298, \"variable\": \"recovered\", \"value\": 127.05812598359692}, {\"date\": 299, \"variable\": \"recovered\", \"value\": 127.51508248997169}, {\"date\": 300, \"variable\": \"recovered\", \"value\": 127.97203690580972}, {\"date\": 301, \"variable\": \"recovered\", \"value\": 128.4289892311212}, {\"date\": 302, \"variable\": \"recovered\", \"value\": 128.88593946591465}, {\"date\": 303, \"variable\": \"recovered\", \"value\": 129.34288761019687}, {\"date\": 304, \"variable\": \"recovered\", \"value\": 129.7998336639731}, {\"date\": 305, \"variable\": \"recovered\", \"value\": 130.25677762725286}, {\"date\": 306, \"variable\": \"recovered\", \"value\": 130.7137195000505}, {\"date\": 307, \"variable\": \"recovered\", \"value\": 131.17065928237838}, {\"date\": 308, \"variable\": \"recovered\", \"value\": 131.62759697424718}, {\"date\": 309, \"variable\": \"recovered\", \"value\": 132.08453257566592}, {\"date\": 310, \"variable\": \"recovered\", \"value\": 132.54146608664183}, {\"date\": 311, \"variable\": \"recovered\", \"value\": 132.9983975071805}, {\"date\": 312, \"variable\": \"recovered\", \"value\": 133.4553268372865}, {\"date\": 313, \"variable\": \"recovered\", \"value\": 133.912254076972}, {\"date\": 314, \"variable\": \"recovered\", \"value\": 134.36917922625332}, {\"date\": 315, \"variable\": \"recovered\", \"value\": 134.826102285144}, {\"date\": 316, \"variable\": \"recovered\", \"value\": 135.28302325365496}, {\"date\": 317, \"variable\": \"recovered\", \"value\": 135.73994213179435}, {\"date\": 318, \"variable\": \"recovered\", \"value\": 136.19685891956757}, {\"date\": 319, \"variable\": \"recovered\", \"value\": 136.65377361697736}, {\"date\": 320, \"variable\": \"recovered\", \"value\": 137.1106862240263}, {\"date\": 321, \"variable\": \"recovered\", \"value\": 137.56759674073336}, {\"date\": 322, \"variable\": \"recovered\", \"value\": 138.02450516711474}, {\"date\": 323, \"variable\": \"recovered\", \"value\": 138.4814115031824}, {\"date\": 324, \"variable\": \"recovered\", \"value\": 138.93831574894526}, {\"date\": 325, \"variable\": \"recovered\", \"value\": 139.39521790440926}, {\"date\": 326, \"variable\": \"recovered\", \"value\": 139.85211796957736}, {\"date\": 327, \"variable\": \"recovered\", \"value\": 140.30901594445663}, {\"date\": 328, \"variable\": \"recovered\", \"value\": 140.76591182906438}, {\"date\": 329, \"variable\": \"recovered\", \"value\": 141.22280562341263}, {\"date\": 330, \"variable\": \"recovered\", \"value\": 141.67969732751175}, {\"date\": 331, \"variable\": \"recovered\", \"value\": 142.13658694137024}, {\"date\": 332, \"variable\": \"recovered\", \"value\": 142.5934744649948}, {\"date\": 333, \"variable\": \"recovered\", \"value\": 143.05035989839072}, {\"date\": 334, \"variable\": \"recovered\", \"value\": 143.50724324156863}, {\"date\": 335, \"variable\": \"recovered\", \"value\": 143.9641244945422}, {\"date\": 336, \"variable\": \"recovered\", \"value\": 144.4210036573231}, {\"date\": 337, \"variable\": \"recovered\", \"value\": 144.87788072992157}, {\"date\": 338, \"variable\": \"recovered\", \"value\": 145.33475571234638}, {\"date\": 339, \"variable\": \"recovered\", \"value\": 145.79162860460485}, {\"date\": 340, \"variable\": \"recovered\", \"value\": 146.24849940670282}, {\"date\": 341, \"variable\": \"recovered\", \"value\": 146.70536811864642}, {\"date\": 342, \"variable\": \"recovered\", \"value\": 147.16223474044935}, {\"date\": 343, \"variable\": \"recovered\", \"value\": 147.61909927212628}, {\"date\": 344, \"variable\": \"recovered\", \"value\": 148.07596171368957}, {\"date\": 345, \"variable\": \"recovered\", \"value\": 148.53282206514936}, {\"date\": 346, \"variable\": \"recovered\", \"value\": 148.98968032651354}, {\"date\": 347, \"variable\": \"recovered\", \"value\": 149.44653649778772}, {\"date\": 348, \"variable\": \"recovered\", \"value\": 149.9033905789753}, {\"date\": 349, \"variable\": \"recovered\", \"value\": 150.36024257008106}, {\"date\": 350, \"variable\": \"recovered\", \"value\": 150.81709247112366}, {\"date\": 351, \"variable\": \"recovered\", \"value\": 151.27394028211802}, {\"date\": 352, \"variable\": \"recovered\", \"value\": 151.73078600307565}, {\"date\": 353, \"variable\": \"recovered\", \"value\": 152.18762963400533}, {\"date\": 354, \"variable\": \"recovered\", \"value\": 152.64447117491304}, {\"date\": 355, \"variable\": \"recovered\", \"value\": 153.1013106258019}, {\"date\": 356, \"variable\": \"recovered\", \"value\": 153.55814798667964}, {\"date\": 357, \"variable\": \"recovered\", \"value\": 154.01498325756316}, {\"date\": 358, \"variable\": \"recovered\", \"value\": 154.47181643846454}, {\"date\": 359, \"variable\": \"recovered\", \"value\": 154.9286475293942}, {\"date\": 360, \"variable\": \"recovered\", \"value\": 155.38547653036062}, {\"date\": 361, \"variable\": \"recovered\", \"value\": 155.84230344137055}, {\"date\": 362, \"variable\": \"recovered\", \"value\": 156.2991282624291}, {\"date\": 363, \"variable\": \"recovered\", \"value\": 156.75595099354638}, {\"date\": 364, \"variable\": \"recovered\", \"value\": 157.21277163473638}, {\"date\": 365, \"variable\": \"recovered\", \"value\": 157.66959018601113}, {\"date\": 366, \"variable\": \"recovered\", \"value\": 158.12640664738097}, {\"date\": 367, \"variable\": \"recovered\", \"value\": 158.58322101885477}, {\"date\": 368, \"variable\": \"recovered\", \"value\": 159.0400333004398}, {\"date\": 369, \"variable\": \"recovered\", \"value\": 159.4968434921418}, {\"date\": 370, \"variable\": \"recovered\", \"value\": 159.95365159396636}, {\"date\": 371, \"variable\": \"recovered\", \"value\": 160.41045760592695}, {\"date\": 372, \"variable\": \"recovered\", \"value\": 160.86726152803865}, {\"date\": 373, \"variable\": \"recovered\", \"value\": 161.324063360314}, {\"date\": 374, \"variable\": \"recovered\", \"value\": 161.78086310276333}, {\"date\": 375, \"variable\": \"recovered\", \"value\": 162.23766075539456}, {\"date\": 376, \"variable\": \"recovered\", \"value\": 162.69445631821324}, {\"date\": 377, \"variable\": \"recovered\", \"value\": 163.15124979122257}, {\"date\": 378, \"variable\": \"recovered\", \"value\": 163.6080411744272}, {\"date\": 379, \"variable\": \"recovered\", \"value\": 164.06483046784595}, {\"date\": 380, \"variable\": \"recovered\", \"value\": 164.52161767149371}, {\"date\": 381, \"variable\": \"recovered\", \"value\": 164.9784027853821}, {\"date\": 382, \"variable\": \"recovered\", \"value\": 165.43518580951985}, {\"date\": 383, \"variable\": \"recovered\", \"value\": 165.89196674391292}, {\"date\": 384, \"variable\": \"recovered\", \"value\": 166.3487455885644}, {\"date\": 385, \"variable\": \"recovered\", \"value\": 166.80552234348193}, {\"date\": 386, \"variable\": \"recovered\", \"value\": 167.26229700868237}, {\"date\": 387, \"variable\": \"recovered\", \"value\": 167.71906958417802}, {\"date\": 388, \"variable\": \"recovered\", \"value\": 168.17584006997924}, {\"date\": 389, \"variable\": \"recovered\", \"value\": 168.6326084660946}, {\"date\": 390, \"variable\": \"recovered\", \"value\": 169.08937477253085}, {\"date\": 391, \"variable\": \"recovered\", \"value\": 169.54613898929293}, {\"date\": 392, \"variable\": \"recovered\", \"value\": 170.0029011163908}, {\"date\": 393, \"variable\": \"recovered\", \"value\": 170.45966115383862}, {\"date\": 394, \"variable\": \"recovered\", \"value\": 170.91641910164844}, {\"date\": 395, \"variable\": \"recovered\", \"value\": 171.37317495983066}, {\"date\": 396, \"variable\": \"recovered\", \"value\": 171.82992872839415}, {\"date\": 397, \"variable\": \"recovered\", \"value\": 172.28668040734615}, {\"date\": 398, \"variable\": \"recovered\", \"value\": 172.7434299966924}, {\"date\": 399, \"variable\": \"recovered\", \"value\": 173.2001774964384}, {\"date\": 400, \"variable\": \"recovered\", \"value\": 173.65692290659783}, {\"date\": 401, \"variable\": \"recovered\", \"value\": 174.11366622718552}, {\"date\": 402, \"variable\": \"recovered\", \"value\": 174.5704074582141}, {\"date\": 403, \"variable\": \"recovered\", \"value\": 175.02714659969382}, {\"date\": 404, \"variable\": \"recovered\", \"value\": 175.4838836516326}, {\"date\": 405, \"variable\": \"recovered\", \"value\": 175.94061861403594}, {\"date\": 406, \"variable\": \"recovered\", \"value\": 176.39735148690713}, {\"date\": 407, \"variable\": \"recovered\", \"value\": 176.85408227025275}, {\"date\": 408, \"variable\": \"recovered\", \"value\": 177.31081096409295}]}}, {\"mode\": \"vega-lite\"});\n",
       "</script>"
      ],
      "text/plain": [
       "alt.Chart(...)"
      ]
     },
     "execution_count": 22,
     "metadata": {},
     "output_type": "execute_result"
    }
   ],
   "source": [
    "alt.Chart(df_c.melt('date')).mark_line().encode(\n",
    "    x='date',\n",
    "    y=alt.Y('value'),\n",
    "    color='variable'\n",
    ").properties(\n",
    "    title='SIR model for Ecuador only confirmed cases'\n",
    ").interactive()"
   ]
  },
  {
   "cell_type": "markdown",
   "id": "7bed9add",
   "metadata": {
    "papermill": {
     "duration": 0.020418,
     "end_time": "2021-05-05T00:07:51.455449",
     "exception": false,
     "start_time": "2021-05-05T00:07:51.435031",
     "status": "completed"
    },
    "tags": []
   },
   "source": [
    "Como podemos apreciar, con el uso de la primera función existe una mejor visualización de las personas recuperadas, es decir, es muy importante tomar en cuenta dicho valor para que exista una curva correcta con respecto a los casos recuperados. Sin embargo, como podemos ver en la gráfica de la segunda función en donde solamente se tomo en cuenta el número de personas confrmadas, podemos notar claramente como no existe número de personas récuperadas y al no existir recuperadas por ende dichas personas van a seguir infectadas, por lo cual esto es erroneo ya que si existen personas recuperadas. Por lo tanto la mejor manera de simular el modelo SIR, es con la función de optimización **loss_confirmed_recovered** ya que toma en cuenta a las personas infectadas y recuperadas y de esa manera podemos ver que al existir recuperados, el número de infectados bajan lo cual tiene lógica."
   ]
  }
 ],
 "metadata": {
  "celltoolbar": "Tags",
  "kernelspec": {
   "display_name": "Python 3",
   "language": "python",
   "name": "python3"
  },
  "language_info": {
   "codemirror_mode": {
    "name": "ipython",
    "version": 3
   },
   "file_extension": ".py",
   "mimetype": "text/x-python",
   "name": "python",
   "nbconvert_exporter": "python",
   "pygments_lexer": "ipython3",
   "version": "3.8.3"
  },
  "papermill": {
   "default_parameters": {},
   "duration": 352.120766,
   "end_time": "2021-05-05T00:07:51.796104",
   "environment_variables": {},
   "exception": null,
   "input_path": "input.ipynb",
   "output_path": "output.ipynb",
   "parameters": {
    "country": "Ecuador",
    "date": "3/1/20",
    "path_confirmed": "./in/time_series_covid19_confirmed_global.csv",
    "path_recovered": "./in/time_series_covid19_recovered_global.csv"
   },
   "start_time": "2021-05-05T00:01:59.675338",
   "version": "2.3.3"
  }
 },
 "nbformat": 4,
 "nbformat_minor": 5
}