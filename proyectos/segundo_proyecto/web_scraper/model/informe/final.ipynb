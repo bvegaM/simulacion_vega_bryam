{
 "cells": [
  {
   "cell_type": "markdown",
   "id": "ddbb52b0",
   "metadata": {},
   "source": [
    "# Proceso para detección de Fake News\n",
    "\n",
    "![fake_news](http://www.oliviervangaalen.nl/images/tumblr_ore97dcihw1rby04wo1_1280.gif?crc=3810791427)\n",
    "\n",
    "> **autores:** Bryam Vega y David Morales <br>\n",
    "> **Universidad:** Universidad Politécnica Salesiana <br>\n",
    "> **Maestro:** Ing. Diego Quisi \n",
    "\n",
    "--------\n",
    "\n",
    "## Introducción\n",
    "<p style=\"text-align:justify\">\n",
    "Hoy en día el uso de redes sociales y sitios web para encontrar información haido creciendo exponencialmente a lo largo del tiempo. Sin embargo, existe una grancantidad  de  información  falsa  hacia  ciertos  temas  de  interés (Hlaing  and  Kham,2020). Son tal los casos de desinformación, que con la llegada del virus denominadoCOVID-19 se ha apreciado una gran cantidad de noticias erróneas o falsas que hancirculado en las redes sociales, sitios web, blogs, entre otros medios de comunicación.\n",
    "</p>\n",
    "\n",
    "<p style=\"text-align:justify\">\n",
    "Para  solucionar  dicho  problema  de  desinformación  se  han  utilizado  conjuntosde algoritmos de procesamiento de lenguaje natural y aprendizaje de máquina quepermiten predecir cuando una noticia es falsa o real, como por ejemplo, las máquinas  de  vectores  de  soporte,  clasificador  de  bayes,  regresión  logística,  entre  otros (León-Paredes et al., 2017). Asimismo, dentro del área de procesamiento de lengua-je natural encontramos un método estadístico que nos permite encontrar la similitudentre textos para la recuperación de información relevante tales como la similitud de cosenos que nos permite obtener la relevancia de un vocabulario en un conexto.\n",
    "</p>\n",
    "\n",
    "## Figura del conjunto de pasos para la detección de Fake News\n",
    "\n",
    "Para el proceso de detección de Fake News, se sigue el siguiente proceso:\n",
    "\n",
    "<img src='./proceso.png' width='80%'>\n",
    "\n",
    "Lo que se realiza en este proceso son tres fases:\n",
    "\n",
    "* **Eje semántico:** En esta fase se busca obtener el vocabulario del conjunto de datos obtenido por un RPA programado para extraer información de sitios web. Con ello se normaliza y se obtiene el vocabulario que nos permitira realizar la detección de fake news.\n",
    "\n",
    "* **Reducción de dimensionalidad:** Con esta fase, lo que se busca es obtener una matriz termino-documento con e objetivo de reducir todo el conjunto de texto de lo extraido a palabras del vocabulario y sus documentos. Con ello luego se utiliza tf-idf para obtener la relevancia de dichas palabras en esos documentos.\n",
    "\n",
    "* **Recuperación de información:** Por útimo, se recupera información de redes sociales mediante un RPA programado, para luego realizar los mismos procesos, con la diferencia que en este momento se realiza un proceso de similitud de documentos, con ello se busca saber que noticia es presuntamente verdadera y cual es presuntamente falsa.\n",
    "\n",
    "------------------------"
   ]
  },
  {
   "cell_type": "markdown",
   "id": "9eb50cef",
   "metadata": {},
   "source": [
    "# Resultados"
   ]
  },
  {
   "cell_type": "code",
   "execution_count": 1,
   "id": "12f64100",
   "metadata": {
    "hide_input": true
   },
   "outputs": [],
   "source": [
    "import pandas as pd\n",
    "from sklearn.metrics import precision_score,accuracy_score"
   ]
  },
  {
   "cell_type": "code",
   "execution_count": 2,
   "id": "7d5a94a5",
   "metadata": {
    "hide_input": false
   },
   "outputs": [],
   "source": [
    "df                  = pd.read_csv('../../model/similitud.csv')"
   ]
  },
  {
   "cell_type": "code",
   "execution_count": 9,
   "id": "b8611423",
   "metadata": {
    "hide_input": true
   },
   "outputs": [],
   "source": [
    "df_final            = pd.DataFrame(df.mean(),columns=['value'])\n",
    "df_final['predict'] = df_final['value'].apply(lambda x: 1 if x<0.02 else 0)\n",
    "df_final['real']    = df_final['value'].apply(lambda x: 1 if x<0.022 else 0)\n",
    "df_final=df_final.drop(['value'],axis=1)"
   ]
  },
  {
   "cell_type": "code",
   "execution_count": 13,
   "id": "40c704b8",
   "metadata": {},
   "outputs": [
    {
     "data": {
      "text/html": [
       "<div>\n",
       "<style scoped>\n",
       "    .dataframe tbody tr th:only-of-type {\n",
       "        vertical-align: middle;\n",
       "    }\n",
       "\n",
       "    .dataframe tbody tr th {\n",
       "        vertical-align: top;\n",
       "    }\n",
       "\n",
       "    .dataframe thead th {\n",
       "        text-align: right;\n",
       "    }\n",
       "</style>\n",
       "<table border=\"1\" class=\"dataframe\">\n",
       "  <thead>\n",
       "    <tr style=\"text-align: right;\">\n",
       "      <th></th>\n",
       "      <th>predict</th>\n",
       "      <th>real</th>\n",
       "    </tr>\n",
       "  </thead>\n",
       "  <tbody>\n",
       "    <tr>\n",
       "      <th>45c82f0f888d46efb97087e7880b781e</th>\n",
       "      <td>1</td>\n",
       "      <td>1</td>\n",
       "    </tr>\n",
       "    <tr>\n",
       "      <th>365522896e3a4ccc90708a53596cebc5</th>\n",
       "      <td>0</td>\n",
       "      <td>0</td>\n",
       "    </tr>\n",
       "    <tr>\n",
       "      <th>eba2e080d1f74bbea6058511f0e77df8</th>\n",
       "      <td>1</td>\n",
       "      <td>1</td>\n",
       "    </tr>\n",
       "    <tr>\n",
       "      <th>979274be310c4f5e9d8ce6130feba39d</th>\n",
       "      <td>0</td>\n",
       "      <td>0</td>\n",
       "    </tr>\n",
       "    <tr>\n",
       "      <th>5988e9eae5054dcf91a8ca8a2f0091ef</th>\n",
       "      <td>0</td>\n",
       "      <td>0</td>\n",
       "    </tr>\n",
       "  </tbody>\n",
       "</table>\n",
       "</div>"
      ],
      "text/plain": [
       "                                  predict  real\n",
       "45c82f0f888d46efb97087e7880b781e        1     1\n",
       "365522896e3a4ccc90708a53596cebc5        0     0\n",
       "eba2e080d1f74bbea6058511f0e77df8        1     1\n",
       "979274be310c4f5e9d8ce6130feba39d        0     0\n",
       "5988e9eae5054dcf91a8ca8a2f0091ef        0     0"
      ]
     },
     "execution_count": 13,
     "metadata": {},
     "output_type": "execute_result"
    }
   ],
   "source": [
    "df_final.head()"
   ]
  },
  {
   "cell_type": "code",
   "execution_count": 11,
   "id": "6756a89d",
   "metadata": {},
   "outputs": [
    {
     "name": "stdout",
     "output_type": "stream",
     "text": [
      "Precision score: 0.76\n",
      "Accuracy  score: 0.91\n"
     ]
    }
   ],
   "source": [
    "print('Precision score: {:,.2f}'.format(precision_score(df_final['predict'],df_final['real'])))\n",
    "print('Accuracy  score: {:,.2f}'.format(accuracy_score(df_final['predict'],df_final['real'])))"
   ]
  }
 ],
 "metadata": {
  "@webio": {
   "lastCommId": null,
   "lastKernelId": null
  },
  "hide_input": true,
  "kernelspec": {
   "display_name": "Python 3",
   "language": "python",
   "name": "python3"
  },
  "language_info": {
   "codemirror_mode": {
    "name": "ipython",
    "version": 3
   },
   "file_extension": ".py",
   "mimetype": "text/x-python",
   "name": "python",
   "nbconvert_exporter": "python",
   "pygments_lexer": "ipython3",
   "version": "3.8.3"
  },
  "toc": {
   "base_numbering": 1,
   "nav_menu": {},
   "number_sections": true,
   "sideBar": true,
   "skip_h1_title": false,
   "title_cell": "Table of Contents",
   "title_sidebar": "Contents",
   "toc_cell": false,
   "toc_position": {},
   "toc_section_display": true,
   "toc_window_display": false
  }
 },
 "nbformat": 4,
 "nbformat_minor": 5
}
