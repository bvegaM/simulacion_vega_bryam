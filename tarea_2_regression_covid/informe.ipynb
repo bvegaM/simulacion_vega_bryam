{
 "cells": [
  {
   "cell_type": "markdown",
   "metadata": {},
   "source": [
    "<img src=\"https://www.universidades.com.ec/logos/original/logo-universidad-politecnica-salesiana.png\" style=\"margin: 0 auto\"/>"
   ]
  },
  {
   "cell_type": "markdown",
   "metadata": {},
   "source": [
    "<h1 style=\"text-align:center;color: darkblue\">Desarrollo de un modelo de Regresión para predecir el número de casos confirmados de personas con COVID-19</h1>"
   ]
  },
  {
   "cell_type": "markdown",
   "metadata": {},
   "source": [
    "<ul style=\"text-align:center;list-style:none\">\n",
    "    <li><strong>Autor: </strong> Bryam David Vega Moreno</li>\n",
    "    <li><strong>Maestro: </strong> Diego Quisi</li>\n",
    "    <li><strong>Materia: </strong> Simulación</li>\n",
    "    <li><strong>Universidad: </strong> Universidad Politécnica Salesiana</li>\n",
    "    <li><strong>Carrera: </strong> Ciencias de la computación</li>\n",
    "</ul>"
   ]
  },
  {
   "cell_type": "markdown",
   "metadata": {},
   "source": [
    "-----------------------------"
   ]
  },
  {
   "cell_type": "markdown",
   "metadata": {},
   "source": [
    "<h2 style=\"color:yellowgreen\">Introducción</h2>"
   ]
  },
  {
   "cell_type": "markdown",
   "metadata": {},
   "source": [
    "<p style='text-align:justify'>Actualmente, el covid se ha vuelto uno de los virus más trascendentales a nivel mundial, perjudicando económicamente a los paises, ademas de ello afecto en gran medida a los sistemas de salud que no estaban preparados para un virus como este. En nuestro específico, en Ecuador se ha desatado una creciente ola de contagios desde que inicio el virus, en donde hospitales estan al máximo de su capacidad y la mayoria de ellos no pueden atender a más personas. En este ocasión proponemos un modelo de regresión que nos permite predecir el número de personas que existiran en un determiado día, con la finalidad de poder tener un número cercano para estar preparados para lo que pueda pasar.</p>"
   ]
  },
  {
   "cell_type": "markdown",
   "metadata": {},
   "source": [
    "---------------"
   ]
  },
  {
   "cell_type": "markdown",
   "metadata": {},
   "source": [
    "<h2 style=\"color:yellowgreen\">Desarrollo del modelo de regresión</h2>"
   ]
  },
  {
   "cell_type": "markdown",
   "metadata": {},
   "source": [
    " <h3 style=\"color:red\">Librerias a importar</h3>"
   ]
  },
  {
   "cell_type": "markdown",
   "metadata": {},
   "source": [
    "##### Librerias para la lectura y el análisis de datos"
   ]
  },
  {
   "cell_type": "code",
   "execution_count": 175,
   "metadata": {},
   "outputs": [],
   "source": [
    "import pandas as pd\n",
    "import numpy as np\n",
    "\n",
    "from datetime import datetime, timedelta"
   ]
  },
  {
   "cell_type": "markdown",
   "metadata": {},
   "source": [
    "##### Librerías para realizar procesos de transformación y división de datos"
   ]
  },
  {
   "cell_type": "code",
   "execution_count": 2,
   "metadata": {},
   "outputs": [],
   "source": [
    "from sklearn.model_selection import train_test_split"
   ]
  },
  {
   "cell_type": "markdown",
   "metadata": {},
   "source": [
    "##### Librerias para realizar el proceso de regresión"
   ]
  },
  {
   "cell_type": "code",
   "execution_count": 3,
   "metadata": {},
   "outputs": [],
   "source": [
    "from sklearn.linear_model import LinearRegression\n",
    "from sklearn.pipeline import Pipeline\n",
    "from sklearn.preprocessing import PolynomialFeatures"
   ]
  },
  {
   "cell_type": "markdown",
   "metadata": {},
   "source": [
    "##### Librerias para realizar las gráficas"
   ]
  },
  {
   "cell_type": "code",
   "execution_count": 4,
   "metadata": {},
   "outputs": [],
   "source": [
    "import altair as alt\n",
    "import matplotlib.pyplot as plt"
   ]
  },
  {
   "cell_type": "markdown",
   "metadata": {},
   "source": [
    " <h3 style=\"color:red\">Dataset</h3>"
   ]
  },
  {
   "cell_type": "markdown",
   "metadata": {},
   "source": [
    "Para este análisis hemos preparado un dataset denominado **covid.csv** el cual es un dataset que tuvo un proceso de transformación mediante otros csv y se concentro la información para tener los datos de nuestro país que en este caso es Ecuador. El dataset contiene la siguiente información:\n",
    "\n",
    "<ul>\n",
    "    <li><strong>date:</strong> Fecha en la que se obtiene los datos</li>\n",
    "    <li><strong>death:</strong> Número de personas fallecidas por el virus</li>\n",
    "    <li><strong>confirmed:</strong> Número de personas con el virus</li>\n",
    "    <li><strong>recovered:</strong> Número de personas recuperadas con el virus</li>\n",
    "    <li><strong>day:</strong> Número del dīa de la pandemia a partir del 1/01/2020</li>\n",
    "</ul>"
   ]
  },
  {
   "cell_type": "code",
   "execution_count": 5,
   "metadata": {},
   "outputs": [
    {
     "data": {
      "text/html": [
       "<div>\n",
       "<style scoped>\n",
       "    .dataframe tbody tr th:only-of-type {\n",
       "        vertical-align: middle;\n",
       "    }\n",
       "\n",
       "    .dataframe tbody tr th {\n",
       "        vertical-align: top;\n",
       "    }\n",
       "\n",
       "    .dataframe thead th {\n",
       "        text-align: right;\n",
       "    }\n",
       "</style>\n",
       "<table border=\"1\" class=\"dataframe\">\n",
       "  <thead>\n",
       "    <tr style=\"text-align: right;\">\n",
       "      <th></th>\n",
       "      <th>date</th>\n",
       "      <th>confirmed</th>\n",
       "      <th>deaths</th>\n",
       "      <th>recovered</th>\n",
       "      <th>day</th>\n",
       "    </tr>\n",
       "  </thead>\n",
       "  <tbody>\n",
       "    <tr>\n",
       "      <th>252</th>\n",
       "      <td>2020-11-08</td>\n",
       "      <td>174907</td>\n",
       "      <td>12830</td>\n",
       "      <td>154956</td>\n",
       "      <td>312</td>\n",
       "    </tr>\n",
       "    <tr>\n",
       "      <th>202</th>\n",
       "      <td>2020-09-19</td>\n",
       "      <td>125620</td>\n",
       "      <td>11084</td>\n",
       "      <td>97063</td>\n",
       "      <td>262</td>\n",
       "    </tr>\n",
       "    <tr>\n",
       "      <th>140</th>\n",
       "      <td>2020-07-19</td>\n",
       "      <td>74013</td>\n",
       "      <td>5313</td>\n",
       "      <td>31901</td>\n",
       "      <td>200</td>\n",
       "    </tr>\n",
       "    <tr>\n",
       "      <th>291</th>\n",
       "      <td>2020-12-17</td>\n",
       "      <td>204249</td>\n",
       "      <td>13932</td>\n",
       "      <td>177951</td>\n",
       "      <td>351</td>\n",
       "    </tr>\n",
       "    <tr>\n",
       "      <th>23</th>\n",
       "      <td>2020-03-24</td>\n",
       "      <td>1082</td>\n",
       "      <td>27</td>\n",
       "      <td>3</td>\n",
       "      <td>83</td>\n",
       "    </tr>\n",
       "  </tbody>\n",
       "</table>\n",
       "</div>"
      ],
      "text/plain": [
       "           date  confirmed  deaths  recovered  day\n",
       "252  2020-11-08     174907   12830     154956  312\n",
       "202  2020-09-19     125620   11084      97063  262\n",
       "140  2020-07-19      74013    5313      31901  200\n",
       "291  2020-12-17     204249   13932     177951  351\n",
       "23   2020-03-24       1082      27          3   83"
      ]
     },
     "execution_count": 5,
     "metadata": {},
     "output_type": "execute_result"
    }
   ],
   "source": [
    "df = pd.read_csv('./in/covid.csv')\n",
    "df.sample(5)"
   ]
  },
  {
   "cell_type": "code",
   "execution_count": 6,
   "metadata": {},
   "outputs": [
    {
     "name": "stdout",
     "output_type": "stream",
     "text": [
      "<class 'pandas.core.frame.DataFrame'>\n",
      "RangeIndex: 409 entries, 0 to 408\n",
      "Data columns (total 5 columns):\n",
      " #   Column     Non-Null Count  Dtype \n",
      "---  ------     --------------  ----- \n",
      " 0   date       409 non-null    object\n",
      " 1   confirmed  409 non-null    int64 \n",
      " 2   deaths     409 non-null    int64 \n",
      " 3   recovered  409 non-null    int64 \n",
      " 4   day        409 non-null    int64 \n",
      "dtypes: int64(4), object(1)\n",
      "memory usage: 16.1+ KB\n"
     ]
    }
   ],
   "source": [
    "df.info()"
   ]
  },
  {
   "cell_type": "markdown",
   "metadata": {},
   "source": [
    " <h3 style=\"color:red\">Convertir datos para realizar un análisis exploratorio</h3>"
   ]
  },
  {
   "cell_type": "markdown",
   "metadata": {},
   "source": [
    "Un paso muy importante para realizar los modelos es realizar un análisis con el fin de ver como se esta comportando la data, en esta ocasión procedemos a hacer un proceso de transformación rápido para poder trabajar con el tipo de datos correctos"
   ]
  },
  {
   "cell_type": "code",
   "execution_count": 7,
   "metadata": {},
   "outputs": [],
   "source": [
    "df_copy = df.copy(deep=True)\n",
    "df_copy = df_copy.convert_dtypes()\n",
    "df_copy['date'] = pd.to_datetime(df_copy['date'])"
   ]
  },
  {
   "cell_type": "code",
   "execution_count": 8,
   "metadata": {},
   "outputs": [
    {
     "data": {
      "text/html": [
       "<div>\n",
       "<style scoped>\n",
       "    .dataframe tbody tr th:only-of-type {\n",
       "        vertical-align: middle;\n",
       "    }\n",
       "\n",
       "    .dataframe tbody tr th {\n",
       "        vertical-align: top;\n",
       "    }\n",
       "\n",
       "    .dataframe thead th {\n",
       "        text-align: right;\n",
       "    }\n",
       "</style>\n",
       "<table border=\"1\" class=\"dataframe\">\n",
       "  <thead>\n",
       "    <tr style=\"text-align: right;\">\n",
       "      <th></th>\n",
       "      <th>date</th>\n",
       "      <th>confirmed</th>\n",
       "      <th>deaths</th>\n",
       "      <th>recovered</th>\n",
       "      <th>day</th>\n",
       "    </tr>\n",
       "  </thead>\n",
       "  <tbody>\n",
       "    <tr>\n",
       "      <th>253</th>\n",
       "      <td>2020-11-09</td>\n",
       "      <td>175269</td>\n",
       "      <td>12839</td>\n",
       "      <td>154956</td>\n",
       "      <td>313</td>\n",
       "    </tr>\n",
       "    <tr>\n",
       "      <th>33</th>\n",
       "      <td>2020-04-03</td>\n",
       "      <td>3368</td>\n",
       "      <td>145</td>\n",
       "      <td>65</td>\n",
       "      <td>93</td>\n",
       "    </tr>\n",
       "    <tr>\n",
       "      <th>281</th>\n",
       "      <td>2020-12-07</td>\n",
       "      <td>198244</td>\n",
       "      <td>13780</td>\n",
       "      <td>174188</td>\n",
       "      <td>341</td>\n",
       "    </tr>\n",
       "    <tr>\n",
       "      <th>81</th>\n",
       "      <td>2020-05-21</td>\n",
       "      <td>35306</td>\n",
       "      <td>2939</td>\n",
       "      <td>3557</td>\n",
       "      <td>141</td>\n",
       "    </tr>\n",
       "    <tr>\n",
       "      <th>87</th>\n",
       "      <td>2020-05-27</td>\n",
       "      <td>38103</td>\n",
       "      <td>3275</td>\n",
       "      <td>18425</td>\n",
       "      <td>147</td>\n",
       "    </tr>\n",
       "  </tbody>\n",
       "</table>\n",
       "</div>"
      ],
      "text/plain": [
       "          date  confirmed  deaths  recovered  day\n",
       "253 2020-11-09     175269   12839     154956  313\n",
       "33  2020-04-03       3368     145         65   93\n",
       "281 2020-12-07     198244   13780     174188  341\n",
       "81  2020-05-21      35306    2939       3557  141\n",
       "87  2020-05-27      38103    3275      18425  147"
      ]
     },
     "execution_count": 8,
     "metadata": {},
     "output_type": "execute_result"
    }
   ],
   "source": [
    "df_copy.sample(5)"
   ]
  },
  {
   "cell_type": "code",
   "execution_count": 9,
   "metadata": {},
   "outputs": [
    {
     "name": "stdout",
     "output_type": "stream",
     "text": [
      "<class 'pandas.core.frame.DataFrame'>\n",
      "RangeIndex: 409 entries, 0 to 408\n",
      "Data columns (total 5 columns):\n",
      " #   Column     Non-Null Count  Dtype         \n",
      "---  ------     --------------  -----         \n",
      " 0   date       409 non-null    datetime64[ns]\n",
      " 1   confirmed  409 non-null    Int64         \n",
      " 2   deaths     409 non-null    Int64         \n",
      " 3   recovered  409 non-null    Int64         \n",
      " 4   day        409 non-null    Int64         \n",
      "dtypes: Int64(4), datetime64[ns](1)\n",
      "memory usage: 17.7 KB\n"
     ]
    }
   ],
   "source": [
    "df_copy.info()"
   ]
  },
  {
   "cell_type": "markdown",
   "metadata": {},
   "source": [
    "Ya con estos datos transformados, procedemos a realizar un análisis exploratorio para ver como se estan comportando nuestros datos"
   ]
  },
  {
   "cell_type": "markdown",
   "metadata": {},
   "source": [
    "-----------------------------"
   ]
  },
  {
   "cell_type": "markdown",
   "metadata": {},
   "source": [
    " <h3 style=\"color:red\">Análisis exploratorio</h3>"
   ]
  },
  {
   "cell_type": "code",
   "execution_count": 10,
   "metadata": {},
   "outputs": [],
   "source": [
    "df_time = df_copy.set_index(['date'])\n",
    "df_time.drop('day',axis=1,inplace=True)"
   ]
  },
  {
   "cell_type": "markdown",
   "metadata": {},
   "source": [
    " <h3 style=\"color:orange\">Como se comportan los datos en corte de cada mes</h3>"
   ]
  },
  {
   "cell_type": "code",
   "execution_count": 11,
   "metadata": {},
   "outputs": [],
   "source": [
    "df_time=df_time.resample('M').sum()"
   ]
  },
  {
   "cell_type": "code",
   "execution_count": 12,
   "metadata": {},
   "outputs": [
    {
     "data": {
      "text/html": [
       "<div>\n",
       "<style scoped>\n",
       "    .dataframe tbody tr th:only-of-type {\n",
       "        vertical-align: middle;\n",
       "    }\n",
       "\n",
       "    .dataframe tbody tr th {\n",
       "        vertical-align: top;\n",
       "    }\n",
       "\n",
       "    .dataframe thead th {\n",
       "        text-align: right;\n",
       "    }\n",
       "</style>\n",
       "<table border=\"1\" class=\"dataframe\">\n",
       "  <thead>\n",
       "    <tr style=\"text-align: right;\">\n",
       "      <th></th>\n",
       "      <th>confirmed</th>\n",
       "      <th>deaths</th>\n",
       "      <th>recovered</th>\n",
       "    </tr>\n",
       "    <tr>\n",
       "      <th>date</th>\n",
       "      <th></th>\n",
       "      <th></th>\n",
       "      <th></th>\n",
       "    </tr>\n",
       "  </thead>\n",
       "  <tbody>\n",
       "    <tr>\n",
       "      <th>2020-03-31</th>\n",
       "      <td>16469</td>\n",
       "      <td>423</td>\n",
       "      <td>84</td>\n",
       "    </tr>\n",
       "    <tr>\n",
       "      <th>2020-04-30</th>\n",
       "      <td>321161</td>\n",
       "      <td>12586</td>\n",
       "      <td>23439</td>\n",
       "    </tr>\n",
       "    <tr>\n",
       "      <th>2020-05-31</th>\n",
       "      <td>1029314</td>\n",
       "      <td>76863</td>\n",
       "      <td>210913</td>\n",
       "    </tr>\n",
       "    <tr>\n",
       "      <th>2020-06-30</th>\n",
       "      <td>1429745</td>\n",
       "      <td>118831</td>\n",
       "      <td>702114</td>\n",
       "    </tr>\n",
       "    <tr>\n",
       "      <th>2020-07-31</th>\n",
       "      <td>2217004</td>\n",
       "      <td>160481</td>\n",
       "      <td>978383</td>\n",
       "    </tr>\n",
       "    <tr>\n",
       "      <th>2020-08-31</th>\n",
       "      <td>3121790</td>\n",
       "      <td>189640</td>\n",
       "      <td>2521381</td>\n",
       "    </tr>\n",
       "    <tr>\n",
       "      <th>2020-09-30</th>\n",
       "      <td>3678159</td>\n",
       "      <td>304684</td>\n",
       "      <td>3008490</td>\n",
       "    </tr>\n",
       "    <tr>\n",
       "      <th>2020-10-31</th>\n",
       "      <td>4714534</td>\n",
       "      <td>379203</td>\n",
       "      <td>4009025</td>\n",
       "    </tr>\n",
       "    <tr>\n",
       "      <th>2020-11-30</th>\n",
       "      <td>5411330</td>\n",
       "      <td>390757</td>\n",
       "      <td>4740172</td>\n",
       "    </tr>\n",
       "    <tr>\n",
       "      <th>2020-12-31</th>\n",
       "      <td>6306084</td>\n",
       "      <td>430061</td>\n",
       "      <td>5504187</td>\n",
       "    </tr>\n",
       "    <tr>\n",
       "      <th>2021-01-31</th>\n",
       "      <td>7125483</td>\n",
       "      <td>445664</td>\n",
       "      <td>6083704</td>\n",
       "    </tr>\n",
       "    <tr>\n",
       "      <th>2021-02-28</th>\n",
       "      <td>7472445</td>\n",
       "      <td>428747</td>\n",
       "      <td>6333926</td>\n",
       "    </tr>\n",
       "    <tr>\n",
       "      <th>2021-03-31</th>\n",
       "      <td>9480656</td>\n",
       "      <td>505563</td>\n",
       "      <td>8151264</td>\n",
       "    </tr>\n",
       "    <tr>\n",
       "      <th>2021-04-30</th>\n",
       "      <td>4416015</td>\n",
       "      <td>222210</td>\n",
       "      <td>3756482</td>\n",
       "    </tr>\n",
       "  </tbody>\n",
       "</table>\n",
       "</div>"
      ],
      "text/plain": [
       "            confirmed  deaths  recovered\n",
       "date                                    \n",
       "2020-03-31      16469     423         84\n",
       "2020-04-30     321161   12586      23439\n",
       "2020-05-31    1029314   76863     210913\n",
       "2020-06-30    1429745  118831     702114\n",
       "2020-07-31    2217004  160481     978383\n",
       "2020-08-31    3121790  189640    2521381\n",
       "2020-09-30    3678159  304684    3008490\n",
       "2020-10-31    4714534  379203    4009025\n",
       "2020-11-30    5411330  390757    4740172\n",
       "2020-12-31    6306084  430061    5504187\n",
       "2021-01-31    7125483  445664    6083704\n",
       "2021-02-28    7472445  428747    6333926\n",
       "2021-03-31    9480656  505563    8151264\n",
       "2021-04-30    4416015  222210    3756482"
      ]
     },
     "execution_count": 12,
     "metadata": {},
     "output_type": "execute_result"
    }
   ],
   "source": [
    "df_time"
   ]
  },
  {
   "cell_type": "markdown",
   "metadata": {},
   "source": [
    " <h3 style=\"color:orange\">Personas que estan en tratamiento</h3>"
   ]
  },
  {
   "cell_type": "code",
   "execution_count": 13,
   "metadata": {},
   "outputs": [],
   "source": [
    "df_treatment = df_time['confirmed']-df_time['deaths']-df_time['recovered']"
   ]
  },
  {
   "cell_type": "code",
   "execution_count": 14,
   "metadata": {},
   "outputs": [
    {
     "data": {
      "text/plain": [
       "date\n",
       "2020-03-31      15962\n",
       "2020-04-30     285136\n",
       "2020-05-31     741538\n",
       "2020-06-30     608800\n",
       "2020-07-31    1078140\n",
       "2020-08-31     410769\n",
       "2020-09-30     364985\n",
       "2020-10-31     326306\n",
       "2020-11-30     280401\n",
       "2020-12-31     371836\n",
       "2021-01-31     596115\n",
       "2021-02-28     709772\n",
       "2021-03-31     823829\n",
       "2021-04-30     437323\n",
       "Freq: M, dtype: Int64"
      ]
     },
     "execution_count": 14,
     "metadata": {},
     "output_type": "execute_result"
    }
   ],
   "source": [
    "df_treatment"
   ]
  },
  {
   "cell_type": "markdown",
   "metadata": {},
   "source": [
    " <h3 style=\"color:orange\">Número de contagios, muetras, recuperaciones se da entre meses</h3>"
   ]
  },
  {
   "cell_type": "code",
   "execution_count": 15,
   "metadata": {},
   "outputs": [],
   "source": [
    "df_diff = df_time.diff()"
   ]
  },
  {
   "cell_type": "code",
   "execution_count": 16,
   "metadata": {},
   "outputs": [],
   "source": [
    "df_diff=df_diff.fillna(df_time.head(1).to_dict())"
   ]
  },
  {
   "cell_type": "code",
   "execution_count": 17,
   "metadata": {},
   "outputs": [
    {
     "data": {
      "text/html": [
       "<div>\n",
       "<style scoped>\n",
       "    .dataframe tbody tr th:only-of-type {\n",
       "        vertical-align: middle;\n",
       "    }\n",
       "\n",
       "    .dataframe tbody tr th {\n",
       "        vertical-align: top;\n",
       "    }\n",
       "\n",
       "    .dataframe thead th {\n",
       "        text-align: right;\n",
       "    }\n",
       "</style>\n",
       "<table border=\"1\" class=\"dataframe\">\n",
       "  <thead>\n",
       "    <tr style=\"text-align: right;\">\n",
       "      <th></th>\n",
       "      <th>confirmed</th>\n",
       "      <th>deaths</th>\n",
       "      <th>recovered</th>\n",
       "    </tr>\n",
       "    <tr>\n",
       "      <th>date</th>\n",
       "      <th></th>\n",
       "      <th></th>\n",
       "      <th></th>\n",
       "    </tr>\n",
       "  </thead>\n",
       "  <tbody>\n",
       "    <tr>\n",
       "      <th>2020-03-31</th>\n",
       "      <td>16469</td>\n",
       "      <td>423</td>\n",
       "      <td>84</td>\n",
       "    </tr>\n",
       "    <tr>\n",
       "      <th>2020-04-30</th>\n",
       "      <td>304692</td>\n",
       "      <td>12163</td>\n",
       "      <td>23355</td>\n",
       "    </tr>\n",
       "    <tr>\n",
       "      <th>2020-05-31</th>\n",
       "      <td>708153</td>\n",
       "      <td>64277</td>\n",
       "      <td>187474</td>\n",
       "    </tr>\n",
       "    <tr>\n",
       "      <th>2020-06-30</th>\n",
       "      <td>400431</td>\n",
       "      <td>41968</td>\n",
       "      <td>491201</td>\n",
       "    </tr>\n",
       "    <tr>\n",
       "      <th>2020-07-31</th>\n",
       "      <td>787259</td>\n",
       "      <td>41650</td>\n",
       "      <td>276269</td>\n",
       "    </tr>\n",
       "    <tr>\n",
       "      <th>2020-08-31</th>\n",
       "      <td>904786</td>\n",
       "      <td>29159</td>\n",
       "      <td>1542998</td>\n",
       "    </tr>\n",
       "    <tr>\n",
       "      <th>2020-09-30</th>\n",
       "      <td>556369</td>\n",
       "      <td>115044</td>\n",
       "      <td>487109</td>\n",
       "    </tr>\n",
       "    <tr>\n",
       "      <th>2020-10-31</th>\n",
       "      <td>1036375</td>\n",
       "      <td>74519</td>\n",
       "      <td>1000535</td>\n",
       "    </tr>\n",
       "    <tr>\n",
       "      <th>2020-11-30</th>\n",
       "      <td>696796</td>\n",
       "      <td>11554</td>\n",
       "      <td>731147</td>\n",
       "    </tr>\n",
       "    <tr>\n",
       "      <th>2020-12-31</th>\n",
       "      <td>894754</td>\n",
       "      <td>39304</td>\n",
       "      <td>764015</td>\n",
       "    </tr>\n",
       "    <tr>\n",
       "      <th>2021-01-31</th>\n",
       "      <td>819399</td>\n",
       "      <td>15603</td>\n",
       "      <td>579517</td>\n",
       "    </tr>\n",
       "    <tr>\n",
       "      <th>2021-02-28</th>\n",
       "      <td>346962</td>\n",
       "      <td>-16917</td>\n",
       "      <td>250222</td>\n",
       "    </tr>\n",
       "    <tr>\n",
       "      <th>2021-03-31</th>\n",
       "      <td>2008211</td>\n",
       "      <td>76816</td>\n",
       "      <td>1817338</td>\n",
       "    </tr>\n",
       "    <tr>\n",
       "      <th>2021-04-30</th>\n",
       "      <td>-5064641</td>\n",
       "      <td>-283353</td>\n",
       "      <td>-4394782</td>\n",
       "    </tr>\n",
       "  </tbody>\n",
       "</table>\n",
       "</div>"
      ],
      "text/plain": [
       "            confirmed   deaths  recovered\n",
       "date                                     \n",
       "2020-03-31      16469      423         84\n",
       "2020-04-30     304692    12163      23355\n",
       "2020-05-31     708153    64277     187474\n",
       "2020-06-30     400431    41968     491201\n",
       "2020-07-31     787259    41650     276269\n",
       "2020-08-31     904786    29159    1542998\n",
       "2020-09-30     556369   115044     487109\n",
       "2020-10-31    1036375    74519    1000535\n",
       "2020-11-30     696796    11554     731147\n",
       "2020-12-31     894754    39304     764015\n",
       "2021-01-31     819399    15603     579517\n",
       "2021-02-28     346962   -16917     250222\n",
       "2021-03-31    2008211    76816    1817338\n",
       "2021-04-30   -5064641  -283353   -4394782"
      ]
     },
     "execution_count": 17,
     "metadata": {},
     "output_type": "execute_result"
    }
   ],
   "source": [
    "df_diff"
   ]
  },
  {
   "cell_type": "markdown",
   "metadata": {},
   "source": [
    " <h3 style=\"color:orange\">Promedio de contiagios,muertes,recuperados</h3>"
   ]
  },
  {
   "cell_type": "code",
   "execution_count": 18,
   "metadata": {},
   "outputs": [
    {
     "data": {
      "text/plain": [
       "confirmed    315429.642857\n",
       "deaths        15872.142857\n",
       "recovered    268320.142857\n",
       "dtype: float64"
      ]
     },
     "execution_count": 18,
     "metadata": {},
     "output_type": "execute_result"
    }
   ],
   "source": [
    "df_diff.mean()"
   ]
  },
  {
   "cell_type": "markdown",
   "metadata": {},
   "source": [
    " <h3 style=\"color:orange\">Gráficas</h3>"
   ]
  },
  {
   "cell_type": "markdown",
   "metadata": {},
   "source": [
    "En esta gráfica estamos mostrante el comportamiento de los datos a lo largo del tiempo, como podemos apreciar, el número de confirmados recuperados tiene una tendencia paralela,es decir, a medida que se van confirmando casos, podriamos decir que una gran mayoria de ellas se recupera, mientras que el resto pueda estar en tratamiento o fallecido"
   ]
  },
  {
   "cell_type": "code",
   "execution_count": 20,
   "metadata": {},
   "outputs": [
    {
     "data": {
      "text/html": [
       "\n",
       "<div id=\"altair-viz-508582f0c58648ada18cdda80f95286f\"></div>\n",
       "<script type=\"text/javascript\">\n",
       "  (function(spec, embedOpt){\n",
       "    let outputDiv = document.currentScript.previousElementSibling;\n",
       "    if (outputDiv.id !== \"altair-viz-508582f0c58648ada18cdda80f95286f\") {\n",
       "      outputDiv = document.getElementById(\"altair-viz-508582f0c58648ada18cdda80f95286f\");\n",
       "    }\n",
       "    const paths = {\n",
       "      \"vega\": \"https://cdn.jsdelivr.net/npm//vega@5?noext\",\n",
       "      \"vega-lib\": \"https://cdn.jsdelivr.net/npm//vega-lib?noext\",\n",
       "      \"vega-lite\": \"https://cdn.jsdelivr.net/npm//vega-lite@4.8.1?noext\",\n",
       "      \"vega-embed\": \"https://cdn.jsdelivr.net/npm//vega-embed@6?noext\",\n",
       "    };\n",
       "\n",
       "    function loadScript(lib) {\n",
       "      return new Promise(function(resolve, reject) {\n",
       "        var s = document.createElement('script');\n",
       "        s.src = paths[lib];\n",
       "        s.async = true;\n",
       "        s.onload = () => resolve(paths[lib]);\n",
       "        s.onerror = () => reject(`Error loading script: ${paths[lib]}`);\n",
       "        document.getElementsByTagName(\"head\")[0].appendChild(s);\n",
       "      });\n",
       "    }\n",
       "\n",
       "    function showError(err) {\n",
       "      outputDiv.innerHTML = `<div class=\"error\" style=\"color:red;\">${err}</div>`;\n",
       "      throw err;\n",
       "    }\n",
       "\n",
       "    function displayChart(vegaEmbed) {\n",
       "      vegaEmbed(outputDiv, spec, embedOpt)\n",
       "        .catch(err => showError(`Javascript Error: ${err.message}<br>This usually means there's a typo in your chart specification. See the javascript console for the full traceback.`));\n",
       "    }\n",
       "\n",
       "    if(typeof define === \"function\" && define.amd) {\n",
       "      requirejs.config({paths});\n",
       "      require([\"vega-embed\"], displayChart, err => showError(`Error loading script: ${err.message}`));\n",
       "    } else if (typeof vegaEmbed === \"function\") {\n",
       "      displayChart(vegaEmbed);\n",
       "    } else {\n",
       "      loadScript(\"vega\")\n",
       "        .then(() => loadScript(\"vega-lite\"))\n",
       "        .then(() => loadScript(\"vega-embed\"))\n",
       "        .catch(showError)\n",
       "        .then(() => displayChart(vegaEmbed));\n",
       "    }\n",
       "  })({\"config\": {\"view\": {\"continuousWidth\": 400, \"continuousHeight\": 300}}, \"data\": {\"name\": \"data-197289612043bd18b08829425b571e69\"}, \"mark\": \"line\", \"encoding\": {\"color\": {\"type\": \"nominal\", \"field\": \"variable\"}, \"x\": {\"type\": \"temporal\", \"field\": \"date\"}, \"y\": {\"type\": \"quantitative\", \"field\": \"value\"}}, \"selection\": {\"selector001\": {\"type\": \"interval\", \"bind\": \"scales\", \"encodings\": [\"x\", \"y\"]}}, \"$schema\": \"https://vega.github.io/schema/vega-lite/v4.8.1.json\", \"datasets\": {\"data-197289612043bd18b08829425b571e69\": [{\"date\": \"2020-03-31T00:00:00\", \"variable\": \"confirmed\", \"value\": 16469}, {\"date\": \"2020-04-30T00:00:00\", \"variable\": \"confirmed\", \"value\": 321161}, {\"date\": \"2020-05-31T00:00:00\", \"variable\": \"confirmed\", \"value\": 1029314}, {\"date\": \"2020-06-30T00:00:00\", \"variable\": \"confirmed\", \"value\": 1429745}, {\"date\": \"2020-07-31T00:00:00\", \"variable\": \"confirmed\", \"value\": 2217004}, {\"date\": \"2020-08-31T00:00:00\", \"variable\": \"confirmed\", \"value\": 3121790}, {\"date\": \"2020-09-30T00:00:00\", \"variable\": \"confirmed\", \"value\": 3678159}, {\"date\": \"2020-10-31T00:00:00\", \"variable\": \"confirmed\", \"value\": 4714534}, {\"date\": \"2020-11-30T00:00:00\", \"variable\": \"confirmed\", \"value\": 5411330}, {\"date\": \"2020-12-31T00:00:00\", \"variable\": \"confirmed\", \"value\": 6306084}, {\"date\": \"2021-01-31T00:00:00\", \"variable\": \"confirmed\", \"value\": 7125483}, {\"date\": \"2021-02-28T00:00:00\", \"variable\": \"confirmed\", \"value\": 7472445}, {\"date\": \"2021-03-31T00:00:00\", \"variable\": \"confirmed\", \"value\": 9480656}, {\"date\": \"2021-04-30T00:00:00\", \"variable\": \"confirmed\", \"value\": 4416015}, {\"date\": \"2020-03-31T00:00:00\", \"variable\": \"deaths\", \"value\": 423}, {\"date\": \"2020-04-30T00:00:00\", \"variable\": \"deaths\", \"value\": 12586}, {\"date\": \"2020-05-31T00:00:00\", \"variable\": \"deaths\", \"value\": 76863}, {\"date\": \"2020-06-30T00:00:00\", \"variable\": \"deaths\", \"value\": 118831}, {\"date\": \"2020-07-31T00:00:00\", \"variable\": \"deaths\", \"value\": 160481}, {\"date\": \"2020-08-31T00:00:00\", \"variable\": \"deaths\", \"value\": 189640}, {\"date\": \"2020-09-30T00:00:00\", \"variable\": \"deaths\", \"value\": 304684}, {\"date\": \"2020-10-31T00:00:00\", \"variable\": \"deaths\", \"value\": 379203}, {\"date\": \"2020-11-30T00:00:00\", \"variable\": \"deaths\", \"value\": 390757}, {\"date\": \"2020-12-31T00:00:00\", \"variable\": \"deaths\", \"value\": 430061}, {\"date\": \"2021-01-31T00:00:00\", \"variable\": \"deaths\", \"value\": 445664}, {\"date\": \"2021-02-28T00:00:00\", \"variable\": \"deaths\", \"value\": 428747}, {\"date\": \"2021-03-31T00:00:00\", \"variable\": \"deaths\", \"value\": 505563}, {\"date\": \"2021-04-30T00:00:00\", \"variable\": \"deaths\", \"value\": 222210}, {\"date\": \"2020-03-31T00:00:00\", \"variable\": \"recovered\", \"value\": 84}, {\"date\": \"2020-04-30T00:00:00\", \"variable\": \"recovered\", \"value\": 23439}, {\"date\": \"2020-05-31T00:00:00\", \"variable\": \"recovered\", \"value\": 210913}, {\"date\": \"2020-06-30T00:00:00\", \"variable\": \"recovered\", \"value\": 702114}, {\"date\": \"2020-07-31T00:00:00\", \"variable\": \"recovered\", \"value\": 978383}, {\"date\": \"2020-08-31T00:00:00\", \"variable\": \"recovered\", \"value\": 2521381}, {\"date\": \"2020-09-30T00:00:00\", \"variable\": \"recovered\", \"value\": 3008490}, {\"date\": \"2020-10-31T00:00:00\", \"variable\": \"recovered\", \"value\": 4009025}, {\"date\": \"2020-11-30T00:00:00\", \"variable\": \"recovered\", \"value\": 4740172}, {\"date\": \"2020-12-31T00:00:00\", \"variable\": \"recovered\", \"value\": 5504187}, {\"date\": \"2021-01-31T00:00:00\", \"variable\": \"recovered\", \"value\": 6083704}, {\"date\": \"2021-02-28T00:00:00\", \"variable\": \"recovered\", \"value\": 6333926}, {\"date\": \"2021-03-31T00:00:00\", \"variable\": \"recovered\", \"value\": 8151264}, {\"date\": \"2021-04-30T00:00:00\", \"variable\": \"recovered\", \"value\": 3756482}]}}, {\"mode\": \"vega-lite\"});\n",
       "</script>"
      ],
      "text/plain": [
       "alt.Chart(...)"
      ]
     },
     "execution_count": 20,
     "metadata": {},
     "output_type": "execute_result"
    }
   ],
   "source": [
    "alt.Chart(df_time.reset_index().melt('date')).mark_line().encode(\n",
    "    x='date',\n",
    "    y='value',\n",
    "    color='variable'\n",
    ").interactive()"
   ]
  },
  {
   "cell_type": "markdown",
   "metadata": {},
   "source": [
    "En esta gráfica mostramos el porcentaeje de personas recuperadas, fallecidas y en tratamiento, como podemos darnos cuente en la gráfica, podemos darnos cuenta que el número de personas con tratamiento va disminuyendo a medida que se va aumentando el número de personas recuperadas lo cual tiene sentido"
   ]
  },
  {
   "cell_type": "code",
   "execution_count": 21,
   "metadata": {},
   "outputs": [
    {
     "data": {
      "text/plain": [
       "array([<matplotlib.axes._subplots.AxesSubplot object at 0x7feb6df327f0>,\n",
       "       <matplotlib.axes._subplots.AxesSubplot object at 0x7feb6df93130>,\n",
       "       <matplotlib.axes._subplots.AxesSubplot object at 0x7feb6dfc2340>,\n",
       "       <matplotlib.axes._subplots.AxesSubplot object at 0x7feb6dfed4f0>,\n",
       "       <matplotlib.axes._subplots.AxesSubplot object at 0x7feb6e01a670>],\n",
       "      dtype=object)"
      ]
     },
     "execution_count": 21,
     "metadata": {},
     "output_type": "execute_result"
    },
    {
     "data": {
      "image/png": "[encoded data removed]",
      "text/plain": [
       "<Figure size 3600x720 with 5 Axes>"
      ]
     },
     "metadata": {},
     "output_type": "display_data"
    }
   ],
   "source": [
    "df_time['treatment'] = df_time['confirmed']-df_time['deaths']-df_time['recovered']\n",
    "df_time[['deaths','recovered','treatment']].T.iloc[:,:5].plot(figsize = (50,10),kind='pie',subplots=True)"
   ]
  },
  {
   "cell_type": "markdown",
   "metadata": {},
   "source": [
    "Un análisis muy bueno seria ver la velocidad con la que el virus se propaga a lo largo del tiempo, esto es importante para ver cual es su frecuencia de velocidad de propagación con el fin de entender como se esta compartando el virus en nuestro país. Como podemos ver en el histograma que presentamos a continuación la velocidad de propagación del virus es alta a medida que avanza el tiempo, lo interesante es darnos cuenta que es un virus muy contagioso por lo que su velocidad de propagación no ha bajado de los 0.90"
   ]
  },
  {
   "cell_type": "code",
   "execution_count": 22,
   "metadata": {},
   "outputs": [
    {
     "data": {
      "text/plain": [
       "<matplotlib.axes._subplots.AxesSubplot at 0x7feb6eb04a00>"
      ]
     },
     "execution_count": 22,
     "metadata": {},
     "output_type": "execute_result"
    },
    {
     "data": {
      "image/png": "[encoded data removed]",
      "text/plain": [
       "<Figure size 720x504 with 1 Axes>"
      ]
     },
     "metadata": {
      "needs_background": "light"
     },
     "output_type": "display_data"
    }
   ],
   "source": [
    "df_time['rate'] = 1 - df_time['deaths']/df_time['confirmed'] \n",
    "df_time['rate'].plot(kind='hist',figsize=(10,7),bins=10,color='orange',alpha=0.5,title='Rate Virus',grid=True)"
   ]
  },
  {
   "cell_type": "markdown",
   "metadata": {},
   "source": [
    "Una vez analizado los datos, procedemos a realizar la creación del modelo con el fin de poder escoger el mejor modelo para este tipo datos"
   ]
  },
  {
   "cell_type": "markdown",
   "metadata": {},
   "source": [
    "-------------"
   ]
  },
  {
   "cell_type": "markdown",
   "metadata": {},
   "source": [
    " <h3 style=\"color:red\">Creación del modelo</h3>"
   ]
  },
  {
   "cell_type": "markdown",
   "metadata": {},
   "source": [
    "Con el análisis de datos realizado, podemos darnos cuenta que nuestros datos tienen una tendencia a la alza, de manera lineal, por lo tanto un modelo de regresion seria ideal para poder estos datos. Lo primero que procedemos a hacer es obtener nuestro features y targets para poder hacer una división de datos en entrenamiento y test para poder entrenar a nuestro modelo y despues testearlo con los datos de test."
   ]
  },
  {
   "cell_type": "markdown",
   "metadata": {},
   "source": [
    " <h4 style=\"color:orange\">Selección de feautres y target</h4>"
   ]
  },
  {
   "cell_type": "markdown",
   "metadata": {},
   "source": [
    "En este caso escogimos como features la columna **days** debido a que dicha columna juega el rol más improtante como hemos visto a lo largo del análisis, si bien en el análisis tratamos la columna date, no podemos utilizarla debido a ser un tipo de dato fecha, por lo que el día equivale a la fecha lo cual lo hace el feature más importate. Por otro lado escogimos la columna **confirmed** como nuestro target debido a que eso es lo que deseamos predecir, el número de contagios en un día a futuro"
   ]
  },
  {
   "cell_type": "code",
   "execution_count": 23,
   "metadata": {},
   "outputs": [],
   "source": [
    "features = df.iloc[:,4:5].values\n",
    "target = df.iloc[:,1:2].values"
   ]
  },
  {
   "cell_type": "markdown",
   "metadata": {},
   "source": [
    " <h4 style=\"color:orange\">División de train y test</h4>"
   ]
  },
  {
   "cell_type": "markdown",
   "metadata": {},
   "source": [
    "Una vez que ya tenemos nuestro conjunto de datos de entrada y salida, procedemos a dividir dichos datos en train y test a fin de realizar entreamiento con los datos de train y las pruebas con los datos de test, para ello hacemos uso de la libreria **train_test_split**. A continuación mostramos el código para realiarlo"
   ]
  },
  {
   "cell_type": "code",
   "execution_count": 24,
   "metadata": {},
   "outputs": [],
   "source": [
    "X_train, X_test, y_train, y_test = train_test_split(features, target, test_size=0.2)"
   ]
  },
  {
   "cell_type": "markdown",
   "metadata": {},
   "source": [
    "Con estos datos dividos procedemos a realizar los modelos de regresión, a continuación procedemos a realizarlos."
   ]
  },
  {
   "cell_type": "markdown",
   "metadata": {},
   "source": [
    " <h4 style=\"color:orange\">Creación de un modelo de regesión</h4>"
   ]
  },
  {
   "cell_type": "markdown",
   "metadata": {},
   "source": [
    "Como habiamos dicho, nuestros datos tienen una tendencia creciente y lineal, por lo que un modelo de regresión lineal es adecuado para este problema, para ello utilizamos el modelo **LinearRegression** para proceder a hacer nuestro entrenamiento y después las pruebas de nuestro modelo"
   ]
  },
  {
   "cell_type": "code",
   "execution_count": 25,
   "metadata": {},
   "outputs": [],
   "source": [
    "model_linear = LinearRegression()\n",
    "model_linear = model_linear.fit(X_train,y_train)"
   ]
  },
  {
   "cell_type": "code",
   "execution_count": 26,
   "metadata": {},
   "outputs": [
    {
     "name": "stdout",
     "output_type": "stream",
     "text": [
      "Linear Score :  0.9859444494173236\n"
     ]
    }
   ],
   "source": [
    "print(\"Linear Score : \",model_linear.score(X_test,y_test))"
   ]
  },
  {
   "cell_type": "markdown",
   "metadata": {},
   "source": [
    "Como podemos apreciar nuestro modelo lineal tiene una score de 0.98 lo cual es alto. Pero, seria mejor ver una gráfica de la misma con el fin de ver si nuestro modelo no tiene problema de overfitting"
   ]
  },
  {
   "cell_type": "code",
   "execution_count": 27,
   "metadata": {},
   "outputs": [
    {
     "data": {
      "text/html": [
       "\n",
       "<div id=\"altair-viz-cea1749a79024186ae13f2f87231a113\"></div>\n",
       "<script type=\"text/javascript\">\n",
       "  (function(spec, embedOpt){\n",
       "    let outputDiv = document.currentScript.previousElementSibling;\n",
       "    if (outputDiv.id !== \"altair-viz-cea1749a79024186ae13f2f87231a113\") {\n",
       "      outputDiv = document.getElementById(\"altair-viz-cea1749a79024186ae13f2f87231a113\");\n",
       "    }\n",
       "    const paths = {\n",
       "      \"vega\": \"https://cdn.jsdelivr.net/npm//vega@5?noext\",\n",
       "      \"vega-lib\": \"https://cdn.jsdelivr.net/npm//vega-lib?noext\",\n",
       "      \"vega-lite\": \"https://cdn.jsdelivr.net/npm//vega-lite@4.8.1?noext\",\n",
       "      \"vega-embed\": \"https://cdn.jsdelivr.net/npm//vega-embed@6?noext\",\n",
       "    };\n",
       "\n",
       "    function loadScript(lib) {\n",
       "      return new Promise(function(resolve, reject) {\n",
       "        var s = document.createElement('script');\n",
       "        s.src = paths[lib];\n",
       "        s.async = true;\n",
       "        s.onload = () => resolve(paths[lib]);\n",
       "        s.onerror = () => reject(`Error loading script: ${paths[lib]}`);\n",
       "        document.getElementsByTagName(\"head\")[0].appendChild(s);\n",
       "      });\n",
       "    }\n",
       "\n",
       "    function showError(err) {\n",
       "      outputDiv.innerHTML = `<div class=\"error\" style=\"color:red;\">${err}</div>`;\n",
       "      throw err;\n",
       "    }\n",
       "\n",
       "    function displayChart(vegaEmbed) {\n",
       "      vegaEmbed(outputDiv, spec, embedOpt)\n",
       "        .catch(err => showError(`Javascript Error: ${err.message}<br>This usually means there's a typo in your chart specification. See the javascript console for the full traceback.`));\n",
       "    }\n",
       "\n",
       "    if(typeof define === \"function\" && define.amd) {\n",
       "      requirejs.config({paths});\n",
       "      require([\"vega-embed\"], displayChart, err => showError(`Error loading script: ${err.message}`));\n",
       "    } else if (typeof vegaEmbed === \"function\") {\n",
       "      displayChart(vegaEmbed);\n",
       "    } else {\n",
       "      loadScript(\"vega\")\n",
       "        .then(() => loadScript(\"vega-lite\"))\n",
       "        .then(() => loadScript(\"vega-embed\"))\n",
       "        .catch(showError)\n",
       "        .then(() => displayChart(vegaEmbed));\n",
       "    }\n",
       "  })({\"config\": {\"view\": {\"continuousWidth\": 400, \"continuousHeight\": 300}}, \"data\": {\"name\": \"data-696aff14a6c522ce1697d73aeff3e861\"}, \"mark\": \"line\", \"encoding\": {\"color\": {\"type\": \"nominal\", \"field\": \"variable\"}, \"x\": {\"type\": \"quantitative\", \"field\": \"day\"}, \"y\": {\"type\": \"quantitative\", \"field\": \"value\"}}, \"selection\": {\"selector002\": {\"type\": \"interval\", \"bind\": \"scales\", \"encodings\": [\"x\", \"y\"]}}, \"title\": \"test vs predictions\", \"$schema\": \"https://vega.github.io/schema/vega-lite/v4.8.1.json\", \"datasets\": {\"data-696aff14a6c522ce1697d73aeff3e861\": [{\"day\": 444, \"variable\": \"y\", \"value\": 310868.0}, {\"day\": 427, \"variable\": \"y\", \"value\": 289472.0}, {\"day\": 164, \"variable\": \"y\", \"value\": 46356.0}, {\"day\": 234, \"variable\": \"y\", \"value\": 107089.0}, {\"day\": 229, \"variable\": \"y\", \"value\": 101751.0}, {\"day\": 222, \"variable\": \"y\", \"value\": 94701.0}, {\"day\": 327, \"variable\": \"y\", \"value\": 185944.0}, {\"day\": 139, \"variable\": \"y\", \"value\": 34151.0}, {\"day\": 373, \"variable\": \"y\", \"value\": 219148.0}, {\"day\": 220, \"variable\": \"y\", \"value\": 93572.0}, {\"day\": 207, \"variable\": \"y\", \"value\": 80694.0}, {\"day\": 467, \"variable\": \"y\", \"value\": 347070.0}, {\"day\": 418, \"variable\": \"y\", \"value\": 274968.0}, {\"day\": 103, \"variable\": \"y\", \"value\": 7529.0}, {\"day\": 100, \"variable\": \"y\", \"value\": 7161.0}, {\"day\": 137, \"variable\": \"y\", \"value\": 33182.0}, {\"day\": 372, \"variable\": \"y\", \"value\": 218385.0}, {\"day\": 124, \"variable\": \"y\", \"value\": 31881.0}, {\"day\": 227, \"variable\": \"y\", \"value\": 100688.0}, {\"day\": 281, \"variable\": \"y\", \"value\": 145045.0}, {\"day\": 357, \"variable\": \"y\", \"value\": 207084.0}, {\"day\": 180, \"variable\": \"y\", \"value\": 55665.0}, {\"day\": 314, \"variable\": \"y\", \"value\": 175711.0}, {\"day\": 135, \"variable\": \"y\", \"value\": 31467.0}, {\"day\": 445, \"variable\": \"y\", \"value\": 312598.0}, {\"day\": 244, \"variable\": \"y\", \"value\": 114309.0}, {\"day\": 171, \"variable\": \"y\", \"value\": 49731.0}, {\"day\": 447, \"variable\": \"y\", \"value\": 313570.0}, {\"day\": 311, \"variable\": \"y\", \"value\": 173486.0}, {\"day\": 217, \"variable\": \"y\", \"value\": 88866.0}, {\"day\": 395, \"variable\": \"y\", \"value\": 249779.0}, {\"day\": 94, \"variable\": \"y\", \"value\": 3465.0}, {\"day\": 284, \"variable\": \"y\", \"value\": 147033.0}, {\"day\": 159, \"variable\": \"y\", \"value\": 43378.0}, {\"day\": 116, \"variable\": \"y\", \"value\": 22719.0}, {\"day\": 348, \"variable\": \"y\", \"value\": 202180.0}, {\"day\": 413, \"variable\": \"y\", \"value\": 268219.0}, {\"day\": 406, \"variable\": \"y\", \"value\": 260076.0}, {\"day\": 95, \"variable\": \"y\", \"value\": 3646.0}, {\"day\": 228, \"variable\": \"y\", \"value\": 101542.0}, {\"day\": 160, \"variable\": \"y\", \"value\": 43917.0}, {\"day\": 196, \"variable\": \"y\", \"value\": 70329.0}, {\"day\": 275, \"variable\": \"y\", \"value\": 139534.0}, {\"day\": 329, \"variable\": \"y\", \"value\": 187230.0}, {\"day\": 63, \"variable\": \"y\", \"value\": 10.0}, {\"day\": 144, \"variable\": \"y\", \"value\": 36756.0}, {\"day\": 233, \"variable\": \"y\", \"value\": 106481.0}, {\"day\": 425, \"variable\": \"y\", \"value\": 286367.0}, {\"day\": 80, \"variable\": \"y\", \"value\": 506.0}, {\"day\": 158, \"variable\": \"y\", \"value\": 43120.0}, {\"day\": 141, \"variable\": \"y\", \"value\": 35306.0}, {\"day\": 232, \"variable\": \"y\", \"value\": 105508.0}, {\"day\": 346, \"variable\": \"y\", \"value\": 201524.0}, {\"day\": 252, \"variable\": \"y\", \"value\": 112166.0}, {\"day\": 468, \"variable\": \"y\", \"value\": 347589.0}, {\"day\": 423, \"variable\": \"y\", \"value\": 284347.0}, {\"day\": 208, \"variable\": \"y\", \"value\": 81161.0}, {\"day\": 118, \"variable\": \"y\", \"value\": 24258.0}, {\"day\": 257, \"variable\": \"y\", \"value\": 118911.0}, {\"day\": 465, \"variable\": \"y\", \"value\": 344877.0}, {\"day\": 421, \"variable\": \"y\", \"value\": 281169.0}, {\"day\": 409, \"variable\": \"y\", \"value\": 265527.0}, {\"day\": 317, \"variable\": \"y\", \"value\": 178674.0}, {\"day\": 448, \"variable\": \"y\", \"value\": 316807.0}, {\"day\": 264, \"variable\": \"y\", \"value\": 126711.0}, {\"day\": 330, \"variable\": \"y\", \"value\": 188138.0}, {\"day\": 167, \"variable\": \"y\", \"value\": 47943.0}, {\"day\": 390, \"variable\": \"y\", \"value\": 241567.0}, {\"day\": 433, \"variable\": \"y\", \"value\": 295114.0}, {\"day\": 189, \"variable\": \"y\", \"value\": 63245.0}, {\"day\": 223, \"variable\": \"y\", \"value\": 95563.0}, {\"day\": 360, \"variable\": \"y\", \"value\": 209274.0}, {\"day\": 127, \"variable\": \"y\", \"value\": 30298.0}, {\"day\": 79, \"variable\": \"y\", \"value\": 367.0}, {\"day\": 352, \"variable\": \"y\", \"value\": 205003.0}, {\"day\": 288, \"variable\": \"y\", \"value\": 150360.0}, {\"day\": 410, \"variable\": \"y\", \"value\": 267223.0}, {\"day\": 422, \"variable\": \"y\", \"value\": 282599.0}, {\"day\": 150, \"variable\": \"y\", \"value\": 38571.0}, {\"day\": 316, \"variable\": \"y\", \"value\": 177513.0}, {\"day\": 170, \"variable\": \"y\", \"value\": 49731.0}, {\"day\": 182, \"variable\": \"y\", \"value\": 58257.0}, {\"day\": 444, \"variable\": \"y_pred\", \"value\": 290772.9434619831}, {\"day\": 427, \"variable\": \"y_pred\", \"value\": 276405.8693528529}, {\"day\": 164, \"variable\": \"y_pred\", \"value\": 54138.781664544105}, {\"day\": 234, \"variable\": \"y_pred\", \"value\": 113297.32211390385}, {\"day\": 229, \"variable\": \"y_pred\", \"value\": 109071.71208180673}, {\"day\": 222, \"variable\": \"y_pred\", \"value\": 103155.85803687075}, {\"day\": 327, \"variable\": \"y_pred\", \"value\": 191893.66871091042}, {\"day\": 139, \"variable\": \"y_pred\", \"value\": 33010.73150405848}, {\"day\": 373, \"variable\": \"y_pred\", \"value\": 230769.28100620396}, {\"day\": 220, \"variable\": \"y_pred\", \"value\": 101465.61402403191}, {\"day\": 207, \"variable\": \"y_pred\", \"value\": 90479.02794057937}, {\"day\": 467, \"variable\": \"y_pred\", \"value\": 310210.7496096299}, {\"day\": 418, \"variable\": \"y_pred\", \"value\": 268799.7712950781}, {\"day\": 103, \"variable\": \"y_pred\", \"value\": 2586.3392729591724}, {\"day\": 100, \"variable\": \"y_pred\", \"value\": 50.97325370089675}, {\"day\": 137, \"variable\": \"y_pred\", \"value\": 31320.487491219625}, {\"day\": 372, \"variable\": \"y_pred\", \"value\": 229924.15899978456}, {\"day\": 124, \"variable\": \"y_pred\", \"value\": 20333.9014077671}, {\"day\": 227, \"variable\": \"y_pred\", \"value\": 107381.4680689679}, {\"day\": 281, \"variable\": \"y_pred\", \"value\": 153018.05641561685}, {\"day\": 357, \"variable\": \"y_pred\", \"value\": 217247.32890349318}, {\"day\": 180, \"variable\": \"y_pred\", \"value\": 67660.73376725492}, {\"day\": 314, \"variable\": \"y_pred\", \"value\": 180907.08262745786}, {\"day\": 135, \"variable\": \"y_pred\", \"value\": 29630.24347838077}, {\"day\": 445, \"variable\": \"y_pred\", \"value\": 291618.0654684026}, {\"day\": 244, \"variable\": \"y_pred\", \"value\": 121748.54217809811}, {\"day\": 171, \"variable\": \"y_pred\", \"value\": 60054.63570948009}, {\"day\": 447, \"variable\": \"y_pred\", \"value\": 293308.3094812414}, {\"day\": 311, \"variable\": \"y_pred\", \"value\": 178371.71660819958}, {\"day\": 217, \"variable\": \"y_pred\", \"value\": 98930.24800477363}, {\"day\": 395, \"variable\": \"y_pred\", \"value\": 249361.9651474313}, {\"day\": 94, \"variable\": \"y_pred\", \"value\": -5019.7587848156545}, {\"day\": 284, \"variable\": \"y_pred\", \"value\": 155553.42243487513}, {\"day\": 159, \"variable\": \"y_pred\", \"value\": 49913.17163244699}, {\"day\": 116, \"variable\": \"y_pred\", \"value\": 13572.925356411695}, {\"day\": 348, \"variable\": \"y_pred\", \"value\": 209641.23084571835}, {\"day\": 413, \"variable\": \"y_pred\", \"value\": 264574.16126298095}, {\"day\": 406, \"variable\": \"y_pred\", \"value\": 258658.307218045}, {\"day\": 95, \"variable\": \"y_pred\", \"value\": -4174.636778396234}, {\"day\": 228, \"variable\": \"y_pred\", \"value\": 108226.5900753873}, {\"day\": 160, \"variable\": \"y_pred\", \"value\": 50758.293638866395}, {\"day\": 196, \"variable\": \"y_pred\", \"value\": 81182.6858699657}, {\"day\": 275, \"variable\": \"y_pred\", \"value\": 147947.3243771003}, {\"day\": 329, \"variable\": \"y_pred\", \"value\": 193583.91272374924}, {\"day\": 63, \"variable\": \"y_pred\", \"value\": -31218.54098381784}, {\"day\": 144, \"variable\": \"y_pred\", \"value\": 37236.341536155596}, {\"day\": 233, \"variable\": \"y_pred\", \"value\": 112452.20010748444}, {\"day\": 425, \"variable\": \"y_pred\", \"value\": 274715.62534001406}, {\"day\": 80, \"variable\": \"y_pred\", \"value\": -16851.466874687612}, {\"day\": 158, \"variable\": \"y_pred\", \"value\": 49068.049626027554}, {\"day\": 141, \"variable\": \"y_pred\", \"value\": 34700.97551689732}, {\"day\": 232, \"variable\": \"y_pred\", \"value\": 111607.07810106501}, {\"day\": 346, \"variable\": \"y_pred\", \"value\": 207950.98683287948}, {\"day\": 252, \"variable\": \"y_pred\", \"value\": 128509.5182294535}, {\"day\": 468, \"variable\": \"y_pred\", \"value\": 311055.8716160493}, {\"day\": 423, \"variable\": \"y_pred\", \"value\": 273025.3813271752}, {\"day\": 208, \"variable\": \"y_pred\", \"value\": 91324.1499469988}, {\"day\": 118, \"variable\": \"y_pred\", \"value\": 15263.16936925055}, {\"day\": 257, \"variable\": \"y_pred\", \"value\": 132735.12826155065}, {\"day\": 465, \"variable\": \"y_pred\", \"value\": 308520.50559679104}, {\"day\": 421, \"variable\": \"y_pred\", \"value\": 271335.1373143364}, {\"day\": 409, \"variable\": \"y_pred\", \"value\": 261193.67323730327}, {\"day\": 317, \"variable\": \"y_pred\", \"value\": 183442.44864671613}, {\"day\": 448, \"variable\": \"y_pred\", \"value\": 294153.43148766086}, {\"day\": 264, \"variable\": \"y_pred\", \"value\": 138650.9823064866}, {\"day\": 330, \"variable\": \"y_pred\", \"value\": 194429.0347301687}, {\"day\": 167, \"variable\": \"y_pred\", \"value\": 56674.14768380238}, {\"day\": 390, \"variable\": \"y_pred\", \"value\": 245136.35511533415}, {\"day\": 433, \"variable\": \"y_pred\", \"value\": 281476.6013913695}, {\"day\": 189, \"variable\": \"y_pred\", \"value\": 75266.83182502975}, {\"day\": 223, \"variable\": \"y_pred\", \"value\": 104000.98004329018}, {\"day\": 360, \"variable\": \"y_pred\", \"value\": 219782.69492275146}, {\"day\": 127, \"variable\": \"y_pred\", \"value\": 22869.267427025377}, {\"day\": 79, \"variable\": \"y_pred\", \"value\": -17696.588881107033}, {\"day\": 352, \"variable\": \"y_pred\", \"value\": 213021.71887139603}, {\"day\": 288, \"variable\": \"y_pred\", \"value\": 158933.9104605528}, {\"day\": 410, \"variable\": \"y_pred\", \"value\": 262038.79524372268}, {\"day\": 422, \"variable\": \"y_pred\", \"value\": 272180.2593207558}, {\"day\": 150, \"variable\": \"y_pred\", \"value\": 42307.07357467215}, {\"day\": 316, \"variable\": \"y_pred\", \"value\": 182597.32664029673}, {\"day\": 170, \"variable\": \"y_pred\", \"value\": 59209.51370306066}, {\"day\": 182, \"variable\": \"y_pred\", \"value\": 69350.97778009376}]}}, {\"mode\": \"vega-lite\"});\n",
       "</script>"
      ],
      "text/plain": [
       "alt.Chart(...)"
      ]
     },
     "execution_count": 27,
     "metadata": {},
     "output_type": "execute_result"
    }
   ],
   "source": [
    "data_linear=pd.DataFrame({'day':X_test.reshape(-1),'y':y_test.reshape(-1),'y_pred':model_linear.predict(X_test).reshape(-1)})\n",
    "alt.Chart(data_linear.melt('day')).mark_line().encode(\n",
    "    x='day',\n",
    "    y='value',\n",
    "    color='variable'\n",
    ").properties(title='test vs predictions').interactive()"
   ]
  },
  {
   "cell_type": "markdown",
   "metadata": {},
   "source": [
    "Como podemos apreciar, nuestro modelo no sufre de overfitting,aunque tenemos la linea la cual se ajusta a los datos correctamente, podemos notar algo interesante, si bien dijimos que tiene una tendencia creciente, podemos notar que nuestro datos tienen una forma polinomial, por lo que agregar un grado polinomial a nuestro modelo de regresión podria ayudar a mejorar nuestro modelo. Por lo que procedemos a realizarlo"
   ]
  },
  {
   "cell_type": "code",
   "execution_count": 28,
   "metadata": {},
   "outputs": [],
   "source": [
    "model_poly = Pipeline([('poly', PolynomialFeatures(degree=4)),\n",
    "                         ('linear', LinearRegression(fit_intercept=True))])\n",
    "model_poly = model_poly.fit(X_train,y_train)"
   ]
  },
  {
   "cell_type": "code",
   "execution_count": 29,
   "metadata": {},
   "outputs": [
    {
     "name": "stdout",
     "output_type": "stream",
     "text": [
      "Poly Score :  0.9990367771856549\n"
     ]
    }
   ],
   "source": [
    "print(\"Poly Score : \",model_poly.score(X_test,y_test))"
   ]
  },
  {
   "cell_type": "markdown",
   "metadata": {},
   "source": [
    "Como podemos notar, nuestro modelo polinomial tiene un mejor score y esto es gracias al comportamiento de nuestros datos, procedemos a graficarlo para ver si no existe un problema de overfitting y mejoramos la curva"
   ]
  },
  {
   "cell_type": "code",
   "execution_count": 30,
   "metadata": {},
   "outputs": [
    {
     "data": {
      "text/html": [
       "\n",
       "<div id=\"altair-viz-c8db3816e3fa441b8de80fe4a48f2218\"></div>\n",
       "<script type=\"text/javascript\">\n",
       "  (function(spec, embedOpt){\n",
       "    let outputDiv = document.currentScript.previousElementSibling;\n",
       "    if (outputDiv.id !== \"altair-viz-c8db3816e3fa441b8de80fe4a48f2218\") {\n",
       "      outputDiv = document.getElementById(\"altair-viz-c8db3816e3fa441b8de80fe4a48f2218\");\n",
       "    }\n",
       "    const paths = {\n",
       "      \"vega\": \"https://cdn.jsdelivr.net/npm//vega@5?noext\",\n",
       "      \"vega-lib\": \"https://cdn.jsdelivr.net/npm//vega-lib?noext\",\n",
       "      \"vega-lite\": \"https://cdn.jsdelivr.net/npm//vega-lite@4.8.1?noext\",\n",
       "      \"vega-embed\": \"https://cdn.jsdelivr.net/npm//vega-embed@6?noext\",\n",
       "    };\n",
       "\n",
       "    function loadScript(lib) {\n",
       "      return new Promise(function(resolve, reject) {\n",
       "        var s = document.createElement('script');\n",
       "        s.src = paths[lib];\n",
       "        s.async = true;\n",
       "        s.onload = () => resolve(paths[lib]);\n",
       "        s.onerror = () => reject(`Error loading script: ${paths[lib]}`);\n",
       "        document.getElementsByTagName(\"head\")[0].appendChild(s);\n",
       "      });\n",
       "    }\n",
       "\n",
       "    function showError(err) {\n",
       "      outputDiv.innerHTML = `<div class=\"error\" style=\"color:red;\">${err}</div>`;\n",
       "      throw err;\n",
       "    }\n",
       "\n",
       "    function displayChart(vegaEmbed) {\n",
       "      vegaEmbed(outputDiv, spec, embedOpt)\n",
       "        .catch(err => showError(`Javascript Error: ${err.message}<br>This usually means there's a typo in your chart specification. See the javascript console for the full traceback.`));\n",
       "    }\n",
       "\n",
       "    if(typeof define === \"function\" && define.amd) {\n",
       "      requirejs.config({paths});\n",
       "      require([\"vega-embed\"], displayChart, err => showError(`Error loading script: ${err.message}`));\n",
       "    } else if (typeof vegaEmbed === \"function\") {\n",
       "      displayChart(vegaEmbed);\n",
       "    } else {\n",
       "      loadScript(\"vega\")\n",
       "        .then(() => loadScript(\"vega-lite\"))\n",
       "        .then(() => loadScript(\"vega-embed\"))\n",
       "        .catch(showError)\n",
       "        .then(() => displayChart(vegaEmbed));\n",
       "    }\n",
       "  })({\"config\": {\"view\": {\"continuousWidth\": 400, \"continuousHeight\": 300}}, \"data\": {\"name\": \"data-169c74b524179327ae0b037c4afe7ae0\"}, \"mark\": \"line\", \"encoding\": {\"color\": {\"type\": \"nominal\", \"field\": \"variable\"}, \"x\": {\"type\": \"quantitative\", \"field\": \"day\"}, \"y\": {\"type\": \"quantitative\", \"field\": \"value\"}}, \"selection\": {\"selector003\": {\"type\": \"interval\", \"bind\": \"scales\", \"encodings\": [\"x\", \"y\"]}}, \"title\": \"test vs predictions\", \"$schema\": \"https://vega.github.io/schema/vega-lite/v4.8.1.json\", \"datasets\": {\"data-169c74b524179327ae0b037c4afe7ae0\": [{\"day\": 444, \"variable\": \"y\", \"value\": 310868.0}, {\"day\": 427, \"variable\": \"y\", \"value\": 289472.0}, {\"day\": 164, \"variable\": \"y\", \"value\": 46356.0}, {\"day\": 234, \"variable\": \"y\", \"value\": 107089.0}, {\"day\": 229, \"variable\": \"y\", \"value\": 101751.0}, {\"day\": 222, \"variable\": \"y\", \"value\": 94701.0}, {\"day\": 327, \"variable\": \"y\", \"value\": 185944.0}, {\"day\": 139, \"variable\": \"y\", \"value\": 34151.0}, {\"day\": 373, \"variable\": \"y\", \"value\": 219148.0}, {\"day\": 220, \"variable\": \"y\", \"value\": 93572.0}, {\"day\": 207, \"variable\": \"y\", \"value\": 80694.0}, {\"day\": 467, \"variable\": \"y\", \"value\": 347070.0}, {\"day\": 418, \"variable\": \"y\", \"value\": 274968.0}, {\"day\": 103, \"variable\": \"y\", \"value\": 7529.0}, {\"day\": 100, \"variable\": \"y\", \"value\": 7161.0}, {\"day\": 137, \"variable\": \"y\", \"value\": 33182.0}, {\"day\": 372, \"variable\": \"y\", \"value\": 218385.0}, {\"day\": 124, \"variable\": \"y\", \"value\": 31881.0}, {\"day\": 227, \"variable\": \"y\", \"value\": 100688.0}, {\"day\": 281, \"variable\": \"y\", \"value\": 145045.0}, {\"day\": 357, \"variable\": \"y\", \"value\": 207084.0}, {\"day\": 180, \"variable\": \"y\", \"value\": 55665.0}, {\"day\": 314, \"variable\": \"y\", \"value\": 175711.0}, {\"day\": 135, \"variable\": \"y\", \"value\": 31467.0}, {\"day\": 445, \"variable\": \"y\", \"value\": 312598.0}, {\"day\": 244, \"variable\": \"y\", \"value\": 114309.0}, {\"day\": 171, \"variable\": \"y\", \"value\": 49731.0}, {\"day\": 447, \"variable\": \"y\", \"value\": 313570.0}, {\"day\": 311, \"variable\": \"y\", \"value\": 173486.0}, {\"day\": 217, \"variable\": \"y\", \"value\": 88866.0}, {\"day\": 395, \"variable\": \"y\", \"value\": 249779.0}, {\"day\": 94, \"variable\": \"y\", \"value\": 3465.0}, {\"day\": 284, \"variable\": \"y\", \"value\": 147033.0}, {\"day\": 159, \"variable\": \"y\", \"value\": 43378.0}, {\"day\": 116, \"variable\": \"y\", \"value\": 22719.0}, {\"day\": 348, \"variable\": \"y\", \"value\": 202180.0}, {\"day\": 413, \"variable\": \"y\", \"value\": 268219.0}, {\"day\": 406, \"variable\": \"y\", \"value\": 260076.0}, {\"day\": 95, \"variable\": \"y\", \"value\": 3646.0}, {\"day\": 228, \"variable\": \"y\", \"value\": 101542.0}, {\"day\": 160, \"variable\": \"y\", \"value\": 43917.0}, {\"day\": 196, \"variable\": \"y\", \"value\": 70329.0}, {\"day\": 275, \"variable\": \"y\", \"value\": 139534.0}, {\"day\": 329, \"variable\": \"y\", \"value\": 187230.0}, {\"day\": 63, \"variable\": \"y\", \"value\": 10.0}, {\"day\": 144, \"variable\": \"y\", \"value\": 36756.0}, {\"day\": 233, \"variable\": \"y\", \"value\": 106481.0}, {\"day\": 425, \"variable\": \"y\", \"value\": 286367.0}, {\"day\": 80, \"variable\": \"y\", \"value\": 506.0}, {\"day\": 158, \"variable\": \"y\", \"value\": 43120.0}, {\"day\": 141, \"variable\": \"y\", \"value\": 35306.0}, {\"day\": 232, \"variable\": \"y\", \"value\": 105508.0}, {\"day\": 346, \"variable\": \"y\", \"value\": 201524.0}, {\"day\": 252, \"variable\": \"y\", \"value\": 112166.0}, {\"day\": 468, \"variable\": \"y\", \"value\": 347589.0}, {\"day\": 423, \"variable\": \"y\", \"value\": 284347.0}, {\"day\": 208, \"variable\": \"y\", \"value\": 81161.0}, {\"day\": 118, \"variable\": \"y\", \"value\": 24258.0}, {\"day\": 257, \"variable\": \"y\", \"value\": 118911.0}, {\"day\": 465, \"variable\": \"y\", \"value\": 344877.0}, {\"day\": 421, \"variable\": \"y\", \"value\": 281169.0}, {\"day\": 409, \"variable\": \"y\", \"value\": 265527.0}, {\"day\": 317, \"variable\": \"y\", \"value\": 178674.0}, {\"day\": 448, \"variable\": \"y\", \"value\": 316807.0}, {\"day\": 264, \"variable\": \"y\", \"value\": 126711.0}, {\"day\": 330, \"variable\": \"y\", \"value\": 188138.0}, {\"day\": 167, \"variable\": \"y\", \"value\": 47943.0}, {\"day\": 390, \"variable\": \"y\", \"value\": 241567.0}, {\"day\": 433, \"variable\": \"y\", \"value\": 295114.0}, {\"day\": 189, \"variable\": \"y\", \"value\": 63245.0}, {\"day\": 223, \"variable\": \"y\", \"value\": 95563.0}, {\"day\": 360, \"variable\": \"y\", \"value\": 209274.0}, {\"day\": 127, \"variable\": \"y\", \"value\": 30298.0}, {\"day\": 79, \"variable\": \"y\", \"value\": 367.0}, {\"day\": 352, \"variable\": \"y\", \"value\": 205003.0}, {\"day\": 288, \"variable\": \"y\", \"value\": 150360.0}, {\"day\": 410, \"variable\": \"y\", \"value\": 267223.0}, {\"day\": 422, \"variable\": \"y\", \"value\": 282599.0}, {\"day\": 150, \"variable\": \"y\", \"value\": 38571.0}, {\"day\": 316, \"variable\": \"y\", \"value\": 177513.0}, {\"day\": 170, \"variable\": \"y\", \"value\": 49731.0}, {\"day\": 182, \"variable\": \"y\", \"value\": 58257.0}, {\"day\": 444, \"variable\": \"y_pred\", \"value\": 310758.88231955306}, {\"day\": 427, \"variable\": \"y_pred\", \"value\": 286597.20473747223}, {\"day\": 164, \"variable\": \"y_pred\", \"value\": 47735.49690023968}, {\"day\": 234, \"variable\": \"y_pred\", \"value\": 104654.36585188175}, {\"day\": 229, \"variable\": \"y_pred\", \"value\": 100460.91578592852}, {\"day\": 222, \"variable\": \"y_pred\", \"value\": 94598.2666276733}, {\"day\": 327, \"variable\": \"y_pred\", \"value\": 182922.04186860868}, {\"day\": 139, \"variable\": \"y_pred\", \"value\": 29916.788398965684}, {\"day\": 373, \"variable\": \"y_pred\", \"value\": 225029.8706437163}, {\"day\": 220, \"variable\": \"y_pred\", \"value\": 92925.87690466357}, {\"day\": 207, \"variable\": \"y_pred\", \"value\": 82102.56825620747}, {\"day\": 467, \"variable\": \"y_pred\", \"value\": 348687.6791388781}, {\"day\": 418, \"variable\": \"y_pred\", \"value\": 274912.5939973744}, {\"day\": 103, \"variable\": \"y_pred\", \"value\": 9689.270514753913}, {\"day\": 100, \"variable\": \"y_pred\", \"value\": 8401.430564939128}, {\"day\": 137, \"variable\": \"y_pred\", \"value\": 28600.127534560244}, {\"day\": 372, \"variable\": \"y_pred\", \"value\": 224044.69541467167}, {\"day\": 124, \"variable\": \"y_pred\", \"value\": 20535.40818671997}, {\"day\": 227, \"variable\": \"y_pred\", \"value\": 98784.662688236}, {\"day\": 281, \"variable\": \"y_pred\", \"value\": 144036.3692077488}, {\"day\": 357, \"variable\": \"y_pred\", \"value\": 209716.68812013004}, {\"day\": 180, \"variable\": \"y_pred\", \"value\": 60141.14467833171}, {\"day\": 314, \"variable\": \"y_pred\", \"value\": 171785.43400355033}, {\"day\": 135, \"variable\": \"y_pred\", \"value\": 27302.51169276722}, {\"day\": 445, \"variable\": \"y_pred\", \"value\": 312274.57874117466}, {\"day\": 244, \"variable\": \"y_pred\", \"value\": 113046.25616568093}, {\"day\": 171, \"variable\": \"y_pred\", \"value\": 53087.801122378834}, {\"day\": 447, \"variable\": \"y_pred\", \"value\": 315339.83127216925}, {\"day\": 311, \"variable\": \"y_pred\", \"value\": 169239.6841179489}, {\"day\": 217, \"variable\": \"y_pred\", \"value\": 90420.22945056992}, {\"day\": 395, \"variable\": \"y_pred\", \"value\": 247894.1730748599}, {\"day\": 94, \"variable\": \"y_pred\", \"value\": 6049.17447051471}, {\"day\": 284, \"variable\": \"y_pred\", \"value\": 146546.15777940312}, {\"day\": 159, \"variable\": \"y_pred\", \"value\": 43996.46511457201}, {\"day\": 116, \"variable\": \"y_pred\", \"value\": 16052.623723970679}, {\"day\": 348, \"variable\": \"y_pred\", \"value\": 201463.37769909576}, {\"day\": 413, \"variable\": \"y_pred\", \"value\": 268712.7299973059}, {\"day\": 406, \"variable\": \"y_pred\", \"value\": 260352.5245994965}, {\"day\": 95, \"variable\": \"y_pred\", \"value\": 6419.8260155803}, {\"day\": 228, \"variable\": \"y_pred\", \"value\": 99622.6894496412}, {\"day\": 160, \"variable\": \"y_pred\", \"value\": 44738.20962436943}, {\"day\": 196, \"variable\": \"y_pred\", \"value\": 73044.08631845601}, {\"day\": 275, \"variable\": \"y_pred\", \"value\": 139017.6899581878}, {\"day\": 329, \"variable\": \"y_pred\", \"value\": 184654.13589949167}, {\"day\": 63, \"variable\": \"y_pred\", \"value\": -511.1303035841047}, {\"day\": 144, \"variable\": \"y_pred\", \"value\": 33287.624040754294}, {\"day\": 233, \"variable\": \"y_pred\", \"value\": 103815.4277489891}, {\"day\": 425, \"variable\": \"y_pred\", \"value\": 283939.33437124954}, {\"day\": 80, \"variable\": \"y_pred\", \"value\": 1835.014717669521}, {\"day\": 158, \"variable\": \"y_pred\", \"value\": 43257.88097547368}, {\"day\": 141, \"variable\": \"y_pred\", \"value\": 31251.859722197034}, {\"day\": 232, \"variable\": \"y_pred\", \"value\": 102976.59603852063}, {\"day\": 346, \"variable\": \"y_pred\", \"value\": 199658.23740901548}, {\"day\": 252, \"variable\": \"y_pred\", \"value\": 119757.62140374914}, {\"day\": 468, \"variable\": \"y_pred\", \"value\": 350494.1602833837}, {\"day\": 423, \"variable\": \"y_pred\", \"value\": 281317.20574949484}, {\"day\": 208, \"variable\": \"y_pred\", \"value\": 82931.40401236166}, {\"day\": 118, \"variable\": \"y_pred\", \"value\": 17135.656146412064}, {\"day\": 257, \"variable\": \"y_pred\", \"value\": 123949.26823820113}, {\"day\": 465, \"variable\": \"y_pred\", \"value\": 345116.85181538574}, {\"day\": 421, \"variable\": \"y_pred\", \"value\": 278729.9524095077}, {\"day\": 409, \"variable\": \"y_pred\", \"value\": 263891.61395819485}, {\"day\": 317, \"variable\": \"y_pred\", \"value\": 174339.12433617353}, {\"day\": 448, \"variable\": \"y_pred\", \"value\": 316889.6328631111}, {\"day\": 264, \"variable\": \"y_pred\", \"value\": 129812.89764572892}, {\"day\": 330, \"variable\": \"y_pred\", \"value\": 185522.40676593746}, {\"day\": 167, \"variable\": \"y_pred\", \"value\": 50013.516127932686}, {\"day\": 390, \"variable\": \"y_pred\", \"value\": 242477.08844049124}, {\"day\": 433, \"variable\": \"y_pred\", \"value\": 294794.0883802929}, {\"day\": 189, \"variable\": \"y_pred\", \"value\": 67351.06016947079}, {\"day\": 223, \"variable\": \"y_pred\", \"value\": 95434.97332449615}, {\"day\": 360, \"variable\": \"y_pred\", \"value\": 212520.30089478957}, {\"day\": 127, \"variable\": \"y_pred\", \"value\": 22315.55721155758}, {\"day\": 79, \"variable\": \"y_pred\", \"value\": 1608.1545876457676}, {\"day\": 352, \"variable\": \"y_pred\", \"value\": 205104.01179906144}, {\"day\": 288, \"variable\": \"y_pred\", \"value\": 149893.92719947462}, {\"day\": 410, \"variable\": \"y_pred\", \"value\": 265085.731424598}, {\"day\": 422, \"variable\": \"y_pred\", \"value\": 280019.2734131721}, {\"day\": 150, \"variable\": \"y_pred\", \"value\": 37471.023567804375}, {\"day\": 316, \"variable\": \"y_pred\", \"value\": 173486.95116820105}, {\"day\": 170, \"variable\": \"y_pred\", \"value\": 52315.45243157876}, {\"day\": 182, \"variable\": \"y_pred\", \"value\": 61731.137471354625}]}}, {\"mode\": \"vega-lite\"});\n",
       "</script>"
      ],
      "text/plain": [
       "alt.Chart(...)"
      ]
     },
     "execution_count": 30,
     "metadata": {},
     "output_type": "execute_result"
    }
   ],
   "source": [
    "data_poly=pd.DataFrame({'day':X_test.reshape(-1),'y':y_test.reshape(-1),'y_pred':model_poly.predict(X_test).reshape(-1)})\n",
    "alt.Chart(data_poly.melt('day')).mark_line().encode(\n",
    "    x='day',\n",
    "    y='value',\n",
    "    color='variable'\n",
    ").properties(title='test vs predictions').interactive()"
   ]
  },
  {
   "cell_type": "markdown",
   "metadata": {},
   "source": [
    "Podemos apreciar que realmente no existe problemas de overfitting y que nuestro modelo se ajusta a los datos, es interesante ver como el grado polinomial afecta en gran forma el ajuste a los datos, en este caso podemos decir que nuestro mejor modelo sera el **modelo polinomial**"
   ]
  },
  {
   "cell_type": "markdown",
   "metadata": {},
   "source": [
    " <h3 style=\"color:red\">Experimentos</h3>"
   ]
  },
  {
   "cell_type": "markdown",
   "metadata": {},
   "source": [
    "Una vez analizado nuestros modelos analizamos como se comportaran nuestros modelos con nuevos datos. Vamos a predecir datos para los 10 siguientes días apartir del día 2020-04-14 con la finalidad de ver como se comportan nuestros modelos. El objetivo es hacer notar como el modelo lineal no es tan efectivo que el modelo polinomial como lo vimos en la anterior sección ya que el polinomial se ajusta mejor a nuestros datos "
   ]
  },
  {
   "cell_type": "code",
   "execution_count": 139,
   "metadata": {},
   "outputs": [],
   "source": [
    "datos = [i for i in range(469,480)]\n",
    "predicciones= {'{}'.format(i):[model_linear.predict(np.array(i).reshape(1,-1))[0][0],model_poly.predict(np.array(i).reshape(1,-1))[0][0]] for i in datos}\n"
   ]
  },
  {
   "cell_type": "markdown",
   "metadata": {},
   "source": [
    "Una vez realiado las predicciones, realizamos una pequeña tabla, con la finalidad de poder ver de mejor manera las predicciones que obtuvimos y poder notar cual de los dos modelos se comporta mejor con nuevos datos. Procedemos a realizar el nuevo código"
   ]
  },
  {
   "cell_type": "code",
   "execution_count": 198,
   "metadata": {},
   "outputs": [],
   "source": [
    "inicio = datetime(2020,4,14)\n",
    "fin    = datetime(2020,4,24)\n",
    "lista_fechas = [(inicio + timedelta(days=d)).strftime(\"%Y-%m-%d\")\n",
    "                    for d in range((fin - inicio).days + 1)] \n",
    "df_predicciones = pd.DataFrame(predicciones_linear).T\n",
    "df_predicciones.columns = ['linear','polynomial']\n",
    "df_predicciones['linear']=df_predicciones['linear'].astype('int')\n",
    "df_predicciones['polynomial']=df_predicciones['polynomial'].astype('int')\n",
    "df_predicciones['date']=lista_fechas\n"
   ]
  },
  {
   "cell_type": "code",
   "execution_count": 199,
   "metadata": {},
   "outputs": [
    {
     "data": {
      "text/html": [
       "<div>\n",
       "<style scoped>\n",
       "    .dataframe tbody tr th:only-of-type {\n",
       "        vertical-align: middle;\n",
       "    }\n",
       "\n",
       "    .dataframe tbody tr th {\n",
       "        vertical-align: top;\n",
       "    }\n",
       "\n",
       "    .dataframe thead th {\n",
       "        text-align: right;\n",
       "    }\n",
       "</style>\n",
       "<table border=\"1\" class=\"dataframe\">\n",
       "  <thead>\n",
       "    <tr style=\"text-align: right;\">\n",
       "      <th></th>\n",
       "      <th>linear</th>\n",
       "      <th>polynomial</th>\n",
       "      <th>date</th>\n",
       "    </tr>\n",
       "  </thead>\n",
       "  <tbody>\n",
       "    <tr>\n",
       "      <th>469</th>\n",
       "      <td>311900</td>\n",
       "      <td>352314</td>\n",
       "      <td>2020-04-14</td>\n",
       "    </tr>\n",
       "    <tr>\n",
       "      <th>470</th>\n",
       "      <td>312746</td>\n",
       "      <td>354149</td>\n",
       "      <td>2020-04-15</td>\n",
       "    </tr>\n",
       "    <tr>\n",
       "      <th>471</th>\n",
       "      <td>313591</td>\n",
       "      <td>355999</td>\n",
       "      <td>2020-04-16</td>\n",
       "    </tr>\n",
       "    <tr>\n",
       "      <th>472</th>\n",
       "      <td>314436</td>\n",
       "      <td>357863</td>\n",
       "      <td>2020-04-17</td>\n",
       "    </tr>\n",
       "    <tr>\n",
       "      <th>473</th>\n",
       "      <td>315281</td>\n",
       "      <td>359742</td>\n",
       "      <td>2020-04-18</td>\n",
       "    </tr>\n",
       "    <tr>\n",
       "      <th>474</th>\n",
       "      <td>316126</td>\n",
       "      <td>361636</td>\n",
       "      <td>2020-04-19</td>\n",
       "    </tr>\n",
       "    <tr>\n",
       "      <th>475</th>\n",
       "      <td>316971</td>\n",
       "      <td>363545</td>\n",
       "      <td>2020-04-20</td>\n",
       "    </tr>\n",
       "    <tr>\n",
       "      <th>476</th>\n",
       "      <td>317816</td>\n",
       "      <td>365469</td>\n",
       "      <td>2020-04-21</td>\n",
       "    </tr>\n",
       "    <tr>\n",
       "      <th>477</th>\n",
       "      <td>318661</td>\n",
       "      <td>367409</td>\n",
       "      <td>2020-04-22</td>\n",
       "    </tr>\n",
       "    <tr>\n",
       "      <th>478</th>\n",
       "      <td>319507</td>\n",
       "      <td>369364</td>\n",
       "      <td>2020-04-23</td>\n",
       "    </tr>\n",
       "    <tr>\n",
       "      <th>479</th>\n",
       "      <td>320352</td>\n",
       "      <td>371335</td>\n",
       "      <td>2020-04-24</td>\n",
       "    </tr>\n",
       "  </tbody>\n",
       "</table>\n",
       "</div>"
      ],
      "text/plain": [
       "     linear  polynomial        date\n",
       "469  311900      352314  2020-04-14\n",
       "470  312746      354149  2020-04-15\n",
       "471  313591      355999  2020-04-16\n",
       "472  314436      357863  2020-04-17\n",
       "473  315281      359742  2020-04-18\n",
       "474  316126      361636  2020-04-19\n",
       "475  316971      363545  2020-04-20\n",
       "476  317816      365469  2020-04-21\n",
       "477  318661      367409  2020-04-22\n",
       "478  319507      369364  2020-04-23\n",
       "479  320352      371335  2020-04-24"
      ]
     },
     "execution_count": 199,
     "metadata": {},
     "output_type": "execute_result"
    }
   ],
   "source": [
    "df_predicciones"
   ]
  },
  {
   "cell_type": "markdown",
   "metadata": {},
   "source": [
    "Como podemos ver en la tabla presentada, nos damos cuenta que el modelo lineal no se ajusta bien con nuevos datos y eso es debido a que no se ajusta a la curva de contagios como habiamos analizado anteriormente para poder realizar el modelo polinomial. Sin embargo, podemos darnos cuenta que el modelo polinomial se ajusta muy bien a los nuevos datos y predice nuevos contagios de manera creciente. Con una gráfica podemos analizar de mejor manera las predicciones realiadas"
   ]
  },
  {
   "cell_type": "code",
   "execution_count": 202,
   "metadata": {},
   "outputs": [
    {
     "data": {
      "text/html": [
       "\n",
       "<div id=\"altair-viz-b4bc9e8857ae40ceb7c94e810b7c4693\"></div>\n",
       "<script type=\"text/javascript\">\n",
       "  (function(spec, embedOpt){\n",
       "    let outputDiv = document.currentScript.previousElementSibling;\n",
       "    if (outputDiv.id !== \"altair-viz-b4bc9e8857ae40ceb7c94e810b7c4693\") {\n",
       "      outputDiv = document.getElementById(\"altair-viz-b4bc9e8857ae40ceb7c94e810b7c4693\");\n",
       "    }\n",
       "    const paths = {\n",
       "      \"vega\": \"https://cdn.jsdelivr.net/npm//vega@5?noext\",\n",
       "      \"vega-lib\": \"https://cdn.jsdelivr.net/npm//vega-lib?noext\",\n",
       "      \"vega-lite\": \"https://cdn.jsdelivr.net/npm//vega-lite@4.8.1?noext\",\n",
       "      \"vega-embed\": \"https://cdn.jsdelivr.net/npm//vega-embed@6?noext\",\n",
       "    };\n",
       "\n",
       "    function loadScript(lib) {\n",
       "      return new Promise(function(resolve, reject) {\n",
       "        var s = document.createElement('script');\n",
       "        s.src = paths[lib];\n",
       "        s.async = true;\n",
       "        s.onload = () => resolve(paths[lib]);\n",
       "        s.onerror = () => reject(`Error loading script: ${paths[lib]}`);\n",
       "        document.getElementsByTagName(\"head\")[0].appendChild(s);\n",
       "      });\n",
       "    }\n",
       "\n",
       "    function showError(err) {\n",
       "      outputDiv.innerHTML = `<div class=\"error\" style=\"color:red;\">${err}</div>`;\n",
       "      throw err;\n",
       "    }\n",
       "\n",
       "    function displayChart(vegaEmbed) {\n",
       "      vegaEmbed(outputDiv, spec, embedOpt)\n",
       "        .catch(err => showError(`Javascript Error: ${err.message}<br>This usually means there's a typo in your chart specification. See the javascript console for the full traceback.`));\n",
       "    }\n",
       "\n",
       "    if(typeof define === \"function\" && define.amd) {\n",
       "      requirejs.config({paths});\n",
       "      require([\"vega-embed\"], displayChart, err => showError(`Error loading script: ${err.message}`));\n",
       "    } else if (typeof vegaEmbed === \"function\") {\n",
       "      displayChart(vegaEmbed);\n",
       "    } else {\n",
       "      loadScript(\"vega\")\n",
       "        .then(() => loadScript(\"vega-lite\"))\n",
       "        .then(() => loadScript(\"vega-embed\"))\n",
       "        .catch(showError)\n",
       "        .then(() => displayChart(vegaEmbed));\n",
       "    }\n",
       "  })({\"config\": {\"view\": {\"continuousWidth\": 400, \"continuousHeight\": 300}}, \"data\": {\"name\": \"data-90d54a3e140e4572756dce0e6459a3b8\"}, \"mark\": \"point\", \"encoding\": {\"color\": {\"type\": \"nominal\", \"field\": \"variable\"}, \"x\": {\"type\": \"nominal\", \"field\": \"date\"}, \"y\": {\"type\": \"quantitative\", \"field\": \"value\", \"scale\": {\"domain\": [300000, 400000]}}}, \"selection\": {\"selector026\": {\"type\": \"interval\", \"bind\": \"scales\", \"encodings\": [\"x\", \"y\"]}}, \"title\": \"linear vs polynomial\", \"$schema\": \"https://vega.github.io/schema/vega-lite/v4.8.1.json\", \"datasets\": {\"data-90d54a3e140e4572756dce0e6459a3b8\": [{\"date\": \"2020-04-14\", \"variable\": \"linear\", \"value\": 311900}, {\"date\": \"2020-04-15\", \"variable\": \"linear\", \"value\": 312746}, {\"date\": \"2020-04-16\", \"variable\": \"linear\", \"value\": 313591}, {\"date\": \"2020-04-17\", \"variable\": \"linear\", \"value\": 314436}, {\"date\": \"2020-04-18\", \"variable\": \"linear\", \"value\": 315281}, {\"date\": \"2020-04-19\", \"variable\": \"linear\", \"value\": 316126}, {\"date\": \"2020-04-20\", \"variable\": \"linear\", \"value\": 316971}, {\"date\": \"2020-04-21\", \"variable\": \"linear\", \"value\": 317816}, {\"date\": \"2020-04-22\", \"variable\": \"linear\", \"value\": 318661}, {\"date\": \"2020-04-23\", \"variable\": \"linear\", \"value\": 319507}, {\"date\": \"2020-04-24\", \"variable\": \"linear\", \"value\": 320352}, {\"date\": \"2020-04-14\", \"variable\": \"polynomial\", \"value\": 352314}, {\"date\": \"2020-04-15\", \"variable\": \"polynomial\", \"value\": 354149}, {\"date\": \"2020-04-16\", \"variable\": \"polynomial\", \"value\": 355999}, {\"date\": \"2020-04-17\", \"variable\": \"polynomial\", \"value\": 357863}, {\"date\": \"2020-04-18\", \"variable\": \"polynomial\", \"value\": 359742}, {\"date\": \"2020-04-19\", \"variable\": \"polynomial\", \"value\": 361636}, {\"date\": \"2020-04-20\", \"variable\": \"polynomial\", \"value\": 363545}, {\"date\": \"2020-04-21\", \"variable\": \"polynomial\", \"value\": 365469}, {\"date\": \"2020-04-22\", \"variable\": \"polynomial\", \"value\": 367409}, {\"date\": \"2020-04-23\", \"variable\": \"polynomial\", \"value\": 369364}, {\"date\": \"2020-04-24\", \"variable\": \"polynomial\", \"value\": 371335}]}}, {\"mode\": \"vega-lite\"});\n",
       "</script>"
      ],
      "text/plain": [
       "alt.Chart(...)"
      ]
     },
     "execution_count": 202,
     "metadata": {},
     "output_type": "execute_result"
    }
   ],
   "source": [
    "alt.Chart(df_predicciones.melt('date')).mark_point().encode(\n",
    "    x='date:N',\n",
    "    y=alt.Y('value:Q',scale=alt.Scale(domain=(300000,400000))),\n",
    "    color='variable:N'\n",
    ").properties(title='linear vs polynomial').interactive()"
   ]
  },
  {
   "cell_type": "markdown",
   "metadata": {},
   "source": [
    "Como podemos apreciar en la gráfica presentada, podemos notar como el polinomial predice contagios más altos y que realmente tienen sentido con respecto a los datos que tenemos, mientras que por otro lado, el lienar predice contagios menores apartir de los datos que tenemos causando que sus predicciones no sean acertadas"
   ]
  },
  {
   "cell_type": "markdown",
   "metadata": {},
   "source": [
    " <h3 style=\"color:red\">Conclusiones</h3>"
   ]
  },
  {
   "cell_type": "markdown",
   "metadata": {},
   "source": [
    "A lo largo de este informe hemos podido notar que realizar un análisis es un proceso importante para poder darnos cuenta como se estan comportando nuestro conjunto de datos, de la misma manera revisamos dos tipos de regresiones con el fin de ver cual es modelo que mejor se ajusta a nuestros datos y nos dimos cuenta que el **modelo polinomial** resulto ser el mejor modelo para este caso, **ojo** digo para este caso ya que no siempre sera el mejor, eso dependera de como se comportan los datos y del tratamiento que le demos a los mismos. Ademas de este informe, el cual presenta un análisis de todo lo realizado, se decidio tratar de automatizar dicho modelo, con la finaliadd de utilizarlo en producción cuando sea necesario, para ello creamos un entorno virtual con todas las librerias que se necesitan. Dicho programa automatiza el proceso de carga, transformación de datos, obtención de features, target, obtención del mejor modelo, ademas de ello exporta el modelo para poder ser utiliado en cualquier sitio web. A continuación dejo el comando que se requeire para poder ejecutar dicho programa:\n",
    "\n",
    "```\n",
    "python main.py in/covid.csv\n",
    "```\n",
    "\n",
    "Con ello ya no solamente pensamos en utilizar el modelo en cuadernos jupyter sino también utilizamos python de una manera más profesional con el fin de mejorar las skills del lenguaje."
   ]
  }
 ],
 "metadata": {
  "kernelspec": {
   "display_name": "Python 3",
   "language": "python",
   "name": "python3"
  },
  "language_info": {
   "codemirror_mode": {
    "name": "ipython",
    "version": 3
   },
   "file_extension": ".py",
   "mimetype": "text/x-python",
   "name": "python",
   "nbconvert_exporter": "python",
   "pygments_lexer": "ipython3",
   "version": "3.8.3"
  }
 },
 "nbformat": 4,
 "nbformat_minor": 4
}
