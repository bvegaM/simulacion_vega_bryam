{
 "cells": [
  {
   "cell_type": "markdown",
   "id": "d2ae8155",
   "metadata": {},
   "source": [
    "# Informe - Examen Interciclo\n",
    "\n",
    "![ups logo](http://yqsigo.com/wp-content/uploads/2018/04/LOGO-UPS.png)\n",
    "\n",
    "> **Autor:** Bryam Vega <br>\n",
    "> **Materia:** Simulación <br>\n",
    "> **Universidad:** Universidad Politécnica Salesiana (Cuenca-Ecuador) <br>\n",
    "> **Maestro:** Ing. Diego Quisi <br>\n",
    "> **Fecha:** 2021-05-29\n",
    "\n",
    "---------\n",
    "\n",
    "## Introducción\n",
    "\n",
    "El golpe económico de la crisis sanitaria del corona virus no va a ser cosa de semanas, sino de meses. Dentro de una de las etapas importantes posteriores a las elecciones presidenciales son el análisis y tendencia que tiene el actual presidente. Para ello se plantea realizar un sistema de regresión que permita identificar cual es la tendencia en base al manejo de las redes sociales (Twitter y/o Facebook) del presidente.\n",
    "\n",
    "Las regresiones lineales pueden aprenden por sí mismos y en este caso obtener automáticamente esa “recta o ecuación” que buscamos con la tendencia de predicción. Para ello se puede midir el error con respecto a los puntos de entrada y el valor “Y” de salida real."
   ]
  },
  {
   "cell_type": "markdown",
   "id": "8eb4b88d",
   "metadata": {},
   "source": [
    "# Regresión Lineal para predicción de tendencias de post en twitter\n",
    "\n",
    "![twitter logo](http://gimnasiocampestrelosrobles.edu.co/wp-content/uploads/2020/05/twitter.png)\n",
    "\n",
    "Diseñe y desarrolle un modelo y/o script que permita simular el siguiente caso real:\n",
    "\n",
    "Obtener datos de tendencia de twitter o facebook(crawler o webscraping), para ello se puede obtener a través del API.\n",
    "\n",
    "*\t**Title:** Titulo del Post/Twitter\n",
    "*\t**Word count:** la cantidad de palabras del artículo,\n",
    "*\t**of Links:** los enlaces externos que contiene,\n",
    "*\t**of comments:** cantidad de comentarios,\n",
    "*\t**Shares:** compartidos.\n",
    "*\t**HashTag**\n",
    "*\t**Etc**."
   ]
  },
  {
   "cell_type": "markdown",
   "id": "99f717ed",
   "metadata": {
    "heading_collapsed": true
   },
   "source": [
    "## Importar librerias\n",
    "\n",
    "A continuación estan todas las librerías que se utilizaran para realizar la regresión lineal, cada una de estas librerías se iran explicando a lo largo del procedimiento"
   ]
  },
  {
   "cell_type": "code",
   "execution_count": 1,
   "id": "a31bdcee",
   "metadata": {
    "hidden": true
   },
   "outputs": [],
   "source": [
    "import altair as alt\n",
    "import matplotlib.pyplot as plt\n",
    "import nest_asyncio\n",
    "nest_asyncio.apply()\n",
    "import nltk\n",
    "import numpy as np\n",
    "import pandas as pd\n",
    "import seaborn as sns\n",
    "import twint\n",
    "import warnings\n",
    "warnings.filterwarnings('ignore')\n",
    "\n",
    "\n",
    "from nltk.corpus import stopwords\n",
    "stop_words = set(stopwords.words('spanish'))\n",
    "from sklearn.metrics import mean_squared_error\n",
    "from sklearn.model_selection import train_test_split\n",
    "from sklearn.linear_model import LinearRegression\n",
    "from sklearn.model_selection import (\n",
    "    cross_val_score, KFold\n",
    ")\n",
    "from sklearn.linear_model import Lasso\n",
    "from sklearn.linear_model import Ridge\n",
    "\n",
    "from sklearn.linear_model import (\n",
    "    RANSACRegressor,HuberRegressor\n",
    ")\n",
    "\n",
    "from sklearn.pipeline import Pipeline\n",
    "from sklearn.preprocessing import PolynomialFeatures"
   ]
  },
  {
   "cell_type": "markdown",
   "id": "9ed7cd38",
   "metadata": {},
   "source": [
    "## Obtención de tweets\n",
    "\n",
    "Para obtener los tweets de los usuarios utilizaremos el scraping **twint**. Esta herramienta de scraping nos permite obtener tweets de usuarios sin la necesidad de utilizar la API de twitter la cual suele ser un problema obtener, con esto logramos obtener de manera rápida y sencilla tweets de usuarios. Para más información click <a href=\"https://github.com/twintproject/twint\">[aquí]</a>. Con este en cuenta procedemos a realizar la obtención de tweets del actual presidente de la república del Ecuador Guillermo Lasso"
   ]
  },
  {
   "cell_type": "markdown",
   "id": "15de35db",
   "metadata": {
    "hide_input": false
   },
   "source": [
    "### Configuración\n",
    "\n",
    "Lo único que vamos a realizar es algo muy sencillo, se importa la libreria twint el cual esta en la sección de librerias importadas, y con ella procedemos a realizar el scraping mandando parametros que nos serviran para obtener la información. En este caso los parametros son los siguientes:\n",
    "\n",
    "* **username:** Usuario de la persona de twitter\n",
    "* **since:** Fecha desde donde se desea obtener los tweets\n",
    "* **store_json:** Formato json en el que se van a almacenar los tweets (pueden ser en csv cambiando a opción store_csv)\n",
    "* **output:** Dirección en donde se guardara el archivo scrapeado\n",
    "\n",
    "con esto tenemos las siguientes lineas de código:"
   ]
  },
  {
   "cell_type": "code",
   "execution_count": 2,
   "id": "e02ab83d",
   "metadata": {
    "hide_input": true
   },
   "outputs": [],
   "source": [
    "get = 0\n",
    "if get!=0:\n",
    "    c = twint.Config()\n",
    "    c.Username = 'LassoGuillermo'\n",
    "    c.Since = '2020-01-01'\n",
    "    c.Store_json=True\n",
    "    c.Output='./in/data.json'\n",
    "    twint.run.Search(c)"
   ]
  },
  {
   "cell_type": "markdown",
   "id": "5295bea1",
   "metadata": {
    "heading_collapsed": true,
    "hide_input": true
   },
   "source": [
    "## Lectura de los datos obtenidos\n",
    "\n",
    "Una vez obtenido los datos, procedemos a leer los datos que se guardaron en el archivo json utilizando la herramienta pandas. Pandas también cuenta con la posibilidad de leer archivos json de una manera muy sencilla y a continuación lo mostramos"
   ]
  },
  {
   "cell_type": "code",
   "execution_count": 3,
   "id": "2180c411",
   "metadata": {
    "hidden": true,
    "hide_input": true
   },
   "outputs": [
    {
     "data": {
      "text/html": [
       "<div>\n",
       "<style scoped>\n",
       "    .dataframe tbody tr th:only-of-type {\n",
       "        vertical-align: middle;\n",
       "    }\n",
       "\n",
       "    .dataframe tbody tr th {\n",
       "        vertical-align: top;\n",
       "    }\n",
       "\n",
       "    .dataframe thead th {\n",
       "        text-align: right;\n",
       "    }\n",
       "</style>\n",
       "<table border=\"1\" class=\"dataframe\">\n",
       "  <thead>\n",
       "    <tr style=\"text-align: right;\">\n",
       "      <th></th>\n",
       "      <th>id</th>\n",
       "      <th>conversation_id</th>\n",
       "      <th>created_at</th>\n",
       "      <th>date</th>\n",
       "      <th>time</th>\n",
       "      <th>timezone</th>\n",
       "      <th>user_id</th>\n",
       "      <th>username</th>\n",
       "      <th>name</th>\n",
       "      <th>place</th>\n",
       "      <th>...</th>\n",
       "      <th>geo</th>\n",
       "      <th>source</th>\n",
       "      <th>user_rt_id</th>\n",
       "      <th>user_rt</th>\n",
       "      <th>retweet_id</th>\n",
       "      <th>reply_to</th>\n",
       "      <th>retweet_date</th>\n",
       "      <th>translate</th>\n",
       "      <th>trans_src</th>\n",
       "      <th>trans_dest</th>\n",
       "    </tr>\n",
       "  </thead>\n",
       "  <tbody>\n",
       "    <tr>\n",
       "      <th>0</th>\n",
       "      <td>1398781708930068486</td>\n",
       "      <td>1398755815880863744</td>\n",
       "      <td>2021-05-29 18:22:02-05:00</td>\n",
       "      <td>2021-05-29</td>\n",
       "      <td>18:22:02</td>\n",
       "      <td>-500</td>\n",
       "      <td>300390462</td>\n",
       "      <td>lassoguillermo</td>\n",
       "      <td>Guillermo Lasso</td>\n",
       "      <td></td>\n",
       "      <td>...</td>\n",
       "      <td></td>\n",
       "      <td></td>\n",
       "      <td></td>\n",
       "      <td></td>\n",
       "      <td></td>\n",
       "      <td>[{'screen_name': 'DeporteEc', 'name': 'Ministe...</td>\n",
       "      <td></td>\n",
       "      <td></td>\n",
       "      <td></td>\n",
       "      <td></td>\n",
       "    </tr>\n",
       "    <tr>\n",
       "      <th>1</th>\n",
       "      <td>1398754778876977153</td>\n",
       "      <td>1398754778876977152</td>\n",
       "      <td>2021-05-29 16:35:01-05:00</td>\n",
       "      <td>2021-05-29</td>\n",
       "      <td>16:35:01</td>\n",
       "      <td>-500</td>\n",
       "      <td>300390462</td>\n",
       "      <td>lassoguillermo</td>\n",
       "      <td>Guillermo Lasso</td>\n",
       "      <td></td>\n",
       "      <td>...</td>\n",
       "      <td></td>\n",
       "      <td></td>\n",
       "      <td></td>\n",
       "      <td></td>\n",
       "      <td></td>\n",
       "      <td>[]</td>\n",
       "      <td></td>\n",
       "      <td></td>\n",
       "      <td></td>\n",
       "      <td></td>\n",
       "    </tr>\n",
       "    <tr>\n",
       "      <th>2</th>\n",
       "      <td>1398428301719478272</td>\n",
       "      <td>1398428301719478272</td>\n",
       "      <td>2021-05-28 18:57:43-05:00</td>\n",
       "      <td>2021-05-28</td>\n",
       "      <td>18:57:43</td>\n",
       "      <td>-500</td>\n",
       "      <td>300390462</td>\n",
       "      <td>lassoguillermo</td>\n",
       "      <td>Guillermo Lasso</td>\n",
       "      <td></td>\n",
       "      <td>...</td>\n",
       "      <td></td>\n",
       "      <td></td>\n",
       "      <td></td>\n",
       "      <td></td>\n",
       "      <td></td>\n",
       "      <td>[]</td>\n",
       "      <td></td>\n",
       "      <td></td>\n",
       "      <td></td>\n",
       "      <td></td>\n",
       "    </tr>\n",
       "    <tr>\n",
       "      <th>3</th>\n",
       "      <td>1398404559706468355</td>\n",
       "      <td>1398404559706468352</td>\n",
       "      <td>2021-05-28 17:23:22-05:00</td>\n",
       "      <td>2021-05-28</td>\n",
       "      <td>17:23:22</td>\n",
       "      <td>-500</td>\n",
       "      <td>300390462</td>\n",
       "      <td>lassoguillermo</td>\n",
       "      <td>Guillermo Lasso</td>\n",
       "      <td></td>\n",
       "      <td>...</td>\n",
       "      <td></td>\n",
       "      <td></td>\n",
       "      <td></td>\n",
       "      <td></td>\n",
       "      <td></td>\n",
       "      <td>[]</td>\n",
       "      <td></td>\n",
       "      <td></td>\n",
       "      <td></td>\n",
       "      <td></td>\n",
       "    </tr>\n",
       "    <tr>\n",
       "      <th>4</th>\n",
       "      <td>1398334078986903565</td>\n",
       "      <td>1398334078986903552</td>\n",
       "      <td>2021-05-28 12:43:18-05:00</td>\n",
       "      <td>2021-05-28</td>\n",
       "      <td>12:43:18</td>\n",
       "      <td>-500</td>\n",
       "      <td>300390462</td>\n",
       "      <td>lassoguillermo</td>\n",
       "      <td>Guillermo Lasso</td>\n",
       "      <td></td>\n",
       "      <td>...</td>\n",
       "      <td></td>\n",
       "      <td></td>\n",
       "      <td></td>\n",
       "      <td></td>\n",
       "      <td></td>\n",
       "      <td>[]</td>\n",
       "      <td></td>\n",
       "      <td></td>\n",
       "      <td></td>\n",
       "      <td></td>\n",
       "    </tr>\n",
       "  </tbody>\n",
       "</table>\n",
       "<p>5 rows × 36 columns</p>\n",
       "</div>"
      ],
      "text/plain": [
       "                    id      conversation_id                created_at  \\\n",
       "0  1398781708930068486  1398755815880863744 2021-05-29 18:22:02-05:00   \n",
       "1  1398754778876977153  1398754778876977152 2021-05-29 16:35:01-05:00   \n",
       "2  1398428301719478272  1398428301719478272 2021-05-28 18:57:43-05:00   \n",
       "3  1398404559706468355  1398404559706468352 2021-05-28 17:23:22-05:00   \n",
       "4  1398334078986903565  1398334078986903552 2021-05-28 12:43:18-05:00   \n",
       "\n",
       "        date      time  timezone    user_id        username             name  \\\n",
       "0 2021-05-29  18:22:02      -500  300390462  lassoguillermo  Guillermo Lasso   \n",
       "1 2021-05-29  16:35:01      -500  300390462  lassoguillermo  Guillermo Lasso   \n",
       "2 2021-05-28  18:57:43      -500  300390462  lassoguillermo  Guillermo Lasso   \n",
       "3 2021-05-28  17:23:22      -500  300390462  lassoguillermo  Guillermo Lasso   \n",
       "4 2021-05-28  12:43:18      -500  300390462  lassoguillermo  Guillermo Lasso   \n",
       "\n",
       "  place  ... geo source user_rt_id user_rt retweet_id  \\\n",
       "0        ...                                            \n",
       "1        ...                                            \n",
       "2        ...                                            \n",
       "3        ...                                            \n",
       "4        ...                                            \n",
       "\n",
       "                                            reply_to  retweet_date  translate  \\\n",
       "0  [{'screen_name': 'DeporteEc', 'name': 'Ministe...                            \n",
       "1                                                 []                            \n",
       "2                                                 []                            \n",
       "3                                                 []                            \n",
       "4                                                 []                            \n",
       "\n",
       "  trans_src trans_dest  \n",
       "0                       \n",
       "1                       \n",
       "2                       \n",
       "3                       \n",
       "4                       \n",
       "\n",
       "[5 rows x 36 columns]"
      ]
     },
     "execution_count": 3,
     "metadata": {},
     "output_type": "execute_result"
    }
   ],
   "source": [
    "df = pd.read_json('./in/data.json',lines=True)\n",
    "df.head()"
   ]
  },
  {
   "cell_type": "markdown",
   "id": "1ccf7432",
   "metadata": {
    "hidden": true
   },
   "source": [
    "Como podemos notar tenemos una gran cantidad de columnas, sin embargo, no necesitamos todos estos datos debido a que no son necesarios, para ello realizaremos un pre procesamiento a los datos para tenerlos preparados para entrenarlos."
   ]
  },
  {
   "cell_type": "markdown",
   "id": "bdef57e2",
   "metadata": {},
   "source": [
    "## Preprocesamiento\n",
    "\n",
    "Como habiamos comentado en el punto anterior, existe una gran cantidad de columnas ya ademas de ello, los datos estan con basura como comunmente se dice, esto afectará al modelo de regresión que realizaremos, por ello es necesario un preprocesamiento con la finalidad de enriquecer nuestro dataset y dejarlos normalizados."
   ]
  },
  {
   "cell_type": "markdown",
   "id": "ff1c51ee",
   "metadata": {
    "heading_collapsed": true
   },
   "source": [
    "### Obtenemos las columnas que necesitamos\n",
    "Al tener una gran cantidad de columnas, es necesario realizar una reducción y quedarnos solamente con las columnas que realmente nos interesan, con la finalidad de centrarnos en ello y realizar el preprocesamiento solamente a dichos datos.Con esto en cuenta. obtenemos las columnas de interes, pero antes de ello hechemos un vistazo a las columnas que tenemos"
   ]
  },
  {
   "cell_type": "code",
   "execution_count": 4,
   "id": "62e553d5",
   "metadata": {
    "hidden": true
   },
   "outputs": [
    {
     "data": {
      "text/plain": [
       "Index(['id', 'conversation_id', 'created_at', 'date', 'time', 'timezone',\n",
       "       'user_id', 'username', 'name', 'place', 'tweet', 'language', 'mentions',\n",
       "       'urls', 'photos', 'replies_count', 'retweets_count', 'likes_count',\n",
       "       'hashtags', 'cashtags', 'link', 'retweet', 'quote_url', 'video',\n",
       "       'thumbnail', 'near', 'geo', 'source', 'user_rt_id', 'user_rt',\n",
       "       'retweet_id', 'reply_to', 'retweet_date', 'translate', 'trans_src',\n",
       "       'trans_dest'],\n",
       "      dtype='object')"
      ]
     },
     "execution_count": 4,
     "metadata": {},
     "output_type": "execute_result"
    }
   ],
   "source": [
    "df.columns"
   ]
  },
  {
   "cell_type": "markdown",
   "id": "a1b66526",
   "metadata": {
    "hidden": true
   },
   "source": [
    "Con estas columnas podemos ver que algunas columnas que no son tan importantes para nosotros, como el transale, language...etc. entre otras, con esto en cuenta tomamos las siguientes columnas"
   ]
  },
  {
   "cell_type": "code",
   "execution_count": 5,
   "id": "dfafc4e0",
   "metadata": {
    "hidden": true
   },
   "outputs": [
    {
     "data": {
      "text/html": [
       "<div>\n",
       "<style scoped>\n",
       "    .dataframe tbody tr th:only-of-type {\n",
       "        vertical-align: middle;\n",
       "    }\n",
       "\n",
       "    .dataframe tbody tr th {\n",
       "        vertical-align: top;\n",
       "    }\n",
       "\n",
       "    .dataframe thead th {\n",
       "        text-align: right;\n",
       "    }\n",
       "</style>\n",
       "<table border=\"1\" class=\"dataframe\">\n",
       "  <thead>\n",
       "    <tr style=\"text-align: right;\">\n",
       "      <th></th>\n",
       "      <th>date</th>\n",
       "      <th>time</th>\n",
       "      <th>username</th>\n",
       "      <th>tweet</th>\n",
       "      <th>mentions</th>\n",
       "      <th>likes_count</th>\n",
       "      <th>replies_count</th>\n",
       "      <th>retweets_count</th>\n",
       "      <th>hashtags</th>\n",
       "      <th>photos</th>\n",
       "      <th>video</th>\n",
       "    </tr>\n",
       "  </thead>\n",
       "  <tbody>\n",
       "    <tr>\n",
       "      <th>0</th>\n",
       "      <td>2021-05-29</td>\n",
       "      <td>18:22:02</td>\n",
       "      <td>lassoguillermo</td>\n",
       "      <td>@DeporteEc ¡Grande Marizol! Ecuador es cuna de...</td>\n",
       "      <td>[]</td>\n",
       "      <td>48</td>\n",
       "      <td>0</td>\n",
       "      <td>17</td>\n",
       "      <td>[]</td>\n",
       "      <td>[]</td>\n",
       "      <td>0</td>\n",
       "    </tr>\n",
       "    <tr>\n",
       "      <th>1</th>\n",
       "      <td>2021-05-29</td>\n",
       "      <td>16:35:01</td>\n",
       "      <td>lassoguillermo</td>\n",
       "      <td>¡Felicidades @MorejonGlenda! Ella y más deport...</td>\n",
       "      <td>[{'screen_name': 'morejonglenda', 'name': 'gle...</td>\n",
       "      <td>1213</td>\n",
       "      <td>28</td>\n",
       "      <td>216</td>\n",
       "      <td>[gobiernodelencuentro, juntoslologramos]</td>\n",
       "      <td>[]</td>\n",
       "      <td>0</td>\n",
       "    </tr>\n",
       "    <tr>\n",
       "      <th>2</th>\n",
       "      <td>2021-05-28</td>\n",
       "      <td>18:57:43</td>\n",
       "      <td>lassoguillermo</td>\n",
       "      <td>¡Una buena noticia!  @EmbajadaChinaEc me infor...</td>\n",
       "      <td>[{'screen_name': 'embajadachinaec', 'name': 'e...</td>\n",
       "      <td>10703</td>\n",
       "      <td>638</td>\n",
       "      <td>1542</td>\n",
       "      <td>[gobiernodelencuentro, juntoslologramos]</td>\n",
       "      <td>[]</td>\n",
       "      <td>0</td>\n",
       "    </tr>\n",
       "    <tr>\n",
       "      <th>3</th>\n",
       "      <td>2021-05-28</td>\n",
       "      <td>17:23:22</td>\n",
       "      <td>lassoguillermo</td>\n",
       "      <td>¡Primera visita a Guayas! Nos reunimos en la G...</td>\n",
       "      <td>[{'screen_name': 'vicentetaianoa', 'name': 'vi...</td>\n",
       "      <td>2061</td>\n",
       "      <td>134</td>\n",
       "      <td>384</td>\n",
       "      <td>[gobiernodelencuentro]</td>\n",
       "      <td>[https://pbs.twimg.com/media/E2ghhzdXMAo3xgY.jpg]</td>\n",
       "      <td>1</td>\n",
       "    </tr>\n",
       "    <tr>\n",
       "      <th>4</th>\n",
       "      <td>2021-05-28</td>\n",
       "      <td>12:43:18</td>\n",
       "      <td>lassoguillermo</td>\n",
       "      <td>En la reunión con el presidente del @el_BID, M...</td>\n",
       "      <td>[{'screen_name': 'el_bid', 'name': 'banco inte...</td>\n",
       "      <td>1922</td>\n",
       "      <td>134</td>\n",
       "      <td>402</td>\n",
       "      <td>[]</td>\n",
       "      <td>[https://pbs.twimg.com/media/E2fhbe8XMAMIr9x.j...</td>\n",
       "      <td>1</td>\n",
       "    </tr>\n",
       "  </tbody>\n",
       "</table>\n",
       "</div>"
      ],
      "text/plain": [
       "        date      time        username  \\\n",
       "0 2021-05-29  18:22:02  lassoguillermo   \n",
       "1 2021-05-29  16:35:01  lassoguillermo   \n",
       "2 2021-05-28  18:57:43  lassoguillermo   \n",
       "3 2021-05-28  17:23:22  lassoguillermo   \n",
       "4 2021-05-28  12:43:18  lassoguillermo   \n",
       "\n",
       "                                               tweet  \\\n",
       "0  @DeporteEc ¡Grande Marizol! Ecuador es cuna de...   \n",
       "1  ¡Felicidades @MorejonGlenda! Ella y más deport...   \n",
       "2  ¡Una buena noticia!  @EmbajadaChinaEc me infor...   \n",
       "3  ¡Primera visita a Guayas! Nos reunimos en la G...   \n",
       "4  En la reunión con el presidente del @el_BID, M...   \n",
       "\n",
       "                                            mentions  likes_count  \\\n",
       "0                                                 []           48   \n",
       "1  [{'screen_name': 'morejonglenda', 'name': 'gle...         1213   \n",
       "2  [{'screen_name': 'embajadachinaec', 'name': 'e...        10703   \n",
       "3  [{'screen_name': 'vicentetaianoa', 'name': 'vi...         2061   \n",
       "4  [{'screen_name': 'el_bid', 'name': 'banco inte...         1922   \n",
       "\n",
       "   replies_count  retweets_count                                  hashtags  \\\n",
       "0              0              17                                        []   \n",
       "1             28             216  [gobiernodelencuentro, juntoslologramos]   \n",
       "2            638            1542  [gobiernodelencuentro, juntoslologramos]   \n",
       "3            134             384                    [gobiernodelencuentro]   \n",
       "4            134             402                                        []   \n",
       "\n",
       "                                              photos  video  \n",
       "0                                                 []      0  \n",
       "1                                                 []      0  \n",
       "2                                                 []      0  \n",
       "3  [https://pbs.twimg.com/media/E2ghhzdXMAo3xgY.jpg]      1  \n",
       "4  [https://pbs.twimg.com/media/E2fhbe8XMAMIr9x.j...      1  "
      ]
     },
     "execution_count": 5,
     "metadata": {},
     "output_type": "execute_result"
    }
   ],
   "source": [
    "df_twitter = df[['date','time','username','tweet','mentions','likes_count','replies_count','retweets_count','hashtags','photos','video']]\n",
    "df_twitter.head()"
   ]
  },
  {
   "cell_type": "markdown",
   "id": "0347d139",
   "metadata": {
    "hidden": true
   },
   "source": [
    "Con este nuevo conjunto de datos podremos trabajar sin ningun problema y podemos ver que tenemos mucho por hacer, como por ejemplo las listas de hashtags, es mucho mejor dejarlo como cantidad que como una lista."
   ]
  },
  {
   "cell_type": "markdown",
   "id": "44b1732d",
   "metadata": {
    "heading_collapsed": true
   },
   "source": [
    "### Obtenemos el número de hashtags y mentions por tweet\n",
    "\n",
    "Como podemos notar en el dataset, la columna hashtag contiene una lista de hashtags que estan en el tweet, si bien esto esta correcto, para nuestro análisis, es mejor tenerlo como un valor numérico con la finalidad de saber cuantos hashtag utiliza el usuario en un tweet. Con esto en cuenta realizamos la conversión."
   ]
  },
  {
   "cell_type": "code",
   "execution_count": 6,
   "id": "141cbeb5",
   "metadata": {
    "hidden": true,
    "scrolled": false
   },
   "outputs": [
    {
     "data": {
      "text/html": [
       "<div>\n",
       "<style scoped>\n",
       "    .dataframe tbody tr th:only-of-type {\n",
       "        vertical-align: middle;\n",
       "    }\n",
       "\n",
       "    .dataframe tbody tr th {\n",
       "        vertical-align: top;\n",
       "    }\n",
       "\n",
       "    .dataframe thead th {\n",
       "        text-align: right;\n",
       "    }\n",
       "</style>\n",
       "<table border=\"1\" class=\"dataframe\">\n",
       "  <thead>\n",
       "    <tr style=\"text-align: right;\">\n",
       "      <th></th>\n",
       "      <th>date</th>\n",
       "      <th>time</th>\n",
       "      <th>username</th>\n",
       "      <th>tweet</th>\n",
       "      <th>mentions</th>\n",
       "      <th>likes_count</th>\n",
       "      <th>replies_count</th>\n",
       "      <th>retweets_count</th>\n",
       "      <th>hashtags</th>\n",
       "      <th>photos</th>\n",
       "      <th>video</th>\n",
       "    </tr>\n",
       "  </thead>\n",
       "  <tbody>\n",
       "    <tr>\n",
       "      <th>0</th>\n",
       "      <td>2021-05-29</td>\n",
       "      <td>18:22:02</td>\n",
       "      <td>lassoguillermo</td>\n",
       "      <td>@DeporteEc ¡Grande Marizol! Ecuador es cuna de...</td>\n",
       "      <td>[]</td>\n",
       "      <td>48</td>\n",
       "      <td>0</td>\n",
       "      <td>17</td>\n",
       "      <td>0</td>\n",
       "      <td>[]</td>\n",
       "      <td>0</td>\n",
       "    </tr>\n",
       "    <tr>\n",
       "      <th>1</th>\n",
       "      <td>2021-05-29</td>\n",
       "      <td>16:35:01</td>\n",
       "      <td>lassoguillermo</td>\n",
       "      <td>¡Felicidades @MorejonGlenda! Ella y más deport...</td>\n",
       "      <td>[{'screen_name': 'morejonglenda', 'name': 'gle...</td>\n",
       "      <td>1213</td>\n",
       "      <td>28</td>\n",
       "      <td>216</td>\n",
       "      <td>2</td>\n",
       "      <td>[]</td>\n",
       "      <td>0</td>\n",
       "    </tr>\n",
       "    <tr>\n",
       "      <th>2</th>\n",
       "      <td>2021-05-28</td>\n",
       "      <td>18:57:43</td>\n",
       "      <td>lassoguillermo</td>\n",
       "      <td>¡Una buena noticia!  @EmbajadaChinaEc me infor...</td>\n",
       "      <td>[{'screen_name': 'embajadachinaec', 'name': 'e...</td>\n",
       "      <td>10703</td>\n",
       "      <td>638</td>\n",
       "      <td>1542</td>\n",
       "      <td>2</td>\n",
       "      <td>[]</td>\n",
       "      <td>0</td>\n",
       "    </tr>\n",
       "    <tr>\n",
       "      <th>3</th>\n",
       "      <td>2021-05-28</td>\n",
       "      <td>17:23:22</td>\n",
       "      <td>lassoguillermo</td>\n",
       "      <td>¡Primera visita a Guayas! Nos reunimos en la G...</td>\n",
       "      <td>[{'screen_name': 'vicentetaianoa', 'name': 'vi...</td>\n",
       "      <td>2061</td>\n",
       "      <td>134</td>\n",
       "      <td>384</td>\n",
       "      <td>1</td>\n",
       "      <td>[https://pbs.twimg.com/media/E2ghhzdXMAo3xgY.jpg]</td>\n",
       "      <td>1</td>\n",
       "    </tr>\n",
       "    <tr>\n",
       "      <th>4</th>\n",
       "      <td>2021-05-28</td>\n",
       "      <td>12:43:18</td>\n",
       "      <td>lassoguillermo</td>\n",
       "      <td>En la reunión con el presidente del @el_BID, M...</td>\n",
       "      <td>[{'screen_name': 'el_bid', 'name': 'banco inte...</td>\n",
       "      <td>1922</td>\n",
       "      <td>134</td>\n",
       "      <td>402</td>\n",
       "      <td>0</td>\n",
       "      <td>[https://pbs.twimg.com/media/E2fhbe8XMAMIr9x.j...</td>\n",
       "      <td>1</td>\n",
       "    </tr>\n",
       "  </tbody>\n",
       "</table>\n",
       "</div>"
      ],
      "text/plain": [
       "        date      time        username  \\\n",
       "0 2021-05-29  18:22:02  lassoguillermo   \n",
       "1 2021-05-29  16:35:01  lassoguillermo   \n",
       "2 2021-05-28  18:57:43  lassoguillermo   \n",
       "3 2021-05-28  17:23:22  lassoguillermo   \n",
       "4 2021-05-28  12:43:18  lassoguillermo   \n",
       "\n",
       "                                               tweet  \\\n",
       "0  @DeporteEc ¡Grande Marizol! Ecuador es cuna de...   \n",
       "1  ¡Felicidades @MorejonGlenda! Ella y más deport...   \n",
       "2  ¡Una buena noticia!  @EmbajadaChinaEc me infor...   \n",
       "3  ¡Primera visita a Guayas! Nos reunimos en la G...   \n",
       "4  En la reunión con el presidente del @el_BID, M...   \n",
       "\n",
       "                                            mentions  likes_count  \\\n",
       "0                                                 []           48   \n",
       "1  [{'screen_name': 'morejonglenda', 'name': 'gle...         1213   \n",
       "2  [{'screen_name': 'embajadachinaec', 'name': 'e...        10703   \n",
       "3  [{'screen_name': 'vicentetaianoa', 'name': 'vi...         2061   \n",
       "4  [{'screen_name': 'el_bid', 'name': 'banco inte...         1922   \n",
       "\n",
       "   replies_count  retweets_count  hashtags  \\\n",
       "0              0              17         0   \n",
       "1             28             216         2   \n",
       "2            638            1542         2   \n",
       "3            134             384         1   \n",
       "4            134             402         0   \n",
       "\n",
       "                                              photos  video  \n",
       "0                                                 []      0  \n",
       "1                                                 []      0  \n",
       "2                                                 []      0  \n",
       "3  [https://pbs.twimg.com/media/E2ghhzdXMAo3xgY.jpg]      1  \n",
       "4  [https://pbs.twimg.com/media/E2fhbe8XMAMIr9x.j...      1  "
      ]
     },
     "execution_count": 6,
     "metadata": {},
     "output_type": "execute_result"
    }
   ],
   "source": [
    "df_twitter['hashtags'] = df_twitter.hashtags.apply(lambda x:len(x))\n",
    "df_twitter.head()"
   ]
  },
  {
   "cell_type": "markdown",
   "id": "2e444a89",
   "metadata": {
    "hidden": true
   },
   "source": [
    "Con esto podemos notar como ahora la columna hashtag tiene un valor numérico. Ahora el mismo procedimiento lo realizamos con la columna mentions."
   ]
  },
  {
   "cell_type": "code",
   "execution_count": 7,
   "id": "1f2137f1",
   "metadata": {
    "hidden": true
   },
   "outputs": [
    {
     "data": {
      "text/html": [
       "<div>\n",
       "<style scoped>\n",
       "    .dataframe tbody tr th:only-of-type {\n",
       "        vertical-align: middle;\n",
       "    }\n",
       "\n",
       "    .dataframe tbody tr th {\n",
       "        vertical-align: top;\n",
       "    }\n",
       "\n",
       "    .dataframe thead th {\n",
       "        text-align: right;\n",
       "    }\n",
       "</style>\n",
       "<table border=\"1\" class=\"dataframe\">\n",
       "  <thead>\n",
       "    <tr style=\"text-align: right;\">\n",
       "      <th></th>\n",
       "      <th>date</th>\n",
       "      <th>time</th>\n",
       "      <th>username</th>\n",
       "      <th>tweet</th>\n",
       "      <th>mentions</th>\n",
       "      <th>likes_count</th>\n",
       "      <th>replies_count</th>\n",
       "      <th>retweets_count</th>\n",
       "      <th>hashtags</th>\n",
       "      <th>photos</th>\n",
       "      <th>video</th>\n",
       "    </tr>\n",
       "  </thead>\n",
       "  <tbody>\n",
       "    <tr>\n",
       "      <th>0</th>\n",
       "      <td>2021-05-29</td>\n",
       "      <td>18:22:02</td>\n",
       "      <td>lassoguillermo</td>\n",
       "      <td>@DeporteEc ¡Grande Marizol! Ecuador es cuna de...</td>\n",
       "      <td>0</td>\n",
       "      <td>48</td>\n",
       "      <td>0</td>\n",
       "      <td>17</td>\n",
       "      <td>0</td>\n",
       "      <td>[]</td>\n",
       "      <td>0</td>\n",
       "    </tr>\n",
       "    <tr>\n",
       "      <th>1</th>\n",
       "      <td>2021-05-29</td>\n",
       "      <td>16:35:01</td>\n",
       "      <td>lassoguillermo</td>\n",
       "      <td>¡Felicidades @MorejonGlenda! Ella y más deport...</td>\n",
       "      <td>2</td>\n",
       "      <td>1213</td>\n",
       "      <td>28</td>\n",
       "      <td>216</td>\n",
       "      <td>2</td>\n",
       "      <td>[]</td>\n",
       "      <td>0</td>\n",
       "    </tr>\n",
       "    <tr>\n",
       "      <th>2</th>\n",
       "      <td>2021-05-28</td>\n",
       "      <td>18:57:43</td>\n",
       "      <td>lassoguillermo</td>\n",
       "      <td>¡Una buena noticia!  @EmbajadaChinaEc me infor...</td>\n",
       "      <td>1</td>\n",
       "      <td>10703</td>\n",
       "      <td>638</td>\n",
       "      <td>1542</td>\n",
       "      <td>2</td>\n",
       "      <td>[]</td>\n",
       "      <td>0</td>\n",
       "    </tr>\n",
       "    <tr>\n",
       "      <th>3</th>\n",
       "      <td>2021-05-28</td>\n",
       "      <td>17:23:22</td>\n",
       "      <td>lassoguillermo</td>\n",
       "      <td>¡Primera visita a Guayas! Nos reunimos en la G...</td>\n",
       "      <td>1</td>\n",
       "      <td>2061</td>\n",
       "      <td>134</td>\n",
       "      <td>384</td>\n",
       "      <td>1</td>\n",
       "      <td>[https://pbs.twimg.com/media/E2ghhzdXMAo3xgY.jpg]</td>\n",
       "      <td>1</td>\n",
       "    </tr>\n",
       "    <tr>\n",
       "      <th>4</th>\n",
       "      <td>2021-05-28</td>\n",
       "      <td>12:43:18</td>\n",
       "      <td>lassoguillermo</td>\n",
       "      <td>En la reunión con el presidente del @el_BID, M...</td>\n",
       "      <td>1</td>\n",
       "      <td>1922</td>\n",
       "      <td>134</td>\n",
       "      <td>402</td>\n",
       "      <td>0</td>\n",
       "      <td>[https://pbs.twimg.com/media/E2fhbe8XMAMIr9x.j...</td>\n",
       "      <td>1</td>\n",
       "    </tr>\n",
       "  </tbody>\n",
       "</table>\n",
       "</div>"
      ],
      "text/plain": [
       "        date      time        username  \\\n",
       "0 2021-05-29  18:22:02  lassoguillermo   \n",
       "1 2021-05-29  16:35:01  lassoguillermo   \n",
       "2 2021-05-28  18:57:43  lassoguillermo   \n",
       "3 2021-05-28  17:23:22  lassoguillermo   \n",
       "4 2021-05-28  12:43:18  lassoguillermo   \n",
       "\n",
       "                                               tweet  mentions  likes_count  \\\n",
       "0  @DeporteEc ¡Grande Marizol! Ecuador es cuna de...         0           48   \n",
       "1  ¡Felicidades @MorejonGlenda! Ella y más deport...         2         1213   \n",
       "2  ¡Una buena noticia!  @EmbajadaChinaEc me infor...         1        10703   \n",
       "3  ¡Primera visita a Guayas! Nos reunimos en la G...         1         2061   \n",
       "4  En la reunión con el presidente del @el_BID, M...         1         1922   \n",
       "\n",
       "   replies_count  retweets_count  hashtags  \\\n",
       "0              0              17         0   \n",
       "1             28             216         2   \n",
       "2            638            1542         2   \n",
       "3            134             384         1   \n",
       "4            134             402         0   \n",
       "\n",
       "                                              photos  video  \n",
       "0                                                 []      0  \n",
       "1                                                 []      0  \n",
       "2                                                 []      0  \n",
       "3  [https://pbs.twimg.com/media/E2ghhzdXMAo3xgY.jpg]      1  \n",
       "4  [https://pbs.twimg.com/media/E2fhbe8XMAMIr9x.j...      1  "
      ]
     },
     "execution_count": 7,
     "metadata": {},
     "output_type": "execute_result"
    }
   ],
   "source": [
    "df_twitter['mentions'] = df_twitter.mentions.apply(lambda x:len(x))\n",
    "df_twitter.head()"
   ]
  },
  {
   "cell_type": "markdown",
   "id": "64169906",
   "metadata": {
    "hidden": true
   },
   "source": [
    "Con esto ya tenemos valores numéricos y podremos pasar dichos valores a nuestro modelo sin problemas, sin embargo, una cosa muy importante del tweet es la hora en la que se lo realiza, podriamos decir que un tweet es más popular si se lo realiza en horas pico a diferencia si se lo realiza a una hora de la madrugada. Con esto en cuenta procedemos a obtener la hora del time"
   ]
  },
  {
   "cell_type": "markdown",
   "id": "e6cbe96f",
   "metadata": {
    "heading_collapsed": true
   },
   "source": [
    "### Obtenemos las hora del tweet\n",
    "\n",
    "Es importante obtener la hora en la que se realizo el tweet puesto que este juega un papel importante al momento de hacer que el tweet se convierta en viral o quede en el olvido. Con ello procedemos a obtener solamente la hora"
   ]
  },
  {
   "cell_type": "code",
   "execution_count": 8,
   "id": "a2e52bec",
   "metadata": {
    "hidden": true
   },
   "outputs": [
    {
     "data": {
      "text/html": [
       "<div>\n",
       "<style scoped>\n",
       "    .dataframe tbody tr th:only-of-type {\n",
       "        vertical-align: middle;\n",
       "    }\n",
       "\n",
       "    .dataframe tbody tr th {\n",
       "        vertical-align: top;\n",
       "    }\n",
       "\n",
       "    .dataframe thead th {\n",
       "        text-align: right;\n",
       "    }\n",
       "</style>\n",
       "<table border=\"1\" class=\"dataframe\">\n",
       "  <thead>\n",
       "    <tr style=\"text-align: right;\">\n",
       "      <th></th>\n",
       "      <th>date</th>\n",
       "      <th>time</th>\n",
       "      <th>username</th>\n",
       "      <th>tweet</th>\n",
       "      <th>mentions</th>\n",
       "      <th>likes_count</th>\n",
       "      <th>replies_count</th>\n",
       "      <th>retweets_count</th>\n",
       "      <th>hashtags</th>\n",
       "      <th>photos</th>\n",
       "      <th>video</th>\n",
       "    </tr>\n",
       "  </thead>\n",
       "  <tbody>\n",
       "    <tr>\n",
       "      <th>0</th>\n",
       "      <td>2021-05-29</td>\n",
       "      <td>18</td>\n",
       "      <td>lassoguillermo</td>\n",
       "      <td>@DeporteEc ¡Grande Marizol! Ecuador es cuna de...</td>\n",
       "      <td>0</td>\n",
       "      <td>48</td>\n",
       "      <td>0</td>\n",
       "      <td>17</td>\n",
       "      <td>0</td>\n",
       "      <td>[]</td>\n",
       "      <td>0</td>\n",
       "    </tr>\n",
       "    <tr>\n",
       "      <th>1</th>\n",
       "      <td>2021-05-29</td>\n",
       "      <td>16</td>\n",
       "      <td>lassoguillermo</td>\n",
       "      <td>¡Felicidades @MorejonGlenda! Ella y más deport...</td>\n",
       "      <td>2</td>\n",
       "      <td>1213</td>\n",
       "      <td>28</td>\n",
       "      <td>216</td>\n",
       "      <td>2</td>\n",
       "      <td>[]</td>\n",
       "      <td>0</td>\n",
       "    </tr>\n",
       "    <tr>\n",
       "      <th>2</th>\n",
       "      <td>2021-05-28</td>\n",
       "      <td>18</td>\n",
       "      <td>lassoguillermo</td>\n",
       "      <td>¡Una buena noticia!  @EmbajadaChinaEc me infor...</td>\n",
       "      <td>1</td>\n",
       "      <td>10703</td>\n",
       "      <td>638</td>\n",
       "      <td>1542</td>\n",
       "      <td>2</td>\n",
       "      <td>[]</td>\n",
       "      <td>0</td>\n",
       "    </tr>\n",
       "    <tr>\n",
       "      <th>3</th>\n",
       "      <td>2021-05-28</td>\n",
       "      <td>17</td>\n",
       "      <td>lassoguillermo</td>\n",
       "      <td>¡Primera visita a Guayas! Nos reunimos en la G...</td>\n",
       "      <td>1</td>\n",
       "      <td>2061</td>\n",
       "      <td>134</td>\n",
       "      <td>384</td>\n",
       "      <td>1</td>\n",
       "      <td>[https://pbs.twimg.com/media/E2ghhzdXMAo3xgY.jpg]</td>\n",
       "      <td>1</td>\n",
       "    </tr>\n",
       "    <tr>\n",
       "      <th>4</th>\n",
       "      <td>2021-05-28</td>\n",
       "      <td>12</td>\n",
       "      <td>lassoguillermo</td>\n",
       "      <td>En la reunión con el presidente del @el_BID, M...</td>\n",
       "      <td>1</td>\n",
       "      <td>1922</td>\n",
       "      <td>134</td>\n",
       "      <td>402</td>\n",
       "      <td>0</td>\n",
       "      <td>[https://pbs.twimg.com/media/E2fhbe8XMAMIr9x.j...</td>\n",
       "      <td>1</td>\n",
       "    </tr>\n",
       "  </tbody>\n",
       "</table>\n",
       "</div>"
      ],
      "text/plain": [
       "        date  time        username  \\\n",
       "0 2021-05-29    18  lassoguillermo   \n",
       "1 2021-05-29    16  lassoguillermo   \n",
       "2 2021-05-28    18  lassoguillermo   \n",
       "3 2021-05-28    17  lassoguillermo   \n",
       "4 2021-05-28    12  lassoguillermo   \n",
       "\n",
       "                                               tweet  mentions  likes_count  \\\n",
       "0  @DeporteEc ¡Grande Marizol! Ecuador es cuna de...         0           48   \n",
       "1  ¡Felicidades @MorejonGlenda! Ella y más deport...         2         1213   \n",
       "2  ¡Una buena noticia!  @EmbajadaChinaEc me infor...         1        10703   \n",
       "3  ¡Primera visita a Guayas! Nos reunimos en la G...         1         2061   \n",
       "4  En la reunión con el presidente del @el_BID, M...         1         1922   \n",
       "\n",
       "   replies_count  retweets_count  hashtags  \\\n",
       "0              0              17         0   \n",
       "1             28             216         2   \n",
       "2            638            1542         2   \n",
       "3            134             384         1   \n",
       "4            134             402         0   \n",
       "\n",
       "                                              photos  video  \n",
       "0                                                 []      0  \n",
       "1                                                 []      0  \n",
       "2                                                 []      0  \n",
       "3  [https://pbs.twimg.com/media/E2ghhzdXMAo3xgY.jpg]      1  \n",
       "4  [https://pbs.twimg.com/media/E2fhbe8XMAMIr9x.j...      1  "
      ]
     },
     "execution_count": 8,
     "metadata": {},
     "output_type": "execute_result"
    }
   ],
   "source": [
    "df_twitter['time']=df_twitter.time.apply(lambda x:int(x.split(':')[0]))\n",
    "df_twitter.head()"
   ]
  },
  {
   "cell_type": "markdown",
   "id": "5db332b6",
   "metadata": {
    "hidden": true
   },
   "source": [
    "Algo que también juega un rol importante es los archivos media que se usan al realizar un tweet puesto que una imagen dice más que mil palabras como comunmente se lo dice, por lo tanto es buena idea unificar la cantidad de videos e imagines que existen en un tweet"
   ]
  },
  {
   "cell_type": "markdown",
   "id": "894949cd",
   "metadata": {
    "heading_collapsed": true
   },
   "source": [
    "### Unificar cantidad de fotos y videos por tweet\n",
    "\n",
    "Como se dijo anteriormente es muy importante saber si un tweet puso una imagen o un video ya que este juega un rol importante en la popularidad del mismo. Por tanto hemos decidido unificar la cantidad de fotos y videos en una sola columna que se llame media."
   ]
  },
  {
   "cell_type": "code",
   "execution_count": 9,
   "id": "e2ed05a0",
   "metadata": {
    "hidden": true
   },
   "outputs": [
    {
     "data": {
      "text/html": [
       "<div>\n",
       "<style scoped>\n",
       "    .dataframe tbody tr th:only-of-type {\n",
       "        vertical-align: middle;\n",
       "    }\n",
       "\n",
       "    .dataframe tbody tr th {\n",
       "        vertical-align: top;\n",
       "    }\n",
       "\n",
       "    .dataframe thead th {\n",
       "        text-align: right;\n",
       "    }\n",
       "</style>\n",
       "<table border=\"1\" class=\"dataframe\">\n",
       "  <thead>\n",
       "    <tr style=\"text-align: right;\">\n",
       "      <th></th>\n",
       "      <th>date</th>\n",
       "      <th>time</th>\n",
       "      <th>username</th>\n",
       "      <th>tweet</th>\n",
       "      <th>mentions</th>\n",
       "      <th>likes_count</th>\n",
       "      <th>replies_count</th>\n",
       "      <th>retweets_count</th>\n",
       "      <th>hashtags</th>\n",
       "      <th>photos</th>\n",
       "      <th>video</th>\n",
       "      <th>media</th>\n",
       "    </tr>\n",
       "  </thead>\n",
       "  <tbody>\n",
       "    <tr>\n",
       "      <th>0</th>\n",
       "      <td>2021-05-29</td>\n",
       "      <td>18</td>\n",
       "      <td>lassoguillermo</td>\n",
       "      <td>@DeporteEc ¡Grande Marizol! Ecuador es cuna de...</td>\n",
       "      <td>0</td>\n",
       "      <td>48</td>\n",
       "      <td>0</td>\n",
       "      <td>17</td>\n",
       "      <td>0</td>\n",
       "      <td>0</td>\n",
       "      <td>0</td>\n",
       "      <td>0</td>\n",
       "    </tr>\n",
       "    <tr>\n",
       "      <th>1</th>\n",
       "      <td>2021-05-29</td>\n",
       "      <td>16</td>\n",
       "      <td>lassoguillermo</td>\n",
       "      <td>¡Felicidades @MorejonGlenda! Ella y más deport...</td>\n",
       "      <td>2</td>\n",
       "      <td>1213</td>\n",
       "      <td>28</td>\n",
       "      <td>216</td>\n",
       "      <td>2</td>\n",
       "      <td>0</td>\n",
       "      <td>0</td>\n",
       "      <td>0</td>\n",
       "    </tr>\n",
       "    <tr>\n",
       "      <th>2</th>\n",
       "      <td>2021-05-28</td>\n",
       "      <td>18</td>\n",
       "      <td>lassoguillermo</td>\n",
       "      <td>¡Una buena noticia!  @EmbajadaChinaEc me infor...</td>\n",
       "      <td>1</td>\n",
       "      <td>10703</td>\n",
       "      <td>638</td>\n",
       "      <td>1542</td>\n",
       "      <td>2</td>\n",
       "      <td>0</td>\n",
       "      <td>0</td>\n",
       "      <td>0</td>\n",
       "    </tr>\n",
       "    <tr>\n",
       "      <th>3</th>\n",
       "      <td>2021-05-28</td>\n",
       "      <td>17</td>\n",
       "      <td>lassoguillermo</td>\n",
       "      <td>¡Primera visita a Guayas! Nos reunimos en la G...</td>\n",
       "      <td>1</td>\n",
       "      <td>2061</td>\n",
       "      <td>134</td>\n",
       "      <td>384</td>\n",
       "      <td>1</td>\n",
       "      <td>1</td>\n",
       "      <td>1</td>\n",
       "      <td>2</td>\n",
       "    </tr>\n",
       "    <tr>\n",
       "      <th>4</th>\n",
       "      <td>2021-05-28</td>\n",
       "      <td>12</td>\n",
       "      <td>lassoguillermo</td>\n",
       "      <td>En la reunión con el presidente del @el_BID, M...</td>\n",
       "      <td>1</td>\n",
       "      <td>1922</td>\n",
       "      <td>134</td>\n",
       "      <td>402</td>\n",
       "      <td>0</td>\n",
       "      <td>3</td>\n",
       "      <td>1</td>\n",
       "      <td>4</td>\n",
       "    </tr>\n",
       "  </tbody>\n",
       "</table>\n",
       "</div>"
      ],
      "text/plain": [
       "        date  time        username  \\\n",
       "0 2021-05-29    18  lassoguillermo   \n",
       "1 2021-05-29    16  lassoguillermo   \n",
       "2 2021-05-28    18  lassoguillermo   \n",
       "3 2021-05-28    17  lassoguillermo   \n",
       "4 2021-05-28    12  lassoguillermo   \n",
       "\n",
       "                                               tweet  mentions  likes_count  \\\n",
       "0  @DeporteEc ¡Grande Marizol! Ecuador es cuna de...         0           48   \n",
       "1  ¡Felicidades @MorejonGlenda! Ella y más deport...         2         1213   \n",
       "2  ¡Una buena noticia!  @EmbajadaChinaEc me infor...         1        10703   \n",
       "3  ¡Primera visita a Guayas! Nos reunimos en la G...         1         2061   \n",
       "4  En la reunión con el presidente del @el_BID, M...         1         1922   \n",
       "\n",
       "   replies_count  retweets_count  hashtags  photos  video  media  \n",
       "0              0              17         0       0      0      0  \n",
       "1             28             216         2       0      0      0  \n",
       "2            638            1542         2       0      0      0  \n",
       "3            134             384         1       1      1      2  \n",
       "4            134             402         0       3      1      4  "
      ]
     },
     "execution_count": 9,
     "metadata": {},
     "output_type": "execute_result"
    }
   ],
   "source": [
    "df_twitter['photos'] = df_twitter.photos.apply(lambda x:len(x))\n",
    "df_twitter['media'] = df_twitter['photos']+df_twitter['video']\n",
    "df_twitter.head()"
   ]
  },
  {
   "cell_type": "markdown",
   "id": "c4bc0f50",
   "metadata": {
    "hidden": true
   },
   "source": [
    "Una vez realizado dicho proceso, podemos notar como la columna media tiene la suma de fotos y videos del tweet. Ahora procedemos a tokenizar el tweet, con la finalidad de obtener la cantidad de palabras valiosas del tweet y poder analizar si con ello también un tweet puede ser tendencia."
   ]
  },
  {
   "cell_type": "markdown",
   "id": "dcf79fe0",
   "metadata": {
    "heading_collapsed": true
   },
   "source": [
    "### Tokenizamos los tweets\n",
    "\n",
    "Procedemos a realizar la tokenización de palabras para ello hacemos uso de la librería nltk que es muy utilizada para npl. Con esto podemos obtener los tokens del tweet."
   ]
  },
  {
   "cell_type": "code",
   "execution_count": 10,
   "id": "ecf87a6b",
   "metadata": {
    "hidden": true
   },
   "outputs": [
    {
     "data": {
      "text/html": [
       "<div>\n",
       "<style scoped>\n",
       "    .dataframe tbody tr th:only-of-type {\n",
       "        vertical-align: middle;\n",
       "    }\n",
       "\n",
       "    .dataframe tbody tr th {\n",
       "        vertical-align: top;\n",
       "    }\n",
       "\n",
       "    .dataframe thead th {\n",
       "        text-align: right;\n",
       "    }\n",
       "</style>\n",
       "<table border=\"1\" class=\"dataframe\">\n",
       "  <thead>\n",
       "    <tr style=\"text-align: right;\">\n",
       "      <th></th>\n",
       "      <th>date</th>\n",
       "      <th>time</th>\n",
       "      <th>username</th>\n",
       "      <th>tweet</th>\n",
       "      <th>mentions</th>\n",
       "      <th>likes_count</th>\n",
       "      <th>replies_count</th>\n",
       "      <th>retweets_count</th>\n",
       "      <th>hashtags</th>\n",
       "      <th>photos</th>\n",
       "      <th>video</th>\n",
       "      <th>media</th>\n",
       "      <th>n_tokens_tweet</th>\n",
       "    </tr>\n",
       "  </thead>\n",
       "  <tbody>\n",
       "    <tr>\n",
       "      <th>0</th>\n",
       "      <td>2021-05-29</td>\n",
       "      <td>18</td>\n",
       "      <td>lassoguillermo</td>\n",
       "      <td>@DeporteEc ¡Grande Marizol! Ecuador es cuna de...</td>\n",
       "      <td>0</td>\n",
       "      <td>48</td>\n",
       "      <td>0</td>\n",
       "      <td>17</td>\n",
       "      <td>0</td>\n",
       "      <td>0</td>\n",
       "      <td>0</td>\n",
       "      <td>0</td>\n",
       "      <td>16</td>\n",
       "    </tr>\n",
       "    <tr>\n",
       "      <th>1</th>\n",
       "      <td>2021-05-29</td>\n",
       "      <td>16</td>\n",
       "      <td>lassoguillermo</td>\n",
       "      <td>¡Felicidades @MorejonGlenda! Ella y más deport...</td>\n",
       "      <td>2</td>\n",
       "      <td>1213</td>\n",
       "      <td>28</td>\n",
       "      <td>216</td>\n",
       "      <td>2</td>\n",
       "      <td>0</td>\n",
       "      <td>0</td>\n",
       "      <td>0</td>\n",
       "      <td>19</td>\n",
       "    </tr>\n",
       "    <tr>\n",
       "      <th>2</th>\n",
       "      <td>2021-05-28</td>\n",
       "      <td>18</td>\n",
       "      <td>lassoguillermo</td>\n",
       "      <td>¡Una buena noticia!  @EmbajadaChinaEc me infor...</td>\n",
       "      <td>1</td>\n",
       "      <td>10703</td>\n",
       "      <td>638</td>\n",
       "      <td>1542</td>\n",
       "      <td>2</td>\n",
       "      <td>0</td>\n",
       "      <td>0</td>\n",
       "      <td>0</td>\n",
       "      <td>16</td>\n",
       "    </tr>\n",
       "    <tr>\n",
       "      <th>3</th>\n",
       "      <td>2021-05-28</td>\n",
       "      <td>17</td>\n",
       "      <td>lassoguillermo</td>\n",
       "      <td>¡Primera visita a Guayas! Nos reunimos en la G...</td>\n",
       "      <td>1</td>\n",
       "      <td>2061</td>\n",
       "      <td>134</td>\n",
       "      <td>384</td>\n",
       "      <td>1</td>\n",
       "      <td>1</td>\n",
       "      <td>1</td>\n",
       "      <td>2</td>\n",
       "      <td>23</td>\n",
       "    </tr>\n",
       "    <tr>\n",
       "      <th>4</th>\n",
       "      <td>2021-05-28</td>\n",
       "      <td>12</td>\n",
       "      <td>lassoguillermo</td>\n",
       "      <td>En la reunión con el presidente del @el_BID, M...</td>\n",
       "      <td>1</td>\n",
       "      <td>1922</td>\n",
       "      <td>134</td>\n",
       "      <td>402</td>\n",
       "      <td>0</td>\n",
       "      <td>3</td>\n",
       "      <td>1</td>\n",
       "      <td>4</td>\n",
       "      <td>24</td>\n",
       "    </tr>\n",
       "  </tbody>\n",
       "</table>\n",
       "</div>"
      ],
      "text/plain": [
       "        date  time        username  \\\n",
       "0 2021-05-29    18  lassoguillermo   \n",
       "1 2021-05-29    16  lassoguillermo   \n",
       "2 2021-05-28    18  lassoguillermo   \n",
       "3 2021-05-28    17  lassoguillermo   \n",
       "4 2021-05-28    12  lassoguillermo   \n",
       "\n",
       "                                               tweet  mentions  likes_count  \\\n",
       "0  @DeporteEc ¡Grande Marizol! Ecuador es cuna de...         0           48   \n",
       "1  ¡Felicidades @MorejonGlenda! Ella y más deport...         2         1213   \n",
       "2  ¡Una buena noticia!  @EmbajadaChinaEc me infor...         1        10703   \n",
       "3  ¡Primera visita a Guayas! Nos reunimos en la G...         1         2061   \n",
       "4  En la reunión con el presidente del @el_BID, M...         1         1922   \n",
       "\n",
       "   replies_count  retweets_count  hashtags  photos  video  media  \\\n",
       "0              0              17         0       0      0      0   \n",
       "1             28             216         2       0      0      0   \n",
       "2            638            1542         2       0      0      0   \n",
       "3            134             384         1       1      1      2   \n",
       "4            134             402         0       3      1      4   \n",
       "\n",
       "   n_tokens_tweet  \n",
       "0              16  \n",
       "1              19  \n",
       "2              16  \n",
       "3              23  \n",
       "4              24  "
      ]
     },
     "execution_count": 10,
     "metadata": {},
     "output_type": "execute_result"
    }
   ],
   "source": [
    "def tokenize_column(df,column_name):\n",
    "    return (df.dropna()\n",
    "               .apply(lambda row:nltk.wordpunct_tokenize(row[column_name]),axis=1)\n",
    "               .apply(lambda tokens: list(filter(lambda token:token.isalpha(),tokens)))\n",
    "               .apply(lambda tokens: list(map(lambda token: token.lower(),tokens)))\n",
    "               .apply(lambda word_list: list(filter(lambda word: word not in stop_words,word_list)))\n",
    "               .apply(lambda valid_word_list: len(valid_word_list))\n",
    "           )\n",
    "df_twitter['n_tokens_tweet']=tokenize_column(df_twitter,'tweet')\n",
    "df_twitter.head()"
   ]
  },
  {
   "cell_type": "markdown",
   "id": "1fad964f",
   "metadata": {
    "hidden": true
   },
   "source": [
    "Con las palabras tonekizadas, solamente nos queda obtener las columnas que realmente necesitamos para poder terminar con nuesto pre procesamiento."
   ]
  },
  {
   "cell_type": "markdown",
   "id": "fdeaf44e",
   "metadata": {
    "heading_collapsed": true
   },
   "source": [
    "### Obtengo las columnas que necesito\n",
    "\n",
    "Después de haber realizado todo el preprocesamiento, es momento de nuevamente obtener las columnas que necesito ya que algunas columnas se unificarón para formar una sola y otras se transformarón a valores numéricos. Con esto obtenemos el siguiente dataset."
   ]
  },
  {
   "cell_type": "code",
   "execution_count": 11,
   "id": "376d1485",
   "metadata": {
    "hidden": true,
    "hide_input": true
   },
   "outputs": [
    {
     "data": {
      "text/html": [
       "<div>\n",
       "<style scoped>\n",
       "    .dataframe tbody tr th:only-of-type {\n",
       "        vertical-align: middle;\n",
       "    }\n",
       "\n",
       "    .dataframe tbody tr th {\n",
       "        vertical-align: top;\n",
       "    }\n",
       "\n",
       "    .dataframe thead th {\n",
       "        text-align: right;\n",
       "    }\n",
       "</style>\n",
       "<table border=\"1\" class=\"dataframe\">\n",
       "  <thead>\n",
       "    <tr style=\"text-align: right;\">\n",
       "      <th></th>\n",
       "      <th>time</th>\n",
       "      <th>mentions</th>\n",
       "      <th>likes_count</th>\n",
       "      <th>replies_count</th>\n",
       "      <th>hashtags</th>\n",
       "      <th>n_tokens_tweet</th>\n",
       "      <th>media</th>\n",
       "      <th>retweets_count</th>\n",
       "    </tr>\n",
       "  </thead>\n",
       "  <tbody>\n",
       "    <tr>\n",
       "      <th>0</th>\n",
       "      <td>18</td>\n",
       "      <td>0</td>\n",
       "      <td>48</td>\n",
       "      <td>0</td>\n",
       "      <td>0</td>\n",
       "      <td>16</td>\n",
       "      <td>0</td>\n",
       "      <td>17</td>\n",
       "    </tr>\n",
       "    <tr>\n",
       "      <th>1</th>\n",
       "      <td>16</td>\n",
       "      <td>2</td>\n",
       "      <td>1213</td>\n",
       "      <td>28</td>\n",
       "      <td>2</td>\n",
       "      <td>19</td>\n",
       "      <td>0</td>\n",
       "      <td>216</td>\n",
       "    </tr>\n",
       "    <tr>\n",
       "      <th>2</th>\n",
       "      <td>18</td>\n",
       "      <td>1</td>\n",
       "      <td>10703</td>\n",
       "      <td>638</td>\n",
       "      <td>2</td>\n",
       "      <td>16</td>\n",
       "      <td>0</td>\n",
       "      <td>1542</td>\n",
       "    </tr>\n",
       "    <tr>\n",
       "      <th>3</th>\n",
       "      <td>17</td>\n",
       "      <td>1</td>\n",
       "      <td>2061</td>\n",
       "      <td>134</td>\n",
       "      <td>1</td>\n",
       "      <td>23</td>\n",
       "      <td>2</td>\n",
       "      <td>384</td>\n",
       "    </tr>\n",
       "    <tr>\n",
       "      <th>4</th>\n",
       "      <td>12</td>\n",
       "      <td>1</td>\n",
       "      <td>1922</td>\n",
       "      <td>134</td>\n",
       "      <td>0</td>\n",
       "      <td>24</td>\n",
       "      <td>4</td>\n",
       "      <td>402</td>\n",
       "    </tr>\n",
       "  </tbody>\n",
       "</table>\n",
       "</div>"
      ],
      "text/plain": [
       "   time  mentions  likes_count  replies_count  hashtags  n_tokens_tweet  \\\n",
       "0    18         0           48              0         0              16   \n",
       "1    16         2         1213             28         2              19   \n",
       "2    18         1        10703            638         2              16   \n",
       "3    17         1         2061            134         1              23   \n",
       "4    12         1         1922            134         0              24   \n",
       "\n",
       "   media  retweets_count  \n",
       "0      0              17  \n",
       "1      0             216  \n",
       "2      0            1542  \n",
       "3      2             384  \n",
       "4      4             402  "
      ]
     },
     "execution_count": 11,
     "metadata": {},
     "output_type": "execute_result"
    }
   ],
   "source": [
    "df_twitter=df_twitter[['time','mentions','likes_count','replies_count','hashtags','n_tokens_tweet','media','retweets_count']]\n",
    "df_twitter.head()"
   ]
  },
  {
   "cell_type": "markdown",
   "id": "df26a7e2",
   "metadata": {
    "hidden": true
   },
   "source": [
    "Con ello tenemos un nuevo dataset que esta listo para poder ser pasado por un modelo de regresión, por ultimo solamente procederemos a dar un nuevo nombre a las columnas."
   ]
  },
  {
   "cell_type": "markdown",
   "id": "c508dbee",
   "metadata": {
    "heading_collapsed": true
   },
   "source": [
    "### Dando significado a las columnas\n",
    "\n",
    "Dar un significado a las columnas es importante ya que nos permite identificar de manera rápida el significado de cada una de ellas."
   ]
  },
  {
   "cell_type": "code",
   "execution_count": 12,
   "id": "efdd3821",
   "metadata": {
    "hidden": true,
    "hide_input": true
   },
   "outputs": [
    {
     "data": {
      "text/html": [
       "<div>\n",
       "<style scoped>\n",
       "    .dataframe tbody tr th:only-of-type {\n",
       "        vertical-align: middle;\n",
       "    }\n",
       "\n",
       "    .dataframe tbody tr th {\n",
       "        vertical-align: top;\n",
       "    }\n",
       "\n",
       "    .dataframe thead th {\n",
       "        text-align: right;\n",
       "    }\n",
       "</style>\n",
       "<table border=\"1\" class=\"dataframe\">\n",
       "  <thead>\n",
       "    <tr style=\"text-align: right;\">\n",
       "      <th></th>\n",
       "      <th>hour</th>\n",
       "      <th>mentions</th>\n",
       "      <th>likes</th>\n",
       "      <th>replies</th>\n",
       "      <th>hashtags</th>\n",
       "      <th>tweet_token</th>\n",
       "      <th>media</th>\n",
       "      <th>retweets</th>\n",
       "    </tr>\n",
       "  </thead>\n",
       "  <tbody>\n",
       "    <tr>\n",
       "      <th>0</th>\n",
       "      <td>18</td>\n",
       "      <td>0</td>\n",
       "      <td>48</td>\n",
       "      <td>0</td>\n",
       "      <td>0</td>\n",
       "      <td>16</td>\n",
       "      <td>0</td>\n",
       "      <td>17</td>\n",
       "    </tr>\n",
       "    <tr>\n",
       "      <th>1</th>\n",
       "      <td>16</td>\n",
       "      <td>2</td>\n",
       "      <td>1213</td>\n",
       "      <td>28</td>\n",
       "      <td>2</td>\n",
       "      <td>19</td>\n",
       "      <td>0</td>\n",
       "      <td>216</td>\n",
       "    </tr>\n",
       "    <tr>\n",
       "      <th>2</th>\n",
       "      <td>18</td>\n",
       "      <td>1</td>\n",
       "      <td>10703</td>\n",
       "      <td>638</td>\n",
       "      <td>2</td>\n",
       "      <td>16</td>\n",
       "      <td>0</td>\n",
       "      <td>1542</td>\n",
       "    </tr>\n",
       "    <tr>\n",
       "      <th>3</th>\n",
       "      <td>17</td>\n",
       "      <td>1</td>\n",
       "      <td>2061</td>\n",
       "      <td>134</td>\n",
       "      <td>1</td>\n",
       "      <td>23</td>\n",
       "      <td>2</td>\n",
       "      <td>384</td>\n",
       "    </tr>\n",
       "    <tr>\n",
       "      <th>4</th>\n",
       "      <td>12</td>\n",
       "      <td>1</td>\n",
       "      <td>1922</td>\n",
       "      <td>134</td>\n",
       "      <td>0</td>\n",
       "      <td>24</td>\n",
       "      <td>4</td>\n",
       "      <td>402</td>\n",
       "    </tr>\n",
       "  </tbody>\n",
       "</table>\n",
       "</div>"
      ],
      "text/plain": [
       "   hour  mentions  likes  replies  hashtags  tweet_token  media  retweets\n",
       "0    18         0     48        0         0           16      0        17\n",
       "1    16         2   1213       28         2           19      0       216\n",
       "2    18         1  10703      638         2           16      0      1542\n",
       "3    17         1   2061      134         1           23      2       384\n",
       "4    12         1   1922      134         0           24      4       402"
      ]
     },
     "execution_count": 12,
     "metadata": {},
     "output_type": "execute_result"
    }
   ],
   "source": [
    "df_twitter.columns = ['hour','mentions','likes','replies','hashtags','tweet_token','media','retweets']\n",
    "df_twitter.head()"
   ]
  },
  {
   "cell_type": "markdown",
   "id": "309c5224",
   "metadata": {
    "hidden": true
   },
   "source": [
    "Con esto ya tenemos nuestro dataset preprocesado y listo, sin embargo, falta algo muy importante y es eliminar valores nulos, valores en 0 y outliers que afecten al análisis."
   ]
  },
  {
   "cell_type": "markdown",
   "id": "ba4b696d",
   "metadata": {},
   "source": [
    "### Eliminar valores nulos y outliers\n",
    "\n",
    "La eliminación de estos valores nos ayudaran a tener el conjunto de datos menos disperso y ademas de ello permitiran mejorar el modelo de regresión."
   ]
  },
  {
   "cell_type": "code",
   "execution_count": 13,
   "id": "2f5c64c3",
   "metadata": {
    "hide_input": true
   },
   "outputs": [
    {
     "data": {
      "text/html": [
       "<div>\n",
       "<style scoped>\n",
       "    .dataframe tbody tr th:only-of-type {\n",
       "        vertical-align: middle;\n",
       "    }\n",
       "\n",
       "    .dataframe tbody tr th {\n",
       "        vertical-align: top;\n",
       "    }\n",
       "\n",
       "    .dataframe thead th {\n",
       "        text-align: right;\n",
       "    }\n",
       "</style>\n",
       "<table border=\"1\" class=\"dataframe\">\n",
       "  <thead>\n",
       "    <tr style=\"text-align: right;\">\n",
       "      <th></th>\n",
       "      <th>hour</th>\n",
       "      <th>mentions</th>\n",
       "      <th>likes</th>\n",
       "      <th>replies</th>\n",
       "      <th>hashtags</th>\n",
       "      <th>tweet_token</th>\n",
       "      <th>media</th>\n",
       "      <th>retweets</th>\n",
       "    </tr>\n",
       "  </thead>\n",
       "  <tbody>\n",
       "    <tr>\n",
       "      <th>1</th>\n",
       "      <td>16</td>\n",
       "      <td>2</td>\n",
       "      <td>1213</td>\n",
       "      <td>28</td>\n",
       "      <td>2</td>\n",
       "      <td>19</td>\n",
       "      <td>0</td>\n",
       "      <td>216</td>\n",
       "    </tr>\n",
       "    <tr>\n",
       "      <th>2</th>\n",
       "      <td>18</td>\n",
       "      <td>1</td>\n",
       "      <td>10703</td>\n",
       "      <td>638</td>\n",
       "      <td>2</td>\n",
       "      <td>16</td>\n",
       "      <td>0</td>\n",
       "      <td>1542</td>\n",
       "    </tr>\n",
       "    <tr>\n",
       "      <th>3</th>\n",
       "      <td>17</td>\n",
       "      <td>1</td>\n",
       "      <td>2061</td>\n",
       "      <td>134</td>\n",
       "      <td>1</td>\n",
       "      <td>23</td>\n",
       "      <td>2</td>\n",
       "      <td>384</td>\n",
       "    </tr>\n",
       "    <tr>\n",
       "      <th>4</th>\n",
       "      <td>12</td>\n",
       "      <td>1</td>\n",
       "      <td>1922</td>\n",
       "      <td>134</td>\n",
       "      <td>0</td>\n",
       "      <td>24</td>\n",
       "      <td>4</td>\n",
       "      <td>402</td>\n",
       "    </tr>\n",
       "    <tr>\n",
       "      <th>5</th>\n",
       "      <td>19</td>\n",
       "      <td>2</td>\n",
       "      <td>2976</td>\n",
       "      <td>248</td>\n",
       "      <td>2</td>\n",
       "      <td>23</td>\n",
       "      <td>5</td>\n",
       "      <td>546</td>\n",
       "    </tr>\n",
       "  </tbody>\n",
       "</table>\n",
       "</div>"
      ],
      "text/plain": [
       "   hour  mentions  likes  replies  hashtags  tweet_token  media  retweets\n",
       "1    16         2   1213       28         2           19      0       216\n",
       "2    18         1  10703      638         2           16      0      1542\n",
       "3    17         1   2061      134         1           23      2       384\n",
       "4    12         1   1922      134         0           24      4       402\n",
       "5    19         2   2976      248         2           23      5       546"
      ]
     },
     "execution_count": 13,
     "metadata": {},
     "output_type": "execute_result"
    }
   ],
   "source": [
    "df_twitter = df_twitter.drop(df_twitter[df_twitter['retweets']==0].index,axis=0)\n",
    "df_twitter = df_twitter.drop(df_twitter[df_twitter['likes']==0].index,axis=0)\n",
    "df_twitter = df_twitter.drop(df_twitter[df_twitter['replies']==0].index,axis=0)\n",
    "df_twitter.head()"
   ]
  },
  {
   "cell_type": "markdown",
   "id": "44ce32ff",
   "metadata": {},
   "source": [
    "Una vez eliminado hemos terminado de realizar nuestro preprocesamiento y ahora es necesario realizar un pequeño análisis con el fin de determinar las entradas que usaremos para nuestro modelo de regresión."
   ]
  },
  {
   "cell_type": "markdown",
   "id": "64bdfffb",
   "metadata": {},
   "source": [
    "## Análisis Exploratorio"
   ]
  },
  {
   "cell_type": "markdown",
   "id": "daa6503f",
   "metadata": {},
   "source": [
    "## El número de likes y replies influyen en los retweets\n",
    "\n",
    "Es dado que a medida que más likes tenga un tweet más posibilidades tiene de que el mismo sea popular y sea tendencia, igualmente con su número de replies, ya que entre más replies singifica que más gente vio el tweet. Vamos a comprobarlo con una sencilla gráfica."
   ]
  },
  {
   "cell_type": "code",
   "execution_count": 14,
   "id": "ff471d49",
   "metadata": {
    "hide_input": true
   },
   "outputs": [],
   "source": [
    "likes = alt.Chart(df_twitter.sample(500)).mark_point(color='orange').encode(\n",
    "    x='likes',\n",
    "    y='retweets'\n",
    ").properties(title='retweets por likes').interactive()\n",
    "\n",
    "replies = alt.Chart(df_twitter.sample(500)).mark_point(color='red').encode(\n",
    "    x='replies',\n",
    "    y='retweets'\n",
    ").properties(title='retweets por replies').interactive()"
   ]
  },
  {
   "cell_type": "code",
   "execution_count": 15,
   "id": "1b92a427",
   "metadata": {
    "hide_input": true
   },
   "outputs": [
    {
     "data": {
      "text/html": [
       "\n",
       "<div id=\"altair-viz-8b85906eee234065a0eebedba5d63dd0\"></div>\n",
       "<script type=\"text/javascript\">\n",
       "  (function(spec, embedOpt){\n",
       "    let outputDiv = document.currentScript.previousElementSibling;\n",
       "    if (outputDiv.id !== \"altair-viz-8b85906eee234065a0eebedba5d63dd0\") {\n",
       "      outputDiv = document.getElementById(\"altair-viz-8b85906eee234065a0eebedba5d63dd0\");\n",
       "    }\n",
       "    const paths = {\n",
       "      \"vega\": \"https://cdn.jsdelivr.net/npm//vega@5?noext\",\n",
       "      \"vega-lib\": \"https://cdn.jsdelivr.net/npm//vega-lib?noext\",\n",
       "      \"vega-lite\": \"https://cdn.jsdelivr.net/npm//vega-lite@4.8.1?noext\",\n",
       "      \"vega-embed\": \"https://cdn.jsdelivr.net/npm//vega-embed@6?noext\",\n",
       "    };\n",
       "\n",
       "    function loadScript(lib) {\n",
       "      return new Promise(function(resolve, reject) {\n",
       "        var s = document.createElement('script');\n",
       "        s.src = paths[lib];\n",
       "        s.async = true;\n",
       "        s.onload = () => resolve(paths[lib]);\n",
       "        s.onerror = () => reject(`Error loading script: ${paths[lib]}`);\n",
       "        document.getElementsByTagName(\"head\")[0].appendChild(s);\n",
       "      });\n",
       "    }\n",
       "\n",
       "    function showError(err) {\n",
       "      outputDiv.innerHTML = `<div class=\"error\" style=\"color:red;\">${err}</div>`;\n",
       "      throw err;\n",
       "    }\n",
       "\n",
       "    function displayChart(vegaEmbed) {\n",
       "      vegaEmbed(outputDiv, spec, embedOpt)\n",
       "        .catch(err => showError(`Javascript Error: ${err.message}<br>This usually means there's a typo in your chart specification. See the javascript console for the full traceback.`));\n",
       "    }\n",
       "\n",
       "    if(typeof define === \"function\" && define.amd) {\n",
       "      requirejs.config({paths});\n",
       "      require([\"vega-embed\"], displayChart, err => showError(`Error loading script: ${err.message}`));\n",
       "    } else if (typeof vegaEmbed === \"function\") {\n",
       "      displayChart(vegaEmbed);\n",
       "    } else {\n",
       "      loadScript(\"vega\")\n",
       "        .then(() => loadScript(\"vega-lite\"))\n",
       "        .then(() => loadScript(\"vega-embed\"))\n",
       "        .catch(showError)\n",
       "        .then(() => displayChart(vegaEmbed));\n",
       "    }\n",
       "  })({\"config\": {\"view\": {\"continuousWidth\": 400, \"continuousHeight\": 300}}, \"vconcat\": [{\"data\": {\"name\": \"data-58ef3feba98d016dad4f77a7f7578f67\"}, \"mark\": {\"type\": \"point\", \"color\": \"orange\"}, \"encoding\": {\"x\": {\"type\": \"quantitative\", \"field\": \"likes\"}, \"y\": {\"type\": \"quantitative\", \"field\": \"retweets\"}}, \"selection\": {\"selector001\": {\"type\": \"interval\", \"bind\": \"scales\", \"encodings\": [\"x\", \"y\"]}}, \"title\": \"retweets por likes\"}, {\"data\": {\"name\": \"data-6dab1c321ab56cc83cfe572d61731cfb\"}, \"mark\": {\"type\": \"point\", \"color\": \"red\"}, \"encoding\": {\"x\": {\"type\": \"quantitative\", \"field\": \"replies\"}, \"y\": {\"type\": \"quantitative\", \"field\": \"retweets\"}}, \"selection\": {\"selector002\": {\"type\": \"interval\", \"bind\": \"scales\", \"encodings\": [\"x\", \"y\"]}}, \"title\": \"retweets por replies\"}], \"$schema\": \"https://vega.github.io/schema/vega-lite/v4.8.1.json\", \"datasets\": {\"data-58ef3feba98d016dad4f77a7f7578f67\": [{\"hour\": 18, \"mentions\": 0, \"likes\": 1969, \"replies\": 213, \"hashtags\": 0, \"tweet_token\": 23, \"media\": 1, \"retweets\": 388}, {\"hour\": 11, \"mentions\": 0, \"likes\": 2, \"replies\": 2, \"hashtags\": 1, \"tweet_token\": 23, \"media\": 0, \"retweets\": 1}, {\"hour\": 19, \"mentions\": 0, \"likes\": 34, \"replies\": 3, \"hashtags\": 0, \"tweet_token\": 1, \"media\": 0, \"retweets\": 5}, {\"hour\": 13, \"mentions\": 0, \"likes\": 31, \"replies\": 3, \"hashtags\": 0, \"tweet_token\": 2, \"media\": 0, \"retweets\": 1}, {\"hour\": 10, \"mentions\": 0, \"likes\": 2072, \"replies\": 156, \"hashtags\": 0, \"tweet_token\": 25, \"media\": 0, \"retweets\": 398}, {\"hour\": 14, \"mentions\": 1, \"likes\": 7439, \"replies\": 1185, \"hashtags\": 0, \"tweet_token\": 17, \"media\": 0, \"retweets\": 1599}, {\"hour\": 12, \"mentions\": 0, \"likes\": 17, \"replies\": 1, \"hashtags\": 0, \"tweet_token\": 5, \"media\": 0, \"retweets\": 2}, {\"hour\": 21, \"mentions\": 1, \"likes\": 116, \"replies\": 31, \"hashtags\": 1, \"tweet_token\": 20, \"media\": 1, \"retweets\": 36}, {\"hour\": 17, \"mentions\": 0, \"likes\": 2675, \"replies\": 484, \"hashtags\": 1, \"tweet_token\": 24, \"media\": 1, \"retweets\": 709}, {\"hour\": 14, \"mentions\": 1, \"likes\": 5675, \"replies\": 327, \"hashtags\": 0, \"tweet_token\": 25, \"media\": 2, \"retweets\": 1270}, {\"hour\": 23, \"mentions\": 0, \"likes\": 1999, \"replies\": 139, \"hashtags\": 0, \"tweet_token\": 19, \"media\": 0, \"retweets\": 507}, {\"hour\": 17, \"mentions\": 0, \"likes\": 106, \"replies\": 9, \"hashtags\": 0, \"tweet_token\": 7, \"media\": 0, \"retweets\": 9}, {\"hour\": 21, \"mentions\": 0, \"likes\": 45, \"replies\": 4, \"hashtags\": 0, \"tweet_token\": 3, \"media\": 0, \"retweets\": 14}, {\"hour\": 16, \"mentions\": 0, \"likes\": 10, \"replies\": 1, \"hashtags\": 0, \"tweet_token\": 1, \"media\": 0, \"retweets\": 1}, {\"hour\": 10, \"mentions\": 0, \"likes\": 4, \"replies\": 1, \"hashtags\": 0, \"tweet_token\": 12, \"media\": 0, \"retweets\": 1}, {\"hour\": 12, \"mentions\": 0, \"likes\": 777, \"replies\": 65, \"hashtags\": 1, \"tweet_token\": 24, \"media\": 1, \"retweets\": 203}, {\"hour\": 11, \"mentions\": 0, \"likes\": 5461, \"replies\": 269, \"hashtags\": 0, \"tweet_token\": 21, \"media\": 0, \"retweets\": 634}, {\"hour\": 15, \"mentions\": 0, \"likes\": 9, \"replies\": 1, \"hashtags\": 0, \"tweet_token\": 9, \"media\": 0, \"retweets\": 2}, {\"hour\": 9, \"mentions\": 0, \"likes\": 18, \"replies\": 1, \"hashtags\": 0, \"tweet_token\": 19, \"media\": 0, \"retweets\": 1}, {\"hour\": 20, \"mentions\": 0, \"likes\": 243, \"replies\": 11, \"hashtags\": 1, \"tweet_token\": 8, \"media\": 0, \"retweets\": 12}, {\"hour\": 18, \"mentions\": 0, \"likes\": 43, \"replies\": 8, \"hashtags\": 0, \"tweet_token\": 4, \"media\": 0, \"retweets\": 8}, {\"hour\": 20, \"mentions\": 0, \"likes\": 84, \"replies\": 5, \"hashtags\": 0, \"tweet_token\": 21, \"media\": 3, \"retweets\": 24}, {\"hour\": 18, \"mentions\": 0, \"likes\": 674, \"replies\": 150, \"hashtags\": 1, \"tweet_token\": 21, \"media\": 1, \"retweets\": 196}, {\"hour\": 11, \"mentions\": 0, \"likes\": 4, \"replies\": 1, \"hashtags\": 0, \"tweet_token\": 23, \"media\": 0, \"retweets\": 1}, {\"hour\": 20, \"mentions\": 0, \"likes\": 486, \"replies\": 67, \"hashtags\": 2, \"tweet_token\": 22, \"media\": 2, \"retweets\": 136}, {\"hour\": 12, \"mentions\": 0, \"likes\": 37, \"replies\": 3, \"hashtags\": 0, \"tweet_token\": 2, \"media\": 0, \"retweets\": 6}, {\"hour\": 12, \"mentions\": 0, \"likes\": 361, \"replies\": 51, \"hashtags\": 0, \"tweet_token\": 10, \"media\": 0, \"retweets\": 104}, {\"hour\": 13, \"mentions\": 2, \"likes\": 709, \"replies\": 60, \"hashtags\": 2, \"tweet_token\": 20, \"media\": 4, \"retweets\": 196}, {\"hour\": 10, \"mentions\": 2, \"likes\": 226, \"replies\": 36, \"hashtags\": 1, \"tweet_token\": 13, \"media\": 0, \"retweets\": 67}, {\"hour\": 13, \"mentions\": 0, \"likes\": 11, \"replies\": 2, \"hashtags\": 0, \"tweet_token\": 14, \"media\": 0, \"retweets\": 2}, {\"hour\": 12, \"mentions\": 0, \"likes\": 3, \"replies\": 2, \"hashtags\": 0, \"tweet_token\": 1, \"media\": 0, \"retweets\": 1}, {\"hour\": 0, \"mentions\": 0, \"likes\": 6602, \"replies\": 940, \"hashtags\": 1, \"tweet_token\": 13, \"media\": 2, \"retweets\": 945}, {\"hour\": 21, \"mentions\": 1, \"likes\": 42, \"replies\": 23, \"hashtags\": 0, \"tweet_token\": 10, \"media\": 0, \"retweets\": 20}, {\"hour\": 16, \"mentions\": 0, \"likes\": 6, \"replies\": 1, \"hashtags\": 0, \"tweet_token\": 1, \"media\": 0, \"retweets\": 1}, {\"hour\": 14, \"mentions\": 0, \"likes\": 5036, \"replies\": 331, \"hashtags\": 0, \"tweet_token\": 27, \"media\": 4, \"retweets\": 652}, {\"hour\": 11, \"mentions\": 0, \"likes\": 1669, \"replies\": 565, \"hashtags\": 2, \"tweet_token\": 9, \"media\": 1, \"retweets\": 577}, {\"hour\": 17, \"mentions\": 0, \"likes\": 4282, \"replies\": 205, \"hashtags\": 1, \"tweet_token\": 8, \"media\": 2, \"retweets\": 1038}, {\"hour\": 15, \"mentions\": 0, \"likes\": 10, \"replies\": 3, \"hashtags\": 0, \"tweet_token\": 10, \"media\": 0, \"retweets\": 1}, {\"hour\": 13, \"mentions\": 0, \"likes\": 494, \"replies\": 46, \"hashtags\": 2, \"tweet_token\": 16, \"media\": 0, \"retweets\": 143}, {\"hour\": 10, \"mentions\": 0, \"likes\": 1104, \"replies\": 48, \"hashtags\": 2, \"tweet_token\": 10, \"media\": 2, \"retweets\": 191}, {\"hour\": 20, \"mentions\": 0, \"likes\": 383, \"replies\": 139, \"hashtags\": 1, \"tweet_token\": 25, \"media\": 1, \"retweets\": 83}, {\"hour\": 14, \"mentions\": 0, \"likes\": 15, \"replies\": 4, \"hashtags\": 0, \"tweet_token\": 17, \"media\": 0, \"retweets\": 1}, {\"hour\": 22, \"mentions\": 0, \"likes\": 52, \"replies\": 1, \"hashtags\": 0, \"tweet_token\": 11, \"media\": 0, \"retweets\": 12}, {\"hour\": 6, \"mentions\": 3, \"likes\": 1082, \"replies\": 41, \"hashtags\": 0, \"tweet_token\": 16, \"media\": 2, \"retweets\": 130}, {\"hour\": 13, \"mentions\": 1, \"likes\": 1001, \"replies\": 63, \"hashtags\": 0, \"tweet_token\": 23, \"media\": 0, \"retweets\": 217}, {\"hour\": 16, \"mentions\": 0, \"likes\": 36, \"replies\": 4, \"hashtags\": 0, \"tweet_token\": 23, \"media\": 0, \"retweets\": 15}, {\"hour\": 9, \"mentions\": 1, \"likes\": 474, \"replies\": 62, \"hashtags\": 2, \"tweet_token\": 18, \"media\": 1, \"retweets\": 116}, {\"hour\": 7, \"mentions\": 1, \"likes\": 883, \"replies\": 89, \"hashtags\": 1, \"tweet_token\": 18, \"media\": 0, \"retweets\": 239}, {\"hour\": 22, \"mentions\": 1, \"likes\": 16398, \"replies\": 707, \"hashtags\": 0, \"tweet_token\": 21, \"media\": 0, \"retweets\": 3870}, {\"hour\": 12, \"mentions\": 0, \"likes\": 4, \"replies\": 1, \"hashtags\": 0, \"tweet_token\": 13, \"media\": 0, \"retweets\": 2}, {\"hour\": 19, \"mentions\": 1, \"likes\": 793, \"replies\": 87, \"hashtags\": 2, \"tweet_token\": 23, \"media\": 4, \"retweets\": 195}, {\"hour\": 13, \"mentions\": 0, \"likes\": 1803, \"replies\": 237, \"hashtags\": 2, \"tweet_token\": 16, \"media\": 0, \"retweets\": 437}, {\"hour\": 18, \"mentions\": 2, \"likes\": 631, \"replies\": 90, \"hashtags\": 2, \"tweet_token\": 14, \"media\": 1, \"retweets\": 194}, {\"hour\": 11, \"mentions\": 1, \"likes\": 201, \"replies\": 7, \"hashtags\": 0, \"tweet_token\": 8, \"media\": 0, \"retweets\": 31}, {\"hour\": 18, \"mentions\": 0, \"likes\": 1124, \"replies\": 153, \"hashtags\": 1, \"tweet_token\": 25, \"media\": 1, \"retweets\": 338}, {\"hour\": 11, \"mentions\": 1, \"likes\": 803, \"replies\": 52, \"hashtags\": 0, \"tweet_token\": 21, \"media\": 2, \"retweets\": 166}, {\"hour\": 15, \"mentions\": 0, \"likes\": 325, \"replies\": 47, \"hashtags\": 2, \"tweet_token\": 14, \"media\": 1, \"retweets\": 137}, {\"hour\": 13, \"mentions\": 0, \"likes\": 494, \"replies\": 46, \"hashtags\": 2, \"tweet_token\": 16, \"media\": 0, \"retweets\": 143}, {\"hour\": 12, \"mentions\": 0, \"likes\": 4, \"replies\": 2, \"hashtags\": 0, \"tweet_token\": 4, \"media\": 0, \"retweets\": 3}, {\"hour\": 12, \"mentions\": 0, \"likes\": 302, \"replies\": 44, \"hashtags\": 0, \"tweet_token\": 21, \"media\": 1, \"retweets\": 113}, {\"hour\": 13, \"mentions\": 0, \"likes\": 22, \"replies\": 3, \"hashtags\": 0, \"tweet_token\": 3, \"media\": 0, \"retweets\": 6}, {\"hour\": 13, \"mentions\": 0, \"likes\": 83, \"replies\": 3, \"hashtags\": 0, \"tweet_token\": 1, \"media\": 0, \"retweets\": 4}, {\"hour\": 11, \"mentions\": 0, \"likes\": 24, \"replies\": 2, \"hashtags\": 0, \"tweet_token\": 1, \"media\": 0, \"retweets\": 2}, {\"hour\": 14, \"mentions\": 0, \"likes\": 40, \"replies\": 9, \"hashtags\": 0, \"tweet_token\": 23, \"media\": 0, \"retweets\": 1}, {\"hour\": 7, \"mentions\": 1, \"likes\": 1110, \"replies\": 72, \"hashtags\": 0, \"tweet_token\": 23, \"media\": 0, \"retweets\": 244}, {\"hour\": 0, \"mentions\": 0, \"likes\": 743, \"replies\": 93, \"hashtags\": 0, \"tweet_token\": 25, \"media\": 0, \"retweets\": 147}, {\"hour\": 13, \"mentions\": 2, \"likes\": 237, \"replies\": 51, \"hashtags\": 1, \"tweet_token\": 20, \"media\": 3, \"retweets\": 67}, {\"hour\": 12, \"mentions\": 0, \"likes\": 1148, \"replies\": 112, \"hashtags\": 3, \"tweet_token\": 23, \"media\": 1, \"retweets\": 334}, {\"hour\": 15, \"mentions\": 0, \"likes\": 8, \"replies\": 3, \"hashtags\": 0, \"tweet_token\": 12, \"media\": 0, \"retweets\": 3}, {\"hour\": 11, \"mentions\": 0, \"likes\": 96, \"replies\": 7, \"hashtags\": 0, \"tweet_token\": 11, \"media\": 0, \"retweets\": 14}, {\"hour\": 13, \"mentions\": 0, \"likes\": 26, \"replies\": 3, \"hashtags\": 0, \"tweet_token\": 13, \"media\": 0, \"retweets\": 4}, {\"hour\": 20, \"mentions\": 1, \"likes\": 164, \"replies\": 44, \"hashtags\": 0, \"tweet_token\": 25, \"media\": 1, \"retweets\": 62}, {\"hour\": 10, \"mentions\": 1, \"likes\": 282, \"replies\": 34, \"hashtags\": 1, \"tweet_token\": 21, \"media\": 0, \"retweets\": 72}, {\"hour\": 10, \"mentions\": 0, \"likes\": 217, \"replies\": 35, \"hashtags\": 0, \"tweet_token\": 17, \"media\": 0, \"retweets\": 49}, {\"hour\": 9, \"mentions\": 1, \"likes\": 2115, \"replies\": 152, \"hashtags\": 0, \"tweet_token\": 18, \"media\": 0, \"retweets\": 301}, {\"hour\": 20, \"mentions\": 0, \"likes\": 2150, \"replies\": 81, \"hashtags\": 1, \"tweet_token\": 15, \"media\": 0, \"retweets\": 550}, {\"hour\": 9, \"mentions\": 1, \"likes\": 6229, \"replies\": 496, \"hashtags\": 1, \"tweet_token\": 20, \"media\": 0, \"retweets\": 846}, {\"hour\": 17, \"mentions\": 0, \"likes\": 7, \"replies\": 1, \"hashtags\": 0, \"tweet_token\": 1, \"media\": 0, \"retweets\": 2}, {\"hour\": 15, \"mentions\": 0, \"likes\": 13, \"replies\": 4, \"hashtags\": 0, \"tweet_token\": 5, \"media\": 0, \"retweets\": 3}, {\"hour\": 16, \"mentions\": 0, \"likes\": 36, \"replies\": 4, \"hashtags\": 0, \"tweet_token\": 23, \"media\": 0, \"retweets\": 15}, {\"hour\": 20, \"mentions\": 0, \"likes\": 765, \"replies\": 75, \"hashtags\": 2, \"tweet_token\": 18, \"media\": 2, \"retweets\": 152}, {\"hour\": 21, \"mentions\": 0, \"likes\": 2, \"replies\": 1, \"hashtags\": 0, \"tweet_token\": 0, \"media\": 0, \"retweets\": 1}, {\"hour\": 15, \"mentions\": 0, \"likes\": 1208, \"replies\": 115, \"hashtags\": 0, \"tweet_token\": 25, \"media\": 1, \"retweets\": 227}, {\"hour\": 21, \"mentions\": 0, \"likes\": 544, \"replies\": 50, \"hashtags\": 4, \"tweet_token\": 20, \"media\": 2, \"retweets\": 172}, {\"hour\": 15, \"mentions\": 0, \"likes\": 1382, \"replies\": 96, \"hashtags\": 1, \"tweet_token\": 18, \"media\": 0, \"retweets\": 359}, {\"hour\": 17, \"mentions\": 0, \"likes\": 1, \"replies\": 2, \"hashtags\": 0, \"tweet_token\": 2, \"media\": 0, \"retweets\": 1}, {\"hour\": 13, \"mentions\": 0, \"likes\": 3, \"replies\": 1, \"hashtags\": 0, \"tweet_token\": 10, \"media\": 0, \"retweets\": 1}, {\"hour\": 11, \"mentions\": 0, \"likes\": 114, \"replies\": 9, \"hashtags\": 0, \"tweet_token\": 4, \"media\": 0, \"retweets\": 8}, {\"hour\": 9, \"mentions\": 3, \"likes\": 114, \"replies\": 32, \"hashtags\": 0, \"tweet_token\": 18, \"media\": 0, \"retweets\": 21}, {\"hour\": 17, \"mentions\": 0, \"likes\": 87, \"replies\": 7, \"hashtags\": 0, \"tweet_token\": 19, \"media\": 0, \"retweets\": 14}, {\"hour\": 12, \"mentions\": 1, \"likes\": 276, \"replies\": 110, \"hashtags\": 1, \"tweet_token\": 11, \"media\": 0, \"retweets\": 58}, {\"hour\": 17, \"mentions\": 0, \"likes\": 7, \"replies\": 3, \"hashtags\": 0, \"tweet_token\": 6, \"media\": 0, \"retweets\": 1}, {\"hour\": 12, \"mentions\": 0, \"likes\": 22, \"replies\": 1, \"hashtags\": 0, \"tweet_token\": 10, \"media\": 0, \"retweets\": 2}, {\"hour\": 13, \"mentions\": 0, \"likes\": 13, \"replies\": 3, \"hashtags\": 0, \"tweet_token\": 10, \"media\": 0, \"retweets\": 1}, {\"hour\": 21, \"mentions\": 0, \"likes\": 14, \"replies\": 1, \"hashtags\": 0, \"tweet_token\": 2, \"media\": 0, \"retweets\": 1}, {\"hour\": 13, \"mentions\": 1, \"likes\": 1895, \"replies\": 235, \"hashtags\": 0, \"tweet_token\": 23, \"media\": 0, \"retweets\": 252}, {\"hour\": 16, \"mentions\": 0, \"likes\": 308, \"replies\": 54, \"hashtags\": 1, \"tweet_token\": 15, \"media\": 0, \"retweets\": 79}, {\"hour\": 10, \"mentions\": 1, \"likes\": 2591, \"replies\": 216, \"hashtags\": 1, \"tweet_token\": 18, \"media\": 0, \"retweets\": 541}, {\"hour\": 21, \"mentions\": 0, \"likes\": 260, \"replies\": 29, \"hashtags\": 2, \"tweet_token\": 15, \"media\": 0, \"retweets\": 78}, {\"hour\": 12, \"mentions\": 0, \"likes\": 6, \"replies\": 1, \"hashtags\": 0, \"tweet_token\": 10, \"media\": 0, \"retweets\": 3}, {\"hour\": 16, \"mentions\": 0, \"likes\": 4752, \"replies\": 222, \"hashtags\": 1, \"tweet_token\": 18, \"media\": 1, \"retweets\": 1304}, {\"hour\": 21, \"mentions\": 1, \"likes\": 1033, \"replies\": 71, \"hashtags\": 1, \"tweet_token\": 17, \"media\": 0, \"retweets\": 301}, {\"hour\": 14, \"mentions\": 0, \"likes\": 3, \"replies\": 1, \"hashtags\": 0, \"tweet_token\": 13, \"media\": 0, \"retweets\": 2}, {\"hour\": 19, \"mentions\": 1, \"likes\": 914, \"replies\": 92, \"hashtags\": 1, \"tweet_token\": 24, \"media\": 4, \"retweets\": 229}, {\"hour\": 21, \"mentions\": 0, \"likes\": 45, \"replies\": 4, \"hashtags\": 0, \"tweet_token\": 4, \"media\": 0, \"retweets\": 3}, {\"hour\": 20, \"mentions\": 0, \"likes\": 9, \"replies\": 1, \"hashtags\": 0, \"tweet_token\": 13, \"media\": 0, \"retweets\": 2}, {\"hour\": 21, \"mentions\": 1, \"likes\": 1708, \"replies\": 130, \"hashtags\": 0, \"tweet_token\": 18, \"media\": 0, \"retweets\": 349}, {\"hour\": 12, \"mentions\": 0, \"likes\": 3680, \"replies\": 318, \"hashtags\": 0, \"tweet_token\": 7, \"media\": 1, \"retweets\": 973}, {\"hour\": 19, \"mentions\": 1, \"likes\": 154, \"replies\": 27, \"hashtags\": 1, \"tweet_token\": 12, \"media\": 0, \"retweets\": 36}, {\"hour\": 16, \"mentions\": 0, \"likes\": 2878, \"replies\": 275, \"hashtags\": 0, \"tweet_token\": 16, \"media\": 2, \"retweets\": 481}, {\"hour\": 7, \"mentions\": 1, \"likes\": 1355, \"replies\": 87, \"hashtags\": 0, \"tweet_token\": 21, \"media\": 0, \"retweets\": 178}, {\"hour\": 18, \"mentions\": 4, \"likes\": 373, \"replies\": 67, \"hashtags\": 2, \"tweet_token\": 11, \"media\": 0, \"retweets\": 100}, {\"hour\": 18, \"mentions\": 0, \"likes\": 11, \"replies\": 2, \"hashtags\": 0, \"tweet_token\": 2, \"media\": 0, \"retweets\": 2}, {\"hour\": 16, \"mentions\": 1, \"likes\": 285, \"replies\": 52, \"hashtags\": 1, \"tweet_token\": 21, \"media\": 3, \"retweets\": 75}, {\"hour\": 13, \"mentions\": 1, \"likes\": 1002, \"replies\": 63, \"hashtags\": 0, \"tweet_token\": 23, \"media\": 0, \"retweets\": 217}, {\"hour\": 12, \"mentions\": 0, \"likes\": 115, \"replies\": 27, \"hashtags\": 1, \"tweet_token\": 14, \"media\": 0, \"retweets\": 40}, {\"hour\": 9, \"mentions\": 0, \"likes\": 1484, \"replies\": 303, \"hashtags\": 0, \"tweet_token\": 19, \"media\": 0, \"retweets\": 401}, {\"hour\": 12, \"mentions\": 1, \"likes\": 1970, \"replies\": 234, \"hashtags\": 0, \"tweet_token\": 19, \"media\": 0, \"retweets\": 301}, {\"hour\": 9, \"mentions\": 0, \"likes\": 1140, \"replies\": 77, \"hashtags\": 2, \"tweet_token\": 14, \"media\": 2, \"retweets\": 206}, {\"hour\": 10, \"mentions\": 1, \"likes\": 261, \"replies\": 38, \"hashtags\": 1, \"tweet_token\": 21, \"media\": 0, \"retweets\": 102}, {\"hour\": 11, \"mentions\": 1, \"likes\": 3270, \"replies\": 1080, \"hashtags\": 1, \"tweet_token\": 14, \"media\": 0, \"retweets\": 899}, {\"hour\": 10, \"mentions\": 0, \"likes\": 126, \"replies\": 9, \"hashtags\": 0, \"tweet_token\": 15, \"media\": 0, \"retweets\": 38}, {\"hour\": 8, \"mentions\": 0, \"likes\": 353, \"replies\": 42, \"hashtags\": 2, \"tweet_token\": 28, \"media\": 2, \"retweets\": 108}, {\"hour\": 14, \"mentions\": 2, \"likes\": 2749, \"replies\": 153, \"hashtags\": 2, \"tweet_token\": 20, \"media\": 0, \"retweets\": 355}, {\"hour\": 13, \"mentions\": 0, \"likes\": 24, \"replies\": 1, \"hashtags\": 0, \"tweet_token\": 4, \"media\": 0, \"retweets\": 5}, {\"hour\": 11, \"mentions\": 0, \"likes\": 5399, \"replies\": 422, \"hashtags\": 0, \"tweet_token\": 15, \"media\": 0, \"retweets\": 712}, {\"hour\": 13, \"mentions\": 0, \"likes\": 11, \"replies\": 3, \"hashtags\": 0, \"tweet_token\": 6, \"media\": 0, \"retweets\": 3}, {\"hour\": 17, \"mentions\": 0, \"likes\": 237, \"replies\": 74, \"hashtags\": 1, \"tweet_token\": 17, \"media\": 1, \"retweets\": 83}, {\"hour\": 10, \"mentions\": 1, \"likes\": 993, \"replies\": 106, \"hashtags\": 0, \"tweet_token\": 26, \"media\": 2, \"retweets\": 197}, {\"hour\": 13, \"mentions\": 0, \"likes\": 34, \"replies\": 4, \"hashtags\": 0, \"tweet_token\": 11, \"media\": 0, \"retweets\": 4}, {\"hour\": 9, \"mentions\": 0, \"likes\": 1024, \"replies\": 185, \"hashtags\": 1, \"tweet_token\": 16, \"media\": 0, \"retweets\": 155}, {\"hour\": 11, \"mentions\": 0, \"likes\": 431, \"replies\": 54, \"hashtags\": 1, \"tweet_token\": 16, \"media\": 0, \"retweets\": 129}, {\"hour\": 18, \"mentions\": 0, \"likes\": 156, \"replies\": 63, \"hashtags\": 0, \"tweet_token\": 22, \"media\": 0, \"retweets\": 66}, {\"hour\": 10, \"mentions\": 1, \"likes\": 656, \"replies\": 51, \"hashtags\": 0, \"tweet_token\": 24, \"media\": 0, \"retweets\": 176}, {\"hour\": 21, \"mentions\": 0, \"likes\": 2, \"replies\": 1, \"hashtags\": 1, \"tweet_token\": 13, \"media\": 0, \"retweets\": 1}, {\"hour\": 12, \"mentions\": 0, \"likes\": 3, \"replies\": 1, \"hashtags\": 1, \"tweet_token\": 12, \"media\": 0, \"retweets\": 1}, {\"hour\": 8, \"mentions\": 1, \"likes\": 904, \"replies\": 101, \"hashtags\": 2, \"tweet_token\": 11, \"media\": 1, \"retweets\": 279}, {\"hour\": 21, \"mentions\": 1, \"likes\": 7794, \"replies\": 1595, \"hashtags\": 2, \"tweet_token\": 10, \"media\": 0, \"retweets\": 1783}, {\"hour\": 16, \"mentions\": 0, \"likes\": 9, \"replies\": 1, \"hashtags\": 0, \"tweet_token\": 0, \"media\": 0, \"retweets\": 3}, {\"hour\": 19, \"mentions\": 0, \"likes\": 1366, \"replies\": 102, \"hashtags\": 0, \"tweet_token\": 26, \"media\": 5, \"retweets\": 319}, {\"hour\": 19, \"mentions\": 0, \"likes\": 2, \"replies\": 1, \"hashtags\": 0, \"tweet_token\": 11, \"media\": 0, \"retweets\": 1}, {\"hour\": 21, \"mentions\": 0, \"likes\": 17, \"replies\": 5, \"hashtags\": 0, \"tweet_token\": 14, \"media\": 0, \"retweets\": 2}, {\"hour\": 17, \"mentions\": 0, \"likes\": 719, \"replies\": 87, \"hashtags\": 2, \"tweet_token\": 12, \"media\": 2, \"retweets\": 166}, {\"hour\": 22, \"mentions\": 0, \"likes\": 1, \"replies\": 1, \"hashtags\": 0, \"tweet_token\": 14, \"media\": 0, \"retweets\": 1}, {\"hour\": 9, \"mentions\": 1, \"likes\": 915, \"replies\": 110, \"hashtags\": 1, \"tweet_token\": 22, \"media\": 1, \"retweets\": 124}, {\"hour\": 12, \"mentions\": 0, \"likes\": 37, \"replies\": 3, \"hashtags\": 0, \"tweet_token\": 2, \"media\": 0, \"retweets\": 6}, {\"hour\": 20, \"mentions\": 0, \"likes\": 2, \"replies\": 2, \"hashtags\": 0, \"tweet_token\": 13, \"media\": 0, \"retweets\": 1}, {\"hour\": 10, \"mentions\": 0, \"likes\": 469, \"replies\": 44, \"hashtags\": 2, \"tweet_token\": 14, \"media\": 1, \"retweets\": 146}, {\"hour\": 17, \"mentions\": 0, \"likes\": 113, \"replies\": 11, \"hashtags\": 0, \"tweet_token\": 3, \"media\": 0, \"retweets\": 10}, {\"hour\": 14, \"mentions\": 0, \"likes\": 20, \"replies\": 3, \"hashtags\": 0, \"tweet_token\": 11, \"media\": 0, \"retweets\": 1}, {\"hour\": 15, \"mentions\": 1, \"likes\": 670, \"replies\": 106, \"hashtags\": 2, \"tweet_token\": 30, \"media\": 2, \"retweets\": 195}, {\"hour\": 13, \"mentions\": 1, \"likes\": 1894, \"replies\": 235, \"hashtags\": 0, \"tweet_token\": 23, \"media\": 0, \"retweets\": 252}, {\"hour\": 13, \"mentions\": 0, \"likes\": 16, \"replies\": 1, \"hashtags\": 0, \"tweet_token\": 13, \"media\": 0, \"retweets\": 1}, {\"hour\": 18, \"mentions\": 2, \"likes\": 674, \"replies\": 58, \"hashtags\": 0, \"tweet_token\": 22, \"media\": 0, \"retweets\": 179}, {\"hour\": 15, \"mentions\": 0, \"likes\": 1194, \"replies\": 125, \"hashtags\": 1, \"tweet_token\": 23, \"media\": 5, \"retweets\": 321}, {\"hour\": 10, \"mentions\": 0, \"likes\": 853, \"replies\": 47, \"hashtags\": 3, \"tweet_token\": 19, \"media\": 1, \"retweets\": 243}, {\"hour\": 14, \"mentions\": 0, \"likes\": 41, \"replies\": 3, \"hashtags\": 0, \"tweet_token\": 13, \"media\": 0, \"retweets\": 3}, {\"hour\": 8, \"mentions\": 0, \"likes\": 157, \"replies\": 16, \"hashtags\": 1, \"tweet_token\": 17, \"media\": 0, \"retweets\": 57}, {\"hour\": 9, \"mentions\": 0, \"likes\": 1891, \"replies\": 154, \"hashtags\": 0, \"tweet_token\": 20, \"media\": 0, \"retweets\": 471}, {\"hour\": 8, \"mentions\": 1, \"likes\": 323, \"replies\": 30, \"hashtags\": 2, \"tweet_token\": 18, \"media\": 0, \"retweets\": 107}, {\"hour\": 17, \"mentions\": 0, \"likes\": 1094, \"replies\": 80, \"hashtags\": 1, \"tweet_token\": 25, \"media\": 2, \"retweets\": 348}, {\"hour\": 15, \"mentions\": 0, \"likes\": 1123, \"replies\": 136, \"hashtags\": 2, \"tweet_token\": 19, \"media\": 2, \"retweets\": 262}, {\"hour\": 8, \"mentions\": 1, \"likes\": 2238, \"replies\": 118, \"hashtags\": 0, \"tweet_token\": 11, \"media\": 0, \"retweets\": 215}, {\"hour\": 9, \"mentions\": 0, \"likes\": 10, \"replies\": 1, \"hashtags\": 0, \"tweet_token\": 11, \"media\": 0, \"retweets\": 4}, {\"hour\": 9, \"mentions\": 0, \"likes\": 41, \"replies\": 1, \"hashtags\": 1, \"tweet_token\": 8, \"media\": 0, \"retweets\": 1}, {\"hour\": 15, \"mentions\": 0, \"likes\": 269, \"replies\": 26, \"hashtags\": 1, \"tweet_token\": 22, \"media\": 2, \"retweets\": 50}, {\"hour\": 17, \"mentions\": 0, \"likes\": 341, \"replies\": 30, \"hashtags\": 0, \"tweet_token\": 21, \"media\": 2, \"retweets\": 73}, {\"hour\": 14, \"mentions\": 0, \"likes\": 1610, \"replies\": 97, \"hashtags\": 1, \"tweet_token\": 20, \"media\": 2, \"retweets\": 474}, {\"hour\": 19, \"mentions\": 2, \"likes\": 365, \"replies\": 60, \"hashtags\": 1, \"tweet_token\": 22, \"media\": 4, \"retweets\": 121}, {\"hour\": 14, \"mentions\": 0, \"likes\": 5410, \"replies\": 238, \"hashtags\": 0, \"tweet_token\": 6, \"media\": 1, \"retweets\": 988}, {\"hour\": 11, \"mentions\": 0, \"likes\": 6130, \"replies\": 483, \"hashtags\": 0, \"tweet_token\": 6, \"media\": 1, \"retweets\": 1470}, {\"hour\": 17, \"mentions\": 0, \"likes\": 8392, \"replies\": 472, \"hashtags\": 0, \"tweet_token\": 16, \"media\": 1, \"retweets\": 900}, {\"hour\": 14, \"mentions\": 0, \"likes\": 2529, \"replies\": 160, \"hashtags\": 1, \"tweet_token\": 15, \"media\": 1, \"retweets\": 642}, {\"hour\": 10, \"mentions\": 0, \"likes\": 28, \"replies\": 1, \"hashtags\": 0, \"tweet_token\": 17, \"media\": 0, \"retweets\": 6}, {\"hour\": 20, \"mentions\": 0, \"likes\": 602, \"replies\": 59, \"hashtags\": 3, \"tweet_token\": 17, \"media\": 1, \"retweets\": 173}, {\"hour\": 15, \"mentions\": 0, \"likes\": 3199, \"replies\": 260, \"hashtags\": 1, \"tweet_token\": 17, \"media\": 5, \"retweets\": 707}, {\"hour\": 11, \"mentions\": 0, \"likes\": 22, \"replies\": 4, \"hashtags\": 0, \"tweet_token\": 15, \"media\": 0, \"retweets\": 3}, {\"hour\": 15, \"mentions\": 2, \"likes\": 1831, \"replies\": 611, \"hashtags\": 0, \"tweet_token\": 18, \"media\": 1, \"retweets\": 464}, {\"hour\": 22, \"mentions\": 0, \"likes\": 3961, \"replies\": 759, \"hashtags\": 1, \"tweet_token\": 17, \"media\": 2, \"retweets\": 1222}, {\"hour\": 11, \"mentions\": 0, \"likes\": 3, \"replies\": 1, \"hashtags\": 0, \"tweet_token\": 22, \"media\": 0, \"retweets\": 1}, {\"hour\": 18, \"mentions\": 0, \"likes\": 11112, \"replies\": 706, \"hashtags\": 1, \"tweet_token\": 16, \"media\": 0, \"retweets\": 1839}, {\"hour\": 15, \"mentions\": 0, \"likes\": 108, \"replies\": 4, \"hashtags\": 0, \"tweet_token\": 13, \"media\": 0, \"retweets\": 11}, {\"hour\": 14, \"mentions\": 0, \"likes\": 461, \"replies\": 47, \"hashtags\": 1, \"tweet_token\": 24, \"media\": 1, \"retweets\": 153}, {\"hour\": 20, \"mentions\": 0, \"likes\": 35, \"replies\": 1, \"hashtags\": 0, \"tweet_token\": 26, \"media\": 0, \"retweets\": 8}, {\"hour\": 9, \"mentions\": 0, \"likes\": 3, \"replies\": 2, \"hashtags\": 0, \"tweet_token\": 12, \"media\": 0, \"retweets\": 2}, {\"hour\": 16, \"mentions\": 0, \"likes\": 1551, \"replies\": 106, \"hashtags\": 1, \"tweet_token\": 6, \"media\": 1, \"retweets\": 273}, {\"hour\": 16, \"mentions\": 0, \"likes\": 5, \"replies\": 3, \"hashtags\": 0, \"tweet_token\": 4, \"media\": 0, \"retweets\": 1}, {\"hour\": 20, \"mentions\": 0, \"likes\": 116, \"replies\": 34, \"hashtags\": 0, \"tweet_token\": 25, \"media\": 0, \"retweets\": 30}, {\"hour\": 19, \"mentions\": 0, \"likes\": 1466, \"replies\": 81, \"hashtags\": 2, \"tweet_token\": 8, \"media\": 2, \"retweets\": 309}, {\"hour\": 13, \"mentions\": 0, \"likes\": 27, \"replies\": 4, \"hashtags\": 0, \"tweet_token\": 14, \"media\": 0, \"retweets\": 1}, {\"hour\": 12, \"mentions\": 1, \"likes\": 1709, \"replies\": 198, \"hashtags\": 0, \"tweet_token\": 20, \"media\": 0, \"retweets\": 281}, {\"hour\": 12, \"mentions\": 0, \"likes\": 16, \"replies\": 5, \"hashtags\": 0, \"tweet_token\": 12, \"media\": 0, \"retweets\": 1}, {\"hour\": 10, \"mentions\": 0, \"likes\": 6, \"replies\": 1, \"hashtags\": 0, \"tweet_token\": 7, \"media\": 0, \"retweets\": 2}, {\"hour\": 14, \"mentions\": 0, \"likes\": 5036, \"replies\": 331, \"hashtags\": 0, \"tweet_token\": 27, \"media\": 4, \"retweets\": 652}, {\"hour\": 15, \"mentions\": 2, \"likes\": 816, \"replies\": 52, \"hashtags\": 1, \"tweet_token\": 28, \"media\": 3, \"retweets\": 162}, {\"hour\": 19, \"mentions\": 0, \"likes\": 1763, \"replies\": 207, \"hashtags\": 1, \"tweet_token\": 12, \"media\": 0, \"retweets\": 470}, {\"hour\": 20, \"mentions\": 0, \"likes\": 177, \"replies\": 42, \"hashtags\": 0, \"tweet_token\": 18, \"media\": 1, \"retweets\": 51}, {\"hour\": 21, \"mentions\": 0, \"likes\": 6, \"replies\": 1, \"hashtags\": 0, \"tweet_token\": 21, \"media\": 0, \"retweets\": 4}, {\"hour\": 15, \"mentions\": 1, \"likes\": 199, \"replies\": 41, \"hashtags\": 1, \"tweet_token\": 22, \"media\": 1, \"retweets\": 51}, {\"hour\": 20, \"mentions\": 0, \"likes\": 2652, \"replies\": 129, \"hashtags\": 1, \"tweet_token\": 15, \"media\": 0, \"retweets\": 729}, {\"hour\": 10, \"mentions\": 1, \"likes\": 1838, \"replies\": 63, \"hashtags\": 0, \"tweet_token\": 12, \"media\": 0, \"retweets\": 180}, {\"hour\": 18, \"mentions\": 0, \"likes\": 16, \"replies\": 2, \"hashtags\": 0, \"tweet_token\": 9, \"media\": 0, \"retweets\": 2}, {\"hour\": 13, \"mentions\": 0, \"likes\": 439, \"replies\": 87, \"hashtags\": 1, \"tweet_token\": 15, \"media\": 1, \"retweets\": 181}, {\"hour\": 20, \"mentions\": 0, \"likes\": 508, \"replies\": 215, \"hashtags\": 1, \"tweet_token\": 13, \"media\": 1, \"retweets\": 157}, {\"hour\": 13, \"mentions\": 0, \"likes\": 319, \"replies\": 85, \"hashtags\": 1, \"tweet_token\": 18, \"media\": 1, \"retweets\": 113}, {\"hour\": 11, \"mentions\": 2, \"likes\": 586, \"replies\": 116, \"hashtags\": 1, \"tweet_token\": 6, \"media\": 0, \"retweets\": 148}, {\"hour\": 10, \"mentions\": 1, \"likes\": 63, \"replies\": 26, \"hashtags\": 0, \"tweet_token\": 21, \"media\": 0, \"retweets\": 21}, {\"hour\": 15, \"mentions\": 0, \"likes\": 5, \"replies\": 1, \"hashtags\": 1, \"tweet_token\": 15, \"media\": 0, \"retweets\": 1}, {\"hour\": 17, \"mentions\": 0, \"likes\": 17, \"replies\": 4, \"hashtags\": 0, \"tweet_token\": 12, \"media\": 0, \"retweets\": 2}, {\"hour\": 17, \"mentions\": 0, \"likes\": 732, \"replies\": 85, \"hashtags\": 2, \"tweet_token\": 21, \"media\": 2, \"retweets\": 213}, {\"hour\": 13, \"mentions\": 0, \"likes\": 2462, \"replies\": 252, \"hashtags\": 0, \"tweet_token\": 18, \"media\": 0, \"retweets\": 514}, {\"hour\": 20, \"mentions\": 2, \"likes\": 223, \"replies\": 29, \"hashtags\": 1, \"tweet_token\": 25, \"media\": 0, \"retweets\": 64}, {\"hour\": 9, \"mentions\": 1, \"likes\": 2438, \"replies\": 226, \"hashtags\": 0, \"tweet_token\": 19, \"media\": 0, \"retweets\": 518}, {\"hour\": 10, \"mentions\": 0, \"likes\": 1, \"replies\": 1, \"hashtags\": 0, \"tweet_token\": 11, \"media\": 0, \"retweets\": 1}, {\"hour\": 10, \"mentions\": 0, \"likes\": 11, \"replies\": 4, \"hashtags\": 0, \"tweet_token\": 8, \"media\": 0, \"retweets\": 1}, {\"hour\": 9, \"mentions\": 0, \"likes\": 1290, \"replies\": 132, \"hashtags\": 1, \"tweet_token\": 24, \"media\": 1, \"retweets\": 333}, {\"hour\": 10, \"mentions\": 0, \"likes\": 1547, \"replies\": 197, \"hashtags\": 0, \"tweet_token\": 20, \"media\": 2, \"retweets\": 239}, {\"hour\": 10, \"mentions\": 1, \"likes\": 2550, \"replies\": 187, \"hashtags\": 0, \"tweet_token\": 18, \"media\": 0, \"retweets\": 415}, {\"hour\": 11, \"mentions\": 0, \"likes\": 27, \"replies\": 4, \"hashtags\": 0, \"tweet_token\": 12, \"media\": 0, \"retweets\": 3}, {\"hour\": 18, \"mentions\": 0, \"likes\": 165, \"replies\": 57, \"hashtags\": 0, \"tweet_token\": 23, \"media\": 3, \"retweets\": 31}, {\"hour\": 9, \"mentions\": 0, \"likes\": 17, \"replies\": 5, \"hashtags\": 0, \"tweet_token\": 1, \"media\": 0, \"retweets\": 6}, {\"hour\": 14, \"mentions\": 1, \"likes\": 7439, \"replies\": 1185, \"hashtags\": 0, \"tweet_token\": 17, \"media\": 0, \"retweets\": 1599}, {\"hour\": 9, \"mentions\": 0, \"likes\": 2, \"replies\": 1, \"hashtags\": 0, \"tweet_token\": 14, \"media\": 0, \"retweets\": 1}, {\"hour\": 11, \"mentions\": 0, \"likes\": 3, \"replies\": 1, \"hashtags\": 0, \"tweet_token\": 1, \"media\": 0, \"retweets\": 1}, {\"hour\": 7, \"mentions\": 0, \"likes\": 539, \"replies\": 133, \"hashtags\": 1, \"tweet_token\": 12, \"media\": 2, \"retweets\": 171}, {\"hour\": 19, \"mentions\": 0, \"likes\": 8, \"replies\": 2, \"hashtags\": 0, \"tweet_token\": 7, \"media\": 0, \"retweets\": 1}, {\"hour\": 16, \"mentions\": 1, \"likes\": 1526, \"replies\": 119, \"hashtags\": 0, \"tweet_token\": 22, \"media\": 0, \"retweets\": 314}, {\"hour\": 20, \"mentions\": 0, \"likes\": 18, \"replies\": 2, \"hashtags\": 0, \"tweet_token\": 8, \"media\": 0, \"retweets\": 5}, {\"hour\": 11, \"mentions\": 0, \"likes\": 1206, \"replies\": 151, \"hashtags\": 1, \"tweet_token\": 13, \"media\": 1, \"retweets\": 367}, {\"hour\": 12, \"mentions\": 0, \"likes\": 6, \"replies\": 1, \"hashtags\": 1, \"tweet_token\": 19, \"media\": 0, \"retweets\": 2}, {\"hour\": 16, \"mentions\": 1, \"likes\": 1704, \"replies\": 192, \"hashtags\": 0, \"tweet_token\": 21, \"media\": 0, \"retweets\": 330}, {\"hour\": 10, \"mentions\": 0, \"likes\": 1582, \"replies\": 143, \"hashtags\": 0, \"tweet_token\": 24, \"media\": 0, \"retweets\": 402}, {\"hour\": 14, \"mentions\": 0, \"likes\": 3, \"replies\": 1, \"hashtags\": 0, \"tweet_token\": 13, \"media\": 0, \"retweets\": 2}, {\"hour\": 20, \"mentions\": 0, \"likes\": 5413, \"replies\": 506, \"hashtags\": 1, \"tweet_token\": 21, \"media\": 0, \"retweets\": 811}, {\"hour\": 13, \"mentions\": 0, \"likes\": 882, \"replies\": 88, \"hashtags\": 1, \"tweet_token\": 23, \"media\": 5, \"retweets\": 233}, {\"hour\": 20, \"mentions\": 1, \"likes\": 114, \"replies\": 33, \"hashtags\": 0, \"tweet_token\": 16, \"media\": 0, \"retweets\": 32}, {\"hour\": 18, \"mentions\": 0, \"likes\": 270, \"replies\": 71, \"hashtags\": 1, \"tweet_token\": 24, \"media\": 2, \"retweets\": 89}, {\"hour\": 16, \"mentions\": 0, \"likes\": 9, \"replies\": 1, \"hashtags\": 0, \"tweet_token\": 25, \"media\": 0, \"retweets\": 2}, {\"hour\": 11, \"mentions\": 1, \"likes\": 2975, \"replies\": 183, \"hashtags\": 0, \"tweet_token\": 20, \"media\": 0, \"retweets\": 472}, {\"hour\": 16, \"mentions\": 0, \"likes\": 113, \"replies\": 16, \"hashtags\": 1, \"tweet_token\": 8, \"media\": 0, \"retweets\": 37}, {\"hour\": 17, \"mentions\": 0, \"likes\": 113, \"replies\": 11, \"hashtags\": 0, \"tweet_token\": 3, \"media\": 0, \"retweets\": 10}, {\"hour\": 12, \"mentions\": 0, \"likes\": 739, \"replies\": 74, \"hashtags\": 0, \"tweet_token\": 23, \"media\": 2, \"retweets\": 89}, {\"hour\": 21, \"mentions\": 1, \"likes\": 291, \"replies\": 49, \"hashtags\": 1, \"tweet_token\": 19, \"media\": 2, \"retweets\": 65}, {\"hour\": 16, \"mentions\": 4, \"likes\": 281, \"replies\": 49, \"hashtags\": 1, \"tweet_token\": 19, \"media\": 0, \"retweets\": 109}, {\"hour\": 16, \"mentions\": 0, \"likes\": 991, \"replies\": 123, \"hashtags\": 2, \"tweet_token\": 17, \"media\": 2, \"retweets\": 271}, {\"hour\": 13, \"mentions\": 0, \"likes\": 844, \"replies\": 82, \"hashtags\": 0, \"tweet_token\": 18, \"media\": 0, \"retweets\": 114}, {\"hour\": 10, \"mentions\": 0, \"likes\": 888, \"replies\": 87, \"hashtags\": 0, \"tweet_token\": 20, \"media\": 2, \"retweets\": 198}, {\"hour\": 22, \"mentions\": 1, \"likes\": 871, \"replies\": 50, \"hashtags\": 1, \"tweet_token\": 11, \"media\": 0, \"retweets\": 219}, {\"hour\": 10, \"mentions\": 0, \"likes\": 7, \"replies\": 2, \"hashtags\": 0, \"tweet_token\": 2, \"media\": 0, \"retweets\": 3}, {\"hour\": 14, \"mentions\": 0, \"likes\": 19, \"replies\": 2, \"hashtags\": 0, \"tweet_token\": 7, \"media\": 0, \"retweets\": 3}, {\"hour\": 17, \"mentions\": 2, \"likes\": 208, \"replies\": 27, \"hashtags\": 1, \"tweet_token\": 12, \"media\": 0, \"retweets\": 47}, {\"hour\": 11, \"mentions\": 0, \"likes\": 22, \"replies\": 2, \"hashtags\": 0, \"tweet_token\": 7, \"media\": 0, \"retweets\": 12}, {\"hour\": 15, \"mentions\": 0, \"likes\": 9, \"replies\": 1, \"hashtags\": 0, \"tweet_token\": 6, \"media\": 0, \"retweets\": 1}, {\"hour\": 16, \"mentions\": 0, \"likes\": 2243, \"replies\": 124, \"hashtags\": 1, \"tweet_token\": 18, \"media\": 2, \"retweets\": 585}, {\"hour\": 9, \"mentions\": 0, \"likes\": 776, \"replies\": 80, \"hashtags\": 2, \"tweet_token\": 22, \"media\": 2, \"retweets\": 196}, {\"hour\": 14, \"mentions\": 0, \"likes\": 2138, \"replies\": 138, \"hashtags\": 2, \"tweet_token\": 12, \"media\": 2, \"retweets\": 545}, {\"hour\": 17, \"mentions\": 0, \"likes\": 1230, \"replies\": 70, \"hashtags\": 2, \"tweet_token\": 11, \"media\": 1, \"retweets\": 391}, {\"hour\": 10, \"mentions\": 0, \"likes\": 534, \"replies\": 62, \"hashtags\": 2, \"tweet_token\": 22, \"media\": 0, \"retweets\": 170}, {\"hour\": 11, \"mentions\": 1, \"likes\": 202, \"replies\": 45, \"hashtags\": 0, \"tweet_token\": 13, \"media\": 0, \"retweets\": 62}, {\"hour\": 13, \"mentions\": 0, \"likes\": 8, \"replies\": 1, \"hashtags\": 0, \"tweet_token\": 8, \"media\": 0, \"retweets\": 1}, {\"hour\": 8, \"mentions\": 0, \"likes\": 20549, \"replies\": 467, \"hashtags\": 0, \"tweet_token\": 21, \"media\": 0, \"retweets\": 1782}, {\"hour\": 19, \"mentions\": 0, \"likes\": 7, \"replies\": 1, \"hashtags\": 0, \"tweet_token\": 0, \"media\": 0, \"retweets\": 1}, {\"hour\": 19, \"mentions\": 0, \"likes\": 31, \"replies\": 1, \"hashtags\": 0, \"tweet_token\": 5, \"media\": 0, \"retweets\": 1}, {\"hour\": 18, \"mentions\": 0, \"likes\": 22008, \"replies\": 1807, \"hashtags\": 1, \"tweet_token\": 19, \"media\": 2, \"retweets\": 4302}, {\"hour\": 14, \"mentions\": 0, \"likes\": 295, \"replies\": 120, \"hashtags\": 1, \"tweet_token\": 9, \"media\": 2, \"retweets\": 102}, {\"hour\": 19, \"mentions\": 0, \"likes\": 65, \"replies\": 7, \"hashtags\": 0, \"tweet_token\": 3, \"media\": 0, \"retweets\": 28}, {\"hour\": 17, \"mentions\": 0, \"likes\": 471, \"replies\": 68, \"hashtags\": 3, \"tweet_token\": 22, \"media\": 3, \"retweets\": 124}, {\"hour\": 13, \"mentions\": 0, \"likes\": 18, \"replies\": 8, \"hashtags\": 1, \"tweet_token\": 12, \"media\": 0, \"retweets\": 2}, {\"hour\": 10, \"mentions\": 0, \"likes\": 6094, \"replies\": 490, \"hashtags\": 1, \"tweet_token\": 9, \"media\": 2, \"retweets\": 1387}, {\"hour\": 11, \"mentions\": 0, \"likes\": 24, \"replies\": 6, \"hashtags\": 0, \"tweet_token\": 23, \"media\": 0, \"retweets\": 4}, {\"hour\": 15, \"mentions\": 0, \"likes\": 569, \"replies\": 52, \"hashtags\": 0, \"tweet_token\": 25, \"media\": 2, \"retweets\": 132}, {\"hour\": 11, \"mentions\": 0, \"likes\": 7, \"replies\": 3, \"hashtags\": 0, \"tweet_token\": 16, \"media\": 0, \"retweets\": 2}, {\"hour\": 9, \"mentions\": 0, \"likes\": 24, \"replies\": 1, \"hashtags\": 0, \"tweet_token\": 17, \"media\": 0, \"retweets\": 3}, {\"hour\": 15, \"mentions\": 0, \"likes\": 6, \"replies\": 4, \"hashtags\": 0, \"tweet_token\": 5, \"media\": 0, \"retweets\": 1}, {\"hour\": 17, \"mentions\": 0, \"likes\": 1129, \"replies\": 84, \"hashtags\": 3, \"tweet_token\": 10, \"media\": 1, \"retweets\": 319}, {\"hour\": 10, \"mentions\": 0, \"likes\": 258, \"replies\": 54, \"hashtags\": 1, \"tweet_token\": 21, \"media\": 0, \"retweets\": 81}, {\"hour\": 11, \"mentions\": 0, \"likes\": 1586, \"replies\": 77, \"hashtags\": 0, \"tweet_token\": 23, \"media\": 2, \"retweets\": 305}, {\"hour\": 21, \"mentions\": 0, \"likes\": 470, \"replies\": 51, \"hashtags\": 3, \"tweet_token\": 16, \"media\": 1, \"retweets\": 132}, {\"hour\": 12, \"mentions\": 0, \"likes\": 14, \"replies\": 1, \"hashtags\": 0, \"tweet_token\": 7, \"media\": 0, \"retweets\": 1}, {\"hour\": 22, \"mentions\": 0, \"likes\": 5, \"replies\": 1, \"hashtags\": 0, \"tweet_token\": 12, \"media\": 0, \"retweets\": 1}, {\"hour\": 8, \"mentions\": 0, \"likes\": 433, \"replies\": 60, \"hashtags\": 1, \"tweet_token\": 19, \"media\": 0, \"retweets\": 98}, {\"hour\": 15, \"mentions\": 0, \"likes\": 408, \"replies\": 118, \"hashtags\": 1, \"tweet_token\": 10, \"media\": 2, \"retweets\": 123}, {\"hour\": 12, \"mentions\": 0, \"likes\": 3347, \"replies\": 232, \"hashtags\": 0, \"tweet_token\": 22, \"media\": 2, \"retweets\": 471}, {\"hour\": 17, \"mentions\": 0, \"likes\": 14, \"replies\": 2, \"hashtags\": 0, \"tweet_token\": 4, \"media\": 0, \"retweets\": 2}, {\"hour\": 15, \"mentions\": 0, \"likes\": 15, \"replies\": 1, \"hashtags\": 0, \"tweet_token\": 5, \"media\": 0, \"retweets\": 3}, {\"hour\": 19, \"mentions\": 0, \"likes\": 23, \"replies\": 6, \"hashtags\": 0, \"tweet_token\": 2, \"media\": 0, \"retweets\": 9}, {\"hour\": 15, \"mentions\": 0, \"likes\": 7, \"replies\": 1, \"hashtags\": 0, \"tweet_token\": 0, \"media\": 0, \"retweets\": 1}, {\"hour\": 12, \"mentions\": 0, \"likes\": 427, \"replies\": 75, \"hashtags\": 1, \"tweet_token\": 14, \"media\": 3, \"retweets\": 128}, {\"hour\": 11, \"mentions\": 0, \"likes\": 573, \"replies\": 104, \"hashtags\": 1, \"tweet_token\": 14, \"media\": 1, \"retweets\": 174}, {\"hour\": 19, \"mentions\": 0, \"likes\": 40, \"replies\": 4, \"hashtags\": 0, \"tweet_token\": 3, \"media\": 0, \"retweets\": 10}, {\"hour\": 16, \"mentions\": 1, \"likes\": 418, \"replies\": 91, \"hashtags\": 1, \"tweet_token\": 17, \"media\": 2, \"retweets\": 92}, {\"hour\": 18, \"mentions\": 0, \"likes\": 497, \"replies\": 235, \"hashtags\": 2, \"tweet_token\": 24, \"media\": 0, \"retweets\": 212}, {\"hour\": 9, \"mentions\": 1, \"likes\": 583, \"replies\": 68, \"hashtags\": 2, \"tweet_token\": 18, \"media\": 0, \"retweets\": 153}, {\"hour\": 15, \"mentions\": 1, \"likes\": 1374, \"replies\": 184, \"hashtags\": 1, \"tweet_token\": 27, \"media\": 1, \"retweets\": 278}, {\"hour\": 17, \"mentions\": 0, \"likes\": 589, \"replies\": 36, \"hashtags\": 3, \"tweet_token\": 21, \"media\": 1, \"retweets\": 156}, {\"hour\": 9, \"mentions\": 1, \"likes\": 483, \"replies\": 176, \"hashtags\": 0, \"tweet_token\": 15, \"media\": 0, \"retweets\": 73}, {\"hour\": 20, \"mentions\": 0, \"likes\": 4, \"replies\": 1, \"hashtags\": 0, \"tweet_token\": 12, \"media\": 0, \"retweets\": 1}, {\"hour\": 13, \"mentions\": 1, \"likes\": 1307, \"replies\": 77, \"hashtags\": 0, \"tweet_token\": 21, \"media\": 0, \"retweets\": 188}, {\"hour\": 9, \"mentions\": 0, \"likes\": 4941, \"replies\": 902, \"hashtags\": 1, \"tweet_token\": 14, \"media\": 0, \"retweets\": 1593}, {\"hour\": 16, \"mentions\": 0, \"likes\": 15, \"replies\": 2, \"hashtags\": 0, \"tweet_token\": 3, \"media\": 0, \"retweets\": 1}, {\"hour\": 9, \"mentions\": 0, \"likes\": 5913, \"replies\": 315, \"hashtags\": 0, \"tweet_token\": 24, \"media\": 0, \"retweets\": 660}, {\"hour\": 0, \"mentions\": 0, \"likes\": 6603, \"replies\": 940, \"hashtags\": 1, \"tweet_token\": 13, \"media\": 2, \"retweets\": 945}, {\"hour\": 22, \"mentions\": 0, \"likes\": 445, \"replies\": 46, \"hashtags\": 2, \"tweet_token\": 13, \"media\": 1, \"retweets\": 143}, {\"hour\": 15, \"mentions\": 0, \"likes\": 2, \"replies\": 2, \"hashtags\": 0, \"tweet_token\": 18, \"media\": 0, \"retweets\": 3}, {\"hour\": 7, \"mentions\": 1, \"likes\": 960, \"replies\": 157, \"hashtags\": 0, \"tweet_token\": 20, \"media\": 0, \"retweets\": 187}, {\"hour\": 21, \"mentions\": 1, \"likes\": 737, \"replies\": 97, \"hashtags\": 0, \"tweet_token\": 21, \"media\": 1, \"retweets\": 178}, {\"hour\": 14, \"mentions\": 0, \"likes\": 2193, \"replies\": 72, \"hashtags\": 0, \"tweet_token\": 31, \"media\": 2, \"retweets\": 466}, {\"hour\": 22, \"mentions\": 0, \"likes\": 985, \"replies\": 32, \"hashtags\": 0, \"tweet_token\": 22, \"media\": 0, \"retweets\": 179}, {\"hour\": 20, \"mentions\": 0, \"likes\": 644, \"replies\": 126, \"hashtags\": 3, \"tweet_token\": 18, \"media\": 1, \"retweets\": 186}, {\"hour\": 18, \"mentions\": 0, \"likes\": 2934, \"replies\": 202, \"hashtags\": 1, \"tweet_token\": 19, \"media\": 1, \"retweets\": 810}, {\"hour\": 16, \"mentions\": 0, \"likes\": 29, \"replies\": 6, \"hashtags\": 0, \"tweet_token\": 12, \"media\": 0, \"retweets\": 3}, {\"hour\": 18, \"mentions\": 0, \"likes\": 4488, \"replies\": 167, \"hashtags\": 1, \"tweet_token\": 17, \"media\": 0, \"retweets\": 700}, {\"hour\": 11, \"mentions\": 0, \"likes\": 70, \"replies\": 16, \"hashtags\": 0, \"tweet_token\": 19, \"media\": 2, \"retweets\": 17}, {\"hour\": 15, \"mentions\": 0, \"likes\": 1382, \"replies\": 96, \"hashtags\": 1, \"tweet_token\": 18, \"media\": 0, \"retweets\": 359}, {\"hour\": 9, \"mentions\": 4, \"likes\": 325, \"replies\": 51, \"hashtags\": 2, \"tweet_token\": 18, \"media\": 0, \"retweets\": 88}, {\"hour\": 11, \"mentions\": 0, \"likes\": 4, \"replies\": 1, \"hashtags\": 0, \"tweet_token\": 4, \"media\": 0, \"retweets\": 1}, {\"hour\": 10, \"mentions\": 0, \"likes\": 40, \"replies\": 2, \"hashtags\": 0, \"tweet_token\": 8, \"media\": 0, \"retweets\": 2}, {\"hour\": 21, \"mentions\": 0, \"likes\": 2, \"replies\": 1, \"hashtags\": 0, \"tweet_token\": 1, \"media\": 0, \"retweets\": 1}, {\"hour\": 20, \"mentions\": 0, \"likes\": 8899, \"replies\": 375, \"hashtags\": 2, \"tweet_token\": 6, \"media\": 2, \"retweets\": 1255}, {\"hour\": 10, \"mentions\": 0, \"likes\": 19, \"replies\": 2, \"hashtags\": 0, \"tweet_token\": 1, \"media\": 0, \"retweets\": 6}, {\"hour\": 18, \"mentions\": 1, \"likes\": 115, \"replies\": 39, \"hashtags\": 0, \"tweet_token\": 22, \"media\": 3, \"retweets\": 26}, {\"hour\": 11, \"mentions\": 0, \"likes\": 721, \"replies\": 70, \"hashtags\": 3, \"tweet_token\": 16, \"media\": 2, \"retweets\": 201}, {\"hour\": 13, \"mentions\": 0, \"likes\": 883, \"replies\": 53, \"hashtags\": 1, \"tweet_token\": 14, \"media\": 0, \"retweets\": 204}, {\"hour\": 11, \"mentions\": 1, \"likes\": 786, \"replies\": 43, \"hashtags\": 0, \"tweet_token\": 19, \"media\": 0, \"retweets\": 166}, {\"hour\": 16, \"mentions\": 0, \"likes\": 22, \"replies\": 1, \"hashtags\": 0, \"tweet_token\": 4, \"media\": 0, \"retweets\": 3}, {\"hour\": 21, \"mentions\": 0, \"likes\": 363, \"replies\": 32, \"hashtags\": 2, \"tweet_token\": 17, \"media\": 0, \"retweets\": 88}, {\"hour\": 9, \"mentions\": 0, \"likes\": 27, \"replies\": 3, \"hashtags\": 0, \"tweet_token\": 20, \"media\": 0, \"retweets\": 2}, {\"hour\": 9, \"mentions\": 2, \"likes\": 802, \"replies\": 157, \"hashtags\": 0, \"tweet_token\": 20, \"media\": 0, \"retweets\": 207}, {\"hour\": 18, \"mentions\": 0, \"likes\": 22, \"replies\": 8, \"hashtags\": 0, \"tweet_token\": 4, \"media\": 0, \"retweets\": 1}, {\"hour\": 10, \"mentions\": 0, \"likes\": 4, \"replies\": 1, \"hashtags\": 0, \"tweet_token\": 19, \"media\": 0, \"retweets\": 1}, {\"hour\": 15, \"mentions\": 0, \"likes\": 2, \"replies\": 2, \"hashtags\": 0, \"tweet_token\": 10, \"media\": 0, \"retweets\": 1}, {\"hour\": 10, \"mentions\": 0, \"likes\": 1727, \"replies\": 100, \"hashtags\": 1, \"tweet_token\": 16, \"media\": 1, \"retweets\": 446}, {\"hour\": 13, \"mentions\": 0, \"likes\": 14, \"replies\": 4, \"hashtags\": 0, \"tweet_token\": 22, \"media\": 0, \"retweets\": 3}, {\"hour\": 14, \"mentions\": 0, \"likes\": 230, \"replies\": 64, \"hashtags\": 1, \"tweet_token\": 18, \"media\": 4, \"retweets\": 67}, {\"hour\": 14, \"mentions\": 0, \"likes\": 4, \"replies\": 1, \"hashtags\": 0, \"tweet_token\": 0, \"media\": 0, \"retweets\": 1}, {\"hour\": 20, \"mentions\": 0, \"likes\": 13, \"replies\": 1, \"hashtags\": 0, \"tweet_token\": 0, \"media\": 0, \"retweets\": 1}, {\"hour\": 10, \"mentions\": 0, \"likes\": 64, \"replies\": 15, \"hashtags\": 1, \"tweet_token\": 22, \"media\": 0, \"retweets\": 44}, {\"hour\": 13, \"mentions\": 0, \"likes\": 197, \"replies\": 98, \"hashtags\": 0, \"tweet_token\": 24, \"media\": 1, \"retweets\": 57}, {\"hour\": 9, \"mentions\": 0, \"likes\": 48, \"replies\": 7, \"hashtags\": 1, \"tweet_token\": 18, \"media\": 0, \"retweets\": 11}, {\"hour\": 13, \"mentions\": 2, \"likes\": 714, \"replies\": 140, \"hashtags\": 1, \"tweet_token\": 19, \"media\": 3, \"retweets\": 169}, {\"hour\": 11, \"mentions\": 0, \"likes\": 6420, \"replies\": 456, \"hashtags\": 0, \"tweet_token\": 10, \"media\": 3, \"retweets\": 812}, {\"hour\": 16, \"mentions\": 1, \"likes\": 140, \"replies\": 5, \"hashtags\": 0, \"tweet_token\": 12, \"media\": 0, \"retweets\": 19}, {\"hour\": 18, \"mentions\": 0, \"likes\": 495, \"replies\": 85, \"hashtags\": 2, \"tweet_token\": 13, \"media\": 1, \"retweets\": 134}, {\"hour\": 20, \"mentions\": 0, \"likes\": 3395, \"replies\": 252, \"hashtags\": 0, \"tweet_token\": 17, \"media\": 1, \"retweets\": 492}, {\"hour\": 16, \"mentions\": 0, \"likes\": 11, \"replies\": 1, \"hashtags\": 0, \"tweet_token\": 14, \"media\": 0, \"retweets\": 3}, {\"hour\": 10, \"mentions\": 0, \"likes\": 3295, \"replies\": 193, \"hashtags\": 2, \"tweet_token\": 10, \"media\": 2, \"retweets\": 800}, {\"hour\": 18, \"mentions\": 1, \"likes\": 665, \"replies\": 78, \"hashtags\": 1, \"tweet_token\": 23, \"media\": 1, \"retweets\": 177}, {\"hour\": 18, \"mentions\": 0, \"likes\": 4010, \"replies\": 285, \"hashtags\": 1, \"tweet_token\": 4, \"media\": 2, \"retweets\": 788}, {\"hour\": 20, \"mentions\": 0, \"likes\": 289, \"replies\": 17, \"hashtags\": 0, \"tweet_token\": 12, \"media\": 0, \"retweets\": 5}, {\"hour\": 12, \"mentions\": 0, \"likes\": 729, \"replies\": 76, \"hashtags\": 3, \"tweet_token\": 20, \"media\": 1, \"retweets\": 267}, {\"hour\": 15, \"mentions\": 1, \"likes\": 2991, \"replies\": 793, \"hashtags\": 0, \"tweet_token\": 25, \"media\": 2, \"retweets\": 847}, {\"hour\": 10, \"mentions\": 0, \"likes\": 12, \"replies\": 3, \"hashtags\": 1, \"tweet_token\": 1, \"media\": 0, \"retweets\": 3}, {\"hour\": 12, \"mentions\": 0, \"likes\": 62, \"replies\": 8, \"hashtags\": 0, \"tweet_token\": 9, \"media\": 0, \"retweets\": 2}, {\"hour\": 10, \"mentions\": 0, \"likes\": 6, \"replies\": 7, \"hashtags\": 0, \"tweet_token\": 16, \"media\": 0, \"retweets\": 1}, {\"hour\": 21, \"mentions\": 0, \"likes\": 166, \"replies\": 7, \"hashtags\": 0, \"tweet_token\": 3, \"media\": 0, \"retweets\": 2}, {\"hour\": 18, \"mentions\": 0, \"likes\": 1649, \"replies\": 1181, \"hashtags\": 0, \"tweet_token\": 25, \"media\": 1, \"retweets\": 362}, {\"hour\": 12, \"mentions\": 0, \"likes\": 7, \"replies\": 1, \"hashtags\": 0, \"tweet_token\": 20, \"media\": 0, \"retweets\": 1}, {\"hour\": 9, \"mentions\": 0, \"likes\": 6, \"replies\": 1, \"hashtags\": 0, \"tweet_token\": 1, \"media\": 0, \"retweets\": 3}, {\"hour\": 14, \"mentions\": 0, \"likes\": 270, \"replies\": 57, \"hashtags\": 1, \"tweet_token\": 21, \"media\": 1, \"retweets\": 99}, {\"hour\": 16, \"mentions\": 0, \"likes\": 1879, \"replies\": 121, \"hashtags\": 1, \"tweet_token\": 14, \"media\": 1, \"retweets\": 541}, {\"hour\": 17, \"mentions\": 0, \"likes\": 945, \"replies\": 70, \"hashtags\": 3, \"tweet_token\": 17, \"media\": 1, \"retweets\": 251}, {\"hour\": 10, \"mentions\": 0, \"likes\": 3, \"replies\": 1, \"hashtags\": 0, \"tweet_token\": 8, \"media\": 0, \"retweets\": 2}, {\"hour\": 13, \"mentions\": 0, \"likes\": 587, \"replies\": 55, \"hashtags\": 1, \"tweet_token\": 14, \"media\": 4, \"retweets\": 147}, {\"hour\": 19, \"mentions\": 1, \"likes\": 94, \"replies\": 5, \"hashtags\": 0, \"tweet_token\": 27, \"media\": 0, \"retweets\": 3}, {\"hour\": 12, \"mentions\": 1, \"likes\": 594, \"replies\": 67, \"hashtags\": 0, \"tweet_token\": 6, \"media\": 0, \"retweets\": 116}, {\"hour\": 16, \"mentions\": 0, \"likes\": 11, \"replies\": 1, \"hashtags\": 0, \"tweet_token\": 8, \"media\": 0, \"retweets\": 2}, {\"hour\": 17, \"mentions\": 0, \"likes\": 896, \"replies\": 137, \"hashtags\": 2, \"tweet_token\": 17, \"media\": 2, \"retweets\": 213}, {\"hour\": 15, \"mentions\": 0, \"likes\": 1287, \"replies\": 140, \"hashtags\": 2, \"tweet_token\": 11, \"media\": 1, \"retweets\": 369}, {\"hour\": 8, \"mentions\": 0, \"likes\": 12021, \"replies\": 594, \"hashtags\": 0, \"tweet_token\": 13, \"media\": 0, \"retweets\": 1997}, {\"hour\": 19, \"mentions\": 1, \"likes\": 194, \"replies\": 31, \"hashtags\": 2, \"tweet_token\": 26, \"media\": 0, \"retweets\": 72}, {\"hour\": 15, \"mentions\": 0, \"likes\": 25, \"replies\": 6, \"hashtags\": 0, \"tweet_token\": 3, \"media\": 0, \"retweets\": 7}, {\"hour\": 17, \"mentions\": 0, \"likes\": 80, \"replies\": 3, \"hashtags\": 0, \"tweet_token\": 20, \"media\": 0, \"retweets\": 9}, {\"hour\": 9, \"mentions\": 1, \"likes\": 534, \"replies\": 39, \"hashtags\": 1, \"tweet_token\": 17, \"media\": 0, \"retweets\": 127}, {\"hour\": 20, \"mentions\": 2, \"likes\": 1814, \"replies\": 100, \"hashtags\": 0, \"tweet_token\": 24, \"media\": 2, \"retweets\": 345}, {\"hour\": 20, \"mentions\": 1, \"likes\": 201, \"replies\": 45, \"hashtags\": 2, \"tweet_token\": 28, \"media\": 2, \"retweets\": 45}, {\"hour\": 8, \"mentions\": 0, \"likes\": 6434, \"replies\": 294, \"hashtags\": 0, \"tweet_token\": 24, \"media\": 1, \"retweets\": 1151}, {\"hour\": 19, \"mentions\": 0, \"likes\": 103, \"replies\": 10, \"hashtags\": 0, \"tweet_token\": 6, \"media\": 0, \"retweets\": 16}, {\"hour\": 13, \"mentions\": 0, \"likes\": 10, \"replies\": 2, \"hashtags\": 0, \"tweet_token\": 7, \"media\": 0, \"retweets\": 1}, {\"hour\": 20, \"mentions\": 2, \"likes\": 772, \"replies\": 594, \"hashtags\": 2, \"tweet_token\": 24, \"media\": 1, \"retweets\": 232}, {\"hour\": 15, \"mentions\": 0, \"likes\": 328, \"replies\": 96, \"hashtags\": 0, \"tweet_token\": 20, \"media\": 2, \"retweets\": 114}, {\"hour\": 10, \"mentions\": 0, \"likes\": 4, \"replies\": 1, \"hashtags\": 1, \"tweet_token\": 12, \"media\": 0, \"retweets\": 1}, {\"hour\": 19, \"mentions\": 0, \"likes\": 1142, \"replies\": 111, \"hashtags\": 2, \"tweet_token\": 28, \"media\": 1, \"retweets\": 407}, {\"hour\": 17, \"mentions\": 0, \"likes\": 302, \"replies\": 41, \"hashtags\": 2, \"tweet_token\": 23, \"media\": 2, \"retweets\": 88}, {\"hour\": 21, \"mentions\": 0, \"likes\": 440, \"replies\": 47, \"hashtags\": 4, \"tweet_token\": 15, \"media\": 2, \"retweets\": 139}, {\"hour\": 17, \"mentions\": 0, \"likes\": 4282, \"replies\": 205, \"hashtags\": 1, \"tweet_token\": 8, \"media\": 2, \"retweets\": 1038}, {\"hour\": 19, \"mentions\": 1, \"likes\": 392, \"replies\": 53, \"hashtags\": 3, \"tweet_token\": 18, \"media\": 4, \"retweets\": 112}, {\"hour\": 10, \"mentions\": 0, \"likes\": 16, \"replies\": 1, \"hashtags\": 0, \"tweet_token\": 14, \"media\": 0, \"retweets\": 9}, {\"hour\": 15, \"mentions\": 0, \"likes\": 2335, \"replies\": 139, \"hashtags\": 0, \"tweet_token\": 28, \"media\": 2, \"retweets\": 416}, {\"hour\": 12, \"mentions\": 0, \"likes\": 11, \"replies\": 1, \"hashtags\": 0, \"tweet_token\": 12, \"media\": 0, \"retweets\": 3}, {\"hour\": 9, \"mentions\": 0, \"likes\": 225, \"replies\": 35, \"hashtags\": 0, \"tweet_token\": 18, \"media\": 0, \"retweets\": 62}, {\"hour\": 16, \"mentions\": 0, \"likes\": 1281, \"replies\": 199, \"hashtags\": 1, \"tweet_token\": 21, \"media\": 1, \"retweets\": 308}, {\"hour\": 9, \"mentions\": 0, \"likes\": 16, \"replies\": 4, \"hashtags\": 0, \"tweet_token\": 5, \"media\": 0, \"retweets\": 2}, {\"hour\": 16, \"mentions\": 0, \"likes\": 409, \"replies\": 80, \"hashtags\": 1, \"tweet_token\": 22, \"media\": 3, \"retweets\": 99}, {\"hour\": 10, \"mentions\": 0, \"likes\": 4, \"replies\": 2, \"hashtags\": 0, \"tweet_token\": 16, \"media\": 0, \"retweets\": 1}, {\"hour\": 10, \"mentions\": 0, \"likes\": 4, \"replies\": 2, \"hashtags\": 0, \"tweet_token\": 12, \"media\": 0, \"retweets\": 1}, {\"hour\": 13, \"mentions\": 0, \"likes\": 3774, \"replies\": 465, \"hashtags\": 0, \"tweet_token\": 23, \"media\": 2, \"retweets\": 691}, {\"hour\": 13, \"mentions\": 0, \"likes\": 2, \"replies\": 1, \"hashtags\": 1, \"tweet_token\": 5, \"media\": 0, \"retweets\": 1}, {\"hour\": 18, \"mentions\": 0, \"likes\": 165, \"replies\": 8, \"hashtags\": 0, \"tweet_token\": 5, \"media\": 0, \"retweets\": 12}, {\"hour\": 12, \"mentions\": 0, \"likes\": 16, \"replies\": 4, \"hashtags\": 0, \"tweet_token\": 6, \"media\": 0, \"retweets\": 1}, {\"hour\": 12, \"mentions\": 0, \"likes\": 3270, \"replies\": 400, \"hashtags\": 0, \"tweet_token\": 24, \"media\": 3, \"retweets\": 597}, {\"hour\": 20, \"mentions\": 0, \"likes\": 24, \"replies\": 3, \"hashtags\": 0, \"tweet_token\": 12, \"media\": 0, \"retweets\": 1}, {\"hour\": 9, \"mentions\": 2, \"likes\": 531, \"replies\": 45, \"hashtags\": 1, \"tweet_token\": 20, \"media\": 0, \"retweets\": 152}, {\"hour\": 18, \"mentions\": 0, \"likes\": 4, \"replies\": 1, \"hashtags\": 0, \"tweet_token\": 4, \"media\": 0, \"retweets\": 1}, {\"hour\": 15, \"mentions\": 0, \"likes\": 24, \"replies\": 1, \"hashtags\": 0, \"tweet_token\": 5, \"media\": 0, \"retweets\": 2}, {\"hour\": 22, \"mentions\": 0, \"likes\": 2202, \"replies\": 206, \"hashtags\": 0, \"tweet_token\": 16, \"media\": 1, \"retweets\": 600}, {\"hour\": 9, \"mentions\": 0, \"likes\": 927, \"replies\": 74, \"hashtags\": 3, \"tweet_token\": 22, \"media\": 2, \"retweets\": 196}, {\"hour\": 9, \"mentions\": 1, \"likes\": 5451, \"replies\": 106, \"hashtags\": 0, \"tweet_token\": 15, \"media\": 0, \"retweets\": 574}, {\"hour\": 13, \"mentions\": 0, \"likes\": 1399, \"replies\": 80, \"hashtags\": 1, \"tweet_token\": 25, \"media\": 1, \"retweets\": 399}, {\"hour\": 10, \"mentions\": 0, \"likes\": 46, \"replies\": 3, \"hashtags\": 0, \"tweet_token\": 2, \"media\": 0, \"retweets\": 19}, {\"hour\": 17, \"mentions\": 0, \"likes\": 202, \"replies\": 19, \"hashtags\": 1, \"tweet_token\": 18, \"media\": 0, \"retweets\": 68}, {\"hour\": 11, \"mentions\": 0, \"likes\": 12, \"replies\": 1, \"hashtags\": 1, \"tweet_token\": 13, \"media\": 0, \"retweets\": 1}, {\"hour\": 20, \"mentions\": 0, \"likes\": 21, \"replies\": 1, \"hashtags\": 0, \"tweet_token\": 7, \"media\": 0, \"retweets\": 1}, {\"hour\": 21, \"mentions\": 0, \"likes\": 28, \"replies\": 1, \"hashtags\": 0, \"tweet_token\": 1, \"media\": 0, \"retweets\": 1}, {\"hour\": 17, \"mentions\": 4, \"likes\": 2915, \"replies\": 590, \"hashtags\": 0, \"tweet_token\": 21, \"media\": 0, \"retweets\": 1015}, {\"hour\": 14, \"mentions\": 0, \"likes\": 5, \"replies\": 1, \"hashtags\": 1, \"tweet_token\": 14, \"media\": 0, \"retweets\": 1}, {\"hour\": 17, \"mentions\": 0, \"likes\": 8, \"replies\": 1, \"hashtags\": 0, \"tweet_token\": 10, \"media\": 0, \"retweets\": 2}, {\"hour\": 11, \"mentions\": 1, \"likes\": 1088, \"replies\": 115, \"hashtags\": 1, \"tweet_token\": 23, \"media\": 2, \"retweets\": 322}, {\"hour\": 20, \"mentions\": 1, \"likes\": 73, \"replies\": 27, \"hashtags\": 0, \"tweet_token\": 15, \"media\": 0, \"retweets\": 16}, {\"hour\": 21, \"mentions\": 1, \"likes\": 282, \"replies\": 78, \"hashtags\": 1, \"tweet_token\": 24, \"media\": 1, \"retweets\": 57}, {\"hour\": 16, \"mentions\": 1, \"likes\": 197, \"replies\": 35, \"hashtags\": 1, \"tweet_token\": 28, \"media\": 2, \"retweets\": 56}, {\"hour\": 13, \"mentions\": 0, \"likes\": 39, \"replies\": 3, \"hashtags\": 0, \"tweet_token\": 16, \"media\": 0, \"retweets\": 1}, {\"hour\": 11, \"mentions\": 0, \"likes\": 389, \"replies\": 106, \"hashtags\": 2, \"tweet_token\": 23, \"media\": 1, \"retweets\": 121}, {\"hour\": 11, \"mentions\": 0, \"likes\": 43, \"replies\": 3, \"hashtags\": 0, \"tweet_token\": 3, \"media\": 0, \"retweets\": 3}, {\"hour\": 11, \"mentions\": 0, \"likes\": 72, \"replies\": 12, \"hashtags\": 0, \"tweet_token\": 7, \"media\": 2, \"retweets\": 22}, {\"hour\": 20, \"mentions\": 0, \"likes\": 486, \"replies\": 39, \"hashtags\": 1, \"tweet_token\": 23, \"media\": 2, \"retweets\": 163}, {\"hour\": 11, \"mentions\": 0, \"likes\": 8, \"replies\": 1, \"hashtags\": 0, \"tweet_token\": 6, \"media\": 0, \"retweets\": 1}, {\"hour\": 21, \"mentions\": 0, \"likes\": 680, \"replies\": 57, \"hashtags\": 4, \"tweet_token\": 10, \"media\": 5, \"retweets\": 250}, {\"hour\": 9, \"mentions\": 0, \"likes\": 542, \"replies\": 94, \"hashtags\": 0, \"tweet_token\": 16, \"media\": 0, \"retweets\": 113}, {\"hour\": 13, \"mentions\": 0, \"likes\": 33, \"replies\": 1, \"hashtags\": 0, \"tweet_token\": 18, \"media\": 0, \"retweets\": 4}, {\"hour\": 16, \"mentions\": 0, \"likes\": 2243, \"replies\": 124, \"hashtags\": 1, \"tweet_token\": 18, \"media\": 2, \"retweets\": 585}, {\"hour\": 12, \"mentions\": 0, \"likes\": 25, \"replies\": 2, \"hashtags\": 0, \"tweet_token\": 9, \"media\": 0, \"retweets\": 6}, {\"hour\": 20, \"mentions\": 0, \"likes\": 27, \"replies\": 4, \"hashtags\": 0, \"tweet_token\": 9, \"media\": 0, \"retweets\": 5}, {\"hour\": 18, \"mentions\": 4, \"likes\": 408, \"replies\": 47, \"hashtags\": 2, \"tweet_token\": 19, \"media\": 2, \"retweets\": 106}, {\"hour\": 19, \"mentions\": 1, \"likes\": 149, \"replies\": 49, \"hashtags\": 1, \"tweet_token\": 19, \"media\": 0, \"retweets\": 53}, {\"hour\": 20, \"mentions\": 0, \"likes\": 4342, \"replies\": 422, \"hashtags\": 0, \"tweet_token\": 20, \"media\": 1, \"retweets\": 1025}, {\"hour\": 16, \"mentions\": 0, \"likes\": 67, \"replies\": 3, \"hashtags\": 0, \"tweet_token\": 5, \"media\": 0, \"retweets\": 19}, {\"hour\": 11, \"mentions\": 0, \"likes\": 144, \"replies\": 16, \"hashtags\": 1, \"tweet_token\": 18, \"media\": 0, \"retweets\": 43}, {\"hour\": 22, \"mentions\": 0, \"likes\": 3, \"replies\": 1, \"hashtags\": 0, \"tweet_token\": 15, \"media\": 0, \"retweets\": 1}, {\"hour\": 20, \"mentions\": 0, \"likes\": 11, \"replies\": 2, \"hashtags\": 0, \"tweet_token\": 2, \"media\": 0, \"retweets\": 1}, {\"hour\": 12, \"mentions\": 0, \"likes\": 5, \"replies\": 3, \"hashtags\": 0, \"tweet_token\": 11, \"media\": 0, \"retweets\": 2}, {\"hour\": 20, \"mentions\": 0, \"likes\": 22, \"replies\": 2, \"hashtags\": 0, \"tweet_token\": 8, \"media\": 0, \"retweets\": 1}, {\"hour\": 11, \"mentions\": 1, \"likes\": 1095, \"replies\": 117, \"hashtags\": 1, \"tweet_token\": 24, \"media\": 1, \"retweets\": 176}, {\"hour\": 18, \"mentions\": 0, \"likes\": 682, \"replies\": 46, \"hashtags\": 2, \"tweet_token\": 11, \"media\": 0, \"retweets\": 139}, {\"hour\": 15, \"mentions\": 0, \"likes\": 538, \"replies\": 107, \"hashtags\": 1, \"tweet_token\": 23, \"media\": 2, \"retweets\": 173}, {\"hour\": 14, \"mentions\": 0, \"likes\": 1, \"replies\": 1, \"hashtags\": 0, \"tweet_token\": 14, \"media\": 0, \"retweets\": 1}, {\"hour\": 13, \"mentions\": 1, \"likes\": 3230, \"replies\": 195, \"hashtags\": 0, \"tweet_token\": 16, \"media\": 2, \"retweets\": 338}, {\"hour\": 9, \"mentions\": 0, \"likes\": 5, \"replies\": 1, \"hashtags\": 0, \"tweet_token\": 18, \"media\": 0, \"retweets\": 1}, {\"hour\": 22, \"mentions\": 0, \"likes\": 1, \"replies\": 1, \"hashtags\": 0, \"tweet_token\": 6, \"media\": 0, \"retweets\": 1}, {\"hour\": 16, \"mentions\": 0, \"likes\": 1070, \"replies\": 66, \"hashtags\": 1, \"tweet_token\": 23, \"media\": 1, \"retweets\": 298}, {\"hour\": 14, \"mentions\": 0, \"likes\": 40, \"replies\": 1, \"hashtags\": 0, \"tweet_token\": 5, \"media\": 2, \"retweets\": 5}, {\"hour\": 12, \"mentions\": 0, \"likes\": 27, \"replies\": 1, \"hashtags\": 0, \"tweet_token\": 6, \"media\": 0, \"retweets\": 7}, {\"hour\": 9, \"mentions\": 1, \"likes\": 1143, \"replies\": 134, \"hashtags\": 1, \"tweet_token\": 24, \"media\": 0, \"retweets\": 255}, {\"hour\": 22, \"mentions\": 0, \"likes\": 5, \"replies\": 1, \"hashtags\": 0, \"tweet_token\": 13, \"media\": 0, \"retweets\": 1}, {\"hour\": 10, \"mentions\": 0, \"likes\": 34, \"replies\": 1, \"hashtags\": 0, \"tweet_token\": 2, \"media\": 0, \"retweets\": 13}, {\"hour\": 9, \"mentions\": 0, \"likes\": 1, \"replies\": 2, \"hashtags\": 0, \"tweet_token\": 11, \"media\": 0, \"retweets\": 1}, {\"hour\": 12, \"mentions\": 0, \"likes\": 222, \"replies\": 48, \"hashtags\": 0, \"tweet_token\": 18, \"media\": 2, \"retweets\": 57}, {\"hour\": 14, \"mentions\": 0, \"likes\": 300, \"replies\": 77, \"hashtags\": 1, \"tweet_token\": 20, \"media\": 2, \"retweets\": 101}, {\"hour\": 8, \"mentions\": 0, \"likes\": 20548, \"replies\": 467, \"hashtags\": 0, \"tweet_token\": 21, \"media\": 0, \"retweets\": 1782}, {\"hour\": 20, \"mentions\": 0, \"likes\": 12, \"replies\": 2, \"hashtags\": 0, \"tweet_token\": 3, \"media\": 0, \"retweets\": 1}, {\"hour\": 10, \"mentions\": 0, \"likes\": 3, \"replies\": 1, \"hashtags\": 0, \"tweet_token\": 2, \"media\": 0, \"retweets\": 1}, {\"hour\": 16, \"mentions\": 1, \"likes\": 4102, \"replies\": 241, \"hashtags\": 0, \"tweet_token\": 21, \"media\": 0, \"retweets\": 476}, {\"hour\": 9, \"mentions\": 1, \"likes\": 400, \"replies\": 106, \"hashtags\": 2, \"tweet_token\": 25, \"media\": 1, \"retweets\": 124}, {\"hour\": 22, \"mentions\": 0, \"likes\": 1, \"replies\": 3, \"hashtags\": 0, \"tweet_token\": 4, \"media\": 0, \"retweets\": 1}, {\"hour\": 15, \"mentions\": 0, \"likes\": 647, \"replies\": 140, \"hashtags\": 1, \"tweet_token\": 11, \"media\": 0, \"retweets\": 129}, {\"hour\": 20, \"mentions\": 0, \"likes\": 19, \"replies\": 1, \"hashtags\": 0, \"tweet_token\": 8, \"media\": 0, \"retweets\": 2}, {\"hour\": 21, \"mentions\": 0, \"likes\": 397, \"replies\": 52, \"hashtags\": 1, \"tweet_token\": 16, \"media\": 2, \"retweets\": 53}, {\"hour\": 13, \"mentions\": 0, \"likes\": 624, \"replies\": 60, \"hashtags\": 2, \"tweet_token\": 25, \"media\": 2, \"retweets\": 150}, {\"hour\": 22, \"mentions\": 0, \"likes\": 3602, \"replies\": 524, \"hashtags\": 1, \"tweet_token\": 16, \"media\": 0, \"retweets\": 606}, {\"hour\": 11, \"mentions\": 2, \"likes\": 1132, \"replies\": 108, \"hashtags\": 2, \"tweet_token\": 16, \"media\": 0, \"retweets\": 289}, {\"hour\": 14, \"mentions\": 0, \"likes\": 1762, \"replies\": 274, \"hashtags\": 0, \"tweet_token\": 14, \"media\": 0, \"retweets\": 322}, {\"hour\": 11, \"mentions\": 0, \"likes\": 123, \"replies\": 13, \"hashtags\": 0, \"tweet_token\": 11, \"media\": 0, \"retweets\": 2}, {\"hour\": 7, \"mentions\": 1, \"likes\": 143, \"replies\": 24, \"hashtags\": 0, \"tweet_token\": 17, \"media\": 0, \"retweets\": 52}, {\"hour\": 15, \"mentions\": 0, \"likes\": 327, \"replies\": 25, \"hashtags\": 1, \"tweet_token\": 13, \"media\": 0, \"retweets\": 63}, {\"hour\": 19, \"mentions\": 0, \"likes\": 946, \"replies\": 96, \"hashtags\": 1, \"tweet_token\": 13, \"media\": 1, \"retweets\": 256}, {\"hour\": 17, \"mentions\": 0, \"likes\": 18643, \"replies\": 2102, \"hashtags\": 0, \"tweet_token\": 10, \"media\": 2, \"retweets\": 3233}, {\"hour\": 11, \"mentions\": 0, \"likes\": 522, \"replies\": 74, \"hashtags\": 3, \"tweet_token\": 9, \"media\": 1, \"retweets\": 182}, {\"hour\": 10, \"mentions\": 0, \"likes\": 1332, \"replies\": 47, \"hashtags\": 0, \"tweet_token\": 19, \"media\": 0, \"retweets\": 172}, {\"hour\": 14, \"mentions\": 0, \"likes\": 4, \"replies\": 1, \"hashtags\": 0, \"tweet_token\": 16, \"media\": 0, \"retweets\": 1}, {\"hour\": 10, \"mentions\": 0, \"likes\": 253, \"replies\": 48, \"hashtags\": 0, \"tweet_token\": 23, \"media\": 3, \"retweets\": 74}, {\"hour\": 9, \"mentions\": 0, \"likes\": 8, \"replies\": 1, \"hashtags\": 0, \"tweet_token\": 18, \"media\": 0, \"retweets\": 2}, {\"hour\": 9, \"mentions\": 0, \"likes\": 218, \"replies\": 31, \"hashtags\": 0, \"tweet_token\": 21, \"media\": 0, \"retweets\": 45}, {\"hour\": 11, \"mentions\": 0, \"likes\": 6, \"replies\": 1, \"hashtags\": 0, \"tweet_token\": 14, \"media\": 0, \"retweets\": 1}, {\"hour\": 11, \"mentions\": 0, \"likes\": 453, \"replies\": 23, \"hashtags\": 0, \"tweet_token\": 8, \"media\": 0, \"retweets\": 44}, {\"hour\": 20, \"mentions\": 0, \"likes\": 10, \"replies\": 1, \"hashtags\": 0, \"tweet_token\": 13, \"media\": 0, \"retweets\": 2}, {\"hour\": 10, \"mentions\": 0, \"likes\": 593, \"replies\": 145, \"hashtags\": 1, \"tweet_token\": 18, \"media\": 1, \"retweets\": 190}, {\"hour\": 12, \"mentions\": 0, \"likes\": 369, \"replies\": 40, \"hashtags\": 3, \"tweet_token\": 21, \"media\": 3, \"retweets\": 122}, {\"hour\": 10, \"mentions\": 0, \"likes\": 1454, \"replies\": 230, \"hashtags\": 1, \"tweet_token\": 14, \"media\": 2, \"retweets\": 376}, {\"hour\": 13, \"mentions\": 0, \"likes\": 11, \"replies\": 2, \"hashtags\": 0, \"tweet_token\": 7, \"media\": 0, \"retweets\": 3}, {\"hour\": 12, \"mentions\": 0, \"likes\": 4, \"replies\": 1, \"hashtags\": 0, \"tweet_token\": 2, \"media\": 0, \"retweets\": 1}, {\"hour\": 20, \"mentions\": 0, \"likes\": 461, \"replies\": 86, \"hashtags\": 1, \"tweet_token\": 5, \"media\": 1, \"retweets\": 176}, {\"hour\": 15, \"mentions\": 0, \"likes\": 8, \"replies\": 1, \"hashtags\": 0, \"tweet_token\": 6, \"media\": 0, \"retweets\": 1}, {\"hour\": 19, \"mentions\": 1, \"likes\": 125, \"replies\": 42, \"hashtags\": 0, \"tweet_token\": 22, \"media\": 2, \"retweets\": 21}, {\"hour\": 12, \"mentions\": 2, \"likes\": 2473, \"replies\": 527, \"hashtags\": 0, \"tweet_token\": 22, \"media\": 0, \"retweets\": 360}, {\"hour\": 18, \"mentions\": 0, \"likes\": 2622, \"replies\": 245, \"hashtags\": 0, \"tweet_token\": 15, \"media\": 2, \"retweets\": 392}, {\"hour\": 20, \"mentions\": 1, \"likes\": 11670, \"replies\": 591, \"hashtags\": 0, \"tweet_token\": 19, \"media\": 0, \"retweets\": 2073}, {\"hour\": 15, \"mentions\": 0, \"likes\": 3, \"replies\": 1, \"hashtags\": 0, \"tweet_token\": 1, \"media\": 0, \"retweets\": 1}, {\"hour\": 13, \"mentions\": 0, \"likes\": 14, \"replies\": 1, \"hashtags\": 1, \"tweet_token\": 11, \"media\": 0, \"retweets\": 1}, {\"hour\": 16, \"mentions\": 0, \"likes\": 27, \"replies\": 5, \"hashtags\": 0, \"tweet_token\": 18, \"media\": 0, \"retweets\": 6}, {\"hour\": 11, \"mentions\": 0, \"likes\": 4, \"replies\": 2, \"hashtags\": 0, \"tweet_token\": 18, \"media\": 0, \"retweets\": 2}, {\"hour\": 15, \"mentions\": 0, \"likes\": 921, \"replies\": 104, \"hashtags\": 1, \"tweet_token\": 25, \"media\": 4, \"retweets\": 215}], \"data-6dab1c321ab56cc83cfe572d61731cfb\": [{\"hour\": 14, \"mentions\": 0, \"likes\": 3, \"replies\": 2, \"hashtags\": 0, \"tweet_token\": 16, \"media\": 0, \"retweets\": 1}, {\"hour\": 15, \"mentions\": 0, \"likes\": 9, \"replies\": 1, \"hashtags\": 0, \"tweet_token\": 6, \"media\": 0, \"retweets\": 1}, {\"hour\": 16, \"mentions\": 1, \"likes\": 1525, \"replies\": 119, \"hashtags\": 0, \"tweet_token\": 22, \"media\": 0, \"retweets\": 314}, {\"hour\": 12, \"mentions\": 0, \"likes\": 301, \"replies\": 88, \"hashtags\": 0, \"tweet_token\": 17, \"media\": 2, \"retweets\": 116}, {\"hour\": 18, \"mentions\": 0, \"likes\": 1419, \"replies\": 101, \"hashtags\": 0, \"tweet_token\": 25, \"media\": 4, \"retweets\": 307}, {\"hour\": 10, \"mentions\": 0, \"likes\": 21, \"replies\": 6, \"hashtags\": 0, \"tweet_token\": 15, \"media\": 0, \"retweets\": 6}, {\"hour\": 11, \"mentions\": 1, \"likes\": 91, \"replies\": 23, \"hashtags\": 1, \"tweet_token\": 20, \"media\": 0, \"retweets\": 37}, {\"hour\": 21, \"mentions\": 0, \"likes\": 15, \"replies\": 1, \"hashtags\": 0, \"tweet_token\": 1, \"media\": 0, \"retweets\": 1}, {\"hour\": 13, \"mentions\": 0, \"likes\": 264, \"replies\": 50, \"hashtags\": 1, \"tweet_token\": 20, \"media\": 1, \"retweets\": 76}, {\"hour\": 16, \"mentions\": 0, \"likes\": 4, \"replies\": 3, \"hashtags\": 0, \"tweet_token\": 23, \"media\": 0, \"retweets\": 2}, {\"hour\": 11, \"mentions\": 0, \"likes\": 8, \"replies\": 1, \"hashtags\": 0, \"tweet_token\": 3, \"media\": 0, \"retweets\": 1}, {\"hour\": 10, \"mentions\": 0, \"likes\": 921, \"replies\": 245, \"hashtags\": 0, \"tweet_token\": 14, \"media\": 0, \"retweets\": 228}, {\"hour\": 23, \"mentions\": 1, \"likes\": 3327, \"replies\": 643, \"hashtags\": 0, \"tweet_token\": 21, \"media\": 0, \"retweets\": 1164}, {\"hour\": 22, \"mentions\": 0, \"likes\": 1286, \"replies\": 115, \"hashtags\": 0, \"tweet_token\": 7, \"media\": 0, \"retweets\": 391}, {\"hour\": 21, \"mentions\": 0, \"likes\": 86, \"replies\": 10, \"hashtags\": 0, \"tweet_token\": 2, \"media\": 0, \"retweets\": 2}, {\"hour\": 10, \"mentions\": 0, \"likes\": 888, \"replies\": 87, \"hashtags\": 0, \"tweet_token\": 20, \"media\": 2, \"retweets\": 198}, {\"hour\": 13, \"mentions\": 0, \"likes\": 428, \"replies\": 45, \"hashtags\": 1, \"tweet_token\": 23, \"media\": 3, \"retweets\": 149}, {\"hour\": 17, \"mentions\": 1, \"likes\": 1341, \"replies\": 199, \"hashtags\": 1, \"tweet_token\": 22, \"media\": 1, \"retweets\": 222}, {\"hour\": 9, \"mentions\": 2, \"likes\": 185, \"replies\": 72, \"hashtags\": 0, \"tweet_token\": 20, \"media\": 0, \"retweets\": 37}, {\"hour\": 11, \"mentions\": 0, \"likes\": 360, \"replies\": 78, \"hashtags\": 2, \"tweet_token\": 19, \"media\": 2, \"retweets\": 137}, {\"hour\": 11, \"mentions\": 0, \"likes\": 57, \"replies\": 1, \"hashtags\": 0, \"tweet_token\": 3, \"media\": 0, \"retweets\": 1}, {\"hour\": 14, \"mentions\": 0, \"likes\": 28, \"replies\": 6, \"hashtags\": 0, \"tweet_token\": 14, \"media\": 0, \"retweets\": 8}, {\"hour\": 14, \"mentions\": 0, \"likes\": 18, \"replies\": 1, \"hashtags\": 0, \"tweet_token\": 10, \"media\": 0, \"retweets\": 3}, {\"hour\": 17, \"mentions\": 0, \"likes\": 149, \"replies\": 44, \"hashtags\": 0, \"tweet_token\": 24, \"media\": 3, \"retweets\": 29}, {\"hour\": 16, \"mentions\": 0, \"likes\": 949, \"replies\": 77, \"hashtags\": 0, \"tweet_token\": 24, \"media\": 2, \"retweets\": 193}, {\"hour\": 19, \"mentions\": 0, \"likes\": 561, \"replies\": 58, \"hashtags\": 3, \"tweet_token\": 21, \"media\": 5, \"retweets\": 148}, {\"hour\": 7, \"mentions\": 1, \"likes\": 338, \"replies\": 52, \"hashtags\": 0, \"tweet_token\": 21, \"media\": 0, \"retweets\": 76}, {\"hour\": 16, \"mentions\": 0, \"likes\": 3, \"replies\": 2, \"hashtags\": 0, \"tweet_token\": 21, \"media\": 0, \"retweets\": 1}, {\"hour\": 15, \"mentions\": 0, \"likes\": 328, \"replies\": 96, \"hashtags\": 0, \"tweet_token\": 20, \"media\": 2, \"retweets\": 114}, {\"hour\": 16, \"mentions\": 0, \"likes\": 24, \"replies\": 1, \"hashtags\": 0, \"tweet_token\": 9, \"media\": 0, \"retweets\": 1}, {\"hour\": 20, \"mentions\": 0, \"likes\": 50, \"replies\": 11, \"hashtags\": 0, \"tweet_token\": 6, \"media\": 0, \"retweets\": 7}, {\"hour\": 15, \"mentions\": 0, \"likes\": 337, \"replies\": 51, \"hashtags\": 2, \"tweet_token\": 11, \"media\": 1, \"retweets\": 113}, {\"hour\": 12, \"mentions\": 0, \"likes\": 24, \"replies\": 5, \"hashtags\": 0, \"tweet_token\": 9, \"media\": 0, \"retweets\": 2}, {\"hour\": 19, \"mentions\": 0, \"likes\": 9269, \"replies\": 391, \"hashtags\": 1, \"tweet_token\": 8, \"media\": 2, \"retweets\": 1405}, {\"hour\": 17, \"mentions\": 0, \"likes\": 4, \"replies\": 2, \"hashtags\": 0, \"tweet_token\": 3, \"media\": 0, \"retweets\": 1}, {\"hour\": 12, \"mentions\": 0, \"likes\": 323, \"replies\": 17, \"hashtags\": 1, \"tweet_token\": 20, \"media\": 0, \"retweets\": 97}, {\"hour\": 9, \"mentions\": 1, \"likes\": 156, \"replies\": 36, \"hashtags\": 1, \"tweet_token\": 15, \"media\": 2, \"retweets\": 34}, {\"hour\": 15, \"mentions\": 0, \"likes\": 4, \"replies\": 1, \"hashtags\": 0, \"tweet_token\": 19, \"media\": 0, \"retweets\": 1}, {\"hour\": 13, \"mentions\": 0, \"likes\": 18, \"replies\": 8, \"hashtags\": 1, \"tweet_token\": 12, \"media\": 0, \"retweets\": 2}, {\"hour\": 19, \"mentions\": 0, \"likes\": 69, \"replies\": 24, \"hashtags\": 1, \"tweet_token\": 15, \"media\": 0, \"retweets\": 18}, {\"hour\": 15, \"mentions\": 0, \"likes\": 46, \"replies\": 5, \"hashtags\": 0, \"tweet_token\": 4, \"media\": 0, \"retweets\": 10}, {\"hour\": 12, \"mentions\": 0, \"likes\": 4858, \"replies\": 355, \"hashtags\": 1, \"tweet_token\": 13, \"media\": 2, \"retweets\": 1186}, {\"hour\": 12, \"mentions\": 0, \"likes\": 332, \"replies\": 35, \"hashtags\": 2, \"tweet_token\": 5, \"media\": 0, \"retweets\": 111}, {\"hour\": 14, \"mentions\": 0, \"likes\": 2, \"replies\": 1, \"hashtags\": 0, \"tweet_token\": 0, \"media\": 0, \"retweets\": 1}, {\"hour\": 13, \"mentions\": 0, \"likes\": 4, \"replies\": 1, \"hashtags\": 0, \"tweet_token\": 6, \"media\": 0, \"retweets\": 1}, {\"hour\": 19, \"mentions\": 0, \"likes\": 11, \"replies\": 1, \"hashtags\": 0, \"tweet_token\": 5, \"media\": 0, \"retweets\": 1}, {\"hour\": 11, \"mentions\": 0, \"likes\": 702, \"replies\": 109, \"hashtags\": 0, \"tweet_token\": 27, \"media\": 1, \"retweets\": 215}, {\"hour\": 11, \"mentions\": 1, \"likes\": 4118, \"replies\": 696, \"hashtags\": 0, \"tweet_token\": 17, \"media\": 2, \"retweets\": 569}, {\"hour\": 20, \"mentions\": 0, \"likes\": 4, \"replies\": 1, \"hashtags\": 0, \"tweet_token\": 12, \"media\": 0, \"retweets\": 1}, {\"hour\": 18, \"mentions\": 0, \"likes\": 6451, \"replies\": 686, \"hashtags\": 1, \"tweet_token\": 23, \"media\": 2, \"retweets\": 900}, {\"hour\": 15, \"mentions\": 0, \"likes\": 634, \"replies\": 66, \"hashtags\": 2, \"tweet_token\": 14, \"media\": 1, \"retweets\": 160}, {\"hour\": 11, \"mentions\": 0, \"likes\": 14, \"replies\": 3, \"hashtags\": 0, \"tweet_token\": 23, \"media\": 0, \"retweets\": 6}, {\"hour\": 14, \"mentions\": 0, \"likes\": 945, \"replies\": 122, \"hashtags\": 1, \"tweet_token\": 21, \"media\": 1, \"retweets\": 302}, {\"hour\": 11, \"mentions\": 0, \"likes\": 4, \"replies\": 2, \"hashtags\": 0, \"tweet_token\": 18, \"media\": 0, \"retweets\": 2}, {\"hour\": 10, \"mentions\": 0, \"likes\": 694, \"replies\": 83, \"hashtags\": 1, \"tweet_token\": 21, \"media\": 2, \"retweets\": 244}, {\"hour\": 13, \"mentions\": 0, \"likes\": 115, \"replies\": 5, \"hashtags\": 0, \"tweet_token\": 1, \"media\": 0, \"retweets\": 4}, {\"hour\": 18, \"mentions\": 0, \"likes\": 615, \"replies\": 74, \"hashtags\": 2, \"tweet_token\": 18, \"media\": 0, \"retweets\": 167}, {\"hour\": 11, \"mentions\": 0, \"likes\": 3, \"replies\": 2, \"hashtags\": 0, \"tweet_token\": 14, \"media\": 0, \"retweets\": 1}, {\"hour\": 20, \"mentions\": 0, \"likes\": 1864, \"replies\": 105, \"hashtags\": 3, \"tweet_token\": 17, \"media\": 2, \"retweets\": 443}, {\"hour\": 15, \"mentions\": 0, \"likes\": 402, \"replies\": 41, \"hashtags\": 1, \"tweet_token\": 25, \"media\": 3, \"retweets\": 111}, {\"hour\": 14, \"mentions\": 0, \"likes\": 4, \"replies\": 1, \"hashtags\": 0, \"tweet_token\": 0, \"media\": 0, \"retweets\": 1}, {\"hour\": 13, \"mentions\": 1, \"likes\": 86, \"replies\": 4, \"hashtags\": 0, \"tweet_token\": 20, \"media\": 0, \"retweets\": 6}, {\"hour\": 16, \"mentions\": 0, \"likes\": 414, \"replies\": 17, \"hashtags\": 0, \"tweet_token\": 6, \"media\": 0, \"retweets\": 68}, {\"hour\": 15, \"mentions\": 0, \"likes\": 13, \"replies\": 2, \"hashtags\": 0, \"tweet_token\": 8, \"media\": 0, \"retweets\": 2}, {\"hour\": 14, \"mentions\": 0, \"likes\": 281, \"replies\": 75, \"hashtags\": 3, \"tweet_token\": 15, \"media\": 0, \"retweets\": 94}, {\"hour\": 14, \"mentions\": 0, \"likes\": 661, \"replies\": 335, \"hashtags\": 0, \"tweet_token\": 24, \"media\": 1, \"retweets\": 181}, {\"hour\": 10, \"mentions\": 1, \"likes\": 271, \"replies\": 41, \"hashtags\": 1, \"tweet_token\": 22, \"media\": 2, \"retweets\": 94}, {\"hour\": 10, \"mentions\": 0, \"likes\": 230, \"replies\": 36, \"hashtags\": 1, \"tweet_token\": 19, \"media\": 0, \"retweets\": 84}, {\"hour\": 10, \"mentions\": 1, \"likes\": 485, \"replies\": 62, \"hashtags\": 0, \"tweet_token\": 20, \"media\": 0, \"retweets\": 140}, {\"hour\": 13, \"mentions\": 0, \"likes\": 26, \"replies\": 3, \"hashtags\": 0, \"tweet_token\": 13, \"media\": 0, \"retweets\": 4}, {\"hour\": 20, \"mentions\": 1, \"likes\": 404, \"replies\": 24, \"hashtags\": 2, \"tweet_token\": 13, \"media\": 0, \"retweets\": 95}, {\"hour\": 20, \"mentions\": 0, \"likes\": 2, \"replies\": 1, \"hashtags\": 0, \"tweet_token\": 10, \"media\": 0, \"retweets\": 1}, {\"hour\": 10, \"mentions\": 0, \"likes\": 3855, \"replies\": 119, \"hashtags\": 1, \"tweet_token\": 25, \"media\": 2, \"retweets\": 639}, {\"hour\": 21, \"mentions\": 0, \"likes\": 366, \"replies\": 29, \"hashtags\": 2, \"tweet_token\": 15, \"media\": 1, \"retweets\": 114}, {\"hour\": 15, \"mentions\": 0, \"likes\": 1556, \"replies\": 118, \"hashtags\": 1, \"tweet_token\": 15, \"media\": 1, \"retweets\": 435}, {\"hour\": 11, \"mentions\": 0, \"likes\": 9, \"replies\": 1, \"hashtags\": 0, \"tweet_token\": 3, \"media\": 0, \"retweets\": 2}, {\"hour\": 12, \"mentions\": 0, \"likes\": 255, \"replies\": 40, \"hashtags\": 0, \"tweet_token\": 14, \"media\": 0, \"retweets\": 24}, {\"hour\": 19, \"mentions\": 5, \"likes\": 447, \"replies\": 61, \"hashtags\": 1, \"tweet_token\": 21, \"media\": 5, \"retweets\": 122}, {\"hour\": 13, \"mentions\": 0, \"likes\": 8, \"replies\": 1, \"hashtags\": 0, \"tweet_token\": 8, \"media\": 0, \"retweets\": 1}, {\"hour\": 11, \"mentions\": 1, \"likes\": 156, \"replies\": 24, \"hashtags\": 1, \"tweet_token\": 30, \"media\": 3, \"retweets\": 47}, {\"hour\": 11, \"mentions\": 0, \"likes\": 1570, \"replies\": 106, \"hashtags\": 1, \"tweet_token\": 25, \"media\": 0, \"retweets\": 245}, {\"hour\": 21, \"mentions\": 1, \"likes\": 831, \"replies\": 61, \"hashtags\": 1, \"tweet_token\": 18, \"media\": 0, \"retweets\": 170}, {\"hour\": 18, \"mentions\": 1, \"likes\": 971, \"replies\": 131, \"hashtags\": 0, \"tweet_token\": 17, \"media\": 1, \"retweets\": 205}, {\"hour\": 22, \"mentions\": 1, \"likes\": 182, \"replies\": 44, \"hashtags\": 0, \"tweet_token\": 14, \"media\": 0, \"retweets\": 51}, {\"hour\": 11, \"mentions\": 0, \"likes\": 140, \"replies\": 1, \"hashtags\": 0, \"tweet_token\": 9, \"media\": 0, \"retweets\": 6}, {\"hour\": 9, \"mentions\": 1, \"likes\": 1532, \"replies\": 120, \"hashtags\": 1, \"tweet_token\": 15, \"media\": 0, \"retweets\": 379}, {\"hour\": 19, \"mentions\": 1, \"likes\": 575, \"replies\": 52, \"hashtags\": 3, \"tweet_token\": 13, \"media\": 4, \"retweets\": 149}, {\"hour\": 11, \"mentions\": 1, \"likes\": 405, \"replies\": 86, \"hashtags\": 1, \"tweet_token\": 7, \"media\": 0, \"retweets\": 92}, {\"hour\": 13, \"mentions\": 1, \"likes\": 1442, \"replies\": 384, \"hashtags\": 1, \"tweet_token\": 21, \"media\": 1, \"retweets\": 236}, {\"hour\": 8, \"mentions\": 0, \"likes\": 779, \"replies\": 128, \"hashtags\": 0, \"tweet_token\": 21, \"media\": 2, \"retweets\": 135}, {\"hour\": 17, \"mentions\": 0, \"likes\": 3, \"replies\": 1, \"hashtags\": 0, \"tweet_token\": 21, \"media\": 0, \"retweets\": 1}, {\"hour\": 17, \"mentions\": 1, \"likes\": 208, \"replies\": 30, \"hashtags\": 2, \"tweet_token\": 13, \"media\": 0, \"retweets\": 56}, {\"hour\": 14, \"mentions\": 0, \"likes\": 131, \"replies\": 39, \"hashtags\": 1, \"tweet_token\": 15, \"media\": 0, \"retweets\": 36}, {\"hour\": 18, \"mentions\": 1, \"likes\": 104, \"replies\": 31, \"hashtags\": 0, \"tweet_token\": 24, \"media\": 2, \"retweets\": 46}, {\"hour\": 14, \"mentions\": 0, \"likes\": 290, \"replies\": 69, \"hashtags\": 3, \"tweet_token\": 20, \"media\": 2, \"retweets\": 91}, {\"hour\": 12, \"mentions\": 1, \"likes\": 269, \"replies\": 74, \"hashtags\": 0, \"tweet_token\": 17, \"media\": 2, \"retweets\": 92}, {\"hour\": 18, \"mentions\": 0, \"likes\": 43, \"replies\": 8, \"hashtags\": 0, \"tweet_token\": 4, \"media\": 0, \"retweets\": 8}, {\"hour\": 14, \"mentions\": 0, \"likes\": 58, \"replies\": 1, \"hashtags\": 0, \"tweet_token\": 7, \"media\": 0, \"retweets\": 1}, {\"hour\": 9, \"mentions\": 1, \"likes\": 1532, \"replies\": 120, \"hashtags\": 1, \"tweet_token\": 15, \"media\": 0, \"retweets\": 379}, {\"hour\": 9, \"mentions\": 0, \"likes\": 6, \"replies\": 2, \"hashtags\": 0, \"tweet_token\": 19, \"media\": 0, \"retweets\": 1}, {\"hour\": 12, \"mentions\": 0, \"likes\": 417, \"replies\": 31, \"hashtags\": 1, \"tweet_token\": 18, \"media\": 0, \"retweets\": 104}, {\"hour\": 12, \"mentions\": 0, \"likes\": 1949, \"replies\": 109, \"hashtags\": 1, \"tweet_token\": 24, \"media\": 2, \"retweets\": 495}, {\"hour\": 12, \"mentions\": 0, \"likes\": 1433, \"replies\": 147, \"hashtags\": 1, \"tweet_token\": 19, \"media\": 1, \"retweets\": 448}, {\"hour\": 11, \"mentions\": 0, \"likes\": 52, \"replies\": 1, \"hashtags\": 0, \"tweet_token\": 18, \"media\": 0, \"retweets\": 5}, {\"hour\": 12, \"mentions\": 1, \"likes\": 1508, \"replies\": 160, \"hashtags\": 0, \"tweet_token\": 18, \"media\": 0, \"retweets\": 252}, {\"hour\": 21, \"mentions\": 0, \"likes\": 3122, \"replies\": 234, \"hashtags\": 2, \"tweet_token\": 19, \"media\": 0, \"retweets\": 725}, {\"hour\": 22, \"mentions\": 0, \"likes\": 924, \"replies\": 35, \"hashtags\": 0, \"tweet_token\": 19, \"media\": 0, \"retweets\": 155}, {\"hour\": 18, \"mentions\": 0, \"likes\": 16, \"replies\": 2, \"hashtags\": 0, \"tweet_token\": 9, \"media\": 0, \"retweets\": 2}, {\"hour\": 20, \"mentions\": 0, \"likes\": 22, \"replies\": 2, \"hashtags\": 0, \"tweet_token\": 4, \"media\": 0, \"retweets\": 6}, {\"hour\": 11, \"mentions\": 0, \"likes\": 373, \"replies\": 70, \"hashtags\": 0, \"tweet_token\": 15, \"media\": 0, \"retweets\": 83}, {\"hour\": 19, \"mentions\": 0, \"likes\": 561, \"replies\": 58, \"hashtags\": 3, \"tweet_token\": 21, \"media\": 5, \"retweets\": 148}, {\"hour\": 12, \"mentions\": 0, \"likes\": 3, \"replies\": 2, \"hashtags\": 0, \"tweet_token\": 1, \"media\": 0, \"retweets\": 1}, {\"hour\": 16, \"mentions\": 0, \"likes\": 10, \"replies\": 4, \"hashtags\": 0, \"tweet_token\": 7, \"media\": 0, \"retweets\": 1}, {\"hour\": 16, \"mentions\": 0, \"likes\": 231, \"replies\": 53, \"hashtags\": 0, \"tweet_token\": 16, \"media\": 2, \"retweets\": 107}, {\"hour\": 8, \"mentions\": 0, \"likes\": 417, \"replies\": 43, \"hashtags\": 1, \"tweet_token\": 18, \"media\": 1, \"retweets\": 95}, {\"hour\": 16, \"mentions\": 0, \"likes\": 7, \"replies\": 1, \"hashtags\": 0, \"tweet_token\": 9, \"media\": 0, \"retweets\": 1}, {\"hour\": 11, \"mentions\": 0, \"likes\": 3, \"replies\": 1, \"hashtags\": 1, \"tweet_token\": 5, \"media\": 0, \"retweets\": 1}, {\"hour\": 11, \"mentions\": 0, \"likes\": 745, \"replies\": 53, \"hashtags\": 2, \"tweet_token\": 14, \"media\": 2, \"retweets\": 174}, {\"hour\": 12, \"mentions\": 0, \"likes\": 16, \"replies\": 4, \"hashtags\": 0, \"tweet_token\": 6, \"media\": 0, \"retweets\": 1}, {\"hour\": 13, \"mentions\": 0, \"likes\": 872, \"replies\": 60, \"hashtags\": 3, \"tweet_token\": 20, \"media\": 2, \"retweets\": 236}, {\"hour\": 10, \"mentions\": 1, \"likes\": 72, \"replies\": 19, \"hashtags\": 1, \"tweet_token\": 18, \"media\": 0, \"retweets\": 18}, {\"hour\": 15, \"mentions\": 0, \"likes\": 9, \"replies\": 3, \"hashtags\": 0, \"tweet_token\": 14, \"media\": 0, \"retweets\": 2}, {\"hour\": 16, \"mentions\": 0, \"likes\": 7, \"replies\": 1, \"hashtags\": 0, \"tweet_token\": 9, \"media\": 0, \"retweets\": 1}, {\"hour\": 19, \"mentions\": 0, \"likes\": 739, \"replies\": 82, \"hashtags\": 3, \"tweet_token\": 14, \"media\": 3, \"retweets\": 169}, {\"hour\": 9, \"mentions\": 0, \"likes\": 1891, \"replies\": 154, \"hashtags\": 0, \"tweet_token\": 20, \"media\": 0, \"retweets\": 471}, {\"hour\": 20, \"mentions\": 4, \"likes\": 247, \"replies\": 97, \"hashtags\": 0, \"tweet_token\": 15, \"media\": 1, \"retweets\": 75}, {\"hour\": 9, \"mentions\": 0, \"likes\": 776, \"replies\": 80, \"hashtags\": 2, \"tweet_token\": 22, \"media\": 2, \"retweets\": 196}, {\"hour\": 20, \"mentions\": 0, \"likes\": 22, \"replies\": 14, \"hashtags\": 0, \"tweet_token\": 12, \"media\": 0, \"retweets\": 3}, {\"hour\": 11, \"mentions\": 0, \"likes\": 5934, \"replies\": 737, \"hashtags\": 0, \"tweet_token\": 21, \"media\": 0, \"retweets\": 845}, {\"hour\": 13, \"mentions\": 0, \"likes\": 438, \"replies\": 53, \"hashtags\": 1, \"tweet_token\": 4, \"media\": 1, \"retweets\": 123}, {\"hour\": 10, \"mentions\": 0, \"likes\": 1727, \"replies\": 100, \"hashtags\": 1, \"tweet_token\": 16, \"media\": 1, \"retweets\": 446}, {\"hour\": 10, \"mentions\": 0, \"likes\": 438, \"replies\": 126, \"hashtags\": 0, \"tweet_token\": 10, \"media\": 0, \"retweets\": 88}, {\"hour\": 14, \"mentions\": 0, \"likes\": 13, \"replies\": 1, \"hashtags\": 1, \"tweet_token\": 12, \"media\": 0, \"retweets\": 2}, {\"hour\": 12, \"mentions\": 0, \"likes\": 89, \"replies\": 21, \"hashtags\": 0, \"tweet_token\": 22, \"media\": 0, \"retweets\": 12}, {\"hour\": 14, \"mentions\": 0, \"likes\": 3, \"replies\": 2, \"hashtags\": 0, \"tweet_token\": 10, \"media\": 0, \"retweets\": 1}, {\"hour\": 12, \"mentions\": 1, \"likes\": 257, \"replies\": 26, \"hashtags\": 0, \"tweet_token\": 17, \"media\": 0, \"retweets\": 60}, {\"hour\": 13, \"mentions\": 0, \"likes\": 2, \"replies\": 1, \"hashtags\": 0, \"tweet_token\": 3, \"media\": 0, \"retweets\": 1}, {\"hour\": 16, \"mentions\": 0, \"likes\": 24, \"replies\": 1, \"hashtags\": 0, \"tweet_token\": 9, \"media\": 0, \"retweets\": 1}, {\"hour\": 21, \"mentions\": 0, \"likes\": 544, \"replies\": 50, \"hashtags\": 4, \"tweet_token\": 20, \"media\": 2, \"retweets\": 172}, {\"hour\": 14, \"mentions\": 0, \"likes\": 2, \"replies\": 1, \"hashtags\": 0, \"tweet_token\": 0, \"media\": 0, \"retweets\": 1}, {\"hour\": 13, \"mentions\": 0, \"likes\": 2685, \"replies\": 280, \"hashtags\": 1, \"tweet_token\": 20, \"media\": 0, \"retweets\": 677}, {\"hour\": 16, \"mentions\": 0, \"likes\": 1156, \"replies\": 128, \"hashtags\": 0, \"tweet_token\": 19, \"media\": 0, \"retweets\": 327}, {\"hour\": 10, \"mentions\": 0, \"likes\": 1454, \"replies\": 230, \"hashtags\": 1, \"tweet_token\": 14, \"media\": 2, \"retweets\": 376}, {\"hour\": 9, \"mentions\": 0, \"likes\": 536, \"replies\": 115, \"hashtags\": 3, \"tweet_token\": 11, \"media\": 1, \"retweets\": 163}, {\"hour\": 21, \"mentions\": 0, \"likes\": 240, \"replies\": 18, \"hashtags\": 2, \"tweet_token\": 15, \"media\": 0, \"retweets\": 62}, {\"hour\": 22, \"mentions\": 1, \"likes\": 2312, \"replies\": 165, \"hashtags\": 0, \"tweet_token\": 18, \"media\": 0, \"retweets\": 373}, {\"hour\": 12, \"mentions\": 0, \"likes\": 5, \"replies\": 1, \"hashtags\": 0, \"tweet_token\": 2, \"media\": 0, \"retweets\": 3}, {\"hour\": 12, \"mentions\": 1, \"likes\": 2308, \"replies\": 135, \"hashtags\": 0, \"tweet_token\": 24, \"media\": 4, \"retweets\": 690}, {\"hour\": 20, \"mentions\": 0, \"likes\": 5, \"replies\": 1, \"hashtags\": 0, \"tweet_token\": 8, \"media\": 0, \"retweets\": 1}, {\"hour\": 16, \"mentions\": 1, \"likes\": 412, \"replies\": 44, \"hashtags\": 2, \"tweet_token\": 22, \"media\": 3, \"retweets\": 117}, {\"hour\": 22, \"mentions\": 0, \"likes\": 354, \"replies\": 39, \"hashtags\": 2, \"tweet_token\": 9, \"media\": 1, \"retweets\": 85}, {\"hour\": 21, \"mentions\": 0, \"likes\": 516, \"replies\": 70, \"hashtags\": 3, \"tweet_token\": 22, \"media\": 2, \"retweets\": 184}, {\"hour\": 21, \"mentions\": 0, \"likes\": 16, \"replies\": 1, \"hashtags\": 0, \"tweet_token\": 15, \"media\": 0, \"retweets\": 6}, {\"hour\": 18, \"mentions\": 2, \"likes\": 403, \"replies\": 38, \"hashtags\": 2, \"tweet_token\": 17, \"media\": 2, \"retweets\": 122}, {\"hour\": 17, \"mentions\": 1, \"likes\": 81, \"replies\": 26, \"hashtags\": 1, \"tweet_token\": 20, \"media\": 0, \"retweets\": 30}, {\"hour\": 15, \"mentions\": 0, \"likes\": 520, \"replies\": 129, \"hashtags\": 1, \"tweet_token\": 10, \"media\": 1, \"retweets\": 146}, {\"hour\": 10, \"mentions\": 0, \"likes\": 119, \"replies\": 36, \"hashtags\": 2, \"tweet_token\": 18, \"media\": 0, \"retweets\": 50}, {\"hour\": 10, \"mentions\": 1, \"likes\": 1740, \"replies\": 142, \"hashtags\": 1, \"tweet_token\": 11, \"media\": 0, \"retweets\": 482}, {\"hour\": 11, \"mentions\": 0, \"likes\": 8, \"replies\": 1, \"hashtags\": 0, \"tweet_token\": 11, \"media\": 0, \"retweets\": 1}, {\"hour\": 11, \"mentions\": 0, \"likes\": 5399, \"replies\": 422, \"hashtags\": 0, \"tweet_token\": 15, \"media\": 0, \"retweets\": 712}, {\"hour\": 21, \"mentions\": 0, \"likes\": 532, \"replies\": 156, \"hashtags\": 0, \"tweet_token\": 14, \"media\": 1, \"retweets\": 166}, {\"hour\": 20, \"mentions\": 0, \"likes\": 486, \"replies\": 39, \"hashtags\": 1, \"tweet_token\": 23, \"media\": 2, \"retweets\": 163}, {\"hour\": 22, \"mentions\": 0, \"likes\": 181, \"replies\": 7, \"hashtags\": 0, \"tweet_token\": 21, \"media\": 0, \"retweets\": 42}, {\"hour\": 13, \"mentions\": 0, \"likes\": 11, \"replies\": 2, \"hashtags\": 0, \"tweet_token\": 7, \"media\": 0, \"retweets\": 3}, {\"hour\": 21, \"mentions\": 0, \"likes\": 166, \"replies\": 7, \"hashtags\": 0, \"tweet_token\": 3, \"media\": 0, \"retweets\": 2}, {\"hour\": 13, \"mentions\": 0, \"likes\": 17, \"replies\": 6, \"hashtags\": 0, \"tweet_token\": 21, \"media\": 0, \"retweets\": 2}, {\"hour\": 11, \"mentions\": 0, \"likes\": 5, \"replies\": 1, \"hashtags\": 0, \"tweet_token\": 3, \"media\": 0, \"retweets\": 2}, {\"hour\": 12, \"mentions\": 0, \"likes\": 3347, \"replies\": 232, \"hashtags\": 0, \"tweet_token\": 22, \"media\": 2, \"retweets\": 471}, {\"hour\": 11, \"mentions\": 1, \"likes\": 372, \"replies\": 75, \"hashtags\": 1, \"tweet_token\": 22, \"media\": 1, \"retweets\": 103}, {\"hour\": 21, \"mentions\": 0, \"likes\": 363, \"replies\": 32, \"hashtags\": 2, \"tweet_token\": 17, \"media\": 0, \"retweets\": 88}, {\"hour\": 10, \"mentions\": 0, \"likes\": 36, \"replies\": 4, \"hashtags\": 0, \"tweet_token\": 3, \"media\": 0, \"retweets\": 2}, {\"hour\": 10, \"mentions\": 0, \"likes\": 22, \"replies\": 2, \"hashtags\": 0, \"tweet_token\": 14, \"media\": 0, \"retweets\": 6}, {\"hour\": 7, \"mentions\": 0, \"likes\": 2, \"replies\": 1, \"hashtags\": 0, \"tweet_token\": 22, \"media\": 0, \"retweets\": 2}, {\"hour\": 11, \"mentions\": 0, \"likes\": 7299, \"replies\": 801, \"hashtags\": 0, \"tweet_token\": 15, \"media\": 2, \"retweets\": 793}, {\"hour\": 10, \"mentions\": 0, \"likes\": 36, \"replies\": 2, \"hashtags\": 0, \"tweet_token\": 6, \"media\": 0, \"retweets\": 13}, {\"hour\": 11, \"mentions\": 0, \"likes\": 9, \"replies\": 1, \"hashtags\": 0, \"tweet_token\": 2, \"media\": 0, \"retweets\": 4}, {\"hour\": 19, \"mentions\": 0, \"likes\": 1302, \"replies\": 257, \"hashtags\": 1, \"tweet_token\": 23, \"media\": 4, \"retweets\": 242}, {\"hour\": 21, \"mentions\": 0, \"likes\": 34, \"replies\": 2, \"hashtags\": 0, \"tweet_token\": 12, \"media\": 0, \"retweets\": 4}, {\"hour\": 15, \"mentions\": 0, \"likes\": 26, \"replies\": 1, \"hashtags\": 0, \"tweet_token\": 5, \"media\": 0, \"retweets\": 8}, {\"hour\": 11, \"mentions\": 0, \"likes\": 8, \"replies\": 2, \"hashtags\": 0, \"tweet_token\": 15, \"media\": 0, \"retweets\": 1}, {\"hour\": 20, \"mentions\": 0, \"likes\": 2437, \"replies\": 109, \"hashtags\": 0, \"tweet_token\": 22, \"media\": 0, \"retweets\": 215}, {\"hour\": 12, \"mentions\": 0, \"likes\": 9, \"replies\": 2, \"hashtags\": 0, \"tweet_token\": 8, \"media\": 0, \"retweets\": 4}, {\"hour\": 11, \"mentions\": 0, \"likes\": 17, \"replies\": 3, \"hashtags\": 0, \"tweet_token\": 5, \"media\": 0, \"retweets\": 4}, {\"hour\": 21, \"mentions\": 1, \"likes\": 394, \"replies\": 36, \"hashtags\": 2, \"tweet_token\": 18, \"media\": 0, \"retweets\": 132}, {\"hour\": 19, \"mentions\": 0, \"likes\": 1819, \"replies\": 94, \"hashtags\": 1, \"tweet_token\": 22, \"media\": 3, \"retweets\": 452}, {\"hour\": 13, \"mentions\": 0, \"likes\": 11, \"replies\": 3, \"hashtags\": 0, \"tweet_token\": 6, \"media\": 0, \"retweets\": 3}, {\"hour\": 14, \"mentions\": 0, \"likes\": 25, \"replies\": 1, \"hashtags\": 0, \"tweet_token\": 22, \"media\": 0, \"retweets\": 3}, {\"hour\": 8, \"mentions\": 0, \"likes\": 10376, \"replies\": 824, \"hashtags\": 0, \"tweet_token\": 7, \"media\": 1, \"retweets\": 1387}, {\"hour\": 10, \"mentions\": 0, \"likes\": 1635, \"replies\": 253, \"hashtags\": 2, \"tweet_token\": 22, \"media\": 0, \"retweets\": 408}, {\"hour\": 0, \"mentions\": 0, \"likes\": 704, \"replies\": 41, \"hashtags\": 0, \"tweet_token\": 22, \"media\": 0, \"retweets\": 122}, {\"hour\": 11, \"mentions\": 0, \"likes\": 239, \"replies\": 25, \"hashtags\": 1, \"tweet_token\": 22, \"media\": 2, \"retweets\": 60}, {\"hour\": 9, \"mentions\": 0, \"likes\": 498, \"replies\": 46, \"hashtags\": 0, \"tweet_token\": 8, \"media\": 0, \"retweets\": 29}, {\"hour\": 19, \"mentions\": 1, \"likes\": 151, \"replies\": 59, \"hashtags\": 0, \"tweet_token\": 13, \"media\": 1, \"retweets\": 37}, {\"hour\": 16, \"mentions\": 2, \"likes\": 1213, \"replies\": 28, \"hashtags\": 2, \"tweet_token\": 19, \"media\": 0, \"retweets\": 216}, {\"hour\": 11, \"mentions\": 0, \"likes\": 6, \"replies\": 1, \"hashtags\": 0, \"tweet_token\": 3, \"media\": 0, \"retweets\": 1}, {\"hour\": 16, \"mentions\": 0, \"likes\": 5, \"replies\": 1, \"hashtags\": 0, \"tweet_token\": 11, \"media\": 0, \"retweets\": 1}, {\"hour\": 14, \"mentions\": 0, \"likes\": 29, \"replies\": 7, \"hashtags\": 0, \"tweet_token\": 16, \"media\": 0, \"retweets\": 1}, {\"hour\": 12, \"mentions\": 0, \"likes\": 16, \"replies\": 6, \"hashtags\": 0, \"tweet_token\": 19, \"media\": 0, \"retweets\": 2}, {\"hour\": 15, \"mentions\": 0, \"likes\": 560, \"replies\": 70, \"hashtags\": 2, \"tweet_token\": 13, \"media\": 2, \"retweets\": 146}, {\"hour\": 18, \"mentions\": 1, \"likes\": 126, \"replies\": 28, \"hashtags\": 1, \"tweet_token\": 9, \"media\": 0, \"retweets\": 32}, {\"hour\": 13, \"mentions\": 0, \"likes\": 26, \"replies\": 3, \"hashtags\": 0, \"tweet_token\": 13, \"media\": 0, \"retweets\": 4}, {\"hour\": 19, \"mentions\": 0, \"likes\": 1028, \"replies\": 29, \"hashtags\": 0, \"tweet_token\": 0, \"media\": 0, \"retweets\": 64}, {\"hour\": 9, \"mentions\": 0, \"likes\": 821, \"replies\": 107, \"hashtags\": 2, \"tweet_token\": 15, \"media\": 1, \"retweets\": 241}, {\"hour\": 17, \"mentions\": 2, \"likes\": 208, \"replies\": 27, \"hashtags\": 1, \"tweet_token\": 12, \"media\": 0, \"retweets\": 47}, {\"hour\": 13, \"mentions\": 0, \"likes\": 24, \"replies\": 1, \"hashtags\": 0, \"tweet_token\": 4, \"media\": 0, \"retweets\": 5}, {\"hour\": 15, \"mentions\": 0, \"likes\": 269, \"replies\": 26, \"hashtags\": 1, \"tweet_token\": 22, \"media\": 2, \"retweets\": 50}, {\"hour\": 11, \"mentions\": 0, \"likes\": 2693, \"replies\": 77, \"hashtags\": 2, \"tweet_token\": 14, \"media\": 2, \"retweets\": 564}, {\"hour\": 12, \"mentions\": 0, \"likes\": 27, \"replies\": 1, \"hashtags\": 0, \"tweet_token\": 6, \"media\": 0, \"retweets\": 7}, {\"hour\": 8, \"mentions\": 0, \"likes\": 475, \"replies\": 38, \"hashtags\": 2, \"tweet_token\": 20, \"media\": 1, \"retweets\": 147}, {\"hour\": 15, \"mentions\": 0, \"likes\": 108, \"replies\": 4, \"hashtags\": 0, \"tweet_token\": 13, \"media\": 0, \"retweets\": 11}, {\"hour\": 9, \"mentions\": 2, \"likes\": 531, \"replies\": 45, \"hashtags\": 1, \"tweet_token\": 20, \"media\": 0, \"retweets\": 152}, {\"hour\": 10, \"mentions\": 0, \"likes\": 10, \"replies\": 1, \"hashtags\": 0, \"tweet_token\": 8, \"media\": 0, \"retweets\": 1}, {\"hour\": 14, \"mentions\": 1, \"likes\": 520, \"replies\": 101, \"hashtags\": 0, \"tweet_token\": 20, \"media\": 0, \"retweets\": 185}, {\"hour\": 12, \"mentions\": 0, \"likes\": 627, \"replies\": 74, \"hashtags\": 2, \"tweet_token\": 18, \"media\": 0, \"retweets\": 158}, {\"hour\": 17, \"mentions\": 0, \"likes\": 597, \"replies\": 42, \"hashtags\": 2, \"tweet_token\": 11, \"media\": 1, \"retweets\": 176}, {\"hour\": 19, \"mentions\": 1, \"likes\": 161, \"replies\": 35, \"hashtags\": 1, \"tweet_token\": 16, \"media\": 0, \"retweets\": 59}, {\"hour\": 12, \"mentions\": 1, \"likes\": 4, \"replies\": 1, \"hashtags\": 0, \"tweet_token\": 17, \"media\": 0, \"retweets\": 2}, {\"hour\": 19, \"mentions\": 0, \"likes\": 1366, \"replies\": 102, \"hashtags\": 0, \"tweet_token\": 26, \"media\": 5, \"retweets\": 319}, {\"hour\": 11, \"mentions\": 0, \"likes\": 295, \"replies\": 39, \"hashtags\": 1, \"tweet_token\": 15, \"media\": 2, \"retweets\": 72}, {\"hour\": 11, \"mentions\": 0, \"likes\": 12, \"replies\": 2, \"hashtags\": 0, \"tweet_token\": 5, \"media\": 0, \"retweets\": 1}, {\"hour\": 15, \"mentions\": 0, \"likes\": 297, \"replies\": 65, \"hashtags\": 1, \"tweet_token\": 21, \"media\": 2, \"retweets\": 63}, {\"hour\": 13, \"mentions\": 0, \"likes\": 815, \"replies\": 86, \"hashtags\": 2, \"tweet_token\": 12, \"media\": 1, \"retweets\": 211}, {\"hour\": 15, \"mentions\": 0, \"likes\": 1194, \"replies\": 125, \"hashtags\": 1, \"tweet_token\": 23, \"media\": 5, \"retweets\": 321}, {\"hour\": 15, \"mentions\": 0, \"likes\": 7, \"replies\": 1, \"hashtags\": 0, \"tweet_token\": 11, \"media\": 0, \"retweets\": 1}, {\"hour\": 14, \"mentions\": 2, \"likes\": 243, \"replies\": 52, \"hashtags\": 1, \"tweet_token\": 17, \"media\": 0, \"retweets\": 71}, {\"hour\": 12, \"mentions\": 0, \"likes\": 620, \"replies\": 58, \"hashtags\": 2, \"tweet_token\": 9, \"media\": 1, \"retweets\": 167}, {\"hour\": 8, \"mentions\": 0, \"likes\": 12021, \"replies\": 594, \"hashtags\": 0, \"tweet_token\": 13, \"media\": 0, \"retweets\": 1997}, {\"hour\": 18, \"mentions\": 0, \"likes\": 291, \"replies\": 99, \"hashtags\": 0, \"tweet_token\": 25, \"media\": 2, \"retweets\": 55}, {\"hour\": 19, \"mentions\": 1, \"likes\": 11, \"replies\": 2, \"hashtags\": 0, \"tweet_token\": 16, \"media\": 0, \"retweets\": 1}, {\"hour\": 19, \"mentions\": 0, \"likes\": 4, \"replies\": 1, \"hashtags\": 0, \"tweet_token\": 5, \"media\": 0, \"retweets\": 1}, {\"hour\": 21, \"mentions\": 0, \"likes\": 6, \"replies\": 1, \"hashtags\": 0, \"tweet_token\": 13, \"media\": 0, \"retweets\": 1}, {\"hour\": 10, \"mentions\": 0, \"likes\": 677, \"replies\": 52, \"hashtags\": 2, \"tweet_token\": 19, \"media\": 0, \"retweets\": 173}, {\"hour\": 9, \"mentions\": 0, \"likes\": 4707, \"replies\": 193, \"hashtags\": 2, \"tweet_token\": 21, \"media\": 1, \"retweets\": 1013}, {\"hour\": 13, \"mentions\": 0, \"likes\": 819, \"replies\": 186, \"hashtags\": 0, \"tweet_token\": 15, \"media\": 2, \"retweets\": 135}, {\"hour\": 20, \"mentions\": 0, \"likes\": 1012, \"replies\": 76, \"hashtags\": 2, \"tweet_token\": 9, \"media\": 1, \"retweets\": 246}, {\"hour\": 13, \"mentions\": 1, \"likes\": 154, \"replies\": 49, \"hashtags\": 2, \"tweet_token\": 17, \"media\": 2, \"retweets\": 54}, {\"hour\": 13, \"mentions\": 0, \"likes\": 4649, \"replies\": 480, \"hashtags\": 0, \"tweet_token\": 20, \"media\": 0, \"retweets\": 969}, {\"hour\": 14, \"mentions\": 1, \"likes\": 960, \"replies\": 137, \"hashtags\": 1, \"tweet_token\": 22, \"media\": 1, \"retweets\": 211}, {\"hour\": 10, \"mentions\": 0, \"likes\": 347, \"replies\": 75, \"hashtags\": 0, \"tweet_token\": 4, \"media\": 2, \"retweets\": 74}, {\"hour\": 22, \"mentions\": 1, \"likes\": 433, \"replies\": 45, \"hashtags\": 2, \"tweet_token\": 17, \"media\": 0, \"retweets\": 119}, {\"hour\": 12, \"mentions\": 0, \"likes\": 7, \"replies\": 1, \"hashtags\": 0, \"tweet_token\": 22, \"media\": 0, \"retweets\": 1}, {\"hour\": 20, \"mentions\": 0, \"likes\": 644, \"replies\": 126, \"hashtags\": 3, \"tweet_token\": 18, \"media\": 1, \"retweets\": 186}, {\"hour\": 11, \"mentions\": 0, \"likes\": 24, \"replies\": 2, \"hashtags\": 0, \"tweet_token\": 1, \"media\": 0, \"retweets\": 2}, {\"hour\": 14, \"mentions\": 0, \"likes\": 846, \"replies\": 208, \"hashtags\": 0, \"tweet_token\": 28, \"media\": 4, \"retweets\": 266}, {\"hour\": 15, \"mentions\": 0, \"likes\": 3, \"replies\": 1, \"hashtags\": 0, \"tweet_token\": 3, \"media\": 0, \"retweets\": 1}, {\"hour\": 20, \"mentions\": 0, \"likes\": 5, \"replies\": 1, \"hashtags\": 0, \"tweet_token\": 2, \"media\": 0, \"retweets\": 1}, {\"hour\": 11, \"mentions\": 0, \"likes\": 7967, \"replies\": 480, \"hashtags\": 1, \"tweet_token\": 24, \"media\": 1, \"retweets\": 1509}, {\"hour\": 19, \"mentions\": 0, \"likes\": 46, \"replies\": 6, \"hashtags\": 0, \"tweet_token\": 9, \"media\": 0, \"retweets\": 5}, {\"hour\": 9, \"mentions\": 0, \"likes\": 467, \"replies\": 34, \"hashtags\": 2, \"tweet_token\": 23, \"media\": 2, \"retweets\": 158}, {\"hour\": 10, \"mentions\": 0, \"likes\": 793, \"replies\": 100, \"hashtags\": 0, \"tweet_token\": 21, \"media\": 1, \"retweets\": 168}, {\"hour\": 9, \"mentions\": 1, \"likes\": 317, \"replies\": 49, \"hashtags\": 2, \"tweet_token\": 19, \"media\": 0, \"retweets\": 112}, {\"hour\": 13, \"mentions\": 0, \"likes\": 458, \"replies\": 43, \"hashtags\": 2, \"tweet_token\": 21, \"media\": 3, \"retweets\": 133}, {\"hour\": 14, \"mentions\": 0, \"likes\": 6, \"replies\": 1, \"hashtags\": 0, \"tweet_token\": 4, \"media\": 0, \"retweets\": 1}, {\"hour\": 18, \"mentions\": 0, \"likes\": 662, \"replies\": 44, \"hashtags\": 2, \"tweet_token\": 8, \"media\": 2, \"retweets\": 139}, {\"hour\": 16, \"mentions\": 0, \"likes\": 10, \"replies\": 1, \"hashtags\": 0, \"tweet_token\": 1, \"media\": 0, \"retweets\": 1}, {\"hour\": 12, \"mentions\": 0, \"likes\": 236, \"replies\": 63, \"hashtags\": 1, \"tweet_token\": 22, \"media\": 0, \"retweets\": 91}, {\"hour\": 22, \"mentions\": 0, \"likes\": 16, \"replies\": 1, \"hashtags\": 0, \"tweet_token\": 6, \"media\": 0, \"retweets\": 1}, {\"hour\": 22, \"mentions\": 0, \"likes\": 3, \"replies\": 1, \"hashtags\": 0, \"tweet_token\": 15, \"media\": 0, \"retweets\": 1}, {\"hour\": 14, \"mentions\": 0, \"likes\": 306, \"replies\": 86, \"hashtags\": 1, \"tweet_token\": 9, \"media\": 1, \"retweets\": 103}, {\"hour\": 16, \"mentions\": 1, \"likes\": 161, \"replies\": 36, \"hashtags\": 1, \"tweet_token\": 30, \"media\": 3, \"retweets\": 44}, {\"hour\": 12, \"mentions\": 0, \"likes\": 11, \"replies\": 1, \"hashtags\": 0, \"tweet_token\": 12, \"media\": 0, \"retweets\": 3}, {\"hour\": 22, \"mentions\": 2, \"likes\": 862, \"replies\": 58, \"hashtags\": 1, \"tweet_token\": 13, \"media\": 1, \"retweets\": 238}, {\"hour\": 11, \"mentions\": 0, \"likes\": 17, \"replies\": 2, \"hashtags\": 0, \"tweet_token\": 10, \"media\": 0, \"retweets\": 2}, {\"hour\": 21, \"mentions\": 0, \"likes\": 45, \"replies\": 4, \"hashtags\": 0, \"tweet_token\": 4, \"media\": 0, \"retweets\": 3}, {\"hour\": 16, \"mentions\": 0, \"likes\": 6, \"replies\": 1, \"hashtags\": 0, \"tweet_token\": 0, \"media\": 0, \"retweets\": 2}, {\"hour\": 10, \"mentions\": 0, \"likes\": 6, \"replies\": 1, \"hashtags\": 0, \"tweet_token\": 0, \"media\": 0, \"retweets\": 1}, {\"hour\": 16, \"mentions\": 0, \"likes\": 10, \"replies\": 1, \"hashtags\": 0, \"tweet_token\": 12, \"media\": 0, \"retweets\": 4}, {\"hour\": 12, \"mentions\": 0, \"likes\": 552, \"replies\": 71, \"hashtags\": 2, \"tweet_token\": 19, \"media\": 1, \"retweets\": 182}, {\"hour\": 13, \"mentions\": 0, \"likes\": 416, \"replies\": 62, \"hashtags\": 0, \"tweet_token\": 15, \"media\": 0, \"retweets\": 91}, {\"hour\": 11, \"mentions\": 0, \"likes\": 2400, \"replies\": 237, \"hashtags\": 0, \"tweet_token\": 27, \"media\": 2, \"retweets\": 474}, {\"hour\": 10, \"mentions\": 1, \"likes\": 2591, \"replies\": 216, \"hashtags\": 1, \"tweet_token\": 18, \"media\": 0, \"retweets\": 541}, {\"hour\": 11, \"mentions\": 0, \"likes\": 37, \"replies\": 4, \"hashtags\": 1, \"tweet_token\": 12, \"media\": 0, \"retweets\": 2}, {\"hour\": 10, \"mentions\": 0, \"likes\": 3, \"replies\": 1, \"hashtags\": 0, \"tweet_token\": 1, \"media\": 0, \"retweets\": 1}, {\"hour\": 12, \"mentions\": 0, \"likes\": 148, \"replies\": 41, \"hashtags\": 1, \"tweet_token\": 19, \"media\": 2, \"retweets\": 50}, {\"hour\": 18, \"mentions\": 0, \"likes\": 2586, \"replies\": 142, \"hashtags\": 2, \"tweet_token\": 22, \"media\": 5, \"retweets\": 640}, {\"hour\": 20, \"mentions\": 0, \"likes\": 158, \"replies\": 3, \"hashtags\": 0, \"tweet_token\": 11, \"media\": 0, \"retweets\": 20}, {\"hour\": 10, \"mentions\": 0, \"likes\": 4604, \"replies\": 541, \"hashtags\": 1, \"tweet_token\": 19, \"media\": 0, \"retweets\": 789}, {\"hour\": 20, \"mentions\": 0, \"likes\": 22, \"replies\": 2, \"hashtags\": 0, \"tweet_token\": 8, \"media\": 0, \"retweets\": 1}, {\"hour\": 11, \"mentions\": 0, \"likes\": 17, \"replies\": 2, \"hashtags\": 0, \"tweet_token\": 10, \"media\": 0, \"retweets\": 2}, {\"hour\": 23, \"mentions\": 0, \"likes\": 783, \"replies\": 89, \"hashtags\": 3, \"tweet_token\": 22, \"media\": 1, \"retweets\": 201}, {\"hour\": 11, \"mentions\": 0, \"likes\": 7, \"replies\": 1, \"hashtags\": 0, \"tweet_token\": 3, \"media\": 0, \"retweets\": 1}, {\"hour\": 22, \"mentions\": 0, \"likes\": 3601, \"replies\": 524, \"hashtags\": 1, \"tweet_token\": 16, \"media\": 0, \"retweets\": 606}, {\"hour\": 14, \"mentions\": 1, \"likes\": 1444, \"replies\": 1206, \"hashtags\": 0, \"tweet_token\": 12, \"media\": 0, \"retweets\": 299}, {\"hour\": 16, \"mentions\": 0, \"likes\": 355, \"replies\": 137, \"hashtags\": 1, \"tweet_token\": 15, \"media\": 1, \"retweets\": 100}, {\"hour\": 11, \"mentions\": 0, \"likes\": 5, \"replies\": 1, \"hashtags\": 0, \"tweet_token\": 5, \"media\": 0, \"retweets\": 2}, {\"hour\": 12, \"mentions\": 0, \"likes\": 28, \"replies\": 2, \"hashtags\": 0, \"tweet_token\": 3, \"media\": 0, \"retweets\": 1}, {\"hour\": 16, \"mentions\": 1, \"likes\": 281, \"replies\": 44, \"hashtags\": 1, \"tweet_token\": 26, \"media\": 4, \"retweets\": 75}, {\"hour\": 11, \"mentions\": 0, \"likes\": 4, \"replies\": 1, \"hashtags\": 0, \"tweet_token\": 12, \"media\": 0, \"retweets\": 3}, {\"hour\": 14, \"mentions\": 0, \"likes\": 2589, \"replies\": 136, \"hashtags\": 1, \"tweet_token\": 25, \"media\": 2, \"retweets\": 686}, {\"hour\": 22, \"mentions\": 1, \"likes\": 1370, \"replies\": 104, \"hashtags\": 3, \"tweet_token\": 21, \"media\": 0, \"retweets\": 345}, {\"hour\": 13, \"mentions\": 0, \"likes\": 905, \"replies\": 52, \"hashtags\": 2, \"tweet_token\": 12, \"media\": 0, \"retweets\": 249}, {\"hour\": 10, \"mentions\": 0, \"likes\": 4, \"replies\": 2, \"hashtags\": 0, \"tweet_token\": 16, \"media\": 0, \"retweets\": 1}, {\"hour\": 9, \"mentions\": 0, \"likes\": 15, \"replies\": 2, \"hashtags\": 0, \"tweet_token\": 3, \"media\": 0, \"retweets\": 5}, {\"hour\": 21, \"mentions\": 0, \"likes\": 294, \"replies\": 21, \"hashtags\": 3, \"tweet_token\": 18, \"media\": 5, \"retweets\": 113}, {\"hour\": 17, \"mentions\": 0, \"likes\": 7, \"replies\": 2, \"hashtags\": 0, \"tweet_token\": 9, \"media\": 0, \"retweets\": 1}, {\"hour\": 12, \"mentions\": 0, \"likes\": 7, \"replies\": 1, \"hashtags\": 0, \"tweet_token\": 3, \"media\": 0, \"retweets\": 1}, {\"hour\": 11, \"mentions\": 1, \"likes\": 1086, \"replies\": 90, \"hashtags\": 1, \"tweet_token\": 21, \"media\": 0, \"retweets\": 205}, {\"hour\": 9, \"mentions\": 0, \"likes\": 1140, \"replies\": 77, \"hashtags\": 2, \"tweet_token\": 14, \"media\": 2, \"retweets\": 206}, {\"hour\": 23, \"mentions\": 0, \"likes\": 2853, \"replies\": 114, \"hashtags\": 0, \"tweet_token\": 24, \"media\": 5, \"retweets\": 452}, {\"hour\": 20, \"mentions\": 1, \"likes\": 2869, \"replies\": 103, \"hashtags\": 0, \"tweet_token\": 40, \"media\": 0, \"retweets\": 449}, {\"hour\": 20, \"mentions\": 0, \"likes\": 289, \"replies\": 17, \"hashtags\": 0, \"tweet_token\": 12, \"media\": 0, \"retweets\": 5}, {\"hour\": 9, \"mentions\": 0, \"likes\": 342, \"replies\": 32, \"hashtags\": 2, \"tweet_token\": 11, \"media\": 0, \"retweets\": 84}, {\"hour\": 13, \"mentions\": 0, \"likes\": 190, \"replies\": 42, \"hashtags\": 0, \"tweet_token\": 21, \"media\": 2, \"retweets\": 47}, {\"hour\": 10, \"mentions\": 0, \"likes\": 1207, \"replies\": 147, \"hashtags\": 2, \"tweet_token\": 20, \"media\": 0, \"retweets\": 295}, {\"hour\": 14, \"mentions\": 0, \"likes\": 4, \"replies\": 2, \"hashtags\": 0, \"tweet_token\": 12, \"media\": 0, \"retweets\": 1}, {\"hour\": 15, \"mentions\": 0, \"likes\": 5, \"replies\": 1, \"hashtags\": 1, \"tweet_token\": 15, \"media\": 0, \"retweets\": 1}, {\"hour\": 9, \"mentions\": 0, \"likes\": 1891, \"replies\": 154, \"hashtags\": 0, \"tweet_token\": 20, \"media\": 0, \"retweets\": 471}, {\"hour\": 19, \"mentions\": 0, \"likes\": 1308, \"replies\": 153, \"hashtags\": 0, \"tweet_token\": 23, \"media\": 0, \"retweets\": 187}, {\"hour\": 9, \"mentions\": 1, \"likes\": 400, \"replies\": 106, \"hashtags\": 2, \"tweet_token\": 25, \"media\": 1, \"retweets\": 124}, {\"hour\": 10, \"mentions\": 0, \"likes\": 5, \"replies\": 1, \"hashtags\": 0, \"tweet_token\": 7, \"media\": 0, \"retweets\": 1}, {\"hour\": 15, \"mentions\": 0, \"likes\": 13, \"replies\": 4, \"hashtags\": 0, \"tweet_token\": 5, \"media\": 0, \"retweets\": 3}, {\"hour\": 10, \"mentions\": 0, \"likes\": 400, \"replies\": 75, \"hashtags\": 1, \"tweet_token\": 6, \"media\": 1, \"retweets\": 103}, {\"hour\": 20, \"mentions\": 0, \"likes\": 996, \"replies\": 288, \"hashtags\": 0, \"tweet_token\": 8, \"media\": 0, \"retweets\": 309}, {\"hour\": 11, \"mentions\": 1, \"likes\": 786, \"replies\": 43, \"hashtags\": 0, \"tweet_token\": 19, \"media\": 0, \"retweets\": 166}, {\"hour\": 20, \"mentions\": 0, \"likes\": 96, \"replies\": 4, \"hashtags\": 0, \"tweet_token\": 1, \"media\": 0, \"retweets\": 2}, {\"hour\": 11, \"mentions\": 0, \"likes\": 6130, \"replies\": 483, \"hashtags\": 0, \"tweet_token\": 6, \"media\": 1, \"retweets\": 1470}, {\"hour\": 16, \"mentions\": 0, \"likes\": 562, \"replies\": 78, \"hashtags\": 2, \"tweet_token\": 7, \"media\": 1, \"retweets\": 157}, {\"hour\": 11, \"mentions\": 0, \"likes\": 118, \"replies\": 13, \"hashtags\": 1, \"tweet_token\": 11, \"media\": 0, \"retweets\": 43}, {\"hour\": 13, \"mentions\": 0, \"likes\": 911, \"replies\": 15, \"hashtags\": 0, \"tweet_token\": 3, \"media\": 0, \"retweets\": 22}, {\"hour\": 12, \"mentions\": 0, \"likes\": 159, \"replies\": 22, \"hashtags\": 2, \"tweet_token\": 3, \"media\": 0, \"retweets\": 47}, {\"hour\": 15, \"mentions\": 0, \"likes\": 9, \"replies\": 3, \"hashtags\": 0, \"tweet_token\": 14, \"media\": 0, \"retweets\": 2}, {\"hour\": 13, \"mentions\": 0, \"likes\": 278, \"replies\": 62, \"hashtags\": 2, \"tweet_token\": 15, \"media\": 1, \"retweets\": 105}, {\"hour\": 15, \"mentions\": 0, \"likes\": 325, \"replies\": 47, \"hashtags\": 2, \"tweet_token\": 14, \"media\": 1, \"retweets\": 137}, {\"hour\": 9, \"mentions\": 1, \"likes\": 1729, \"replies\": 46, \"hashtags\": 0, \"tweet_token\": 14, \"media\": 0, \"retweets\": 149}, {\"hour\": 12, \"mentions\": 0, \"likes\": 5, \"replies\": 14, \"hashtags\": 0, \"tweet_token\": 10, \"media\": 0, \"retweets\": 1}, {\"hour\": 22, \"mentions\": 0, \"likes\": 754, \"replies\": 86, \"hashtags\": 4, \"tweet_token\": 17, \"media\": 1, \"retweets\": 211}, {\"hour\": 21, \"mentions\": 1, \"likes\": 7794, \"replies\": 1595, \"hashtags\": 2, \"tweet_token\": 10, \"media\": 0, \"retweets\": 1782}, {\"hour\": 11, \"mentions\": 0, \"likes\": 398, \"replies\": 61, \"hashtags\": 0, \"tweet_token\": 20, \"media\": 2, \"retweets\": 90}, {\"hour\": 15, \"mentions\": 0, \"likes\": 634, \"replies\": 66, \"hashtags\": 2, \"tweet_token\": 14, \"media\": 1, \"retweets\": 160}, {\"hour\": 10, \"mentions\": 0, \"likes\": 438, \"replies\": 68, \"hashtags\": 1, \"tweet_token\": 21, \"media\": 1, \"retweets\": 114}, {\"hour\": 16, \"mentions\": 0, \"likes\": 378, \"replies\": 36, \"hashtags\": 2, \"tweet_token\": 21, \"media\": 5, \"retweets\": 97}, {\"hour\": 14, \"mentions\": 0, \"likes\": 85, \"replies\": 5, \"hashtags\": 0, \"tweet_token\": 5, \"media\": 0, \"retweets\": 11}, {\"hour\": 10, \"mentions\": 0, \"likes\": 3, \"replies\": 2, \"hashtags\": 0, \"tweet_token\": 12, \"media\": 0, \"retweets\": 1}, {\"hour\": 10, \"mentions\": 0, \"likes\": 888, \"replies\": 87, \"hashtags\": 0, \"tweet_token\": 20, \"media\": 2, \"retweets\": 198}, {\"hour\": 12, \"mentions\": 3, \"likes\": 554, \"replies\": 56, \"hashtags\": 2, \"tweet_token\": 12, \"media\": 0, \"retweets\": 135}, {\"hour\": 9, \"mentions\": 0, \"likes\": 24, \"replies\": 1, \"hashtags\": 0, \"tweet_token\": 17, \"media\": 0, \"retweets\": 3}, {\"hour\": 13, \"mentions\": 1, \"likes\": 669, \"replies\": 26, \"hashtags\": 0, \"tweet_token\": 13, \"media\": 0, \"retweets\": 103}, {\"hour\": 16, \"mentions\": 1, \"likes\": 2599, \"replies\": 855, \"hashtags\": 0, \"tweet_token\": 16, \"media\": 4, \"retweets\": 705}, {\"hour\": 16, \"mentions\": 0, \"likes\": 30, \"replies\": 2, \"hashtags\": 0, \"tweet_token\": 23, \"media\": 0, \"retweets\": 9}, {\"hour\": 18, \"mentions\": 0, \"likes\": 565, \"replies\": 63, \"hashtags\": 1, \"tweet_token\": 23, \"media\": 4, \"retweets\": 144}, {\"hour\": 19, \"mentions\": 2, \"likes\": 385, \"replies\": 80, \"hashtags\": 1, \"tweet_token\": 21, \"media\": 2, \"retweets\": 96}, {\"hour\": 7, \"mentions\": 0, \"likes\": 470, \"replies\": 44, \"hashtags\": 2, \"tweet_token\": 13, \"media\": 2, \"retweets\": 141}, {\"hour\": 12, \"mentions\": 0, \"likes\": 8, \"replies\": 5, \"hashtags\": 0, \"tweet_token\": 2, \"media\": 0, \"retweets\": 1}, {\"hour\": 10, \"mentions\": 0, \"likes\": 1, \"replies\": 1, \"hashtags\": 0, \"tweet_token\": 15, \"media\": 0, \"retweets\": 1}, {\"hour\": 13, \"mentions\": 0, \"likes\": 2085, \"replies\": 161, \"hashtags\": 0, \"tweet_token\": 24, \"media\": 0, \"retweets\": 360}, {\"hour\": 10, \"mentions\": 0, \"likes\": 2, \"replies\": 1, \"hashtags\": 0, \"tweet_token\": 5, \"media\": 0, \"retweets\": 1}, {\"hour\": 14, \"mentions\": 0, \"likes\": 2194, \"replies\": 72, \"hashtags\": 0, \"tweet_token\": 31, \"media\": 2, \"retweets\": 466}, {\"hour\": 20, \"mentions\": 0, \"likes\": 22, \"replies\": 1, \"hashtags\": 0, \"tweet_token\": 1, \"media\": 0, \"retweets\": 1}, {\"hour\": 11, \"mentions\": 0, \"likes\": 282, \"replies\": 52, \"hashtags\": 2, \"tweet_token\": 23, \"media\": 4, \"retweets\": 95}, {\"hour\": 18, \"mentions\": 0, \"likes\": 4, \"replies\": 1, \"hashtags\": 0, \"tweet_token\": 4, \"media\": 0, \"retweets\": 1}, {\"hour\": 9, \"mentions\": 0, \"likes\": 1891, \"replies\": 154, \"hashtags\": 0, \"tweet_token\": 20, \"media\": 0, \"retweets\": 471}, {\"hour\": 10, \"mentions\": 0, \"likes\": 3, \"replies\": 1, \"hashtags\": 0, \"tweet_token\": 1, \"media\": 0, \"retweets\": 1}, {\"hour\": 20, \"mentions\": 0, \"likes\": 339, \"replies\": 138, \"hashtags\": 0, \"tweet_token\": 18, \"media\": 1, \"retweets\": 91}, {\"hour\": 8, \"mentions\": 0, \"likes\": 2015, \"replies\": 268, \"hashtags\": 2, \"tweet_token\": 18, \"media\": 5, \"retweets\": 552}, {\"hour\": 22, \"mentions\": 0, \"likes\": 505, \"replies\": 47, \"hashtags\": 3, \"tweet_token\": 14, \"media\": 1, \"retweets\": 141}, {\"hour\": 8, \"mentions\": 1, \"likes\": 713, \"replies\": 92, \"hashtags\": 2, \"tweet_token\": 17, \"media\": 0, \"retweets\": 177}, {\"hour\": 16, \"mentions\": 0, \"likes\": 4, \"replies\": 1, \"hashtags\": 0, \"tweet_token\": 6, \"media\": 0, \"retweets\": 1}, {\"hour\": 10, \"mentions\": 1, \"likes\": 282, \"replies\": 34, \"hashtags\": 1, \"tweet_token\": 21, \"media\": 0, \"retweets\": 72}, {\"hour\": 11, \"mentions\": 0, \"likes\": 406, \"replies\": 83, \"hashtags\": 1, \"tweet_token\": 23, \"media\": 1, \"retweets\": 153}, {\"hour\": 17, \"mentions\": 0, \"likes\": 23, \"replies\": 5, \"hashtags\": 0, \"tweet_token\": 16, \"media\": 0, \"retweets\": 1}, {\"hour\": 21, \"mentions\": 0, \"likes\": 8, \"replies\": 3, \"hashtags\": 0, \"tweet_token\": 4, \"media\": 0, \"retweets\": 1}, {\"hour\": 16, \"mentions\": 0, \"likes\": 4715, \"replies\": 389, \"hashtags\": 0, \"tweet_token\": 18, \"media\": 0, \"retweets\": 990}, {\"hour\": 20, \"mentions\": 0, \"likes\": 4, \"replies\": 1, \"hashtags\": 0, \"tweet_token\": 13, \"media\": 0, \"retweets\": 1}, {\"hour\": 10, \"mentions\": 0, \"likes\": 6, \"replies\": 1, \"hashtags\": 0, \"tweet_token\": 9, \"media\": 0, \"retweets\": 2}, {\"hour\": 20, \"mentions\": 1, \"likes\": 202, \"replies\": 25, \"hashtags\": 2, \"tweet_token\": 13, \"media\": 0, \"retweets\": 66}, {\"hour\": 9, \"mentions\": 1, \"likes\": 1729, \"replies\": 46, \"hashtags\": 0, \"tweet_token\": 14, \"media\": 0, \"retweets\": 149}, {\"hour\": 10, \"mentions\": 0, \"likes\": 6, \"replies\": 2, \"hashtags\": 0, \"tweet_token\": 12, \"media\": 0, \"retweets\": 2}, {\"hour\": 16, \"mentions\": 0, \"likes\": 4, \"replies\": 1, \"hashtags\": 0, \"tweet_token\": 1, \"media\": 0, \"retweets\": 1}, {\"hour\": 10, \"mentions\": 0, \"likes\": 1454, \"replies\": 230, \"hashtags\": 1, \"tweet_token\": 14, \"media\": 2, \"retweets\": 376}, {\"hour\": 20, \"mentions\": 1, \"likes\": 527, \"replies\": 57, \"hashtags\": 2, \"tweet_token\": 16, \"media\": 0, \"retweets\": 145}, {\"hour\": 11, \"mentions\": 0, \"likes\": 3, \"replies\": 1, \"hashtags\": 1, \"tweet_token\": 5, \"media\": 0, \"retweets\": 1}, {\"hour\": 17, \"mentions\": 0, \"likes\": 218, \"replies\": 96, \"hashtags\": 0, \"tweet_token\": 14, \"media\": 2, \"retweets\": 41}, {\"hour\": 9, \"mentions\": 4, \"likes\": 325, \"replies\": 51, \"hashtags\": 2, \"tweet_token\": 18, \"media\": 0, \"retweets\": 88}, {\"hour\": 18, \"mentions\": 0, \"likes\": 4490, \"replies\": 167, \"hashtags\": 1, \"tweet_token\": 17, \"media\": 0, \"retweets\": 700}, {\"hour\": 16, \"mentions\": 0, \"likes\": 16, \"replies\": 3, \"hashtags\": 0, \"tweet_token\": 9, \"media\": 0, \"retweets\": 1}, {\"hour\": 16, \"mentions\": 0, \"likes\": 93, \"replies\": 3, \"hashtags\": 0, \"tweet_token\": 19, \"media\": 0, \"retweets\": 11}, {\"hour\": 13, \"mentions\": 0, \"likes\": 2156, \"replies\": 1520, \"hashtags\": 1, \"tweet_token\": 15, \"media\": 1, \"retweets\": 693}, {\"hour\": 9, \"mentions\": 0, \"likes\": 1049, \"replies\": 48, \"hashtags\": 0, \"tweet_token\": 7, \"media\": 0, \"retweets\": 87}, {\"hour\": 17, \"mentions\": 0, \"likes\": 79, \"replies\": 38, \"hashtags\": 0, \"tweet_token\": 25, \"media\": 2, \"retweets\": 31}, {\"hour\": 8, \"mentions\": 0, \"likes\": 515, \"replies\": 100, \"hashtags\": 2, \"tweet_token\": 15, \"media\": 1, \"retweets\": 165}, {\"hour\": 14, \"mentions\": 0, \"likes\": 9, \"replies\": 2, \"hashtags\": 0, \"tweet_token\": 18, \"media\": 1, \"retweets\": 2}, {\"hour\": 13, \"mentions\": 0, \"likes\": 7, \"replies\": 1, \"hashtags\": 0, \"tweet_token\": 17, \"media\": 0, \"retweets\": 1}, {\"hour\": 14, \"mentions\": 0, \"likes\": 5106, \"replies\": 517, \"hashtags\": 1, \"tweet_token\": 10, \"media\": 2, \"retweets\": 1240}, {\"hour\": 16, \"mentions\": 0, \"likes\": 24, \"replies\": 1, \"hashtags\": 0, \"tweet_token\": 17, \"media\": 0, \"retweets\": 1}, {\"hour\": 18, \"mentions\": 0, \"likes\": 2586, \"replies\": 142, \"hashtags\": 2, \"tweet_token\": 22, \"media\": 5, \"retweets\": 640}, {\"hour\": 16, \"mentions\": 0, \"likes\": 9, \"replies\": 1, \"hashtags\": 0, \"tweet_token\": 4, \"media\": 1, \"retweets\": 4}, {\"hour\": 18, \"mentions\": 0, \"likes\": 2284, \"replies\": 112, \"hashtags\": 2, \"tweet_token\": 22, \"media\": 0, \"retweets\": 471}, {\"hour\": 18, \"mentions\": 0, \"likes\": 358, \"replies\": 78, \"hashtags\": 1, \"tweet_token\": 13, \"media\": 1, \"retweets\": 113}, {\"hour\": 11, \"mentions\": 0, \"likes\": 1, \"replies\": 1, \"hashtags\": 0, \"tweet_token\": 13, \"media\": 0, \"retweets\": 1}, {\"hour\": 14, \"mentions\": 0, \"likes\": 4, \"replies\": 1, \"hashtags\": 0, \"tweet_token\": 0, \"media\": 0, \"retweets\": 1}, {\"hour\": 15, \"mentions\": 0, \"likes\": 360, \"replies\": 94, \"hashtags\": 1, \"tweet_token\": 8, \"media\": 1, \"retweets\": 114}, {\"hour\": 15, \"mentions\": 0, \"likes\": 2, \"replies\": 2, \"hashtags\": 0, \"tweet_token\": 18, \"media\": 0, \"retweets\": 3}, {\"hour\": 16, \"mentions\": 1, \"likes\": 4102, \"replies\": 241, \"hashtags\": 0, \"tweet_token\": 21, \"media\": 0, \"retweets\": 476}, {\"hour\": 16, \"mentions\": 0, \"likes\": 2, \"replies\": 3, \"hashtags\": 0, \"tweet_token\": 24, \"media\": 0, \"retweets\": 2}, {\"hour\": 20, \"mentions\": 0, \"likes\": 1232, \"replies\": 207, \"hashtags\": 2, \"tweet_token\": 17, \"media\": 1, \"retweets\": 387}, {\"hour\": 12, \"mentions\": 0, \"likes\": 873, \"replies\": 84, \"hashtags\": 2, \"tweet_token\": 20, \"media\": 1, \"retweets\": 222}, {\"hour\": 13, \"mentions\": 0, \"likes\": 3, \"replies\": 1, \"hashtags\": 0, \"tweet_token\": 10, \"media\": 0, \"retweets\": 1}, {\"hour\": 13, \"mentions\": 0, \"likes\": 32, \"replies\": 2, \"hashtags\": 1, \"tweet_token\": 8, \"media\": 0, \"retweets\": 3}, {\"hour\": 13, \"mentions\": 0, \"likes\": 1090, \"replies\": 230, \"hashtags\": 3, \"tweet_token\": 22, \"media\": 2, \"retweets\": 248}, {\"hour\": 17, \"mentions\": 0, \"likes\": 637, \"replies\": 83, \"hashtags\": 0, \"tweet_token\": 13, \"media\": 2, \"retweets\": 109}, {\"hour\": 12, \"mentions\": 1, \"likes\": 3423, \"replies\": 248, \"hashtags\": 1, \"tweet_token\": 18, \"media\": 0, \"retweets\": 623}, {\"hour\": 20, \"mentions\": 0, \"likes\": 270, \"replies\": 76, \"hashtags\": 0, \"tweet_token\": 24, \"media\": 2, \"retweets\": 44}, {\"hour\": 20, \"mentions\": 0, \"likes\": 24, \"replies\": 3, \"hashtags\": 0, \"tweet_token\": 12, \"media\": 0, \"retweets\": 1}, {\"hour\": 20, \"mentions\": 0, \"likes\": 786, \"replies\": 57, \"hashtags\": 4, \"tweet_token\": 20, \"media\": 0, \"retweets\": 240}, {\"hour\": 11, \"mentions\": 1, \"likes\": 2975, \"replies\": 183, \"hashtags\": 0, \"tweet_token\": 20, \"media\": 0, \"retweets\": 472}, {\"hour\": 11, \"mentions\": 0, \"likes\": 27, \"replies\": 2, \"hashtags\": 0, \"tweet_token\": 1, \"media\": 0, \"retweets\": 9}, {\"hour\": 16, \"mentions\": 0, \"likes\": 9, \"replies\": 1, \"hashtags\": 0, \"tweet_token\": 0, \"media\": 0, \"retweets\": 3}, {\"hour\": 11, \"mentions\": 1, \"likes\": 111, \"replies\": 33, \"hashtags\": 1, \"tweet_token\": 26, \"media\": 0, \"retweets\": 46}, {\"hour\": 13, \"mentions\": 1, \"likes\": 214, \"replies\": 53, \"hashtags\": 1, \"tweet_token\": 30, \"media\": 3, \"retweets\": 73}, {\"hour\": 14, \"mentions\": 2, \"likes\": 350, \"replies\": 44, \"hashtags\": 1, \"tweet_token\": 17, \"media\": 2, \"retweets\": 68}, {\"hour\": 10, \"mentions\": 1, \"likes\": 227, \"replies\": 25, \"hashtags\": 1, \"tweet_token\": 15, \"media\": 0, \"retweets\": 61}, {\"hour\": 9, \"mentions\": 1, \"likes\": 1143, \"replies\": 134, \"hashtags\": 1, \"tweet_token\": 24, \"media\": 0, \"retweets\": 255}, {\"hour\": 10, \"mentions\": 0, \"likes\": 616, \"replies\": 32, \"hashtags\": 0, \"tweet_token\": 26, \"media\": 2, \"retweets\": 141}, {\"hour\": 20, \"mentions\": 0, \"likes\": 48, \"replies\": 8, \"hashtags\": 1, \"tweet_token\": 9, \"media\": 0, \"retweets\": 16}, {\"hour\": 13, \"mentions\": 0, \"likes\": 4, \"replies\": 2, \"hashtags\": 0, \"tweet_token\": 11, \"media\": 0, \"retweets\": 1}, {\"hour\": 20, \"mentions\": 0, \"likes\": 475, \"replies\": 36, \"hashtags\": 4, \"tweet_token\": 18, \"media\": 5, \"retweets\": 165}, {\"hour\": 15, \"mentions\": 0, \"likes\": 441, \"replies\": 38, \"hashtags\": 1, \"tweet_token\": 26, \"media\": 1, \"retweets\": 124}, {\"hour\": 11, \"mentions\": 0, \"likes\": 4909, \"replies\": 156, \"hashtags\": 2, \"tweet_token\": 22, \"media\": 2, \"retweets\": 1038}, {\"hour\": 20, \"mentions\": 0, \"likes\": 4732, \"replies\": 408, \"hashtags\": 1, \"tweet_token\": 13, \"media\": 2, \"retweets\": 1326}, {\"hour\": 17, \"mentions\": 1, \"likes\": 257, \"replies\": 26, \"hashtags\": 0, \"tweet_token\": 23, \"media\": 4, \"retweets\": 68}, {\"hour\": 16, \"mentions\": 1, \"likes\": 1008, \"replies\": 104, \"hashtags\": 1, \"tweet_token\": 24, \"media\": 1, \"retweets\": 192}, {\"hour\": 22, \"mentions\": 1, \"likes\": 9294, \"replies\": 134, \"hashtags\": 0, \"tweet_token\": 20, \"media\": 0, \"retweets\": 1253}, {\"hour\": 11, \"mentions\": 0, \"likes\": 5, \"replies\": 1, \"hashtags\": 0, \"tweet_token\": 0, \"media\": 0, \"retweets\": 1}, {\"hour\": 9, \"mentions\": 3, \"likes\": 485, \"replies\": 117, \"hashtags\": 0, \"tweet_token\": 16, \"media\": 0, \"retweets\": 118}, {\"hour\": 22, \"mentions\": 0, \"likes\": 8792, \"replies\": 573, \"hashtags\": 0, \"tweet_token\": 11, \"media\": 2, \"retweets\": 1347}, {\"hour\": 16, \"mentions\": 0, \"likes\": 26, \"replies\": 4, \"hashtags\": 0, \"tweet_token\": 8, \"media\": 0, \"retweets\": 3}, {\"hour\": 13, \"mentions\": 0, \"likes\": 1020, \"replies\": 89, \"hashtags\": 1, \"tweet_token\": 13, \"media\": 1, \"retweets\": 324}, {\"hour\": 13, \"mentions\": 0, \"likes\": 10, \"replies\": 1, \"hashtags\": 0, \"tweet_token\": 14, \"media\": 0, \"retweets\": 1}, {\"hour\": 11, \"mentions\": 2, \"likes\": 280, \"replies\": 77, \"hashtags\": 0, \"tweet_token\": 24, \"media\": 0, \"retweets\": 72}, {\"hour\": 18, \"mentions\": 0, \"likes\": 663, \"replies\": 28, \"hashtags\": 0, \"tweet_token\": 10, \"media\": 0, \"retweets\": 76}, {\"hour\": 12, \"mentions\": 0, \"likes\": 7, \"replies\": 1, \"hashtags\": 0, \"tweet_token\": 20, \"media\": 0, \"retweets\": 1}, {\"hour\": 13, \"mentions\": 1, \"likes\": 669, \"replies\": 26, \"hashtags\": 0, \"tweet_token\": 13, \"media\": 0, \"retweets\": 103}, {\"hour\": 10, \"mentions\": 0, \"likes\": 65, \"replies\": 3, \"hashtags\": 0, \"tweet_token\": 4, \"media\": 0, \"retweets\": 1}, {\"hour\": 9, \"mentions\": 0, \"likes\": 927, \"replies\": 74, \"hashtags\": 3, \"tweet_token\": 22, \"media\": 2, \"retweets\": 196}, {\"hour\": 12, \"mentions\": 0, \"likes\": 80, \"replies\": 8, \"hashtags\": 0, \"tweet_token\": 10, \"media\": 0, \"retweets\": 9}, {\"hour\": 14, \"mentions\": 0, \"likes\": 4, \"replies\": 2, \"hashtags\": 0, \"tweet_token\": 12, \"media\": 0, \"retweets\": 1}, {\"hour\": 10, \"mentions\": 0, \"likes\": 41, \"replies\": 8, \"hashtags\": 0, \"tweet_token\": 8, \"media\": 0, \"retweets\": 4}, {\"hour\": 10, \"mentions\": 1, \"likes\": 485, \"replies\": 62, \"hashtags\": 0, \"tweet_token\": 20, \"media\": 0, \"retweets\": 140}, {\"hour\": 20, \"mentions\": 0, \"likes\": 100, \"replies\": 47, \"hashtags\": 0, \"tweet_token\": 24, \"media\": 2, \"retweets\": 32}, {\"hour\": 16, \"mentions\": 0, \"likes\": 36, \"replies\": 4, \"hashtags\": 0, \"tweet_token\": 23, \"media\": 0, \"retweets\": 15}, {\"hour\": 20, \"mentions\": 0, \"likes\": 4079, \"replies\": 324, \"hashtags\": 2, \"tweet_token\": 17, \"media\": 1, \"retweets\": 1175}, {\"hour\": 15, \"mentions\": 0, \"likes\": 9, \"replies\": 1, \"hashtags\": 0, \"tweet_token\": 9, \"media\": 0, \"retweets\": 2}, {\"hour\": 16, \"mentions\": 0, \"likes\": 3, \"replies\": 1, \"hashtags\": 0, \"tweet_token\": 12, \"media\": 0, \"retweets\": 1}, {\"hour\": 9, \"mentions\": 1, \"likes\": 593, \"replies\": 53, \"hashtags\": 2, \"tweet_token\": 22, \"media\": 0, \"retweets\": 165}, {\"hour\": 18, \"mentions\": 0, \"likes\": 1022, \"replies\": 181, \"hashtags\": 1, \"tweet_token\": 17, \"media\": 2, \"retweets\": 216}, {\"hour\": 8, \"mentions\": 1, \"likes\": 582, \"replies\": 84, \"hashtags\": 2, \"tweet_token\": 18, \"media\": 0, \"retweets\": 151}, {\"hour\": 11, \"mentions\": 0, \"likes\": 9, \"replies\": 1, \"hashtags\": 0, \"tweet_token\": 17, \"media\": 0, \"retweets\": 3}, {\"hour\": 17, \"mentions\": 0, \"likes\": 543, \"replies\": 177, \"hashtags\": 0, \"tweet_token\": 10, \"media\": 2, \"retweets\": 76}, {\"hour\": 16, \"mentions\": 1, \"likes\": 228, \"replies\": 73, \"hashtags\": 1, \"tweet_token\": 14, \"media\": 2, \"retweets\": 78}, {\"hour\": 11, \"mentions\": 0, \"likes\": 2480, \"replies\": 316, \"hashtags\": 0, \"tweet_token\": 23, \"media\": 2, \"retweets\": 321}, {\"hour\": 14, \"mentions\": 0, \"likes\": 43, \"replies\": 4, \"hashtags\": 0, \"tweet_token\": 3, \"media\": 0, \"retweets\": 3}, {\"hour\": 12, \"mentions\": 0, \"likes\": 3, \"replies\": 2, \"hashtags\": 0, \"tweet_token\": 9, \"media\": 0, \"retweets\": 1}, {\"hour\": 13, \"mentions\": 0, \"likes\": 10, \"replies\": 2, \"hashtags\": 0, \"tweet_token\": 7, \"media\": 0, \"retweets\": 1}, {\"hour\": 20, \"mentions\": 1, \"likes\": 527, \"replies\": 57, \"hashtags\": 2, \"tweet_token\": 16, \"media\": 0, \"retweets\": 145}, {\"hour\": 13, \"mentions\": 0, \"likes\": 832, \"replies\": 91, \"hashtags\": 1, \"tweet_token\": 8, \"media\": 0, \"retweets\": 160}, {\"hour\": 14, \"mentions\": 0, \"likes\": 77, \"replies\": 10, \"hashtags\": 2, \"tweet_token\": 14, \"media\": 0, \"retweets\": 22}, {\"hour\": 20, \"mentions\": 0, \"likes\": 48, \"replies\": 2, \"hashtags\": 0, \"tweet_token\": 14, \"media\": 0, \"retweets\": 7}, {\"hour\": 20, \"mentions\": 0, \"likes\": 3, \"replies\": 1, \"hashtags\": 0, \"tweet_token\": 5, \"media\": 0, \"retweets\": 1}, {\"hour\": 15, \"mentions\": 1, \"likes\": 111, \"replies\": 21, \"hashtags\": 0, \"tweet_token\": 14, \"media\": 0, \"retweets\": 29}, {\"hour\": 21, \"mentions\": 2, \"likes\": 659, \"replies\": 74, \"hashtags\": 1, \"tweet_token\": 14, \"media\": 0, \"retweets\": 178}, {\"hour\": 21, \"mentions\": 0, \"likes\": 271, \"replies\": 6, \"hashtags\": 0, \"tweet_token\": 3, \"media\": 0, \"retweets\": 83}, {\"hour\": 19, \"mentions\": 1, \"likes\": 159, \"replies\": 33, \"hashtags\": 1, \"tweet_token\": 25, \"media\": 1, \"retweets\": 30}, {\"hour\": 12, \"mentions\": 5, \"likes\": 401, \"replies\": 60, \"hashtags\": 2, \"tweet_token\": 14, \"media\": 0, \"retweets\": 112}, {\"hour\": 20, \"mentions\": 0, \"likes\": 83, \"replies\": 4, \"hashtags\": 0, \"tweet_token\": 6, \"media\": 0, \"retweets\": 1}, {\"hour\": 13, \"mentions\": 0, \"likes\": 22, \"replies\": 3, \"hashtags\": 0, \"tweet_token\": 3, \"media\": 0, \"retweets\": 6}, {\"hour\": 12, \"mentions\": 0, \"likes\": 17, \"replies\": 2, \"hashtags\": 0, \"tweet_token\": 6, \"media\": 0, \"retweets\": 4}, {\"hour\": 11, \"mentions\": 2, \"likes\": 2902, \"replies\": 207, \"hashtags\": 2, \"tweet_token\": 22, \"media\": 5, \"retweets\": 612}, {\"hour\": 21, \"mentions\": 0, \"likes\": 3, \"replies\": 1, \"hashtags\": 0, \"tweet_token\": 14, \"media\": 0, \"retweets\": 1}, {\"hour\": 17, \"mentions\": 0, \"likes\": 7146, \"replies\": 1482, \"hashtags\": 0, \"tweet_token\": 18, \"media\": 0, \"retweets\": 1733}, {\"hour\": 12, \"mentions\": 0, \"likes\": 6, \"replies\": 1, \"hashtags\": 0, \"tweet_token\": 13, \"media\": 1, \"retweets\": 3}, {\"hour\": 17, \"mentions\": 0, \"likes\": 325, \"replies\": 87, \"hashtags\": 1, \"tweet_token\": 20, \"media\": 0, \"retweets\": 54}, {\"hour\": 20, \"mentions\": 0, \"likes\": 73, \"replies\": 30, \"hashtags\": 0, \"tweet_token\": 17, \"media\": 0, \"retweets\": 7}, {\"hour\": 13, \"mentions\": 0, \"likes\": 2, \"replies\": 1, \"hashtags\": 0, \"tweet_token\": 0, \"media\": 0, \"retweets\": 1}, {\"hour\": 18, \"mentions\": 0, \"likes\": 48, \"replies\": 4, \"hashtags\": 0, \"tweet_token\": 15, \"media\": 0, \"retweets\": 6}, {\"hour\": 15, \"mentions\": 0, \"likes\": 59, \"replies\": 8, \"hashtags\": 0, \"tweet_token\": 3, \"media\": 0, \"retweets\": 3}, {\"hour\": 9, \"mentions\": 3, \"likes\": 365, \"replies\": 36, \"hashtags\": 2, \"tweet_token\": 12, \"media\": 0, \"retweets\": 98}, {\"hour\": 11, \"mentions\": 0, \"likes\": 10, \"replies\": 3, \"hashtags\": 0, \"tweet_token\": 20, \"media\": 0, \"retweets\": 1}, {\"hour\": 21, \"mentions\": 0, \"likes\": 478, \"replies\": 12, \"hashtags\": 0, \"tweet_token\": 6, \"media\": 0, \"retweets\": 29}, {\"hour\": 21, \"mentions\": 1, \"likes\": 115, \"replies\": 32, \"hashtags\": 1, \"tweet_token\": 20, \"media\": 1, \"retweets\": 32}, {\"hour\": 9, \"mentions\": 1, \"likes\": 6229, \"replies\": 496, \"hashtags\": 1, \"tweet_token\": 20, \"media\": 0, \"retweets\": 846}, {\"hour\": 8, \"mentions\": 1, \"likes\": 613, \"replies\": 84, \"hashtags\": 2, \"tweet_token\": 20, \"media\": 0, \"retweets\": 167}, {\"hour\": 22, \"mentions\": 1, \"likes\": 2455, \"replies\": 260, \"hashtags\": 0, \"tweet_token\": 10, \"media\": 0, \"retweets\": 728}, {\"hour\": 11, \"mentions\": 0, \"likes\": 121, \"replies\": 50, \"hashtags\": 1, \"tweet_token\": 17, \"media\": 0, \"retweets\": 65}, {\"hour\": 10, \"mentions\": 0, \"likes\": 126, \"replies\": 32, \"hashtags\": 1, \"tweet_token\": 26, \"media\": 2, \"retweets\": 64}, {\"hour\": 20, \"mentions\": 0, \"likes\": 3063, \"replies\": 194, \"hashtags\": 0, \"tweet_token\": 13, \"media\": 2, \"retweets\": 429}, {\"hour\": 13, \"mentions\": 0, \"likes\": 7, \"replies\": 1, \"hashtags\": 0, \"tweet_token\": 2, \"media\": 0, \"retweets\": 1}, {\"hour\": 10, \"mentions\": 0, \"likes\": 2, \"replies\": 1, \"hashtags\": 1, \"tweet_token\": 4, \"media\": 0, \"retweets\": 1}, {\"hour\": 21, \"mentions\": 0, \"likes\": 378, \"replies\": 33, \"hashtags\": 2, \"tweet_token\": 2, \"media\": 0, \"retweets\": 88}, {\"hour\": 12, \"mentions\": 0, \"likes\": 25, \"replies\": 1, \"hashtags\": 0, \"tweet_token\": 3, \"media\": 0, \"retweets\": 5}, {\"hour\": 22, \"mentions\": 1, \"likes\": 1147, \"replies\": 115, \"hashtags\": 1, \"tweet_token\": 19, \"media\": 0, \"retweets\": 296}, {\"hour\": 10, \"mentions\": 0, \"likes\": 1454, \"replies\": 230, \"hashtags\": 1, \"tweet_token\": 14, \"media\": 2, \"retweets\": 376}, {\"hour\": 20, \"mentions\": 0, \"likes\": 3063, \"replies\": 194, \"hashtags\": 0, \"tweet_token\": 13, \"media\": 2, \"retweets\": 429}, {\"hour\": 11, \"mentions\": 0, \"likes\": 434, \"replies\": 54, \"hashtags\": 2, \"tweet_token\": 23, \"media\": 2, \"retweets\": 126}, {\"hour\": 21, \"mentions\": 0, \"likes\": 762, \"replies\": 80, \"hashtags\": 0, \"tweet_token\": 18, \"media\": 0, \"retweets\": 133}, {\"hour\": 13, \"mentions\": 0, \"likes\": 3774, \"replies\": 465, \"hashtags\": 0, \"tweet_token\": 23, \"media\": 2, \"retweets\": 691}, {\"hour\": 11, \"mentions\": 0, \"likes\": 8, \"replies\": 1, \"hashtags\": 0, \"tweet_token\": 3, \"media\": 0, \"retweets\": 1}, {\"hour\": 18, \"mentions\": 0, \"likes\": 6450, \"replies\": 686, \"hashtags\": 1, \"tweet_token\": 23, \"media\": 2, \"retweets\": 900}, {\"hour\": 10, \"mentions\": 1, \"likes\": 63, \"replies\": 26, \"hashtags\": 0, \"tweet_token\": 21, \"media\": 0, \"retweets\": 21}, {\"hour\": 18, \"mentions\": 0, \"likes\": 565, \"replies\": 63, \"hashtags\": 1, \"tweet_token\": 23, \"media\": 4, \"retweets\": 144}, {\"hour\": 11, \"mentions\": 0, \"likes\": 16, \"replies\": 33, \"hashtags\": 0, \"tweet_token\": 5, \"media\": 0, \"retweets\": 3}]}}, {\"mode\": \"vega-lite\"});\n",
       "</script>"
      ],
      "text/plain": [
       "alt.VConcatChart(...)"
      ]
     },
     "execution_count": 15,
     "metadata": {},
     "output_type": "execute_result"
    }
   ],
   "source": [
    "chart = (likes&replies)\n",
    "chart"
   ]
  },
  {
   "cell_type": "markdown",
   "id": "3ff4aecb",
   "metadata": {},
   "source": [
    "Podemos notar que nuestra hipótesis es cierta, notamos como a medida que aumentan los likes y replies el número de retweets aumentan, obviamente esto dependera de otros factores, sin embargo podemos ver una tendencia creciente, ademas vemos como la relación de los likes en los retweets es muy grande debido a su manera de crecer de manera un poco más suavizada a diferencia de los replies."
   ]
  },
  {
   "cell_type": "markdown",
   "id": "8c6fe398",
   "metadata": {},
   "source": [
    "## El mapa de calor nos ayudar a obtener mejores conclusiones"
   ]
  },
  {
   "cell_type": "code",
   "execution_count": 16,
   "id": "6ad038bb",
   "metadata": {
    "hide_input": true
   },
   "outputs": [
    {
     "data": {
      "text/plain": [
       "Text(0.5, 1.0, 'Mapa de correlación de df_twitter')"
      ]
     },
     "execution_count": 16,
     "metadata": {},
     "output_type": "execute_result"
    },
    {
     "data": {
      "image/png": "[encoded data removed]",
      "text/plain": [
       "<Figure size 720x576 with 2 Axes>"
      ]
     },
     "metadata": {
      "needs_background": "light"
     },
     "output_type": "display_data"
    }
   ],
   "source": [
    "fig, ax = plt.subplots(figsize=(10,8))\n",
    "sns.heatmap(df_twitter.corr(),annot=True,ax=ax,cmap=\"Blues\")\n",
    "ax.set_title('Mapa de correlación de df_twitter')"
   ]
  },
  {
   "cell_type": "markdown",
   "id": "41607a9b",
   "metadata": {},
   "source": [
    "<div class=\"alert alert-success\">\n",
    "  <strong>Los likes y replies son una excelente entrada para nuestro modelo!</strong> Al ver la gran relación que existe entre los retweets con los likes y replies se los considera entradas perfectas para nuestro modelo de regresión.</div>\n",
    "\n",
    "<div class=\"alert alert-danger\">\n",
    "  <strong>La hora no es determinante en un tweet</strong> Si bien en el procesamiento habíamos comentado la importancia de la hora al momento de realizar un tweet, en este mapa nos damos cuenta la poca relación que tiene la hora con los retweets.</div>"
   ]
  },
  {
   "cell_type": "markdown",
   "id": "8ec0cb61",
   "metadata": {},
   "source": [
    "Con este pequeño análisis que realizamos podemos empezar a crear nuestro modelo de regresión a partir de los datos de entrada que hemos escogído por el análisis realizado"
   ]
  },
  {
   "cell_type": "markdown",
   "id": "787abdf3",
   "metadata": {},
   "source": [
    "## Modelo de regresión\n",
    "\n",
    "Ahora procedemos a realizar los modelos de regresión para predecir la popularidad de un tweet dado ciertas entreadas, en este caso escogímos como entrada los likes y replies, mientras que para la salida serán los retweets. Para realizar este modelo tomaremos muy en cuenta el problema de overfitting, para ello realizaremos una división de train y test diferente utilizando cross validation."
   ]
  },
  {
   "cell_type": "markdown",
   "id": "fbea0d0d",
   "metadata": {},
   "source": [
    "### División train test con cross validation\n",
    "\n",
    "Para estom utilizamos el cross_val_score que nos permite obtener un score de la validación cruzada tomando en cuenta el modelo y los valores de entrada y salida. Hemos probado con distintos regresores, entre los cuales estan lineales,regularizadores y robustos. Se obtuvo los siguientes resultados"
   ]
  },
  {
   "cell_type": "code",
   "execution_count": 17,
   "id": "69037baf",
   "metadata": {
    "hide_input": false,
    "scrolled": true
   },
   "outputs": [
    {
     "name": "stdout",
     "output_type": "stream",
     "text": [
      "LINEAR score is : 0.900\n",
      "POLY score is : 0.921\n",
      "RIDGE score is : 0.900\n",
      "LASSO score is : 0.900\n",
      "HUBER score is : 0.893\n",
      "RANSAC score is : 0.677\n"
     ]
    }
   ],
   "source": [
    "def cross_score(model,x,y,cv=4):\n",
    "    score = cross_val_score(model,x,y,cv=cv)\n",
    "    return np.mean(score)\n",
    "\n",
    "#datos de entrada\n",
    "features = ['likes','replies']\n",
    "\n",
    "#entradas y salidas\n",
    "x = df_twitter[features]\n",
    "y = df_twitter['retweets']\n",
    "\n",
    "#kfold\n",
    "kf = KFold(n_splits=4, shuffle=True, random_state=42)\n",
    "\n",
    "#modelos de regresión\n",
    "models = {\n",
    "    'LINEAR' : LinearRegression(),\n",
    "    'POLY'   : Pipeline([('poly', PolynomialFeatures(degree=3)),\n",
    "                         ('linear', LinearRegression())]),\n",
    "    'RIDGE'  : Ridge(alpha=1),\n",
    "    'LASSO'  : Lasso(alpha=0.02),\n",
    "    'HUBER'  : HuberRegressor(epsilon=1.35),\n",
    "    'RANSAC' : RANSACRegressor()\n",
    "}\n",
    "\n",
    "#resultados\n",
    "for name,estimator in models.items():\n",
    "    print('{} score is : {:,.3f}'.format(name,cross_score(estimator,x,y,kf)))"
   ]
  },
  {
   "cell_type": "markdown",
   "id": "f40e8995",
   "metadata": {},
   "source": [
    "Como podemos notar, el mejor regresor es el polinomial, mientras que el lineal, ridge,lasso mantienen valores iguales, por otro lado vemos que los regresores robustos como HUBER y RANSAC tienen distintos resultados donde RANSAC es el peor de todos. Con esto en cuenta y viendo que hemos podido realizar varias pruebas con varios modelos, decidímos utilizar el **regresor polinomial**."
   ]
  },
  {
   "cell_type": "markdown",
   "id": "27f58a4c",
   "metadata": {},
   "source": [
    "### Regresión polinomial\n",
    "\n",
    "Como habíamos indicado anteriormente, este regresor fue el mejor de todos en cuanto al cross validation de k-folds. Con ello en cuenta procedemos a realizar el entreamiento kfold."
   ]
  },
  {
   "cell_type": "code",
   "execution_count": 18,
   "id": "1b203831",
   "metadata": {
    "hide_input": false
   },
   "outputs": [
    {
     "name": "stdout",
     "output_type": "stream",
     "text": [
      "POLYNOMIAL SCORE IS: 0.923\n"
     ]
    }
   ],
   "source": [
    "model_poly = models['POLY']\n",
    "for train,test in kf.split(df_twitter):\n",
    "    x_train = x[features].iloc[train]\n",
    "    y_train = y.iloc[train]\n",
    "    x_test = x[features].iloc[test]\n",
    "    y_test = y.iloc[test]\n",
    "    model_poly.fit(x_train,y_train)\n",
    "\n",
    "print('POLYNOMIAL SCORE IS: {:,.3f}'.format(model_poly.score(x,y)))\n",
    "predict = model_poly.predict(x)\n",
    "data = pd.DataFrame({'index':x['likes'],'real':y,'predict':predict})"
   ]
  },
  {
   "cell_type": "markdown",
   "id": "5e7e6a82",
   "metadata": {},
   "source": [
    "Como podemos notar en el score, su valor es el óptimo obtenido por el cross-validation, haciendo que nuestro modelo este correcto y este óptimo sin sufrir overfitting. Ahora realizaremos un pequeño gráfico con ciertos datos para verificar los datos predecidos de los reales"
   ]
  },
  {
   "cell_type": "code",
   "execution_count": 19,
   "id": "b0c9daa1",
   "metadata": {
    "hide_input": true
   },
   "outputs": [
    {
     "data": {
      "text/html": [
       "\n",
       "<div id=\"altair-viz-11f9ccba70824e599fb89c382e446498\"></div>\n",
       "<script type=\"text/javascript\">\n",
       "  (function(spec, embedOpt){\n",
       "    let outputDiv = document.currentScript.previousElementSibling;\n",
       "    if (outputDiv.id !== \"altair-viz-11f9ccba70824e599fb89c382e446498\") {\n",
       "      outputDiv = document.getElementById(\"altair-viz-11f9ccba70824e599fb89c382e446498\");\n",
       "    }\n",
       "    const paths = {\n",
       "      \"vega\": \"https://cdn.jsdelivr.net/npm//vega@5?noext\",\n",
       "      \"vega-lib\": \"https://cdn.jsdelivr.net/npm//vega-lib?noext\",\n",
       "      \"vega-lite\": \"https://cdn.jsdelivr.net/npm//vega-lite@4.8.1?noext\",\n",
       "      \"vega-embed\": \"https://cdn.jsdelivr.net/npm//vega-embed@6?noext\",\n",
       "    };\n",
       "\n",
       "    function loadScript(lib) {\n",
       "      return new Promise(function(resolve, reject) {\n",
       "        var s = document.createElement('script');\n",
       "        s.src = paths[lib];\n",
       "        s.async = true;\n",
       "        s.onload = () => resolve(paths[lib]);\n",
       "        s.onerror = () => reject(`Error loading script: ${paths[lib]}`);\n",
       "        document.getElementsByTagName(\"head\")[0].appendChild(s);\n",
       "      });\n",
       "    }\n",
       "\n",
       "    function showError(err) {\n",
       "      outputDiv.innerHTML = `<div class=\"error\" style=\"color:red;\">${err}</div>`;\n",
       "      throw err;\n",
       "    }\n",
       "\n",
       "    function displayChart(vegaEmbed) {\n",
       "      vegaEmbed(outputDiv, spec, embedOpt)\n",
       "        .catch(err => showError(`Javascript Error: ${err.message}<br>This usually means there's a typo in your chart specification. See the javascript console for the full traceback.`));\n",
       "    }\n",
       "\n",
       "    if(typeof define === \"function\" && define.amd) {\n",
       "      requirejs.config({paths});\n",
       "      require([\"vega-embed\"], displayChart, err => showError(`Error loading script: ${err.message}`));\n",
       "    } else if (typeof vegaEmbed === \"function\") {\n",
       "      displayChart(vegaEmbed);\n",
       "    } else {\n",
       "      loadScript(\"vega\")\n",
       "        .then(() => loadScript(\"vega-lite\"))\n",
       "        .then(() => loadScript(\"vega-embed\"))\n",
       "        .catch(showError)\n",
       "        .then(() => displayChart(vegaEmbed));\n",
       "    }\n",
       "  })({\"config\": {\"view\": {\"continuousWidth\": 400, \"continuousHeight\": 300}}, \"layer\": [{\"mark\": {\"type\": \"point\", \"color\": \"orange\"}, \"encoding\": {\"x\": {\"type\": \"quantitative\", \"field\": \"index\"}, \"y\": {\"type\": \"quantitative\", \"field\": \"real\", \"title\": \"retweet\"}}, \"selection\": {\"selector003\": {\"type\": \"interval\", \"bind\": \"scales\", \"encodings\": [\"x\", \"y\"]}}}, {\"mark\": {\"type\": \"line\", \"color\": \"red\"}, \"encoding\": {\"x\": {\"type\": \"quantitative\", \"field\": \"index\", \"title\": \"likes\"}, \"y\": {\"type\": \"quantitative\", \"field\": \"predict\"}}}], \"data\": {\"name\": \"data-80f433c624957ba853ac15ccb749a1cd\"}, \"title\": \"Test VS Predict\", \"$schema\": \"https://vega.github.io/schema/vega-lite/v4.8.1.json\", \"datasets\": {\"data-80f433c624957ba853ac15ccb749a1cd\": [{\"index\": 1213, \"real\": 216, \"predict\": 221.8122083666653}, {\"index\": 10703, \"real\": 1542, \"predict\": 1758.428930934994}, {\"index\": 2061, \"real\": 384, \"predict\": 398.7641193951383}, {\"index\": 1922, \"real\": 402, \"predict\": 376.88839323029265}, {\"index\": 2976, \"real\": 546, \"predict\": 583.7645386206609}, {\"index\": 2735, \"real\": 354, \"predict\": 510.3438966859038}, {\"index\": 3460, \"real\": 708, \"predict\": 675.1795267995632}, {\"index\": 1865, \"real\": 296, \"predict\": 407.14553896019595}, {\"index\": 3832, \"real\": 691, \"predict\": 687.5315592901095}, {\"index\": 1132, \"real\": 289, \"predict\": 239.96434334057295}, {\"index\": 16734, \"real\": 1316, \"predict\": 2344.400737214079}, {\"index\": 2016, \"real\": 552, \"predict\": 441.6441519038216}, {\"index\": 5092, \"real\": 950, \"predict\": 986.9130822141088}, {\"index\": 4300, \"real\": 773, \"predict\": 898.2788545683261}, {\"index\": 2902, \"real\": 612, \"predict\": 556.8677406290434}, {\"index\": 5848, \"real\": 1060, \"predict\": 1042.110546456523}, {\"index\": 3593, \"real\": 829, \"predict\": 680.5216016588703}, {\"index\": 8900, \"real\": 1254, \"predict\": 1420.459936076345}, {\"index\": 5742, \"real\": 727, \"predict\": 985.0598734940008}, {\"index\": 14858, \"real\": 2870, \"predict\": 2288.0467465554734}]}}, {\"mode\": \"vega-lite\"});\n",
       "</script>"
      ],
      "text/plain": [
       "alt.LayerChart(...)"
      ]
     },
     "execution_count": 19,
     "metadata": {},
     "output_type": "execute_result"
    }
   ],
   "source": [
    "sample = data[data['real']>=100].head(20)\n",
    "chart=alt.Chart(sample).mark_point(color='orange').encode(\n",
    "    x='index',\n",
    "    y=alt.Y('real',title='retweet')\n",
    "    )+alt.Chart(sample).mark_line(color='red').encode(\n",
    "        x=alt.X('index',title='likes'),\n",
    "        y='predict'\n",
    "    )\n",
    "chart.properties(title='Test VS Predict').interactive()"
   ]
  },
  {
   "cell_type": "markdown",
   "id": "7f64c4ae",
   "metadata": {},
   "source": [
    "A primera vista, la gráfica pareciera como si se presentara un overfitting, pero no es así, al tener un modelo de regresión de multivariables, la curva se ajusta mejor, sin embargo esto no es overfitting por dos razones **el score obtenido** es el adecuado al del cross-validation y **no estan conectados todos los puntos** y al no tener eso significa que se esta tratando de ajusta de la mejor manera"
   ]
  },
  {
   "cell_type": "markdown",
   "id": "da31ed26",
   "metadata": {},
   "source": [
    "### Predicciones\n",
    "\n",
    "Un modelo de regresión no nos serviría de nada si no procedemos a realizar predicciones, para ello vamos a tomar tweets de ejemplo:\n",
    "\n",
    "Vamos a tomar un tweet de Guillermo Lasso el cual tiene 3800 likes y 98 comentarios, con esta cifra se tiene un total de 614 retweets. Con esto en mente procedemos a realizar la predicción"
   ]
  },
  {
   "cell_type": "code",
   "execution_count": 20,
   "id": "be55fddd",
   "metadata": {
    "hide_input": true
   },
   "outputs": [
    {
     "name": "stdout",
     "output_type": "stream",
     "text": [
      "El tweet con 3800 likes y 98 respuestas predice 644 retweets con una presición de 92.330%\n"
     ]
    }
   ],
   "source": [
    "likes   = 3800\n",
    "replies = 98\n",
    "score= model_poly.score(x,y)*100\n",
    "value_p = model_poly.predict(np.array([likes,replies]).reshape(1,-1))\n",
    "print('El tweet con {} likes y {} respuestas predice {:,.0f} retweets con una presición de {:,.3f}%'.format(likes,replies,value_p[0],score))"
   ]
  },
  {
   "cell_type": "markdown",
   "id": "4c98f81f",
   "metadata": {},
   "source": [
    "Ahora vamos a realizar la predicción con otro tweet que tiene 660 likes y 26 replies, con esta cifra se tiene un total de 184 retweets. Con esto en mente, procedemos a realizar la predicción."
   ]
  },
  {
   "cell_type": "code",
   "execution_count": 21,
   "id": "33e7f200",
   "metadata": {
    "hide_input": true
   },
   "outputs": [
    {
     "name": "stdout",
     "output_type": "stream",
     "text": [
      "El tweet con 660 likes y 26 respuestas predice 130 retweets con una presición de 92.330%\n"
     ]
    }
   ],
   "source": [
    "likes   = 660\n",
    "replies = 26\n",
    "score= model_poly.score(x,y)*100\n",
    "value_p = model_poly.predict(np.array([likes,replies]).reshape(1,-1))\n",
    "print('El tweet con {} likes y {} respuestas predice {:,.0f} retweets con una presición de {:,.3f}%'.format(likes,replies,value_p[0],score))"
   ]
  },
  {
   "cell_type": "markdown",
   "id": "5ff99e01",
   "metadata": {},
   "source": [
    "<div class=\"alert alert-success\">\n",
    "  <strong>Nuestro modelo predice valores cercanos!</strong> Recordemos que el score de nuestro modelo es de 90% por lo que existe un 10% de error, por lo tanto, tomando en cuenta ello, nuestro modelo predice correctamente.</div>\n",
    "\n",
    "\n",
    "<div class=\"alert alert-danger\">\n",
    "  <strong>Se recomienda usar técnicas de NPL!</strong> Si bien el machine learning ayuda a predecir la tendencia de tweets, no estamos tomando en cuenta procesos NPL los cuales ayudan a mejorar las predicciones para visualizar la popularidad de un post, ya que estas permiten analizar el téxto como tal.</div>\n"
   ]
  },
  {
   "cell_type": "markdown",
   "id": "91e50dd0",
   "metadata": {},
   "source": [
    "# Simulación del proceso de vacunación en Ecuador\n",
    "\n",
    "![ecuador logo](https://www.eldiario.ec/wp-content/uploads/2021/05/1500x500-1024x341.jpg)\n",
    "\n",
    "se debe seguir un procesos de vacunación en los recintos electorales que se describe a continuación:\n",
    "\n",
    "Solo se va a tener en cuanta uno de los recintos electorales (investigar datos de cuantas personas asisten a votar).\n",
    "*\tTomar los resultados de la regresión para la vacuna según la llegada.\n",
    "*\tSe tiene una promedio que el 80% de personas realizaran el proceso de vacunación dentro del Ecuador.\n",
    "*\tDentro del procesos se tiene que alrededor del 5% - 10% no podrán vacunarse.\n",
    "*\tLas personas solo tiene un recinto electoral para realizar el proceso.\n",
    "*\tLas personas realizan la primera vacuna y 30 días después la segunda vacuna.\n",
    "*\tLa persona se acerca a la mesa  y hacen fila en caso de ser necesario para recibir la vacuna.\n",
    "*\tRealiza la vacunación en un tiempo aleatorio entre 5 a 10 minutos.\n",
    "*\tDebe esperar 20 minutos dentro del establecimiento para verificar que no tenga problemas de salud.\n",
    "*\tLa persona recibe su certificado de vacunación y la fecha de la próxima vacuna entre 2 – 3 minutos.\n",
    "*\tLa persona sale del recinto electoral.\n",
    "*\tRegresan para la próxima fecha y se repite el ciclo.\n",
    "\n",
    "Deben calcularse las siguientes métricas del sistema de simulación de eventos discretos :\n",
    "*\tTotal de de personas que realizaron el proceso de vacunación.\n",
    "*\tGrafico del porcentaje de personas que no recibieron la vacuna.\n",
    "*\tEl tiempo promedio de espera.\n",
    "\n",
    "**Estos requerimientos cambiaran acorde a la simulación que se realizará.**"
   ]
  },
  {
   "cell_type": "markdown",
   "id": "a5f58e10",
   "metadata": {},
   "source": [
    "## Proceso de vacunación\n",
    "\n",
    "Actualmente, con la llegada del nuevo gobierno, en el cual se ha posesionado el señor Guillermo Lasso como nuevo presidente de la república del Ecuador, en su plan de gobierno se tiene el plan de vacunación denominado 9-100. Este plan consiste en vacunar a 9 millones de Ecuatorianos en 100 días. Por tanto, el día 31/05/2021 a las 12:30 se ha presentado el plan de vacunación. Por tanto este plan consta de la siguiente manera:\n",
    "\n",
    "* Se tendra ayuda del CNE y del ministerio de educación para vacunar a la gente utilizando su padrón electoral y los recintos electorales autorizados para la vacunación.\n",
    "* Hasta el momento se cuenta con 317 recintos electorales en donde se realizará el proceso de vacunación.\n",
    "* Se tomara en cuenta que cada día se vacunara al rededor de 100 personas en cada recinto.\n",
    "* El horario de vacunación se realizara de 8:00 am a 17:00 pm de Lunes a Domingo.\n",
    "* No se ha específicado la cantidad de personal para cada recinto, sin embargo, podríamos decir que puede existir al rededor de 5 personas en mesa, 5 personas que realizan el examen, 5 personas que toman los datos, 5 personas que realizan el proceso de vacunación y entregan el certificado creado por la persona que toma los datos, contanto al final con un total de 15 trabajadores en el recinto.\n",
    "* El plan de vacunación constara de varias fases, entre las cuales se tiene prioridad a la línea de fuego en donde tenemos a (policias,medicos,militares,mayores de edad con discapacidad y enfermedades)\n",
    "* El resto de personas que no esta en dicha línea debera esperar su respectiva fase.\n",
    "\n",
    "El gobierno actualmente cuenta con 700 mil vacunas las cuales sera repartidas en todos los recintos, no se tiene estimado cuantas vacunas se distribuiran, sin embargo,tomando en cuenta el número de vacunados por día, se estimaría que llegarían 700 vacunas semanales.\n",
    "\n",
    "\n",
    "* Para más información sobre el plan de vacunación tomar hacer click: **<a href=\"https://guillermolasso.ec/9-millones-de-vacunas/\">[aquí]</a>**\n",
    "\n",
    "* Para saber donde es tu lugar de vacunación hacer click: **<a href=\"https://lugarvacunacion.cne.gob.ec/\">[aqui]</a>**\n",
    "\n",
    "* Para saber sobre el proceso de plan 9-100 hacer click: **<a href = \"https://www.facebook.com/LassoGuillermo/videos/384590036215906\">[aquí]</a>**"
   ]
  },
  {
   "cell_type": "code",
   "execution_count": 22,
   "id": "13da1d4b",
   "metadata": {
    "hide_input": true
   },
   "outputs": [
    {
     "data": {
      "text/html": [
       "<iframe src=\"https://www.facebook.com/plugins/video.php?height=314&href=https%3A%2F%2Fwww.facebook.com%2FLassoGuillermo%2Fvideos%2F384590036215906%2F&show_text=false&width=560&t=0\" width=\"560\" height=\"314\" style=\"border:none;overflow:hidden\" scrolling=\"no\" frameborder=\"0\" allowfullscreen=\"true\" allow=\"autoplay; clipboard-write; encrypted-media; picture-in-picture; web-share\" allowFullScreen=\"true\"></iframe>"
      ],
      "text/plain": [
       "<IPython.core.display.HTML object>"
      ]
     },
     "execution_count": 22,
     "metadata": {},
     "output_type": "execute_result"
    }
   ],
   "source": [
    "from IPython.display import HTML\n",
    "\n",
    "HTML('<iframe src=\"https://www.facebook.com/plugins/video.php?height=314&href=https%3A%2F%2Fwww.facebook.com%2FLassoGuillermo%2Fvideos%2F384590036215906%2F&show_text=false&width=560&t=0\" width=\"560\" height=\"314\" style=\"border:none;overflow:hidden\" scrolling=\"no\" frameborder=\"0\" allowfullscreen=\"true\" allow=\"autoplay; clipboard-write; encrypted-media; picture-in-picture; web-share\" allowFullScreen=\"true\"></iframe>')"
   ]
  },
  {
   "cell_type": "markdown",
   "id": "529d6aee",
   "metadata": {},
   "source": [
    "## Proceso de simulación\n",
    "\n",
    "Una vez explicado el proceso de vacunación, procedemos a explicar como se va a realizar el proceso de simulación. Tomemos en cuenta que vamos a simular **1 recinto para 1 día**, eso quiere decir que vamos a necesitar 100 vacunas y 15 personas para dicho recinto. Esta simulación nos ayudara a estimar como se realizara la vacunación en los siguientes días en varios recintos. Ademas tomemos en cuenta que **1 día** significa que estara en el horario de **8:00am a 17:00pm**. Con esta consideración procedemos a realizar los pasos de simulación."
   ]
  },
  {
   "cell_type": "markdown",
   "id": "6263efaa",
   "metadata": {},
   "source": [
    "### Importar librerias\n",
    "\n",
    "La librería que vamos a importar para realizar el proceso de simulación es Simpy. Esta es una librería que permite realizar simulaciones de eventos discretos de una manera rapida con una curva de aprendizaje muy alta. Ademas de ello utilizaremos la librería random para generar valores pseudoaleatorios."
   ]
  },
  {
   "cell_type": "code",
   "execution_count": 23,
   "id": "b80fff67",
   "metadata": {
    "hide_input": true
   },
   "outputs": [
    {
     "data": {
      "text/html": [
       "        <script type=\"text/javascript\">\n",
       "        window.PlotlyConfig = {MathJaxConfig: 'local'};\n",
       "        if (window.MathJax) {MathJax.Hub.Config({SVG: {font: \"STIX-Web\"}});}\n",
       "        if (typeof require !== 'undefined') {\n",
       "        require.undef(\"plotly\");\n",
       "        requirejs.config({\n",
       "            paths: {\n",
       "                'plotly': ['https://cdn.plot.ly/plotly-latest.min']\n",
       "            }\n",
       "        });\n",
       "        require(['plotly'], function(Plotly) {\n",
       "            window._Plotly = Plotly;\n",
       "        });\n",
       "        }\n",
       "        </script>\n",
       "        "
      ]
     },
     "metadata": {},
     "output_type": "display_data"
    }
   ],
   "source": [
    "import datetime as dt\n",
    "import plotly.express as px\n",
    "import plotly\n",
    "plotly.offline.init_notebook_mode(connected=True)\n",
    "import random\n",
    "import simpy\n",
    "\n",
    "from datetime import datetime"
   ]
  },
  {
   "cell_type": "markdown",
   "id": "5a56861e",
   "metadata": {},
   "source": [
    "### Determinamos los parámetros de nuestra simulación\n",
    "\n",
    "Para los parametros de nuestra simulación hemos tomado en cuenta las siguientes consideraciones:\n",
    "\n",
    "* **número de vacunas:** En este caso seran 100 según lo explicado en el punto de proceso de simulación.\n",
    "* **número de personas en mesa:** Seran 5 personas asignadas para este recurso\n",
    "* **número de personas que realizan examen:** Seran 5 personas asignadas para este recurso\n",
    "* **número de personas que vacunan y dan el certificado:** Seran 5 personas asignadas para este recurso\n",
    "* **intervalo de llegada de ciudadanos**: En este caso tomaremos en cuenta que cada ciudadano lleg al rededor de 3 a 5 min a su recento electoral.\n",
    "* **tiempo de simulación**: Tomando en cuenta el horario explicado en el punto de proceso de simulación se realiara una simulación de 540 min\n",
    "* **fecha de la siguiente vacunación:** Tomando en cuenta que la segunda dosis se realizara después de 21 días procederemos a realizar una fecha constante ya que las personas que se vacunaran tendran la misma fecha de segunda dosis. (En caso de que no se pueden vacunar por que no pasarón e proceso de revisión se le asignara una fecha aleatoria a partir de la actual)\n",
    "* **recolector de datos:** Aqui vamos a recolectar los datos de las personas que entraron a la simulación tomando los tiempos\n",
    "\n",
    "**Requerimientos de la simulación**\n",
    "\n",
    "* Se tiene una promedio que el 80% de personas realizaran el proceso de vacunación dentro del Ecuador.\n",
    "* Dentro del procesos se tiene que alrededor del 5% - 10% no podrán vacunarse.\n",
    "* Las personas realizan la primera vacuna y 21 días después la segunda vacuna.\n",
    "* La persona se acerca a la mesa y hacen fila en caso de ser necesario para recibir la vacuna.\n",
    "* Realiza la vacunación en un tiempo aleatorio entre 5 a 10 minutos.\n",
    "* Debe esperar 20 minutos dentro del establecimiento para verificar que no tenga problemas de salud.\n",
    "* La persona recibe su certificado de vacunación y la fecha de la próxima vacuna entre 2 – 3 minutos.\n",
    "* La persona sale del recinto electoral.\n",
    "\n",
    "**Requerimientos que no aplican para esta simulación**\n",
    "\n",
    "* Las personas solo tiene un recinto electoral para realizar el proceso **(esto es obvio ya que solo se simula un recinto)**\n",
    "* Regresan para la próxima fecha y se repite el ciclo. **(solamente se simulara un día ya que el tiempo de simulación solamente sera para un día. Ademas se puede tomar como referencia dicha simulación ya que el proceso para la segunda vacuna es la misma)**"
   ]
  },
  {
   "cell_type": "code",
   "execution_count": 24,
   "id": "6c616b57",
   "metadata": {},
   "outputs": [],
   "source": [
    "NUM_VACCINES                = 100\n",
    "NUM_PERSON_VACCINES         = 5\n",
    "NUM_PERSON_EXAM             = 5\n",
    "NUM_PERSON_CERTIFICATE      = 5\n",
    "TIME_SIMULATION             = 540\n",
    "INTERVAL                    = 5\n",
    "DATE_SECOND_DOSE            = datetime.now().strftime('%Y/%m/%d')\n",
    "LIST_DATA                   = []"
   ]
  },
  {
   "cell_type": "markdown",
   "id": "94012044",
   "metadata": {},
   "source": [
    "### Clases para la simulación\n",
    "\n",
    "Para realizar la simulación, vamos a utilizar clases ya que estas nos permiten manejar de forma más ordenada la simulación. Tomando en cuenta esto vamos a realizar las siguientes clases:\n",
    "\n",
    "* **Person:** El ciudadano a vacunarse\n",
    "* **Vacunation:** Clase que se encarga del proceso de vacunación\n",
    "* **Simulation:** Clase que realizar la simulación\n",
    "* **ProblemExamException:** Clase de excepción para try-catch\n",
    "* **VaccineException:** Clase de excepción para try-catch"
   ]
  },
  {
   "cell_type": "code",
   "execution_count": 25,
   "id": "21571a8f",
   "metadata": {
    "hide_input": false
   },
   "outputs": [],
   "source": [
    "class ProblemExamException(Exception):\n",
    "    pass\n",
    "\n",
    "\n",
    "class VaccineException(Exception):\n",
    "    pass\n",
    "\n",
    "\n",
    "class Person():\n",
    "    def __init__(self, name='', problem=0):\n",
    "        self.name = name\n",
    "        self.problem = problem\n",
    "        self.cite = ''\n",
    "\n",
    "\n",
    "class Vacunation():\n",
    "    def __init__(self, env):\n",
    "        global NUM_PERSON_VACCINES, NUM_PERSON_EXAM, NUM_PERSON_CERTIFICATE, NUM_VACCINES\n",
    "        self.env = env\n",
    "        self.person_v = simpy.Resource(env, NUM_PERSON_VACCINES)\n",
    "        self.person_e = simpy.Resource(env, NUM_PERSON_EXAM)\n",
    "        self.person_c = simpy.Resource(env, NUM_PERSON_CERTIFICATE)\n",
    "        self.vaccines = NUM_VACCINES\n",
    "        self.exam = None\n",
    "        self.probability = [0.8, 0.2]\n",
    "        self.exam_result = [0, 1]\n",
    "\n",
    "    def _exam_process(self, time):\n",
    "        self.exam = random.choices(self.exam_result, self.probability, k=1)\n",
    "        yield self.env.timeout(time)\n",
    "\n",
    "    def _data_process(self, time):\n",
    "        yield self.env.timeout(time)\n",
    "\n",
    "    def _vaccine_process(self, time):\n",
    "        self.vaccines = self.vaccines-1\n",
    "        yield self.env.timeout(time)\n",
    "\n",
    "    def _certificate_process(self, time):\n",
    "        yield self.env.timeout(time)\n",
    "\n",
    "    def _exit_process(self, time):\n",
    "        yield self.env.timeout(time)\n",
    "\n",
    "    def _print_process(self, person, hour, action):\n",
    "        print(\n",
    "            'persona:[{}] - hora:[{:,.2f}] - acción: [{}]'.format(person, hour, action))\n",
    "\n",
    "    def _vacunation_process(self, person):\n",
    "        global LIST_DATA\n",
    "\n",
    "        time_exam        = 0\n",
    "        time_data        = 0\n",
    "        time_vaccine     = 0\n",
    "        time_certificate = 0\n",
    "        time_wait        = 0\n",
    "        time_wait_mean   = 0\n",
    "        time_exit        = 0\n",
    "        indicate_vaccine = 0\n",
    "\n",
    "        self._print_process(person.name, self.env.now, 'llega al recinto')\n",
    "        wait=self.env.now\n",
    "        with self.person_e.request() as mesa:\n",
    "            yield mesa\n",
    "            self._print_process(person.name, self.env.now, 'llega a la mesa despues de esperar {}'.format(self.env.now-wait))\n",
    "            time_wait = self.env.now -wait\n",
    "            time_wait_mean+=time_wait\n",
    "            time_exam = 20\n",
    "            yield self.env.process(self._exam_process(time_exam))\n",
    "            \n",
    "        try:\n",
    "            if(self.vaccines>0):\n",
    "                try:\n",
    "                    if(self.exam[0] == 0):\n",
    "                            indicate_vaccine = 1\n",
    "                            self._print_process(person.name, self.env.now, 'pasa el proceso de revisión')\n",
    "                            wait=self.env.now\n",
    "                            with self.person_c.request() as certificate:\n",
    "                                yield certificate\n",
    "                                \n",
    "                                time_data = random.randint(2, 4)\n",
    "                                time_wait = self.env.now -wait\n",
    "                                time_wait_mean+=time_wait\n",
    "                                yield self.env.process(self._data_process(time_data))\n",
    "                                self._print_process(person.name, self.env.now, 'se tomaron los datos correctamente')\n",
    "                            wait=self.env.now\n",
    "                            with self.person_v.request() as vaccine:\n",
    "                                yield vaccine\n",
    "                                try:\n",
    "                                    if(self.vaccines > 0):\n",
    "                                        time_wait = self.env.now - wait\n",
    "                                        time_wait_mean+=time_wait\n",
    "                                        \n",
    "                                        time_vaccine = random.randint(5, 10)\n",
    "                                        yield env.process(self._vaccine_process(time_vaccine))\n",
    "                                        self._print_process(person.name, self.env.now, 'vacuna puesta')\n",
    "\n",
    "                                        time_certificate = random.randint(1, 3)\n",
    "                                        yield env.process(self._certificate_process(time_certificate))\n",
    "                                        person.cite = datetime.strftime(datetime.strptime(DATE_SECOND_DOSE, '%Y/%m/%d')+dt.timedelta(days=21), '%Y/%m/%d')\n",
    "                                        self._print_process(person.name, self.env.now, 'se le entrega el certificado con fecha a la segunda dosis {}'.format(person.cite))\n",
    "                                    else:\n",
    "                                        raise VaccineException\n",
    "                                except VaccineException:\n",
    "                                    person.cite = datetime.strftime(datetime.strptime(DATE_SECOND_DOSE, '%Y/%m/%d')+dt.timedelta(days=1), '%Y/%m/%d')\n",
    "                                    indicate_vaccine = 0\n",
    "                                    self._print_process(person.name, self.env.now, 'no se realizo la vacuna. Proxima fecha {}'.format(person.cite))\n",
    "                    else:\n",
    "                            raise ProblemExamException\n",
    "                except ProblemExamException:\n",
    "                    person.cite = datetime.strftime(datetime.strptime(DATE_SECOND_DOSE,'%Y/%m/%d')+dt.timedelta(days=random.randint(2,5)),'%Y/%m/%d')\n",
    "                    indicate_vaccine=0\n",
    "                    self._print_process(person.name,self.env.now,'no paso el proceso de revisión. Proxima fecha {}'.format(person.cite))\n",
    "\n",
    "                time_exit = random.randint(1,5)\n",
    "                yield env.process(self._exit_process(time_exit))\n",
    "                self._print_process(person.name,self.env.now,'sale del recinto')\n",
    "                LIST_DATA.append((person.name,time_exam,time_data,time_vaccine,time_certificate,time_exit,time_wait_mean,indicate_vaccine))\n",
    "            else:\n",
    "                raise VaccineException\n",
    "        except VaccineException:\n",
    "            print('No hay vacunas')\n",
    "\n",
    "class Simulation():\n",
    "    def __init__(self,init):\n",
    "        self.init = init\n",
    "        self.name = 'persona_{}'\n",
    "    \n",
    "    \n",
    "    def _execute_simulation(self,env):\n",
    "        global INTERVAL\n",
    "        vacunation = Vacunation(env)\n",
    "        \n",
    "        self._init_persons(env,vacunation)\n",
    "        \n",
    "        while True:\n",
    "            yield env.timeout(random.randint(INTERVAL-2,INTERVAL))\n",
    "            name = self.name.format(self.init)\n",
    "            person = Person(name)\n",
    "            env.process(vacunation._vacunation_process(person))\n",
    "            self.init+=1\n",
    "        \n",
    "    def _init_persons(self,env,vacunation):\n",
    "        for i in range(self.init):\n",
    "            name = self.name.format(i)\n",
    "            person = Person(name)\n",
    "            env.process(vacunation._vacunation_process(person))\n",
    "        \n",
    "        \n"
   ]
  },
  {
   "cell_type": "markdown",
   "id": "981d7e53",
   "metadata": {},
   "source": [
    "### Pruebas de la simulación\n",
    "\n",
    "Con estas pruebas, vamos a poder determinar la tendencia de como se comportaran los recintos frente al proceso de vacunación que se tendra en el Ecuador. Simulamos el recinto UPS (Universidad Politécnica Salesiana)"
   ]
  },
  {
   "cell_type": "code",
   "execution_count": 26,
   "id": "5cd44192",
   "metadata": {
    "hide_input": true
   },
   "outputs": [
    {
     "name": "stdout",
     "output_type": "stream",
     "text": [
      "persona:[persona_0] - hora:[0.00] - acción: [llega al recinto]\n",
      "persona:[persona_1] - hora:[0.00] - acción: [llega al recinto]\n",
      "persona:[persona_2] - hora:[0.00] - acción: [llega al recinto]\n",
      "persona:[persona_3] - hora:[0.00] - acción: [llega al recinto]\n",
      "persona:[persona_4] - hora:[0.00] - acción: [llega al recinto]\n",
      "persona:[persona_5] - hora:[0.00] - acción: [llega al recinto]\n",
      "persona:[persona_6] - hora:[0.00] - acción: [llega al recinto]\n",
      "persona:[persona_0] - hora:[0.00] - acción: [llega a la mesa despues de esperar 0]\n",
      "persona:[persona_1] - hora:[0.00] - acción: [llega a la mesa despues de esperar 0]\n",
      "persona:[persona_2] - hora:[0.00] - acción: [llega a la mesa despues de esperar 0]\n",
      "persona:[persona_3] - hora:[0.00] - acción: [llega a la mesa despues de esperar 0]\n",
      "persona:[persona_4] - hora:[0.00] - acción: [llega a la mesa despues de esperar 0]\n",
      "persona:[persona_7] - hora:[3.00] - acción: [llega al recinto]\n",
      "persona:[persona_8] - hora:[7.00] - acción: [llega al recinto]\n",
      "persona:[persona_9] - hora:[11.00] - acción: [llega al recinto]\n",
      "persona:[persona_10] - hora:[14.00] - acción: [llega al recinto]\n",
      "persona:[persona_11] - hora:[19.00] - acción: [llega al recinto]\n",
      "persona:[persona_0] - hora:[20.00] - acción: [pasa el proceso de revisión]\n",
      "persona:[persona_1] - hora:[20.00] - acción: [pasa el proceso de revisión]\n",
      "persona:[persona_2] - hora:[20.00] - acción: [pasa el proceso de revisión]\n",
      "persona:[persona_3] - hora:[20.00] - acción: [pasa el proceso de revisión]\n",
      "persona:[persona_4] - hora:[20.00] - acción: [pasa el proceso de revisión]\n",
      "persona:[persona_5] - hora:[20.00] - acción: [llega a la mesa despues de esperar 20]\n",
      "persona:[persona_6] - hora:[20.00] - acción: [llega a la mesa despues de esperar 20]\n",
      "persona:[persona_7] - hora:[20.00] - acción: [llega a la mesa despues de esperar 17]\n",
      "persona:[persona_8] - hora:[20.00] - acción: [llega a la mesa despues de esperar 13]\n",
      "persona:[persona_9] - hora:[20.00] - acción: [llega a la mesa despues de esperar 9]\n",
      "persona:[persona_12] - hora:[22.00] - acción: [llega al recinto]\n",
      "persona:[persona_4] - hora:[22.00] - acción: [se tomaron los datos correctamente]\n",
      "persona:[persona_1] - hora:[23.00] - acción: [se tomaron los datos correctamente]\n",
      "persona:[persona_3] - hora:[23.00] - acción: [se tomaron los datos correctamente]\n",
      "persona:[persona_0] - hora:[24.00] - acción: [se tomaron los datos correctamente]\n",
      "persona:[persona_2] - hora:[24.00] - acción: [se tomaron los datos correctamente]\n",
      "persona:[persona_13] - hora:[27.00] - acción: [llega al recinto]\n",
      "persona:[persona_3] - hora:[28.00] - acción: [vacuna puesta]\n",
      "persona:[persona_0] - hora:[29.00] - acción: [vacuna puesta]\n",
      "persona:[persona_3] - hora:[29.00] - acción: [se le entrega el certificado con fecha a la segunda dosis 2021/06/22]\n",
      "persona:[persona_1] - hora:[30.00] - acción: [vacuna puesta]\n",
      "persona:[persona_0] - hora:[30.00] - acción: [se le entrega el certificado con fecha a la segunda dosis 2021/06/22]\n",
      "persona:[persona_3] - hora:[31.00] - acción: [sale del recinto]\n",
      "persona:[persona_1] - hora:[31.00] - acción: [se le entrega el certificado con fecha a la segunda dosis 2021/06/22]\n",
      "persona:[persona_14] - hora:[32.00] - acción: [llega al recinto]\n",
      "persona:[persona_4] - hora:[32.00] - acción: [vacuna puesta]\n",
      "persona:[persona_2] - hora:[33.00] - acción: [vacuna puesta]\n",
      "persona:[persona_4] - hora:[34.00] - acción: [se le entrega el certificado con fecha a la segunda dosis 2021/06/22]\n",
      "persona:[persona_0] - hora:[35.00] - acción: [sale del recinto]\n",
      "persona:[persona_2] - hora:[35.00] - acción: [se le entrega el certificado con fecha a la segunda dosis 2021/06/22]\n",
      "persona:[persona_15] - hora:[36.00] - acción: [llega al recinto]\n",
      "persona:[persona_1] - hora:[36.00] - acción: [sale del recinto]\n",
      "persona:[persona_4] - hora:[38.00] - acción: [sale del recinto]\n",
      "persona:[persona_16] - hora:[40.00] - acción: [llega al recinto]\n",
      "persona:[persona_5] - hora:[40.00] - acción: [pasa el proceso de revisión]\n",
      "persona:[persona_6] - hora:[40.00] - acción: [pasa el proceso de revisión]\n",
      "persona:[persona_7] - hora:[40.00] - acción: [pasa el proceso de revisión]\n",
      "persona:[persona_8] - hora:[40.00] - acción: [pasa el proceso de revisión]\n",
      "persona:[persona_9] - hora:[40.00] - acción: [pasa el proceso de revisión]\n",
      "persona:[persona_2] - hora:[40.00] - acción: [sale del recinto]\n",
      "persona:[persona_10] - hora:[40.00] - acción: [llega a la mesa despues de esperar 26]\n",
      "persona:[persona_11] - hora:[40.00] - acción: [llega a la mesa despues de esperar 21]\n",
      "persona:[persona_12] - hora:[40.00] - acción: [llega a la mesa despues de esperar 18]\n",
      "persona:[persona_13] - hora:[40.00] - acción: [llega a la mesa despues de esperar 13]\n",
      "persona:[persona_14] - hora:[40.00] - acción: [llega a la mesa despues de esperar 8]\n",
      "persona:[persona_6] - hora:[42.00] - acción: [se tomaron los datos correctamente]\n",
      "persona:[persona_8] - hora:[42.00] - acción: [se tomaron los datos correctamente]\n",
      "persona:[persona_9] - hora:[42.00] - acción: [se tomaron los datos correctamente]\n",
      "persona:[persona_17] - hora:[43.00] - acción: [llega al recinto]\n",
      "persona:[persona_5] - hora:[43.00] - acción: [se tomaron los datos correctamente]\n",
      "persona:[persona_7] - hora:[43.00] - acción: [se tomaron los datos correctamente]\n",
      "persona:[persona_8] - hora:[47.00] - acción: [vacuna puesta]\n",
      "persona:[persona_18] - hora:[48.00] - acción: [llega al recinto]\n",
      "persona:[persona_6] - hora:[48.00] - acción: [vacuna puesta]\n",
      "persona:[persona_9] - hora:[49.00] - acción: [vacuna puesta]\n",
      "persona:[persona_5] - hora:[50.00] - acción: [vacuna puesta]\n",
      "persona:[persona_8] - hora:[50.00] - acción: [se le entrega el certificado con fecha a la segunda dosis 2021/06/22]\n",
      "persona:[persona_6] - hora:[50.00] - acción: [se le entrega el certificado con fecha a la segunda dosis 2021/06/22]\n",
      "persona:[persona_5] - hora:[51.00] - acción: [se le entrega el certificado con fecha a la segunda dosis 2021/06/22]\n",
      "persona:[persona_19] - hora:[52.00] - acción: [llega al recinto]\n",
      "persona:[persona_7] - hora:[52.00] - acción: [vacuna puesta]\n",
      "persona:[persona_9] - hora:[52.00] - acción: [se le entrega el certificado con fecha a la segunda dosis 2021/06/22]\n",
      "persona:[persona_5] - hora:[52.00] - acción: [sale del recinto]\n",
      "persona:[persona_8] - hora:[53.00] - acción: [sale del recinto]\n",
      "persona:[persona_6] - hora:[54.00] - acción: [sale del recinto]\n",
      "persona:[persona_7] - hora:[54.00] - acción: [se le entrega el certificado con fecha a la segunda dosis 2021/06/22]\n",
      "persona:[persona_20] - hora:[55.00] - acción: [llega al recinto]\n",
      "persona:[persona_9] - hora:[55.00] - acción: [sale del recinto]\n",
      "persona:[persona_7] - hora:[56.00] - acción: [sale del recinto]\n",
      "persona:[persona_21] - hora:[58.00] - acción: [llega al recinto]\n",
      "persona:[persona_10] - hora:[60.00] - acción: [no paso el proceso de revisión. Proxima fecha 2021/06/04]\n",
      "persona:[persona_11] - hora:[60.00] - acción: [no paso el proceso de revisión. Proxima fecha 2021/06/04]\n",
      "persona:[persona_12] - hora:[60.00] - acción: [no paso el proceso de revisión. Proxima fecha 2021/06/05]\n",
      "persona:[persona_13] - hora:[60.00] - acción: [no paso el proceso de revisión. Proxima fecha 2021/06/03]\n",
      "persona:[persona_14] - hora:[60.00] - acción: [no paso el proceso de revisión. Proxima fecha 2021/06/04]\n",
      "persona:[persona_15] - hora:[60.00] - acción: [llega a la mesa despues de esperar 24]\n",
      "persona:[persona_16] - hora:[60.00] - acción: [llega a la mesa despues de esperar 20]\n",
      "persona:[persona_17] - hora:[60.00] - acción: [llega a la mesa despues de esperar 17]\n",
      "persona:[persona_18] - hora:[60.00] - acción: [llega a la mesa despues de esperar 12]\n",
      "persona:[persona_19] - hora:[60.00] - acción: [llega a la mesa despues de esperar 8]\n",
      "persona:[persona_13] - hora:[61.00] - acción: [sale del recinto]\n",
      "persona:[persona_22] - hora:[63.00] - acción: [llega al recinto]\n",
      "persona:[persona_14] - hora:[63.00] - acción: [sale del recinto]\n",
      "persona:[persona_11] - hora:[64.00] - acción: [sale del recinto]\n",
      "persona:[persona_12] - hora:[64.00] - acción: [sale del recinto]\n",
      "persona:[persona_10] - hora:[65.00] - acción: [sale del recinto]\n",
      "persona:[persona_23] - hora:[66.00] - acción: [llega al recinto]\n",
      "persona:[persona_24] - hora:[71.00] - acción: [llega al recinto]\n",
      "persona:[persona_25] - hora:[76.00] - acción: [llega al recinto]\n",
      "persona:[persona_26] - hora:[79.00] - acción: [llega al recinto]\n",
      "persona:[persona_15] - hora:[80.00] - acción: [pasa el proceso de revisión]\n",
      "persona:[persona_16] - hora:[80.00] - acción: [pasa el proceso de revisión]\n",
      "persona:[persona_17] - hora:[80.00] - acción: [pasa el proceso de revisión]\n",
      "persona:[persona_18] - hora:[80.00] - acción: [pasa el proceso de revisión]\n",
      "persona:[persona_19] - hora:[80.00] - acción: [pasa el proceso de revisión]\n",
      "persona:[persona_20] - hora:[80.00] - acción: [llega a la mesa despues de esperar 25]\n",
      "persona:[persona_21] - hora:[80.00] - acción: [llega a la mesa despues de esperar 22]\n",
      "persona:[persona_22] - hora:[80.00] - acción: [llega a la mesa despues de esperar 17]\n",
      "persona:[persona_23] - hora:[80.00] - acción: [llega a la mesa despues de esperar 14]\n",
      "persona:[persona_24] - hora:[80.00] - acción: [llega a la mesa despues de esperar 9]\n",
      "persona:[persona_18] - hora:[82.00] - acción: [se tomaron los datos correctamente]\n",
      "persona:[persona_19] - hora:[83.00] - acción: [se tomaron los datos correctamente]\n",
      "persona:[persona_27] - hora:[84.00] - acción: [llega al recinto]\n",
      "persona:[persona_15] - hora:[84.00] - acción: [se tomaron los datos correctamente]\n",
      "persona:[persona_16] - hora:[84.00] - acción: [se tomaron los datos correctamente]\n",
      "persona:[persona_17] - hora:[84.00] - acción: [se tomaron los datos correctamente]\n",
      "persona:[persona_28] - hora:[87.00] - acción: [llega al recinto]\n",
      "persona:[persona_18] - hora:[89.00] - acción: [vacuna puesta]\n",
      "persona:[persona_19] - hora:[89.00] - acción: [vacuna puesta]\n",
      "persona:[persona_15] - hora:[89.00] - acción: [vacuna puesta]\n",
      "persona:[persona_17] - hora:[89.00] - acción: [vacuna puesta]\n",
      "persona:[persona_19] - hora:[90.00] - acción: [se le entrega el certificado con fecha a la segunda dosis 2021/06/22]\n",
      "persona:[persona_29] - hora:[91.00] - acción: [llega al recinto]\n",
      "persona:[persona_18] - hora:[91.00] - acción: [se le entrega el certificado con fecha a la segunda dosis 2021/06/22]\n",
      "persona:[persona_15] - hora:[91.00] - acción: [se le entrega el certificado con fecha a la segunda dosis 2021/06/22]\n",
      "persona:[persona_16] - hora:[92.00] - acción: [vacuna puesta]\n",
      "persona:[persona_17] - hora:[92.00] - acción: [se le entrega el certificado con fecha a la segunda dosis 2021/06/22]\n",
      "persona:[persona_18] - hora:[92.00] - acción: [sale del recinto]\n",
      "persona:[persona_15] - hora:[92.00] - acción: [sale del recinto]\n",
      "persona:[persona_17] - hora:[93.00] - acción: [sale del recinto]\n",
      "persona:[persona_16] - hora:[94.00] - acción: [se le entrega el certificado con fecha a la segunda dosis 2021/06/22]\n",
      "persona:[persona_30] - hora:[95.00] - acción: [llega al recinto]\n",
      "persona:[persona_19] - hora:[95.00] - acción: [sale del recinto]\n",
      "persona:[persona_16] - hora:[95.00] - acción: [sale del recinto]\n",
      "persona:[persona_31] - hora:[100.00] - acción: [llega al recinto]\n",
      "persona:[persona_20] - hora:[100.00] - acción: [no paso el proceso de revisión. Proxima fecha 2021/06/05]\n",
      "persona:[persona_21] - hora:[100.00] - acción: [no paso el proceso de revisión. Proxima fecha 2021/06/06]\n",
      "persona:[persona_22] - hora:[100.00] - acción: [no paso el proceso de revisión. Proxima fecha 2021/06/05]\n",
      "persona:[persona_23] - hora:[100.00] - acción: [no paso el proceso de revisión. Proxima fecha 2021/06/06]\n",
      "persona:[persona_24] - hora:[100.00] - acción: [no paso el proceso de revisión. Proxima fecha 2021/06/05]\n",
      "persona:[persona_25] - hora:[100.00] - acción: [llega a la mesa despues de esperar 24]\n",
      "persona:[persona_26] - hora:[100.00] - acción: [llega a la mesa despues de esperar 21]\n",
      "persona:[persona_27] - hora:[100.00] - acción: [llega a la mesa despues de esperar 16]\n",
      "persona:[persona_28] - hora:[100.00] - acción: [llega a la mesa despues de esperar 13]\n",
      "persona:[persona_29] - hora:[100.00] - acción: [llega a la mesa despues de esperar 9]\n",
      "persona:[persona_20] - hora:[102.00] - acción: [sale del recinto]\n",
      "persona:[persona_21] - hora:[102.00] - acción: [sale del recinto]\n",
      "persona:[persona_32] - hora:[103.00] - acción: [llega al recinto]\n",
      "persona:[persona_22] - hora:[103.00] - acción: [sale del recinto]\n",
      "persona:[persona_23] - hora:[105.00] - acción: [sale del recinto]\n",
      "persona:[persona_24] - hora:[105.00] - acción: [sale del recinto]\n",
      "persona:[persona_33] - hora:[106.00] - acción: [llega al recinto]\n",
      "persona:[persona_34] - hora:[109.00] - acción: [llega al recinto]\n",
      "persona:[persona_35] - hora:[113.00] - acción: [llega al recinto]\n",
      "persona:[persona_36] - hora:[118.00] - acción: [llega al recinto]\n",
      "persona:[persona_25] - hora:[120.00] - acción: [no paso el proceso de revisión. Proxima fecha 2021/06/03]\n",
      "persona:[persona_26] - hora:[120.00] - acción: [no paso el proceso de revisión. Proxima fecha 2021/06/04]\n",
      "persona:[persona_27] - hora:[120.00] - acción: [no paso el proceso de revisión. Proxima fecha 2021/06/05]\n",
      "persona:[persona_28] - hora:[120.00] - acción: [no paso el proceso de revisión. Proxima fecha 2021/06/03]\n",
      "persona:[persona_29] - hora:[120.00] - acción: [no paso el proceso de revisión. Proxima fecha 2021/06/03]\n",
      "persona:[persona_30] - hora:[120.00] - acción: [llega a la mesa despues de esperar 25]\n",
      "persona:[persona_31] - hora:[120.00] - acción: [llega a la mesa despues de esperar 20]\n",
      "persona:[persona_32] - hora:[120.00] - acción: [llega a la mesa despues de esperar 17]\n",
      "persona:[persona_33] - hora:[120.00] - acción: [llega a la mesa despues de esperar 14]\n",
      "persona:[persona_34] - hora:[120.00] - acción: [llega a la mesa despues de esperar 11]\n",
      "persona:[persona_37] - hora:[121.00] - acción: [llega al recinto]\n",
      "persona:[persona_26] - hora:[122.00] - acción: [sale del recinto]\n",
      "persona:[persona_27] - hora:[122.00] - acción: [sale del recinto]\n",
      "persona:[persona_25] - hora:[123.00] - acción: [sale del recinto]\n",
      "persona:[persona_29] - hora:[123.00] - acción: [sale del recinto]\n",
      "persona:[persona_38] - hora:[125.00] - acción: [llega al recinto]\n",
      "persona:[persona_28] - hora:[125.00] - acción: [sale del recinto]\n",
      "persona:[persona_39] - hora:[129.00] - acción: [llega al recinto]\n",
      "persona:[persona_40] - hora:[134.00] - acción: [llega al recinto]\n",
      "persona:[persona_41] - hora:[139.00] - acción: [llega al recinto]\n",
      "persona:[persona_30] - hora:[140.00] - acción: [pasa el proceso de revisión]\n",
      "persona:[persona_31] - hora:[140.00] - acción: [pasa el proceso de revisión]\n",
      "persona:[persona_32] - hora:[140.00] - acción: [pasa el proceso de revisión]\n",
      "persona:[persona_33] - hora:[140.00] - acción: [pasa el proceso de revisión]\n",
      "persona:[persona_34] - hora:[140.00] - acción: [pasa el proceso de revisión]\n",
      "persona:[persona_35] - hora:[140.00] - acción: [llega a la mesa despues de esperar 27]\n",
      "persona:[persona_36] - hora:[140.00] - acción: [llega a la mesa despues de esperar 22]\n",
      "persona:[persona_37] - hora:[140.00] - acción: [llega a la mesa despues de esperar 19]\n",
      "persona:[persona_38] - hora:[140.00] - acción: [llega a la mesa despues de esperar 15]\n",
      "persona:[persona_39] - hora:[140.00] - acción: [llega a la mesa despues de esperar 11]\n",
      "persona:[persona_42] - hora:[142.00] - acción: [llega al recinto]\n",
      "persona:[persona_30] - hora:[142.00] - acción: [se tomaron los datos correctamente]\n",
      "persona:[persona_31] - hora:[142.00] - acción: [se tomaron los datos correctamente]\n",
      "persona:[persona_32] - hora:[142.00] - acción: [se tomaron los datos correctamente]\n",
      "persona:[persona_34] - hora:[142.00] - acción: [se tomaron los datos correctamente]\n",
      "persona:[persona_33] - hora:[143.00] - acción: [se tomaron los datos correctamente]\n",
      "persona:[persona_43] - hora:[147.00] - acción: [llega al recinto]\n",
      "persona:[persona_34] - hora:[149.00] - acción: [vacuna puesta]\n",
      "persona:[persona_44] - hora:[151.00] - acción: [llega al recinto]\n",
      "persona:[persona_30] - hora:[151.00] - acción: [vacuna puesta]\n",
      "persona:[persona_34] - hora:[151.00] - acción: [se le entrega el certificado con fecha a la segunda dosis 2021/06/22]\n",
      "persona:[persona_31] - hora:[152.00] - acción: [vacuna puesta]\n",
      "persona:[persona_32] - hora:[152.00] - acción: [vacuna puesta]\n",
      "persona:[persona_30] - hora:[152.00] - acción: [se le entrega el certificado con fecha a la segunda dosis 2021/06/22]\n",
      "persona:[persona_33] - hora:[153.00] - acción: [vacuna puesta]\n",
      "persona:[persona_30] - hora:[153.00] - acción: [sale del recinto]\n",
      "persona:[persona_34] - hora:[154.00] - acción: [sale del recinto]\n",
      "persona:[persona_32] - hora:[154.00] - acción: [se le entrega el certificado con fecha a la segunda dosis 2021/06/22]\n",
      "persona:[persona_33] - hora:[154.00] - acción: [se le entrega el certificado con fecha a la segunda dosis 2021/06/22]\n",
      "persona:[persona_31] - hora:[155.00] - acción: [se le entrega el certificado con fecha a la segunda dosis 2021/06/22]\n",
      "persona:[persona_33] - hora:[155.00] - acción: [sale del recinto]\n",
      "persona:[persona_45] - hora:[156.00] - acción: [llega al recinto]\n",
      "persona:[persona_32] - hora:[156.00] - acción: [sale del recinto]\n",
      "persona:[persona_31] - hora:[159.00] - acción: [sale del recinto]\n",
      "persona:[persona_46] - hora:[160.00] - acción: [llega al recinto]\n",
      "persona:[persona_35] - hora:[160.00] - acción: [pasa el proceso de revisión]\n",
      "persona:[persona_36] - hora:[160.00] - acción: [pasa el proceso de revisión]\n",
      "persona:[persona_37] - hora:[160.00] - acción: [pasa el proceso de revisión]\n",
      "persona:[persona_38] - hora:[160.00] - acción: [pasa el proceso de revisión]\n",
      "persona:[persona_39] - hora:[160.00] - acción: [pasa el proceso de revisión]\n",
      "persona:[persona_40] - hora:[160.00] - acción: [llega a la mesa despues de esperar 26]\n",
      "persona:[persona_41] - hora:[160.00] - acción: [llega a la mesa despues de esperar 21]\n",
      "persona:[persona_42] - hora:[160.00] - acción: [llega a la mesa despues de esperar 18]\n",
      "persona:[persona_43] - hora:[160.00] - acción: [llega a la mesa despues de esperar 13]\n",
      "persona:[persona_44] - hora:[160.00] - acción: [llega a la mesa despues de esperar 9]\n",
      "persona:[persona_36] - hora:[162.00] - acción: [se tomaron los datos correctamente]\n",
      "persona:[persona_35] - hora:[163.00] - acción: [se tomaron los datos correctamente]\n",
      "persona:[persona_37] - hora:[163.00] - acción: [se tomaron los datos correctamente]\n",
      "persona:[persona_38] - hora:[163.00] - acción: [se tomaron los datos correctamente]\n",
      "persona:[persona_47] - hora:[164.00] - acción: [llega al recinto]\n",
      "persona:[persona_39] - hora:[164.00] - acción: [se tomaron los datos correctamente]\n",
      "persona:[persona_48] - hora:[167.00] - acción: [llega al recinto]\n",
      "persona:[persona_37] - hora:[168.00] - acción: [vacuna puesta]\n",
      "persona:[persona_35] - hora:[169.00] - acción: [vacuna puesta]\n",
      "persona:[persona_37] - hora:[169.00] - acción: [se le entrega el certificado con fecha a la segunda dosis 2021/06/22]\n",
      "persona:[persona_49] - hora:[170.00] - acción: [llega al recinto]\n",
      "persona:[persona_38] - hora:[171.00] - acción: [vacuna puesta]\n",
      "persona:[persona_39] - hora:[171.00] - acción: [vacuna puesta]\n",
      "persona:[persona_35] - hora:[171.00] - acción: [se le entrega el certificado con fecha a la segunda dosis 2021/06/22]\n",
      "persona:[persona_36] - hora:[172.00] - acción: [vacuna puesta]\n",
      "persona:[persona_38] - hora:[172.00] - acción: [se le entrega el certificado con fecha a la segunda dosis 2021/06/22]\n",
      "persona:[persona_39] - hora:[173.00] - acción: [se le entrega el certificado con fecha a la segunda dosis 2021/06/22]\n",
      "persona:[persona_50] - hora:[174.00] - acción: [llega al recinto]\n",
      "persona:[persona_37] - hora:[174.00] - acción: [sale del recinto]\n",
      "persona:[persona_36] - hora:[174.00] - acción: [se le entrega el certificado con fecha a la segunda dosis 2021/06/22]\n",
      "persona:[persona_38] - hora:[174.00] - acción: [sale del recinto]\n",
      "persona:[persona_35] - hora:[176.00] - acción: [sale del recinto]\n",
      "persona:[persona_51] - hora:[177.00] - acción: [llega al recinto]\n",
      "persona:[persona_39] - hora:[178.00] - acción: [sale del recinto]\n",
      "persona:[persona_36] - hora:[178.00] - acción: [sale del recinto]\n",
      "persona:[persona_52] - hora:[180.00] - acción: [llega al recinto]\n",
      "persona:[persona_40] - hora:[180.00] - acción: [pasa el proceso de revisión]\n",
      "persona:[persona_41] - hora:[180.00] - acción: [pasa el proceso de revisión]\n",
      "persona:[persona_42] - hora:[180.00] - acción: [pasa el proceso de revisión]\n",
      "persona:[persona_43] - hora:[180.00] - acción: [pasa el proceso de revisión]\n",
      "persona:[persona_44] - hora:[180.00] - acción: [pasa el proceso de revisión]\n",
      "persona:[persona_45] - hora:[180.00] - acción: [llega a la mesa despues de esperar 24]\n",
      "persona:[persona_46] - hora:[180.00] - acción: [llega a la mesa despues de esperar 20]\n",
      "persona:[persona_47] - hora:[180.00] - acción: [llega a la mesa despues de esperar 16]\n",
      "persona:[persona_48] - hora:[180.00] - acción: [llega a la mesa despues de esperar 13]\n",
      "persona:[persona_49] - hora:[180.00] - acción: [llega a la mesa despues de esperar 10]\n",
      "persona:[persona_40] - hora:[182.00] - acción: [se tomaron los datos correctamente]\n",
      "persona:[persona_41] - hora:[183.00] - acción: [se tomaron los datos correctamente]\n",
      "persona:[persona_42] - hora:[183.00] - acción: [se tomaron los datos correctamente]\n",
      "persona:[persona_43] - hora:[183.00] - acción: [se tomaron los datos correctamente]\n",
      "persona:[persona_44] - hora:[183.00] - acción: [se tomaron los datos correctamente]\n",
      "persona:[persona_53] - hora:[185.00] - acción: [llega al recinto]\n",
      "persona:[persona_54] - hora:[188.00] - acción: [llega al recinto]\n",
      "persona:[persona_42] - hora:[188.00] - acción: [vacuna puesta]\n",
      "persona:[persona_40] - hora:[189.00] - acción: [vacuna puesta]\n",
      "persona:[persona_41] - hora:[191.00] - acción: [vacuna puesta]\n",
      "persona:[persona_44] - hora:[191.00] - acción: [vacuna puesta]\n",
      "persona:[persona_42] - hora:[191.00] - acción: [se le entrega el certificado con fecha a la segunda dosis 2021/06/22]\n",
      "persona:[persona_40] - hora:[191.00] - acción: [se le entrega el certificado con fecha a la segunda dosis 2021/06/22]\n",
      "persona:[persona_43] - hora:[192.00] - acción: [vacuna puesta]\n",
      "persona:[persona_55] - hora:[193.00] - acción: [llega al recinto]\n",
      "persona:[persona_44] - hora:[193.00] - acción: [se le entrega el certificado con fecha a la segunda dosis 2021/06/22]\n",
      "persona:[persona_43] - hora:[193.00] - acción: [se le entrega el certificado con fecha a la segunda dosis 2021/06/22]\n",
      "persona:[persona_41] - hora:[194.00] - acción: [se le entrega el certificado con fecha a la segunda dosis 2021/06/22]\n",
      "persona:[persona_40] - hora:[194.00] - acción: [sale del recinto]\n",
      "persona:[persona_44] - hora:[194.00] - acción: [sale del recinto]\n",
      "persona:[persona_43] - hora:[195.00] - acción: [sale del recinto]\n",
      "persona:[persona_41] - hora:[195.00] - acción: [sale del recinto]\n",
      "persona:[persona_56] - hora:[196.00] - acción: [llega al recinto]\n",
      "persona:[persona_42] - hora:[196.00] - acción: [sale del recinto]\n",
      "persona:[persona_57] - hora:[200.00] - acción: [llega al recinto]\n",
      "persona:[persona_45] - hora:[200.00] - acción: [pasa el proceso de revisión]\n",
      "persona:[persona_46] - hora:[200.00] - acción: [pasa el proceso de revisión]\n",
      "persona:[persona_47] - hora:[200.00] - acción: [pasa el proceso de revisión]\n",
      "persona:[persona_48] - hora:[200.00] - acción: [pasa el proceso de revisión]\n",
      "persona:[persona_49] - hora:[200.00] - acción: [pasa el proceso de revisión]\n",
      "persona:[persona_50] - hora:[200.00] - acción: [llega a la mesa despues de esperar 26]\n",
      "persona:[persona_51] - hora:[200.00] - acción: [llega a la mesa despues de esperar 23]\n",
      "persona:[persona_52] - hora:[200.00] - acción: [llega a la mesa despues de esperar 20]\n",
      "persona:[persona_53] - hora:[200.00] - acción: [llega a la mesa despues de esperar 15]\n",
      "persona:[persona_54] - hora:[200.00] - acción: [llega a la mesa despues de esperar 12]\n",
      "persona:[persona_48] - hora:[202.00] - acción: [se tomaron los datos correctamente]\n",
      "persona:[persona_49] - hora:[202.00] - acción: [se tomaron los datos correctamente]\n",
      "persona:[persona_45] - hora:[203.00] - acción: [se tomaron los datos correctamente]\n",
      "persona:[persona_46] - hora:[204.00] - acción: [se tomaron los datos correctamente]\n",
      "persona:[persona_47] - hora:[204.00] - acción: [se tomaron los datos correctamente]\n",
      "persona:[persona_58] - hora:[205.00] - acción: [llega al recinto]\n",
      "persona:[persona_48] - hora:[207.00] - acción: [vacuna puesta]\n",
      "persona:[persona_59] - hora:[210.00] - acción: [llega al recinto]\n",
      "persona:[persona_48] - hora:[210.00] - acción: [se le entrega el certificado con fecha a la segunda dosis 2021/06/22]\n",
      "persona:[persona_49] - hora:[211.00] - acción: [vacuna puesta]\n",
      "persona:[persona_45] - hora:[211.00] - acción: [vacuna puesta]\n",
      "persona:[persona_49] - hora:[212.00] - acción: [se le entrega el certificado con fecha a la segunda dosis 2021/06/22]\n",
      "persona:[persona_45] - hora:[212.00] - acción: [se le entrega el certificado con fecha a la segunda dosis 2021/06/22]\n",
      "persona:[persona_47] - hora:[213.00] - acción: [vacuna puesta]\n",
      "persona:[persona_48] - hora:[213.00] - acción: [sale del recinto]\n",
      "persona:[persona_49] - hora:[213.00] - acción: [sale del recinto]\n",
      "persona:[persona_46] - hora:[214.00] - acción: [vacuna puesta]\n",
      "persona:[persona_60] - hora:[215.00] - acción: [llega al recinto]\n",
      "persona:[persona_45] - hora:[215.00] - acción: [sale del recinto]\n",
      "persona:[persona_47] - hora:[215.00] - acción: [se le entrega el certificado con fecha a la segunda dosis 2021/06/22]\n",
      "persona:[persona_46] - hora:[216.00] - acción: [se le entrega el certificado con fecha a la segunda dosis 2021/06/22]\n",
      "persona:[persona_47] - hora:[219.00] - acción: [sale del recinto]\n",
      "persona:[persona_46] - hora:[219.00] - acción: [sale del recinto]\n",
      "persona:[persona_61] - hora:[220.00] - acción: [llega al recinto]\n",
      "persona:[persona_50] - hora:[220.00] - acción: [pasa el proceso de revisión]\n",
      "persona:[persona_51] - hora:[220.00] - acción: [pasa el proceso de revisión]\n",
      "persona:[persona_52] - hora:[220.00] - acción: [pasa el proceso de revisión]\n",
      "persona:[persona_53] - hora:[220.00] - acción: [pasa el proceso de revisión]\n",
      "persona:[persona_54] - hora:[220.00] - acción: [pasa el proceso de revisión]\n",
      "persona:[persona_55] - hora:[220.00] - acción: [llega a la mesa despues de esperar 27]\n",
      "persona:[persona_56] - hora:[220.00] - acción: [llega a la mesa despues de esperar 24]\n",
      "persona:[persona_57] - hora:[220.00] - acción: [llega a la mesa despues de esperar 20]\n",
      "persona:[persona_58] - hora:[220.00] - acción: [llega a la mesa despues de esperar 15]\n",
      "persona:[persona_59] - hora:[220.00] - acción: [llega a la mesa despues de esperar 10]\n",
      "persona:[persona_51] - hora:[222.00] - acción: [se tomaron los datos correctamente]\n",
      "persona:[persona_54] - hora:[222.00] - acción: [se tomaron los datos correctamente]\n",
      "persona:[persona_62] - hora:[223.00] - acción: [llega al recinto]\n",
      "persona:[persona_50] - hora:[223.00] - acción: [se tomaron los datos correctamente]\n",
      "persona:[persona_52] - hora:[223.00] - acción: [se tomaron los datos correctamente]\n",
      "persona:[persona_53] - hora:[224.00] - acción: [se tomaron los datos correctamente]\n",
      "persona:[persona_63] - hora:[226.00] - acción: [llega al recinto]\n",
      "persona:[persona_51] - hora:[228.00] - acción: [vacuna puesta]\n",
      "persona:[persona_64] - hora:[230.00] - acción: [llega al recinto]\n",
      "persona:[persona_54] - hora:[230.00] - acción: [vacuna puesta]\n",
      "persona:[persona_52] - hora:[230.00] - acción: [vacuna puesta]\n",
      "persona:[persona_51] - hora:[231.00] - acción: [se le entrega el certificado con fecha a la segunda dosis 2021/06/22]\n",
      "persona:[persona_54] - hora:[232.00] - acción: [se le entrega el certificado con fecha a la segunda dosis 2021/06/22]\n",
      "persona:[persona_52] - hora:[232.00] - acción: [se le entrega el certificado con fecha a la segunda dosis 2021/06/22]\n",
      "persona:[persona_65] - hora:[233.00] - acción: [llega al recinto]\n",
      "persona:[persona_50] - hora:[233.00] - acción: [vacuna puesta]\n",
      "persona:[persona_53] - hora:[234.00] - acción: [vacuna puesta]\n",
      "persona:[persona_50] - hora:[234.00] - acción: [se le entrega el certificado con fecha a la segunda dosis 2021/06/22]\n",
      "persona:[persona_51] - hora:[236.00] - acción: [sale del recinto]\n",
      "persona:[persona_66] - hora:[237.00] - acción: [llega al recinto]\n",
      "persona:[persona_54] - hora:[237.00] - acción: [sale del recinto]\n",
      "persona:[persona_52] - hora:[237.00] - acción: [sale del recinto]\n",
      "persona:[persona_53] - hora:[237.00] - acción: [se le entrega el certificado con fecha a la segunda dosis 2021/06/22]\n",
      "persona:[persona_50] - hora:[237.00] - acción: [sale del recinto]\n",
      "persona:[persona_53] - hora:[238.00] - acción: [sale del recinto]\n",
      "persona:[persona_55] - hora:[240.00] - acción: [pasa el proceso de revisión]\n",
      "persona:[persona_56] - hora:[240.00] - acción: [pasa el proceso de revisión]\n",
      "persona:[persona_57] - hora:[240.00] - acción: [pasa el proceso de revisión]\n",
      "persona:[persona_58] - hora:[240.00] - acción: [pasa el proceso de revisión]\n",
      "persona:[persona_59] - hora:[240.00] - acción: [pasa el proceso de revisión]\n",
      "persona:[persona_60] - hora:[240.00] - acción: [llega a la mesa despues de esperar 25]\n",
      "persona:[persona_61] - hora:[240.00] - acción: [llega a la mesa despues de esperar 20]\n",
      "persona:[persona_62] - hora:[240.00] - acción: [llega a la mesa despues de esperar 17]\n",
      "persona:[persona_63] - hora:[240.00] - acción: [llega a la mesa despues de esperar 14]\n",
      "persona:[persona_64] - hora:[240.00] - acción: [llega a la mesa despues de esperar 10]\n",
      "persona:[persona_67] - hora:[242.00] - acción: [llega al recinto]\n",
      "persona:[persona_55] - hora:[242.00] - acción: [se tomaron los datos correctamente]\n",
      "persona:[persona_56] - hora:[242.00] - acción: [se tomaron los datos correctamente]\n",
      "persona:[persona_59] - hora:[242.00] - acción: [se tomaron los datos correctamente]\n",
      "persona:[persona_57] - hora:[243.00] - acción: [se tomaron los datos correctamente]\n",
      "persona:[persona_58] - hora:[243.00] - acción: [se tomaron los datos correctamente]\n",
      "persona:[persona_68] - hora:[246.00] - acción: [llega al recinto]\n",
      "persona:[persona_59] - hora:[248.00] - acción: [vacuna puesta]\n",
      "persona:[persona_57] - hora:[248.00] - acción: [vacuna puesta]\n",
      "persona:[persona_55] - hora:[249.00] - acción: [vacuna puesta]\n",
      "persona:[persona_59] - hora:[249.00] - acción: [se le entrega el certificado con fecha a la segunda dosis 2021/06/22]\n",
      "persona:[persona_69] - hora:[250.00] - acción: [llega al recinto]\n",
      "persona:[persona_57] - hora:[250.00] - acción: [se le entrega el certificado con fecha a la segunda dosis 2021/06/22]\n",
      "persona:[persona_56] - hora:[251.00] - acción: [vacuna puesta]\n",
      "persona:[persona_57] - hora:[251.00] - acción: [sale del recinto]\n",
      "persona:[persona_58] - hora:[252.00] - acción: [vacuna puesta]\n",
      "persona:[persona_55] - hora:[252.00] - acción: [se le entrega el certificado con fecha a la segunda dosis 2021/06/22]\n",
      "persona:[persona_70] - hora:[253.00] - acción: [llega al recinto]\n",
      "persona:[persona_59] - hora:[253.00] - acción: [sale del recinto]\n",
      "persona:[persona_56] - hora:[253.00] - acción: [se le entrega el certificado con fecha a la segunda dosis 2021/06/22]\n",
      "persona:[persona_55] - hora:[254.00] - acción: [sale del recinto]\n",
      "persona:[persona_58] - hora:[255.00] - acción: [se le entrega el certificado con fecha a la segunda dosis 2021/06/22]\n",
      "persona:[persona_56] - hora:[256.00] - acción: [sale del recinto]\n",
      "persona:[persona_71] - hora:[257.00] - acción: [llega al recinto]\n",
      "persona:[persona_58] - hora:[259.00] - acción: [sale del recinto]\n",
      "persona:[persona_60] - hora:[260.00] - acción: [pasa el proceso de revisión]\n",
      "persona:[persona_61] - hora:[260.00] - acción: [pasa el proceso de revisión]\n",
      "persona:[persona_62] - hora:[260.00] - acción: [pasa el proceso de revisión]\n",
      "persona:[persona_63] - hora:[260.00] - acción: [pasa el proceso de revisión]\n",
      "persona:[persona_64] - hora:[260.00] - acción: [pasa el proceso de revisión]\n",
      "persona:[persona_65] - hora:[260.00] - acción: [llega a la mesa despues de esperar 27]\n",
      "persona:[persona_66] - hora:[260.00] - acción: [llega a la mesa despues de esperar 23]\n",
      "persona:[persona_67] - hora:[260.00] - acción: [llega a la mesa despues de esperar 18]\n",
      "persona:[persona_68] - hora:[260.00] - acción: [llega a la mesa despues de esperar 14]\n",
      "persona:[persona_69] - hora:[260.00] - acción: [llega a la mesa despues de esperar 10]\n",
      "persona:[persona_72] - hora:[262.00] - acción: [llega al recinto]\n",
      "persona:[persona_63] - hora:[262.00] - acción: [se tomaron los datos correctamente]\n",
      "persona:[persona_60] - hora:[263.00] - acción: [se tomaron los datos correctamente]\n",
      "persona:[persona_61] - hora:[263.00] - acción: [se tomaron los datos correctamente]\n",
      "persona:[persona_62] - hora:[263.00] - acción: [se tomaron los datos correctamente]\n",
      "persona:[persona_64] - hora:[264.00] - acción: [se tomaron los datos correctamente]\n",
      "persona:[persona_73] - hora:[265.00] - acción: [llega al recinto]\n",
      "persona:[persona_60] - hora:[268.00] - acción: [vacuna puesta]\n",
      "persona:[persona_63] - hora:[269.00] - acción: [vacuna puesta]\n",
      "persona:[persona_74] - hora:[270.00] - acción: [llega al recinto]\n",
      "persona:[persona_60] - hora:[271.00] - acción: [se le entrega el certificado con fecha a la segunda dosis 2021/06/22]\n",
      "persona:[persona_63] - hora:[271.00] - acción: [se le entrega el certificado con fecha a la segunda dosis 2021/06/22]\n",
      "persona:[persona_75] - hora:[273.00] - acción: [llega al recinto]\n",
      "persona:[persona_61] - hora:[273.00] - acción: [vacuna puesta]\n",
      "persona:[persona_62] - hora:[273.00] - acción: [vacuna puesta]\n",
      "persona:[persona_64] - hora:[273.00] - acción: [vacuna puesta]\n",
      "persona:[persona_60] - hora:[274.00] - acción: [sale del recinto]\n",
      "persona:[persona_62] - hora:[274.00] - acción: [se le entrega el certificado con fecha a la segunda dosis 2021/06/22]\n",
      "persona:[persona_61] - hora:[275.00] - acción: [se le entrega el certificado con fecha a la segunda dosis 2021/06/22]\n",
      "persona:[persona_76] - hora:[276.00] - acción: [llega al recinto]\n",
      "persona:[persona_63] - hora:[276.00] - acción: [sale del recinto]\n",
      "persona:[persona_64] - hora:[276.00] - acción: [se le entrega el certificado con fecha a la segunda dosis 2021/06/22]\n",
      "persona:[persona_61] - hora:[276.00] - acción: [sale del recinto]\n",
      "persona:[persona_62] - hora:[279.00] - acción: [sale del recinto]\n",
      "persona:[persona_65] - hora:[280.00] - acción: [pasa el proceso de revisión]\n",
      "persona:[persona_66] - hora:[280.00] - acción: [pasa el proceso de revisión]\n",
      "persona:[persona_67] - hora:[280.00] - acción: [pasa el proceso de revisión]\n",
      "persona:[persona_68] - hora:[280.00] - acción: [pasa el proceso de revisión]\n",
      "persona:[persona_69] - hora:[280.00] - acción: [pasa el proceso de revisión]\n",
      "persona:[persona_64] - hora:[280.00] - acción: [sale del recinto]\n",
      "persona:[persona_70] - hora:[280.00] - acción: [llega a la mesa despues de esperar 27]\n",
      "persona:[persona_71] - hora:[280.00] - acción: [llega a la mesa despues de esperar 23]\n",
      "persona:[persona_72] - hora:[280.00] - acción: [llega a la mesa despues de esperar 18]\n",
      "persona:[persona_73] - hora:[280.00] - acción: [llega a la mesa despues de esperar 15]\n",
      "persona:[persona_74] - hora:[280.00] - acción: [llega a la mesa despues de esperar 10]\n",
      "persona:[persona_77] - hora:[281.00] - acción: [llega al recinto]\n",
      "persona:[persona_65] - hora:[282.00] - acción: [se tomaron los datos correctamente]\n",
      "persona:[persona_66] - hora:[282.00] - acción: [se tomaron los datos correctamente]\n",
      "persona:[persona_68] - hora:[282.00] - acción: [se tomaron los datos correctamente]\n",
      "persona:[persona_69] - hora:[282.00] - acción: [se tomaron los datos correctamente]\n",
      "persona:[persona_67] - hora:[283.00] - acción: [se tomaron los datos correctamente]\n",
      "persona:[persona_78] - hora:[285.00] - acción: [llega al recinto]\n",
      "persona:[persona_65] - hora:[288.00] - acción: [vacuna puesta]\n",
      "persona:[persona_79] - hora:[289.00] - acción: [llega al recinto]\n",
      "persona:[persona_68] - hora:[290.00] - acción: [vacuna puesta]\n",
      "persona:[persona_65] - hora:[290.00] - acción: [se le entrega el certificado con fecha a la segunda dosis 2021/06/22]\n",
      "persona:[persona_69] - hora:[291.00] - acción: [vacuna puesta]\n",
      "persona:[persona_66] - hora:[292.00] - acción: [vacuna puesta]\n",
      "persona:[persona_67] - hora:[292.00] - acción: [vacuna puesta]\n",
      "persona:[persona_68] - hora:[292.00] - acción: [se le entrega el certificado con fecha a la segunda dosis 2021/06/22]\n",
      "persona:[persona_80] - hora:[293.00] - acción: [llega al recinto]\n",
      "persona:[persona_66] - hora:[293.00] - acción: [se le entrega el certificado con fecha a la segunda dosis 2021/06/22]\n",
      "persona:[persona_69] - hora:[294.00] - acción: [se le entrega el certificado con fecha a la segunda dosis 2021/06/22]\n",
      "persona:[persona_65] - hora:[295.00] - acción: [sale del recinto]\n",
      "persona:[persona_67] - hora:[295.00] - acción: [se le entrega el certificado con fecha a la segunda dosis 2021/06/22]\n",
      "persona:[persona_68] - hora:[295.00] - acción: [sale del recinto]\n",
      "persona:[persona_69] - hora:[295.00] - acción: [sale del recinto]\n",
      "persona:[persona_66] - hora:[296.00] - acción: [sale del recinto]\n",
      "persona:[persona_67] - hora:[297.00] - acción: [sale del recinto]\n",
      "persona:[persona_81] - hora:[298.00] - acción: [llega al recinto]\n",
      "persona:[persona_70] - hora:[300.00] - acción: [pasa el proceso de revisión]\n",
      "persona:[persona_71] - hora:[300.00] - acción: [pasa el proceso de revisión]\n",
      "persona:[persona_72] - hora:[300.00] - acción: [pasa el proceso de revisión]\n",
      "persona:[persona_73] - hora:[300.00] - acción: [pasa el proceso de revisión]\n",
      "persona:[persona_74] - hora:[300.00] - acción: [pasa el proceso de revisión]\n",
      "persona:[persona_75] - hora:[300.00] - acción: [llega a la mesa despues de esperar 27]\n",
      "persona:[persona_76] - hora:[300.00] - acción: [llega a la mesa despues de esperar 24]\n",
      "persona:[persona_77] - hora:[300.00] - acción: [llega a la mesa despues de esperar 19]\n",
      "persona:[persona_78] - hora:[300.00] - acción: [llega a la mesa despues de esperar 15]\n",
      "persona:[persona_79] - hora:[300.00] - acción: [llega a la mesa despues de esperar 11]\n",
      "persona:[persona_82] - hora:[301.00] - acción: [llega al recinto]\n",
      "persona:[persona_73] - hora:[302.00] - acción: [se tomaron los datos correctamente]\n",
      "persona:[persona_70] - hora:[303.00] - acción: [se tomaron los datos correctamente]\n",
      "persona:[persona_71] - hora:[303.00] - acción: [se tomaron los datos correctamente]\n",
      "persona:[persona_74] - hora:[303.00] - acción: [se tomaron los datos correctamente]\n",
      "persona:[persona_72] - hora:[304.00] - acción: [se tomaron los datos correctamente]\n",
      "persona:[persona_83] - hora:[306.00] - acción: [llega al recinto]\n",
      "persona:[persona_71] - hora:[308.00] - acción: [vacuna puesta]\n",
      "persona:[persona_74] - hora:[309.00] - acción: [vacuna puesta]\n",
      "persona:[persona_84] - hora:[310.00] - acción: [llega al recinto]\n",
      "persona:[persona_70] - hora:[310.00] - acción: [vacuna puesta]\n",
      "persona:[persona_71] - hora:[310.00] - acción: [se le entrega el certificado con fecha a la segunda dosis 2021/06/22]\n",
      "persona:[persona_73] - hora:[312.00] - acción: [vacuna puesta]\n",
      "persona:[persona_72] - hora:[312.00] - acción: [vacuna puesta]\n",
      "persona:[persona_74] - hora:[312.00] - acción: [se le entrega el certificado con fecha a la segunda dosis 2021/06/22]\n",
      "persona:[persona_70] - hora:[312.00] - acción: [se le entrega el certificado con fecha a la segunda dosis 2021/06/22]\n",
      "persona:[persona_72] - hora:[313.00] - acción: [se le entrega el certificado con fecha a la segunda dosis 2021/06/22]\n",
      "persona:[persona_85] - hora:[314.00] - acción: [llega al recinto]\n",
      "persona:[persona_71] - hora:[314.00] - acción: [sale del recinto]\n",
      "persona:[persona_73] - hora:[314.00] - acción: [se le entrega el certificado con fecha a la segunda dosis 2021/06/22]\n",
      "persona:[persona_74] - hora:[314.00] - acción: [sale del recinto]\n",
      "persona:[persona_72] - hora:[314.00] - acción: [sale del recinto]\n",
      "persona:[persona_70] - hora:[315.00] - acción: [sale del recinto]\n",
      "persona:[persona_86] - hora:[317.00] - acción: [llega al recinto]\n",
      "persona:[persona_73] - hora:[318.00] - acción: [sale del recinto]\n",
      "persona:[persona_75] - hora:[320.00] - acción: [pasa el proceso de revisión]\n",
      "persona:[persona_76] - hora:[320.00] - acción: [pasa el proceso de revisión]\n",
      "persona:[persona_77] - hora:[320.00] - acción: [pasa el proceso de revisión]\n",
      "persona:[persona_78] - hora:[320.00] - acción: [pasa el proceso de revisión]\n",
      "persona:[persona_79] - hora:[320.00] - acción: [pasa el proceso de revisión]\n",
      "persona:[persona_80] - hora:[320.00] - acción: [llega a la mesa despues de esperar 27]\n",
      "persona:[persona_81] - hora:[320.00] - acción: [llega a la mesa despues de esperar 22]\n",
      "persona:[persona_82] - hora:[320.00] - acción: [llega a la mesa despues de esperar 19]\n",
      "persona:[persona_83] - hora:[320.00] - acción: [llega a la mesa despues de esperar 14]\n",
      "persona:[persona_84] - hora:[320.00] - acción: [llega a la mesa despues de esperar 10]\n",
      "persona:[persona_87] - hora:[321.00] - acción: [llega al recinto]\n",
      "persona:[persona_78] - hora:[322.00] - acción: [se tomaron los datos correctamente]\n",
      "persona:[persona_75] - hora:[323.00] - acción: [se tomaron los datos correctamente]\n",
      "persona:[persona_76] - hora:[323.00] - acción: [se tomaron los datos correctamente]\n",
      "persona:[persona_79] - hora:[323.00] - acción: [se tomaron los datos correctamente]\n",
      "persona:[persona_77] - hora:[324.00] - acción: [se tomaron los datos correctamente]\n",
      "persona:[persona_88] - hora:[325.00] - acción: [llega al recinto]\n",
      "persona:[persona_78] - hora:[327.00] - acción: [vacuna puesta]\n",
      "persona:[persona_76] - hora:[329.00] - acción: [vacuna puesta]\n",
      "persona:[persona_78] - hora:[329.00] - acción: [se le entrega el certificado con fecha a la segunda dosis 2021/06/22]\n",
      "persona:[persona_89] - hora:[330.00] - acción: [llega al recinto]\n",
      "persona:[persona_77] - hora:[330.00] - acción: [vacuna puesta]\n",
      "persona:[persona_76] - hora:[331.00] - acción: [se le entrega el certificado con fecha a la segunda dosis 2021/06/22]\n",
      "persona:[persona_75] - hora:[332.00] - acción: [vacuna puesta]\n",
      "persona:[persona_79] - hora:[332.00] - acción: [vacuna puesta]\n",
      "persona:[persona_77] - hora:[332.00] - acción: [se le entrega el certificado con fecha a la segunda dosis 2021/06/22]\n",
      "persona:[persona_90] - hora:[333.00] - acción: [llega al recinto]\n",
      "persona:[persona_78] - hora:[333.00] - acción: [sale del recinto]\n",
      "persona:[persona_75] - hora:[333.00] - acción: [se le entrega el certificado con fecha a la segunda dosis 2021/06/22]\n",
      "persona:[persona_77] - hora:[334.00] - acción: [sale del recinto]\n",
      "persona:[persona_79] - hora:[335.00] - acción: [se le entrega el certificado con fecha a la segunda dosis 2021/06/22]\n",
      "persona:[persona_76] - hora:[336.00] - acción: [sale del recinto]\n",
      "persona:[persona_79] - hora:[336.00] - acción: [sale del recinto]\n",
      "persona:[persona_91] - hora:[338.00] - acción: [llega al recinto]\n",
      "persona:[persona_75] - hora:[338.00] - acción: [sale del recinto]\n",
      "persona:[persona_80] - hora:[340.00] - acción: [pasa el proceso de revisión]\n",
      "persona:[persona_81] - hora:[340.00] - acción: [pasa el proceso de revisión]\n",
      "persona:[persona_82] - hora:[340.00] - acción: [pasa el proceso de revisión]\n",
      "persona:[persona_83] - hora:[340.00] - acción: [pasa el proceso de revisión]\n",
      "persona:[persona_84] - hora:[340.00] - acción: [pasa el proceso de revisión]\n",
      "persona:[persona_85] - hora:[340.00] - acción: [llega a la mesa despues de esperar 26]\n",
      "persona:[persona_86] - hora:[340.00] - acción: [llega a la mesa despues de esperar 23]\n",
      "persona:[persona_87] - hora:[340.00] - acción: [llega a la mesa despues de esperar 19]\n",
      "persona:[persona_88] - hora:[340.00] - acción: [llega a la mesa despues de esperar 15]\n",
      "persona:[persona_89] - hora:[340.00] - acción: [llega a la mesa despues de esperar 10]\n",
      "persona:[persona_92] - hora:[341.00] - acción: [llega al recinto]\n",
      "persona:[persona_80] - hora:[343.00] - acción: [se tomaron los datos correctamente]\n",
      "persona:[persona_84] - hora:[343.00] - acción: [se tomaron los datos correctamente]\n",
      "persona:[persona_81] - hora:[344.00] - acción: [se tomaron los datos correctamente]\n",
      "persona:[persona_82] - hora:[344.00] - acción: [se tomaron los datos correctamente]\n",
      "persona:[persona_83] - hora:[344.00] - acción: [se tomaron los datos correctamente]\n",
      "persona:[persona_93] - hora:[345.00] - acción: [llega al recinto]\n",
      "persona:[persona_94] - hora:[349.00] - acción: [llega al recinto]\n",
      "persona:[persona_80] - hora:[351.00] - acción: [vacuna puesta]\n",
      "persona:[persona_84] - hora:[351.00] - acción: [vacuna puesta]\n",
      "persona:[persona_82] - hora:[352.00] - acción: [vacuna puesta]\n",
      "persona:[persona_95] - hora:[353.00] - acción: [llega al recinto]\n",
      "persona:[persona_81] - hora:[353.00] - acción: [vacuna puesta]\n",
      "persona:[persona_83] - hora:[353.00] - acción: [vacuna puesta]\n",
      "persona:[persona_82] - hora:[353.00] - acción: [se le entrega el certificado con fecha a la segunda dosis 2021/06/22]\n",
      "persona:[persona_80] - hora:[354.00] - acción: [se le entrega el certificado con fecha a la segunda dosis 2021/06/22]\n",
      "persona:[persona_84] - hora:[354.00] - acción: [se le entrega el certificado con fecha a la segunda dosis 2021/06/22]\n",
      "persona:[persona_81] - hora:[355.00] - acción: [se le entrega el certificado con fecha a la segunda dosis 2021/06/22]\n",
      "persona:[persona_83] - hora:[356.00] - acción: [se le entrega el certificado con fecha a la segunda dosis 2021/06/22]\n",
      "persona:[persona_82] - hora:[356.00] - acción: [sale del recinto]\n",
      "persona:[persona_80] - hora:[356.00] - acción: [sale del recinto]\n",
      "persona:[persona_81] - hora:[357.00] - acción: [sale del recinto]\n",
      "persona:[persona_96] - hora:[358.00] - acción: [llega al recinto]\n",
      "persona:[persona_84] - hora:[359.00] - acción: [sale del recinto]\n",
      "persona:[persona_83] - hora:[359.00] - acción: [sale del recinto]\n",
      "persona:[persona_85] - hora:[360.00] - acción: [no paso el proceso de revisión. Proxima fecha 2021/06/05]\n",
      "persona:[persona_86] - hora:[360.00] - acción: [no paso el proceso de revisión. Proxima fecha 2021/06/05]\n",
      "persona:[persona_87] - hora:[360.00] - acción: [no paso el proceso de revisión. Proxima fecha 2021/06/04]\n",
      "persona:[persona_88] - hora:[360.00] - acción: [no paso el proceso de revisión. Proxima fecha 2021/06/03]\n",
      "persona:[persona_89] - hora:[360.00] - acción: [no paso el proceso de revisión. Proxima fecha 2021/06/05]\n",
      "persona:[persona_90] - hora:[360.00] - acción: [llega a la mesa despues de esperar 27]\n",
      "persona:[persona_91] - hora:[360.00] - acción: [llega a la mesa despues de esperar 22]\n",
      "persona:[persona_92] - hora:[360.00] - acción: [llega a la mesa despues de esperar 19]\n",
      "persona:[persona_93] - hora:[360.00] - acción: [llega a la mesa despues de esperar 15]\n",
      "persona:[persona_94] - hora:[360.00] - acción: [llega a la mesa despues de esperar 11]\n",
      "persona:[persona_86] - hora:[361.00] - acción: [sale del recinto]\n",
      "persona:[persona_87] - hora:[362.00] - acción: [sale del recinto]\n",
      "persona:[persona_88] - hora:[362.00] - acción: [sale del recinto]\n",
      "persona:[persona_97] - hora:[363.00] - acción: [llega al recinto]\n",
      "persona:[persona_85] - hora:[363.00] - acción: [sale del recinto]\n",
      "persona:[persona_89] - hora:[364.00] - acción: [sale del recinto]\n",
      "persona:[persona_98] - hora:[368.00] - acción: [llega al recinto]\n",
      "persona:[persona_99] - hora:[373.00] - acción: [llega al recinto]\n",
      "persona:[persona_100] - hora:[378.00] - acción: [llega al recinto]\n",
      "persona:[persona_90] - hora:[380.00] - acción: [no paso el proceso de revisión. Proxima fecha 2021/06/04]\n",
      "persona:[persona_91] - hora:[380.00] - acción: [no paso el proceso de revisión. Proxima fecha 2021/06/04]\n",
      "persona:[persona_92] - hora:[380.00] - acción: [no paso el proceso de revisión. Proxima fecha 2021/06/04]\n",
      "persona:[persona_93] - hora:[380.00] - acción: [no paso el proceso de revisión. Proxima fecha 2021/06/04]\n",
      "persona:[persona_94] - hora:[380.00] - acción: [no paso el proceso de revisión. Proxima fecha 2021/06/05]\n",
      "persona:[persona_95] - hora:[380.00] - acción: [llega a la mesa despues de esperar 27]\n",
      "persona:[persona_96] - hora:[380.00] - acción: [llega a la mesa despues de esperar 22]\n",
      "persona:[persona_97] - hora:[380.00] - acción: [llega a la mesa despues de esperar 17]\n",
      "persona:[persona_98] - hora:[380.00] - acción: [llega a la mesa despues de esperar 12]\n",
      "persona:[persona_99] - hora:[380.00] - acción: [llega a la mesa despues de esperar 7]\n",
      "persona:[persona_91] - hora:[382.00] - acción: [sale del recinto]\n",
      "persona:[persona_101] - hora:[383.00] - acción: [llega al recinto]\n",
      "persona:[persona_90] - hora:[383.00] - acción: [sale del recinto]\n",
      "persona:[persona_92] - hora:[385.00] - acción: [sale del recinto]\n",
      "persona:[persona_93] - hora:[385.00] - acción: [sale del recinto]\n",
      "persona:[persona_94] - hora:[385.00] - acción: [sale del recinto]\n",
      "persona:[persona_102] - hora:[386.00] - acción: [llega al recinto]\n",
      "persona:[persona_103] - hora:[389.00] - acción: [llega al recinto]\n",
      "persona:[persona_104] - hora:[394.00] - acción: [llega al recinto]\n",
      "persona:[persona_105] - hora:[397.00] - acción: [llega al recinto]\n",
      "persona:[persona_106] - hora:[400.00] - acción: [llega al recinto]\n",
      "persona:[persona_95] - hora:[400.00] - acción: [pasa el proceso de revisión]\n",
      "persona:[persona_96] - hora:[400.00] - acción: [pasa el proceso de revisión]\n",
      "persona:[persona_97] - hora:[400.00] - acción: [pasa el proceso de revisión]\n",
      "persona:[persona_98] - hora:[400.00] - acción: [pasa el proceso de revisión]\n",
      "persona:[persona_99] - hora:[400.00] - acción: [pasa el proceso de revisión]\n",
      "persona:[persona_100] - hora:[400.00] - acción: [llega a la mesa despues de esperar 22]\n",
      "persona:[persona_101] - hora:[400.00] - acción: [llega a la mesa despues de esperar 17]\n",
      "persona:[persona_102] - hora:[400.00] - acción: [llega a la mesa despues de esperar 14]\n",
      "persona:[persona_103] - hora:[400.00] - acción: [llega a la mesa despues de esperar 11]\n",
      "persona:[persona_104] - hora:[400.00] - acción: [llega a la mesa despues de esperar 6]\n",
      "persona:[persona_98] - hora:[402.00] - acción: [se tomaron los datos correctamente]\n",
      "persona:[persona_97] - hora:[403.00] - acción: [se tomaron los datos correctamente]\n",
      "persona:[persona_95] - hora:[404.00] - acción: [se tomaron los datos correctamente]\n",
      "persona:[persona_96] - hora:[404.00] - acción: [se tomaron los datos correctamente]\n",
      "persona:[persona_99] - hora:[404.00] - acción: [se tomaron los datos correctamente]\n",
      "persona:[persona_107] - hora:[405.00] - acción: [llega al recinto]\n",
      "persona:[persona_98] - hora:[408.00] - acción: [vacuna puesta]\n",
      "persona:[persona_108] - hora:[409.00] - acción: [llega al recinto]\n",
      "persona:[persona_97] - hora:[409.00] - acción: [vacuna puesta]\n",
      "persona:[persona_95] - hora:[409.00] - acción: [vacuna puesta]\n",
      "persona:[persona_98] - hora:[411.00] - acción: [se le entrega el certificado con fecha a la segunda dosis 2021/06/22]\n",
      "persona:[persona_97] - hora:[411.00] - acción: [se le entrega el certificado con fecha a la segunda dosis 2021/06/22]\n",
      "persona:[persona_95] - hora:[411.00] - acción: [se le entrega el certificado con fecha a la segunda dosis 2021/06/22]\n",
      "persona:[persona_99] - hora:[412.00] - acción: [vacuna puesta]\n",
      "persona:[persona_98] - hora:[412.00] - acción: [sale del recinto]\n",
      "persona:[persona_97] - hora:[412.00] - acción: [sale del recinto]\n",
      "persona:[persona_109] - hora:[413.00] - acción: [llega al recinto]\n",
      "persona:[persona_96] - hora:[413.00] - acción: [vacuna puesta]\n",
      "persona:[persona_99] - hora:[414.00] - acción: [se le entrega el certificado con fecha a la segunda dosis 2021/06/22]\n",
      "persona:[persona_95] - hora:[416.00] - acción: [sale del recinto]\n",
      "persona:[persona_96] - hora:[416.00] - acción: [se le entrega el certificado con fecha a la segunda dosis 2021/06/22]\n",
      "persona:[persona_99] - hora:[417.00] - acción: [sale del recinto]\n",
      "persona:[persona_110] - hora:[418.00] - acción: [llega al recinto]\n",
      "persona:[persona_96] - hora:[418.00] - acción: [sale del recinto]\n",
      "persona:[persona_100] - hora:[420.00] - acción: [pasa el proceso de revisión]\n",
      "persona:[persona_101] - hora:[420.00] - acción: [pasa el proceso de revisión]\n",
      "persona:[persona_102] - hora:[420.00] - acción: [pasa el proceso de revisión]\n",
      "persona:[persona_103] - hora:[420.00] - acción: [pasa el proceso de revisión]\n",
      "persona:[persona_104] - hora:[420.00] - acción: [pasa el proceso de revisión]\n",
      "persona:[persona_105] - hora:[420.00] - acción: [llega a la mesa despues de esperar 23]\n",
      "persona:[persona_106] - hora:[420.00] - acción: [llega a la mesa despues de esperar 20]\n",
      "persona:[persona_107] - hora:[420.00] - acción: [llega a la mesa despues de esperar 15]\n",
      "persona:[persona_108] - hora:[420.00] - acción: [llega a la mesa despues de esperar 11]\n",
      "persona:[persona_109] - hora:[420.00] - acción: [llega a la mesa despues de esperar 7]\n",
      "persona:[persona_111] - hora:[421.00] - acción: [llega al recinto]\n",
      "persona:[persona_101] - hora:[422.00] - acción: [se tomaron los datos correctamente]\n",
      "persona:[persona_102] - hora:[422.00] - acción: [se tomaron los datos correctamente]\n",
      "persona:[persona_100] - hora:[423.00] - acción: [se tomaron los datos correctamente]\n",
      "persona:[persona_104] - hora:[423.00] - acción: [se tomaron los datos correctamente]\n",
      "persona:[persona_103] - hora:[424.00] - acción: [se tomaron los datos correctamente]\n",
      "persona:[persona_112] - hora:[425.00] - acción: [llega al recinto]\n",
      "persona:[persona_102] - hora:[427.00] - acción: [vacuna puesta]\n",
      "persona:[persona_113] - hora:[428.00] - acción: [llega al recinto]\n",
      "persona:[persona_104] - hora:[428.00] - acción: [vacuna puesta]\n",
      "persona:[persona_103] - hora:[429.00] - acción: [vacuna puesta]\n",
      "persona:[persona_104] - hora:[429.00] - acción: [se le entrega el certificado con fecha a la segunda dosis 2021/06/22]\n",
      "persona:[persona_100] - hora:[430.00] - acción: [vacuna puesta]\n",
      "persona:[persona_102] - hora:[430.00] - acción: [se le entrega el certificado con fecha a la segunda dosis 2021/06/22]\n",
      "persona:[persona_101] - hora:[431.00] - acción: [vacuna puesta]\n",
      "persona:[persona_103] - hora:[431.00] - acción: [se le entrega el certificado con fecha a la segunda dosis 2021/06/22]\n",
      "persona:[persona_100] - hora:[431.00] - acción: [se le entrega el certificado con fecha a la segunda dosis 2021/06/22]\n",
      "persona:[persona_114] - hora:[432.00] - acción: [llega al recinto]\n",
      "persona:[persona_104] - hora:[432.00] - acción: [sale del recinto]\n",
      "persona:[persona_100] - hora:[432.00] - acción: [sale del recinto]\n",
      "persona:[persona_102] - hora:[433.00] - acción: [sale del recinto]\n",
      "persona:[persona_103] - hora:[433.00] - acción: [sale del recinto]\n",
      "persona:[persona_101] - hora:[434.00] - acción: [se le entrega el certificado con fecha a la segunda dosis 2021/06/22]\n",
      "persona:[persona_101] - hora:[436.00] - acción: [sale del recinto]\n",
      "persona:[persona_115] - hora:[437.00] - acción: [llega al recinto]\n",
      "persona:[persona_105] - hora:[440.00] - acción: [pasa el proceso de revisión]\n",
      "persona:[persona_106] - hora:[440.00] - acción: [pasa el proceso de revisión]\n",
      "persona:[persona_107] - hora:[440.00] - acción: [pasa el proceso de revisión]\n",
      "persona:[persona_108] - hora:[440.00] - acción: [pasa el proceso de revisión]\n",
      "persona:[persona_109] - hora:[440.00] - acción: [pasa el proceso de revisión]\n",
      "persona:[persona_110] - hora:[440.00] - acción: [llega a la mesa despues de esperar 22]\n",
      "persona:[persona_111] - hora:[440.00] - acción: [llega a la mesa despues de esperar 19]\n",
      "persona:[persona_112] - hora:[440.00] - acción: [llega a la mesa despues de esperar 15]\n",
      "persona:[persona_113] - hora:[440.00] - acción: [llega a la mesa despues de esperar 12]\n",
      "persona:[persona_114] - hora:[440.00] - acción: [llega a la mesa despues de esperar 8]\n",
      "persona:[persona_116] - hora:[442.00] - acción: [llega al recinto]\n",
      "persona:[persona_105] - hora:[443.00] - acción: [se tomaron los datos correctamente]\n",
      "persona:[persona_106] - hora:[443.00] - acción: [se tomaron los datos correctamente]\n",
      "persona:[persona_108] - hora:[443.00] - acción: [se tomaron los datos correctamente]\n",
      "persona:[persona_107] - hora:[444.00] - acción: [se tomaron los datos correctamente]\n",
      "persona:[persona_109] - hora:[444.00] - acción: [se tomaron los datos correctamente]\n",
      "persona:[persona_117] - hora:[446.00] - acción: [llega al recinto]\n",
      "persona:[persona_118] - hora:[449.00] - acción: [llega al recinto]\n",
      "persona:[persona_105] - hora:[449.00] - acción: [vacuna puesta]\n",
      "persona:[persona_106] - hora:[449.00] - acción: [vacuna puesta]\n",
      "persona:[persona_108] - hora:[450.00] - acción: [vacuna puesta]\n",
      "persona:[persona_105] - hora:[451.00] - acción: [se le entrega el certificado con fecha a la segunda dosis 2021/06/22]\n",
      "persona:[persona_108] - hora:[451.00] - acción: [se le entrega el certificado con fecha a la segunda dosis 2021/06/22]\n",
      "persona:[persona_106] - hora:[452.00] - acción: [se le entrega el certificado con fecha a la segunda dosis 2021/06/22]\n",
      "persona:[persona_119] - hora:[453.00] - acción: [llega al recinto]\n",
      "persona:[persona_107] - hora:[453.00] - acción: [vacuna puesta]\n",
      "persona:[persona_109] - hora:[454.00] - acción: [vacuna puesta]\n",
      "persona:[persona_108] - hora:[455.00] - acción: [sale del recinto]\n",
      "persona:[persona_107] - hora:[455.00] - acción: [se le entrega el certificado con fecha a la segunda dosis 2021/06/22]\n",
      "persona:[persona_109] - hora:[455.00] - acción: [se le entrega el certificado con fecha a la segunda dosis 2021/06/22]\n",
      "persona:[persona_105] - hora:[456.00] - acción: [sale del recinto]\n",
      "persona:[persona_109] - hora:[456.00] - acción: [sale del recinto]\n",
      "persona:[persona_120] - hora:[457.00] - acción: [llega al recinto]\n",
      "persona:[persona_106] - hora:[457.00] - acción: [sale del recinto]\n",
      "persona:[persona_107] - hora:[458.00] - acción: [sale del recinto]\n",
      "persona:[persona_110] - hora:[460.00] - acción: [pasa el proceso de revisión]\n",
      "persona:[persona_111] - hora:[460.00] - acción: [pasa el proceso de revisión]\n",
      "persona:[persona_112] - hora:[460.00] - acción: [pasa el proceso de revisión]\n",
      "persona:[persona_113] - hora:[460.00] - acción: [pasa el proceso de revisión]\n",
      "persona:[persona_114] - hora:[460.00] - acción: [pasa el proceso de revisión]\n",
      "persona:[persona_115] - hora:[460.00] - acción: [llega a la mesa despues de esperar 23]\n",
      "persona:[persona_116] - hora:[460.00] - acción: [llega a la mesa despues de esperar 18]\n",
      "persona:[persona_117] - hora:[460.00] - acción: [llega a la mesa despues de esperar 14]\n",
      "persona:[persona_118] - hora:[460.00] - acción: [llega a la mesa despues de esperar 11]\n",
      "persona:[persona_119] - hora:[460.00] - acción: [llega a la mesa despues de esperar 7]\n",
      "persona:[persona_121] - hora:[462.00] - acción: [llega al recinto]\n",
      "persona:[persona_110] - hora:[462.00] - acción: [se tomaron los datos correctamente]\n",
      "persona:[persona_111] - hora:[462.00] - acción: [se tomaron los datos correctamente]\n",
      "persona:[persona_113] - hora:[462.00] - acción: [se tomaron los datos correctamente]\n",
      "persona:[persona_112] - hora:[463.00] - acción: [se tomaron los datos correctamente]\n",
      "persona:[persona_114] - hora:[464.00] - acción: [se tomaron los datos correctamente]\n",
      "persona:[persona_122] - hora:[466.00] - acción: [llega al recinto]\n",
      "persona:[persona_113] - hora:[467.00] - acción: [vacuna puesta]\n",
      "persona:[persona_113] - hora:[469.00] - acción: [se le entrega el certificado con fecha a la segunda dosis 2021/06/22]\n",
      "persona:[persona_123] - hora:[470.00] - acción: [llega al recinto]\n",
      "persona:[persona_110] - hora:[470.00] - acción: [vacuna puesta]\n",
      "persona:[persona_112] - hora:[470.00] - acción: [vacuna puesta]\n",
      "persona:[persona_114] - hora:[471.00] - acción: [vacuna puesta]\n",
      "persona:[persona_113] - hora:[471.00] - acción: [sale del recinto]\n",
      "persona:[persona_110] - hora:[471.00] - acción: [se le entrega el certificado con fecha a la segunda dosis 2021/06/22]\n",
      "persona:[persona_112] - hora:[471.00] - acción: [se le entrega el certificado con fecha a la segunda dosis 2021/06/22]\n",
      "persona:[persona_111] - hora:[472.00] - acción: [vacuna puesta]\n",
      "persona:[persona_110] - hora:[472.00] - acción: [sale del recinto]\n",
      "persona:[persona_124] - hora:[473.00] - acción: [llega al recinto]\n",
      "persona:[persona_114] - hora:[473.00] - acción: [se le entrega el certificado con fecha a la segunda dosis 2021/06/22]\n",
      "persona:[persona_111] - hora:[474.00] - acción: [se le entrega el certificado con fecha a la segunda dosis 2021/06/22]\n",
      "persona:[persona_112] - hora:[475.00] - acción: [sale del recinto]\n",
      "persona:[persona_125] - hora:[477.00] - acción: [llega al recinto]\n",
      "persona:[persona_114] - hora:[477.00] - acción: [sale del recinto]\n",
      "persona:[persona_111] - hora:[477.00] - acción: [sale del recinto]\n",
      "persona:[persona_115] - hora:[480.00] - acción: [pasa el proceso de revisión]\n",
      "persona:[persona_116] - hora:[480.00] - acción: [pasa el proceso de revisión]\n",
      "persona:[persona_117] - hora:[480.00] - acción: [pasa el proceso de revisión]\n",
      "persona:[persona_118] - hora:[480.00] - acción: [pasa el proceso de revisión]\n",
      "persona:[persona_119] - hora:[480.00] - acción: [pasa el proceso de revisión]\n",
      "persona:[persona_120] - hora:[480.00] - acción: [llega a la mesa despues de esperar 23]\n",
      "persona:[persona_121] - hora:[480.00] - acción: [llega a la mesa despues de esperar 18]\n",
      "persona:[persona_122] - hora:[480.00] - acción: [llega a la mesa despues de esperar 14]\n",
      "persona:[persona_123] - hora:[480.00] - acción: [llega a la mesa despues de esperar 10]\n",
      "persona:[persona_124] - hora:[480.00] - acción: [llega a la mesa despues de esperar 7]\n",
      "persona:[persona_126] - hora:[482.00] - acción: [llega al recinto]\n",
      "persona:[persona_115] - hora:[482.00] - acción: [se tomaron los datos correctamente]\n",
      "persona:[persona_117] - hora:[483.00] - acción: [se tomaron los datos correctamente]\n",
      "persona:[persona_118] - hora:[483.00] - acción: [se tomaron los datos correctamente]\n",
      "persona:[persona_116] - hora:[484.00] - acción: [se tomaron los datos correctamente]\n",
      "persona:[persona_119] - hora:[484.00] - acción: [se tomaron los datos correctamente]\n",
      "persona:[persona_127] - hora:[485.00] - acción: [llega al recinto]\n",
      "persona:[persona_115] - hora:[488.00] - acción: [vacuna puesta]\n",
      "persona:[persona_118] - hora:[489.00] - acción: [vacuna puesta]\n",
      "persona:[persona_116] - hora:[489.00] - acción: [vacuna puesta]\n",
      "persona:[persona_128] - hora:[490.00] - acción: [llega al recinto]\n",
      "persona:[persona_115] - hora:[490.00] - acción: [se le entrega el certificado con fecha a la segunda dosis 2021/06/22]\n",
      "persona:[persona_116] - hora:[490.00] - acción: [se le entrega el certificado con fecha a la segunda dosis 2021/06/22]\n",
      "persona:[persona_116] - hora:[491.00] - acción: [sale del recinto]\n",
      "persona:[persona_118] - hora:[492.00] - acción: [se le entrega el certificado con fecha a la segunda dosis 2021/06/22]\n",
      "persona:[persona_115] - hora:[492.00] - acción: [sale del recinto]\n",
      "persona:[persona_129] - hora:[493.00] - acción: [llega al recinto]\n",
      "persona:[persona_117] - hora:[493.00] - acción: [vacuna puesta]\n",
      "persona:[persona_119] - hora:[493.00] - acción: [vacuna puesta]\n",
      "persona:[persona_118] - hora:[494.00] - acción: [sale del recinto]\n",
      "persona:[persona_117] - hora:[494.00] - acción: [se le entrega el certificado con fecha a la segunda dosis 2021/06/22]\n",
      "persona:[persona_119] - hora:[494.00] - acción: [se le entrega el certificado con fecha a la segunda dosis 2021/06/22]\n",
      "persona:[persona_117] - hora:[495.00] - acción: [sale del recinto]\n",
      "persona:[persona_119] - hora:[495.00] - acción: [sale del recinto]\n",
      "persona:[persona_130] - hora:[498.00] - acción: [llega al recinto]\n",
      "persona:[persona_120] - hora:[500.00] - acción: [pasa el proceso de revisión]\n",
      "persona:[persona_121] - hora:[500.00] - acción: [pasa el proceso de revisión]\n",
      "persona:[persona_122] - hora:[500.00] - acción: [pasa el proceso de revisión]\n",
      "persona:[persona_123] - hora:[500.00] - acción: [pasa el proceso de revisión]\n",
      "persona:[persona_124] - hora:[500.00] - acción: [pasa el proceso de revisión]\n",
      "persona:[persona_125] - hora:[500.00] - acción: [llega a la mesa despues de esperar 23]\n",
      "persona:[persona_126] - hora:[500.00] - acción: [llega a la mesa despues de esperar 18]\n",
      "persona:[persona_127] - hora:[500.00] - acción: [llega a la mesa despues de esperar 15]\n",
      "persona:[persona_128] - hora:[500.00] - acción: [llega a la mesa despues de esperar 10]\n",
      "persona:[persona_129] - hora:[500.00] - acción: [llega a la mesa despues de esperar 7]\n",
      "persona:[persona_131] - hora:[501.00] - acción: [llega al recinto]\n",
      "persona:[persona_122] - hora:[502.00] - acción: [se tomaron los datos correctamente]\n",
      "persona:[persona_123] - hora:[502.00] - acción: [se tomaron los datos correctamente]\n",
      "persona:[persona_124] - hora:[503.00] - acción: [se tomaron los datos correctamente]\n",
      "persona:[persona_120] - hora:[504.00] - acción: [se tomaron los datos correctamente]\n",
      "persona:[persona_121] - hora:[504.00] - acción: [se tomaron los datos correctamente]\n",
      "persona:[persona_132] - hora:[506.00] - acción: [llega al recinto]\n",
      "persona:[persona_124] - hora:[509.00] - acción: [vacuna puesta]\n",
      "persona:[persona_123] - hora:[510.00] - acción: [vacuna puesta]\n",
      "persona:[persona_133] - hora:[511.00] - acción: [llega al recinto]\n",
      "persona:[persona_120] - hora:[511.00] - acción: [vacuna puesta]\n",
      "persona:[persona_123] - hora:[511.00] - acción: [se le entrega el certificado con fecha a la segunda dosis 2021/06/22]\n",
      "persona:[persona_122] - hora:[512.00] - acción: [vacuna puesta]\n",
      "persona:[persona_124] - hora:[512.00] - acción: [se le entrega el certificado con fecha a la segunda dosis 2021/06/22]\n",
      "persona:[persona_120] - hora:[513.00] - acción: [se le entrega el certificado con fecha a la segunda dosis 2021/06/22]\n",
      "persona:[persona_123] - hora:[513.00] - acción: [sale del recinto]\n",
      "persona:[persona_134] - hora:[514.00] - acción: [llega al recinto]\n",
      "persona:[persona_121] - hora:[514.00] - acción: [vacuna puesta]\n",
      "persona:[persona_122] - hora:[515.00] - acción: [se le entrega el certificado con fecha a la segunda dosis 2021/06/22]\n",
      "persona:[persona_121] - hora:[515.00] - acción: [se le entrega el certificado con fecha a la segunda dosis 2021/06/22]\n",
      "persona:[persona_121] - hora:[516.00] - acción: [sale del recinto]\n",
      "persona:[persona_124] - hora:[517.00] - acción: [sale del recinto]\n",
      "persona:[persona_122] - hora:[517.00] - acción: [sale del recinto]\n",
      "persona:[persona_135] - hora:[518.00] - acción: [llega al recinto]\n",
      "persona:[persona_120] - hora:[518.00] - acción: [sale del recinto]\n",
      "No hay vacunas\n",
      "No hay vacunas\n",
      "No hay vacunas\n",
      "No hay vacunas\n",
      "No hay vacunas\n",
      "persona:[persona_130] - hora:[520.00] - acción: [llega a la mesa despues de esperar 22]\n",
      "persona:[persona_131] - hora:[520.00] - acción: [llega a la mesa despues de esperar 19]\n",
      "persona:[persona_132] - hora:[520.00] - acción: [llega a la mesa despues de esperar 14]\n",
      "persona:[persona_133] - hora:[520.00] - acción: [llega a la mesa despues de esperar 9]\n",
      "persona:[persona_134] - hora:[520.00] - acción: [llega a la mesa despues de esperar 6]\n",
      "persona:[persona_136] - hora:[522.00] - acción: [llega al recinto]\n",
      "persona:[persona_137] - hora:[525.00] - acción: [llega al recinto]\n",
      "persona:[persona_138] - hora:[529.00] - acción: [llega al recinto]\n",
      "persona:[persona_139] - hora:[532.00] - acción: [llega al recinto]\n",
      "persona:[persona_140] - hora:[536.00] - acción: [llega al recinto]\n"
     ]
    }
   ],
   "source": [
    "env = simpy.Environment()\n",
    "simulation = Simulation(7)\n",
    "env.process(simulation._execute_simulation(env))\n",
    "env.run(until=TIME_SIMULATION)"
   ]
  },
  {
   "cell_type": "markdown",
   "id": "67b83c4d",
   "metadata": {},
   "source": [
    "## Métrcias de la simulación\n",
    "\n",
    "Una vez realizadas las simulaciones, con la data recolectada procedemos a realizar el proceso de análisis de resultados de la simulación, tomando en cuenta los requerimientos indicados, se los modificarón y se obtuvieron las siguientes métricas:\n",
    "\n",
    "* Total de personas que se vacunaron.\n",
    "* Total de personas que no se vacunaron.\n",
    "* porcentaje de personas vacunadas y no vacunadas.\n",
    "* El tiempo promedio de espera\n",
    "\n",
    "Cabe recalcar que todos los tiempos del conjunto de datos estan en minutos"
   ]
  },
  {
   "cell_type": "code",
   "execution_count": 27,
   "id": "d9c716a3",
   "metadata": {
    "hide_input": true,
    "scrolled": true
   },
   "outputs": [
    {
     "data": {
      "text/html": [
       "<div>\n",
       "<style scoped>\n",
       "    .dataframe tbody tr th:only-of-type {\n",
       "        vertical-align: middle;\n",
       "    }\n",
       "\n",
       "    .dataframe tbody tr th {\n",
       "        vertical-align: top;\n",
       "    }\n",
       "\n",
       "    .dataframe thead th {\n",
       "        text-align: right;\n",
       "    }\n",
       "</style>\n",
       "<table border=\"1\" class=\"dataframe\">\n",
       "  <thead>\n",
       "    <tr style=\"text-align: right;\">\n",
       "      <th></th>\n",
       "      <th>id</th>\n",
       "      <th>name</th>\n",
       "      <th>exam</th>\n",
       "      <th>data</th>\n",
       "      <th>vaccine</th>\n",
       "      <th>certificate</th>\n",
       "      <th>exit</th>\n",
       "      <th>wait</th>\n",
       "      <th>result</th>\n",
       "      <th>total_time</th>\n",
       "    </tr>\n",
       "  </thead>\n",
       "  <tbody>\n",
       "    <tr>\n",
       "      <th>0</th>\n",
       "      <td>0</td>\n",
       "      <td>persona_0</td>\n",
       "      <td>20</td>\n",
       "      <td>4</td>\n",
       "      <td>5</td>\n",
       "      <td>1</td>\n",
       "      <td>5</td>\n",
       "      <td>0</td>\n",
       "      <td>1</td>\n",
       "      <td>35</td>\n",
       "    </tr>\n",
       "    <tr>\n",
       "      <th>1</th>\n",
       "      <td>1</td>\n",
       "      <td>persona_1</td>\n",
       "      <td>20</td>\n",
       "      <td>3</td>\n",
       "      <td>7</td>\n",
       "      <td>1</td>\n",
       "      <td>5</td>\n",
       "      <td>0</td>\n",
       "      <td>1</td>\n",
       "      <td>36</td>\n",
       "    </tr>\n",
       "    <tr>\n",
       "      <th>2</th>\n",
       "      <td>2</td>\n",
       "      <td>persona_2</td>\n",
       "      <td>20</td>\n",
       "      <td>4</td>\n",
       "      <td>9</td>\n",
       "      <td>2</td>\n",
       "      <td>5</td>\n",
       "      <td>0</td>\n",
       "      <td>1</td>\n",
       "      <td>40</td>\n",
       "    </tr>\n",
       "    <tr>\n",
       "      <th>3</th>\n",
       "      <td>3</td>\n",
       "      <td>persona_3</td>\n",
       "      <td>20</td>\n",
       "      <td>3</td>\n",
       "      <td>5</td>\n",
       "      <td>1</td>\n",
       "      <td>2</td>\n",
       "      <td>0</td>\n",
       "      <td>1</td>\n",
       "      <td>31</td>\n",
       "    </tr>\n",
       "    <tr>\n",
       "      <th>4</th>\n",
       "      <td>4</td>\n",
       "      <td>persona_4</td>\n",
       "      <td>20</td>\n",
       "      <td>2</td>\n",
       "      <td>10</td>\n",
       "      <td>2</td>\n",
       "      <td>4</td>\n",
       "      <td>0</td>\n",
       "      <td>1</td>\n",
       "      <td>38</td>\n",
       "    </tr>\n",
       "  </tbody>\n",
       "</table>\n",
       "</div>"
      ],
      "text/plain": [
       "   id       name  exam  data  vaccine  certificate  exit  wait  result  \\\n",
       "0   0  persona_0    20     4        5            1     5     0       1   \n",
       "1   1  persona_1    20     3        7            1     5     0       1   \n",
       "2   2  persona_2    20     4        9            2     5     0       1   \n",
       "3   3  persona_3    20     3        5            1     2     0       1   \n",
       "4   4  persona_4    20     2       10            2     4     0       1   \n",
       "\n",
       "   total_time  \n",
       "0          35  \n",
       "1          36  \n",
       "2          40  \n",
       "3          31  \n",
       "4          38  "
      ]
     },
     "execution_count": 27,
     "metadata": {},
     "output_type": "execute_result"
    }
   ],
   "source": [
    "df_data_simulation = pd.DataFrame(LIST_DATA,columns=['name','exam','data','vaccine','certificate','exit','wait','result'])\n",
    "df_data_simulation['id']= df_data_simulation['name'].apply(lambda x:int(x.split('_')[1]))\n",
    "df_data_simulation.set_index('id',inplace=True)\n",
    "df_data_simulation.sort_index(inplace=True)\n",
    "df_data_simulation.reset_index(inplace=True)\n",
    "df_data_simulation=df_data_simulation.convert_dtypes()\n",
    "df_data_simulation['total_time']=df_data_simulation['exam']+df_data_simulation['data']+df_data_simulation['vaccine']+df_data_simulation['certificate']+df_data_simulation['exit']\n",
    "df_data_simulation.head()"
   ]
  },
  {
   "cell_type": "markdown",
   "id": "ebbb7db1",
   "metadata": {},
   "source": [
    "Una vez preprocesado el conjunto de datos podemos notar como algunas personas no se vacunarón y otras personas si lograron vacunarse. A partir de estos obtenemos las siguientes métricas."
   ]
  },
  {
   "cell_type": "markdown",
   "id": "e635e23a",
   "metadata": {},
   "source": [
    "### Total de personas que se vacunaron"
   ]
  },
  {
   "cell_type": "code",
   "execution_count": 28,
   "id": "dd2f97d4",
   "metadata": {
    "hide_input": true
   },
   "outputs": [
    {
     "name": "stdout",
     "output_type": "stream",
     "text": [
      "Se ha vacunado a un total de 100 personas\n"
     ]
    }
   ],
   "source": [
    "print('Se ha vacunado a un total de {} personas'.format(len(df_data_simulation[df_data_simulation['result']==1])))"
   ]
  },
  {
   "cell_type": "code",
   "execution_count": 29,
   "id": "14976872",
   "metadata": {
    "hide_input": true
   },
   "outputs": [
    {
     "data": {
      "text/html": [
       "\n",
       "<div id=\"altair-viz-35378b8211464d64a28f13fb09979eb5\"></div>\n",
       "<script type=\"text/javascript\">\n",
       "  (function(spec, embedOpt){\n",
       "    let outputDiv = document.currentScript.previousElementSibling;\n",
       "    if (outputDiv.id !== \"altair-viz-35378b8211464d64a28f13fb09979eb5\") {\n",
       "      outputDiv = document.getElementById(\"altair-viz-35378b8211464d64a28f13fb09979eb5\");\n",
       "    }\n",
       "    const paths = {\n",
       "      \"vega\": \"https://cdn.jsdelivr.net/npm//vega@5?noext\",\n",
       "      \"vega-lib\": \"https://cdn.jsdelivr.net/npm//vega-lib?noext\",\n",
       "      \"vega-lite\": \"https://cdn.jsdelivr.net/npm//vega-lite@4.8.1?noext\",\n",
       "      \"vega-embed\": \"https://cdn.jsdelivr.net/npm//vega-embed@6?noext\",\n",
       "    };\n",
       "\n",
       "    function loadScript(lib) {\n",
       "      return new Promise(function(resolve, reject) {\n",
       "        var s = document.createElement('script');\n",
       "        s.src = paths[lib];\n",
       "        s.async = true;\n",
       "        s.onload = () => resolve(paths[lib]);\n",
       "        s.onerror = () => reject(`Error loading script: ${paths[lib]}`);\n",
       "        document.getElementsByTagName(\"head\")[0].appendChild(s);\n",
       "      });\n",
       "    }\n",
       "\n",
       "    function showError(err) {\n",
       "      outputDiv.innerHTML = `<div class=\"error\" style=\"color:red;\">${err}</div>`;\n",
       "      throw err;\n",
       "    }\n",
       "\n",
       "    function displayChart(vegaEmbed) {\n",
       "      vegaEmbed(outputDiv, spec, embedOpt)\n",
       "        .catch(err => showError(`Javascript Error: ${err.message}<br>This usually means there's a typo in your chart specification. See the javascript console for the full traceback.`));\n",
       "    }\n",
       "\n",
       "    if(typeof define === \"function\" && define.amd) {\n",
       "      requirejs.config({paths});\n",
       "      require([\"vega-embed\"], displayChart, err => showError(`Error loading script: ${err.message}`));\n",
       "    } else if (typeof vegaEmbed === \"function\") {\n",
       "      displayChart(vegaEmbed);\n",
       "    } else {\n",
       "      loadScript(\"vega\")\n",
       "        .then(() => loadScript(\"vega-lite\"))\n",
       "        .then(() => loadScript(\"vega-embed\"))\n",
       "        .catch(showError)\n",
       "        .then(() => displayChart(vegaEmbed));\n",
       "    }\n",
       "  })({\"config\": {\"view\": {\"continuousWidth\": 400, \"continuousHeight\": 300}}, \"vconcat\": [{\"layer\": [{\"data\": {\"name\": \"data-fa8f5cd6c598e9daacd29bc597602853\"}, \"mark\": {\"type\": \"trail\", \"color\": \"lightgrey\"}, \"encoding\": {\"x\": {\"type\": \"nominal\", \"field\": \"name\", \"sort\": {\"field\": \"id\", \"op\": \"count\", \"order\": \"ascending\"}}, \"y\": {\"type\": \"quantitative\", \"field\": \"total_time\"}}}, {\"data\": {\"name\": \"data-fa8f5cd6c598e9daacd29bc597602853\"}, \"mark\": {\"type\": \"circle\", \"color\": \"red\"}, \"encoding\": {\"x\": {\"type\": \"nominal\", \"field\": \"name\", \"sort\": {\"field\": \"id\", \"op\": \"count\", \"order\": \"ascending\"}}, \"y\": {\"type\": \"quantitative\", \"field\": \"total_time\"}}, \"title\": \"proceso de vacunaci\\u00f3n Ecuador - Recinto UPS\"}]}, {\"data\": {\"name\": \"data-fa8f5cd6c598e9daacd29bc597602853\"}, \"mark\": \"bar\", \"encoding\": {\"color\": {\"condition\": {\"value\": \"red\", \"test\": \"(datum.total_time === 40)\"}, \"value\": \"lightgrey\"}, \"x\": {\"type\": \"nominal\", \"field\": \"name\", \"sort\": {\"field\": \"id\", \"op\": \"count\", \"order\": \"ascending\"}}, \"y\": {\"type\": \"quantitative\", \"field\": \"total_time\"}}, \"title\": \"tiempo de cada persona en vacunarse - Recinto UPS\"}], \"$schema\": \"https://vega.github.io/schema/vega-lite/v4.8.1.json\", \"datasets\": {\"data-fa8f5cd6c598e9daacd29bc597602853\": [{\"id\": 0, \"name\": \"persona_0\", \"exam\": 20, \"data\": 4, \"vaccine\": 5, \"certificate\": 1, \"exit\": 5, \"wait\": 0, \"result\": 1, \"total_time\": 35}, {\"id\": 1, \"name\": \"persona_1\", \"exam\": 20, \"data\": 3, \"vaccine\": 7, \"certificate\": 1, \"exit\": 5, \"wait\": 0, \"result\": 1, \"total_time\": 36}, {\"id\": 2, \"name\": \"persona_2\", \"exam\": 20, \"data\": 4, \"vaccine\": 9, \"certificate\": 2, \"exit\": 5, \"wait\": 0, \"result\": 1, \"total_time\": 40}, {\"id\": 3, \"name\": \"persona_3\", \"exam\": 20, \"data\": 3, \"vaccine\": 5, \"certificate\": 1, \"exit\": 2, \"wait\": 0, \"result\": 1, \"total_time\": 31}, {\"id\": 4, \"name\": \"persona_4\", \"exam\": 20, \"data\": 2, \"vaccine\": 10, \"certificate\": 2, \"exit\": 4, \"wait\": 0, \"result\": 1, \"total_time\": 38}, {\"id\": 5, \"name\": \"persona_5\", \"exam\": 20, \"data\": 3, \"vaccine\": 7, \"certificate\": 1, \"exit\": 1, \"wait\": 20, \"result\": 1, \"total_time\": 32}, {\"id\": 6, \"name\": \"persona_6\", \"exam\": 20, \"data\": 2, \"vaccine\": 6, \"certificate\": 2, \"exit\": 4, \"wait\": 20, \"result\": 1, \"total_time\": 34}, {\"id\": 7, \"name\": \"persona_7\", \"exam\": 20, \"data\": 3, \"vaccine\": 9, \"certificate\": 2, \"exit\": 2, \"wait\": 17, \"result\": 1, \"total_time\": 36}, {\"id\": 8, \"name\": \"persona_8\", \"exam\": 20, \"data\": 2, \"vaccine\": 5, \"certificate\": 3, \"exit\": 3, \"wait\": 13, \"result\": 1, \"total_time\": 33}, {\"id\": 9, \"name\": \"persona_9\", \"exam\": 20, \"data\": 2, \"vaccine\": 7, \"certificate\": 3, \"exit\": 3, \"wait\": 9, \"result\": 1, \"total_time\": 35}, {\"id\": 15, \"name\": \"persona_15\", \"exam\": 20, \"data\": 4, \"vaccine\": 5, \"certificate\": 2, \"exit\": 1, \"wait\": 24, \"result\": 1, \"total_time\": 32}, {\"id\": 16, \"name\": \"persona_16\", \"exam\": 20, \"data\": 4, \"vaccine\": 8, \"certificate\": 2, \"exit\": 1, \"wait\": 20, \"result\": 1, \"total_time\": 35}, {\"id\": 17, \"name\": \"persona_17\", \"exam\": 20, \"data\": 4, \"vaccine\": 5, \"certificate\": 3, \"exit\": 1, \"wait\": 17, \"result\": 1, \"total_time\": 33}, {\"id\": 18, \"name\": \"persona_18\", \"exam\": 20, \"data\": 2, \"vaccine\": 7, \"certificate\": 2, \"exit\": 1, \"wait\": 12, \"result\": 1, \"total_time\": 32}, {\"id\": 19, \"name\": \"persona_19\", \"exam\": 20, \"data\": 3, \"vaccine\": 6, \"certificate\": 1, \"exit\": 5, \"wait\": 8, \"result\": 1, \"total_time\": 35}, {\"id\": 30, \"name\": \"persona_30\", \"exam\": 20, \"data\": 2, \"vaccine\": 9, \"certificate\": 1, \"exit\": 1, \"wait\": 25, \"result\": 1, \"total_time\": 33}, {\"id\": 31, \"name\": \"persona_31\", \"exam\": 20, \"data\": 2, \"vaccine\": 10, \"certificate\": 3, \"exit\": 4, \"wait\": 20, \"result\": 1, \"total_time\": 39}, {\"id\": 32, \"name\": \"persona_32\", \"exam\": 20, \"data\": 2, \"vaccine\": 10, \"certificate\": 2, \"exit\": 2, \"wait\": 17, \"result\": 1, \"total_time\": 36}, {\"id\": 33, \"name\": \"persona_33\", \"exam\": 20, \"data\": 3, \"vaccine\": 10, \"certificate\": 1, \"exit\": 1, \"wait\": 14, \"result\": 1, \"total_time\": 35}, {\"id\": 34, \"name\": \"persona_34\", \"exam\": 20, \"data\": 2, \"vaccine\": 7, \"certificate\": 2, \"exit\": 3, \"wait\": 11, \"result\": 1, \"total_time\": 34}, {\"id\": 35, \"name\": \"persona_35\", \"exam\": 20, \"data\": 3, \"vaccine\": 6, \"certificate\": 2, \"exit\": 5, \"wait\": 27, \"result\": 1, \"total_time\": 36}, {\"id\": 36, \"name\": \"persona_36\", \"exam\": 20, \"data\": 2, \"vaccine\": 10, \"certificate\": 2, \"exit\": 4, \"wait\": 22, \"result\": 1, \"total_time\": 38}, {\"id\": 37, \"name\": \"persona_37\", \"exam\": 20, \"data\": 3, \"vaccine\": 5, \"certificate\": 1, \"exit\": 5, \"wait\": 19, \"result\": 1, \"total_time\": 34}, {\"id\": 38, \"name\": \"persona_38\", \"exam\": 20, \"data\": 3, \"vaccine\": 8, \"certificate\": 1, \"exit\": 2, \"wait\": 15, \"result\": 1, \"total_time\": 34}, {\"id\": 39, \"name\": \"persona_39\", \"exam\": 20, \"data\": 4, \"vaccine\": 7, \"certificate\": 2, \"exit\": 5, \"wait\": 11, \"result\": 1, \"total_time\": 38}, {\"id\": 40, \"name\": \"persona_40\", \"exam\": 20, \"data\": 2, \"vaccine\": 7, \"certificate\": 2, \"exit\": 3, \"wait\": 26, \"result\": 1, \"total_time\": 34}, {\"id\": 41, \"name\": \"persona_41\", \"exam\": 20, \"data\": 3, \"vaccine\": 8, \"certificate\": 3, \"exit\": 1, \"wait\": 21, \"result\": 1, \"total_time\": 35}, {\"id\": 42, \"name\": \"persona_42\", \"exam\": 20, \"data\": 3, \"vaccine\": 5, \"certificate\": 3, \"exit\": 5, \"wait\": 18, \"result\": 1, \"total_time\": 36}, {\"id\": 43, \"name\": \"persona_43\", \"exam\": 20, \"data\": 3, \"vaccine\": 9, \"certificate\": 1, \"exit\": 2, \"wait\": 13, \"result\": 1, \"total_time\": 35}, {\"id\": 44, \"name\": \"persona_44\", \"exam\": 20, \"data\": 3, \"vaccine\": 8, \"certificate\": 2, \"exit\": 1, \"wait\": 9, \"result\": 1, \"total_time\": 34}, {\"id\": 45, \"name\": \"persona_45\", \"exam\": 20, \"data\": 3, \"vaccine\": 8, \"certificate\": 1, \"exit\": 3, \"wait\": 24, \"result\": 1, \"total_time\": 35}, {\"id\": 46, \"name\": \"persona_46\", \"exam\": 20, \"data\": 4, \"vaccine\": 10, \"certificate\": 2, \"exit\": 3, \"wait\": 20, \"result\": 1, \"total_time\": 39}, {\"id\": 47, \"name\": \"persona_47\", \"exam\": 20, \"data\": 4, \"vaccine\": 9, \"certificate\": 2, \"exit\": 4, \"wait\": 16, \"result\": 1, \"total_time\": 39}, {\"id\": 48, \"name\": \"persona_48\", \"exam\": 20, \"data\": 2, \"vaccine\": 5, \"certificate\": 3, \"exit\": 3, \"wait\": 13, \"result\": 1, \"total_time\": 33}, {\"id\": 49, \"name\": \"persona_49\", \"exam\": 20, \"data\": 2, \"vaccine\": 9, \"certificate\": 1, \"exit\": 1, \"wait\": 10, \"result\": 1, \"total_time\": 33}, {\"id\": 50, \"name\": \"persona_50\", \"exam\": 20, \"data\": 3, \"vaccine\": 10, \"certificate\": 1, \"exit\": 3, \"wait\": 26, \"result\": 1, \"total_time\": 37}, {\"id\": 51, \"name\": \"persona_51\", \"exam\": 20, \"data\": 2, \"vaccine\": 6, \"certificate\": 3, \"exit\": 5, \"wait\": 23, \"result\": 1, \"total_time\": 36}, {\"id\": 52, \"name\": \"persona_52\", \"exam\": 20, \"data\": 3, \"vaccine\": 7, \"certificate\": 2, \"exit\": 5, \"wait\": 20, \"result\": 1, \"total_time\": 37}, {\"id\": 53, \"name\": \"persona_53\", \"exam\": 20, \"data\": 4, \"vaccine\": 10, \"certificate\": 3, \"exit\": 1, \"wait\": 15, \"result\": 1, \"total_time\": 38}, {\"id\": 54, \"name\": \"persona_54\", \"exam\": 20, \"data\": 2, \"vaccine\": 8, \"certificate\": 2, \"exit\": 5, \"wait\": 12, \"result\": 1, \"total_time\": 37}, {\"id\": 55, \"name\": \"persona_55\", \"exam\": 20, \"data\": 2, \"vaccine\": 7, \"certificate\": 3, \"exit\": 2, \"wait\": 27, \"result\": 1, \"total_time\": 34}, {\"id\": 56, \"name\": \"persona_56\", \"exam\": 20, \"data\": 2, \"vaccine\": 9, \"certificate\": 2, \"exit\": 3, \"wait\": 24, \"result\": 1, \"total_time\": 36}, {\"id\": 57, \"name\": \"persona_57\", \"exam\": 20, \"data\": 3, \"vaccine\": 5, \"certificate\": 2, \"exit\": 1, \"wait\": 20, \"result\": 1, \"total_time\": 31}, {\"id\": 58, \"name\": \"persona_58\", \"exam\": 20, \"data\": 3, \"vaccine\": 9, \"certificate\": 3, \"exit\": 4, \"wait\": 15, \"result\": 1, \"total_time\": 39}, {\"id\": 59, \"name\": \"persona_59\", \"exam\": 20, \"data\": 2, \"vaccine\": 6, \"certificate\": 1, \"exit\": 4, \"wait\": 10, \"result\": 1, \"total_time\": 33}, {\"id\": 60, \"name\": \"persona_60\", \"exam\": 20, \"data\": 3, \"vaccine\": 5, \"certificate\": 3, \"exit\": 3, \"wait\": 25, \"result\": 1, \"total_time\": 34}, {\"id\": 61, \"name\": \"persona_61\", \"exam\": 20, \"data\": 3, \"vaccine\": 10, \"certificate\": 2, \"exit\": 1, \"wait\": 20, \"result\": 1, \"total_time\": 36}, {\"id\": 62, \"name\": \"persona_62\", \"exam\": 20, \"data\": 3, \"vaccine\": 10, \"certificate\": 1, \"exit\": 5, \"wait\": 17, \"result\": 1, \"total_time\": 39}, {\"id\": 63, \"name\": \"persona_63\", \"exam\": 20, \"data\": 2, \"vaccine\": 7, \"certificate\": 2, \"exit\": 5, \"wait\": 14, \"result\": 1, \"total_time\": 36}, {\"id\": 64, \"name\": \"persona_64\", \"exam\": 20, \"data\": 4, \"vaccine\": 9, \"certificate\": 3, \"exit\": 4, \"wait\": 10, \"result\": 1, \"total_time\": 40}, {\"id\": 65, \"name\": \"persona_65\", \"exam\": 20, \"data\": 2, \"vaccine\": 6, \"certificate\": 2, \"exit\": 5, \"wait\": 27, \"result\": 1, \"total_time\": 35}, {\"id\": 66, \"name\": \"persona_66\", \"exam\": 20, \"data\": 2, \"vaccine\": 10, \"certificate\": 1, \"exit\": 3, \"wait\": 23, \"result\": 1, \"total_time\": 36}, {\"id\": 67, \"name\": \"persona_67\", \"exam\": 20, \"data\": 3, \"vaccine\": 9, \"certificate\": 3, \"exit\": 2, \"wait\": 18, \"result\": 1, \"total_time\": 37}, {\"id\": 68, \"name\": \"persona_68\", \"exam\": 20, \"data\": 2, \"vaccine\": 8, \"certificate\": 2, \"exit\": 3, \"wait\": 14, \"result\": 1, \"total_time\": 35}, {\"id\": 69, \"name\": \"persona_69\", \"exam\": 20, \"data\": 2, \"vaccine\": 9, \"certificate\": 3, \"exit\": 1, \"wait\": 10, \"result\": 1, \"total_time\": 35}, {\"id\": 70, \"name\": \"persona_70\", \"exam\": 20, \"data\": 3, \"vaccine\": 7, \"certificate\": 2, \"exit\": 3, \"wait\": 27, \"result\": 1, \"total_time\": 35}, {\"id\": 71, \"name\": \"persona_71\", \"exam\": 20, \"data\": 3, \"vaccine\": 5, \"certificate\": 2, \"exit\": 4, \"wait\": 23, \"result\": 1, \"total_time\": 34}, {\"id\": 72, \"name\": \"persona_72\", \"exam\": 20, \"data\": 4, \"vaccine\": 8, \"certificate\": 1, \"exit\": 1, \"wait\": 18, \"result\": 1, \"total_time\": 34}, {\"id\": 73, \"name\": \"persona_73\", \"exam\": 20, \"data\": 2, \"vaccine\": 10, \"certificate\": 2, \"exit\": 4, \"wait\": 15, \"result\": 1, \"total_time\": 38}, {\"id\": 74, \"name\": \"persona_74\", \"exam\": 20, \"data\": 3, \"vaccine\": 6, \"certificate\": 3, \"exit\": 2, \"wait\": 10, \"result\": 1, \"total_time\": 34}, {\"id\": 75, \"name\": \"persona_75\", \"exam\": 20, \"data\": 3, \"vaccine\": 9, \"certificate\": 1, \"exit\": 5, \"wait\": 27, \"result\": 1, \"total_time\": 38}, {\"id\": 76, \"name\": \"persona_76\", \"exam\": 20, \"data\": 3, \"vaccine\": 6, \"certificate\": 2, \"exit\": 5, \"wait\": 24, \"result\": 1, \"total_time\": 36}, {\"id\": 77, \"name\": \"persona_77\", \"exam\": 20, \"data\": 4, \"vaccine\": 6, \"certificate\": 2, \"exit\": 2, \"wait\": 19, \"result\": 1, \"total_time\": 34}, {\"id\": 78, \"name\": \"persona_78\", \"exam\": 20, \"data\": 2, \"vaccine\": 5, \"certificate\": 2, \"exit\": 4, \"wait\": 15, \"result\": 1, \"total_time\": 33}, {\"id\": 79, \"name\": \"persona_79\", \"exam\": 20, \"data\": 3, \"vaccine\": 9, \"certificate\": 3, \"exit\": 1, \"wait\": 11, \"result\": 1, \"total_time\": 36}, {\"id\": 80, \"name\": \"persona_80\", \"exam\": 20, \"data\": 3, \"vaccine\": 8, \"certificate\": 3, \"exit\": 2, \"wait\": 27, \"result\": 1, \"total_time\": 36}, {\"id\": 81, \"name\": \"persona_81\", \"exam\": 20, \"data\": 4, \"vaccine\": 9, \"certificate\": 2, \"exit\": 2, \"wait\": 22, \"result\": 1, \"total_time\": 37}, {\"id\": 82, \"name\": \"persona_82\", \"exam\": 20, \"data\": 4, \"vaccine\": 8, \"certificate\": 1, \"exit\": 3, \"wait\": 19, \"result\": 1, \"total_time\": 36}, {\"id\": 83, \"name\": \"persona_83\", \"exam\": 20, \"data\": 4, \"vaccine\": 9, \"certificate\": 3, \"exit\": 3, \"wait\": 14, \"result\": 1, \"total_time\": 39}, {\"id\": 84, \"name\": \"persona_84\", \"exam\": 20, \"data\": 3, \"vaccine\": 8, \"certificate\": 3, \"exit\": 5, \"wait\": 10, \"result\": 1, \"total_time\": 39}, {\"id\": 95, \"name\": \"persona_95\", \"exam\": 20, \"data\": 4, \"vaccine\": 5, \"certificate\": 2, \"exit\": 5, \"wait\": 27, \"result\": 1, \"total_time\": 36}, {\"id\": 96, \"name\": \"persona_96\", \"exam\": 20, \"data\": 4, \"vaccine\": 9, \"certificate\": 3, \"exit\": 2, \"wait\": 22, \"result\": 1, \"total_time\": 38}, {\"id\": 97, \"name\": \"persona_97\", \"exam\": 20, \"data\": 3, \"vaccine\": 6, \"certificate\": 2, \"exit\": 1, \"wait\": 17, \"result\": 1, \"total_time\": 32}, {\"id\": 98, \"name\": \"persona_98\", \"exam\": 20, \"data\": 2, \"vaccine\": 6, \"certificate\": 3, \"exit\": 1, \"wait\": 12, \"result\": 1, \"total_time\": 32}, {\"id\": 99, \"name\": \"persona_99\", \"exam\": 20, \"data\": 4, \"vaccine\": 8, \"certificate\": 2, \"exit\": 3, \"wait\": 7, \"result\": 1, \"total_time\": 37}, {\"id\": 100, \"name\": \"persona_100\", \"exam\": 20, \"data\": 3, \"vaccine\": 7, \"certificate\": 1, \"exit\": 1, \"wait\": 22, \"result\": 1, \"total_time\": 32}, {\"id\": 101, \"name\": \"persona_101\", \"exam\": 20, \"data\": 2, \"vaccine\": 9, \"certificate\": 3, \"exit\": 2, \"wait\": 17, \"result\": 1, \"total_time\": 36}, {\"id\": 102, \"name\": \"persona_102\", \"exam\": 20, \"data\": 2, \"vaccine\": 5, \"certificate\": 3, \"exit\": 3, \"wait\": 14, \"result\": 1, \"total_time\": 33}, {\"id\": 103, \"name\": \"persona_103\", \"exam\": 20, \"data\": 4, \"vaccine\": 5, \"certificate\": 2, \"exit\": 2, \"wait\": 11, \"result\": 1, \"total_time\": 33}, {\"id\": 104, \"name\": \"persona_104\", \"exam\": 20, \"data\": 3, \"vaccine\": 5, \"certificate\": 1, \"exit\": 3, \"wait\": 6, \"result\": 1, \"total_time\": 32}, {\"id\": 105, \"name\": \"persona_105\", \"exam\": 20, \"data\": 3, \"vaccine\": 6, \"certificate\": 2, \"exit\": 5, \"wait\": 23, \"result\": 1, \"total_time\": 36}, {\"id\": 106, \"name\": \"persona_106\", \"exam\": 20, \"data\": 3, \"vaccine\": 6, \"certificate\": 3, \"exit\": 5, \"wait\": 20, \"result\": 1, \"total_time\": 37}, {\"id\": 107, \"name\": \"persona_107\", \"exam\": 20, \"data\": 4, \"vaccine\": 9, \"certificate\": 2, \"exit\": 3, \"wait\": 15, \"result\": 1, \"total_time\": 38}, {\"id\": 108, \"name\": \"persona_108\", \"exam\": 20, \"data\": 3, \"vaccine\": 7, \"certificate\": 1, \"exit\": 4, \"wait\": 11, \"result\": 1, \"total_time\": 35}, {\"id\": 109, \"name\": \"persona_109\", \"exam\": 20, \"data\": 4, \"vaccine\": 10, \"certificate\": 1, \"exit\": 1, \"wait\": 7, \"result\": 1, \"total_time\": 36}, {\"id\": 110, \"name\": \"persona_110\", \"exam\": 20, \"data\": 2, \"vaccine\": 8, \"certificate\": 1, \"exit\": 1, \"wait\": 22, \"result\": 1, \"total_time\": 32}, {\"id\": 111, \"name\": \"persona_111\", \"exam\": 20, \"data\": 2, \"vaccine\": 10, \"certificate\": 2, \"exit\": 3, \"wait\": 19, \"result\": 1, \"total_time\": 37}, {\"id\": 112, \"name\": \"persona_112\", \"exam\": 20, \"data\": 3, \"vaccine\": 7, \"certificate\": 1, \"exit\": 4, \"wait\": 15, \"result\": 1, \"total_time\": 35}, {\"id\": 113, \"name\": \"persona_113\", \"exam\": 20, \"data\": 2, \"vaccine\": 5, \"certificate\": 2, \"exit\": 2, \"wait\": 12, \"result\": 1, \"total_time\": 31}, {\"id\": 114, \"name\": \"persona_114\", \"exam\": 20, \"data\": 4, \"vaccine\": 7, \"certificate\": 2, \"exit\": 4, \"wait\": 8, \"result\": 1, \"total_time\": 37}, {\"id\": 115, \"name\": \"persona_115\", \"exam\": 20, \"data\": 2, \"vaccine\": 6, \"certificate\": 2, \"exit\": 2, \"wait\": 23, \"result\": 1, \"total_time\": 32}, {\"id\": 116, \"name\": \"persona_116\", \"exam\": 20, \"data\": 4, \"vaccine\": 5, \"certificate\": 1, \"exit\": 1, \"wait\": 18, \"result\": 1, \"total_time\": 31}, {\"id\": 117, \"name\": \"persona_117\", \"exam\": 20, \"data\": 3, \"vaccine\": 10, \"certificate\": 1, \"exit\": 1, \"wait\": 14, \"result\": 1, \"total_time\": 35}, {\"id\": 118, \"name\": \"persona_118\", \"exam\": 20, \"data\": 3, \"vaccine\": 6, \"certificate\": 3, \"exit\": 2, \"wait\": 11, \"result\": 1, \"total_time\": 34}, {\"id\": 119, \"name\": \"persona_119\", \"exam\": 20, \"data\": 4, \"vaccine\": 9, \"certificate\": 1, \"exit\": 1, \"wait\": 7, \"result\": 1, \"total_time\": 35}, {\"id\": 120, \"name\": \"persona_120\", \"exam\": 20, \"data\": 4, \"vaccine\": 7, \"certificate\": 2, \"exit\": 5, \"wait\": 23, \"result\": 1, \"total_time\": 38}, {\"id\": 121, \"name\": \"persona_121\", \"exam\": 20, \"data\": 4, \"vaccine\": 10, \"certificate\": 1, \"exit\": 1, \"wait\": 18, \"result\": 1, \"total_time\": 36}, {\"id\": 122, \"name\": \"persona_122\", \"exam\": 20, \"data\": 2, \"vaccine\": 10, \"certificate\": 3, \"exit\": 2, \"wait\": 14, \"result\": 1, \"total_time\": 37}, {\"id\": 123, \"name\": \"persona_123\", \"exam\": 20, \"data\": 2, \"vaccine\": 8, \"certificate\": 1, \"exit\": 2, \"wait\": 10, \"result\": 1, \"total_time\": 33}, {\"id\": 124, \"name\": \"persona_124\", \"exam\": 20, \"data\": 3, \"vaccine\": 6, \"certificate\": 3, \"exit\": 5, \"wait\": 7, \"result\": 1, \"total_time\": 37}]}}, {\"mode\": \"vega-lite\"});\n",
       "</script>"
      ],
      "text/plain": [
       "alt.VConcatChart(...)"
      ]
     },
     "execution_count": 29,
     "metadata": {},
     "output_type": "execute_result"
    }
   ],
   "source": [
    "(alt.Chart(df_data_simulation[df_data_simulation['result']==1]).mark_trail(color='lightgrey').encode(\n",
    "    x=alt.X('name',sort=alt.EncodingSortField(field=\"id\", op=\"count\", order='ascending')),\n",
    "    y='total_time'\n",
    ")+alt.Chart(df_data_simulation[df_data_simulation['result']==1]).mark_circle(color='red').encode(\n",
    "    x=alt.X('name',sort=alt.EncodingSortField(field=\"id\", op=\"count\", order='ascending')),\n",
    "    y='total_time'\n",
    ").properties(title='proceso de vacunación Ecuador - Recinto UPS'\n",
    "))&alt.Chart(df_data_simulation[df_data_simulation['result']==1]).mark_bar().encode(\n",
    "    x=alt.X('name',sort=alt.EncodingSortField(field=\"id\", op=\"count\", order='ascending')),\n",
    "    y='total_time',\n",
    "    color=alt.condition(\n",
    "            alt.datum.total_time == max(df_data_simulation[df_data_simulation['result']==1]['total_time']),\n",
    "            alt.value('red'),    \n",
    "            alt.value('lightgrey')\n",
    "            )\n",
    ").properties(title='tiempo de cada persona en vacunarse - Recinto UPS')"
   ]
  },
  {
   "cell_type": "markdown",
   "id": "0302243e",
   "metadata": {},
   "source": [
    "### Total de personas que no se vacunaron"
   ]
  },
  {
   "cell_type": "code",
   "execution_count": 30,
   "id": "915f1c21",
   "metadata": {
    "hide_input": true
   },
   "outputs": [
    {
     "name": "stdout",
     "output_type": "stream",
     "text": [
      "No se han vacunado a un total de 25 personas\n"
     ]
    }
   ],
   "source": [
    "print('No se han vacunado a un total de {} personas'.format(len(df_data_simulation[df_data_simulation['result']==0])))"
   ]
  },
  {
   "cell_type": "code",
   "execution_count": 31,
   "id": "c8b33c37",
   "metadata": {
    "hide_input": true
   },
   "outputs": [
    {
     "data": {
      "text/html": [
       "\n",
       "<div id=\"altair-viz-bdef9501bae74a6e938acb17c74a62c7\"></div>\n",
       "<script type=\"text/javascript\">\n",
       "  (function(spec, embedOpt){\n",
       "    let outputDiv = document.currentScript.previousElementSibling;\n",
       "    if (outputDiv.id !== \"altair-viz-bdef9501bae74a6e938acb17c74a62c7\") {\n",
       "      outputDiv = document.getElementById(\"altair-viz-bdef9501bae74a6e938acb17c74a62c7\");\n",
       "    }\n",
       "    const paths = {\n",
       "      \"vega\": \"https://cdn.jsdelivr.net/npm//vega@5?noext\",\n",
       "      \"vega-lib\": \"https://cdn.jsdelivr.net/npm//vega-lib?noext\",\n",
       "      \"vega-lite\": \"https://cdn.jsdelivr.net/npm//vega-lite@4.8.1?noext\",\n",
       "      \"vega-embed\": \"https://cdn.jsdelivr.net/npm//vega-embed@6?noext\",\n",
       "    };\n",
       "\n",
       "    function loadScript(lib) {\n",
       "      return new Promise(function(resolve, reject) {\n",
       "        var s = document.createElement('script');\n",
       "        s.src = paths[lib];\n",
       "        s.async = true;\n",
       "        s.onload = () => resolve(paths[lib]);\n",
       "        s.onerror = () => reject(`Error loading script: ${paths[lib]}`);\n",
       "        document.getElementsByTagName(\"head\")[0].appendChild(s);\n",
       "      });\n",
       "    }\n",
       "\n",
       "    function showError(err) {\n",
       "      outputDiv.innerHTML = `<div class=\"error\" style=\"color:red;\">${err}</div>`;\n",
       "      throw err;\n",
       "    }\n",
       "\n",
       "    function displayChart(vegaEmbed) {\n",
       "      vegaEmbed(outputDiv, spec, embedOpt)\n",
       "        .catch(err => showError(`Javascript Error: ${err.message}<br>This usually means there's a typo in your chart specification. See the javascript console for the full traceback.`));\n",
       "    }\n",
       "\n",
       "    if(typeof define === \"function\" && define.amd) {\n",
       "      requirejs.config({paths});\n",
       "      require([\"vega-embed\"], displayChart, err => showError(`Error loading script: ${err.message}`));\n",
       "    } else if (typeof vegaEmbed === \"function\") {\n",
       "      displayChart(vegaEmbed);\n",
       "    } else {\n",
       "      loadScript(\"vega\")\n",
       "        .then(() => loadScript(\"vega-lite\"))\n",
       "        .then(() => loadScript(\"vega-embed\"))\n",
       "        .catch(showError)\n",
       "        .then(() => displayChart(vegaEmbed));\n",
       "    }\n",
       "  })({\"config\": {\"view\": {\"continuousWidth\": 400, \"continuousHeight\": 300}}, \"vconcat\": [{\"layer\": [{\"data\": {\"name\": \"data-82a062a246851483e218c7ba9a13e9a4\"}, \"mark\": {\"type\": \"trail\", \"color\": \"lightgrey\"}, \"encoding\": {\"x\": {\"type\": \"nominal\", \"field\": \"name\", \"sort\": {\"field\": \"id\", \"op\": \"count\", \"order\": \"ascending\"}}, \"y\": {\"type\": \"quantitative\", \"field\": \"total_time\"}}}, {\"data\": {\"name\": \"data-82a062a246851483e218c7ba9a13e9a4\"}, \"mark\": {\"type\": \"circle\", \"color\": \"red\"}, \"encoding\": {\"x\": {\"type\": \"nominal\", \"field\": \"name\", \"sort\": {\"field\": \"id\", \"op\": \"count\", \"order\": \"ascending\"}}, \"y\": {\"type\": \"quantitative\", \"field\": \"total_time\"}}, \"title\": \"proceso de personas no vacunadas en Ecuador - Recinto UPS\"}]}, {\"data\": {\"name\": \"data-82a062a246851483e218c7ba9a13e9a4\"}, \"mark\": \"bar\", \"encoding\": {\"color\": {\"condition\": {\"value\": \"red\", \"test\": \"(datum.total_time === 25)\"}, \"value\": \"lightgrey\"}, \"x\": {\"type\": \"nominal\", \"field\": \"name\", \"sort\": {\"field\": \"id\", \"op\": \"count\", \"order\": \"ascending\"}}, \"y\": {\"type\": \"quantitative\", \"field\": \"total_time\"}}, \"title\": \"tiempo de cada persona no vacunada - Recinto UPS\"}], \"$schema\": \"https://vega.github.io/schema/vega-lite/v4.8.1.json\", \"datasets\": {\"data-82a062a246851483e218c7ba9a13e9a4\": [{\"id\": 10, \"name\": \"persona_10\", \"exam\": 20, \"data\": 0, \"vaccine\": 0, \"certificate\": 0, \"exit\": 5, \"wait\": 26, \"result\": 0, \"total_time\": 25}, {\"id\": 11, \"name\": \"persona_11\", \"exam\": 20, \"data\": 0, \"vaccine\": 0, \"certificate\": 0, \"exit\": 4, \"wait\": 21, \"result\": 0, \"total_time\": 24}, {\"id\": 12, \"name\": \"persona_12\", \"exam\": 20, \"data\": 0, \"vaccine\": 0, \"certificate\": 0, \"exit\": 4, \"wait\": 18, \"result\": 0, \"total_time\": 24}, {\"id\": 13, \"name\": \"persona_13\", \"exam\": 20, \"data\": 0, \"vaccine\": 0, \"certificate\": 0, \"exit\": 1, \"wait\": 13, \"result\": 0, \"total_time\": 21}, {\"id\": 14, \"name\": \"persona_14\", \"exam\": 20, \"data\": 0, \"vaccine\": 0, \"certificate\": 0, \"exit\": 3, \"wait\": 8, \"result\": 0, \"total_time\": 23}, {\"id\": 20, \"name\": \"persona_20\", \"exam\": 20, \"data\": 0, \"vaccine\": 0, \"certificate\": 0, \"exit\": 2, \"wait\": 25, \"result\": 0, \"total_time\": 22}, {\"id\": 21, \"name\": \"persona_21\", \"exam\": 20, \"data\": 0, \"vaccine\": 0, \"certificate\": 0, \"exit\": 2, \"wait\": 22, \"result\": 0, \"total_time\": 22}, {\"id\": 22, \"name\": \"persona_22\", \"exam\": 20, \"data\": 0, \"vaccine\": 0, \"certificate\": 0, \"exit\": 3, \"wait\": 17, \"result\": 0, \"total_time\": 23}, {\"id\": 23, \"name\": \"persona_23\", \"exam\": 20, \"data\": 0, \"vaccine\": 0, \"certificate\": 0, \"exit\": 5, \"wait\": 14, \"result\": 0, \"total_time\": 25}, {\"id\": 24, \"name\": \"persona_24\", \"exam\": 20, \"data\": 0, \"vaccine\": 0, \"certificate\": 0, \"exit\": 5, \"wait\": 9, \"result\": 0, \"total_time\": 25}, {\"id\": 25, \"name\": \"persona_25\", \"exam\": 20, \"data\": 0, \"vaccine\": 0, \"certificate\": 0, \"exit\": 3, \"wait\": 24, \"result\": 0, \"total_time\": 23}, {\"id\": 26, \"name\": \"persona_26\", \"exam\": 20, \"data\": 0, \"vaccine\": 0, \"certificate\": 0, \"exit\": 2, \"wait\": 21, \"result\": 0, \"total_time\": 22}, {\"id\": 27, \"name\": \"persona_27\", \"exam\": 20, \"data\": 0, \"vaccine\": 0, \"certificate\": 0, \"exit\": 2, \"wait\": 16, \"result\": 0, \"total_time\": 22}, {\"id\": 28, \"name\": \"persona_28\", \"exam\": 20, \"data\": 0, \"vaccine\": 0, \"certificate\": 0, \"exit\": 5, \"wait\": 13, \"result\": 0, \"total_time\": 25}, {\"id\": 29, \"name\": \"persona_29\", \"exam\": 20, \"data\": 0, \"vaccine\": 0, \"certificate\": 0, \"exit\": 3, \"wait\": 9, \"result\": 0, \"total_time\": 23}, {\"id\": 85, \"name\": \"persona_85\", \"exam\": 20, \"data\": 0, \"vaccine\": 0, \"certificate\": 0, \"exit\": 3, \"wait\": 26, \"result\": 0, \"total_time\": 23}, {\"id\": 86, \"name\": \"persona_86\", \"exam\": 20, \"data\": 0, \"vaccine\": 0, \"certificate\": 0, \"exit\": 1, \"wait\": 23, \"result\": 0, \"total_time\": 21}, {\"id\": 87, \"name\": \"persona_87\", \"exam\": 20, \"data\": 0, \"vaccine\": 0, \"certificate\": 0, \"exit\": 2, \"wait\": 19, \"result\": 0, \"total_time\": 22}, {\"id\": 88, \"name\": \"persona_88\", \"exam\": 20, \"data\": 0, \"vaccine\": 0, \"certificate\": 0, \"exit\": 2, \"wait\": 15, \"result\": 0, \"total_time\": 22}, {\"id\": 89, \"name\": \"persona_89\", \"exam\": 20, \"data\": 0, \"vaccine\": 0, \"certificate\": 0, \"exit\": 4, \"wait\": 10, \"result\": 0, \"total_time\": 24}, {\"id\": 90, \"name\": \"persona_90\", \"exam\": 20, \"data\": 0, \"vaccine\": 0, \"certificate\": 0, \"exit\": 3, \"wait\": 27, \"result\": 0, \"total_time\": 23}, {\"id\": 91, \"name\": \"persona_91\", \"exam\": 20, \"data\": 0, \"vaccine\": 0, \"certificate\": 0, \"exit\": 2, \"wait\": 22, \"result\": 0, \"total_time\": 22}, {\"id\": 92, \"name\": \"persona_92\", \"exam\": 20, \"data\": 0, \"vaccine\": 0, \"certificate\": 0, \"exit\": 5, \"wait\": 19, \"result\": 0, \"total_time\": 25}, {\"id\": 93, \"name\": \"persona_93\", \"exam\": 20, \"data\": 0, \"vaccine\": 0, \"certificate\": 0, \"exit\": 5, \"wait\": 15, \"result\": 0, \"total_time\": 25}, {\"id\": 94, \"name\": \"persona_94\", \"exam\": 20, \"data\": 0, \"vaccine\": 0, \"certificate\": 0, \"exit\": 5, \"wait\": 11, \"result\": 0, \"total_time\": 25}]}}, {\"mode\": \"vega-lite\"});\n",
       "</script>"
      ],
      "text/plain": [
       "alt.VConcatChart(...)"
      ]
     },
     "execution_count": 31,
     "metadata": {},
     "output_type": "execute_result"
    }
   ],
   "source": [
    "(alt.Chart(df_data_simulation[df_data_simulation['result']==0]).mark_trail(color='lightgrey').encode(\n",
    "    x=alt.X('name',sort=alt.EncodingSortField(field=\"id\", op=\"count\", order='ascending')),\n",
    "    y='total_time'\n",
    ")+alt.Chart(df_data_simulation[df_data_simulation['result']==0]).mark_circle(color='red').encode(\n",
    "    x=alt.X('name',sort=alt.EncodingSortField(field=\"id\", op=\"count\", order='ascending')),\n",
    "    y='total_time'\n",
    ").properties(title='proceso de personas no vacunadas en Ecuador - Recinto UPS'\n",
    "))&alt.Chart(df_data_simulation[df_data_simulation['result']==0]).mark_bar().encode(\n",
    "    x=alt.X('name',sort=alt.EncodingSortField(field=\"id\", op=\"count\", order='ascending')),\n",
    "    y='total_time',\n",
    "    color=alt.condition(\n",
    "            alt.datum.total_time == max(df_data_simulation[df_data_simulation['result']==0]['total_time']),\n",
    "            alt.value('red'),    \n",
    "            alt.value('lightgrey')\n",
    "            )\n",
    ").properties(title='tiempo de cada persona no vacunada - Recinto UPS')"
   ]
  },
  {
   "cell_type": "markdown",
   "id": "3066dac8",
   "metadata": {},
   "source": [
    "### porcentaje de personas vacunadas y no vacunas"
   ]
  },
  {
   "cell_type": "code",
   "execution_count": 32,
   "id": "6717d6cb",
   "metadata": {
    "hide_input": true
   },
   "outputs": [
    {
     "data": {
      "text/html": [
       "<div>\n",
       "<style scoped>\n",
       "    .dataframe tbody tr th:only-of-type {\n",
       "        vertical-align: middle;\n",
       "    }\n",
       "\n",
       "    .dataframe tbody tr th {\n",
       "        vertical-align: top;\n",
       "    }\n",
       "\n",
       "    .dataframe thead th {\n",
       "        text-align: right;\n",
       "    }\n",
       "</style>\n",
       "<table border=\"1\" class=\"dataframe\">\n",
       "  <thead>\n",
       "    <tr style=\"text-align: right;\">\n",
       "      <th></th>\n",
       "      <th>name</th>\n",
       "      <th>percentage</th>\n",
       "    </tr>\n",
       "  </thead>\n",
       "  <tbody>\n",
       "    <tr>\n",
       "      <th>0</th>\n",
       "      <td>vacunados</td>\n",
       "      <td>80.0</td>\n",
       "    </tr>\n",
       "    <tr>\n",
       "      <th>1</th>\n",
       "      <td>no vacunados</td>\n",
       "      <td>20.0</td>\n",
       "    </tr>\n",
       "  </tbody>\n",
       "</table>\n",
       "</div>"
      ],
      "text/plain": [
       "           name  percentage\n",
       "0     vacunados        80.0\n",
       "1  no vacunados        20.0"
      ]
     },
     "execution_count": 32,
     "metadata": {},
     "output_type": "execute_result"
    }
   ],
   "source": [
    "list_percentage=[('vacunados',len(df_data_simulation[df_data_simulation['result']==1])/len(df_data_simulation)*100),\n",
    "('no vacunados',len(df_data_simulation[df_data_simulation['result']==0])/len(df_data_simulation)*100)]\n",
    "df_percentage = pd.DataFrame(list_percentage,columns=['name','percentage'])\n",
    "df_percentage"
   ]
  },
  {
   "cell_type": "code",
   "execution_count": 37,
   "id": "96ac1033",
   "metadata": {
    "hide_input": false
   },
   "outputs": [
    {
     "data": {
      "application/vnd.plotly.v1+json": {
       "config": {
        "plotlyServerURL": "https://plot.ly"
       },
       "data": [
        {
         "domain": {
          "x": [
           0,
           1
          ],
          "y": [
           0,
           1
          ]
         },
         "hovertemplate": "name=%{label}<br>percentage=%{value}<extra></extra>",
         "labels": [
          "vacunados",
          "no vacunados"
         ],
         "legendgroup": "",
         "name": "",
         "showlegend": true,
         "type": "pie",
         "values": [
          80,
          20
         ]
        }
       ],
       "layout": {
        "height": 500,
        "legend": {
         "tracegroupgap": 0
        },
        "margin": {
         "t": 60
        },
        "piecolorway": [
         "red",
         "lightgrey"
        ],
        "template": {
         "data": {
          "bar": [
           {
            "error_x": {
             "color": "#2a3f5f"
            },
            "error_y": {
             "color": "#2a3f5f"
            },
            "marker": {
             "line": {
              "color": "#E5ECF6",
              "width": 0.5
             }
            },
            "type": "bar"
           }
          ],
          "barpolar": [
           {
            "marker": {
             "line": {
              "color": "#E5ECF6",
              "width": 0.5
             }
            },
            "type": "barpolar"
           }
          ],
          "carpet": [
           {
            "aaxis": {
             "endlinecolor": "#2a3f5f",
             "gridcolor": "white",
             "linecolor": "white",
             "minorgridcolor": "white",
             "startlinecolor": "#2a3f5f"
            },
            "baxis": {
             "endlinecolor": "#2a3f5f",
             "gridcolor": "white",
             "linecolor": "white",
             "minorgridcolor": "white",
             "startlinecolor": "#2a3f5f"
            },
            "type": "carpet"
           }
          ],
          "choropleth": [
           {
            "colorbar": {
             "outlinewidth": 0,
             "ticks": ""
            },
            "type": "choropleth"
           }
          ],
          "contour": [
           {
            "colorbar": {
             "outlinewidth": 0,
             "ticks": ""
            },
            "colorscale": [
             [
              0,
              "#0d0887"
             ],
             [
              0.1111111111111111,
              "#46039f"
             ],
             [
              0.2222222222222222,
              "#7201a8"
             ],
             [
              0.3333333333333333,
              "#9c179e"
             ],
             [
              0.4444444444444444,
              "#bd3786"
             ],
             [
              0.5555555555555556,
              "#d8576b"
             ],
             [
              0.6666666666666666,
              "#ed7953"
             ],
             [
              0.7777777777777778,
              "#fb9f3a"
             ],
             [
              0.8888888888888888,
              "#fdca26"
             ],
             [
              1,
              "#f0f921"
             ]
            ],
            "type": "contour"
           }
          ],
          "contourcarpet": [
           {
            "colorbar": {
             "outlinewidth": 0,
             "ticks": ""
            },
            "type": "contourcarpet"
           }
          ],
          "heatmap": [
           {
            "colorbar": {
             "outlinewidth": 0,
             "ticks": ""
            },
            "colorscale": [
             [
              0,
              "#0d0887"
             ],
             [
              0.1111111111111111,
              "#46039f"
             ],
             [
              0.2222222222222222,
              "#7201a8"
             ],
             [
              0.3333333333333333,
              "#9c179e"
             ],
             [
              0.4444444444444444,
              "#bd3786"
             ],
             [
              0.5555555555555556,
              "#d8576b"
             ],
             [
              0.6666666666666666,
              "#ed7953"
             ],
             [
              0.7777777777777778,
              "#fb9f3a"
             ],
             [
              0.8888888888888888,
              "#fdca26"
             ],
             [
              1,
              "#f0f921"
             ]
            ],
            "type": "heatmap"
           }
          ],
          "heatmapgl": [
           {
            "colorbar": {
             "outlinewidth": 0,
             "ticks": ""
            },
            "colorscale": [
             [
              0,
              "#0d0887"
             ],
             [
              0.1111111111111111,
              "#46039f"
             ],
             [
              0.2222222222222222,
              "#7201a8"
             ],
             [
              0.3333333333333333,
              "#9c179e"
             ],
             [
              0.4444444444444444,
              "#bd3786"
             ],
             [
              0.5555555555555556,
              "#d8576b"
             ],
             [
              0.6666666666666666,
              "#ed7953"
             ],
             [
              0.7777777777777778,
              "#fb9f3a"
             ],
             [
              0.8888888888888888,
              "#fdca26"
             ],
             [
              1,
              "#f0f921"
             ]
            ],
            "type": "heatmapgl"
           }
          ],
          "histogram": [
           {
            "marker": {
             "colorbar": {
              "outlinewidth": 0,
              "ticks": ""
             }
            },
            "type": "histogram"
           }
          ],
          "histogram2d": [
           {
            "colorbar": {
             "outlinewidth": 0,
             "ticks": ""
            },
            "colorscale": [
             [
              0,
              "#0d0887"
             ],
             [
              0.1111111111111111,
              "#46039f"
             ],
             [
              0.2222222222222222,
              "#7201a8"
             ],
             [
              0.3333333333333333,
              "#9c179e"
             ],
             [
              0.4444444444444444,
              "#bd3786"
             ],
             [
              0.5555555555555556,
              "#d8576b"
             ],
             [
              0.6666666666666666,
              "#ed7953"
             ],
             [
              0.7777777777777778,
              "#fb9f3a"
             ],
             [
              0.8888888888888888,
              "#fdca26"
             ],
             [
              1,
              "#f0f921"
             ]
            ],
            "type": "histogram2d"
           }
          ],
          "histogram2dcontour": [
           {
            "colorbar": {
             "outlinewidth": 0,
             "ticks": ""
            },
            "colorscale": [
             [
              0,
              "#0d0887"
             ],
             [
              0.1111111111111111,
              "#46039f"
             ],
             [
              0.2222222222222222,
              "#7201a8"
             ],
             [
              0.3333333333333333,
              "#9c179e"
             ],
             [
              0.4444444444444444,
              "#bd3786"
             ],
             [
              0.5555555555555556,
              "#d8576b"
             ],
             [
              0.6666666666666666,
              "#ed7953"
             ],
             [
              0.7777777777777778,
              "#fb9f3a"
             ],
             [
              0.8888888888888888,
              "#fdca26"
             ],
             [
              1,
              "#f0f921"
             ]
            ],
            "type": "histogram2dcontour"
           }
          ],
          "mesh3d": [
           {
            "colorbar": {
             "outlinewidth": 0,
             "ticks": ""
            },
            "type": "mesh3d"
           }
          ],
          "parcoords": [
           {
            "line": {
             "colorbar": {
              "outlinewidth": 0,
              "ticks": ""
             }
            },
            "type": "parcoords"
           }
          ],
          "pie": [
           {
            "automargin": true,
            "type": "pie"
           }
          ],
          "scatter": [
           {
            "marker": {
             "colorbar": {
              "outlinewidth": 0,
              "ticks": ""
             }
            },
            "type": "scatter"
           }
          ],
          "scatter3d": [
           {
            "line": {
             "colorbar": {
              "outlinewidth": 0,
              "ticks": ""
             }
            },
            "marker": {
             "colorbar": {
              "outlinewidth": 0,
              "ticks": ""
             }
            },
            "type": "scatter3d"
           }
          ],
          "scattercarpet": [
           {
            "marker": {
             "colorbar": {
              "outlinewidth": 0,
              "ticks": ""
             }
            },
            "type": "scattercarpet"
           }
          ],
          "scattergeo": [
           {
            "marker": {
             "colorbar": {
              "outlinewidth": 0,
              "ticks": ""
             }
            },
            "type": "scattergeo"
           }
          ],
          "scattergl": [
           {
            "marker": {
             "colorbar": {
              "outlinewidth": 0,
              "ticks": ""
             }
            },
            "type": "scattergl"
           }
          ],
          "scattermapbox": [
           {
            "marker": {
             "colorbar": {
              "outlinewidth": 0,
              "ticks": ""
             }
            },
            "type": "scattermapbox"
           }
          ],
          "scatterpolar": [
           {
            "marker": {
             "colorbar": {
              "outlinewidth": 0,
              "ticks": ""
             }
            },
            "type": "scatterpolar"
           }
          ],
          "scatterpolargl": [
           {
            "marker": {
             "colorbar": {
              "outlinewidth": 0,
              "ticks": ""
             }
            },
            "type": "scatterpolargl"
           }
          ],
          "scatterternary": [
           {
            "marker": {
             "colorbar": {
              "outlinewidth": 0,
              "ticks": ""
             }
            },
            "type": "scatterternary"
           }
          ],
          "surface": [
           {
            "colorbar": {
             "outlinewidth": 0,
             "ticks": ""
            },
            "colorscale": [
             [
              0,
              "#0d0887"
             ],
             [
              0.1111111111111111,
              "#46039f"
             ],
             [
              0.2222222222222222,
              "#7201a8"
             ],
             [
              0.3333333333333333,
              "#9c179e"
             ],
             [
              0.4444444444444444,
              "#bd3786"
             ],
             [
              0.5555555555555556,
              "#d8576b"
             ],
             [
              0.6666666666666666,
              "#ed7953"
             ],
             [
              0.7777777777777778,
              "#fb9f3a"
             ],
             [
              0.8888888888888888,
              "#fdca26"
             ],
             [
              1,
              "#f0f921"
             ]
            ],
            "type": "surface"
           }
          ],
          "table": [
           {
            "cells": {
             "fill": {
              "color": "#EBF0F8"
             },
             "line": {
              "color": "white"
             }
            },
            "header": {
             "fill": {
              "color": "#C8D4E3"
             },
             "line": {
              "color": "white"
             }
            },
            "type": "table"
           }
          ]
         },
         "layout": {
          "annotationdefaults": {
           "arrowcolor": "#2a3f5f",
           "arrowhead": 0,
           "arrowwidth": 1
          },
          "autotypenumbers": "strict",
          "coloraxis": {
           "colorbar": {
            "outlinewidth": 0,
            "ticks": ""
           }
          },
          "colorscale": {
           "diverging": [
            [
             0,
             "#8e0152"
            ],
            [
             0.1,
             "#c51b7d"
            ],
            [
             0.2,
             "#de77ae"
            ],
            [
             0.3,
             "#f1b6da"
            ],
            [
             0.4,
             "#fde0ef"
            ],
            [
             0.5,
             "#f7f7f7"
            ],
            [
             0.6,
             "#e6f5d0"
            ],
            [
             0.7,
             "#b8e186"
            ],
            [
             0.8,
             "#7fbc41"
            ],
            [
             0.9,
             "#4d9221"
            ],
            [
             1,
             "#276419"
            ]
           ],
           "sequential": [
            [
             0,
             "#0d0887"
            ],
            [
             0.1111111111111111,
             "#46039f"
            ],
            [
             0.2222222222222222,
             "#7201a8"
            ],
            [
             0.3333333333333333,
             "#9c179e"
            ],
            [
             0.4444444444444444,
             "#bd3786"
            ],
            [
             0.5555555555555556,
             "#d8576b"
            ],
            [
             0.6666666666666666,
             "#ed7953"
            ],
            [
             0.7777777777777778,
             "#fb9f3a"
            ],
            [
             0.8888888888888888,
             "#fdca26"
            ],
            [
             1,
             "#f0f921"
            ]
           ],
           "sequentialminus": [
            [
             0,
             "#0d0887"
            ],
            [
             0.1111111111111111,
             "#46039f"
            ],
            [
             0.2222222222222222,
             "#7201a8"
            ],
            [
             0.3333333333333333,
             "#9c179e"
            ],
            [
             0.4444444444444444,
             "#bd3786"
            ],
            [
             0.5555555555555556,
             "#d8576b"
            ],
            [
             0.6666666666666666,
             "#ed7953"
            ],
            [
             0.7777777777777778,
             "#fb9f3a"
            ],
            [
             0.8888888888888888,
             "#fdca26"
            ],
            [
             1,
             "#f0f921"
            ]
           ]
          },
          "colorway": [
           "#636efa",
           "#EF553B",
           "#00cc96",
           "#ab63fa",
           "#FFA15A",
           "#19d3f3",
           "#FF6692",
           "#B6E880",
           "#FF97FF",
           "#FECB52"
          ],
          "font": {
           "color": "#2a3f5f"
          },
          "geo": {
           "bgcolor": "white",
           "lakecolor": "white",
           "landcolor": "#E5ECF6",
           "showlakes": true,
           "showland": true,
           "subunitcolor": "white"
          },
          "hoverlabel": {
           "align": "left"
          },
          "hovermode": "closest",
          "mapbox": {
           "style": "light"
          },
          "paper_bgcolor": "white",
          "plot_bgcolor": "#E5ECF6",
          "polar": {
           "angularaxis": {
            "gridcolor": "white",
            "linecolor": "white",
            "ticks": ""
           },
           "bgcolor": "#E5ECF6",
           "radialaxis": {
            "gridcolor": "white",
            "linecolor": "white",
            "ticks": ""
           }
          },
          "scene": {
           "xaxis": {
            "backgroundcolor": "#E5ECF6",
            "gridcolor": "white",
            "gridwidth": 2,
            "linecolor": "white",
            "showbackground": true,
            "ticks": "",
            "zerolinecolor": "white"
           },
           "yaxis": {
            "backgroundcolor": "#E5ECF6",
            "gridcolor": "white",
            "gridwidth": 2,
            "linecolor": "white",
            "showbackground": true,
            "ticks": "",
            "zerolinecolor": "white"
           },
           "zaxis": {
            "backgroundcolor": "#E5ECF6",
            "gridcolor": "white",
            "gridwidth": 2,
            "linecolor": "white",
            "showbackground": true,
            "ticks": "",
            "zerolinecolor": "white"
           }
          },
          "shapedefaults": {
           "line": {
            "color": "#2a3f5f"
           }
          },
          "ternary": {
           "aaxis": {
            "gridcolor": "white",
            "linecolor": "white",
            "ticks": ""
           },
           "baxis": {
            "gridcolor": "white",
            "linecolor": "white",
            "ticks": ""
           },
           "bgcolor": "#E5ECF6",
           "caxis": {
            "gridcolor": "white",
            "linecolor": "white",
            "ticks": ""
           }
          },
          "title": {
           "x": 0.05
          },
          "xaxis": {
           "automargin": true,
           "gridcolor": "white",
           "linecolor": "white",
           "ticks": "",
           "title": {
            "standoff": 15
           },
           "zerolinecolor": "white",
           "zerolinewidth": 2
          },
          "yaxis": {
           "automargin": true,
           "gridcolor": "white",
           "linecolor": "white",
           "ticks": "",
           "title": {
            "standoff": 15
           },
           "zerolinecolor": "white",
           "zerolinewidth": 2
          }
         }
        },
        "title": {
         "text": "Proceso de vacunación en recinto UPS",
         "x": 0.5
        },
        "width": 1000
       }
      },
      "text/html": [
       "<div>                            <div id=\"d2d70146-9dfe-4cbc-ab93-c79a6ac8c4b1\" class=\"plotly-graph-div\" style=\"height:500px; width:1000px;\"></div>            <script type=\"text/javascript\">                require([\"plotly\"], function(Plotly) {                    window.PLOTLYENV=window.PLOTLYENV || {};                                    if (document.getElementById(\"d2d70146-9dfe-4cbc-ab93-c79a6ac8c4b1\")) {                    Plotly.newPlot(                        \"d2d70146-9dfe-4cbc-ab93-c79a6ac8c4b1\",                        [{\"domain\": {\"x\": [0.0, 1.0], \"y\": [0.0, 1.0]}, \"hovertemplate\": \"name=%{label}<br>percentage=%{value}<extra></extra>\", \"labels\": [\"vacunados\", \"no vacunados\"], \"legendgroup\": \"\", \"name\": \"\", \"showlegend\": true, \"type\": \"pie\", \"values\": [80.0, 20.0]}],                        {\"height\": 500, \"legend\": {\"tracegroupgap\": 0}, \"margin\": {\"t\": 60}, \"piecolorway\": [\"red\", \"lightgrey\"], \"template\": {\"data\": {\"bar\": [{\"error_x\": {\"color\": \"#2a3f5f\"}, \"error_y\": {\"color\": \"#2a3f5f\"}, \"marker\": {\"line\": {\"color\": \"#E5ECF6\", \"width\": 0.5}}, \"type\": \"bar\"}], \"barpolar\": [{\"marker\": {\"line\": {\"color\": \"#E5ECF6\", \"width\": 0.5}}, \"type\": \"barpolar\"}], \"carpet\": [{\"aaxis\": {\"endlinecolor\": \"#2a3f5f\", \"gridcolor\": \"white\", \"linecolor\": \"white\", \"minorgridcolor\": \"white\", \"startlinecolor\": \"#2a3f5f\"}, \"baxis\": {\"endlinecolor\": \"#2a3f5f\", \"gridcolor\": \"white\", \"linecolor\": \"white\", \"minorgridcolor\": \"white\", \"startlinecolor\": \"#2a3f5f\"}, \"type\": \"carpet\"}], \"choropleth\": [{\"colorbar\": {\"outlinewidth\": 0, \"ticks\": \"\"}, \"type\": \"choropleth\"}], \"contour\": [{\"colorbar\": {\"outlinewidth\": 0, \"ticks\": \"\"}, \"colorscale\": [[0.0, \"#0d0887\"], [0.1111111111111111, \"#46039f\"], [0.2222222222222222, \"#7201a8\"], [0.3333333333333333, \"#9c179e\"], [0.4444444444444444, \"#bd3786\"], [0.5555555555555556, \"#d8576b\"], [0.6666666666666666, \"#ed7953\"], [0.7777777777777778, \"#fb9f3a\"], [0.8888888888888888, \"#fdca26\"], [1.0, \"#f0f921\"]], \"type\": \"contour\"}], \"contourcarpet\": [{\"colorbar\": {\"outlinewidth\": 0, \"ticks\": \"\"}, \"type\": \"contourcarpet\"}], \"heatmap\": [{\"colorbar\": {\"outlinewidth\": 0, \"ticks\": \"\"}, \"colorscale\": [[0.0, \"#0d0887\"], [0.1111111111111111, \"#46039f\"], [0.2222222222222222, \"#7201a8\"], [0.3333333333333333, \"#9c179e\"], [0.4444444444444444, \"#bd3786\"], [0.5555555555555556, \"#d8576b\"], [0.6666666666666666, \"#ed7953\"], [0.7777777777777778, \"#fb9f3a\"], [0.8888888888888888, \"#fdca26\"], [1.0, \"#f0f921\"]], \"type\": \"heatmap\"}], \"heatmapgl\": [{\"colorbar\": {\"outlinewidth\": 0, \"ticks\": \"\"}, \"colorscale\": [[0.0, \"#0d0887\"], [0.1111111111111111, \"#46039f\"], [0.2222222222222222, \"#7201a8\"], [0.3333333333333333, \"#9c179e\"], [0.4444444444444444, \"#bd3786\"], [0.5555555555555556, \"#d8576b\"], [0.6666666666666666, \"#ed7953\"], [0.7777777777777778, \"#fb9f3a\"], [0.8888888888888888, \"#fdca26\"], [1.0, \"#f0f921\"]], \"type\": \"heatmapgl\"}], \"histogram\": [{\"marker\": {\"colorbar\": {\"outlinewidth\": 0, \"ticks\": \"\"}}, \"type\": \"histogram\"}], \"histogram2d\": [{\"colorbar\": {\"outlinewidth\": 0, \"ticks\": \"\"}, \"colorscale\": [[0.0, \"#0d0887\"], [0.1111111111111111, \"#46039f\"], [0.2222222222222222, \"#7201a8\"], [0.3333333333333333, \"#9c179e\"], [0.4444444444444444, \"#bd3786\"], [0.5555555555555556, \"#d8576b\"], [0.6666666666666666, \"#ed7953\"], [0.7777777777777778, \"#fb9f3a\"], [0.8888888888888888, \"#fdca26\"], [1.0, \"#f0f921\"]], \"type\": \"histogram2d\"}], \"histogram2dcontour\": [{\"colorbar\": {\"outlinewidth\": 0, \"ticks\": \"\"}, \"colorscale\": [[0.0, \"#0d0887\"], [0.1111111111111111, \"#46039f\"], [0.2222222222222222, \"#7201a8\"], [0.3333333333333333, \"#9c179e\"], [0.4444444444444444, \"#bd3786\"], [0.5555555555555556, \"#d8576b\"], [0.6666666666666666, \"#ed7953\"], [0.7777777777777778, \"#fb9f3a\"], [0.8888888888888888, \"#fdca26\"], [1.0, \"#f0f921\"]], \"type\": \"histogram2dcontour\"}], \"mesh3d\": [{\"colorbar\": {\"outlinewidth\": 0, \"ticks\": \"\"}, \"type\": \"mesh3d\"}], \"parcoords\": [{\"line\": {\"colorbar\": {\"outlinewidth\": 0, \"ticks\": \"\"}}, \"type\": \"parcoords\"}], \"pie\": [{\"automargin\": true, \"type\": \"pie\"}], \"scatter\": [{\"marker\": {\"colorbar\": {\"outlinewidth\": 0, \"ticks\": \"\"}}, \"type\": \"scatter\"}], \"scatter3d\": [{\"line\": {\"colorbar\": {\"outlinewidth\": 0, \"ticks\": \"\"}}, \"marker\": {\"colorbar\": {\"outlinewidth\": 0, \"ticks\": \"\"}}, \"type\": \"scatter3d\"}], \"scattercarpet\": [{\"marker\": {\"colorbar\": {\"outlinewidth\": 0, \"ticks\": \"\"}}, \"type\": \"scattercarpet\"}], \"scattergeo\": [{\"marker\": {\"colorbar\": {\"outlinewidth\": 0, \"ticks\": \"\"}}, \"type\": \"scattergeo\"}], \"scattergl\": [{\"marker\": {\"colorbar\": {\"outlinewidth\": 0, \"ticks\": \"\"}}, \"type\": \"scattergl\"}], \"scattermapbox\": [{\"marker\": {\"colorbar\": {\"outlinewidth\": 0, \"ticks\": \"\"}}, \"type\": \"scattermapbox\"}], \"scatterpolar\": [{\"marker\": {\"colorbar\": {\"outlinewidth\": 0, \"ticks\": \"\"}}, \"type\": \"scatterpolar\"}], \"scatterpolargl\": [{\"marker\": {\"colorbar\": {\"outlinewidth\": 0, \"ticks\": \"\"}}, \"type\": \"scatterpolargl\"}], \"scatterternary\": [{\"marker\": {\"colorbar\": {\"outlinewidth\": 0, \"ticks\": \"\"}}, \"type\": \"scatterternary\"}], \"surface\": [{\"colorbar\": {\"outlinewidth\": 0, \"ticks\": \"\"}, \"colorscale\": [[0.0, \"#0d0887\"], [0.1111111111111111, \"#46039f\"], [0.2222222222222222, \"#7201a8\"], [0.3333333333333333, \"#9c179e\"], [0.4444444444444444, \"#bd3786\"], [0.5555555555555556, \"#d8576b\"], [0.6666666666666666, \"#ed7953\"], [0.7777777777777778, \"#fb9f3a\"], [0.8888888888888888, \"#fdca26\"], [1.0, \"#f0f921\"]], \"type\": \"surface\"}], \"table\": [{\"cells\": {\"fill\": {\"color\": \"#EBF0F8\"}, \"line\": {\"color\": \"white\"}}, \"header\": {\"fill\": {\"color\": \"#C8D4E3\"}, \"line\": {\"color\": \"white\"}}, \"type\": \"table\"}]}, \"layout\": {\"annotationdefaults\": {\"arrowcolor\": \"#2a3f5f\", \"arrowhead\": 0, \"arrowwidth\": 1}, \"autotypenumbers\": \"strict\", \"coloraxis\": {\"colorbar\": {\"outlinewidth\": 0, \"ticks\": \"\"}}, \"colorscale\": {\"diverging\": [[0, \"#8e0152\"], [0.1, \"#c51b7d\"], [0.2, \"#de77ae\"], [0.3, \"#f1b6da\"], [0.4, \"#fde0ef\"], [0.5, \"#f7f7f7\"], [0.6, \"#e6f5d0\"], [0.7, \"#b8e186\"], [0.8, \"#7fbc41\"], [0.9, \"#4d9221\"], [1, \"#276419\"]], \"sequential\": [[0.0, \"#0d0887\"], [0.1111111111111111, \"#46039f\"], [0.2222222222222222, \"#7201a8\"], [0.3333333333333333, \"#9c179e\"], [0.4444444444444444, \"#bd3786\"], [0.5555555555555556, \"#d8576b\"], [0.6666666666666666, \"#ed7953\"], [0.7777777777777778, \"#fb9f3a\"], [0.8888888888888888, \"#fdca26\"], [1.0, \"#f0f921\"]], \"sequentialminus\": [[0.0, \"#0d0887\"], [0.1111111111111111, \"#46039f\"], [0.2222222222222222, \"#7201a8\"], [0.3333333333333333, \"#9c179e\"], [0.4444444444444444, \"#bd3786\"], [0.5555555555555556, \"#d8576b\"], [0.6666666666666666, \"#ed7953\"], [0.7777777777777778, \"#fb9f3a\"], [0.8888888888888888, \"#fdca26\"], [1.0, \"#f0f921\"]]}, \"colorway\": [\"#636efa\", \"#EF553B\", \"#00cc96\", \"#ab63fa\", \"#FFA15A\", \"#19d3f3\", \"#FF6692\", \"#B6E880\", \"#FF97FF\", \"#FECB52\"], \"font\": {\"color\": \"#2a3f5f\"}, \"geo\": {\"bgcolor\": \"white\", \"lakecolor\": \"white\", \"landcolor\": \"#E5ECF6\", \"showlakes\": true, \"showland\": true, \"subunitcolor\": \"white\"}, \"hoverlabel\": {\"align\": \"left\"}, \"hovermode\": \"closest\", \"mapbox\": {\"style\": \"light\"}, \"paper_bgcolor\": \"white\", \"plot_bgcolor\": \"#E5ECF6\", \"polar\": {\"angularaxis\": {\"gridcolor\": \"white\", \"linecolor\": \"white\", \"ticks\": \"\"}, \"bgcolor\": \"#E5ECF6\", \"radialaxis\": {\"gridcolor\": \"white\", \"linecolor\": \"white\", \"ticks\": \"\"}}, \"scene\": {\"xaxis\": {\"backgroundcolor\": \"#E5ECF6\", \"gridcolor\": \"white\", \"gridwidth\": 2, \"linecolor\": \"white\", \"showbackground\": true, \"ticks\": \"\", \"zerolinecolor\": \"white\"}, \"yaxis\": {\"backgroundcolor\": \"#E5ECF6\", \"gridcolor\": \"white\", \"gridwidth\": 2, \"linecolor\": \"white\", \"showbackground\": true, \"ticks\": \"\", \"zerolinecolor\": \"white\"}, \"zaxis\": {\"backgroundcolor\": \"#E5ECF6\", \"gridcolor\": \"white\", \"gridwidth\": 2, \"linecolor\": \"white\", \"showbackground\": true, \"ticks\": \"\", \"zerolinecolor\": \"white\"}}, \"shapedefaults\": {\"line\": {\"color\": \"#2a3f5f\"}}, \"ternary\": {\"aaxis\": {\"gridcolor\": \"white\", \"linecolor\": \"white\", \"ticks\": \"\"}, \"baxis\": {\"gridcolor\": \"white\", \"linecolor\": \"white\", \"ticks\": \"\"}, \"bgcolor\": \"#E5ECF6\", \"caxis\": {\"gridcolor\": \"white\", \"linecolor\": \"white\", \"ticks\": \"\"}}, \"title\": {\"x\": 0.05}, \"xaxis\": {\"automargin\": true, \"gridcolor\": \"white\", \"linecolor\": \"white\", \"ticks\": \"\", \"title\": {\"standoff\": 15}, \"zerolinecolor\": \"white\", \"zerolinewidth\": 2}, \"yaxis\": {\"automargin\": true, \"gridcolor\": \"white\", \"linecolor\": \"white\", \"ticks\": \"\", \"title\": {\"standoff\": 15}, \"zerolinecolor\": \"white\", \"zerolinewidth\": 2}}}, \"title\": {\"text\": \"Proceso de vacunaci\\u00f3n en recinto UPS\", \"x\": 0.5}, \"width\": 1000},                        {\"responsive\": true}                    ).then(function(){\n",
       "                            \n",
       "var gd = document.getElementById('d2d70146-9dfe-4cbc-ab93-c79a6ac8c4b1');\n",
       "var x = new MutationObserver(function (mutations, observer) {{\n",
       "        var display = window.getComputedStyle(gd).display;\n",
       "        if (!display || display === 'none') {{\n",
       "            console.log([gd, 'removed!']);\n",
       "            Plotly.purge(gd);\n",
       "            observer.disconnect();\n",
       "        }}\n",
       "}});\n",
       "\n",
       "// Listen for the removal of the full notebook cells\n",
       "var notebookContainer = gd.closest('#notebook-container');\n",
       "if (notebookContainer) {{\n",
       "    x.observe(notebookContainer, {childList: true});\n",
       "}}\n",
       "\n",
       "// Listen for the clearing of the current output cell\n",
       "var outputEl = gd.closest('.output');\n",
       "if (outputEl) {{\n",
       "    x.observe(outputEl, {childList: true});\n",
       "}}\n",
       "\n",
       "                        })                };                });            </script>        </div>"
      ]
     },
     "metadata": {},
     "output_type": "display_data"
    }
   ],
   "source": [
    "fig = px.pie(df_percentage, values=\"percentage\",\n",
    "             names=\"name\", \n",
    "             color_discrete_sequence=['red','lightgrey'],width=1000,height=500)\n",
    "fig.update_layout(title_text='Proceso de vacunación en recinto UPS', title_x=0.5)"
   ]
  },
  {
   "cell_type": "markdown",
   "id": "5cf50d88",
   "metadata": {},
   "source": [
    "### El tiempo promedio de espera"
   ]
  },
  {
   "cell_type": "code",
   "execution_count": 34,
   "id": "171a80fb",
   "metadata": {
    "hide_input": true,
    "scrolled": true
   },
   "outputs": [
    {
     "name": "stdout",
     "output_type": "stream",
     "text": [
      "El promedio de tiempo de espera de las personas es: 16.46 min\n"
     ]
    }
   ],
   "source": [
    "print('El promedio de tiempo de espera de las personas es: {:,.2f} min'.format(df_data_simulation['wait'].mean()))"
   ]
  },
  {
   "cell_type": "code",
   "execution_count": 35,
   "id": "f4c391a0",
   "metadata": {
    "hide_input": true
   },
   "outputs": [
    {
     "data": {
      "text/html": [
       "\n",
       "<div id=\"altair-viz-d849ecba7085425f82c93ce43d993d54\"></div>\n",
       "<script type=\"text/javascript\">\n",
       "  (function(spec, embedOpt){\n",
       "    let outputDiv = document.currentScript.previousElementSibling;\n",
       "    if (outputDiv.id !== \"altair-viz-d849ecba7085425f82c93ce43d993d54\") {\n",
       "      outputDiv = document.getElementById(\"altair-viz-d849ecba7085425f82c93ce43d993d54\");\n",
       "    }\n",
       "    const paths = {\n",
       "      \"vega\": \"https://cdn.jsdelivr.net/npm//vega@5?noext\",\n",
       "      \"vega-lib\": \"https://cdn.jsdelivr.net/npm//vega-lib?noext\",\n",
       "      \"vega-lite\": \"https://cdn.jsdelivr.net/npm//vega-lite@4.8.1?noext\",\n",
       "      \"vega-embed\": \"https://cdn.jsdelivr.net/npm//vega-embed@6?noext\",\n",
       "    };\n",
       "\n",
       "    function loadScript(lib) {\n",
       "      return new Promise(function(resolve, reject) {\n",
       "        var s = document.createElement('script');\n",
       "        s.src = paths[lib];\n",
       "        s.async = true;\n",
       "        s.onload = () => resolve(paths[lib]);\n",
       "        s.onerror = () => reject(`Error loading script: ${paths[lib]}`);\n",
       "        document.getElementsByTagName(\"head\")[0].appendChild(s);\n",
       "      });\n",
       "    }\n",
       "\n",
       "    function showError(err) {\n",
       "      outputDiv.innerHTML = `<div class=\"error\" style=\"color:red;\">${err}</div>`;\n",
       "      throw err;\n",
       "    }\n",
       "\n",
       "    function displayChart(vegaEmbed) {\n",
       "      vegaEmbed(outputDiv, spec, embedOpt)\n",
       "        .catch(err => showError(`Javascript Error: ${err.message}<br>This usually means there's a typo in your chart specification. See the javascript console for the full traceback.`));\n",
       "    }\n",
       "\n",
       "    if(typeof define === \"function\" && define.amd) {\n",
       "      requirejs.config({paths});\n",
       "      require([\"vega-embed\"], displayChart, err => showError(`Error loading script: ${err.message}`));\n",
       "    } else if (typeof vegaEmbed === \"function\") {\n",
       "      displayChart(vegaEmbed);\n",
       "    } else {\n",
       "      loadScript(\"vega\")\n",
       "        .then(() => loadScript(\"vega-lite\"))\n",
       "        .then(() => loadScript(\"vega-embed\"))\n",
       "        .catch(showError)\n",
       "        .then(() => displayChart(vegaEmbed));\n",
       "    }\n",
       "  })({\"config\": {\"view\": {\"continuousWidth\": 400, \"continuousHeight\": 300}}, \"vconcat\": [{\"layer\": [{\"mark\": {\"type\": \"trail\", \"color\": \"lightgrey\"}, \"encoding\": {\"x\": {\"type\": \"nominal\", \"field\": \"name\", \"sort\": {\"field\": \"id\", \"op\": \"count\", \"order\": \"ascending\"}}, \"y\": {\"type\": \"quantitative\", \"field\": \"wait\"}}}, {\"mark\": {\"type\": \"circle\", \"color\": \"red\"}, \"encoding\": {\"x\": {\"type\": \"nominal\", \"field\": \"name\", \"sort\": {\"field\": \"id\", \"op\": \"count\", \"order\": \"ascending\"}}, \"y\": {\"type\": \"quantitative\", \"field\": \"wait\"}}, \"title\": \"tiempo de espera de los ciudadanos - Recinto UPS\"}]}, {\"mark\": \"bar\", \"encoding\": {\"color\": {\"condition\": {\"value\": \"red\", \"test\": \"(datum.wait === 27)\"}, \"value\": \"lightgrey\"}, \"x\": {\"type\": \"nominal\", \"field\": \"name\", \"sort\": {\"field\": \"id\", \"op\": \"count\", \"order\": \"ascending\"}}, \"y\": {\"type\": \"quantitative\", \"field\": \"wait\"}}, \"title\": \"tiempo de espera de los ciudadanos - Recinto UPS\"}], \"data\": {\"name\": \"data-c5acb82d9ecf13c414a7c4eed956fd37\"}, \"$schema\": \"https://vega.github.io/schema/vega-lite/v4.8.1.json\", \"datasets\": {\"data-c5acb82d9ecf13c414a7c4eed956fd37\": [{\"id\": 0, \"name\": \"persona_0\", \"exam\": 20, \"data\": 4, \"vaccine\": 5, \"certificate\": 1, \"exit\": 5, \"wait\": 0, \"result\": 1, \"total_time\": 35}, {\"id\": 1, \"name\": \"persona_1\", \"exam\": 20, \"data\": 3, \"vaccine\": 7, \"certificate\": 1, \"exit\": 5, \"wait\": 0, \"result\": 1, \"total_time\": 36}, {\"id\": 2, \"name\": \"persona_2\", \"exam\": 20, \"data\": 4, \"vaccine\": 9, \"certificate\": 2, \"exit\": 5, \"wait\": 0, \"result\": 1, \"total_time\": 40}, {\"id\": 3, \"name\": \"persona_3\", \"exam\": 20, \"data\": 3, \"vaccine\": 5, \"certificate\": 1, \"exit\": 2, \"wait\": 0, \"result\": 1, \"total_time\": 31}, {\"id\": 4, \"name\": \"persona_4\", \"exam\": 20, \"data\": 2, \"vaccine\": 10, \"certificate\": 2, \"exit\": 4, \"wait\": 0, \"result\": 1, \"total_time\": 38}, {\"id\": 5, \"name\": \"persona_5\", \"exam\": 20, \"data\": 3, \"vaccine\": 7, \"certificate\": 1, \"exit\": 1, \"wait\": 20, \"result\": 1, \"total_time\": 32}, {\"id\": 6, \"name\": \"persona_6\", \"exam\": 20, \"data\": 2, \"vaccine\": 6, \"certificate\": 2, \"exit\": 4, \"wait\": 20, \"result\": 1, \"total_time\": 34}, {\"id\": 7, \"name\": \"persona_7\", \"exam\": 20, \"data\": 3, \"vaccine\": 9, \"certificate\": 2, \"exit\": 2, \"wait\": 17, \"result\": 1, \"total_time\": 36}, {\"id\": 8, \"name\": \"persona_8\", \"exam\": 20, \"data\": 2, \"vaccine\": 5, \"certificate\": 3, \"exit\": 3, \"wait\": 13, \"result\": 1, \"total_time\": 33}, {\"id\": 9, \"name\": \"persona_9\", \"exam\": 20, \"data\": 2, \"vaccine\": 7, \"certificate\": 3, \"exit\": 3, \"wait\": 9, \"result\": 1, \"total_time\": 35}, {\"id\": 10, \"name\": \"persona_10\", \"exam\": 20, \"data\": 0, \"vaccine\": 0, \"certificate\": 0, \"exit\": 5, \"wait\": 26, \"result\": 0, \"total_time\": 25}, {\"id\": 11, \"name\": \"persona_11\", \"exam\": 20, \"data\": 0, \"vaccine\": 0, \"certificate\": 0, \"exit\": 4, \"wait\": 21, \"result\": 0, \"total_time\": 24}, {\"id\": 12, \"name\": \"persona_12\", \"exam\": 20, \"data\": 0, \"vaccine\": 0, \"certificate\": 0, \"exit\": 4, \"wait\": 18, \"result\": 0, \"total_time\": 24}, {\"id\": 13, \"name\": \"persona_13\", \"exam\": 20, \"data\": 0, \"vaccine\": 0, \"certificate\": 0, \"exit\": 1, \"wait\": 13, \"result\": 0, \"total_time\": 21}, {\"id\": 14, \"name\": \"persona_14\", \"exam\": 20, \"data\": 0, \"vaccine\": 0, \"certificate\": 0, \"exit\": 3, \"wait\": 8, \"result\": 0, \"total_time\": 23}, {\"id\": 15, \"name\": \"persona_15\", \"exam\": 20, \"data\": 4, \"vaccine\": 5, \"certificate\": 2, \"exit\": 1, \"wait\": 24, \"result\": 1, \"total_time\": 32}, {\"id\": 16, \"name\": \"persona_16\", \"exam\": 20, \"data\": 4, \"vaccine\": 8, \"certificate\": 2, \"exit\": 1, \"wait\": 20, \"result\": 1, \"total_time\": 35}, {\"id\": 17, \"name\": \"persona_17\", \"exam\": 20, \"data\": 4, \"vaccine\": 5, \"certificate\": 3, \"exit\": 1, \"wait\": 17, \"result\": 1, \"total_time\": 33}, {\"id\": 18, \"name\": \"persona_18\", \"exam\": 20, \"data\": 2, \"vaccine\": 7, \"certificate\": 2, \"exit\": 1, \"wait\": 12, \"result\": 1, \"total_time\": 32}, {\"id\": 19, \"name\": \"persona_19\", \"exam\": 20, \"data\": 3, \"vaccine\": 6, \"certificate\": 1, \"exit\": 5, \"wait\": 8, \"result\": 1, \"total_time\": 35}, {\"id\": 20, \"name\": \"persona_20\", \"exam\": 20, \"data\": 0, \"vaccine\": 0, \"certificate\": 0, \"exit\": 2, \"wait\": 25, \"result\": 0, \"total_time\": 22}, {\"id\": 21, \"name\": \"persona_21\", \"exam\": 20, \"data\": 0, \"vaccine\": 0, \"certificate\": 0, \"exit\": 2, \"wait\": 22, \"result\": 0, \"total_time\": 22}, {\"id\": 22, \"name\": \"persona_22\", \"exam\": 20, \"data\": 0, \"vaccine\": 0, \"certificate\": 0, \"exit\": 3, \"wait\": 17, \"result\": 0, \"total_time\": 23}, {\"id\": 23, \"name\": \"persona_23\", \"exam\": 20, \"data\": 0, \"vaccine\": 0, \"certificate\": 0, \"exit\": 5, \"wait\": 14, \"result\": 0, \"total_time\": 25}, {\"id\": 24, \"name\": \"persona_24\", \"exam\": 20, \"data\": 0, \"vaccine\": 0, \"certificate\": 0, \"exit\": 5, \"wait\": 9, \"result\": 0, \"total_time\": 25}, {\"id\": 25, \"name\": \"persona_25\", \"exam\": 20, \"data\": 0, \"vaccine\": 0, \"certificate\": 0, \"exit\": 3, \"wait\": 24, \"result\": 0, \"total_time\": 23}, {\"id\": 26, \"name\": \"persona_26\", \"exam\": 20, \"data\": 0, \"vaccine\": 0, \"certificate\": 0, \"exit\": 2, \"wait\": 21, \"result\": 0, \"total_time\": 22}, {\"id\": 27, \"name\": \"persona_27\", \"exam\": 20, \"data\": 0, \"vaccine\": 0, \"certificate\": 0, \"exit\": 2, \"wait\": 16, \"result\": 0, \"total_time\": 22}, {\"id\": 28, \"name\": \"persona_28\", \"exam\": 20, \"data\": 0, \"vaccine\": 0, \"certificate\": 0, \"exit\": 5, \"wait\": 13, \"result\": 0, \"total_time\": 25}, {\"id\": 29, \"name\": \"persona_29\", \"exam\": 20, \"data\": 0, \"vaccine\": 0, \"certificate\": 0, \"exit\": 3, \"wait\": 9, \"result\": 0, \"total_time\": 23}, {\"id\": 30, \"name\": \"persona_30\", \"exam\": 20, \"data\": 2, \"vaccine\": 9, \"certificate\": 1, \"exit\": 1, \"wait\": 25, \"result\": 1, \"total_time\": 33}, {\"id\": 31, \"name\": \"persona_31\", \"exam\": 20, \"data\": 2, \"vaccine\": 10, \"certificate\": 3, \"exit\": 4, \"wait\": 20, \"result\": 1, \"total_time\": 39}, {\"id\": 32, \"name\": \"persona_32\", \"exam\": 20, \"data\": 2, \"vaccine\": 10, \"certificate\": 2, \"exit\": 2, \"wait\": 17, \"result\": 1, \"total_time\": 36}, {\"id\": 33, \"name\": \"persona_33\", \"exam\": 20, \"data\": 3, \"vaccine\": 10, \"certificate\": 1, \"exit\": 1, \"wait\": 14, \"result\": 1, \"total_time\": 35}, {\"id\": 34, \"name\": \"persona_34\", \"exam\": 20, \"data\": 2, \"vaccine\": 7, \"certificate\": 2, \"exit\": 3, \"wait\": 11, \"result\": 1, \"total_time\": 34}, {\"id\": 35, \"name\": \"persona_35\", \"exam\": 20, \"data\": 3, \"vaccine\": 6, \"certificate\": 2, \"exit\": 5, \"wait\": 27, \"result\": 1, \"total_time\": 36}, {\"id\": 36, \"name\": \"persona_36\", \"exam\": 20, \"data\": 2, \"vaccine\": 10, \"certificate\": 2, \"exit\": 4, \"wait\": 22, \"result\": 1, \"total_time\": 38}, {\"id\": 37, \"name\": \"persona_37\", \"exam\": 20, \"data\": 3, \"vaccine\": 5, \"certificate\": 1, \"exit\": 5, \"wait\": 19, \"result\": 1, \"total_time\": 34}, {\"id\": 38, \"name\": \"persona_38\", \"exam\": 20, \"data\": 3, \"vaccine\": 8, \"certificate\": 1, \"exit\": 2, \"wait\": 15, \"result\": 1, \"total_time\": 34}, {\"id\": 39, \"name\": \"persona_39\", \"exam\": 20, \"data\": 4, \"vaccine\": 7, \"certificate\": 2, \"exit\": 5, \"wait\": 11, \"result\": 1, \"total_time\": 38}, {\"id\": 40, \"name\": \"persona_40\", \"exam\": 20, \"data\": 2, \"vaccine\": 7, \"certificate\": 2, \"exit\": 3, \"wait\": 26, \"result\": 1, \"total_time\": 34}, {\"id\": 41, \"name\": \"persona_41\", \"exam\": 20, \"data\": 3, \"vaccine\": 8, \"certificate\": 3, \"exit\": 1, \"wait\": 21, \"result\": 1, \"total_time\": 35}, {\"id\": 42, \"name\": \"persona_42\", \"exam\": 20, \"data\": 3, \"vaccine\": 5, \"certificate\": 3, \"exit\": 5, \"wait\": 18, \"result\": 1, \"total_time\": 36}, {\"id\": 43, \"name\": \"persona_43\", \"exam\": 20, \"data\": 3, \"vaccine\": 9, \"certificate\": 1, \"exit\": 2, \"wait\": 13, \"result\": 1, \"total_time\": 35}, {\"id\": 44, \"name\": \"persona_44\", \"exam\": 20, \"data\": 3, \"vaccine\": 8, \"certificate\": 2, \"exit\": 1, \"wait\": 9, \"result\": 1, \"total_time\": 34}, {\"id\": 45, \"name\": \"persona_45\", \"exam\": 20, \"data\": 3, \"vaccine\": 8, \"certificate\": 1, \"exit\": 3, \"wait\": 24, \"result\": 1, \"total_time\": 35}, {\"id\": 46, \"name\": \"persona_46\", \"exam\": 20, \"data\": 4, \"vaccine\": 10, \"certificate\": 2, \"exit\": 3, \"wait\": 20, \"result\": 1, \"total_time\": 39}, {\"id\": 47, \"name\": \"persona_47\", \"exam\": 20, \"data\": 4, \"vaccine\": 9, \"certificate\": 2, \"exit\": 4, \"wait\": 16, \"result\": 1, \"total_time\": 39}, {\"id\": 48, \"name\": \"persona_48\", \"exam\": 20, \"data\": 2, \"vaccine\": 5, \"certificate\": 3, \"exit\": 3, \"wait\": 13, \"result\": 1, \"total_time\": 33}, {\"id\": 49, \"name\": \"persona_49\", \"exam\": 20, \"data\": 2, \"vaccine\": 9, \"certificate\": 1, \"exit\": 1, \"wait\": 10, \"result\": 1, \"total_time\": 33}, {\"id\": 50, \"name\": \"persona_50\", \"exam\": 20, \"data\": 3, \"vaccine\": 10, \"certificate\": 1, \"exit\": 3, \"wait\": 26, \"result\": 1, \"total_time\": 37}, {\"id\": 51, \"name\": \"persona_51\", \"exam\": 20, \"data\": 2, \"vaccine\": 6, \"certificate\": 3, \"exit\": 5, \"wait\": 23, \"result\": 1, \"total_time\": 36}, {\"id\": 52, \"name\": \"persona_52\", \"exam\": 20, \"data\": 3, \"vaccine\": 7, \"certificate\": 2, \"exit\": 5, \"wait\": 20, \"result\": 1, \"total_time\": 37}, {\"id\": 53, \"name\": \"persona_53\", \"exam\": 20, \"data\": 4, \"vaccine\": 10, \"certificate\": 3, \"exit\": 1, \"wait\": 15, \"result\": 1, \"total_time\": 38}, {\"id\": 54, \"name\": \"persona_54\", \"exam\": 20, \"data\": 2, \"vaccine\": 8, \"certificate\": 2, \"exit\": 5, \"wait\": 12, \"result\": 1, \"total_time\": 37}, {\"id\": 55, \"name\": \"persona_55\", \"exam\": 20, \"data\": 2, \"vaccine\": 7, \"certificate\": 3, \"exit\": 2, \"wait\": 27, \"result\": 1, \"total_time\": 34}, {\"id\": 56, \"name\": \"persona_56\", \"exam\": 20, \"data\": 2, \"vaccine\": 9, \"certificate\": 2, \"exit\": 3, \"wait\": 24, \"result\": 1, \"total_time\": 36}, {\"id\": 57, \"name\": \"persona_57\", \"exam\": 20, \"data\": 3, \"vaccine\": 5, \"certificate\": 2, \"exit\": 1, \"wait\": 20, \"result\": 1, \"total_time\": 31}, {\"id\": 58, \"name\": \"persona_58\", \"exam\": 20, \"data\": 3, \"vaccine\": 9, \"certificate\": 3, \"exit\": 4, \"wait\": 15, \"result\": 1, \"total_time\": 39}, {\"id\": 59, \"name\": \"persona_59\", \"exam\": 20, \"data\": 2, \"vaccine\": 6, \"certificate\": 1, \"exit\": 4, \"wait\": 10, \"result\": 1, \"total_time\": 33}, {\"id\": 60, \"name\": \"persona_60\", \"exam\": 20, \"data\": 3, \"vaccine\": 5, \"certificate\": 3, \"exit\": 3, \"wait\": 25, \"result\": 1, \"total_time\": 34}, {\"id\": 61, \"name\": \"persona_61\", \"exam\": 20, \"data\": 3, \"vaccine\": 10, \"certificate\": 2, \"exit\": 1, \"wait\": 20, \"result\": 1, \"total_time\": 36}, {\"id\": 62, \"name\": \"persona_62\", \"exam\": 20, \"data\": 3, \"vaccine\": 10, \"certificate\": 1, \"exit\": 5, \"wait\": 17, \"result\": 1, \"total_time\": 39}, {\"id\": 63, \"name\": \"persona_63\", \"exam\": 20, \"data\": 2, \"vaccine\": 7, \"certificate\": 2, \"exit\": 5, \"wait\": 14, \"result\": 1, \"total_time\": 36}, {\"id\": 64, \"name\": \"persona_64\", \"exam\": 20, \"data\": 4, \"vaccine\": 9, \"certificate\": 3, \"exit\": 4, \"wait\": 10, \"result\": 1, \"total_time\": 40}, {\"id\": 65, \"name\": \"persona_65\", \"exam\": 20, \"data\": 2, \"vaccine\": 6, \"certificate\": 2, \"exit\": 5, \"wait\": 27, \"result\": 1, \"total_time\": 35}, {\"id\": 66, \"name\": \"persona_66\", \"exam\": 20, \"data\": 2, \"vaccine\": 10, \"certificate\": 1, \"exit\": 3, \"wait\": 23, \"result\": 1, \"total_time\": 36}, {\"id\": 67, \"name\": \"persona_67\", \"exam\": 20, \"data\": 3, \"vaccine\": 9, \"certificate\": 3, \"exit\": 2, \"wait\": 18, \"result\": 1, \"total_time\": 37}, {\"id\": 68, \"name\": \"persona_68\", \"exam\": 20, \"data\": 2, \"vaccine\": 8, \"certificate\": 2, \"exit\": 3, \"wait\": 14, \"result\": 1, \"total_time\": 35}, {\"id\": 69, \"name\": \"persona_69\", \"exam\": 20, \"data\": 2, \"vaccine\": 9, \"certificate\": 3, \"exit\": 1, \"wait\": 10, \"result\": 1, \"total_time\": 35}, {\"id\": 70, \"name\": \"persona_70\", \"exam\": 20, \"data\": 3, \"vaccine\": 7, \"certificate\": 2, \"exit\": 3, \"wait\": 27, \"result\": 1, \"total_time\": 35}, {\"id\": 71, \"name\": \"persona_71\", \"exam\": 20, \"data\": 3, \"vaccine\": 5, \"certificate\": 2, \"exit\": 4, \"wait\": 23, \"result\": 1, \"total_time\": 34}, {\"id\": 72, \"name\": \"persona_72\", \"exam\": 20, \"data\": 4, \"vaccine\": 8, \"certificate\": 1, \"exit\": 1, \"wait\": 18, \"result\": 1, \"total_time\": 34}, {\"id\": 73, \"name\": \"persona_73\", \"exam\": 20, \"data\": 2, \"vaccine\": 10, \"certificate\": 2, \"exit\": 4, \"wait\": 15, \"result\": 1, \"total_time\": 38}, {\"id\": 74, \"name\": \"persona_74\", \"exam\": 20, \"data\": 3, \"vaccine\": 6, \"certificate\": 3, \"exit\": 2, \"wait\": 10, \"result\": 1, \"total_time\": 34}, {\"id\": 75, \"name\": \"persona_75\", \"exam\": 20, \"data\": 3, \"vaccine\": 9, \"certificate\": 1, \"exit\": 5, \"wait\": 27, \"result\": 1, \"total_time\": 38}, {\"id\": 76, \"name\": \"persona_76\", \"exam\": 20, \"data\": 3, \"vaccine\": 6, \"certificate\": 2, \"exit\": 5, \"wait\": 24, \"result\": 1, \"total_time\": 36}, {\"id\": 77, \"name\": \"persona_77\", \"exam\": 20, \"data\": 4, \"vaccine\": 6, \"certificate\": 2, \"exit\": 2, \"wait\": 19, \"result\": 1, \"total_time\": 34}, {\"id\": 78, \"name\": \"persona_78\", \"exam\": 20, \"data\": 2, \"vaccine\": 5, \"certificate\": 2, \"exit\": 4, \"wait\": 15, \"result\": 1, \"total_time\": 33}, {\"id\": 79, \"name\": \"persona_79\", \"exam\": 20, \"data\": 3, \"vaccine\": 9, \"certificate\": 3, \"exit\": 1, \"wait\": 11, \"result\": 1, \"total_time\": 36}, {\"id\": 80, \"name\": \"persona_80\", \"exam\": 20, \"data\": 3, \"vaccine\": 8, \"certificate\": 3, \"exit\": 2, \"wait\": 27, \"result\": 1, \"total_time\": 36}, {\"id\": 81, \"name\": \"persona_81\", \"exam\": 20, \"data\": 4, \"vaccine\": 9, \"certificate\": 2, \"exit\": 2, \"wait\": 22, \"result\": 1, \"total_time\": 37}, {\"id\": 82, \"name\": \"persona_82\", \"exam\": 20, \"data\": 4, \"vaccine\": 8, \"certificate\": 1, \"exit\": 3, \"wait\": 19, \"result\": 1, \"total_time\": 36}, {\"id\": 83, \"name\": \"persona_83\", \"exam\": 20, \"data\": 4, \"vaccine\": 9, \"certificate\": 3, \"exit\": 3, \"wait\": 14, \"result\": 1, \"total_time\": 39}, {\"id\": 84, \"name\": \"persona_84\", \"exam\": 20, \"data\": 3, \"vaccine\": 8, \"certificate\": 3, \"exit\": 5, \"wait\": 10, \"result\": 1, \"total_time\": 39}, {\"id\": 85, \"name\": \"persona_85\", \"exam\": 20, \"data\": 0, \"vaccine\": 0, \"certificate\": 0, \"exit\": 3, \"wait\": 26, \"result\": 0, \"total_time\": 23}, {\"id\": 86, \"name\": \"persona_86\", \"exam\": 20, \"data\": 0, \"vaccine\": 0, \"certificate\": 0, \"exit\": 1, \"wait\": 23, \"result\": 0, \"total_time\": 21}, {\"id\": 87, \"name\": \"persona_87\", \"exam\": 20, \"data\": 0, \"vaccine\": 0, \"certificate\": 0, \"exit\": 2, \"wait\": 19, \"result\": 0, \"total_time\": 22}, {\"id\": 88, \"name\": \"persona_88\", \"exam\": 20, \"data\": 0, \"vaccine\": 0, \"certificate\": 0, \"exit\": 2, \"wait\": 15, \"result\": 0, \"total_time\": 22}, {\"id\": 89, \"name\": \"persona_89\", \"exam\": 20, \"data\": 0, \"vaccine\": 0, \"certificate\": 0, \"exit\": 4, \"wait\": 10, \"result\": 0, \"total_time\": 24}, {\"id\": 90, \"name\": \"persona_90\", \"exam\": 20, \"data\": 0, \"vaccine\": 0, \"certificate\": 0, \"exit\": 3, \"wait\": 27, \"result\": 0, \"total_time\": 23}, {\"id\": 91, \"name\": \"persona_91\", \"exam\": 20, \"data\": 0, \"vaccine\": 0, \"certificate\": 0, \"exit\": 2, \"wait\": 22, \"result\": 0, \"total_time\": 22}, {\"id\": 92, \"name\": \"persona_92\", \"exam\": 20, \"data\": 0, \"vaccine\": 0, \"certificate\": 0, \"exit\": 5, \"wait\": 19, \"result\": 0, \"total_time\": 25}, {\"id\": 93, \"name\": \"persona_93\", \"exam\": 20, \"data\": 0, \"vaccine\": 0, \"certificate\": 0, \"exit\": 5, \"wait\": 15, \"result\": 0, \"total_time\": 25}, {\"id\": 94, \"name\": \"persona_94\", \"exam\": 20, \"data\": 0, \"vaccine\": 0, \"certificate\": 0, \"exit\": 5, \"wait\": 11, \"result\": 0, \"total_time\": 25}, {\"id\": 95, \"name\": \"persona_95\", \"exam\": 20, \"data\": 4, \"vaccine\": 5, \"certificate\": 2, \"exit\": 5, \"wait\": 27, \"result\": 1, \"total_time\": 36}, {\"id\": 96, \"name\": \"persona_96\", \"exam\": 20, \"data\": 4, \"vaccine\": 9, \"certificate\": 3, \"exit\": 2, \"wait\": 22, \"result\": 1, \"total_time\": 38}, {\"id\": 97, \"name\": \"persona_97\", \"exam\": 20, \"data\": 3, \"vaccine\": 6, \"certificate\": 2, \"exit\": 1, \"wait\": 17, \"result\": 1, \"total_time\": 32}, {\"id\": 98, \"name\": \"persona_98\", \"exam\": 20, \"data\": 2, \"vaccine\": 6, \"certificate\": 3, \"exit\": 1, \"wait\": 12, \"result\": 1, \"total_time\": 32}, {\"id\": 99, \"name\": \"persona_99\", \"exam\": 20, \"data\": 4, \"vaccine\": 8, \"certificate\": 2, \"exit\": 3, \"wait\": 7, \"result\": 1, \"total_time\": 37}, {\"id\": 100, \"name\": \"persona_100\", \"exam\": 20, \"data\": 3, \"vaccine\": 7, \"certificate\": 1, \"exit\": 1, \"wait\": 22, \"result\": 1, \"total_time\": 32}, {\"id\": 101, \"name\": \"persona_101\", \"exam\": 20, \"data\": 2, \"vaccine\": 9, \"certificate\": 3, \"exit\": 2, \"wait\": 17, \"result\": 1, \"total_time\": 36}, {\"id\": 102, \"name\": \"persona_102\", \"exam\": 20, \"data\": 2, \"vaccine\": 5, \"certificate\": 3, \"exit\": 3, \"wait\": 14, \"result\": 1, \"total_time\": 33}, {\"id\": 103, \"name\": \"persona_103\", \"exam\": 20, \"data\": 4, \"vaccine\": 5, \"certificate\": 2, \"exit\": 2, \"wait\": 11, \"result\": 1, \"total_time\": 33}, {\"id\": 104, \"name\": \"persona_104\", \"exam\": 20, \"data\": 3, \"vaccine\": 5, \"certificate\": 1, \"exit\": 3, \"wait\": 6, \"result\": 1, \"total_time\": 32}, {\"id\": 105, \"name\": \"persona_105\", \"exam\": 20, \"data\": 3, \"vaccine\": 6, \"certificate\": 2, \"exit\": 5, \"wait\": 23, \"result\": 1, \"total_time\": 36}, {\"id\": 106, \"name\": \"persona_106\", \"exam\": 20, \"data\": 3, \"vaccine\": 6, \"certificate\": 3, \"exit\": 5, \"wait\": 20, \"result\": 1, \"total_time\": 37}, {\"id\": 107, \"name\": \"persona_107\", \"exam\": 20, \"data\": 4, \"vaccine\": 9, \"certificate\": 2, \"exit\": 3, \"wait\": 15, \"result\": 1, \"total_time\": 38}, {\"id\": 108, \"name\": \"persona_108\", \"exam\": 20, \"data\": 3, \"vaccine\": 7, \"certificate\": 1, \"exit\": 4, \"wait\": 11, \"result\": 1, \"total_time\": 35}, {\"id\": 109, \"name\": \"persona_109\", \"exam\": 20, \"data\": 4, \"vaccine\": 10, \"certificate\": 1, \"exit\": 1, \"wait\": 7, \"result\": 1, \"total_time\": 36}, {\"id\": 110, \"name\": \"persona_110\", \"exam\": 20, \"data\": 2, \"vaccine\": 8, \"certificate\": 1, \"exit\": 1, \"wait\": 22, \"result\": 1, \"total_time\": 32}, {\"id\": 111, \"name\": \"persona_111\", \"exam\": 20, \"data\": 2, \"vaccine\": 10, \"certificate\": 2, \"exit\": 3, \"wait\": 19, \"result\": 1, \"total_time\": 37}, {\"id\": 112, \"name\": \"persona_112\", \"exam\": 20, \"data\": 3, \"vaccine\": 7, \"certificate\": 1, \"exit\": 4, \"wait\": 15, \"result\": 1, \"total_time\": 35}, {\"id\": 113, \"name\": \"persona_113\", \"exam\": 20, \"data\": 2, \"vaccine\": 5, \"certificate\": 2, \"exit\": 2, \"wait\": 12, \"result\": 1, \"total_time\": 31}, {\"id\": 114, \"name\": \"persona_114\", \"exam\": 20, \"data\": 4, \"vaccine\": 7, \"certificate\": 2, \"exit\": 4, \"wait\": 8, \"result\": 1, \"total_time\": 37}, {\"id\": 115, \"name\": \"persona_115\", \"exam\": 20, \"data\": 2, \"vaccine\": 6, \"certificate\": 2, \"exit\": 2, \"wait\": 23, \"result\": 1, \"total_time\": 32}, {\"id\": 116, \"name\": \"persona_116\", \"exam\": 20, \"data\": 4, \"vaccine\": 5, \"certificate\": 1, \"exit\": 1, \"wait\": 18, \"result\": 1, \"total_time\": 31}, {\"id\": 117, \"name\": \"persona_117\", \"exam\": 20, \"data\": 3, \"vaccine\": 10, \"certificate\": 1, \"exit\": 1, \"wait\": 14, \"result\": 1, \"total_time\": 35}, {\"id\": 118, \"name\": \"persona_118\", \"exam\": 20, \"data\": 3, \"vaccine\": 6, \"certificate\": 3, \"exit\": 2, \"wait\": 11, \"result\": 1, \"total_time\": 34}, {\"id\": 119, \"name\": \"persona_119\", \"exam\": 20, \"data\": 4, \"vaccine\": 9, \"certificate\": 1, \"exit\": 1, \"wait\": 7, \"result\": 1, \"total_time\": 35}, {\"id\": 120, \"name\": \"persona_120\", \"exam\": 20, \"data\": 4, \"vaccine\": 7, \"certificate\": 2, \"exit\": 5, \"wait\": 23, \"result\": 1, \"total_time\": 38}, {\"id\": 121, \"name\": \"persona_121\", \"exam\": 20, \"data\": 4, \"vaccine\": 10, \"certificate\": 1, \"exit\": 1, \"wait\": 18, \"result\": 1, \"total_time\": 36}, {\"id\": 122, \"name\": \"persona_122\", \"exam\": 20, \"data\": 2, \"vaccine\": 10, \"certificate\": 3, \"exit\": 2, \"wait\": 14, \"result\": 1, \"total_time\": 37}, {\"id\": 123, \"name\": \"persona_123\", \"exam\": 20, \"data\": 2, \"vaccine\": 8, \"certificate\": 1, \"exit\": 2, \"wait\": 10, \"result\": 1, \"total_time\": 33}, {\"id\": 124, \"name\": \"persona_124\", \"exam\": 20, \"data\": 3, \"vaccine\": 6, \"certificate\": 3, \"exit\": 5, \"wait\": 7, \"result\": 1, \"total_time\": 37}]}}, {\"mode\": \"vega-lite\"});\n",
       "</script>"
      ],
      "text/plain": [
       "alt.VConcatChart(...)"
      ]
     },
     "execution_count": 35,
     "metadata": {},
     "output_type": "execute_result"
    }
   ],
   "source": [
    "(alt.Chart(df_data_simulation).mark_trail(color='lightgrey').encode(\n",
    "    x=alt.X('name',sort=alt.EncodingSortField(field=\"id\", op=\"count\", order='ascending')),\n",
    "    y='wait'\n",
    ")+alt.Chart(df_data_simulation).mark_circle(color='red').encode(\n",
    "    x=alt.X('name',sort=alt.EncodingSortField(field=\"id\", op=\"count\", order='ascending')),\n",
    "    y='wait'\n",
    ").properties(title='tiempo de espera de los ciudadanos - Recinto UPS'\n",
    "))&alt.Chart(df_data_simulation).mark_bar().encode(\n",
    "    x=alt.X('name',sort=alt.EncodingSortField(field=\"id\", op=\"count\", order='ascending')),\n",
    "    y='wait',\n",
    "    color=alt.condition(\n",
    "            alt.datum.wait == max(df_data_simulation['wait']),\n",
    "            alt.value('red'),    \n",
    "            alt.value('lightgrey')\n",
    "            )\n",
    ").properties(title='tiempo de espera de los ciudadanos - Recinto UPS')"
   ]
  },
  {
   "cell_type": "markdown",
   "id": "efe6c028",
   "metadata": {},
   "source": [
    "# Conclusiones\n",
    "\n",
    "Tomando en cuenta todo lo realizado en este informe, hemos visto como las regresiones nos permiten tratar de predecir tendendicas, sin embargo, no es la mejor opción de todas ya que actualmente se tienen muchas más técnicas que pueden ser de más utilidad. Por otro lado también podemos notar que los scrping son muy importantes para la extracción de información. Por otro lado nos damos cuenta que la simulación es una herramienta muy poderosa para poder predecir lo que podría pasar en un evento o en una acción. Es importante recalcar que la simulación debe ir acompañada de buenas gráficas con el fin de entender de mejor manera el comportamiento de la simulación."
   ]
  },
  {
   "cell_type": "markdown",
   "id": "c35ed000",
   "metadata": {},
   "source": [
    "# Anexos"
   ]
  },
  {
   "cell_type": "markdown",
   "id": "d64730fb",
   "metadata": {},
   "source": [
    "<img src=\"data:image/png;base64,iVBORw0KGgoAAAANSUhEUgAAB/4AAANICAYAAADO1kcnAAAgAElEQVR4XuzdCZxe1X3f/59GEtqFxICQgqCAhBZqLBMhIITiUOPEAQolLLYJOA6htoNxcRpjAR2cscFgFepkYlUmLmA3yEuwXWwVatcQk1LAIDYDKhJCCjaSigQaS2hfZ/6v75Hu/O88PMtdzl2e5/nc12teiJm7nPM+d/+d87tD+vv7+40JAQQQQAABBBBAAAEEEEAAAQQQQAABBBBAAAEEEEAAAQQQQAABBJpSYAiB/6ZsNwqNAAIIIIAAAggggAACCCCAAAIIIIAAAggggAACCCCAAAIIIICAEyDwz46AAAIIIIAAAggggAACCCCAAAIIIIAAAggggAACCCCAAAIIIIBAEwsQ+G/ixqPoCCCAAAIIIIAAAggggAACCCCAAAIIIIAAAggggAACCCCAAAIIEPhnH0AAAQQQQAABBBBAAAEEEEAAAQQQQAABBBBAAAEEEEAAAQQQQKCJBQj8N3HjUXQEEEAAAQQQQAABBBBAAAEEEEAAAQQQQAABBBBAAAEEEEAAAQQI/LMPIIAAAggggAACCCCAAAIIINCiAlu2bLH+/n479NBDB9Vw1apV9vOf/9wmTpxol156aaLaa721piFDhiRaZzMtVFl/n3Xes2eP7dy500aOHGkjRozInCWoS2Ud9Pvw76LUef/+/fbP//zPtm7dOpsyZYrNmDFj0DoyrwwbQAABBBBAAAEEEEAAAQTaVIDAf5s2PNVGAAEEEEAAAQQQQAABBFpV4LbbbrP/+B//oy1cuNA+/elPt2o1I9UrCNru3r3bDjnkELfMvn377LTTTrPXXnvNHn/8cXvve98baV2VM5199tn2T//0T1WXXbp0qc2bNy/RepMslHebq9PEBz7wgXcV9fjjj7evfOUriTtTBCv8L//lv9i1115rX/ziF+0LX/hCQ5Kf/vSntnbtWrvooouss7Oz4fzhGX7zm98MLLN9+3YbPXq0+7O2e8stt9hf/uVf2p133unK0t3dPWjdf/iHf+jq+rGPfcyGDh1q//f//l+7/PLL7aWXXhqY77d/+7dt8eLFNnv27FjlYmYEEEAAAQQQQAABBBBAAIF4AgT+43kxNwIIIIAAAggggAACCCCAQMkFvvzlL1tXV5f97d/+rX3mM58peWmzLd6///f/3nbt2mWLFi2yYcOGuY0tX77cvvvd79of//Ef28yZMxMX4KyzzrL/83/+j/3e7/2eTZ06ddB6/uqv/sqmT5+eeN1xF8y7zf/xH//RzjnnHBs3btxAkH/NmjX28MMPu6L/4he/sNNPPz1uNQbmV8eC733ve/Zv/s2/cT+NpgsuuMD+x//4H/b888/bySef3Gj2QX8PB/63bdtmY8aMcX8PAv//4T/8B/vP//k/u6C/gv8nnniiq1tvb6/9+Mc/dvMGx9q0adPcaH8F/xXwl8f/+l//y+0fr7/++sA+GKuAzIwAAggggAACCCCAAAIIIBBJgMB/JCZmQgABBBBAAAEEEEAAAQSaW2Dv3r1uhPK/+Bf/wt7znvfYd77zHReE+4u/+Au74oorbNmyZXbNNdfY7//+79tbb71lTz31lGnU9qZNm+ymm26yBx980N555x173/veZwqy/qt/9a8ciJbT359++mmbM2eOffCDH3TBdqUoX716td144432v//3/7bJkyfbv/23/9Zuvvlmt923337bvv71r9sPf/hDF5h+//vfb/PnzzcFDjU99NBDduutt7oRxEcccYQbyfylL31pYDRyuDU00lnBSQVb/+W//Jc2adIku++++waCkfXKEV7PN77xDTcy+bzzznNl0fSnf/qnrh49PT3W19fnyv/cc885xzPPPNNuuOEGtz2NoldwVK4KnsrxyiuvtDPOOMO++c1vuh+5aHT0xo0b7Y/+6I/s6KOPtm9/+9v2gx/8wDTC+9xzz7VnnnnGrV9tJbvjjjvONFpfo8j/+3//76YgrUbrf/jDHx4IONdrgw996EO2Y8cOl9Zf7vVcG5Wj8ggIAv9at0b/V5tqlU2jw1VH7Sc/+9nP3KJf/epX7Uc/+pELLmt96pwgF2Um0L71r//1v7bPfe5zrh6N2rzRfquyH3XUUa4N1SlCAew4HRWCwL86PTz66KMDVf+d3/kdd+yoLjq26u179fYZtfXf/M3f2FVXXWUf//jH3b6hjA0q93/7b//NdTjQ76+++mr7T//pP7ljZevWrfa7v/u7bj+cO3eu/fVf/7V961vfsldeecUF4T/5yU/av/t3/+5daffjBv7VqUaZADRpW2qTCy+80P7rf/2v7ljQpHPF+PHjTRkElHVDny1QeX7rt36ruU+klB4BBBBAAAEEEEAAAQQQKLEAgf8SNw5FQwABBBBAAAEEEEAAAQR8CSh4rCCrJgUNFUzXyFxNGpE7duxYFzQMJo3QfeONN1xAXqO6FdA74YQT7IknnnCzvPjii+773QrUK+CojgC//OUv3b8VNFeAfNasWS5Aq+Co1qXt/fmf/7kLtKqTgQL/Co6rU4JGNyt4qMBvOI26gr0Khmu9Cprff//9g0gUPFVQWMFN1Uvfstc2NWkUsgKn9coRXpm2c+qpp7rRySrvhg0bXB21XnWGULBf/1UnBG1D8yv4qqB+MBpaTppPf9P05ptvmjoUaAS8ArnXXXed/b//9/9c0FnfPn/11Vfta1/7mmlkvialilenCNVXHQVUh3vuuccFePU3tZE6NWhatWqVC67WagN1Fgin+lda/yA9fTXXRuWo3BeDwL/SvasTQzDp3woOqx61yqbgfrA/Bt+NV4BY+4baWJ8fULvJXvuFOgfIXkFvjSav1+ZKkV9vv9W6K79lr84FSQL/+pyBOnuoDton5Krpsccec8H2evtevX1GHWLCqf7D5dV6NbJf07p161ynBa1LPsoOINslS5YMpOX/gz/4A3eMa5KvjsHwlDTwrw4lajN1LviTP/kTdxyog4/KoXb7yEc+4jpWKDMCAX9fZ3LWgwACCCCAAAIIIIAAAgjUFiDwz96BAAIIIIAAAggggAACCLSBQDjwv2LFChfE17e7FYxW8P1Tn/rUQOBfgVcFtxXIV2AzCHwrUPv5z3/e7rjjDjdyWMFXBScViNXIda1Xfz/22GNdR4DLLrvM/VfBWqUFD775vmXLFpc5QB0BtLyClQoWjhgxwmUFuPjii13a8iBQrhHy6qig6Ve/+pULrAeTOiIouKiAu4Lo6sCgoLrWp6C5ApH1yqG6hSelvl+5cqX7RrlG3mvEvzoyXH/99S4Af/jhhzsnZQbQKGv9WwF1BeAVrFcHBH3LXIFYBWeVDUFB6yiBfzlo1P2vf/1r1ylAdVLnA1koPb+C2erooICqgsyPPPKIM6/VBqp/OPB/ySWX1HVVsFgdEGqVo/IwCQL/lb9XYF0dQ4Lv1FfbP7QP1Qv8q/4KViuDg4LG6kiibAVyVFaJem2uUff19lt1xAhcFCRXZwx1GAlPGnGvThvBpI4q4eB7MOK/2qnjs5/9rBvd/v3vf7/uvqf9tNY+o32vWuBf+7uySHzsYx9zHUDuvfdet4+GU/3LP/isg9ajjgLK2KF2VacWfZIgPMUN/GtZHTcqezAFnxhQu6szQNBBKPi7OgYoI8Dw4cPb4GxLFRFAAAEEEEAAAQQQQACBYgQI/BfjzlYRQAABBBBAAAEEEEAAgVwFgsB/EEzWxn/605+aRmsrOK/R4Qpi698araxJo/A/+tGPDozE1+8UfD3//PPdfAquKqV5EKAPV0jpx4N0+ZUV1ehqpeVX8DKYFEhUkFyp84PvhIe/V67U5fp/pVVXBoFgUgBeHReC4LJ+r7T/Crwq8K0U4/XKUTnKO0hdrvKrjA888IDrBKAAtIL/qm94kplGXKtDgKZg9Hp4Hn2iIBz41yhtBWArR/wvWLDAdZxQxwgFomWifyuYqs4L6pAQnvT99J/85Cc120DzhgP/6pCgzha1XF9++WUX+K9Vjsp2DAL/6pigTgnBpDT+o0ePdh1Lau0f4Y4ogVmQBUIdTzRK/I//+I9d/cKTvjuvTiv12lydROrtt9q/AxftH0EHhPB29KmBf/qnfxr4lbJSBMF0/TII/CsLg/Y3/f3JJ590wX5NSnG/cOHCmvueMkIEHWGq7TNBpwl1TFCdg/Lu37/fOjo63GcgdMzeddddLoV/OPCv+gcZGPR5Ci2rTx8cdthhrmyy12cDgkkBfHVc0aRONp2dne7fSuGv40HH5O233z6Q1UL7ro4Huek8oCwHJ5988qB2UkcffSpE7adMEprUUUGfFWFCAAEEEEAAAQQQQAABBBDIRoDAfzaurBUBBBBAAAEEEEAAAQQQKJVAONCq0eNKQa7guIKWCpprlK6C2EG6fRVeAVIFdMOjhBUUViBQy+j78QreK7CuIKRGoSvIp/kVuNYoXwUFNSpZkwLeCnJqRLKCggo4KpCpAKuCpJo0gl3ZB/S7IFC4a9cuGzVqlPt7MKI+wA06IgSjzPV7ZQ1QMF6B/3rlUFr/yhHIQRp+rU8Bf42W1qhpBbcVXNXv9e15zaeR5zLTpxCOOeYYV38FWCdMmODSnqsu+hSARlsroK8OABq5rgwBCphWBv7vvPNOFyyvDPwrs4LKIlsFvM877zw3olqBf41Kr9UG+lRAOPCvlO/1XJVBQIH/WuWo3KGDwL8+zaBAeeWk9qtVNgX5g0C62lfZHn7/93/f1UmB/6efftoFneWnzAp33323CzwrCK52U+eTWm0ur3r7rbJTBC7Vgu6qx1NPPeXaMpi0r1cb8a9OKOqMoknZGBRc136tfWbZsmU1jwEF/dXBpdY+I9NqI/6D8tYL/J944okDnRnU0eO4445znRK0rwadSSrbKuhso/0j6MQRdH7QpwzUkSL4NIE+43DLLbe8q73VcUTbUKcD/VsdFDR94hOfcKP9leVBnQmYEEAAAQQQQAABBBBAAAEEshEg8J+NK2tFAAEEEEAAAQQQQAABBEolEA78n3766XbKKacMBNsVyFbgujLwr2UURFTwUJkBgs4Cqtj//J//0wVgg5HuX/7yl13QVoFD/VsdAxRw1KTA7fr16932FEhXUDf4RruC4VqvgpxKz7969WrX4UDpyxWkVIBYgXIFuhUsVUA2CChq3QrOKvW/gq1KZa4OAgoca1LgX7+rVQ6Nug6vK2iwc889d2CkefBNdI1c1u9lp44P6uigsuj/lRkg+ASCnOSikdqaVC6ZqByqjwKoSjWvKWrgP8h2oLJs27bNbUuTUuHrb7XaQBkUwoF/BXDruWqUeZLAv+oRfIohMFS6ewWO65Ut6NCgDhQaMR+MsFf7KXCuTibqBKK0/vouvSwVdFZnlXptrkBzvf1WbdQo8N/o4A1G/IcD/1pGI+HVOUWdAfTJi3r7nvYjBcOr7TP6PEacwP8f/dEfuewUcv+Lv/gL10FC65CDOsL8/d//vetkEHTSqazf1Vdf7T5loYwg+pSEjkN1qtG0atUq10mhUeBf5wtl0NB2lAnh0ksvdZ1Yvv71r7v1hDNNNPLl7wgggAACCCCAAAIIIIAAAvEFCPzHN2MJBBBAAAEEEEAAAQQQQKDpBMKBf4021yh1TQr0auS/RuDr2+jhEf/6u0bu6tvw4TTzGomt4KumIGtAAHLxxRe7gOOYMWNc4PCqq65yAX1NCkIqFbr+q+/ea0R6eL3BiGBlAVDgPDyqWB0GtKwCipWTRqor8Bl8c1xBdo3Q1wh5BU/rlaNaQwbfZtffgtTnGs2tAHUQnNZI9G9961sumP+rX/3KbVsZATQyX5N+/4Mf/MCNYlc6ebkEaes1al+j4SsD/4FrkHo9GJ39ox/9yI2c1++VTeGkk05y61IgVp8QqNcGSuGu5dT+SsFfz1Ve2h9qlaPSqjIdfvjv6uShLBKN9g+N3NekgLP2C/nK/33ve58pQ4E6nWhSRxJ1XFDnFHUEadTmjfbbtIF/jcj/wAc+4DJaqBNAMAWdRtQuap96+96vf/3rmvtMkOo/yBJRWV516lD6/SDVvzrvyEiTsl3oGFfGDR0HwaT9TkF4HZuV044dO1x2heBTBcE+rE4YynagSfuO6qSsFSpXtUlZLtTxIji/BG2r/UEdAZgQQAABBBBAAAEEEEAAAQSyEyDwn50ta0YAAQQQQAABBBBAAAEESiMQBP4VYN2wYYNLVa8AoFLhN5qUXlyjeDV6VyN/K7+Jru+ZK0A7ZcqUgRHewToVMNfoYY3EVwrwcLp0zaPPDmgejeAOvjMeLKtgpJbVN8d/67d+q24xVT8F4DXKWmnjK6dG5WhkEPxdDipnZVn1dzmtWbPGfd9d36EPfxNefw9Sx0+cODHq5gbm27Nnj73xxhvOv9JQM9Vrg8qNxXGNXdAqC9Qrmzp5aH/UflnpJU+1v/aNyk8yaDON2rzRfuujblHWUW/fa7TPRFl/MI86mMhax3Tg1dvb6z6xoYwe+gRFo0nreO2119xx3OiYq7eut99+232GQp1XdNxXtm2jcvB3BBBAAAEEEEAAAQQQQACB+AIE/uObsQQCCCCAAAIIIIAAAggg0HQClYH/pqsABUYAAQQQQAABBBBAAAEEEEAAAQQQqClA4J+dAwEEEEAAAQQQQAABBBBoAwGNOlbKfo02/+Y3v9kGNaaKCCCAAAIIIIAAAggggAACCCCAQPsIEPhvn7ampggggAACCCCAAAIIIIAAAggggAACCCCAAAIIIIAAAggggAACLShA4L8FG5UqIYAAAggggAACCCCAAAIIIIAAAggggAACCCCAAAIIIIAAAgi0jwCB//Zpa2qKAAIIIIAAAggggAACCCCAAAIIIIAAAggggAACCCCAAAIIINCCAgT+W7BRqRICCCCAAAIIIIAAAggggAACCCCAAAIIIIAAAggggAACCCCAQPsIEPhvn7ampggggAACCCCAAAIIIIAAAggggAACCCCAAAIIIIAAAggggAACLSiQS+B/3759tmnTJjviiCMGCLdv326jRo2yjo6OFmSlSggggAACCCCAAAIIIIAAAggggAACCCCAAAIIIIAAAggggAACCOQjkEvg/y//8i/t5Zdftp/97Ge2ceNGu/zyy23YsGH261//2q6//nr7+Mc/nk9ti9jKAw+YvfjigS3PmWN20UVFlIJtIoAAAggggAACCCCAAAIIIDBYgOdV9ggEEEAAAQQQQAABBBBAAAEEWkYg88D/kiVL7K677jKN+lfg/ytf+Ypt3brVvvzlL9v69ettypQpptH/o0ePbhnUgYroJcq99w6u11VXEfxvvZamRggggAACCCCAAAIIIIBAcwnwvNpc7UVpEUAAAQQQQAABBBBAAAEEEGggkGng/5//+Z/tU5/6lHV1ddmtt97qAv9XX321nXPOOfaRj3zE+vv7Xar/1atX2/HHH996jdXdbf3PPms7duxwdRszZozZ3Llm3d2tV1dqhAACCCCAAAIIIIAAAggg0DwCei597jnXEZ/n1eZpNkqKAAIIIIAAAggggAACCCCAQC2BzAL/u3btsrPPPtvuuece27x5s3V3d7vA/2WXXeZ+LrnkElemI4880p5++mk79thj7fHHH7cnnnhiUFmPOOII+73f+72mbMGJPT02/KWXXAcHTerksOekk2zTddc1ZX0oNAIIIIAAAggggAACCCCAQGsI8LzaGu1ILRBAAAEEEEAAAQQQQAABBNpToNqg+swC/wry/8Ef/IHNmzfP3nnnHVu5cqV94hOfsKOOOsrGjx9vn/3sZ23//v02ceJE1zFAQfFq04IFC2z+/PlN2WK7vvc923vXXQNlHzFihB3yqU+R6r8pW5NCI4AAAggggAACCCCAAAKtI7D3/vtt16JFAxXSM/moT3/aOi6+uHUqSU0QQAABBBBAAAEEEEAAAQQQaEEBZd3PNfCv9Pbr1q1zlL/85S/tq1/9qn3/+9+3559/3hYuXOhG/+v/9ftf/OIXNcmbNfCvTg36hMHIn/zExr/+uu3Zs8f2n3SSTfnzP2/B3YsqIYAAAggggAACCCCAAAIINJPAqlWr7JCHHrLOtWtt7969tuW442zkRz9qkyZNaqZqUFYEEEAAAQQQQAABBBBAAAEE2k4g98B/WHjp0qXW1dXlgv07d+60c88911555RX374cffthOO+20mg3SrIH/N99803p7e23kyJE2ffp0W7Zsmavj7NmzbejQoW23A1JhBBBAAAEEEEAAAQQQQACBcgi89dZbpp/geXX79u32+uuvu2fVGTNm8MxajmaiFAgggAACCCCAAAIIIIAAAghUFSg08F+tRGvWrLHJkyfb8OHD6zZZMwb+g5cmqpiC/nqZ8sYbb9iWLVvcpw70eQMmBBBAwIvAihUHVjNrlpfVsRIEEEAgMwHf5yvf68us4qwYgRYQ4HhL14gl89u1a5dptH/4eVX/VuBfz7Ia8c+o/3RNztIIIIBAKQV8X498r6+UaBQKAQQQQAABBBAop0DpAv9RmZot8B+k+Fdq//ALE43+VxaA8ePH2zHHHBO1+syHAAIIVBdYvdrs1lvNNm488PfDDzfr6jKbNg0xBBBAoFwCvs9XvtdXLi1Kg0C5BDje0rVHSf0U9FfwvzLAHx71P23aNDvkkEPS1Z+lEUAAAQTKIeD7euR7feVQohQIIIAAAggggEBTCRD4z6m5KlP8B5tVR4CVK1e6lIlK98+EAAIIpBLo6TF75BHbt2+fW82wYcPMzjnH7LrrUq2WhRFAAAHvAqHzlTpIatp71lm24xOfSLSp0d/4hg1/7DG3rO6rOP8lYmQhBKIJcL8RzanWXCX0q0zxX1n0tWvX2ubNm23ChAk2derUdPVnaQQQQACBcghwP16OdqAUCCCAAAIIIICARwEC/x4xa62qWor/8LzByIrjjjvOxowZk0OJ2AQCCLSsQFeX9b3wgkvHqkmfFBl+yikHsgAwIYAAAmUSqDhfqWi7Zs60DZ/5TKJSHvm1r9nIV18dWFb3VB0nn8z5L5EmCyHQQKCry/p/+Uvbtm2bm5HjLeYe09Vle5991o2uL8P9Wq0U/+FaBR3W9bsZM2Yw6j9mkzM7AgggUEqBiuuR7/tx3keUstUpFAIIIIAAAgi0uACB/4wbuFaK//Bmg2wAnZ2dNmXKlIxLxOoRQKClBXp6bPdDD5lezgbTyPPPt+Gf+1xLV5vKIYBAEwr09Nj2H//Y+vr63Oj8jo4OLyP+de+lH6WiHnHeeWQ8acJdgyI3gUBPj+39yU8GAtccb/HabO+dd9quBx8ctFCR92u1UvxX1opR//HambkRQACBsguEr0fBZ1x8ZeAK3kkUeX0ruz/lQwABBBBAAAEEshAg8J+FamidtVL8hzcbjLDQTbZGTzAhgAACSQX2r1xp2+bPt45Nm1yq6z3jxlnvNdfYUWed5Ub/MyGAAAJlEehdutSG3nabDd+y5UDGo8MPN+vqMps2LVkRD35TtO+tt1zWk76JE23sggU2lHurZJ4shUA9gdWrbfsNN1jf22+7uTjeou8uevZb99hj1rlokY08mKFp15gxhd2vNUrxH66ZgjirV692navIVhe9zZkTAQQQKKNA5fXIvS/wdD9uGze6zoFFXt/KaE6ZEEAAAQQQQACBPAQI/Geo3CjFf3jTy5cvdy9QSJuYYYOwagTaQGDTpk22bt06m7Bhg0096ihbO3as+x6rOgHo/KL/MiGAAAJFC4TTSp/Q12cjDjnEbNYsP8VascLWrltnm4880o466iibOHGin/WyFgQQGBDQc4ueX0a8/rqNGj2a4y3iviG3lStXuue+CRMm2NSDn0oo6n4tSor/yqoFHQXUYUvBfyYEEEAAgeYTqHU98nk/LpWirm/N1yKUGAEEEEAAAQQQ8CdA4N+f5aA1RUnxH14gSJuoVP9K+c+EAAIIJBHQy2SNxjrmmGNs/PjxbhVB+lb14NcLWoL/SWRZBgEEfApETSuddJtbtmyxN954w6X7J5tSUkWWQ6C2QNDRUPcaCmBzvDXeW/R8+Prrr7sRkLonmz59+qCFirhfS3IuDgeLGPXfuN2ZAwEEECibQKPrke/yFnF9810H1ocAAggggAACCDSTAIH/jForSor/8KaDl2elGTnxwANmL754oIhz5phddFFGUqwWAQR8CQSBruHDh9vMmTMHVpv3g72v+rTMetrtfNpu9W2ZHTW/isRJK52mVK+++qrt3bt3UEeoNOtj2RIIcH4pQSMcKIIC/brvCLJqcLw1bppGgY+879fSnIsZ9d+4vZmjZAJlv36UvXwla06Kk06g0fUo3drfvXTe17eG5ed4a0jEDAh4E+B480bJihBoegHOB7k2IYH/DLjjpPgPNh+ky9T/z549u9gRuToI7713sMxVVxH8z2BfYZUI+BTQKDKdf6qltg6PzlLaa83DlINAu51P262+OexCrbaJJGmlkxqUrlNl0oqw3AEBzi+l2ROqPbdwvNVvHn2GSUaNPr2U1/1a2nOxyqnAkTpX8UmV0hyaFKSWQNmvH2UvH3tWSwlEvR75rnRe17eG5eZ4a0jEDAh4E+B480bJihBoegHOB7k3IYF/z+RxU/yHNx8E7cIpuj0XL9rqurvNnnvOBRA1KQuBzZ1rpt8zIYBAKQWCF7j1XihrHp1ndJ4i+J9TM3Z3W98zz9jOnTvb43za3W39zz5rO3bsaI/65rQbtdJmkqSVTlr/8AtGpdRWam2m5hXYf/PNtu/pp23fvn2uEsOGDbNhp51mQ2+5pXkr1aQlD6f513OLJo632o0ZDrIoNX6jc1Ee92s+zsXBfsAnVZr0QG6nYpf9/UZF+UaNGmUd8+bx/qWd9tGc6hr3euS7WHlc3xqWud2ezxuCMAMC2QlUPr+NHj3ahpxyCte37MhZMwLlFah4X8z9bvZNReDfs3HcFP/hzff29pqW13cyp06d6rlkMVbX3W37ly4dCNzoQNSLVY1toQMAACAASURBVAL/MQyZFYGcBdauXWubN2+2SZMmuZ9aU3iEFyO0sm+kXfPn276lS62/v99tTC/HR5xxRuueT7u7bfeTT9qePXvao77Z70IttYU0aaWTQgTbLPzeKmkF2nw5BZO3bt3qRkqPueMOG/XKK4NEdp54om2//nrXmW3cuHHFZsxqo7aqTPMfVJ3j7d07QRAc11/idEDK8n7N57k4+MQD95RtdAJoxqqW/f60onxDhgyxYaeeaiMXLGhGbcpcUoGk1yPf1cny+halrLtuuMF1JA2ez3nfGUWNeRCILlDv+a2jo8PGnHVW674Pi87EnAi0n0B3t21/7DHr6+tzded+N/tdgMC/R+MkKf7Dm1egZOXKle6lpdL9FzY98IDtWrTIpW7UpPKMvvZaUv0X1iBsGIH6AsG5Q3PNmDHDBZfrTeGHfl7UZrN36WFn/fr1tv8HP7CJDzzgzqP6naaR11xjwy+7LJsNF7zWXd/7nu29665BpWjl+hbM3VSbT5tWOmll454fk26H5fwK6J5andn0Dfng3Dnh0Uft8CVLbPjw4W5juk/deMEFtvnsswfuV8ePH+860LpsVUyZCNT7PBnH22DytPdbaZevtgP4PheHR/1PmzaNzjeZHHWsNK3A3vvvd+83wlOZ7k/D5VM2G2W22XTRRTb0kkts8uTJHFdpdwCWdx0oNdpfUxme/4soT+XzuQKQCj7wvpMDBAE/AvWe33Rt0z2oOtzsvfJKO+zP/szPRlkLAgg0jcBv7rnHht9334GA/7Bh7n0O97vZNh+Bf0++aVL8h4sQjJqIMyLEUxUGVqO6rFu40Ea++qrpZnjHCSfYpE9+smFaSt/lYH0IIBBNIMkIu7L0+I9Ww+aaSw80ysCg/+pFwtHPPWdjV62ybdu22W+OPtr2nHeeG/XXalNwHRz5k59Y59q17qGulevbau2XdX18pJVOWsaoGVGSrp/l/AgoaKxgv36CrCFas4L4CuYrqD90yRKzF188sME5c2z/BRe4zgFaJvhElf6kDnBaRj+NOsP5KX37rKVamv9w7TneDmj4GtHo+34ti3Nx8Lm6Rlmn2ucooaZlE9B+f8hDD7n7U029U6eW6n48XD5d87ZNn25r5s51Hd/0aRBlg2z0iZCymVOe8gj4uh75rpHv61u98lV7Ph+zcqX1/uY3vO/03bCsr60E4jy/qVPb+iOPdJ22+fRoW+0mVBYB1/lQ130N5pi8YYML/HO/m/2OQeDfk3GaFP/hIgTr6ezstClTpngqXbzVBDfgeujUj4KKpMiNZ8jcCOQlkOabusHLeQWno3xzNq86NfN2dP50I/2rvKjT7/RiT70aW/HleOV1sNXr28z7ad5l95lWOknZgxeeOtcpK4r+y1QOgXAqyHDgXqP69UIoTuA+ePGk83CQtUq11L0snwLw19610vwHW+B4OxD0VzBc+7ePZyhf92tZnYuDrHecY/0dZ6zJn0C1/T6LDjBJS1zruKwMVGrkv65lTAjEEfB9PYqz7Sjz+rq+1dtWvefzJAMootSLeRBoZYE0z29l7YjUyu1F3RAoWqBeRz/ud7NtHQL/HnzTpvgPF0GjlvRCTT26ixoRGjwIKwWYXpbq8wOaoqQQ98DJKhBAIIZAuKOOgvdxp/DDNgGxuHr///xB6kC1hya96FfnrcoAo8/rRfLS+l+yVr1atb7+BVt3jb7TSieVCkakliG9adI61FxuxYoDf5o1y/uqvaywSvmqpYLU+XLcuHEusJE2Vb/Wr/Px1q1bBz4VoPVX/RRA2f28NIKfldRL8x/eQksfbw0owx0yfQT9g82lvV/L+lzcMqP+OR/4OVmUZC219vusj4eo1W9UDp1P1LFWWW006fpI6v+ouiWcL+fzS1bXI9+yaa9vtcoT5fm8rT5RlPP+53s/YX05C2T4/FbEpz5y1vO/uXY7ftutvv73mNKsMcrxXrr73bLvfzHKR+A/5aHgK8V/uBjLly93LymLCLQHN756OTp79mxXLFJ2ptxJWByBDAXUMUfH7THHHOMCGkmmoLOPOhyp8wCjYeMpxu2h6CtDTLxSZjd3o+tgq9U3O8nWXHNZRtUFHSuV9l33Vy0xrV5tduutZhs3HqjO4YebdXWZTZtWjupVlK9v4kTbdO211jthQu1U/p6zMej8VOtTAJ2bN9vEhQut42CHrdL5laMVB5WiUZr/YOaWPN4itIf2NwXAdV+QRSfuNPdrWZ+Lw6P+p02b1nyf2Cj7+TTC/scs7xaot99nlQEjTjtEPS7rjViOsz3mLUiggPNL1tcj35Jprm/VyhLn+bzl33cWsP/53j9YX44COT2/5fmpjxz1/G+q3Y7fdquv/z2mVGuMm+Gj8Pvdsu9/CcpH4D/lIZFFQKNRCs2URa67eFCf8AgVUnZmKc66EUguELxYV0rkmTNnJl5Rs70YSFzRDBZMcmPSainwG10HW62+GexGLbvKMrxUD+O++uqrLgV8mo5SpWqsnh6zRx4xfS+xv7/ffSdtyAc/aHbddeUoZk+P9T/8sCuf3HUu2Hb66dZ7xRWWJJV/2kpVfgqgc/FiG/vUU66zmzqEyM/OOac8fmkrnMHycZ5RWu54i+DpO3BRucmk92t5nYuD4InPTAcR2P3MEjpfDRkyhPOBH9VC1xJlv48aeM+iIlHKF95unEBmFuVlnSkEQucXrSWP+7Wsr0cpNKoumvT6Vm1lcZ/PW/59Z+h5Idj/uN/1vQe30PpyfH7L41MfTd8y7Xb8tlt9m34HrV2BpJ8aKvR+t+zPgwmODwL/KQ6yrFIYRx1Nk6LoNRcNsg3oMwMaqRJM7ZyyMwtn1omADwGfx2U4FaDSSCodNlNtgSipA+v5ZXX9yLvNotYj6nx5l5/tZSfQKH1tdluuvea0n0Yposx1t9nVZX0vvGA6vjQpWNX/3vdax223pU6Vn7auKlPfTTfZkJdecp0SBsp30knWcfvt5SjfjTfakJdfHiif7nuHn3LKgSwKTO8SiJrmP1iw5Y63BvvEunXr3Oclsv7Ofdz7tTzPxc2aMrna+Uqdk0bMm2dDbruNs0ETCkTd76PO55sg6XZLlwrVN0wLrq/m/VCG92t5XY98N1fc61vl9tM8n/t8r+LbJfX6Kp4X9DmtjpNP5n43NWzrraCI57esPvXRMq1Tcfy2/P0p56uW2HXTfmqoiPvdaue/0l0vK44PfSbT5sypez0n8J/wkGqU2jjhat1i4Rdr73nPe9KsKtay9UYPt2vKzliAzIxAjgJZ9EwP98gj+F+7MX31QGw0Uj7H3SnRpuJeB5u9vomQ2nihIkfR1WIPP4BUdnBsyqbq6bHtP/6x9fX1HQj69/cPjKjXCHaNutWP/p3HFIyo17eI9e/wiHq9pMhjhFuseh7s0a1sBLt373aLjjz/fBv+uc/FWk27zBy3Y3LLHW91GjocZNEnk8Kdp7PYP+Lcr+V9Lm6WUf+1zlcdHR3uXKqf3WeeaWO7ujJvzyz2kXZfZ5z9Pu7Iex+2ccpXbXtxRzT7KDPriC5Q734oeN8XZEDyfb+W9/Uoukq0OeNc38JrTPt83tLvO3t6bNeDD7rsW5p0T6773dJkCIu2azBXRgJleH5rtgwlGTVF9dVWHL+aqaXvT3t6bPdDDw18FpDzVa57m5eNFZnBJ24Fap3/gndrei4cc+GF5bleht7/6f5xxIgRDTNWEviPu1ccnD/rAEZw4cszHW2QvnPKlCnW2dn5Lpl2TNmZcPdgMQQyF8jqW3Rxv8GTeUVLtgGfL9qaPQV+3Otgs9e3ZLtiqYtTxEv0qCBB2ZoyFXVFJXuXLrWht91mw7dscSPo+yZOtE3XXmsbDz104OWeFtHf1JlLPYI1GtnnpON669atbqRzkHkgeKl4+Dvv2MSFC61j06YDmzz8cLOuLrNp03wWIfm6Qt9I07Vv15gx1nvNNXbUWWcR6KuiGifNf7B4Kx1vtXa0or5RGuV+rYhzsV6grF692nVkVycInX/KMkU9X6kz1faRI+3Nq6+2/ccea5MnT3bnUKbmEEiy36cNxMeRSVK+autPG+iMU2bmbSwQ9fyiNWV1v1bU9aixTrw5olzfwmv09Xzequ87dy5bZru7umzYO+84tn2HHmojbr3VRuU4yCzeHsDcWQvEOV/l8fzmM1CYtV3e6w8fv+pYvHP06Ja+P92/cqVtmz/fvT9Q8JXzVd57XPrt+e7I4/t+N+r5T++29o4fb/tvusk6Tz01PYyHNVS+/4tyfibwnwA+j5TFeb8oi5K+s91SdibYNVgEgVwEsk6lGn5poJT/vOw8kIll/fr1LrilSUFDdZJKG0TL43qSxU6ZtNxJl8uiDqwzG4Gk6WuzKc2715r1+TOveoSdT+jrsxEa1T9r1sDmdazpfKWgvM5fmnS+Gj9+vDt/pQ3Gaf0a2a8RUuH1q3OBrhmD1r9ixYFyhcqXl1Ok7Rws39qxY12dsk7VHqlMJZspynNCtSK3yvFWqzmKvl+qt/0iz8XBc6zOAwr+Fz0lOV/tP+EEUwdHnRM06bymDgBp7/uKtmj17Sfd75MuF9fT93aKSIUat86tPn+S80sW92tFX498t3OU+vh+Pm/V953BZwymbNnimunN8ePdfXoZrs++9xvWV18g7fkqS9+0n/rIsmxFrjt8/HYedpi1+v1pcB6esGGDjRo1ivNVkTtfgm1n9akhH/e7cc9/u/fssdc6OpxCGbKFNnr/V6u5CPzH3JHjpjaOufqB2YMGVeqGGTNmJF1N5OV6e3vdyw29EFaWgWpTO6XsjAzHjAgUIJBHx6BWGTHgo3l89zCsLFPckfM+6pRmHWmvg81W3zRW7bhsnqPmkvpmlTElaXmSLBfVWcergvMKXoVH5CdJLVuZCi0ot14eqjOB7iGbPSjmu4d6krYt4zJx0/yH69AKx1u1Nok7IjGrdq11vxb1HJFFucLPjEWN+vd1vvI1kjQLZ9b5boE0+72vkfj12iVN+eqtl/0036PB1/klXOo092tluR75boV67yOyeD5vxfedQaf7oFOr2mjlypWlzMrje/9hfQcEsjhfZWWb9FMfWZWn6PVWHr/h5+xWve7r/KR9VnEpvWPgfFX0Xhh9+3l8aijufp/2/JfHs0FU4aTPEAT+owo/8IDZiy/atm3b7DdHH217zjvP9fjIcgpSTeXRsyR8ctWL21pTHgHHLE1rrvtg+7q/z5ljdtFFhRSDjSLQSCDPB9KB77Q++qhN3rDBfZ+5LY6P0Plg2/TptmbuXPdwrNRaU6dO9Z4CutlS4KcN3DdbfRsdk8b1Y4CoTDfG9doteEHarCO7kzoHDz56YAq+8ymnQZ8CWLLE3e8G90P7L7igZip/jYBVwF+dCFplKl2qyZKcX5Kk+Q/2iWY/3gbt2wfbY9++fbb+yCNt89lnu2NA9wZFTpX3a7t377beqVNzeV5t9MyY6ajCiuMjq/NVFgGmIveXVt120mtj2CPpS7Uopj7K1+jeRucC7a+6vzn6ueds7KpVA9fzln+/4ft6mdP5pVqbxrlfK9v1KMqxEGeeau8jsnw+b7X3ncFo4UmTJpl+NJUtK48rlO/jN85O1grzFni+8s1XSEemku5/1Y7fsHer3Z9qsIKeOYcPH24zZ84s7/nK907fAuvLc+Bg5X5feb/r+3kwy2eDqE2f5hmCwH8UZV0E7r3XBX527Njhlhh5zTU2/LLLoiydeJ7gJlfppDs7OxOvp9GC4Rdys2fPrjt7S6bsPNi+gyp+1VUE/xvtOPy9EIG8U9D13n23HbJ4sfu+kl7e6r/WysfHwfNBf3+/6cW5gmObLrrIOi6+2Etq/1o7TbOkwPdVTl/rKeQgDG+U68eAhu/0tVm3bfAg3WyfM/HlXO1TABMefdQOX7LEPWxr0vlv4wUXuOCmJgUSqqbyz7qxcl5/aVJNluT8kjTNf7jZmvV4G7Trhe4PdPzoPmHPFVdY59VX57yHVt9c+H5NZcvrebVW5cOd/DI5z4aOD20r6/OVjxSTpdhRWrQQvq6NvtZTyZzVeiu3E+ynfT/8oU184AF3PR8xYkTbPL95e5+T8/ml3mFZ735NnfK1b5XteuT7NBO+vqnOWT6ft9L7zuC9kc4DGkwWjBbO/Pocdwcoyf1u3GKXZv4Sna98mUT51IevbblOJ/feO3h1JXjfWev4rXXdb4VPU1V7Xizd+crbjtc6K8r1eD3IVu1+V/cH6gzp+/1VXvfwtfaItNsn8B/hWNt/88227+mn3Q2mbqo1smnEGWeYdXdHWDr5LEFvJ40yzTK7QNDBQJ0L1Mmg0dRyKTu7u63vmWds586druqjR4+2Iaecknn7NnLm7whUE4iancObXne3bX/sMevr67OOjg436n/YaafZ0Ftu8baJUq0odD5QndXRQfUd+ZWvZF7MtCPpsy5g2hT/leUre32jeAb3B7rB1NTyx0cdlDL0hI3SZsE8wT1WXp9UilO2evP6dg6nlh1zxx026pVXBm1+54kn2vbrr2+ZVP5R26EUqSYr7k/V+c7mzs39/jRNmv9mP94G7S8V9we6Jxpz1lm5t0fNfTh0v6Z58nperXdMBftOFufZ8PVX92ua8jhfxU0xGfWcw3zpBHxeG9OMqqlVC5/liyK164Yb3PsrvbvSuUrfye2YN68856solYgzT3e39T/7rBukEz4fvHXNNXHWMjDvpEWLSnc/VO9+rXTXo0TqdRaquL655/NTT7WRCxb43pJbX6u87wzeG1XrfJfl9Tl2o+i9+nPPDXySjPexMQVDfnneD8UsZezZ8xpBXPk+p6jnrUqgesdvNcxmvz+tlyGuVOer2Htyay9QSIaOEGn4fjf4dRbPg1k8G0TdM9I+QxD4ryGtG+utW7eaTjDhF6HupjrHF2/Lli1zJdRI/Ky+m7p8+XKXzWDGjBmR0rW2VMpOM9s1f77tW7rUPRhravkHp6hnF+YrnUC11EeZF7LGixQFgpTmWaM/szo3ZV63KhsInw/yflFW9hT4vgP1Za9vrf2v1v1B5Y1mKx4ftUyKvBFOc54IPqmkb8jV+8xRmm34XDZr53BHV5VbI4RauqNXg8Yp24OsOgIPP/303AM3adL8h4mb7Xir3D0qA2mlezEdul9T2fN8Xq13KAXt7mPUf63rr4JAeZ6vWi21qs/rVBHryuLamPYlW9ghi/I1dK7WkTnDQGnD8mQ9Q0VgWJvTi18fgf+8zy9RqML3aypf6a5HUSoRZ56K61vWHVla4X1neLRwkDK7ktzn9TlOc75r3u5u2/3kk+673pp4HxtTM+RXxvNVzNoMmj3ohKP3jccdd5y3T27We59Tpo6z4ZT3URyb+f60UYer0pyvojREm8wTHihR2KfvQve7iull+Tzo89kg6i7i4xmCwH+FtlJpKUWKAmy6GGgKpz4dCHDllPrF18u2WjtVcEMYN6tAK6TsVPuuX7/e9v/gBwOp8DRqUyeLvVdeaYf92Z9FPRaZD4FcBAo57iKkDlPATBd695K5Sadq54MiUmOWNQV+VuXKar1Z7IaN7g+0zWqphlvh+KjnmTb1VBZtFXWdeX86JWq5qs2Xi3NJUx2mcUu7bFGp68L3p3oBGmTdGfXpT7tPz+Q1+UjzH5S1mY63sG9Z7g8atnlJj9/wKJ1p06Yl6iza6Pqb9/O52oLU/w33yFxmyOra6Gu9vtYTG7PGp8uGXnKJTZ48OdFxGLsMOS7wm3vuseH33efv03QlPZ8OkJa9fL7bvoD6FvLexZNbOEtfvU53Pq7PPoq89/77bdeiRW5VClzzPjaeathP7+P03NBKn+YMB/81WDHNoKN695Nar67ZmvL4tHOtVo56/NZbXgN2min1f5RPrJTlfBXv6GzducOfRiws6C/eHO8P8r6n97U9Av9mrmehTor6CXoZav/RRVM7sF7aD12yxOzFFw8ctXPm5Pb9997eXtNJW2XQiDTfU9Ib2mZNkRv4VfaEO/q552zsqlXueyDrjzzSfc9WozV1o8yEQBkECu15rotp6Py3/4ILXOconTN18xxM6h2rc6Z+9O9mmWqdD/I+3wdevkfWp20H3yn+K8tTtvqGy5fk/qDVjo9G+08RPV8blSnq38MPLPqkkjpBlnXKzbnifG8XXVRWktzKlVeqSVWo1vXIdUrWSJePftQmTZqUe919PIc00/HW6HmhqPuDhg1f0uM3eN7Uvht1/01y/S3ifNXsqVUb7lMlnyHLa6OPUTZZlq9h04TOB9umT7c1c+e6Diu615k6dWqp73ka1i00w7p161yWTg3Wmbxhg/vslpf3dSU9nw5Uvezli9OIUebNub7N/L4zOHfpfbZGSdebklyfozRXnHl0njzkoYesc+1a08AL3sfG0TML+7mBODnGK+KVNPncwbVU1y/t03GC/3HuJ/Vus3fqVNtz3nmZfm65nkSc47feeprp/jSoc6MAchnOV8n34tZZUveSagu9t4g7iDgThRzvD3w8G0Q18PUMUVjgXydfBVmVlirJtGDBAps/f36SRd0y4dQu4cCV0kIo4FuWwFXQ80kXNqX79zmFe1Ul+ZRAs6bsbHQBLDq1q882Zl2tI9Ao9VFRNQ1upHVcabRzMOmhoxlSnTc6HxThWrYU+FkH5stWX5/3B81+fDTa//O88W1UlqR/j/qgmXT9PpZrBWcfDkWuI6tUk+E61bseBdlR9DyQdrRLHEffmcea4XgLfMp4fxCn7co0b9T91+f1N8/6N3Nq1TydfG8rj2tjmpdueZQvjmkr7qd5dsyLY828rSHQjO87w50sFSBtlJEx6vU5qxatdp7kfWx07bJdZ6KXPN6ccQONae4n01z349Xq3XPHPX4bba8ZrvtxOoYXfb5q5N0uf0/TEacVjPI4R/g8txcS+L/hhhvs5z//uZ144oluxOi3v/1t1zP3iCOOsA996ENuP9B3iG655Zaa+0SkwP+KFQeWnzVrYD3VUrvoJZq+U60gVaMboyJ20mCninLjFqd8aV++NVvKziBVp8qtSZ07pkyZUrW3YBGpXRu2XZX9ueEyec5Q9vL5tsixvlFSH/muXpL16fyqY2fr1q0Dn0rR+bVqqvMc/arVJc75IIlF2mXKkgI/r3LktZ2Bding/qCZjo+G+++KFbZ7zx57TakEzVyP+DKPlq9Xn7KfX32l+GrYpszQUMBnqsnwxqJej/Ie5eAzzX9Q37Ifbypn1PZouMMwwyCBYP+dsmWLdR52WNM/n1c2b83U/6+99q73Eal2Dd/3z77Xl6py0RfO69qYdDtJl4sukGzOVvpERSnf1yRrFpYqqUCzve8UY5LRwnnfXwbNXe88yfHd+KAo63WmccmTzREOELvsvFu3vuv+yke8p0jXJMdvI83c7k8bFaTG3+OeZ4s6XyWsXvTFyn4/frB868aNc+/88x6MEB0y+zmzPkf4Xn/ugX+diM8++2xbunSpa40zzzzTPv/5z7vRK1/4whfsO9/5zoH0XA2muoH/1avNbr3VbONGt5a+iRNt07XXWu+ECbVT+Q8d2miThf09GG3Z2dnpAtW+ppUrVzqPpB0K4vTM8lXmpOtJ0tOtND3IK/ZnO/xws64us2nTknL4Xa7s5fNbW7MC6pu2k45vgkbr07mh1qcAOjdvtokLF1rHwQ44RezPSc4Hjeqcxd+zHmnfqMxZp/iv3H4u9S3B/UHZj4+6+0XIT/dze8ePt/033WSdp57aaHcq9d/LmlFFaHn0KC5145SscL57uMe5HoVHOehb6Vl/Uie4D/aR5j/cjGU+3uK0R8l2zdIXZ+eyZba7q8uGvfPOgYx/nZ1N/XxeCzzIFDH0V7+yKXffbWN27Trwvd20z2++nz98ry/nPTDPa2OSUTd5li8JfbNnNGFEcJJWZ5m4As30vlN107vd1atXuw6Mcd7x5n1/GbRDo/Nkad7Hxt1xcpq/kV9Oxch1Mzr3r3vsMetctMhGbt/uBh5kEe9Jct1PC5H0+I263czuT6MWoMZ8QVxKn7bWM2ejqajzVaNyJf572e/HQ+XT8bdrzBjrveYaO+qss5p24E/itgotmOU5wve5PffAf+C0bNky++Y3v2mLFy+2FStW2BNPPGGXX365Gyk6b948U2BfHQRqTXUD/z09Zo884j4loJOnbny2nX669V5xhZUtlX+UHS54sNELPnWQ8DEFJ0t5KLtC0qkZApJpHmzzSO3a0D60P2te1zHmnHPMrruu4aK5zFD28vlGyLm+zfbAWcldmeq8c/FiG/vUU66HoM4/2p+HfPCDue3Pac4HvnelRusrOgV+LoH4EEIu9e3psf6HH3b3B/o0RdH3B2U7Phrtk3bQT+XWj4IZYy68MLfjt2H5Es4Q3GeVredylg8UCanafrG4qSbrgSW5HgX3pY2+geijoXyn+Q/KVNbjLUl7+HBum3X09NiuBx90194hQ4ZYf39/Uz+f12s37ePbbr3VRjz+uKur7nc17T3rLNvxiU8kavLR3/iGDX/ssUHL+lqfruV5348nQji4UBHXxjgv4YooXxLPZu3opHJrxJ+ux3lcC5PYskzrCDTD+85AO809Ypplk7R21PNkKd7HJqlgxstE9cu4GIWsfu+dd7r7SU26f+nr68vkfjLOdd8HRB7HYOX96YgRIw7coxYUX9BgMT1vxo1L5WHlo00jrSMUX9CzUenuxw++/9Pz2+7du12VRp5/vg3/3OciVa+VZ8riHJHFub2wwP9LL71kX//6112a/x/96Efu4f/555+3a6+91v7hH/7Bbr/9dtchQA/L1aa6gX+Nhn7xRdeJQJN7uXDSSdZx++2lTOUf5UBYvny5e7hR4N/HCB9fo23KnLLTV6rOrFK7Rml3zdN/0022+5lnBr6frl6Nw0855UBWizJMXV2299lnTTcRmnTRHjFvng257bYylM5/GXKub9zUR/4r7G+N6nDUd+ONNuTll905f+D85VI4zQAAIABJREFU/N73Wsdtt2V6fvZ1PvCnEW1NuafAP1isVtyu2/9uusmGvPTS4P2vJPcHRR4fUfbGan76PFLHySeX53oUpSI15gnSxh111FHu009FT75TfBVdn1ba/rtSTR51VKzqpbke5XXfnUWa/zBSmY63NO0Rq+HbfeauLut74QXTtaRVns/rNWnl85vm3TVzpm34zGcS7QlHfu1rNvLVVwct63N97n1JDvfjiSofWqioa2PU7UadL62Dr+WbLfV/+PpL0N/XXsB66gnkdd+VthXSljPt8nHKH/c8WfT72Dh1y2PeuH55lCnXbVS8j80q3pOnc57HX+X9aZHvc5I+D+bplfm+Xe35qCT349Xe/5UuHpV5A9XegO9zhO/1BSXPPfC/bt06e/bZZ+1CjRAzs5tvvtk2btxoPT09bgSofnRDr14ua9assalTp9rjjz/uMgJUTpdeemnVFjj0W9+yUU88MejF/s7f/V175+MfL3CXSLdpndg0QlFB/yifQqj7IqK/33bu3OlmGTVqVM3OFVFLHJRNAd9gREPUZbOaT73+VC79NxhpkcZNB6DWpR6F6hVXq0OK7/pom2PvucfG/OIXg1a9+8wzbctVV/neXKL1jb/3XjeiJTxt/53fsW1/9mcHUlu22JR3fXWsKkiu/U7nx2afwudn7d+agowsOq50nLpejjU6fSWpv+/zQZIypFkmOMfqeMrjO+ra33TO03+LOK/7rK/qoGunfvTvIOOE2kOe2s/KdH9QxPHR6H6hmfzSHGe691QvZu0TujcqegruO4o4BouuezNsX9cV7S9Bz/yonXJ9XI+Cc6SulVG3G9c0yJqm+w7df/ieynK8+WgP3zatur5WfD6v11bh+gadXXeccYZt+tjHEjXxxL//exv95JODlvW1vqB8Wd+PJ6p4xUJFXhs12kk/9e7HiyxfGt8gE5b2BdVP15ayPcerbLruBu9k8ngmSmPKsq0jUMb3nZW6Pu4NfawjSqsnOU8W9T42Sn3ynieJX95lzHJ7ed5PRrnu+6hrXseeyhr46Voa3P/tOeus3ONl2r72Zb170fU87vvfPM18tHGtdag9DqnI6FXk/XizvT/Nsm2irNvnOSLLc/vxxx//ruoM6Q/OAFFqGmMejV6dNWuWvfDCCzZ58mS78sor7f3vf7+pQ8Dbb79tixYtsieffNL9Xt8nqjXVHfFf9m9kxPAKZvU56tfnulS+sqXszCJVp8/UrlGbv9o3eHRxK9M3VSq/saSXBNtHjrQ3r77a9h97rDvGyzByMqp5o/nyrm/S1EeN6lHo32t8Y33joYcOZLVQ+dTzVPvOuHHjUnV4yOJ8kLdfLinwQ5XKO8V/pWfa+mp5ZfxR2wcjC7UNBVAPf+cdm7hwoXVs2nRgs2m/uet7Z8j5+KhW/Kb2S9ker776qjsPRf3GXMrN1Vw8ixRfWZW1ndcb7pUdJVOEr+tR1t+AVJtmleY/vL8Ufbz5ao92PgZi1b0Fn8/r1t93fTNeX/CN3Kzux2PtKzVmLsO1sV5azzKUL41z2VP/B/YKEOj75a3QIT5Ne7FsfgJle99ZWXNf37zO4/4y6XmyiPex+e1h0beU1C/6FppgTt/3Qw2qnEU67/AmfR2/kVsu5Kdt7x0/3vbfdJN1nnpq5FX4mDFtFuo8zlc+6tloHb1Ll9rQ226z4Vu2uHfgRdyPt/P7v0btE+XvPs4RWZ7bcx/xL7QvfelLduedd9qhhx5qc+bMsfvuu88Fj88555yB0Z5f/OIX7fzzz69pXDfwHyy1YsWBf82aFaWtSj2Pz5SbwU4Z5SVlVJSkKVqirj/KfFmn6kyb2jVKHTRPzXq89ppbxdqxY23z5s3uYVeffijqofddqfa2bXPl23/CCabAocqoScFbdQAoqpxR3RvNV0R9y3BcNXJJ/Pcq52fdeOpFvIK28tak/Wb8+PHuG466EYo6ZX0+iFoOX/PllXo/r+00cklSDi2j8446zIT3H3Ue0Xlo0P5T9vuDjI+Pav4t5ddoB6vxd98dI5MUI6sUX0nKwjKNBYJ9RnPWuq/O4noUPBzqvKYAiM/J5zNHvXIVdbxl0R4+/Vt+XWW//vpuAN/1zWF9Pu/HfXGW5dpYqxxlKV9a77Km/tcgIV0zin7/kdaX5ZtXoMzvZYKyTZo0yfSTZsry/jLteTKv97Fp/LJcNq1flmUrZN2+74dqVCJrd5/Hb6x2WLHCdu/ZY68dzNI7ffr0XLKLqoy+UvVneb6KZZlw5vC+dUJfn4045JBB8cus78d5/5ew4SoWS3uOSLt8o1oUEvhXoZS+WpWrHA28fv16FyRsNEUK/DdaSZP9PbggpBmJFpxg9dA0e/ZsbwLByGSN+FYwOu8prx7q2o7aQTed2nf1ktfnFLUeRfd4j9LjtpVGUhVR37L3LPe531euS946pyiIGx6xrfOLOgDop15646jHUZZ1yGLdWY/El7sy7eg64ePFQVqDKPVVWbWf6Ef/DiYFw7SfqNNIs3c68n18hNfXjn719svwC6U8H37DZfLRYzjtscfy8QTCwf/K/Sar61F4X1XgP07HuEa1C+qj86eeObKaijjesmqPrIxYLwJFCqS9H/dZ9jJdG6uNyilT+Xy4l+k5Phz01/WOFP8+Wph1xBUo+n1nrfKGRwv7GBSU5f2lj/Nk1u9j4+4Xec7vwy/P8rbStrIajev7+E1inlXd6pUl2Kbe1+nz3kmnLM9XScsUZ7mox7TP+3He/8VpoejzpjmOou4H0UszeM7CAv9JCxws146B/97eXjeSOs3JMQikpFlHrbbLNWXnAw+YvfiiK8q26dNtzdy5LhivB0FdOLJ8IIyb2jXqvh7nATtKIDrqdpPMF7XjQau8YC2ivmlTHyVp1zIuE9yY6PhQCu5gGvQpgCVLCjsf5Gmm41774qif/tQ61649EOiZM8fsoovSFePg+XTbtm32m6OPtj3nnWcKXhU91arv/gsuqJnKXx2yGnUMKbpePrcf9/jQ/oJf/Rbw9SCapJ3TPDAk2R7L+BMIrtkTHn3UJm/Y4DKYZX1/mtUohzzS/AfymR9vBT4v+Nu7WBMCxQskud/wdX+qF+O9U6eW5v5UraH78UMeesjdj2sqW/l87DGVz/FHP/ecjV216sCqfTx/RChkvY51ERZnFgS8CuT6vjNiybMYLZzF/aXPZ5ys3sdGJC9kNp9+hVSgBTaaRXAui+M3CXUWdatVDt8dv7M4XyUxjLtM0mM6yf047//itk6y+ZMcR0n3gzglJPAfR6vgeX2M1l++fLkLkGcxki23lJ16iXfvvdbf32+7d+92wcBNF11kHRdfbFOmTMlldGeU1K5Rd5ekKUeLSnUVN9VeWVMGRm2fIurrK/VR1Do2y3zVUh0pyHL4kiUuyLJv375Czgd5+u363vds7113uU0q8N+h1FxXXZU8+H/wfKrjdMeOHW69I6+5xoZfdlme1aq5rXB91aFL5dx4wQW2+eyz3TIazV81lX8pSp9vIeodH8OHD3eF0fUSv/rtUtT5N+sUX/nuje25td6777ZDFi+2IUOGuGtS1venQecobcfX57vySvMf7CGZHm8leF5ozyOBWre6QKP7jYFMSx7uT/v6+gayf5Xp/nTv/ffbrkWLBjV1mcrnax8MnuP7fvhDm/jAA6b7yREjRrjrXKrnjwgF9Pm+JcLmmAWBhgK5ve9sWJIDMwTl0XGp97u+stz5vr/M4hmnnc4PWfhF3MWYLSTgux2yOn6TNJrvutUrg+/zqO/zVRK/uMv48m50P877v7gtk27+uO0ad/6kpSPwn1SuoOWCXqZJAvdBeirdGM6cOdN7DXz33KpZwO5u63vmGfe5CL0McC9YTzvNRn7lK97rFOWCpXmStIeWSzsiPu9UV2lS7cXJaJBrQ9bZWFH1zXwEXFmAE5YjnOpozB132KhXXhlYkzsfnHqqjVywIOHaS75Yd7ftfvLJQWntd554or11zTWJCj5p0aJBfvqEwogzzjDr7k60Pu8L1ajv9uuvb9lU/mkN6x0fWrf2F/zqKxeRcSVJD+G0+wrLexbo7rbtjz3m7k015XF/Grw88fWprbzS/Iflszre9t98s+17+mnXKXDgeaGV7w88786sDoFGAlHuN9rl/rR098+NGi/m33fNn2/7li51Ay/U6Vid2/T+Zegtt8RcU7TZ23FEbzQZ5ipSILf3nREruXLlSvdOwFfnz/Bmfd5fZvWM0y4ZQbLyi7ibMVtIwOfo3CyP3ySN5rNu9bYf1DvNJ6wr1+/zfJXELu4yvo/pKPfjvP+L20rJ5o9zHPneD2qVmMB/srYsbKkgVX9nZ6cb3R5nClJ3ajktn8WUR8Cy8sFz1KhR1jFvXiGBquBlpXrXxv3mnK9AeF4Pxj5urNN2dMhin621zqLqW7YHyjzNk2wreLGvEY8KshR5PkhS/tjLdHdb/7PPutH5QXDJV+BfL/Lc5wPmzi3kfFrVIlRfvWxUx7UsXzTGbo+SLxA+PlRU/KI1WHBd1bXdx/cyG201zgNCo3Xx9wIFQucrlSKv61HQKdjHi9880/wHLeXzeNM91NatW90ouHDHQF3f8mqPAvdANo1AYQLh+w3dr2lq9ftTe+65gWwEpbt/9r0nVAy8CNpXL5L1mS1l3/I12jg8sCGLz1P6pmF97SWQx/vOKKLh0cJZDOpSGXzcX2b9jJPmfWwU56Lnydqv6Po14/Z9BOvyOH6T2PqoW73tZjkY1cf5KolZ3GWyPqZ5/xe3RfzPH+U4yno/CNeKwL//Ns50jcGJUimP43yDOa/UnVmm7AxS4u//wQ9yTzVXr1HDN5tRAgRJU/vXK0PWqa58rr8ZUv8XWV/fqY8yPSGVYeUHU/kOKkqa1KJlqFO9Mviur+/1+fYre/l819f3+vBLLBp8c89HMLVeIfJK8ZUYggWjCxR0vIVHOUybNi1x8CWvZ4VqoGmPN6U63Lx5s+k5SfXQFHwKSB2evKQej74nMCcC7Sfg+/zne32+W6Ts5cuwvjrHVvt01Pjx4102LtcJIuEU7gBP0D8hIotlKpDl+86oBddxsnr16sxG+wflSHt/mdczTtz3sVGdi54vL7+i69ls20/bLnkdv0lc09at0TbTPu/VW3/a81Wjsvv4e9a+roztdn/qo2E8r6NROzf6u+fiGIF/36I5rG/58uXupZaCzEorF2Xq7e01ZQvQA5lSqmQ5ZZGys3Kk+NHPPWdjV606UI05c5J/39oTRNCjRx0yNPK/Vo/3LEe8+xihXo0jq4wCvjIeeGrCgdUUXd8sUh/5Nird+nRz8+KLpTkfZO7ju76+1+cboOzl811f3+vDL5Fo0NHSVwr1WoWI0iM4UQVYqBiBgo634EXKpEmTTD9JpiLS/AflTHK86eW7gv360b+DSUEnBYz0zDN0yZL2uj9I0vAsg4AvAd/nP9/r81XPYD1lL1/G9d1/wQWus5XOwep8FUy6b9I5WD9R31VpWb3f0rVMz+JxB7n4rirrQ6CeQBbvO+OIByMFdb+jd49ZTmnuL/N8xon6PjZLK9/rztPPd9lbfX1pRuvmefwmaYc0dau3PZ8Z3mptJ835KolV3GVyO6bb7f40bkPkMH+94yi3/eBgPQn859DgvjeRJA1nnsFE3yf0sgaIw+0a5UE1j3r4TnWVdaq9LDtCJDnuiq5vlqmPkniwDAIIINDOAkHKOJ/foAt7ZvVg3c5t1q51V9BFLzvSfJ4iyfOFT+8ox1s4lX840KRR/Uo3HTfQ5LP8rAsBBBBoV4GgI5bedygbQDApMBn1UwCtGLhr1/2h1evt+31nHK9wVgwF/dNk2Iiy3aT3l3k/40R5HxulvmWZJ2+/stS7mcqRJHiX9/Gb1DNJ3RptK48OU0nPV43K7uPvHNM+FJtrHdWOoyL2AwL/zbXfuNLGHZETvjGdPXt2LjX2kcIli5T4WVY+fBHXA+5RW7e6ze0/4QRbv369azdNeik5ZcqUxKlYG9XBV6qrvFLt1Uz9/9prB6o6a1ajKnv5exnqu3bdOtt85JGWdWppL2CsBAEEEGhxgeB+a8KGDTb1qKP8XY9WrLDde/bYax0dTlCfbtLoNiYE0gikGeVQZJr/oM71jrdqqfzVyUHfldY9d9YvvtO0C8sigAAC7SSg87XO51u3bh349IrO11U/BbBihaNZN26cWyZN57V2MqauxQv4eN+ZpBZFjBaOe3+ZdxrjwLHW+1hv7xMPnq+8ra/GDlCUX5L9sZ2XSdJORRy/SdooSd3qbSfPT6TEPV8l8Ym7jG/PuNtn/mIEwu1+Ql+fK0QR7/8I/BfT/qm2Gn459573vKfhuoJAcGdnpws45zElSdkZLlfZRoJHNVO51z32mHUuWmQjt2936e22jxxpb159te0/9libPHmye0GZ9ZS2x3wRPWaDjAhDf/Urm3L33TZm1y7rUFDk8MPNurrMpk3LjK0M9dX+ov2nb+JEG7tggQ2dMSOz+rJiBBBAAIHGAvtXrrRt8+dbx6ZNLrDYoRTqaa5Hq1eb3Xqr2caNLi3u3vHjbf9NN1nnqac2LgxzINBAIDzKYdq0abFSLMftVJxFY1Qeb9bZaZuuvdZ6J0yoncp/6NAsisI6EUAAAQRSCuj5utanADo3b7aJCxe6+ys9/+4aM8Z6r7nGjjrrLDpCpnRn8XwE0r7vTFJKBc9Wr17tOtTkMdo/KGPc+8ssRgtH9ap8H+s6Vqd9nxh6fnPlSLu+BpUp0i+qM/MdEIgzereo4zdpW8WpW6NtBOvSIMipU6c2mj3V3+Oer1JtLOLCHNMRoVpwtt6lS23obbfZ8C1bXO2KeP9H4L9Jd6zgxBEl/ezy5cvdzeGMGTNivQRMSxMlZWe1beSREj9t3eotv/fOO23Xgw+6WYYMGWL9/f22+8wzbWxXV24PsmkD2Wk7DiT11Y36tltvtRGPP+7s1HFC6VuHfPCDZtddl3S1DZcrQ32DQqrOI847L9P6NgRhBgQQQAABs54e2/3QQy7oqFFo+tl71lm24xOfSKQz+hvfsOGPPWZ9fX22b98+17ltzIUXcr5PpMlC1QSCzr5xX6wUnebf1SV0vAX3z9tOP916r7jC3QuSyp99HgEEEGhOgcpPAXQuXmxjn3rK3QfpnkjTyPPPt+Gf+1xzVpBSt6VA0vedSbGS3uMl3V54uajb9hksTFru8PtYvVvT5OP5TevROWvYsGGZvZ8sg19S93ZdLmpQN+oxVCbHqHWrV+ZwJo68shyWyZpjukx7dAFl6emx7T/+8cC9bhHv/wj8F9DuPjYZtcdUMIJHPR11ks1zCratUXLqkdpoarbU/jXr09Vle5991vVe16SXlSPmzbMht93WiMDr39+V6kppiiNM69atKzTVXv9NN9nuZ54Z+D6ge/n73vdax223ZZLKtWz1daNKTz75wKhQJgQQQACB4gS6uqzvhRfc6Pxg2jVzpm34zGcSlenIr33NRr766sCynO8TMbJQHYEkqRTLkObfVanieHP3fyedZB23357J/R87EgIIIIBA/gK6p+q78UYb8vLLboCEJr2rGn7KKTz/5t8cbDGFQNz3nSk25Tohr1y50q0i7wFd2maU7ZcmnXXF+1iV3+fzW1bvJ0vjl2ZHbcNlo7RblOOnjHRR6tao3HmeJ4OylMXbh18jX/5ecoGK9xtFvP8j8F/yfaRW8YITiHow6sav1lTUt6dUnjg9u5o1tX9V954es0cecaP5NKlHqJ1zTiEj+uSqfUBtoZFS+nZ8vSkcBFdnjUK+ORzy0wVbZQ9GfGl/1yg2/QS9d9McwmWrb9H7SxpLlkUAAQRaTiB0PdK1SJOvESPKHlDk/UHLtRUVGhCIO8qhDGn+XeFDx5uCQVmOqGJ3QQABBBAoUKCnx/offti9L1EQjfuhAtuCTScWiPO+M/FGDi4Y994u7faqLd+oDD5GB3spd4bPb2rzrN5PlsbPSyO010oajepudOyUWatR3RqVXR2W9F4/SrbqRuuK8/cymHNMx2mxFp23BPFBAv9NvG8FqaVqpUsJ93KaPXu2S1Gb9xQlM0Gzp/Z/l2nO34Bq1KbhXmYK/KsDQLUpePGrv+WVgqdqQSr89M17feN146GHDmQB0HLqKaW6jBs3LtG+Xdb6Zv3NsEb7C39HAAEEEDgo4Pt67nt9NBQCVQTifkOyFGn+VQ+OD/ZnBBBAoD0EON+3Rzu3QS2jvO9My1CWb1bXu79MGxxMazRoed/nlxzeT5bKz2tjtM/KagV5y3L8pmmJpAHsLVu2mJ4zlQV55syZaYoQe9m4z8OxN9BgAY5p36JNuj7f16MEDAT+E6CVZZGgB9OUKVOss7PzXcXK4ya0kUW9FCstk9q/FsKKFQf+MmtWI6bM/x4OclcL/jf6e+YFrLaBKn66aVJZt27d6nraalKHlvHjx7ssAOoMEGVqlvpGqQvzIIAAAghkLOD7eu57fRlXn9U3n0DwDNDoc1ulSfMfJub4aL4djhIjgAACSQQ43ydRY5kSCeSRUjrI4jpp0iTTT5FTtfvL0qaz9n1+yej9ZGn9itzRmnDbtdqxTMdvUtak+2iRGahV16jPw0ldai2X1Mt3OVhfiQR8X49iVI3Afwysss0a9J5SOnaN0K6cgpQqStkeNSCaRR2DDgrhG9WWSu2fBVoG66w1wj1qRoAMipR4lXpRrf1/8+bNg769HOVTAM1Y38RQLIgAAggggAACbScQTj9b7zmgNGn+266FqDACCCCAAAIItIJAtfedvuoVHi2sT7wWkcU1XJdq95dJRwP7MirDetK8n8SvDC3opwyVo7zLdvymqWXcEezBe3eds4o6d0V9Hk7jUm1ZjmnfoqwvjQCB/zR6JVh22bJlrhSVqfyDC0wRKVUqWXTCf+vv/s5Gv/aadR52mG2fMcPWzJ3rRmyr08LUqVOL+ZZ8Cdov7yIMfOfm0Udt8oYNbvPrjzzSNp99thsxr7Zotkm9rNUBQC+v9+7dO1D8QZ8CWLLE7MUX3XcEm72+zdY+lBcBBBBAAAEE8heIMsqhNGn+8+dhiwgggAACCCCAQGqByvedQ04+2eyii9Kt94EH3PsrvefactxxNvKjHy18tH9QId1f7vrud23866+7FN69U6fanvPOqzoYLR1Ccy4d5/2k3tvj15ztXKvUCvoe8tBD1rl2rXs/XbbjN412nIB2lh2i4tQhfL5SzMPmzEl/fq5TgLgdJOLUhXkRSCJA4D+JWomWqfXCriwnWUf1wAO2Y+FCF+jv6Oiwvr4+23TRRdZx8cWmzxQU3Wu1RM2ZS1F6777bDlm82IYMGeK219/fb3uuuMI6r746l+1nuZFqnwKY8OijdviSJTZs2DDTQ1kr1TdLS9aNAAIIIIAAAs0roPtuvaDRS6dqn3kqZZr/5uWm5AgggAACCCDQjgKh950a2KRguF11VfLgkoL+997r7t/0/krv7UZfe617f1qGqe+HP3Tvd/VeLZhGXnONDb/ssjIUr1RlqPd+Uu/B1b6a8CtVs6UqzN7777ddixYNrKNsx2+aykVNYZ/HJ1Ci1iN8vvJyfq6z4ag+UcvOfAj4ECDw70OxwHX09vbam2++6b5xfswxx7iShF/kKaWK0p8XOnV3276nn7adO3e6YujCN+zUU23kggWFFqttN97dbdsfe8x1wNCkzhhjzjrLrLu7ZUjCqbbG3HGHjXrllYG6tWJ9W6bhqAgCCCCAAAIIeBMIUvnrWUDPBOGJNP/emFkRAggggAACCLSrQMX7TjHsPPFEe+uaaxKJTFq0aND7KxesOv308ryv6+62vU89NRC01j3miDPOKE/5Eqlnu1C995P4ZWuf+9q7u233k0+agt+aSnf8pgSJMqI9mKcUWYVD5yvFotQxa9hpp9nQW25JKfHuxeNkRPC+cVaIQA0BAv9NvmsEPanUW1Dp/jUFL/KU6lzf9Sx8UkD5uecGvsU+atQo65g3jxvDohqmu9v6n33WduzY4UowevRoG3LKKS3bHvtvvtl1PFGPadfbssXrW9RuxXYRQAABBBBAoHwCr776atVR/6T5L19bUSIEEEAAAQQQaDKB0PvOYHCNr8C/G7QyZozZ3LnleV9X8X63dOUr+e5T+X4Sv5I3WNzitcHxUS/ArU4uK1eudANSp0+fXvxnnWucn7dff71NnDjRxo0b5yULdZQOEXF3JeZHwIcAgX8figWvIzjpKsivm4bg/6ul9SykqAdTVQ3adprUV4VUooU22m7t0W71baFdlaoggAACCCCAQDqB8Kj/adOmuZcbpPlPZ8rSCCCAAAIIIICAE/D9vsn3+nw3U9nL57u+vteHn2/Rcq2vDdq3Xkr70g1EDbWHnn81IHDjBRfY5rPPdvuNnouVQVvZCVwnnAQTKf4ToLFIbgIE/nOjzm5DSvWvlP+dnZ3uR72rwhkAsttyjDXrZPviiwcWmDMn+feuYmySWesItFt7tFt92fkRQAABBBBAAIGDAq+//rrLvDVp0iT3Q5p/dg0EEEAAAQQQQMCTgO/3Tb7X56maA6spe/l819f3+vDzLVqu9bVB+9Ya4a54lDJT61PUCqiXYqpoj/0XXGBbtmyxzZs3D2SmVjn12Q11ANBPnE9mk+K/FK1MIWoIEPhvgV0j6F2kE5PSlKgTQCm+pdICtlQBAQQQQAABBBBAAIFmFlDQX8F/dQyeMWOGrVu3zr3wKE12sGbGpewIIIAAAggggAACCCCAQBsJVAa89WypT8kNHz7cZs6c2RQS6qSgDgDqFK9sAMGk0f9RPgVAiv+maOa2LiSB/xZp/uXLl9uwVausY+hQ23nMMeX4lkqL2FINBBBAAAEEEEAAAQSaWSAY9X/kpk3uBcfu446z2bNne/muYTO7UHYEEEAAAQQQQAABBBBAAIHoAuEU9yf09dnbb79tm488smk7lqujvDoAbN261X0WT1PNTwHNfj67AAAgAElEQVSsWGG79+yx1zo63HzTp0+3kSNHRsdjTgRyEiDwnxN0pptZvdp23Hij7X/rLbeZvsMOs0PvuMNs2rRMN8vKEUAAAQQQQAABBBBAoPwCO5cts91dXTZ082ZX2I4jjrAxX/kKzwvlbzpKiAACCCCAAAIIIIAAAgiUSqB36VIbetttNnzLFuvr67O+iRNt7IIFNnTGjFKVM05hFPSv9SmAzs2bbeLChdaxaZP7TMDe8eNt/003Weepp8bZBPMikJsAgf/cqDPcUE+P7f3JT0y9rTSNGDHCDjn3XLPrrstwo6waAQQQQAABBBBAAAEEmkKgp8d2PfjgQBpDjUoY/od/yPNCUzQehUQAAQQQQAABBBBAAAEESiTQ02Pbf/xjF/TXpE9QjzjvvJZ5vqz8FEDn4sU29qmnrKOjw9VZ/x1z4YUtU98S7VkUxZMAgX9PkIWupqvL+n/5S9u2bZsrxtixY23I+95nduuthRaLjSOAAAIIIIAAAggggEAJBLq6rO+FF9zoBJ4XStAeFAEBBBBAAAEEEEAAAQQQaFaBiufLMWPGWMfJJ7dkPErP0H033mhDXn7Z+vv7XYu1cn2bdZek3IMFCPy3wh7R02P2yCO2b98+V5thw4aZnXMOPY5aoW2pAwIIIIAAAggggAACaQV4XkgryPIIIIAAAggggAACCCCAAAISaLfny54e63/4YRd/GzJkCPE3joLSCxD4L30TRSjg6tUHelNt3Hhg5sMPN+vq4pudEeiYBQEEEEAAAQQQQACBlhfgeaHlm5gKIoAAAggggAACCCCAAAK5CLTb82W71TeXnYiNZClA4D9L3bzXvWLFgS3OmpX3ltkeAggggAACCCCAAAIIlF2A54WytxDlQwABBBBAAAEEEEAAAQSaQ6Ddni/brb7NsRdSyioChQX+9+zZ41JjjB49elCx9M2MUaNGWUdHR90GW7Bggc2fP59GRQABBBBAAAEEEEAAAQQQQAABBBBAAAEEEEAAAQQQQAABBBBAoK0FCgn833DDDfbzn//cTjzxRNu8ebN9+9vftp07d9rll1/uvo/x61//2q6//nr7+Mc/XrNxCPy39X5L5RFAAAEEEEAAAQQQQAABBBBAAAEEEEAAAQQQQAABBBBAAAEEDgrkHvjXiP6zzz7bli5d6opw5pln2uc//3l75ZVXbOvWrfblL3/Z1q9fb1OmTDHNW5kRIGg5Av/swwgggAACCCCAAAIIIIAAAggggAACCCCAAAIIIIAAAggggAACCJjlHvgP0JctW2bf/OY3bfHixbZixQo3wv+cc86xj3zkI9bf3+9S/a9evdqOP/74qu1E4J/dFwEEEEAAAQQQQAABBBBAAAEEEEAAAQQQQAABBBBAAAEEEEAAgQID/y+99JJ9/etfd2n+f/SjH9ldd91ll112mV1yySWuXY488kh7+umn7dhjj7XHH3/cnnjiiXe116WXXkobIoAAAggggAACCCCAAAIIIIAAAggggAACCCCAAAIIIIAAAggg0PYC1QbVD+nXsPsMpnXr1tmzzz5rF154oVv7zTffbBs3bnSp/cePH2+f/exnbf/+/TZx4kTbvHmzG/lfbWLEfwaNwyoRQAABBBBAAAEEEEAAAQQQQAABBBBAAAEEEEAAAQQQQAABBJpOIPdU/5s2bbJZs2bZCy+8YJMnT7Yrr7zS3v/+97t/L1y40H72s5/Z97//ffvqV79qv/jFL2qCEvhvun2NAiOAAAIIIIAAAggggAACCCCAAAIIIIAAAggggAACCCCAAAIIZCCQe+BfdfjSl75kd955px166KE2Z84cu++++2zkyJF27rnn2iuvvGI7d+60hx9+2E477bSaVSbwn8HewCoRQAABBBBAAAEEEEAAAQQQQAABBBBAAAEEEEAAAQQQQAABBJpOoJDAv5QU3N+1a5dL6R+e1qxZ40b/Dx8+vC4mgf+m29coMAIIIIAAAggggAACCCCAAAIIIIAAAggggAACCCCAAAIIIIBABgKFBf7T1oXAf1pBlkcAAQQQQAABBBBAAAEEEEAAAQQQQAABBBBAAAEEEEAAAQQQaAUBAv+t0IrUAQEEEEAAAQQQQAABBBBAAAEEEEAAAQQQQAABBBBAAAEEEECgbQUI/Ldt01NxBBBAAAEEEEAAAQQQQAABBBBAAAEEEEAAAQQQQAABBBBAAIFWECDw3wqtSB0QQAABBBBAAAEEEEAAAQQQQAABBBBAAAEEEEAAAQQQQAABBNpWgMB/2zY9FUcAAQQQQAABBBBAAAEEEEAAAQQQQAABBBBAAAEEEEAAAQQQaAUBAv+t0IrUAQEEEEAAAQQQQAABBBBAAAEEEEAAAQQQQAABBBBAAAEEEECgbQUI/Ldt01NxBBBAAAEEEEAAAQQQQAABBBBAAAEEEEAAAQQQQAABBBBAAIFWECDw3wqtSB0QQAABBBBAAAEEEEAAAQQQQAABBBBAAAEEEEAAAQQQQAABBNpWgMB/2zY9FUcAAQQQQAABBBBAAAEEEEAAAQQQQAABBBBAAAEEEEAAAQQQaAUBAv+t0IrUAQEEEEAAAQQQQAABBBBAAAEEEEAAAQQQQAABBBBAAAEEEECgbQUI/Ldt01NxBBBAAAEEEEAAAQQQQAABBBBAAAEEEEAAAQQQQAABBBBAAIFWECDw3wqtSB0QQAABBBBAAAEEEEAAAQQQQAABBBBAAAEEEEAAAQQQQAABBNpWgMB/2zY9FUcAAQQQQAABBBBAAAEEEEAAAQQQQAABBBBAAAEEEEAAAQQQaAUBAv+t0IrUAQEEEEAAAQQQQAABBBBAAAEEEEAAAQQQQAABBBBAAAEEEECgbQUI/Ldt01NxBBBAAAEEEEAAAQQQQAABBBBAAAEEEEAAAQQQQAABBBBAAIFWECDw3wqtSB0QQAABBBBAAAEEEEAAAQQQQAABBBBAAAEEEEAAAQQQQAABBNpWgMB/2zY9FUcAAQQQQAABBBBAAAEEEEAAAQQQQAABBBBAAAEEEEAAAQQQaAUBAv+t0IrUAQEEEEAAAQQQQAABBBBAAAEEEEAAAQQQQAABBBBAAAEEEECgbQUI/Ldt01NxBBBAAAEEEEAAAQQQQAABBBBAAAEEEEAAAQQQQAABBBBAAIFWECDw3wqtSB0QQAABBBBAAAEEEEAAAQQQQAABBBBAAAEEEEAAAQQQQAABBNpWgMB/2zY9FUcAAQQQQAABBBBAAAEEEEAAAQQQQAABBBBAAAEEEEAAAQQQaAUBAv+t0IrUAQEEEEAAAQQQQAABBBBAAAEEEEAAAQQQQAABBBBAAAEEEECgbQUI/Ldt01NxBBBAAAEEEEAAAQQQQAABBBBAAAEEEEAAAQQQQAABBBBAAIFWECDw3wqtSB0QQAABBBBAAAEEEEAAAQQQQAABBBBAAAEEEEAAAQQQQAABBNpWgMB/2zY9FUcAAQQQQAABBBBAAAEEEEAAAQQQQAABBBBAAAEEEEAAAQQQaAUBAv+t0IrUAQEEEEAAAQQQQAABBBBAAAEEEEAAAQQQQAABBBBAAAEEEECgbQUI/Ldt01NxBBBAAAEEEEAAAQQQQAABBBBAAAEEEEAAAQQQQAABBBBAAIFWECDw3wqtSB0QQAABBBBAAAEEEEAAAQQQQAABBBBAAAEEEEAAAQQQQAABBNpWoLDA/759+2zbtm02YcKERPgLFiyw+fPnJ1qWhRBAAAEEEEAAAQQQQAABBBBAAAEEEEAAAQQQQAABBBBAAAEEEGgVgUIC/1/96lft7/7u7+y0006zLVu2mIL4xx57rB1xxBH2oQ99yNnOnDnTbrnllprOBP5bZRekHggggAACCCCAAAIIIIAAAggggAACCCCAAAIIIIAAAggggAACaQRyD/zv2bPHRowY4Ub7jxkzxm699VbbsGGDffrTn7YvfOEL9p3vfMeGDRvWsE4E/hsSMQMCCCCAAAIIIIAAAggggAACCCCAAAIIIIAAAggggAACCCCAQBsI5B74l+mmTZts4sSJtmPHDvvABz5g1113nY0dO9Yuv/xy27p1q82bN89lATj77LNrNgGB/zbYO6kiAggggAACCCCAAAIIIIAAAggggAACCCCAAAIIIIAAAggggEBDgUIC/yrV888/b3/6p39q73nPe+yee+6xJ554wv3u2muvtX/4h3+w22+/3VasWGFDhgypWgkC/w3blhkQQAABBBBAAAEEEEAAAQQQQAABBBBAAAEEEEAAAQQQQAABBNpAoJDA/z/+4z+60f1/+7d/ax/+8Icdsz4BMHToUPezf/9+l+5/zZo1NnXqVHv88cddx4DK6dJLL22DJqKKCCCAAAIIIIAAAggggAACCCCAAAIIIIAAAggggAACCCCAAAII1Bc4/vjj3zXDkP7+/v4s4LTaQw891B555BE79dRTBzbxV3/1V/b222/bokWL7Mknn7Qrr7zSVq9eXbMIjPjPonVYJwIIIIAAAggggAACCCCAAAIIIIAAAggggAACCCCAAAIIIIBAswnkPuJ/1apVdsIJJwxy+pM/+ROX2v+cc85xI/3188UvftHOP//8mp4E/pttV6O8CCCAAAIIIIAAAggggAACCCCAAAIIIIAAAggggAACCCCAAAJZCOQe+G9UifXr19vkyZMbzWYE/hsSMQMCCCCAAAIIIIAAAggggAACCCCAAAIIIIAAAggggAACCCCAQBsIlC7wH9WcwH9UKeZDAAEEEEAAAQQQQAABBBBAAAEEEEAAAQQQQAABBBBAAAEEEGhlAQL/rdy61A0BBBBAAAEEEEAAAQQQQAABBBBAAAEEEEAAAQQQQAABBBBAoOUFCPy3fBNTQQQQQAABBBBAAAEEEEAAAQQQQAABBBBAAAEEEEAAAQQQQACBVhYg8N/KrUvdEEAAAQQQQAABBBBAAAEEEEAAAQQQQAABBBBAAAEEEEAAAQRaXoDAf8s3MRVEAAEEEEAAAQQQQAABBBBAAAEEEEAAAQQQQAABBBBAAAEEEGhlAQL/rdy61A0BBBBAAAEEEEAAAQQQQAABBBBAAAEEEEAAAQQQQAABBBBAoOUFCPy3fBNTQQQQQAABBBBAAAEEEEAAAQQQQAABBBBAAAEEEEAAAQQQQACBVhbwEvjv7++3NWvW2MiRI+2www6zYcOGZW62YMECmz9/fubbYQMIIIAAAggggAACCCCAAAIIIIAAAggggAACCCCAAAIIIIAAAgiUWSB14P+1116zD33oQ6YV3XjjjbZs2TK7/PLL7SMf+Uim9SbwnykvK0cAAQQQQAABBBBAAAEEEEAAAQQQQAABBBBAAAEEEEAAAQQQaBKB1IH/uXPnmoL/RxxxhH34wx+2tWvX2n333WebN2+2Qw89NDMGAv+Z0bJiBBBAAAEEEEAAAQQQQAABBBBAAAEEEEAAAQQQQAABBBBAAIEmEkgV+N+9e7dL779w4UJ74403bOjQoXbppZfab//2b9vzzz9vJ598cmYUBP4zo2XFCCCAAAIIIIAAAggggAACCCCAAAIIIIAAAggggAACCCCAAAJNJJAq8K96jh8/3t773vfahAkT7JBDDrGOjg772c9+Zr29vTZ8+PDMKAj8Z0bLihFAAAEEEEAAAQQQQAABBBBAAAEEEEAAAQQQQAABBBBAAAEEmkggdeD/u9/9rn3yk5+0rVu3DlT7lltusa6urkwZCPxnysvKEUAAAQQQQAABBBBAAAEEEEAAAQQQQAABBBBAAAEEEEAAAQSaRCB14F/1VMr/Rx991F5//XWbM2eOnXHGGZlXn8B/5sRsAAEEEEAAAQQQQAABBBBAAAEEEEAAAQQQQAABBBBAAAEEEECgCQRSB/5feukl6+npsU2bNg2q7uLFi2306NGZERD4z4yWFSOAAAIIIIAAAggggAACCCCAAAIIIIAAAggggAACCCCAAAIINJFA6sD/0UcfbWvXrn1Xlbds2WLjxo3LjILAf2a0rBgBBBBAAAEEEEAAAQQQQAABBBBAAAEEEEAAAQQQQAABBBBAoIkEUgX++/r6bOjQoXbttde6Uf8dHR25VZ3Af27UbAgBBBBAAAEEEEAAAQQQQOD/Y+9O4K6qysXxPwwOgJJkII7hrGjOimNXCsfMXxooShmppTfNoX9F18wSNXO4WsbFNDWumqWomTglmkOAaGqJiaLghAPiAIqCosj/szb3RRBe3rPOed88736/+/PxE+k+i72+61nPPvs8e69NgAABAgQIECBAgAABAgQIECBQxwI1Ff5Tv370ox/FrbfeGqkQv+KKKy7s6q677hodO3Zssa4r/LcYrYYJECBAgAABAgQIECBAgAABAgQIECBAgAABAgQIECBAoBUJ1Fz4HzRoUFx11VVLdPnNN9+Mrl27thiFwn+L0WqYAAECBAgQIECAAAECBAgQIECAAAECBAgQIECAAAECBFqRQE2F/3nz5hVP9W+xxRZxwgknxHLLLbew6wcffPBi/7+5TRT+m1tUewQIECBAgAABAgQIECBAgAABAgQIECBAgAABAgQIECDQGgVqKvynDn/xi18sCv/nn3/+v7X/Cv//Vm5/GQECBAgQIECAAAECBAgQIECAAAECBAgQIECAAAECBAjUqUDNhf8ddtgh/v73v8daa60Vyy+//MJuTpgwIbp06dJi3Vb4bzFaDRMgQIAAAQIECBAgQIAAAQIECBAgQIAAAQIECBAgQIBAKxKoufC/3377xfTp05fo8t133x2dO3duMQqF/xaj1TABAgQIECBAgAABAgQIECBAgAABAgQIECBAgAABAgQItCKBmgv/n1RfFf4/KXl/LwECBAgQIECAAAECBAgQIECAAAECBAgQIECAAAECBAjUk0BVhf/333+/WNr/5JNPjksuuSSmTZu2RJ+mTJkSK620Uov1VeG/xWg1TIAAAQIECBAgQIAAAQIECBAgQIAAAQIECBAgQIAAAQKtSKCqwv8HH3wQe+21Vxx++OHx5z//OV5//fUlujxq1ChL/beiQHCoBAgQIECAAAECBAgQIECAAAECBAgQIECAAAECBAgQINA6Baoq/C/a1b///e/Rq1ev6N69e/Gv33333XjggQeiT58+scIKK7SYiif+W4xWwwQIECBAgAABAgQIECBAgAABAgQIECBAgAABAgQIECDQigSqLvxPnjw5Jk2aVDz1n/7Zddddi24/9dRTceKJJ8azzz4bn/3sZ1uMQuG/xWg1TIAAAQIECBAgQIAAAQIECBAgQIAAAQIECBAgQIAAAQKtSKDqwv/ZZ58dQ4YMWWpXV1555ZgxY0Z06NChxSgU/luMVsMECBAgQIAAAQIECBAgQIAAAQIECBAgQIAAAQIECBAg0IoEqi78N/bEf+r7ZpttViz/v6ztgw8+iLfffjtWWWWVxXZ75513olOnTtG+fftlfl7hvxVFmUMlQIAAAQIECBAgQIAAAQIECBAgQIAAAQIECBAgQIAAgRYTqLrw33BEL730UlG879y582IH+eCDD8bDDz8c3/72t5c4+PPOOy8uuuii6NOnT7z11luRivirrrpqHHroodGxY8d47rnn4gc/+EEMHjy40Y4r/LdYTGiYAAECBAgQIECAAAECBAgQIECAAAECBAgQIECAAAECBFqRQM2F/8b6+ve//70o/B911FGL7TJ37txYYYUViqf9u3TpEqeffnq88sorseaaa8asWbPijDPOiGnTpsXqq68e6en/j99Q0NCYwn8rijKHSoAAAQIECBAgQIAAAQIECBAgQIAAAQIECBAgQIAAAQItJvBvL/ynnsyYMSO6desWs2fPji9+8Ytx/PHHxx133BH9+vWLgQMHxvz584ul/qdMmRLrrbfeUjuv8N9iMaFhAgQIECBAgAABAgQIECBAgAABAgQIECBAgAABAgQIEGhFAp9I4T/5pNUAvvnNb8bmm28el156aRx22GFx0EEHRf/+/Qu+1VZbLe6///7o1atXjBkzJsaOHbsE64ABA1oRtUMlQIAAAQIECBAgQIAAAQIECBAgQIAAAQIECBAgQIAAAQItI7C0h+rbzU+P3dewNbbUf2ryzjvvjEMPPTQuuOCCOPjgg4u/ZejQodG1a9c44YQTYt68ecWKADNnziye/F/a5on/GgbHRwkQIECAAAECBAgQIECAAAECBAgQIECAAAECBAgQIECgNAL/9if+0/0En/rUp4ql/XfYYYeFkDfeeGMMGzYsbr/99hg5cmScd955cd999zUKrfBfmhjUEQIECBAgQIAAAQIECBAgQIAAAQIECBAgQIAAAQIECBCoQaDqwn/64LIWBejevXvMnj07evbsudjhTZ48OTbccMPF/t03vvGNuPDCC2PfffeNiRMnxpw5c2L06NHRp0+fRrum8F/DqPsoAQIECBAgQIAAAQIECBAgQIAAAQIECBAgQIAAAQIECJRGoOrCf7t27ZaJ8OabbxZL9+duU6dOLW4WWG655Zb5UYX/XFn7EyBAgAABAgQIECBAgAABAgQIECBAgAABAgQIECBAgEAZBaou/J977rkxb968Rk1OPPHEWH755VvMTOG/xWg1TIAAAQIECBAgQIAAAQIECBAgQIAAAQIECBAgQIAAAQKtSKDqwv+ifXzvvfciPeGftrT8f1rOf4cddmjyqf1anBT+a9HzWQIECBAgQIAAAQIECBAgQIAAAQIECBAgQIAAAQIECBAoi0DNhf+rr746jjvuuJg+ffpiJtUu9V8prMJ/pVL2I0CAAAECBAgQIECAAAECBAgQIECAAAECBAgQIECAAIEyC9Rc+F9//fVjlVVWiaeeeip23HHHePzxx6NHjx4xfvx4T/yXOXL0jQABAgQIECBAgAABAgQIECBAgAABAgQIECBAgAABAgTqQqCmwv/7778fyy+/fFx55ZVx7733xmc+85k4+uijY5111okZM2YUNwS01OaJ/5aS1S4BAgQIECBAgAABAgQIECBAgAABAgQIECBAgAABAgQItCaBmgr/qaNrr712Ufz/z//8zxg6dGh89atfjREjRsSTTz4ZG264YYtZKPy3GK2GCRAgQIAAAQIECBAgQIAAAQIECBAgQIAAAQIECBAgQKAVCdRc+P/rX/8aJ554YlxxxRXxpS99KV544YX48pe/HDfeeGOLMij8tyivxgkQIECAAAECBAgQIECAAAECBAgQIECAAAECBAgQIECglQjUXPgfPnx49O3bNzbddNP44IMP4qmnnorrrrsuvvvd78anPvWpFmNQ+G8xWg0TIECAAAECBAgQIECAAAECBAgQIECAAAECBAgQIECAQCsSqLrwf9ddd8Vf/vKXSIX/3XffPXr37l10e+rUqXHVVVfFiy++GGussUaLUSj8txithgkQIECAAAECBAgQIECAAAECBAgQIECAAAECBAgQIECgFQlUXfg/++yzY8iQIUvt6vbbbx8PPPBAizIo/Lcor8YJECBAgAABAgQIECBAgAABAgQIECBAgAABAgQIECBAoJUIVF34f++992LOnDlxwAEHxDHHHBP9+vVb2OW0xH+7du1alEDhv0V5NU6AAAECBAgQIECAAAECBAgQIECAAAECBAgQIECAAAECrUSg6sL/ov2bMGFCXH/99fHWW2/FV7/61dhxxx2jQ4cOLUqg8N+ivBonQIAAAQIECBAgQIAAAQIECBAgQIAAAQIECBAgQIAAgVYiUHPh/5JLLolvfetbi3V3wIABcc0117QogcJ/i/JqnAABAgQIECBAgAABAgQIECBAgAABAgQIECBAgAABAgRaiUBNhf+5c+fG2muvHb17945hw4ZFp06d4rTTTosRI0bEc889F+uss06LMSj8txithgkQIECAAAECBAgQIECAAAECBAgQIECAAAECBAgQIECgFQnUVPifOXNmdOvWLc4///w44YQTim7ffvvtsddee8XYsWNj5513bjEKhf8Wo9UwAQIECBAgQIAAAQIECBAgQIAAAQIECBAgQIAAAQIECLQigZoK/6mf6Yn/9OT/97///ejcuXNcfPHFMW3atHj22WeLFQBaalP4bylZ7RIgQIAAAQIECBAgQIAAAQIECBAgQIAAAQIECBAgQIBAaxKoufB/9913xxFHHBGpobStvPLKcdlll0X//v1b1EHhv0V5NU6AAAECBAgQIECAAAECBAgQIECAAAECBAgQIECAAAECrUSg5sL/Bx98EO3bt49//vOf8fbbby9c3r9jx44tSqDw36K8GidAgAABAgQIECBAgAABAgQIECBAgAABAgQIECBAgACBViJQdeH/vffeizlz5sS2224bP/vZz+LLX/5y0eXHHnssdt1113juuedinXXWaTEGhf8Wo9UwAQIECBAgQIAAAQIECBAgQIAAAQIECBAgQIAAAQIECLQigaoL/2effXYMGTKk0a6+88470blz5xajUPhvMVoNEyBAgAABAgQIECBAgAABAgQIECBAgAABAgQIECBAgEArEqi68H/XXXfFX/7ylxg+fHjsvvvu0bt374Xd7tOnTxxwwAEtyqDw36K8GidAgAABAgQIECBAgAABAgQIECBAgAABAgQIECBAgACBViJQdeG/oX+jRo2KLbfcskWX9V+apcJ/K4kwh0mAAAECBAgQIECAAAECBAgQIECAAAECBAgQIECAAAECLSpQc+G/RY9uGY0r/H9S8v5eAgQIECBAgAABAgQIECBAgAABAgQIECBAgAABAgQIEKgnAYX/ehoNx0KAAAECBAgQIECAAAECBAgQIECAAAECBAgQIECAAAECBDIFFP4zwexOgAABAgQIECBAgAABAgQIECBAgAABAgQIECBAgAABAgTqSUDhv55Gw7EQIECAAAECBAgQIECAAAECBAgQIECAAAECBAgQIECAAIFMAYX/TDC7EyBAgAABAgQIECBAgAABAgQIECBAgIiupFYAACAASURBVAABAgQIECBAgACBehJQ+K+n0XAsBAgQIECAAAECBAgQIECAAAECBAgQIECAAAECBAgQIEAgU+ATLfy//fbb0aVLl2jXrl3mYUecddZZMWTIkOzP+QABAgQIECBAgAABAgQIECBAgAABAgQIECBAgAABAgQIECiTwCdS+J8+fXpMmDAhDjzwwJg8eXL06NEj3nvvvejevXvsvffehe/GG28cp512WqPWCv9lCkN9IUCAAAECBAgQIECAAAECBAgQIECAAAECBAgQIECAAIFqBT6Rwv91110XY8eOjfPPPz9eeeWVovD/xBNPxCmnnBJXXXVVdOzYscn+KPw3SWQHAgQIECBAgAABAgQIECBAgAABAgQIECBAgAABAgQIEGgDAp9I4b/BNS3x31D4v+mmm+LQQw+NWbNmxfbbb18s5d+3b99Gh0Dhvw1Epy4SIECAAAECBAgQIECAAAECBAgQIECAAAECBAgQIECAQJMCdVP4v/POO+Phhx+OY489Nq6++uo488wzi1UA0s0BS9sU/pscWzsQIECAAAECBAgQIECAAAECBAgQIECAAAECBAgQIECAQBsQqJvC/9y5c6NDhw7FP/PmzSuW+586dWqstdZaMWbMmOLVAB/fBgwY0AaGSBcJECBAgAABAgQIECBAgAABAgQIECBAgAABAgQIECBAgMCyBdZbb70ldmg3f/78+S0Nt+hS/z/96U/j1VdfjeHDh8e4cePi61//ekyZMqXRQ/DEf0uPjvYJECBAgAABAgQIECBAgAABAgQIECBAgAABAgQIECBAoDUIfOJP/E+fPj26d+8eL7/8cvTr16940j/9c+qpp8Z+++2n8N8aosgxEiBAgAABAgQIECBAgAABAgQIECBAgAABAgQIECBAgMAnJvCJFv6X1utp06ZFz549mwTxxH+TRHYgQIAAAQIECBAgQIAAAQIECBAgQIAAAQIECBAgQIAAgTYgUHeF/0rNFf4rlbIfAQIECBAgQIAAAQIECBAgQIAAAQIECBAgQIAAAQIECJRZQOG/zKOrbwQIECBAgAABAgQIECBAgAABAgQIECBAgAABAgQIECBQegGF/9IPsQ4SIECAAAECBAgQIECAAAECBAgQIECAAAECBAgQIECAQJkFFP7LPLr6RoAAAQIECBAgQIAAAQIECBAgQIAAAQIECBAgQIAAAQKlF1D4L/0Q6yABAgQIECBAgAABAgQIECBAgAABAgQIECBAgAABAgQIlFlA4b/Mo6tvBAgQIECAAAECBAgQIECAAAECBAgQIECAAAECBAgQIFB6AYX/0g+xDhIgQIAAAQIECBAgQIAAAQIECBAgQIAAAQIECBAgQIBAmQUU/ss8uvpGgAABAgQIECBAgAABAgQIECBAgAABAgQIECBAgAABAqUXUPgv/RDrIAECBAgQIECAAAECBAgQIECAAAECBAgQIECAAAECBAiUWUDhv8yjq28ECBAgQIAAAQIECBAgQIAAAQIECBAgQIAAAQIECBAgUHoBhf/SD7EOEiBAgAABAgQIECBAgAABAgQIECBAgAABAgQIECBAgECZBRT+yzy6+kaAAAECBAgQIECAAAECBAgQIECAAAECBAgQIECAAAECpRdQ+C/9EOsgAQIECBAgQIAAAQIECBAgQIAAAQIECBAgQIAAAQIECJRZQOG/zKOrbwQIECBAgAABAgQIECBAgAABAgQIECBAgAABAgQIECBQegGF/9IPsQ4SIECAAAECBAgQIECAAAECBAgQIECAAAECBAgQIECAQJkFFP7LPLr6RoAAAQIECBAgQIAAAQIECBAgQIAAAQIECBAgQIAAAQKlF1D4L/0Q6yABAgQIECBAgAABAgQIECBAgAABAgQIECBAgAABAgQIlFlA4b/Mo6tvBAgQIECAAAECBAgQIECAAAECBAgQIECAAAECBAgQIFB6AYX/0g+xDhIgQIAAAQIECBAgQIAAAQIECBAgQIAAAQIECBAgQIBAmQUU/ss8uvpGgAABAgQIECBAgAABAgQIECBAgAABAgQIECBAgAABAqUXUPgv/RDrIAECBAgQIECAAAECBAgQIECAAAECBAgQIECAAAECBAiUWUDhv8yjq28ECBAgQIAAAQIECBAgQIAAAQIECBAgQIAAAQIECBAgUHoBhf/SD7EOEiBAgAABAgQIECBAgAABAgQIECBAgAABAgQIECBAgECZBRT+yzy6+kaAAAECBAgQIECAAAECBAgQIECAAAECBAgQIECAAAECpRdQ+C/9EOsgAQIECBAgQIAAAQIECBAgQIAAAQIECBAgQIAAAQIECJRZQOG/zKOrbwQIECBAgAABAgQIECBAgAABAgQIECBAgAABAgQIECBQegGF/9IPsQ4SIECAAAECBAgQIECAAAECBAgQIECAAAECBAgQIECAQJkFFP7LPLr6RoAAAQIECBAgQIAAAQIECBAgQIAAAQIECBAgQIAAAQKlF1D4L/0Q6yABAgQIECBAgAABAgQIECBAgAABAgQIECBAgAABAgQIlFngEy38v/3229GlS5do167dQuN33nknOnXqFO3bt1+m+1lnnRVDhgwp89joGwECBAgQIECAAAECBAgQIECAAAECBAgQIECAAAECBAgQaFLgEyn8T58+PSZMmBAHHnhgTJ48OXr06BGvvfZaHHroodGxY8d47rnn4gc/+EEMHjy40Q4o/Dc5tnYgQIAAAQIECBAgQIAAAQIECBAgQIAAAQIECBAgQIAAgTYg8IkU/q+77roYO3ZsnH/++fHKK68Uhf9f/OIXMWvWrDjjjDNi2rRpsfrqq0d6+r9z585LHQaF/zYQnbpIgAABAgQIECBAgAABAgQIECBAgAABAgQIECBAgAABAk0KfCKF/4ajSkv8NxT+jzzyyOjXr18MHDgw5s+fXyz1P2XKlFhvvfWW2gmF/ybH1g4ECBAgQIAAAQIECBAgQIAAAQIECBAgQIAAAQIECBAg0AYE6qbwf9BBB0X6p3///gX7aqutFvfff3/06tUrxowZU6wQ8PFtwIABbWCIdJEAAQIECBAgQIAAAQIECBAgQIAAAQIECBAgQIAAAQIECCxbYGkP1bebnx67b+Ft0Sf+hw4dGl27do0TTjgh5s2bF926dYuZM2cWT/4vbfPEfwsPjuYJECBAgAABAgQIECBAgAABAgQIECBAgAABAgQIECBAoFUI1M0T/zfeeGMMGzYsbr/99hg5cmScd955cd999zWKqPDfKuLLQRIgQIAAAQIECBAgQIAAAQIECBAgQIAAAQIECBAgQIBACwt84oX/6dOnR/fu3WPOnDmx7777xsSJE4s/jx49Ovr06aPw38IBoHkCBAgQIECAAAECBAgQIECAAAECBAgQIECAAAECBAgQaN0Cn2jhf2l0U6dOjZ49e8Zyyy23TFlP/LfuwHP0BAgQIECAAAECBAgQIECAAAECBAgQIECAAAECBAgQINA8AnVX+K+0Wwr/lUrZjwABAgQIECBAgAABAgQIECBAgAABAgQIECBAgAABAgTKLKDwX+bR1TcCBAgQIECAAAECBAgQIECAAAECBAgQIECAAAECBAgQKL2Awn/ph1gHCRAgQIAAAQIECBAgQIAAAQIECBAgQIAAAQIECBAgQKDMAgr/ZR5dfSNAgAABAgQIECBAgAABAgQIECBAgAABAgQIECBAgACB0gso/Jd+iHWQAAECBAgQIECAAAECBAgQIECAAAECBAgQIECAAAECBMosoPBf5tHVNwIECBAgQIAAAQIECBAgQIAAAQIECBAgQIAAAQIECBAovYDCf+mHWAcJECBAgAABAgQIECBAgAABAgQIECBAgAABAgQIECBAoMwCCv9lHl19I0CAAAECBAgQIECAAAECBAgQIECAAAECBAgQIECAAIHSCyj8l36IdZAAAQIECBAgQIAAAQIECBAgQIAAAQIECBAgQIAAAQIEyiyg8F/m0dU3AgQIECBAgAABAgQIECBAgAABAgQIECBAgAABAgQIECi9gMJ/6YdYBwkQIECAAAECBAgQIECAAAECBAgQIECAAAECBAgQIECgzAIK/2UeXX0jQIAAAQIECBAgQIAAAQIECBAgQIAAAQIECBAgQIAAgdILKPyXfoh1kAABAgQIECBAgAABAgQIECBAgAABAgQIECBAgAABAgTKLKDwX+bR1TcCBAgQIECAAAECBAgQIECAAAECBAgQIECAAAECBAgQKL2Awn/ph1gHCRAgQIAAAQIECBAgQIAAAQIECBAgQIAAAQIECBAgQKDMAgr/ZR5dfSNAgAABAgQIECBAgAABAgQIECBAgAABAgQIECBAgACB0gso/Jd+iHWQAAECBAgQIECAAAECBAgQIECAAAECBAgQIECAAAECBMosoPBf5tHVNwIECBAgQIAAAQIECBAgQIAAAQIECBAgQIAAAQIECBAovYDCf+mHWAcJECBAgAABAgQIECBAgAABAgQIECBAgAABAgQIECBAoMwCCv9lHl19I0CAAAECBAgQIECAAAECBAgQIECAAAECBAgQIECAAIHSCyj8l36IdZAAAQIECBAgQIAAAQIECBAgQIAAAQIECBAgQIAAAQIEyiyg8F/m0dU3AgQIECBAgAABAgQIECBAgAABAgQIECBAgAABAgQIECi9gMJ/6YdYBwkQIECAAAECBAgQIECAAAECBAgQIECAAAECBAgQIECgzAIK/2UeXX0jQIAAAQIECBAgQIAAAQIECBAgQIAAAQIECBAgQIAAgdILKPyXfoh1kAABAgQIECBAgAABAgQIECBAgAABAgQIECBAgAABAgTKLKDwX+bR1TcCBAgQIECAAAECBAgQIECAAAECBAgQIECAAAECBAgQKL2Awn/ph1gHCRAgQIAAAQIECBAgQIAAAQIECBAgQIAAAQIECBAgQKDMAgr/ZR5dfSNAgAABAgQIECBAgAABAgQIECBAgAABAgQIECBAgACB0gso/Jd+iHWQAAECBAgQIECAAAECBAgQIECAAAECBAgQIECAAAECBMosUDeF//feey+6d+8ee++9d+G98cYbx2mnndao/VlnnRVDhgwp89joGwECBAgQIECAAAECBAgQIECAAAECBAgQIECAAAECBAgQaFKgbgr/TzzxRJxyyilx1VVXRceOHZs8cIX/JonsQIAAAQIECBAgQIAAAQIECBAgQIAAAQIECBAgQIAAAQJtQKBuCv833XRTHHrooTFr1qzYfvvtIxX2+/bt2+gQKPy3gejURQIECBAgQIAAAQIECBAgQIAAAQIECBAgQIAAAQIECBBoUqBuCv933nlnPPzww3HsscfG1VdfHWeeeWakVQDatWu31E4o/Dc5tnYgQIAAAQIECBAgQIAAAQIECBAgQIAAAQIECBAgQIAAgTYgUDeF/7lz50aHDh2Kf+bNm1cs9z916tRYa621YsyYMTF27NglhmPAgAFtYIh0kQABAgQIECBAgAABAgQIECBAgAABAgQIECBAgAABAgQILFtgvfXWW2KHdvPnz5//74T76U9/Gq+++moMHz48xo0bF1//+tdjypQpjR6CJ/7/naPj7yJAgAABAgQIECBAgAABAgQIECBAgAABAgQIECBAgACBehWomyf+X3755ejXr1/xpH/659RTT4399ttP4b9eI8dxESBAgAABAgQIECBAgAABAgQIECBAgAABAgQIECBAgEBdCNRN4b9BY9q0adGzZ88mcTzx3ySRHQgQIECAAAECBAgQIECAAAECBAgQIECAAAECBAgQIECgDQjUXeG/UnOF/0ql7EeAAAECBAgQIECAAAECBAgQIECAAAECBAgQIECAAAECZRZQ+C/z6OobAQIECBAgQIAAAQIECBAgQIAAAQIECBAgQIAAAQIECJReQOG/9EOsgwQIECBAgAABAgQIECBAgAABAgQIECBAgAABAgQIECBQZgGF/zKPrr4RIECAAAECBAgQIECAAAECBAgQIECAAAECBAgQIECAQOkFFP5LP8Q6SIAAAQIECBAgQIAAAQIECBAgQIAAAQIECBAgQIAAAQJlFlD4L/Po6hsBAgQIECBAgAABAgQIECBAgAABAgQIECBAgAABAgQIlF5A4b/0Q6yDBAgQIECAAAECBAgQIECAAAECBAgQIECAAAECBAgQIFBmAYX/Mo+uvhEgQIAAAQIECBAgQIAAAQIECBAgQIAAAQIECBAgQIBA6QUU/ks/xDpIgAABAgQIECBAgAABAgQIECBAgAABAgQIECBAgAABAmUWUPgv8+jqGwECBAgQIECAAAECBAgQIECAAAECBAgQIECAAAECBAiUXkDhv/RDrIMECBAgQIAAAQIECBAgQIAAAQIECBAgQIAAAQIECBAgUGYBhf8yj66+ESBAgAABAgQIECBAgAABAgQIECBAgAABAgQIECBAgEDpBRT+Sz/EOkiAAAECBAgQIECAAAECBAgQIECAAAECBAgQIECAAAECZRZQ+C/z6OobAQIECBAgQIAAAQIECBAgQIAAAQIECBAgQIAAAQIECJReQOG/9EOsgwQIECBAgAABAgQIECBAgAABAgQIECBAgAABAgQIECBQZgGF/zKPrr4RIECAAAECBAgQIECAAAECBAgQIECAAAECBAgQIECAQOkFFP5LP8Q6SIAAAQIECBAgQIAAAQIECBAgQIAAAQIECBAgQIAAAQJlFlD4L/Po6hsBAgQIECBAgAABAgQIECBAgAABAgQIECBAgAABAgQIlF5A4b/0Q6yDBAgQIECAAAECBAgQIECAAAECBAgQIECAAAECBAgQIFBmAYX/Mo+uvhEgQIAAAQIECBAgQIAAAQIECBAgQIAAAQIECBAgQIBA6QUU/ks/xDpIgAABAgQIECBAgAABAgQIECBAgAABAgQIECBAgAABAmUWUPgv8+jqGwECBAgQIECAAAECBAgQIECAAAECBAgQIECAAAECBAiUXkDhv/RDrIMECBAgQIAAAQIECBAgQIAAAQIECBAgQIAAAQIECBAgUGYBhf8yj66+ESBAgAABAgQIECBAgAABAgQIECBAgAABAgQIECBAgEDpBRT+Sz/EOkiAAAECBAgQIECAAAECBAgQIECAAAECBAgQIECAAAECZRZQ+C/z6OobAQIECBAgQIAAAQIECBAgQIAAAQIECBAgQIAAAQIECJReQOG/9EOsgwQIECBAgAABAgQIECBAgAABAgQIECBAgAABAgQIECBQZgGF/zKPrr4RIECAAAECBAgQIECAAAECBAgQIECAAAECBAgQIECAQOkFFP5LP8Q6SIAAAQIECBAgQIAAAQIECBAgQIAAAQIECBAgQIAAAQJlFqi7wv8777wTnTp1ivbt2y/T/ayzzoohQ4aUeWz0jQABAgQIECBAgAABAgQIECBAgAABAgQIECBAgAABAgQINClQN4X/1157LQ499NDo2LFjPPfcc/GDH/wgBg8e3GgHFP6bHFs7ECBAgAABAgQIECBAgAABAgQIECBAgAABAgQIECBAgEAbEKibwv8vfvGLmDVrVpxxxhkxbdq0WH311SM9/d+5c+elDoPCfxuITl0kQIAAAQIECBAgQIAAAQIECBAgQIAAAQIECBAgQIAAgSYF6qbwf+SRR0a/fv1i4MCBMX/+/GKp/ylTpsR6662n8N/kMNqBAAECBAgQIECAAAECBAgQIECAAAECBAgQIECAAAECBNqqQN0U/g866KBI//Tv378Yi9VWWy3uv//+6NWrV4wZMybGjh272Bh16dKlWBHARoAAAQIECBAgQIAAAQIECBAgQIAAAQIECBAgQIAAAQIE2rLAZpttFvvtt98SBO3mp8fu/43b0KFDo2vXrnHCCSfEvHnzolu3bjFz5sziyf9atuZ+JYD2ahmNCH78cgTES47Wkvvy45cjIF5ytMw38SJecgTES46W/CJexEuOgHjJ0ZJfxIt4yREQLzla8ot4ES85AuIlR0t+ES/iJUdAvORotb388m8v/N94440xbNiwuP3222PkyJFx3nnnxX333VfbKIVCc62AEkVtgvz45QiIlxyttndi/niPxYt4yREQLzla8ot4ES85AuIlR0t+ES/iJUdAvORoyS/iRbzkCIiXHC35RbyIlxwB8ZKjJb+IF/GSI1BrvPzbC/9z5syJfffdNyZOnBjpz6NHj44+ffrk9Hmp+9YKodByVgwZMqTmcWhowHjURsmPX46AeMnR8kVTvIiXHAHxkqMlv4gX8ZIjIF5ytOQX8SJecgTES46W/CJexEuOgHjJ0ZJfxIt4yREQLzla8ot4ES/LEvi3F/4bDmbq1KnRs2fPWG655Wobof/7tECvjZEfvxwB8ZKj5YuIeBEvOQLiJUdLfhEv4iVHQLzkaMkv4kW85AiIlxwt+UW8iJccAfGSoyW/iBfxkiMgXnK05BfxIl5yBMRLjlbz55dPrPBfW7eX/PSYMWNi1113bbZmtVcbJT9+OQLiJUdL/hMv4iVHQLzkaMkv4kW85AiIlxwt+UW8iJccAfGSoyW/iBfxkiMgXnK05BfxIl5yBMRLjpb8Il7ES46AeMnRiihN4T+v2/YmQIAAAQIECBAgQIAAAQIECBAgQIAAAQIECBAgQIAAAQLlEChF4f/NN9+MJ598MlZfffVYa6216mpk3njjjXj33XdjjTXWWHhcEyZMiM022yw6dOhQ07Gm1yV07do1PvWpT9XUTsOHH3/88aKtRY+1loYnT55cjMeKK65YdTPJruHzEydOLNpLfa5mu/XWW4tVIVZeeeVqPt7kZ1599dVo3759rLrqqk3uu6wdZsyYEa+//nr06tUrOnbsWFNbi37YeFRH2dzjIV/JV5VEYlvNV+aH+WF+NC5gfpgf5of58XEB14OVzIqP9vH9yu8leRGz+N5+L6lFL6Jefy/x/cr3q0oi2/nD+aOSOGlsH+ePWvScP6rRU49Sj8qNG/WP8tVrW3Xhf+zYsXHYYYfF008/Hb1794633nor5s6dGxdeeGEceOCBufHd7Pun4/jOd75TFJoHDx4cF1xwQfF3rL322pFO+iuttFLW33nzzTfHSSedVBTnd95550jvyUhtn3zyyfHDH/4wq60PPvggRo8evdhnrrzyyqLYnIrje+yxR3bReaeddop777033n///dh7773jn//8Z9H++eefH0cccUTW8aWdf/nLX8bvfve7SOP8H//xHzF9+vRIF2VDhw6NE044Ibu9dMNAsr/iiitim222yf78xz8watSoYnzXXXfdxcbj+9//fpxyyinZ7Y8fPz4GDRpUxHPa0thusskmcdFFF8XWW2+d3Z7xWDA/6mU85Cv5KmcSt7V8ZX6YH+ZH4wLmh/lhfpgfDQKuB10P5uQD5w/nj5x4cf3h98RK48XvieX/PdH5w/mj0nyQ9nP+cP6oNF6cP5w/Ko2VltqvLdVrW3Xhf7XVViuKwwMHDox27doV8fCvf/0rPve5z8XMmTOznoSfN29eHHnkkY3GVAqKnCfXU/E7PZ2eirmf+cxnYs8994z/7//7/6J///5VF/633HLL+O///u945JFHimLm888/X9w8sN1220V6Gn6FFVaoeE7MmTMnNtpoo6KQvs8++xSfS4X67t27x2c/+9m49NJLs/rbcKJPd3HfcMMNceONNxZF+3SHWSraP/bYY1k3EqQn/Xv06BFPPfVU3HHHHXHLLbfE73//+5g9e3ZRBP/HP/4RnTt3rri/Dcd3++23xzHHHBNbbLFFnHjiicX/VrulVRtSXPztb38rbr54+eWXi0JzuqngwQcfzF5ZYOONNy7ieccddyxublhnnXVi++23j3333TdeeeWV6NSpU9ahpi9exqN+xkO+kq9yJnCav20pX5kf5of50biA+WF+mB/mR4OA60HXgzn5wPnD+SMnXlx/+D2x0njxe2L5f090/nD+qDQftMXf280P88P8cH3eGq7PW23hPxXqu3XrFo8++mhRqF5022GHHeKyyy6LzTffPGceFk9WH3300fHrX/86VllllcU+m24uyFl2PRX+05Lv6cn+NddcM5544oniKfp0Y0I6rtwn/tMdUcstt1xxQ0M6jkMOOaQorqdt2223jT/+8Y+x4YYbZvU3Ff2PPfbYor1f/epXRdE53TRxwAEHZLXTsHNDofncc88tXrtw+OGHF/8pFa7TagcbbLBBxe2m8U2vHBg3blzceeedkZaxPO2002L+/PmFX/p3PXv2rLi9hi8iqZ1UQL/88svjzDPPLG6c2GuvveKMM84ofCvd0nikcU3tpSL/wQcfXPw5bSn+0k0KOePR0N6zzz5bHF96mufaa68tbp5IN4uceuqpxeshcjbjUT/jIV/JV/JV49nL/DA/zA/zo0HA913fd3O+7zp/OH84fzh/OH/4vaSa30ucP5w/nD+cP5w/nD+cP5quMrg+d33u+rzxeVLv86PVFv4T+ZAhQ4qny/fbb79IT0unovjdd98d6e7TtIx9TqG+YQhT0TYV1HO/BC4tBL75zW8WT7r//Oc/j379+sWIESPinHPOKZ7OnzVrVvZS/6mfyy+/fJx99tlFET21MXz48LjqqquKVQCq3dIS/6kInm6g+Na3vlV14T8to58K/mlLNxVMmjSpeHL9f//3fyO9X75hVYZKj3PYsGHF6wzSqwfSjQ1f+9rX4oUXXihWTEiF+9wtFcJTcT69KiFtaXI+8MADcddddxUrKOSsmJA+n1YOSO7PPfdcMS677bZbcTNKWp0g9T13S/Gc4qVv377FjStpdYd0o0haVSCtfNC+ffusJo1HfY2HfCVf5UzgtpavzA/zw/xoXMD8MD/MD/OjQcD1oOvBnHzg/OH8kRMvrj/8npgTLw37+j2xnL8nOn84f+TkA+cP54+ceHH+KHc9yvmjfs4frbrwnxLF+o69BAAAIABJREFUrbfeWhRvn3nmmaIYnpa9//znP188GZ62Ll26ZOWeuXPnFkXcj2/vvPNOdnvpqf+0TH1a/j0Vr9OW/n9avjlNgvTqgJzjS4X+6667rlhKPi1RP2XKlGJJ/sMOO6wohlfT34Z+psL8SSedFMcff3zssssuUU1/U1tpafk0FqnA/tWvfjXS0/9ptYRUEK/m+FJhfcyYMfHkk08WS/unu4wOOuigSLa57aVXLZx++ulLXTK/mv5++OGHcc899xTvMko3TaQbFdIxppUOGpblzxnfdMNKQzynH/XSOIwaNapY0aFhBYqc9pY1Huk1FNVsjY3H0uZMU+0vazya+uzS/vuyxiO9biN3W9Z4pNUeqtkay1e5r61o+Lsby1fVHNuy8lW6gSfnVSfp719Wvtpkk02qOcSFn/l4vqq2scbylfnRtKj58dH53PxoOl7SHs4fC87nzh9Nx4vzx0ffd32/ajpe0h6+Xy24HvT9qul4cf3x0e8lrj+ajpdF93D9keeV9nZ9nm+26Cdcn3/0e6Lr86ZjyfW56/Omo2TxPVyfuz6vNGZcn7s+rzRWGvZzfV4f1+etvvDfWOCl4nra9txzz9zYXOr+2quNkV99+dV2ND5djUBaYSKtBpFuFFlnnXWK1T/SyiLpRpGGG3dy2tUevzLFy8f7klaz2WijjYrVcppj015tivw+Wb+bbrqpeG1SWvknrWyVVlJKr2ZKr31qWGkp5wi1x69M8ZJuNk6rtaWVuNIPDGlVsFQAHzx48BKvg6uk39rjV0mcNOxT7/GSHj448sgji/nQHJv2alPkV19+7777bvzpT38qrsnXW2+94pWf6fWPac6sv/762Qervdr80o0i11xzTfzjH/+I6dOnF+fyrbfeunhlau7qoWnwtFebX7rxJK2w+9BDDxUrkabfrPr06VO85rThQaecSaI9fmWKl5y+2JdAWxN4/vnni9Wr00O23/nOdxbenJ6+X6XvWrnnEO0teHiyGj+F/wpnn8J1hVCN7Mbv3++XVoRobEsXtrkXT9r7SLMav0GDBsVLL71UvPYivQoj/QCXVsJouAsuN0K0xy8nZuo5Xt5+++34whe+sFh30itUVlpppVh11VWLQmfOU2nai+IVNPwqmyH1Hi+pF+mGsbRCydNPPx277757nHzyycXqSul8kgqeuZv2+OXETD3HS1rhLf0I/f/+3/+LL3/5y0Vx4Je//GWx8li6weXee+/N6WqxYpz2+FUaNPUeLw3nj7333jvSKmHppuMNN9yw0u4tdb+UD7RXPSG/+oq/dH00Y8aMYiXNl19+uXjtZVop8Nprry2Knbmb9mrzO+qoo4qVPtN5+He/+11xbn/22WeLGzOqedWn9mrzS6+uTa8cTe9A79WrV1HASQ+ypOuRcePGZf+eqD1+OTm13uOlOX8fnzdvXlHQa2xLBdTcFVib8/jScWmvtnpAW/NLD62su+66xUMqqdA/YcKEWG211YobyB5//PHsV59rr3o/hf8KzzwK1xVCKfwXAp90vKQvDunL+QsvvBA9evRY4vUVkyZNyiqkaW/x13/k+qWn89Pyzi+++GLxo0J6ZUUq/qebL3bYYYcYOXJk1lNp2uOXXi9S6Vbv8ZJ+OE9PlP/Xf/1XXHzxxbH55pvH//zP/0Tv3r2LIk568j896Vzppj1+ZYqXRQv///3f/128Puq73/1uMR3S+SM9ibPGGmtUOj2K/RoKudrjV0ng1HO8zJ49uygIvPHGG3HBBRdEWub2xz/+cdGtnXbaKf7whz8U34cr3bTHr0zx0pDv040wd955Z/FKv1RQS6+FSE+ef/rTn650aizcr+EdvtrjV0nw1HO8pOujNAdef/31+Pvf/148xZzmStr69u0bv/nNb2LjjTeupJvFPtprHr9XXnmleBIw3byXXnuZCl7pqf+0MkN6+KLSrWE8tFedX/r9r2PHjjFt2rSiWNOwpX+frtHT9cemm25a6XCE9hZQ8assZFpDvDTn7+1J5aKLLoqjjz66KJI2vOq3QSu9PjnNx0o3v9/X9vs9v9r80vV0ek11WuUlxW26Kf+f//xnjBgxoqrCv/Zq81P4rzBzftKF3KYO0/E1JbTs/15Gv/TjZ/qSnu6aTj+K1rpprzbB9MNHejIz/dCWnkBLTzin9yRtsMEGxVObqZiTs2mPX5niJfXl0UcfLVbCSHc7px9pttxyyzjggANyurnYvtrjlxM89RwvKd///ve/jwcffLA4b5x33nnFjX1f/OIX4/7771/ix4Gm+q09fk3FyKL/vd7jJRX499prr2IJwXQT2W9/+9viJsv0pN/EiROjQ4cOOd0tbhjQHr9Kg6be46Wh8PqpT32qeOo/LaN95ZVXxl/+8pfifJJWB8rZtMevTPGSbqA89dRTi6eXTz/99HjiiSeKmyO32mqrYmWlnBXHkov2avP7/Oc/H0OHDo3ddtstzjjjjOIhiSOOOCK+8pWvFKskppXgcjbt1eaXHlZJr6VM1+fJPt1MkVbC2H///Yul/7t3754zHMXDL9rjV2nQ1Hu8NPfv4w3nkPSbsd/vK42Sj/Zr7vHQXv4YLPqJ9GT/T3/60/jGN75RnMt33nnn4saW9O+qeeJfe9X7KfxXGMtlLAwvq+v6W2FgNLJbvfilJdEOPPDA7B91Guu99qqPi7RkYHr/bHqiOS1bl5ZN23bbbePEE08sfnDI3bTHLydm6j1eGvqS7uYcMmRIDBs2LK6//vqaCv+pTe1Vf+MEv/qJv0suuaQoYKYb+dIP0Y899ljx4/J+++0Xp5xySk4qKPbVHr+coKn3eEk3iqVVMG677baikJm2tdZaKy699NLYc889c7pa7Ks9fjlBU+/xsmihftF+pe9H6ana3Fe/aW+BIr/KZkm9x8uYMWPiRz/6UfHkf7rh69hjjy1uxk/X5ukaPXfTXm1+99xzT3z7298uvu+mhyTSTa/HHXdcsRpcNd93tVebX7reSMutpxUx0rxI37G23377+MlPflK8Xil30x6/nJip93hJfWnu38fTDZrLL7/409Y5Zh/ft7mPT3u1jEbzx0s9j0f6PvS9731v4e9VaXWlVAcZO3ZsVTcea696v1IW/tN7oNKSEmmp1/XXX7+2mRlRvFdKe9Uz8qveLn2yuf1Sm+lJwbQcdrprqjk27VWumO6UTsvdpB+M3nvvvejWrVtN46E9fpVH34JlKOs5/hr6kp6+Tq/HSD/ENUd+0V5t+Z5fffmleZLeSVvr+WPR3KG92r4P8fvk/dL32unTpxfFzFRsqvX7rvZqu17gVx9+6TVj6XUwSyvwV/P9SnsfnTn5NX0FUu/x8vEepMJm+g0xLVFbzfhqr3n8Zs6cuXA1qw8//LAYk1rGQ3u1+aXfrdJcTr8d5r5nfGlZQntN585l7cGvvvxqOxqfJtC2BNLr+dKrLHJezbksIe01HT+tvvCfflRI73saPXr0wt6m90Glu0Fy3oHc8GHtRfE+LX5NT560R73HS2O9qJcVCRzfAgHjUdl8Ey/ipbZI4ccvX0B+zjdb9BP8+OUIiJccrSX35ccvR0C85GiZb+JFvOQIiJccrdaXX2rrnU8TaP0CU6ZMabQT6623XtaKSunhnPTQS2Pb008/XdyQlrM15/Glv1d7H+nnjm9b9MuJVfu2rECrL/yndwsNGjQo9thjj2JJqJQM01M3abnHajbt8cuJm3qPl8b64kIsZ5Rb34WY8TW+OQLiJUdLPhAv4iVHQLzkaMkv4kW85AiIlxwt+UW8iJccAfGSoyW/lC1e0gNOV1xxRaNBcOihhxarCFa6aW9xKX7Ljpx6j5d58+ZFr169ipVIevToscTy/JMmTYrOnTtXOj2K/VJt4XOf+1yMHz++aHPRLf1dOa9mau7j097ir1/IHd+25lfv87etHV+rL/yPHDmyeO/p4MGD4/jjj48bbriheJ/jlVdeuUSyrCTrao9fJXHSsE+9x4vC/wKBsl2INRWj+tuU0LL/Oz9+OQLiJUfLD4PiRbzkCIiXHC35RbyIlxwB8ZKjJb+IF/GSIyBecrTqL7+kVywccsghcc0118TAgQOXeNp42LBhWcv+a2/xp7X5LXt+1Hu8pKOfM2dOrLbaasUDqD179qxtwv/fp7/73e/GqaeeWrzustatuY9Pe7WNSFvyq/f529aOr9UX/idPnhx77bVXUfDv379//PznP4+TTjop7rrrruJ9drmb9vjlxEy9x0tjfXEhljPK9Xch1tTRG9+mhBT+FxUQL+IlR0C85Gg5f4gX8ZIjIF5ytOQX8SJecgTES46W/CJexEuOQFnjZf3114+xY8c2W2FTezlRteS+/OrL7/LLL48DDzwwVlpppdoOrIlPp5UF0lPKa6+9dtbf09zHp70s/iV2bmt+8lVt8dJcfq2+8J8YJ0yYEOmdKK+88kqce+658ZWvfCXSnVLVbtrjlxM79R4vS+tLWS9MGhs3/c2JaD/0iBfxkiMgXnK05BfxIl5yBMRLjpb8Il7ES46AeMnRkl/Ei3jJERAvOVr1m18eeeSR2HTTTZdYyrza3mmvWrkFn+NXX36NHU2qEaRC/ZZbblnbAf/fp5s7nzb38WmvtmEuq598VVtcNJdfKQr/M2fOjCeeeCLmzp27UHWXXXaJDh06VKWsvQh+lYdOvcdLep/MSy+9tLBDl112WbFsV/fu3aNbt26Vd/T/9tQev5ygES/iRbw0LmB+mB/mh/nRICAfyAfygXwgHywQcL2akw0inD+cP3IiRryIl5x4Wdq+d999d1HY7Nu3b61NFZ/XXm2M/OrLr7kL9dqrbXz51ZeffFXbeOT6tfrCfyr2pzsQV1999VhllVUW6qV3r3fq1ClbU3sLyPhVFjr1Hi/ppoR0E8fUqVOLDs2aNSs22mijeOihh6pajkh7/CqbGQv2Ei/iRbw0LmB+mB/mh/nRICAfyAfygXwgH7herWa5YOcP5w/nD+ePljp/NCarkJYz65bclx+/HAHxkqNlvokX8bKoQKsv/I8aNaooUqd3ZTTHpr3aFPnVl99tt90WKekPGjQoLrnkkvjOd74TRxxxRIwbNy46duyYfbDa45cTNOJFvIiXxgXMD/PD/DA/GgTkA/lAPpAP5APXq67Pm86EzpfOl01HyUd7iJfa4kXhf4GAQlrOrFN4FS/iJUdAvORoyS+58dLqC/9PP/10Uci86aabokuXLrVFS0RorzZCfvXld8cdd8Tvf//7+OUvfxlf+MIXiif9999//zj77LNjk002yT5Y7fHLCRrxIl7ES+MC5of5YX6YHw0C8oF8IB/IB/KB61XX501nQudL58umo+SjPcRLbfGi8K/wnzPfxIt4ES/5ArmF3Kb+Bu01JbTs/142v1Zf+L///vtjxx13LEZtrbXWWjh6kyZNis6dO2ePtvYWkPGrLHTqPV5mz54dhx12WHzlK1+J66+/Ph577LFI/+6ZZ56p6ol/7fGrbGYs2Eu8iBfx0riA+WF+mB/mR4OAfCAfyAfygXzgerWaJ/6dP5w/nD+cP1rq/KGQq5Cbk1/EywKBdMPRhx9+GHvuuWc237x58+Kll15a+LnLLrssDjnkkOjevXt069Ytu72lfaCW49NebePLzwoqtU7i3BsTWn3hP71jfcaMGYXb/Pnzo127dsWfe/TosfDPOaja41emeGnoS/rykObH+PHjY6uttopq3h+4qIv2VsoJkyX25ccvJ4DEi3gRL40LmB/mh/lhfvi+6/t9Th4QL+JFvDQt4PuV71dNR8lHe4iXcsfLorHw7LPPxvTp06N9+/ax3Xbb5YTJUvfVXm2E/D5ZvxdeeCHGjBmz8CCGDRsWV155ZfTq1Sv7wGbOnBm77LJLTJ06tfjsrFmzYqONNipW7q32N/zmPL50TNqrfnzbot/HJ4F8lZ0WFvtANX6tvvCfBP74xz/GRRddVCTDL33pS8V7zHfbbbeqNbXHLyd46j1efv3rX8ett94ac+bMWditm2++uaoVMVID2ovgV/kMES/ipfJokV+SlfxSecTIL+Kl8miRX+SXnGgRL+JFvCxLwPnX+TdnhogX8SJeGheo5/mRHh7605/+FKNHj17YgfSa3VTo/OxnP5szrMW+2oviNcX8Kgudeo+XVKBPN79svPHG8c477xQ3xGywwQbFfKlmBZ/bbrst0tO8gwYNiksuuaSobaVXW48bN66q9pr7+LRX2/i2Nb96n79t5fhafeF/2rRpxR1QY8eOjTXXXDPuueeeOPDAA+PNN9+Mrl27VnY2WWQv7fHLCZp6j5fHH3889ttvv7j44otj5ZVXXti1bbfdNjp06JDT1WJf7S0g41dZ6IgX8VJZpCzYS7yIF/HSuID5YX6YH+ZHg4B8IB/IB/KBfOD3Db/nNJ0JnS9rO1/+61//KoqQe+yxRzz55JPRpUuXYsXdVKCsZtMev5y4qfd4Sa/TffTRR2PgwIFx+umnFw+k7r777nHXXXcVcyV3S0vw//73v49f/vKX8YUvfKF4uHX//fePs88+OzbZZJPc5orX/Tbn8WmvtvFta371Pn/byvG1+sJ/mjgpqaa7JBu2XXfdNS644ILYZpttqkqM2uNXaeDUe/ylL+S33HJLMR+aY9NebYr8+OUIiJccrSX35ccvR0C85GiZb+JFvOQIiJccLflFvIiXHAHxkqMlv4gX8ZIjMHLkyJg4cWIMHjw4jj/++LjhhhuK95anpczT63VzN+3xy4mZeo+XVJg/8cQTi1Wo+/btG/fee28MGDAgLr300thwww1zulrsO3v27DjssMPiK1/5SlG0f+yxx4p/98wzz1T1xH9zH5/2ahvftuZX7/O3rRxfqy/8v/3227HpppsWTzT37t07Hnjggfje974XkydPjhVWWCE70WqPX07Q1Hu8vPTSS7H11lvHd7/73eIdQ+3atSu6d/DBB1f1xUF7/HLmh3gRL+KlcQHzw/wwP8yPBgH5QD6QD+QD+cD1ajVLAzt/OH84fzh/tNT5I/2uvtdeexUF//79+8fPf/7zOOmkk4qH79ZYY42c0Cv21R6/nKCp93iZN29e/OY3vylee5GerE9z44ADDiiK9rVsqd20DPn48eNjq622ipVWWqmq5pr7+LRX2/i2Nb96n79t5fhafeE/Zb+77747RowYUbzHfN99942jjz46+vTpU1Vi1B6/3MCp5/ibNGlSDB8+fIkupaWCqrkxRnsLKPlVNkvEi3ipLFIW7CVexIt4aVzA/DA/zA/zo0FAPpAP5AP5QD5YPAZcn1eWFZw/nD8qi5SP9powYUJ88MEH8corr8S5555bPI2cHiyqdtMev5zYqfd4WbQv7777bqy44oo53Vti33HjxhWvsn7vvfcW/rcf/vCHsfzyy9fUbvpwcxxfc/dXe7XFS7371fv8bQvHV4rC//Tp04u7odI7rkaNGhX77LNP9OzZs+qkqD1+OcFT7/GS7iobM2ZMpPeXpOWH0soYtWza45cTP+JFvIiXxgXMD/PD/DA/GgTkA/lAPpAP5APXqzl5QLyIF/HStIDvV7V9v5o5c2Y88cQTMXfu3IXYu+yyS/H7ezWb9iL4VR459R4v6bXT6SHUOXPmLOzUzTffHJ07d668k/+35+uvv178Xv+f//mfsfLKKy/8/HHHHRfLLbdcdnvpA815fNpbMATVjm9b9Kv3+dsWjq/VF/5nzJgRW2yxRfzpT38q7jpcb7314sEHHyy+mDQsa56THbXHr0zx8uGHH8bnPve52GyzzWKdddYp3jmUbopJS3W1b98+p6vFvtrjlxM04kW8iJfGBcwP88P8MD8aBOQD+UA+kA/kA9errs+bzoTOl86XTUfJR3uIl9riJRX706t1V1999VhllVUWwqZ3I3fq1ClnKIp9tbeAjF9loVPv8fL444/HfvvtV7x6etFC/bbbblvVjTHpd/p77rknzj///MqAmtiruY9PewvAqx3ftuZX7/O3rRxfqy/8X3nllZGWZkh3QO20007x/PPPx8CBA+PUU0+NTTbZJDtZao9fTtDUe7ykd2+dc845ccsttxTdSssFbbDBBsU7udL/5m7a45cTM+JFvIiXxgXMD/PD/DA/GgTkA/lAPpAP5APXq67Pm86EzpfOl01HyUd7iJfa4iWtqJuK1JdffnkOe6P7aq82Rn715XfbbbcVv7VfcMEFtR3Y/306vU7jC1/4Qlx44YXFg3sND7Mu+uecv6i5j097OfpL7tvW/OSr2uKlufxafeE/Ff1/9KMfRa9evYqlT0466aTYbrvtincFV7O0ivb45UzNeo+Xhx9+uJgft99+e9Gt9G6ujTfeOEaPHl2sjpG7aY9fTsyIF/EiXhoXMD/MD/PD/GgQkA/kA/lAPpAPXK+6Pm86EzpfOl82HSUf7SFeaouXp59+Oo444oi46aabokuXLjn0S91Xe7UR8qsvv5deeim23nrrYvXpVJNqKNQffPDB0bFjx+yDHT9+fHzjG99Y4nP/+Mc/qqpvNffxaa9dMTbVjm9b85OvslPAYh9oLr9WX/hPKsOHD4+HHnooTjvttDjrrLOKpYiOPvroqoW1xy8neOo9Xvbff/948cUXi+Voxo4dW6yMcckll+R0cbF9tccvJ3jEi3gRL40LmB/mh/lhfjQIyAfygXwgH8gHrldz8oB4ES/ipWkB36+q/351//33x4477lggr7XWWguxq33QTnsLCPk1PW/THvUeL2kcUz3g49vZZ58dK6ywQmWdXMpeb7/9dqSi3+abb17VK3obmmzu49PeAtlqx7et+dX7/G0rx9fqC/+p4P/EE0/EoEGDqk6qi35Qe7Ux8qsvv4ajmTx5ctx3331F0b+aJQQ/3ivt1TbO/PjlCIiXHK0l9+XHL0dAvORomW/iRbzkCIiXHC35RbyIlxwB8ZKjJb+IF/FSiUB6B/KMGTOW2LVHjx4Ln26upJ2GfbS3QIJfZVFT7/GSejFv3rwYM2ZM/Otf/4q+fftG7969K+tcI3ul1QNuuOGG+PSnPx3Tpk0rVvA98cQTq26zuY9Pe7WNb1vyq/f521aOr9UX/p9//vnYZZddIi2Jsuaaa1adDBs+qL3aCPnVl186mp/97GfFe4LSF5FTTz01jjvuuPjxj39c9YFqj19O8IgX8SJeGhcwP8wP88P8aBCQD+QD+UA+kA9cr+bkAfEiXsRL0wK+X9X2/eqpp56KP/7xj/HII4/EnnvuGWkFhZ49ezYN38ge2uOXEzz1HC8ffvhhfO5zn4vNNtss1llnnbj33nuLuZEK9+3bt8/pZrHvY489FgceeGDxv+lVAS+//HKsscYaxf9WM+ea+/i0V9v4tjW/FNP1PH/byvG1+sJ/Kvinp5jTlu6aa9jSsijVvINIewsE+VV2jq73ePnb3/4Wp5xySowcOTLSOwPT8aZ3dN16662xyiqrVNbJRfbSHr+coBEv4kW8NC5gfpgf5of50SAgH8gH8oF8IB+4XnV93nQmdL50vmw6Sj7aQ7zUFi+zZ88uCo7plbppqf+77ror/vznP8fjjz8eyy+/fM5QFPtqj19O0NR7vKT5cM4558Qtt9xSdOu9994rVthN/76alXZvu+22uPrqq+N3v/vdQqYddtiheFXvFltskUNX7Nvcx6e92sa3rfnV+/xtK8fX6gv/H3zwQcyaNWuJBNitW7fspJg+oL0FbPwqC596j5d0p2G6M/c//uM/4rTTTos777yzuEs3vYeomi8i2uNX2cxYsJd4ES/ipXEB88P8MD/MjwYB+UA+kA/kA/nA9arr86YzofOl82XTUfLRHuKltnhJRf5Ro0YVhceGbdttt40RI0YUTzrnbtqL4Fd51NR7vDz88MPFUvy333570alUH9h4441j9OjRxYN3uVtaBn6jjTaKAQMGFPNr3Lhxkf6O9NrearbmPj7t1Ta+bc2v3udvWzm+Vl/4T8nvoosuitNPPz369OlTJNddd921WH6o2k17/HJip57j5a233oqtt946Xn311fjtb38br732WlH0T0sHVbNpj19O3IgX8SJeGhcwP8wP88P8aBCQD+QD+UA+kA9cr+bkAfEiXsRL0wK+X9X2/erFF18sXhuaVg5ND4el/7/NNtvExIkTY9VVV216AD62h/b45QRNvcdL6kuqPaXjTDd0jB07tliRetEbZXL6m/adPn16sYJAWq1kt912K9r/9Kc/ndvMwv2b+/i0V9v4tiW/ep+/beX4Wn3hP723fOedd46bbropzj333GIJot133z0mTZpU1VLm2uOXc0at93iZO3duvPPOO/HGG2/E+uuvX9wxuPnmm0fXrl1zurlwX+3xywkc8SJexEvjAuaH+WF+mB8NAvKBfCAfyAfygevVnDwgXsSLeGlawPer2r5fJeH0O/uvfvWrhdg//elP48gjj2wav5E9tMcvJ3jqPV5SXyZPnlw8lZ+K/tWs3LOoR1o9IL1WY8aMGcVDrl/72teKVXtr2Zrz+Jq7v9rboJahLT5bz+Nb7/O3LRxfqy/8p3eV33jjjcUy5ocffnjx5759+xZfTKp5B4r2+OVk3XqPl/SOoHQzTHqXTHNs2qtNkR+/HAHxkqO15L78+OUIiJccLfNNvIiXHAHxkqMlv4gX8ZIjIF5ytOQX8SJeqhFIN1C88MILxVLmaSnyWjft1SbIr378fvaznxWrYqSHAk899dQ47rjj4sc//nFVB5geYE1PhKc6Q3pd709+8pOitvWPf/wjll9++arabM7jSwegverHty36pT7LV1VN3YUfqtWv1Rf+33///dhqq63i6KOPjquvvjoOO+ywIjE++uij0b59+2xd7fHLCZp6j5e0dMmmm24aX//612O77baLdu3aFd1Ldw127Ngxp6vFvtrjlxM04kW8iJfGBcwP88P8MD8aBOQD+UA+kA/kA9errs+bzoTOl86XTUfJR3uIl9riJRXgqmMEAAAgAElEQVT604q6J598cvF7e1qCPL1KNN1AUs2mPX45cVPv8ZKW4z/llFNi5MiRxWun0ysxjjjiiKJwv8oqq+R0tdj3D3/4Q7F69YEHHlj8hv/II49E//79ixsKNttss+z2mvv4tFfb+LY1v3qfv23l+Fp94T9lvpQML7/88rjjjjtin332icGDB8cmm2ySnRQbPqA9fjnBU8/x8tRTT8Vvf/vbJbqTVshYYYUVcrpZ7Ku9BWT8Kgsd8SJeKouUBXuJF/EiXhoXMD/MD/PD/GgQkA/kA/lAPpAPFo8B1+eVZQXnD+ePyiJlwV5/+tOfilV1zz///FhnnXXi1VdfjQEDBsTw4cOL5chzN+3xy4mZeo+XG264oahHpafz0znozjvvLJblT/OjmiX/06oaX/ziF6N79+6x7777Fq+1TjcAPPvss9GhQ4ccumLf5j4+7dU2vm3Nr97nb1s5vlIU/ufMmRN33313PPTQQ0XBPy2NUu0yKCk5ao9fzhm13uNl5syZxR2HnTt3jjXXXDM233zzWHHFFXO6uNi+2uOXEzziRbyIl8YFzA/zw/wwPxoE5AP5QD6QD+QD16s5eUC8iBfx0rSA71fVf79Krwy9/vrrY8sttyyKmumJ5PTn9B7y1VZbrWn8j+2hPX45QVPv8fLWW28VK2CkG2LSA3evvfZaUfR/7LHHcrq5cN+0pPc///nP4qn/Qw45JH73u98Vr7Du06dPVe019/Fpr7bxbWt+9T5/28rxtfrC/7vvvhsbbrhh9OvXL9Zee+0YPXp0UeBMX0qq2bTHLydu6j1eZs2aVSzxv/HGGxfdSn8eN25c1UtzaY9fzvwQL+JFvDQuYH6YH+aH+dEgIB/IB/KBfCAfuF7NyQPiRbyIl6YFfL+q7ftVerXpoEGD4r777ituALjsssvinXfeKVbcrWbTHr+cuKn3eJk6dWq89NJL8ZnPfCbWX3/94rf29KBd165dc7q5cN/0Co2zzjorUkGyObbmPj7t1Ta+bc2v3udvWzm+Vl/4T18+7rnnnvjVr35V5MUPP/yweKd5esI5vWMld9Mev5yYqfd4ufnmm+PCCy+MESNGxOGHH14s05Xu0E136vbu3Tunq8W+2uOXEzTiRbyIl8YFzA/zw/wwPxoE5AP5QD6QD+QD16uuz5vOhM6XzpdNR8lHe4iX2uIlrar7xBNPFMX/tM2YMSO6deuWMwSL7as9fjnBU+/x8uCDDxZzI82Rdu3a5XRtqfu++OKLRT0rLe+fHtpraPNrX/tadOzYMbv95j4+7WUPwWIfaGt+9T5/28rxtfrCf1oC5fjjjy/ePdSpU6d488034/Of/3yMGTMmVl555exZqT1+OUFT7/EyefLkOPbYY4s7co888sjiLt309H+6E7Gapbm0xy9nfogX8SJeGhcwP8wP88P8aBCQD+QD+UA+kA9cr7o+bzoTOl86XzYdJR/tIV5qi5fnn38+dtlllxg/fnzx2tBaN+3VJsivvvxSwX+HHXaI1VdfvViOv3379sUB/uY3v6nq9bpPPfVU8cqAj2+nnXZarLDCCtmdb+7j015t49vW/OSr7Cm72Aeay6/VF/4feeSR2GqrrYoi/7rrrhsTJkwo/pyW/0/bqFGjYo011qhYW3v8yhQvKfCPOeaYuPbaa2POnDnFzTFHHXVUDB06tOI58fEdtccvJ3jEi3gRL40LmB/mh/lhfjQIyAfygXwgH8gHrldz8oB4ES/ipWkB36+q/36VCv477bRTgdyjR4+F2E8//XR06dKlafyP7aG9BSD8Kgudeo+X1157rbgp5uPb3nvvXdUT+qmdmTNnFitYp1dYp5tt0qsDVlxxxcrAPrZXcx+f9hYAVzu+bc2v3udvWzm+Vl/4nz17dqT3ZDS2peX+l1tuuYqTpPYWp+K37NCp93hpOPrp06cXT/nvtttuseqqq1Y8HxrbUXu1EfLjlyMgXnK0ltyXH78cAfGSo2W+iRfxkiMgXnK05BfxIl5yBMRLjpb8Il7ESyUCH3zwQcyaNWuJXatd7l97Cyj5VRJ9EfUeL6kXafn29JT+2muvHeuss07svPPOscEGG1TWwY/tleZaWuI/rdKbtvTn9Dv+bbfdVlV7zX182qttfNuaX73P37ZyfK2+8F919vNBAm1EIC0zlL6IPPzww7HRRhvFOeecE/vvv3/Vvdcev5zgES/iRbw0LmB+mB/mh/nRICAfyAfygXwgH7hezckD4kW8iJemBXy/qu371UUXXRSnn356sZR5ejBs1113ren3RO3xa3rWfrRHPcfLSy+9FJtsskmcfPLJxeumv/GNb8QPf/jDePzxx2P55ZfP6Wax78033xwXXnhhjBgxIg4//PC48cYbY8stt4w//OEP0bt37+z2mvv4tFfb+LY1vxSw9Tx/28rxKfxnp04fINB6BB599NEYPHhwXHPNNcV7h+6999446KCDYtq0acXSQbmb9vjlxIx4ES/ipXEB88P8MD/MjwYB+UA+kA/kA/nA9arr86YzofOl82XTUfLRHuKltnj517/+VTzBfNNNN8W5554bZ511Vuy+++4xadKkWGWVVXKGothXe/xygqbe4+XPf/5zUZxP86KhUP/5z38+fvWrX8XWW2+d09Vi38mTJ8exxx4bl19+eRx55JFx/fXXF0//p6f+V1tttez2mvv4tHdj1DK+bc2v3udvWzk+hf/s1OkDBFqPQLpj8G9/+1v84he/WHjQe+65ZwwfPryq5Ye0F8Gv8vgXL+Kl8mhZcIezfCU/Vxoz4kV+qTRW0n7iRbyIl8YFzA/zw/wwPxoE5AP5QD6QDxoE0rvGU2HztNNOW1jY7Nu3b1HY3GKLLXJCpdhXezcGv8rDpt7jZcaMGdGvX79Iq4qkOZJ+d99rr72KG2OquZEvyRxzzDFx7bXXxpw5c6JTp05x1FFHxdChQytHW2TP5j4+7dU2vm3Nr97nb1s5PoX/qtKnDxFoHQIvvvhibLPNNvH973+/uFPwkUceiWHDhsVll11WdCB96cz5QqI9fuKl8blvfpgf5of50SAgH8gH8oF8IB+4/nC91fQ1s/Ol86XzpfOl82V9ni/ff//92GqrreLoo4+Oq6++Og477LCi6J9WUmjfvn3TCf5je2iPX07Q1Hu8pL5cccUVRcF/4sSJxW/vadn/Aw44IKebS+w7ffr0eOCBB2KnnXaKVVddtaa2mvv4tFfb+LYlv3qfv23l+BT+a0qhPkygvgXSnYbpfVyNbeedd15079694k5ob3EqfssOHfEiXuSXxueI+WF+mB/mR4OAfCAfyAfygXyw9BhwveV6a1EB50vnS+fLf9/5Mv1N6eGhtPT4HXfcEfvss0/xKtH0XvNqN+3xy4mdeo+Xhr6kYn2PHj1yurbUfR966KEYOXJk3H///bH55pvH9773vVh33XVrbre5jq+5+6u9moe2aKBex7fe529bOD6F/+aZY1ohQIAAAQIECBAgQIAAAQIECBAgQIAAAQKlEHjjjTcivQ95ww03jNVXX73mPmmvNkJ+9eOXlvn/7W9/Gw8//HBstNFGcc4558T+++9f1QG+8sorsd1228UZZ5wRa6yxRvz1r38tVhR47rnnqlphIx1Ecx6f9mob37bol/osX1WVDhZ+qFY/hf/a/H2aAAECBAgQIECAAAECBAgQIECAAAECBAiUQmD+/PkxcODAePDBB4unmcePH18sZZ7eZ17Npj1+OXFT7/GSXnmRVsC45pprihti7r333jjooINi2rRpWa/UbTC59tprIz3xf+aZZy5k2nXXXePSSy8tXt2buzX38WmvtvFta371Pn/byvEp/OdmTvsTIECAAAECBAgQIECAAAECBAgQIECAAIESCqTl/YcNGxbXXXdddOjQIWbMmFEs858KWNUsa649fjnTpN7j5eabb46//e1v8Ytf/GJht/bcc88YPnx4bLDBBjldLfZ9+eWXY7/99ov/+Z//KVbXSKtsfPvb344xY8bEcsstF127ds168r+5j097EbWMb1vzq/f521aOT+E/OxX7AAECBAgQIECAAAECBAgQIECAAAECBAgQKJ/A2LFj43//93/j4osvLjqXnpDceeed4/rrr69qyX/t8cuZJfUeLy+++GJss8028f3vf794Ij+9LzzdKHPZZZcV3ezbt2/Wk//3339/7LHHHo0SPfbYY7H22mtXTNjcx6e92sa3rfnV+/xtK8en8F9xyrQjAQIECBAgQIAAAQIECBAgQIAAAQIECBAor8DTTz8d66+/fuyzzz6x6aabFu8xnzhxYnzzm98sOj1kyJDo1q1bxQDa41emeJk0aVKcfvrpjcb/eeedF927d694fjT3js19fNpbfIRyx7et+cn39ZHvFf6bO7NqjwABAgQIECBAgAABAgQIECBAgAABAgQItEKBtPT4Lbfc0uiRp/eZr7zyyhX3THuLU/FbdujUe7xUHPh2JNAGBep9/raV41P4b4OTT5cJECBAgAABAgQIECBAgAABAgQIECBAgAABAgQIECBAoDwCCv/lGUs9IUCAAAECBAgQIECAAAECBAgQIECAAAECBAgQIECAAIE2KKDw3wYHXZcJECBAgAABAgQIECBAgAABAgQIECBAgAABAgQIECBAoDwCCv/lGUs9IUCAAAECBAgQIECAAAECBAgQIECAAAECBAgQIECAAIE2KKDw3wYHXZcJECBAgAABAgQIECBAgAABAgQIECBAgAABAgQIECBAoDwCCv/lGUs9IUCAAAECBAgQIECAAAECBAgQIECAAAECBAgQIECAAIE2KKDw3wYHXZcJECBAgAABAgQIECBAgAABAgQIECBAgAABAgQIECBAoDwCCv/lGUs9IUCAAAECBAgQIECAAAECTQq8+eabsccee0SfPn1i4sSJ8cILL8Q3v/nN+NGPfhTPP/98HHfccXHffffFZz/72TjyyCPj29/+dtx+++1x8sknx+677x4333xzdOvWLYYMGRLnnHNOPPPMM8VnjznmmJgxY0ZccsklxT8rrrhi/OAHP4ivfe1rTR6THQgQIECAAAECBAgQIECAAIHaBBT+a/PzaQIECBAgQIAAAQIECBAg0KoEXn/99fjMZz5THPN3vvOduPvuu4sbAJ577rk488wz4ze/+U2cd955ceeddxZF/nQzwNixY+OQQw6JjTbaqLhh4Iorrig+n24KuOGGG2L69OnxxhtvxLBhw+KUU06Jn/3sZ8VnRo8eXfzvzjvv3KqMHCwBAgQIECBAgAABAgQIEGhtAgr/rW3EHC8BAgQIECBAgAABAgQIEKhBoKHw/61vfSsuvvji+MMf/hCHHnpo3HjjjbHpppvG9ddfH2mfa6+9Np5++uniBoBU2E+F/1GjRsWXvvSlaN++fey1115x2223FU/7n3XWWTFlypTYZ599YubMmXHUUUfFs88+W9wg8F//9V/x85//vIYj9lECBAgQIECAAAECBAgQIECgKQGF/6aE/HcCBAgQIECAAAECBAgQIFAigYbCfyrYpyf8U4F/wIABReH/0ksvjT//+c9x4oknFsv2jxgxYrHC/1/+8pfYc889o127dnHAAQcUNwn8+Mc/Lgr7Tz75ZLEiQI8ePYqVABq27bffPvbff/8SCeoKAQIECBAgQIAAAQIECBCoPwGF//obE0dEgAABAgQIECBAgAABAgRaTGBZhf9BgwbFuuuuG9ddd13x1P5f//rXuOOOO+LVV18tnvhfVuE/rQ6QVg4YP3583HrrrcXrA/74xz/G0KFDY++9926x/miYAAECBAgQIECAAAECBAgQiFD4FwUECBAgQIAAAQIECBAgQKANCTQU/huW4E9F/v79+xdP/D/++OMxZMiQQmOPPfaI0aNHx69//evo3r17DBw4cGHhv2vXrtGvX7/iif+f/OQncfrpp8czzzwTs2fPjh/+8Idx883/P3vnAnZHVZ3/HRJuQQioCSAXMRRRvFAvEGvpXyhYKMFaBIFGUfACWlFBRbBFVC5VKEK1FNSKl4IoUq2irRUUrBKQS9FGRRSiYkAhYhOuAUzM/1lTTnK+y/ky650159vz7d95Hh4gmb3P3r/1rr1mzzsz59+rPg455JDqdf8bbLBBQYSZKgQgAAEIQAACEIAABCAAAQhAYPgEMP6Hz5xvhAAEIAABCEAAAhCAAAQgAAEIZEvAXvE/Y8aMtOmmm8pjtDcETJ8+PT3+8Y+X+6AhBCAAAQhAAAIQgAAEIAABCEAAAvUJYPzXZ8WREIAABCAAAQhAAAIQgAAEIAABCEAAAhCAAAQgAAEIQAACEIAABCAAgewIYPxnFxIGBAEIQAACEIAABCAAAQhAAAIQgAAEIAABCEAAAhCAAAQgAAEIQAACEKhPAOO/PiuOhAAEIAABCEAAAhCAAAQgAAEIQAACEIAABCAAAQhAAAIQgAAEIAABCGRHAOM/u5AwIAhAAAIQgAAEIAABCEAAAhCAAAQgAAEIQAACEIAABCAAAQhAAAIQgEB9Ahj/9VlxJAQgAAEIQAACEIAABCAAAQhAAAIQgAAEIAABCEAAAhCAAAQgAAEIQCA7Ahj/2YWEAUEAAhCAAAQgAAEIQAACEIAABCAAAQhAAAIQgAAEIAABCEAAAhCAAATqE8D4r8+KIyEAAQhAAAIQgAAEIAABCEAAAhCAAAQgAAEIQAACEIAABCAAAQhAAALZEcD4zy4kDAgCEIAABCAAAQhAAAIQgAAEIAABCEAAAhCAAAQgAAEIQAACEIAABCBQnwDGf31WHAkBCEAAAhCAAAQgAAEIQAACEIAABCAAAQhAAAIQgAAEIAABCEAAAhDIjgDGf3YhYUAQgAAEIAABCEAAAhCAAAQgAAEIQAACEIAABCAAAQhAAAIQgAAEIACB+gQw/uuz4kgIQAACEIAABCAAAQhAAAIQgAAEIAABCEAAAhCAAAQgAAEIQAACEIBAdgQw/rMLCQOCAAQgAAEIQAACEIAABCAAAQhAAAIQgAAEIAABCEAAAhCAAAQgAAEI1CeA8V+fFUdCAAIQgAAEIAABCEAAAhCAAAQgAAEIQAACEIAABCAAAQhAAAIQgAAEsiOA8Z9dSBgQBCAAAQhAAAIQgAAEIAABCEAAAhCAAAQgAAEIQAACEIAABCAAAQhAoD4BjP/6rDgSAhCAAAQgAAEIQAACEIAABCAAAQhAAAIQgAAEIAABCEAAAhCAAAQgkB0BjP/sQsKAIAABCEAAAhCAAAQgAAEIQAACEIAABCAAAQhAAAIQgAAEIAABCEAAAvUJYPzXZ8WREIAABCAAAQhAAAIQgAAEIAABCEAAAhCAAAQgAAEIQAACEIAABCAAgewIYPxnFxIGBAEIQAACEIAABCAAAQhAAAIQgAAEIAABCEAAAhCAAAQgAAEIQAACEKhPAOO/PiuOhAAEIAABCEAAAhCAAAQgAAEIQAACEIAABCAAAQhAAAIQgAAEIAABCGRHAOM/u5AwIAhAAAIQgAAEIAABCEAAAhCAAAQgAAEIQAACEIAABCAAAQhAAAIQgEB9Ahj/9VlxJAQgAAEIQAACEIAABCAAAQhAAAIQgAAEIAABCEAAAhCAAAQgAAEIQCA7Ahj/2YWEAUEAAhCAAAQgAAEIQAACEIAABCAAAQhAAAIQgAAEIAABCEAAAhCAAATqE8D4r8+KIyEAAQhAAAIQgAAEIAABCEAAAhCAAAQgAAEIQAACEIAABCAAAQhAAALZEcD4zy4kDAgCEIAABCAAAQhAAAIQgMDEBB599NG0YsWKtNFGG6UNN9wQXBCAQIcJrF69esTop02bFjabhx56KP3ud79Lm2yySZoxY0ZYv4M66s2lfw6j/6zufG2Nu/XWW9Py5cvTH/zBH6QnPelJrY+fL4AABCAAAQhAAAIQgAAEINBlAhj/XY4eY4cABCAAAQhAAAIQgAAEiiCwaNGidP3116d58+alZz3rWemf/umf0jHHHJPe9773pZNPPrkzDFauXJnWX3/9aryjzb9hTuLP/uzP0hVXXJFuuumm9JznPGeYX813QWAEAcvh9773vWOovOAFL0gf/ehH07Of/exGxA4++OD0hS98IV111VVpzz33XGdfn/zkJ5OZ9kccccQ6jx19wFe+8pX0F3/xF8nGfu2116756z/6oz9K3/3ud9Nll12WXvKSl6Q99tgjLVy4cM3fb7rppullL3tZeuUrX5n22Wef6s///d//Pf3VX/1Vuv/++9ccd8ghh6SPf/zjyY7nAwEIQAACEIAABCAAAQhAAAJjCWD8owoIQAACEIAABCAAAQhAAAKZEzjnnHPS2972tvSP//iPleF/5ZVXps997nOViWb/dOWTi/G/9957Vwwx/ruinKk7TjP9zfw3g//5z39++v3vf1/p0m72MYP7jjvuSJtttpkM4Pzzz0/f+973qvXjaU972jr76T2pr9yYsy7j/8tf/nJ1Y0DP+H/xi1+ctttuu/Szn/0sfetb36rGduONN6addtopbbvttpXp/853vjM9/vGPT5/4xCfST3/60/TqV786fepTn1rnPDgAAhCAAAQgAAEIQAACEIBAiQQw/kuMOnOGAAQgAAEIQAACEIAABDpD4Gtf+1o69thjK9PrqU99amWEbbHFFukf/uEf0mte85rqyVwzyMxA/NKXvlTN60/+5E/SWWedlZ74xCemt7/97ZWRaE/+fvazn62OPe6446rXftsNBQ888EA64YQTqr7sleBmij/5yU9Oz3zmM9PFF19cHWfH29O49rnlllvSO97xjvTtb387bbzxxulFL3pR9V3bb7/9uEz/+Z//OX3kIx+pvsfG+jd/8zfVcWYsTjTu0Z3ZTQMf/OAHqzFZX/bU/uGHH55e+MIXpkceeSR94AMfSF/84hfT//7v/1ZvRjj00EPTy1/+8qobe7r4pJNOSrfddlvad999KyPUmNg/u+yyy4Rt+8dhT0PbP/Z08jXXXFM91bzXXnulM844I2299daVaWtPadtTyWbYPu95z0unnXZaeu5zn5s+85nPVH9nHL/xjW+kLbfcsrqRw+J70UUXVX9mbx/4y7/8y/SGN7yh+tply5ZVvL761a+me++9N/3hH/5hOv3006v42ivQjzrqqGquDz74YPqP//iPtOuuu6a3vOUta57stnjb2yHsWPu7P/3TP61iN94r3+1GiFNPPTXdfPPNlfH6pje9qXrius739BjZOA444IC0atWq9PnPfz5ttdVW6eqrr67mYGP/8Ic/XGlw0Jh++MMfVsded9111XjNGH7zm9+cpk+fXunSftri8ssvr77u7LPPrvRuprnFYP/9908bbLBB+n//7/+lT3/605Vpbnp73eteVx3/3//93+nd73539W/Tt5nPJ554YpozZ06VIzfccEN64xvfmMwoP/rooyt92X/b0/IPP/xwpXPLkx133HHCOHsXlp7xb+xNo724m9ltHxuX3RAwKD52zG9/+9uqrbHZfPPNK42bhiwnbc7/9V//lT70oQ+lxz3ucRNq5hWveEWVX/axG4pMs5Z3gzQ4eq5e4//rX/96xdk+pht7yt80Yqa/5dgf//EfV/qxzw9+8IMql2bNmpU+9rGPeTFzPAQgAAEIQAACEIAABCAAgSIIYPwXEWYmCQEIQAACEIAABCAAAQh0lYC9otvMWjOpd9ttt+rJXTP6+l/1b6/AvvTSS6sbA8wwtNdq23+biWvGmpmG9pk7d271dG3v0///Zoqb4Wbmqn3MOJ09e/aa482kMwPb2phhb08omwFv/Zl5+vOf/zzNnDlzBOZ//dd/XWO+23js5oXex4z/icZtZm//p2eQ2neZcWuGqH1+/etfV4ahGbw2NjMLL7zwwurvbE720wJ2vH1sfmag914f3jP/B7U1k7f/c8opp6T3vOc91R/ZDQPG1z72anO7ucBucDDD3NiZsWymvn3MPDcD2Yzm3ue1r31tZbTb75bbuA866KDKFLcbBuypZ2NtZvN3vvOdiq+Z8b3Xo//P//xPZa7bMaNjZZx/8pOfVP/YE942lpe+9KWVKbx06dLKFH/Vq141Yl7Wnxnz9pk/f351U4cxsrdKWH8Tfc+IjvoM3H/5l3+pbsx461vfWpm55513XnXjwaAx/fmf/3llqtv32o0N3//+96v/NrPdzP2eLntPohtn69NuMLAbPPp/U97Ga7G1z5133lndZGGcbf4HHnhgxdj0YzcG2I0c++23XzJ99z7GyHLIjH+bg90QYyyMo91sYN87KM72W/SeT0/XdnOP9Wlxtaffezd/2M0Upp9B8bEcMl6mDdPkfffdV83PGNhNDv2v+jfTfKJY2k0jdjOKfexGILtZwG6oGKTB0T9DoBr/v/nNb6p8sfXhggsuqOZjurOP/dtuhrGfC7B8sJue+EAAAhCAAAQgAAEIQAACEIDA+AQw/lEGBCAAAQhAAAIQgAAEIACBzAmMftW/PTHdM/7NtN5mm22qGfz4xz9OG264YfU72WbIf/Ob36yeEDfj3wxLe4rXbh4wU9QMTzM+7WlpMxrN+DRjrWew2pP9Zjbb09D2dgEzQM18tP/vGaBmUu6+++5Vf/bUuj0x3P+xmw6uuOKK6s0CZmzak7r2NLV9zJCdaNxmEvd/7HXnZgSb2f70pz+9esOBfa89jWzGoc3dxm9PKB922GGV+WlP0V9//fXVMWasm3lr5uIznvGMqmtrb8cNamtPmfd/esa/sTBje8mSJWvedGC87DXm1r+9ecBY2fH2WnIbq3E149/MWXsLgr2pwG4GMGPWjH8bo91oYW8vMLPTzGaLlRn3Zlhbe3vbw9///d+n17/+9dXT6Wbi2k0BP/rRj6onvY2nHWtjeOihh6qY2lzN9LYnv+0GCbtxYfRvyttT9eeee25lslt8rJ31bzdRmBE80feYRvo/vZs9zIy/5JJLqqf+bUwWI6hZ4UwAACAASURBVIv5oDHZ3E3TCxYsqJ40N5423x122KGac13j3wxwY2s3N9gNIPaKeIuLGcr2Bgybk2nVnh7vPVHeM/5tzPb2hqc85SnVTQiWQzYmyxubg+WWmdD2NoxBce7dGNLTeO8tHPb/Fk/Ll/5Pz/gfbwn6t3/7t+r7JoqP3YRgb0ewm1rsBgG7Ycby0N5SYByPPPLISmd2A1HP+B+kGYtl/6v+7QaUiTQ4+sl7r/FvczZ9927Esf//xS9+Ud2oYzcyWb7036hkf29verA3kPCBAAQgAAEIQAACEIAABCAAgbEEMP5RBQQgAAEIQAACEIAABCAAgcwJTGT8m7luT8OO9zFz38xPM/7t6V8zcM1ItN/a7hmkvafu7VXxZrabwWrG4N133111+Z//+Z/Jnsa2p3DNRLan2u0JbjMj7WNm8Zlnnlk9lX3yySePGIb9frcZ6z2z3sxf69s+9pr8icZtNyX0PvaGAzNt7TPeb4/bE+s2j/43CtixdtOBmf1m+ppJaYa5fWweNiYz/tdbb72Bbe0Giv5Pz/i3/uyJaPuYkWtPj9tNFqNvFOi1tRsF7DvNyOznZE9z26vpe0+n2/FmRlv/9nME9qr93k0W9ndm3Nsr0S0W9jS2xdNe624x6h+LvTLfzH4zgHtvHeiNxWJkY+j/jH7ivfd3Fivre6Lv6d1E0WuzYsWK6gl7M3N7MTZD3Z7Mt58uGDQme3uEmbp2k4m9JaD/YzdDjDb+//qv/7p6In/0E/92M4rF9F3velf1Ew6mV4v78ccfX/Xf/xlt/Js5vueee1aHWN70vxnBDGq7OcNuRhj9Nor+ONsNIb2PvWK/15/9md1s8Ld/+7cjxtAz/i3H7G0Lxs1uHDFN9WI7UXzsJhLTSL9O+r9gvCf+B2nGYtlv/FvuTKRBezNE/6e3VtibACwnex+7MWHRokXVz1HYPO3pflt/7Dj7iYwnPOEJVe5Yvo3+yRB7k4j99IPdUGI3MNjH/sxuCOEDAQhAAAIQgAAEIAABCEAAAiMJYPyjCAhAAAIQgAAEIAABCEAAApkTmMj4NyPVXi9uxqSZ+/Y75/fcc0/1xO/OO+9c/dZ9HePfDGJ7+r9nsNpT8PZa9t5325PY9qS9PTlur6m337G3T8+U7DfWezjtN+7N1L7sssuqp6btv+3P7GOv4Z9o3D2j3441s98MQbuJwMxje7rdbmqwp8LtBgF7wt+MRXs63Ux2M1DNWDTj3576t6e47U0FZ511VvVGAPs5BDNYbTzWflDbQcb/K1/5ysoYtr7spwTs03trgD0Z/tWvfrV6Kty+w35awIzw3qv++41ta2NvDbBYGQ97QtvGZHOwNznYGwzsSW47xj42D7t5wGJhP/9ghrzN1b7PPr2bEMz4Nz4f/OAHq/mZ4WzxMpN5POPfngq3NxP0YmtvG7AbP0wLZqJP9D2jjX8bR+8JdfsJBHtlvo3PxmljHjQm04IZ7XYjiRn2FmuLp83fTP4ZM2ZUczRW9uR9720So43/3o0h/ca/3QRhT/2b0Ww/p/CrX/0qvfjFLx7zxH/v5hj7DtOPxa/36n17I4J9THN2s8agOPe/6t9uWLE3TvQ+9kT96J8C6Bn/9rMPJ510UnVof578/ve/r24yGRQfe/W9vZ2g92p/O97eOvDoo49WN3iYVkc/8T9IM6ONfzP2J9Kg6bX/0/8GDLupxX76w948sckmm1SH3X777VUe94x/e/uDxXH0x25msHy1sdsbDXqf3o1EdkOJaYsPBCAAAQhAAAIQgAAEIAABCIwkgPGPIiAAAQhAAAIQgAAEIAABCGROwExHM1PtSV0z8+wV3L1X/dsTxGZo2hPsZvLaa+LtyWT72KvVzUSuY/yPftW/GWvPf/7zq1fA28cM0+c85znVzQD2MfPfnu6++OKLq/83M9We3u3/2M8MmJlpNyWYkW2v7zZD1z5mmk80bjNr+z+919zbE8NmcPeeWjdz1sxJM0vNJLQnx+1Y+9icNt5448qotc9RRx1VmfxmRtvH2ti4BrUdbUr2nvi3tmZMmjFqT2Ybc3vdvr2C3HjZk+T2lLuNx95CYG9YMJPfTPt+47/3Wnxjbb/vbn3Z2xRsnPZv+1kAe9W5zbl3E4Z9tz05ba/Qn8iQtxsT7EYB+614M1rt1f3GyuJhJnP/pzcOe8LftGM3gRi7t73tbZX56jX+7QntnjFrsTcD3G6QsPkPGpP9FETvZg/Tjd20YT9BYf9tY+o9NW6Gvd2YYH9nnzrGv5nN9lv1NiYbg91YYBqw/zcTuXfzSs/4N/P8Wc96VpVTFnNjb/lmZv/ixYurm2EGxdluMPB8xjP++9+MYW87sBtnTE/jxcdupOixsTXCjHZ7Y4S9vcPeQjHeE/91jH+bn60dlvODNGi6HP3pmfOW2/YUv731wPKr/waWdRn/lkt244x9LEa27lne2k8f2P9fc801a95M4GHNsRCAAAQgAAEIQAACEIAABKY6AYz/qR5h5gcBCEAAAhCAAAQgAAEIdJ6AGWFm5JnxaGas/Sa8GZFmStpT2j/5yU8qk86MY/uY2WrGr73+u/dk9Lpe9T/a+LfXyX/nO9+p+nvLW95SmZ329Lc9PWxPiPd+l9u+ywy58V5zbyak3Yxghr99bDxmgtvHnsyeaNyjg2ZPC5upagZgb45mWNv87HfU7WlxG5MZjGbamnltpqo9/dx7Ut7aGTt7tbixMkPS+p2obf84esa/Gfs2jt73mTFrBqnddHD00UevuRnC2vaesrffqben2fuNf7v5wZ7mtlj1Pmb2X3755WmbbbZJP/jBDyrjtv8nDMzoNQ3YTwFMZMjbU/FmmPZ+I93eEmA3afRebz+a79/93d+NeA39gQcemD7xiU9Ur1X3Gv8WWzPLbdy9J/jt++ytBhONqfd2id7YDjrooPTpT3+6emK89zMH9ndmgBsnM/9NW8ao/xX1dozdLPD+97+/etW/3aRiNwz0bhYwTdoT9KZd+015Y2P67+WItbcYmJHez95iaG8tmCjOvXHUXXTsBhbTSP/PAPS/ScLeWGG5NSg+9vYLu7HHfsKjl5N2I4rdHGJvAugZ/zb3zTbbbJ2x7L2twcZvbw6xG3oGaXC8OdqNES972cvW5KkdYzcB2BphuWefnvFvN3eMfqtGr0+Lt607Pf3an5sO7acUxnvLRF3eHAcBCEAAAhCAAAQgAAEIQGAqE8D4n8rRZW4QgAAEIAABCEAAAhCAwJQhYGbg8uXLq9dn2z+jP2a22tP0Zrab4dd7NboHQO+31M1YtVe9m+lnpuusWbNGdGNjMYPPfuv8KU95ysDfPO81sn5sfGZmNxm39WGvE7fXiNtr0/vnaK82/+Uvf1nNfTzz1V65b09Sm/loNzD0f9bVtndsz/i31+ibWWy87bfGR/dnT7j/+te/rr5rvFiNZmA/X2AGpz3xbk9M9/fXi+t9991Xza33Uwx14mptLU5PfvKT1/wkwUTtjKsZ/b3fXa/zHd5j1jUmG4OxsDH0/9yDfY+9dt90afpU9G3xMvPb/qn7sTc1mN6N4eh23jjX/c5Bx00UH3sLgnGzGz5srN4bEPq/07Rmc7afEbB+FA2api0fbSx2c4LysXhbHlne2hsu7J8m81LGQBsIQAACEIAABCAAAQhAAAJdIoDx36VoMVYIQAACEIAABCAAAQhAAAItEhht/Lf4VZ3sut/4t6fG+UAAAhCAAAQgAAEIQAACEIAABCAAgVwIYPznEgnGAQEIQAACEIAABCAAAQhAYJIJ2FO+9lpve9LXnmrnM5LA5z73uep1+fYK8kGvKIcZBCAAAQhAAAIQgAAEIAABCEAAAhCYDAIY/5NBne+EAAQgAAEIQAACEIAABCAAAQhAAAIQgAAEIAABCEAAAhCAAAQgAAEIBBHA+A8CSTcQgAAEIAABCEAAAhCAAAQgAAEIQAACEIAABCAAAQhAAAIQgAAEIACBySCA8T8Z1PlOCEAAAhCAAAQgAAEIQAACEIAABCAAAQhAAAIQgAAEIAABCEAAAhCAQBABjP8gkHQDAQhAAAIQgAAEIAABCEAAAhCAAAQgAAEIQAACEIAABCAAAQhAAAIQmAwCGP+TQZ3vhAAEIAABCEAAAhCAAAQgAAEIQAACEIAABCAAAQhAAAIQgAAEIAABCAQRGIrxv3LlyrRs2bI0e/bsNcN+8MEH08Ybb5zWW2+9oKnQDQQgAAEIQAACEIAABCAAAQhAAAIQgAAEIAABCEAAAhCAAAQgAAEIQKA8AkMx/t/+9renH/zgB+nyyy9P99xzT1qwYEGaMWNGuv3229Pxxx+fjjjiiPLIM2MIQAACEIAABCAAAQhAAAIQgAAEIAABCEAAAhCAAAQgAAEIQAACEIBAAIHWjf/LLrssfeQjH0n21L8Z/x/4wAfS/fffn04//fR01113pa233jrZ0/8zZ84MmA5dQAACEIAABCAAAQhAAAIQgAAEIAABCEAAAhCAAAQgAAEIQAACEIAABMoi0Krx/7Of/Sy94Q1vSCeddFI67bTTKuP/da97Xdpnn33SYYcdllavXl296n/x4sVp7ty5ZZFnthCAAAQgAAEIQAACEIAABCAAAQhAAAIQgAAEIAABCEAAAhCAAAQgAIEAAq0Z/w8//HDaa6+90gUXXJCWL1+e3vve91bG/yGHHFL9c/DBB1fD33LLLdN1112Xdthhh3T11VenhQsXjpjW7Nmz05577hkw1fa6mLvjjiGd/2zx4pB+6AQCEIAABCAAAQhAAAIQgAAEIGAE2K+iAwhAAAIQgAAEIAABCEAAAhCAwNQjMN5D9a0Z/2by77vvvmm33XZL9957b/rpT3+ajjrqqLTNNtukzTbbLB177LFp1apVaYsttqhuDLAn/8f7nHHGGemEE07IOxrTpsWMb/XqmH7oBQIQgAAEIAABCEAAAhCAAAQgYATYr6IDCEAAAhCAAAQgAAEIQAACEIDAlCJgb90fqvH/0EMPpTvvvLOC+P3vfz+dffbZ6dJLL0033XRTOvfcc6un/+3/7c+vvfbagbAx/qeUDpkMBCAAAQhAAAIQgAAEIAABCAyTAMb/MGnzXRCAAAQgAAEIQAACEIAABCAAgdYJDN3475/R9ddfn0466aTK7F+xYkXaf//9080331z99xVXXJHmzZs3EADGf+va4AsgAAEIQAACEIAABCAAAQhAYKoSwPifqpFlXhCAAAQgAAEIQAACEIAABCBQKIFJNf7HY75kyZK01VZbpfXXX3/CkGD8F6pYpg0BCEAAAhCAAAQgAAEIQAACzQlg/DdnSA8QgAAEIAABCEAAAhCAAAQgAIGMCGRn/Ndlg/FflxTHQQACEIAABCAAAQhAAAIQgAAERhHA+EcSEIAABCAAAQhAAAIQgAAEIACBKUUA47/NcHIhpU269A0BCEAAAhCAAAQgAAEIQAACKgH2qyo52kEAAhCAAAQgAAEIQAACEIAABLIkgPHfZli4kNImXfqGQNEEli5dGjL/OXPmhPRDJxCAAAQGEYher6L7I3IQgMBgAuRbM3Vkz4/9arMA0xoCEIBARwhE16Po/jqCkWFCAAIQgAAEIACBThDA+G8zTFxIaZMufUOgaAI//OEPQ+b/zGc+M6QfOoEABCAwiED0ehXdH5GDAAQGEyDfmqkje37sV5sFmNYQgAAEOkIguh5F99cRjAwTAhCAAAQgAAEIdIIAxn+bYeJCSpt06RsCRRNgo110+Jk8BDpFIHq9iu6vUzAZLASGTIB8awY8e37sV5sFmNYQgAAEOkIguh5F99cRjAwTAhCAAAQgAAEIdIIAxn+bYeJCSpt06RsCRRNgo110+Jk8BDpFIHq9iu6vUzAZLASGTIB8awY8e37sV5sFmNYQgAAEOkIguh5F99cRjAwTAhCAAAQgAAEIdIIAxn+bYeJCSpt06RsCRRNgo110+Jk8BDpFIHq9iu6vUzAZLASGTIB8awY8e37sV5sFmNYQgAAEOkIguh5F99cRjAwTAhCAAAQgAAEIdIIAxn+bYeJCSpt06RsCRRNgo110+Jk8BDpFIHq9iu6vUzAZLASGTIB8awY8e37sV5sFmNYQgAAEOkIguh5F99cRjAwTAhCAAAQgAAEIdIIAxn+bYeJCSpt06RsCRRNgo110+Jk8BDpFIHq9iu6vUzAZLASGTIB8awY8e37sV5sFmNYQgAAEOkIguh5F99cRjAwTAhCAAAQgAAEIdIIAxn+bYeJCSpt06RsCRRNgo110+Jk8BDpFIHq9iu6vUzAZLASGTIB8awY8e37sV5sFmNYQgAAEOkIguh5F99cRjAwTAhCAAAQgAAEIdIIAxn+bYcr8Qgon6m0Gn74h0C4B8rddvt7eS4tHafP16oHjRxKI1kt0f8QrLwLEl3jkRaDZaLLXc+b71Wb0aV0agdzzLffxlaaX0uYbrb/o/qLjkfv4oudLfxCYTALk22TS57shkBcB1oN84oHx32YsMr+QQiK2GXz6hkC7BMjfdvl6ey8tHqXN16sHjsf4RwM6AdYXnV0bLYlHM6rZ88t8v9qMPq1LI5B7vuU+vtL0Utp8o/UX3V90PHIfX/R86Q8Ck0mAfJtM+nw3BPIiwHqQTzww/tuMReYXUkjENoNP3xBolwD52y5fb++lxaO0+Xr1wPEY/2hAJ8D6orNroyXxaEY1e36Z71eb0ad1aQRyz7fcx1eaXkqbb7T+ovuLjkfu44ueL/1BYDIJkG+TSZ/vhkBeBFgP8okHxn+bscj8QgqJ2Gbw6RsC7RIgf9vl6+29tHiUNl+vHjge4x8N6ARYX3R2bbQkHs2oZs8v8/1qM/q0Lo1A7vmW+/hK00tp843WX3R/0fHIfXzR86U/CEwmAfJtMunz3RDIiwDrQT7xwPhvMxaZX0ghEdsMPn1DoF0C5G+7fL29lxaP0ubr1QPHY/yjAZ0A64vOro2WxKMZ1ez5Zb5fbUaf1qURyD3fch9faXopbb7R+ovuLzoeuY8ver70B4HJJEC+TSZ9vhsCeRFgPcgnHhj/bcYi8wspJGKbwadvCLRLgPxtl6+399LiUdp8vXrgeIx/NKATYH3R2bXRkng0o5o9v8z3q83o07o0ArnnW+7jK00vpc03Wn/R/UXHI/fxRc+X/iAwmQTIt8mkz3dDIC8CrAf5xAPjv81YZH4hhURsM/j0DYF2CZC/7fL19l5aPEqbr1cPHI/xjwZ0AqwvOrs2WhKPZlSz55f5frUZfVqXRiD3fMt9fKXppbT5Rusvur/oeOQ+vuj50h8EJpMA+TaZ9PluCORFgPUgn3hg/LcZi8wvpJCIbQafviHQLgHyt12+3t5Li0dp8/XqgeMx/iM1sHTp0pDu5syZE9LP6E6ixxe9vkSPrxWIGXcaHY+Mp9rK0LLnl/l+NToorAfRRPPqL/d8y318eUWze6PJfX2J1l90f9ERz3180fPNXX/R86W/ZgSi9VJavjWjP7Z1dDyixxfdX2nzjeaXe3+5rwe56y9yfBj/bWZL5hdSck/ENkND3xDoOgHyN68IlhaP0uabl9q6N5povUT3lzvR3OcbPb7c+8tdL9Hji45H9Phy7y97fpnvV6Pjm308oidcWH+5xzf38RUml/Dp5h7f6PFF9xcdkNzHx3yjCdCfh0B0fkT355nLVDi2NH6lzXcqaNQzh9zjW9L4MP49yvUem/mFlNyF7sXN8RAoiQD5m1e0S4tHafPNS23dG020XqL7y51o7vONHl/u/eWul+jxRccjeny595c9v8z3q9HxzT4e0RMurL/c45v7+AqTS/h0c49v9Pii+4sOSO7jY77RBOjPQyA6P6L788xlKhxbGr/S5jsVNOqZQ+7xLWl8GP8e5XqPzfxCSu5C9+LmeAiURID8zSvapcWjtPnmpbbujSZaL9H95U409/lGjy/3/nLXS/T4ouMRPb7c+8ueX+b71ej4Zh+P6AkX1l/u8c19fIXJJXy6ucc3enzR/UUHJPfxMd9oAvTnIRCdH9H9eeYyFY4tjV9p850KGvXMIff4ljQ+jH+Pcr3HZn4hJXehe3FzPARKIkD+5hXt0uJR2nzzUlv3RhOtl+j+ciea+3yjx5d7f7nrJXp80fGIHl/u/WXPL/P9anR8s49H9IQL6y/3+OY+vsLkEj7d3OMbPb7o/qIDkvv4mG80AfrzEIjOj+j+PHOZCseWxq+0+U4FjXrmkHt8Sxofxr9Hud5jM7+QkrvQvbg5HgIlESB/84p2afEobb55qa17o4nWS3R/uRPNfb7R48u9v9z1Ej2+6HhEjy/3/rLnl/l+NTq+2ccjesKF9Zd7fHMfX2FyCZ9u7vGNHl90f9EByX18zDeaAP15CETnR3R/nrlMhWNL41fafKeCRj1zyD2+JY0P49+jXO+xmV9IyV3oXtwcD4GSCJC/eUW7tHiUNt+81Na90UTrJbq/3InmPt/o8eXeX+56iR5fdDyix5d7f9nzy3y/Gh3f7OMRPeHC+ss9vrmPrzC5hE839/hGjy+6v+iA5D4+5htNgP48BKLzI7o/z1ymwrGl8SttvlNBo5455B7fksaH8e9RrvfYzC+k5C50L26Oh0BJBMjfvKJdWjxKm29eauveaKL1Et1f7kRzn2/0+HLvL3e9RI8vOh7R48u9v+z5Zb5fjY5v9vGInnBh/eUe39zHV5hcwqebe3yjxxfdX3RAch8f840mQH8eAtH5Ed2fZy5T4djS+JU236mgUc8cco9vSePD+O9TbnjgM7+QEj5fzyowCceWNt9JQMxXDpFAtJ6j+xsiCumroucb3Z80qSE2Yr4a7Gc+85law463itZLdH+5442eL/1pEW8rf6Pjoc1ucKvcx5f7fKP5RfeXCtuvhvOLFiD9NSKQe3yjxxfdXyP4Q2gcPV/604LWOx8qjZ9Ga3itouMRPfLcxxc93+j+ovnl3l/u/EobH/ONJjC1+8t9fYkeX3Q0I8eH8d8XnUiwVbeFXUiJFnp0f+HxjR4g/UHAQSBaz9H9OaYyKYdGzze6v0mB4vhS5uuA1XdoW8ahNprhtYrWS3R/wyOhfVP0fOlPi0Nb+RsdD212g1vlPr7c5xvNL7q/0var4fyiBUh/jQjkHt/o8UX31wj+EBpHz5f+tKBh/Gvc2m4Vrefo8eY+vuj5RvcXzS/3/nLnV9r4mG80gandX+7rS/T4oqMZOT6M/77oRIKtusX4j9Z+o/7C49toNDSGQDMC0XqO7q/Z7NpvHT3f6P7aJ9DsG5ivxq8t41AbzfBaReslur/hkdC+KXq+9KfFoa38jY6HNrvBrXIfX+7zjeYX3V9p+9VwftECpL9GBHKPb/T4ovtrBH8IjaPnS39a0DD+NW5tt4rWc/R4cx9f9Hyj+4vml3t/ufMrbXzMN5rA1O4v9/UlenzR0Ywc36QZ/48++mhauXJlmjlzpsTnjDPOSCeccILUdlCjSLDVd2D8h8anaWfh8W06INpDoAGBaD1H99dgakNpGj3f6P6GAqHBlzBfDV5bxqE2muG1itZLdH/DI6F9U/R86U+LQ1v5Gx0PbXaDW+U+vtznG80vur/S9qvh/KIFSH+NCOQe3+jxRffXCP4QGkfPl/60oGH8a9zabhWt5+jx5j6+6PlG9xfNL/f+cudX2viYbzSBqd1f7utL9Piioxk5vkkx/k888cR05ZVXpl122SUtX748feYzn0kzZsxIs2fPTvvtt1/Fa+edd06nnnrqQHYY/81lFSmk5qNpv4fS5ts+Ub5hMglE6zm6v8lkU+e7o+cb3V+dOUzmMcxXo9+WcaiNZnitovUS3d/wSGjfFD1f+tPi0Fb+RsdDm93gVrmPL/f5RvOL7g/jX1NQW+uBNhpa9QiE50cw2ujxRfcXPN3w7qLnS39aiDD+NW5tt4rWc/R4cx9f9Hyj+4vml3t/ufMrbXzMN5rA1O4v9/UlenzR0Ywc39CN/wcffDDttdde6frrr6+47LHHHumd73xneupTn5pOPvnkdPHFF1c3Aazrg/G/LkLr/vtIIa372yb/iNLmO/nEGUGbBKL1HN1fm3OP6Dt6vtH9RcyxzT6Yr0a3VKMgWi/R/WnRHF6r6PnSnxa7tvI3Oh7a7Aa3yn18uc83ml90fxj/moLaWg+00dCqRyA8P4LRRo8vur/g6YZ3Fz1f+tNChPGvcWu7VbSeo8eb+/ii5xvdXzS/3PvLnV9p42O+0QSmdn+5ry/R44uOZuT4hm7892/KPvnJT6aLLroo3XLLLWnhwoVpwYIF6f7770+77bZbMmPfbhAY9MH4by6rSCE1H037PZQ23/aJ8g2TSSBaz9H9TSabOt8dPd/o/urMYTKPYb4a/VKNgmi9RPenRXN4raLnS39a7NrK3+h4aLMb3Cr38eU+32h+0f1h/GsKams90EZDq/5rTBE02opvdP5G9xfBrs0+oudLf1q0MP41bm23itZz9HhzH1/0fKP7i+aXe3+58yttfMw3msDU7i/39SV6fNHRjBzfpBn/ixYtSueff371mv8vfelLafXq1emmm25KxxxzTLrkkkvS+9///uqGgGnTpo3Lz4z/I488MoTtnDlzqn4iwVYdDhi7e9CrV7ub1GkQPt86XzqJx+Q+36VLl4bQ6ek5pLO+TnIfX2nzjdZzdH+56yV6vtH9Res5ur/c5xutv+j5Ro8vOr7R44vmF91fNL/o/qLnS39ahLpiBGmzG9wqWi/R44vuL3q+ufcXvV8trX5Ezzf3/qLzLbq/6HzLfXy5z7c0ftHxoD9NQW3dmKCNZnitovUSPfLcxxc93+j+ovnl3l/0+VD0fHOPbzS/3OcbPb7o/nKPR/T4ovMt9/6i9RI536Eb/3feeWe68cYb00tf+tKKy7vf/e50zz33pA996ENp+vTp1T+rVq2qXve/ZMmStO2226arr766eiPA6M/8+fND2M6cObPq56GHHgrtb+6OO4b0T0K9oQAAIABJREFU97PFi0P6Gd1J9HxbGWRgp7nPl/EFBjugq9LiET3f6P4CQjqii+jxRfcXPd/o/nKfb/T4cu8v9/iWxo94aATaOh+P1p82u8GtGF800Wb9Rccj9/6i96u5z5fxafnRW5+11sNrFR3f6JFHjy+6v+j5RvcXPV/60yLUlfO16PhqtIbXKvf55j6+4UVK+6ZofvSnxaGt86Hc46HR6u7+t7T55q6/3MeXu17mzp07ZojTVtsj+C18li1blp72tKel733ve2mrrbZKhx9+eHrRi16U7IaA3/zmN+m8885L11xzTfXniycwvO2J/yjjv7U7QnnivwUF6V1G3jGjj2JwS8bXBlW9z9LiET3f6P70SI7fMnp80f1Fzze6v9znGz2+3PvLPb6l8SMeGoG2zsej9afNjvO/tt6YkHs8ovUX3V/0E//R46M/TeFtrafaaIbXKlov0SOPHl90f9Hzje4ver70p0WorfUl93hotIbXKppf9MhzH1/0fKP7i+ZHf1qE2trP5B4PjVZ397+lzTd3/eU+vpz1MvQn/g3GKaecks4666w0a9astOuuu6YLL7wwPfzww2mfffapnvS3f973vvelAw44YCA7jP/msopOnOYjareH3OfL+NqNv7f30uIRPd/o/rzxW9fx0eOL7m9d45/sv899vtHjy72/aD3kPt/o8UXzi+4ver70p0WoKxd6tNlxYaZHoLT8wPjXMgbjS+PWdqvo/I0eb/T4ovuLnm90f9HzpT8tQqx/Gre2W0XrOXq8uY8ver7R/UXzoz8tQl3ZD0bHV6PF/rKt/WXu8YjWX+795RyPSTH+DciKFSsqs3+LLbYYweeuu+6q3gSwrg/G/7oIrfvvoxNn3d84uUfkPl/GN7n6GP3tpcUjer7R/UWrI3p80f1Fzze6v9znGz2+3PvLPb6l8SMeGoGuXEjWZtfdCx/R+RvNL7q/6Pnm3h/Gv6agrqxX0frTaA2vVe7zjR5fdH/Di5T2TdHzpT8tDqx/Gre2W0XrOXq8uY8ver7R/UXzoz8tQhj/GreuXW+PmeXaXqLzLffxRc839/5yjsekGf9NoWD8NyWYUnTiNB9Ruz3kPl/G1278vb2XFo/o+Ub3543fuo6PHl90f+sa/2T/fe7zjR5f7v1F6yH3+UaPL5pfdH/R86U/LUJdudCjzW5wq2i9RI8vur/o+ebeH8a/piCML41b262i8y16vNHji+4ver7R/UXPl/60CLH+adzabhWt5+jx5j6+6PlG9xfNj/60CHVlPxgdX40W+8segdLiET3f3PvLOT8w/lNKbZ24Rl9IyVlI0WNro7/ohSJ6jIwvmmiz/kqLR/R8o/trFs2xraPHF91f9Hyj+8t9vtHjy72/3ONbGj/ioRFo63w8Wn/a7Lp74SN3frnHI5pfdH/R+9Xo8dGfpvC21lNtNMNrFa2X6JFHjy+6v+j5RvcXPV/60yLU1vqSezw0WsNrFc0veuS5jy96vtH9RfOjPy1CGP8at9GtovUXM6r2esl9vtHjK62/aOVE8sP4x/hvrM+2Cl/jgY3qIDJxosdm/TG+NqjqfZYWj+j5RvenR3L8ltHji+4ver7R/eU+3+jx5d5f7vEtjR/x0Ah05UKyNrvBraLzo7Tx5T7f6PhG94fxrymoK+tVuF40XENrlft8o8cX3d/QAiV+UfR86U8LBOufxq3tVtF6jh5v7uOLnm90f9H86E+LUFv+R+7x0Gh1d/9b2nxz11/u48tZLxj/GP+N9Unha4yw6iB6IYsZ1dpech9fafONjgf9aQoq9cIHekEvdQh0JT/qzGUyjyHfNPpd0V90fDVa3b0wE82vtP4w/rWMKXV9KS0/mG+z/NBaD68eEV8tQqWufxqt4bWK1nP0yHMfX/R8o/uL5kd/WoTwPzRuo1tF6y9mVO31Ej1f+tNi1db5izaa4ZzvYvxj/DfWJ4WvMcKqg+iFO2ZUa3vJfXylzTc6HvSnKaitEwfiQTzqEEB/dSgNPqat85dmoxrbmvVAI1pqfmi0hrPxjB5bG+fPpeUbxr+mylLXl9Lyg/k2yw+t9fDqEfHVIlTq+qfRGl6raD1Hjzz38UXPN7q/aH70p0WoresHucdDozW8eh49vuj+co8v49Mi3oX1AOMf419Td1+rLgi9jQuDjcGN6iB6oS1tfKXNN1ov9KcpqNQLH+gFvdQh0JX8qDOXyTyGfNPod0V/0fHVaHX3wkw0v9L6w/jXMqbU9aW0/GC+zfJDaz28ekR8tQiVuv5ptIbXKlrP0SPPfXzR843uL5of/WkRwv/QuI1uFa2/mFG110v0fOlPi1Vb5y/aaIZzvovxj/HfWJ8UvsYIqw6iF+6YUa3tJffxlTbf6HjQn6agtk4ciAfxqEMA/dWhNPiYts5fmo1qbGvWA41oqfmh0RrOxjN6bG2cP5eWbxj/mipLXV9Kyw/m2yw/tNbDq0fEV4tQqeufRmt4raL1HD3y3McXPd/o/qL50Z8WobauH+QeD43W8Op59Pii+8s9voxPi3gX1gOMf4x/Td19rbog9DYuDDYGN6qD6IW2tPGVNt9ovdCfpqBSL3ygF/RSh0BX8qPOXCbzGPJNo98V/UXHV6PV3Qsz0fxK6w/jX8uYUteX0vKD+TbLD6318OoR8dUiVOr6p9EaXqtoPUePPPfxRc83ur9ofvSnRQj/Q+M2ulW0/mJG1V4v0fOlPy1WbZ2/aKMZzvkuxj/Gf2N9UvgaI6w6iF64Y0a1tpfcx1fafKPjQX+agto6cSAexKMOAfRXh9LgY9o6f2k2qrGtWQ80oqXmh0ZrOBvP6LG1cf5cWr5h/GuqLHV9KS0/mG+z/NBaD68eEV8tQqWufxqt4bWK1nP0yHMfX/R8o/uL5kd/WoTaun6Qezw0WsOr59Hji+4v9/gyPi3iXVgPMP4x/jV197XqgtDbuDDYGNyoDqIX2tLGV9p8o/VCf5qCSr3wgV7QSx0CXcmPOnOZzGPIN41+V/QXHV+NVncvzETzK60/jH8tY0pdX0rLD+bbLD+01sOrR8RXi1Cp659Ga3itovUcPfLcxxc93+j+ovnRnxYh/A+N2+hW0fqLGVV7vUTPl/60WLV1/qKNZjjnuxj/GP+N9Vlq4Vu6dGljdtbBnDlzqn6iF+6QwfV1Ej2+aH6lzTc6HvSnKaitEwfiQTzqEEB/dSgNPqbHL7oeRffHeqDFudT80GgNZ+Np30J+aBFqS88Y/3nFg/WeeNQh0NZ6EK0/1vs60Rx7TFfiG62X3PvTojm8VtH8okcePb7o9SW6v9z5RcejtP5Ki2/u840eX3R/peVHafONrh+R/DD+Mf4br2elGv+RiVii8R/Nr7GQR3UQPT760yLEhQ+NW68V/ODnIYBePLS4UIte8tRLs1GNbc35i0a0K/mB8T+140v+Et86BLqyXqHnOtHk/LQtPWv0h9cqOj+iRx49vtz7g59GoK38jdaLNrvBraLHF91f7vONHl90f9HxoD8tQl1ZXyLji/GP8a9lS18rjP9mCNtaeJqNqnsXfkubb2QhMHb0pymorfwlHsSjDgH0V4fS4GPgBz8Pga7oxTOnOsdSj+pQ6q7RgvE/teNL/hLfOgS6Ut/Qc51odrce5R5fjf7wWkXzix559Phy7w9+GoGu1CNtdoNboWeNaFt+lDaa7sY3d/0xPk2Rlh8Y/xj/mnr6WrW10JLYWmhKjYdGi8LclRNr1gNN4cRX49ZrBT/4eQigFw8tLky3pZdmURjbmvqrEW0rvtHxwPif2vGN1gv9oZc6BLqy/qHnOtHkfK2t62sa/eFdv8p9fLnnL/w0Al2pH9rshpe/0fmR+3yjxxfdX3Q86E+LUFfWl8j4Yvxj/GvZgvGf/RPSjQM7qoPIhce6ju6vtPlG86M/TUElnji0kb/oD/3VIUC+1aE0+Bj4lcGv2Swx/kurRxj/Wsawnmrceq3gBz8PAfTioTX2WPjF8GvWS/uto89fokccPb7c+4OfRqAr65U2u8Gt0LNGtNQbs3LXC+NrpudIfhj/GP+aGjH+w43ryMRuHNRxOogeX3R/0XOOHh/9aRHqyok/8SW+dQig5zqUMK4xRn7YTCiPtS4130Lg9XVCfdOIdkV/GP9TO77kL/GtQ6Ar6xV6rhNNjP+29KzRH16r6PyIHnn0+HLvD34agbbyN1ov2uww/nsEco9HafGNjgf9aQpqY/3D+Mf419SI8Y/xLyqnjYVMHMqEzShUGtW24ks8iEcdAuivDiWMdYx1jHUlU7qyvihzm6gN9Vcj2hm9TJumTXB0q9Wrqz9BLxrOruiF+BLfOgTQcx1KnI937Xy8WVTbbx29PkePOHp8ufcHP41AV+qHNrvBrdCzRpQn/jVuXau/uedHzuPD+Mf4b7ZK9PFr3NGoDnJOnC5c2CotHqXNl/zQIt6VjQTxJb51CKDnOpS4sMrGrqwbHZplxdjW1CONaFfWZ574n9rxJX+Jbx0CXVmv0HOdaI49hvhq3EafPzfrpf3W0fkRPeLo8eXeH/w0Al1Zr7TZYfz3CETnb3Q8ovuLni/9aRHqyvoSGV+Mf4x/LVv6WpWYOF0w/iMXCuarpwn5obOzlvCDn4cAevHQ4sIgekEvHgJd0YtnTnWO5XyyDqXurqcY/1M7vuQv8a1DoCv1DT3XiWZ36xHxJb51CLBe1aE0+Bj4wc9DoK0n6nNf7z2M6hyb+3wZX50odvP8CuO/RWMp+kKKJsPBrUhsjSgnShq3Xiv4wc9DAL14aHXzRMRGTT3S4kx+aNyoR2U9AV/a+tIsK8a2Lo1fafON3q+Wxo/5aisO5y8aN85fOH9RlEO+KdTWtoEf/DwE0IuHFtevuqKXZlHt3v6ytPmyn9Ei3oX8xfjH+NfU3deqC0LHWNLDTHx1dtYSfvDzEEAvHlpsFNELevEQQC8eWt1dX5rNsnsXZrhQoUV8zRM806ZpHYxutXp19SfEQ8PJ+qxx67WCH/w8BNCLh1Z3z4eoR1qcyQ+NG/WIG7MU5XQl35S5TdQm9/W5tPnmHg/GpynS1heM/xaNuegnKLQwD25F4mhEu1KYiS/xrUMAPdehNPgY+MHPQwC9eGhxoRG9oBcPgVJfxcj5rkcla4/F+Ne4cWGfC/uKcqjnCrWx6xXrvcYR/WncWO9Z7xXlkG8KNdb73Otbs6iObc18NaKsLxq3kus5xj/Gf7OsaZFf7oWA8WnSoVBp3EouVDZ38k3TDfmmcSPfuNCjKId8U6hxoSe6vjWLQvcuzETzK62/6BvVS+PHfLUVh3qpceP8lPNTRTnkm0KN81Pqm6Yb8k3jRn3Lu741i2r39pelzZf1Xot4F9Z7jP8WjevoCymaDAe3IrE1ol1IbIxSLbbWivjq7ODXjB384OclwHrlJTbyePjBz0OgK3rxzKnOsewX6lAae0xn9MKr/qUAdyW+5K8UXvaDGrY1rciPZgDhBz8PAfTiodXd8zXquRZn8kPj1mtV6hvlmlEb25r81YiSvxq3/vzF+G/R6MP41wRKYmvcRhdmCovGEf1p3NBf3nfosh5oumY90LixHrAeKMoh3xRqa9uUemGG+qbphlf9a9yob9Q3RTnUN4Xa2PrGeq9xRH8aN9Z71ntFOeSbQo31Pvf61iyq3TPCS5tv7vpjfJoirR5h/HfI+F+6dKkW6VGt5syZU/0JiaPh5ERO48bGiY2TohzyTaHGxon6pumGfNO4Ud+ob4py2so39gtKNMp941P0jerUX/RXh0Bb6x/6q0N/7DHEQ+PG+R/nf4pyyDeFGtc3qG+absg3jdvo+lba/rK0+bK+aHnShfUF479Dxj+JOHUTkRsxtNhaqy4stMSX+NYlgJ7rkhr/OPjBz0MAvXhoYRSgF/TiIdAVvWD8e6KK8cD1CPRSh0BX1j/0XCeanP+hZ00n3BjDjTGKcsg3hRrnp9RzTTfkm8atS/UN479F45ALKVoCsfBo3Lq08GCE6zEmP3R23CjSjB384OclwHrlJTbyePjBz0MAvXhoYWTwqn/04iHA+uKhxfqCXtCLhwB68dBifUEv6MVDAL14aLG+oBf04iHQBb1g/GP8ezQ97rFdEDpGsx5m4quzwyhtxg5+8PMSYL3yEsNo5vxA1wz5prOjvjVjB784ftyorrFk/dO49VrBD34eAujFQwvjBr2gFw8B9OKhxfqCXtCLhwB68dBifWlDL5Nm/D/66KNp5cqVaebMmSMi++CDD6aNN944rbfeehOq44wzzkjz589vpqDHWrcBtup62rSQ8aXVq6t+eHWJhrOt+BIP4lGHAPqrQ2nwMfCDn4cAevHQ4sQavaAXDwH04qHF+tIVvbBf1XTdlfiyXyW+dQig5zqU2K/2CKAX9OIhgF48tDh/Ri/oxUMAvXhosb6UqJdJMf5PPPHEdOWVV6ZddtklLV++PH3mM59JK1asSAsWLEgzZsxIt99+ezr++OPTEUccMVDBGP96cpcodG6cQC91CZAfdUmNfxz84OchgF48tDhRRy/oxUMAvXhosb6UqheMfy1PStULNxKglzoEyI86lLiRgBsJ+A14JVNYXxRqa9vAD34eAujFQ4v9NHrJTy9DN/7tif699torXX/99RWNPfbYI73zne9MN998c7r//vvT6aefnu6666609dZbJzt29BsBeggx/nUxkYg6O2sJP/h5CKAXDy1OlNALevEQQC8eWqwv6AW9eAigFw+t7q4vGP9anMkPjRtGH0afohzyTaGG0ceNSppuyDeNG/WN+qYoh3xTqFHfqG+abkrMt6Eb/73QmEg/+clPposuuijdcsst1RP+++yzTzrssMPS6tWrq1f9L168OM2dO3fcaGL8ayLHuNa5cSLHiZyinhILi3HiRERRCzcWadQ48SffNOWwPmvcOB/ifEhRDvmmUGu/vmH8a3FBzxo36gf1Q1EO+aZQa79+sP/Q4oKeNW7UD+qHohzyTaFG/aC+aboh3zRubda3STP+Fy1alM4///zqNf9f+tKX0kc+8pF0yCGHpIMPPria75Zbbpmuu+66tMMOO6Srr746LVy4cAy9+fPnNyP6WOveWwUeeuih0P7m7rhjSH8/W7y46id6fPSnhactvRAP4lGHAPqrQ2nwMfCDn4cAevHQGnss/ODnIYBePLTIN/QSoxf2qxpH9Kdx67WCH/w8BNCLhxbnB+gFvXgIoBcPLdYX9IJePATQi4cW60tbehnvofppq+2x+xY+d955Z7rxxhvTS1/60qr3d7/73emee+6pXu2/2WabpWOPPTatWrUqbbHFFmn58uXVk//jfXjiXw8Od+Do7Kwl/ODnIYBePLTGHgs/+HkIoBcPLfINvaAXDwH04qHF+tIVvfDEv6brrsSXJ5aIbx0C6LkOpcHHwA9+HgLoxUOL80n0gl48BNCLhxbrC3qZ+noZ+hP/y5YtS0972tPS9773vbTVVlulww8/PL3oRS+q/vvcc89Nl19+ebr00kvT2Wefna699tqBEcD418VJYuvsMP6bsYMf/LwEWK+8xEYeDz/4eQigFw8tNoroBb14CKAXD63hrS8Y/1pc0LPGrdcKfvDzEEAvHlrDqx/cWKTFBT1r3KgfvOpfUQ75plBb2wZ+8PMQQC8eWsM5Xxu68W/TOuWUU9JZZ52VZs2alXbdddd04YUXpo022ijtv//+6eabb04rVqxIV1xxRZo3b95AYhj/uphIRJ2dtYQf/DwE0IuH1nAKn30LFyq0uKBnjRsXKrhQoSiHfFOocaGC+qbpptR8w/hHL3UIlJofrKd11MH+jfzQdML+iP2RohzyTaHG/oh6rumGfNO4Ud+ob4py2si3STH+bfJm7j/88MPVK/37P0uWLKme/l9//fUnZITxr0jo/9q0ISSMNOJRlwD6q0tq/OPgBz8PAfTiocWFS/SCXjwE0IuHFusLeslTLxj/WlzQs8aNC6FcCFWUQ74p1DD6MPo03ZBvGjfqG/VNUQ75plCjvlHfNN2UmG+TZvxrIVrbCuNfJ1ii0LkxAb3UJUB+1CXFjQlGAL2gFw8B9OKhhVGKXtCLhwB68dBifenpBeNf0w35pnHDGMEYUZRDvinUMEYwRjTdkG8aN+ob9U1RDvmmUKO+Ud803ZSYbxj/LRo3XEghEesQKHHh4UaMOsrAWMdY13XCxpONp6Ie6pFCjY0nG09NN+Sbxo36Flvf2K9qOiR/NW7kb2z+Un81HZK/Gjfyl/xVlEO+KdTYX1LfNN2Qbxo36hv1TVFOF/IN4x/jX9H2iDZdEDpGsx5m4quzw7huxg5+8PMSYL3yEht5PPzg5yGAXjy0xh4LP/h5CLSlF4x/TxS4EM+FePRSh0Bb6xX6q0Of8w30p+kE4wvjS1EO+aZQ43ySeq7phnzTuJVc3zD+Mf6bZU2L/CgEWmgoBBq3kguBzZ1803RDvmncyDcuLCjKId8UalxYoL5puiHfNG5dq28Y/1qcyQ+NW9fyg/qhxZn80LiRH+yPFOWQbwo19kfUN0035JvGjfpGfVOUQ74p1EbWN4z/Fo1rLqRoAiWxNW4UUgqpohzyTaHGRpGNoqYb8k3jRn2jvinKId8UatS30uob+1UtT1hfNG7Uc+q5ohzyTaFGPS+tnjNfLU9YXzRu1HPquaIc8k2hRj2nvmm6sXzD+Mf419TT14qFuxlC+MHPQwC9eGiNPRZ+8PMQQC8eWuQbekEvHgLoxUOL9aUtvWD8azpsKx5c2CIedQigvzqUBh8DP/h5CKAXDy3O19ALevEQQC8eWqwv6AW9eAhg/D9Gq63E4UKKR45rj20rHlxIIR51CKC/OpS4kNIjgF7Qi4cAevHQYmOHXtCLhwB68dBifenphf2qphvyTePG+TNPCCrKId8Ualxf4/qfphvyTeNGfaO+Kcoh3xRq1Dfqm6abEvONJ/554l/Llr5WJSaOTZ+FVpMOetG4sZFgI6Eoh3xTqLGRoL5puiHfNG7UN+qbohzyTaE2tr5h/Gsc0Z/GjfWe9V5RDvmmUGM/w35G0w35pnGjvlHfFOWQbwo16hv1TdNNifmG8Y/xr2ULxj/Gv6icEhdabhQRxdLi+syJkhYT8lfjxoUALgQoyiHfFGpcCKC+abopNd8w/tFLHQKl5gfraR11jD0GvWjc2C+wX1CUQ74p1NgvUN803ZBvGjfqG/VNUQ75plAbWd8w/ls0lriQogmUxNa4UUgppIpyyDeFGhtFNoqabsg3jRv1jfqmKId8U6hR30qrb+xXtTxhfdG4Uc+p54pyyDeFGvW8tHrOfLU8YX3RuFHPqeeKcsg3hRr1nPqm6cbyDeMf419TT18rFu5mCOEHPw8B9OKhNfZY+MHPQwC9eGiRb+gFvXgIoBcPLdaXtvSC8a/psK14cGGLeNQhgP7qUBp8DPzg5yGAXjy0OF9DL+jFQwC9eGixvqAX9OIhgPH/GK22EocLKR45rj22rXhwIYV41CGA/upQ4kJKjwB6QS8eAujFQ4uNHXpBLx4C6MVDi/Wlpxf2q5puyDeNG+fPPCGoKId8U6hxfY3rf5puyDeNG/WN+qYoh3xTqFHfqG+abkrMN57454l/LVv6WpWYODZ9FlpNOuhF48ZGgo2EohzyTaHGRoL6pumGfNO4Ud+ob4pyyDeF2tj6hvGvcUR/GjfWe9Z7RTnkm0KN/Qz7GU035JvGjfpGfVOUQ74p1Khv1DdNNyXmG8Y/xr+WLRj/GP+ickpcaLlRRBRLi+szJ0paTMhfjRsXArgQoCiHfFOocSGA+qbpptR8w/hHL3UIlJofrKd11DH2GPSicWO/wH5BUQ75plBjv0B903RDvmncqG/UN0U55JtCbWR9w/hv0VjiQoomUBJb40YhpZAqyiHfFGpsFNkoaroh3zRu1Dfqm6Ic8k2hRn0rrb6xX9XyhPVF40Y9p54ryiHfFGrU89LqOfPV8oT1ReNGPaeeK8oh3xRq1HPqm6YbyzeMf4x/TT19rVi4myGEH/w8BNCLh9bYY+EHPw8B9OKhRb6hF/TiIYBePLRYX9rSC8a/psO24sGFLeJRhwD6q0Np8DHwg5+HAHrx0OJ8Db2gFw8B9OKhxfqCXtCLhwDG/2O02kocLqR45Lj22LbiwYUU4lGHAPqrQ4kLKT0C6AW9eAigFw8tNnboBb14CKAXDy3Wl55e2K9quiHfNG6cP/OEoKIc8k2hxvU1rv9puiHfNG7UN+qbohzyTaFGfaO+abopMd944p8n/rVs6WtVYuLY9FloNemgF40bGwk2EopyyDeFGhsJ6pumG/JN40Z9o74pyiHfFGpj6xvGv8YR/WncWO9Z7xXlkG8KNfYz7Gc03ZBvGjfqG/VNUQ75plCjvlHfNN2UmG8Y/xj/WrZg/GP8i8opcaHlRhFRLC2uz5woaTEhfzVuXAjgQoCiHPJNocaFAOqbpptS8w3jH73UIVBqfrCe1lHH2GPQi8aN/QL7BUU55JtCjf0C9U3TDfmmcaO+Ud8U5ZBvCrWR9Q3jv0VjiQspmkBJbI0bhZRCqiiHfFOosVFko6jphnzTuFHfqG+Kcsg3hRr1rbT6xn5VyxPWF40b9Zx6riiHfFOoUc9Lq+fMV8sT1heNG/Wceq4oh3xTqFHPqW+abizfMP4x/jX19LVi4W6GEH7w8xBALx5aY4+FH/w8BNCLhxb5hl7Qi4cAevHQYn1pSy8Y/5oO24oHF7aIRx0C6K8OpcHHwA9+HgLoxUOL8zX0gl48BNCLhxbrC3pBLx4CGP+P0WorcbiQ4pHj2mPbigcXUohHHQLorw4lLqT0CKAX9OIhgF48tNjYoRf04iGAXjy0WF96emG/qumGfNO4cf7ME4KKcsg3hRrX17j+p+mGfNO4Ud+ob4pyyDeFGvWN+qbppsR844l/nvjXsqWvVYmJY9NnodWkg140bmwk2EgoyiHfFGpsJKhvmm7IN40b9Y36piiHfFOoja1vGP8FGkyMAAAgAElEQVQaR/SncWO9Z71XlEO+KdTYz7Cf0XRDvmncqG/UN0U55JtCjfpGfdN0U2K+Yfxj/GvZgvGP8S8qp8SFlhtFRLG0uD5zoqTFhPzVuHEhgAsBinLIN4UaFwKob5puSs03jH/0UodAqfnBelpHHWOPQS8aN/YL7BcU5ZBvCjX2C9Q3TTfkm8aN+kZ9U5RDvinURtY3jP8WjSUupGgCJbE1bhRSCqmiHPJNocZGkY2iphvyTeNGfaO+Kcoh3xRq1LfS6hv7VS1PWF80btRz6rmiHPJNoUY9L62eM18tT1hfNG7Uc+q5ohzyTaFGPae+abqxfMP4x/jX1NPXioW7GUL4wc9DAL14aI09Fn7w8xBALx5a5Bt6QS8eAujFQ4v1pS29YPxrOmwrHlzYIh51CKC/OpQGHwM/+HkIoBcPLc7X0At68RBALx5arC/oBb14CGD8P0arrcThQopHjmuPbSseXEghHnUIoL86lLiQ0iOAXtCLhwB68dBiY4de0IuHAHrx0GJ96emF/aqmG/JN48b5M08IKsoh3xRqXF/j+p+mG/JN40Z9o74pyiHfFGrUN+qbppsS840n/nniX8uWvlYlJo5Nn4VWkw560bixkWAjoSiHfFOosZGgvmm6Id80btQ36puiHPJNoTa2vmH8axzRn8aN9Z71XlEO+aZQYz/DfkbTDfmmcaO+Ud8U5ZBvCjXqG/VN002J+TZpxv/KlSvTAw88kDbffHMpWmeccUaaP3++1HZ0o7YCz4UULTxtxYOFkXjUIYD+6lAafAz84OchgF48tMYeCz/4eQigFw8t8g29lKEX9qtanMkPjRvGCMaIohzyTaGGMcL1P0035JvGjfpGfVOUQ74p1Khv1DdNNyXm26QY/2effXb66Ec/mubNm5fuu+++ZCb+DjvskGbPnp3222+/Kno777xzOvXUUwdGEuNfE7m1KlHoNm8WRk0z6EXjxok/J/6Kcsg3hRon/tQ3TTfkm8aN+kZ9U5RDvinU2q9vGP9aXNCzxo36Qf1QlEO+KdTarx/sP7S4oGeNG/WD+qEoh3xTqFE/qG+absg3jVub9W3oxv+jjz6aNtxww+pp/0022SSddtpp6e67705vetOb0sknn5wuvvjiNGPGjHWSwvhfJ6KBB5CIOjtrCT/4eQigFw+tscfCD34eAujFQ4t8Qy/oxUMAvXhosb50RS8Y/5quuxJfLlwS3zoE0HMdSoOPgR/8PATQi4cW55PoBb14CKAXDy3WF/Qy9fUydOPfkC5btixtscUW6aGHHkp77713eutb35oe97jHpQULFqT7778/7bbbbtVbAPbaa6+BEcD418VJYuvsMP6bsYMf/LwEWK+8xEYeDz/4eQigFw8tNoroBb14CKAXD63hrS8Y/1pc0LPGrdcKfvDzEEAvHlrDqx/cWKTFBT1r3KgfPPGvKId8U6itbQM/+HkIoBcPreGcr02K8W9Tu+mmm9KRRx5ZPT19wQUXpIULF1Z/dswxx6RLLrkkvf/970+33HJLmjZt2rjUMP51MZGIOjtrCT/4eQigFw+t4RQ++xYuVGhxQc8aNy5UcKFCUQ75plDjQgX1TdNNqfmG8Y9e6hAoNT9YT+uog/0b+aHphP0R+yNFOeSbQo39EfVc0w35pnGjvlHfFOW0kW+TYvx/85vfrJ7u//CHP5wOPfTQioX9BMD06dOrf1atWlW97n/JkiVp2223TVdffXV1Y8Doz/z58xWOY9rMnDmz+jN7A0HEp9ff3B13jOgu/Wzx4lbGFz1f+tPC3Zb+iAfxqEMA/dWhNPgY+MHPQwC9eGiNPRZ+8PMQQC8eWuRbqXphv6rlSal6YX+JXuoQID/qUGJ/2SOAXtCLhwB68dDi/B69oBcPAfTiocX60hW9zJ07d0ywpq1evXp1s3CP39q6nTVrVvrGN76Rdt999zUHvec970m/+c1v0nnnnZeuueaadPjhh6fFjxne4/XEE/96dNq4g8RGwx10WkyIh8at1wp+8PMQQC8eWmOPhR/8PATQi4cW+YZe0IuHAHrx0Bq8vvDEv8YR/Wnc2L/xBJSiHPJNoba2Dfzg5yGAXjy02L+hF/TiIYBePLRYX9BLc70M/Yn/2267Le20004jRv7qV7+6erX/PvvsUz3pb/+8733vSwcccMDAGWL868EncXR21hJ+8PMQQC8eWpzYoBf04iGAXjy0WF/QC3rxEEAvHlrdXV8w/rU4kx8aN4x/jH9FOeSbQg3jnweTNN2Qbxo36hv1TVEO+aZQo75R3zTdlJhvQzf+1xWau+66K2211VbrOixh/K8T0cADShS6wWBh1DSDXjRunPhz4q8oh3xTqHHiT33TdEO+adyob9Q3RTnkm0Kt/fqG8a/FBT1r3Kgf1A9FOeSbQq39+sH+Q4sLeta4UT+oH4pyyDeFGvWD+qbphnzTuLVZ37Iz/usiwvivS2rscSSizs5awg9+HgLoxUOL9Qq9oBcPAfTiocX6gl7Qi4cAevHQ6u76gvGvxZn80Li1eWHL+uZCrRYX9KxxQ88YkYpyyDeFGkYk9U3TDfmmcaO+Ud8U5ZBvCrV26xvGf4tGLhdSNMGzUGjcKMwUZkU55JtCrd3CzIVLPSboWWdnLeEHPw8B9OKh1V1jmAuNWpy7kh/sV6d2fMlf4luHQFfWK/RcJ5qcb6BnTSdcT+R6oqIc8k2hxvVE6rmmG/JN41ZyfcP4b/FCNxdStIRkIdO4lbyQYZTqmiHfdHYYpc3YwQ9+XgKsV15iI4+HH/w8BNCLh1Z3jRb2q1qcyQ+NG/tVjCVFOeSbQg1jCWNJ0w35pnGjvlHfFOWQbwo16hv1TdNNifmG8Y/xr2VLX6sSEwejWZcNetHZYZQ2Ywc/+HkJsF55iWE0c36ga4Z809lR35qxK5kfxr+mHdYrjRvGCMaIohzyTaGGMYIxoumGfNO4Ud+ob4pyyDeFGvWN+qbppsR8w/jH+NeyBeOf3xAUlVPiQosRJIqlxfWZEyUtJuSvxo0LAVwIUJRDvinUuBBAfdN0U2q+YfyjlzoESs0P1tM66hh7DHrRuLFfYL+gKId8U6ixX6C+aboh3zRu1Dfqm6Ic8k2hNrK+Yfy3aCxxIUUTKImtcaOQUkgV5ZBvCjU2imwUNd2Qbxo36hv1TVEO+aZQo76VVt/Yr2p5wvqicaOeU88V5ZBvCjXqeWn1nPlqecL6onGjnlPPFeWQbwo16jn1TdON5RvGP8a/pp6+VizczRDCD34eAujFQ2vssfCDn4cAevHQIt/QC3rxEEAvHlqsL23pBeNf02Fb8eDCFvGoQwD91aE0+Bj4wc9DAL14aHG+hl7Qi4cAevHQYn1BL+jFQyDM+F+9enVasmRJ2mijjdLjH//4NGPGDM84pGPPOOOMNH/+fKnt6EZtJQ4XUrTwtBUPLqQQjzoE0F8dSlxI6RFAL+jFQwC9eGixsUMv6MVDAL14aLG+9PTCflXTDfmmceP8mScEFeWQbwq1tW3gBz8PAfTiocX5JHpBLx4C6MVDi/UFvTTXS+Mn/m+99da03377Va8OeNe73lX97vmCBQvSYYcd1mx062iN8a/jJXF0dtYSfvDzEEAvHlqc2KAX9OIhgF48tFhf0At68RBALx5a3V1fMP61OJMfGjeMf4x/RTnkm0IN458HfzTdkG8aN+ob9U1RDvmmUKO+Ud803ZSYb42N/+c973nJzP/Zs2enQw89NN1xxx3pwgsvTMuXL0+zZs3SIlGjFcZ/DUgDDilR6IaChVHTDHrRuHHiz4m/ohzyTaHGiT/1TdMN+aZxo75R3xTlkG8KtfbrG8a/Fhf0rHGjflA/FOWQbwq19usH+w8tLuhZ40b9oH4oyiHfFGrUD+qbphvyTePWZn1rZPw/8sgj1ev9zz333PTLX/4yTZ8+Pb385S9Pz33uc9NNN92UnvOc5zSb8QStMf51tCSizs5awg9+HgLoxUNr7LHwg5+HAHrx0CLf0At68RBALx5arC9d0QvGv6brrsSXC5fEtw4B9FyH0uBj4Ac/DwH04qHF+SR6QS8eAujFQ4v1Bb1Mfb00Mv4Nz2abbZae/exnp8033zxtsMEGab311kuXX355+u1vf5vWX3/9ZgQx/v+PwOrV1b/YuGtyYiHTuPVawQ9+HgLoxUOLE030gl48BNCLhxbrC3pBLx4CpeoF49+jkrXHlqoXrkeglzoEyI86lAYfAz/4eQigFw8t9kfoBb14CKAXDy3WF/SSn14aG/+f/exn09FHH53uv//+NbM79dRT00knndRstutozRP/Ol4SUWdnLeEHPw8B9OKhxYkSekEvHgLoxUOL9QW9oBcPAfTiodXd9QXjX4sz+aFx67WCH/w8BNCLh1Z36xE3FmlxJj80btQjfjpAUQ75plBb2wZ+8PMQQC8eWuOf/zU2/q1be+X/VVddlX7+85+nXXfdNb3whS9sNrIarTH+a0AacAiJo7OzlvCDn4cAevHQ4kIFekEvHgLoxUOL9QW9oBcPAfTiodXd9QXjX4sz+aFxw2jBaFGUQ74p1DBauJFA0w35pnGjvlHfFOWQbwo16hv1TdNNifnW2PhftGhR+tCHPpSWLVs2gvpFF12UZs6cqUWiRiuM/xqQMP4rAiUmts2bQqDlCHrRuLHRYaOjKId8U6ix0aG+aboh3zRu1Dfqm6KcruQbxr8SXfaXGjXOXzh/0ZTTlfWU+BLfOgTQcx1Kg4+BH/w8BNCLh9bYY+EHPw8B9OKhNZx8a2z8b7fddumOO+4YM9r77rsvbbrpps1mPEFrjH8dLYmos7OW8IOfhwB68dAaTuGzb+HCjBYX9KxxwzjEOFSUQ74p1DCWqG+abkrNN4x/9FKHQKn5wXpaRx3s38gPTSfsj9gfKcoh3xRq7I+o55puyDeNG/WN+qYop418a2T8//73v0/Tp09PxxxzTPXU/3rrrafMS2qD8S9hqxq1ISSMNOJRlwD6q0tq/OPgBz8PAfTiocWFS/SCXjwE0IuHFusLeslTLxj/WlzQs8aNC6FcCFWUQ74p1DD6MPo03ZBvGjfqG/VNUQ75plCjvlHfNN2UmG+NjH/DfOKJJ6avfe1ryYz4jTbaaA35PfbYI82YMUOLRI1WGP81IA04pEShGwoWRk0z6EXjxok/J/6Kcsg3hRon/tQ3TTfkm8aN+kZ9U5RDvinU2q9vGP9aXNCzxo36Qf1QlEO+KdTarx/sP7S4oGeNG/WD+qEoh3xTqFE/qG+absg3jVub9a2x8f+KV7wiXXzxxWNmdu+996bNNtus2YwnaI3xr6MlEXV21hJ+8PMQQC8eWmOPhR/8PATQi4cW+YZe0IuHAHrx0GJ96YpeMP41XXclvly4JL51CKDnOpQGHwM/+HkIoBcPLc4n0Qt68RBALx5arC/oZerrpZHxv2rVquqp/mc/+9np2GOPTeuvv/4aYoceeuiI/2+GcmxrjH+dKImts8P4b8YOfvDzEmC98hIbeTz84OchgF48tNgoohf04iGAXjy0hre+YPxrcUHPGrdeK/jBz0MAvXhoDa9+cGORFhf0rHGjfvDEv6Ic8k2htrYN/ODnIYBePLSGc77WyPi3Ie69996V8X/OOec0m52zNca/E1jf4SSizs5awg9+HgLoxUNrOIXPvoULFVpc0LPGjQsVXKhQlEO+KdS4UEF903RTar5h/KOXOgRKzQ/W0zrqYP9Gfmg6YX/E/khRDvmmUGN/RD3XdEO+adyob9Q3RTlt5Ftj43/33XdPN9xwQ9p2223TBhtssGZeixYtSptssokyz1ptMP5rYRr3oDaEhJFGPOoSQH91SY1/HPzg5yGAXjy0uHCJXtCLhwB68dBifUEveeoF41+LC3rWuHEhlAuhinLIN4UaRh9Gn6Yb8k3jRn2jvinKId8UatQ36pummxLzrbHxf8ABB6SlS5eOIf6tb30rzZw5U4tEjVYY/zUgDTikRKFzYwJ6qUuA/KhLihsTjAB6QS8eAujFQwujFL2gFw8B9OKhxfrS0wvGv6Yb8k3jhjGCMaIoh3xTqGGMYIxouiHfNG7UN+qbohzyTaFGfaO+abopMd8aG/8a6uatMP51hiUKHeMfvdQlQH7UJYXxj/HfTCvwg5+XAOuzl9jI4+EHPw8B9OKh1d0bCTD+tTiTHxo3jBGMEUU55JtCDWMEY0TTDfmmcaO+Ud8U5ZBvCjXqG/VN002J+SYZ/7/73e+qV/ufdNJJ6eMf/3i66667xhBfvHhxetzjHqdFokYrjP8akAYcUqLQDQULo6YZ9KJx48SfE39FOeSbQo0Tf+qbphvyTeNGfaO+Kcoh3xRq7dc3jH8tLuhZ40b9oH4oyiHfFGrt1w/2H1pc0LPGjfpB/VCUQ74p1Kgf1DdNN+Sbxq3N+iYZ/ytXrkz77rtves1rXpO+/OUvp9/+9rdjZvaVr3yFV/1Pm9Ys4r3Wq1dX/8XCo+Fk4dG4tbnwoGc9JuhZZ2ct4Qc/DwH04qE19lj4wc9DAL14aJFv6CVGLxj/Gkf0p3Fjf4lxoyiHfFOoYdxw/VTTDfmmcaO+Ud8U5ZBvCjXqG/VN002J+SYZ//14b7jhhrTDDjuk2bNnV3/88MMPp+uvvz7NmzcvbbjhhlokarTiif8akAYcUqLQDQULo6YZ9KJx48SfE39FOeSbQo0Tf+qbphvyTeNGfaO+Kcoh3xRq7dc3jH8tLuhZ40b9oH4oyiHfFGrt1w/2H1pc0LPGjfpB/VCUQ74p1Kgf1DdNN+Sbxq3N+iYb/7fddlv6yU9+Uj31b//sscce1ThvvfXWdNxxx6Vf/OIX6clPfnKzGU/QGuNfR0si6uysJfzg5yGAXjy0xh4LP/h5CKAXDy3yDb2gFw8B9OKhxfrSFb1g/Gu67kp8uXBJfOsQQM91KA0+Bn7w8xBALx5anE+iF/TiIYBePLRYX9DL1NeLbPyfeeaZ6YQTThiX0KabbpqWLVuWpk+f3owgxv//EeBV/410xELWCB83OjTDBz/4uQiwXrlwjTkYfvDzEEAvHlpsjNELevEQ6IpeMP49UV17bFfii/FPfOsQQM91KA0+Bn7w8xBALx5a7D/QC3rxEEAvHlqsL+hl6utFNv4HPfFvyJ7xjGdUr/+f6LNy5cr0wAMPpM0333zEYQ8++GDaeOON03rrrTdhe57418VJYuvsrCX84OchgF48tDjxQi/oxUMAvXhosb6gF/TiIYBePLS6u75g/GtxJj80br1W8IOfhwB68dDqbj3iRiUtzuSHxo16xE8HKMoh3xRqa9vAD34eAujFQ2v88z/Z+O9196tf/aoy72fOnDniG2688cZ00003paOOOmrMN5999tnpox/9aJo3b1667777kpn4T3jCE9KCBQvSjBkz0u23356OP/74dMQRRwycIca/HnwSR2dnLeEHPw8B9OKhxYUK9IJePATQi4cW6wt6QS8eAujFQ6u76wvGvxZn8kPjhtGC0aIoh3xTqGG0cCOBphvyTeNGfaO+Kcoh3xRq1Dfqm6abEvOtsfE/CPUNN9xQGf9HH330iEMeffTRtOGGG1ZP+2+yySbptNNOS3fffXfaZptt0v33359OP/30dNddd6Wtt9462dP/o28o6HWG8a+JHONa58aJHCdyinpKLCzGiRMRRS3cWKRR48SffNOUw/qsceN8iPMhRTnkm0Kt/fqG8a/FBT1r3Kgf1A9FOeSbQq39+sH+Q4sLeta4UT+oH4pyyDeFGvWD+qbphnzTuLVZ34Zu/Ntkli1blrbYYov00EMPpb333ju99a1vTd/4xjfSPvvskw477LC0evXq6lX/ixcvTnPnzh2XGsa/LiYSUWdnLeEHPw8B9OKhNfZY+MHPQwC9eGiRb+gFvXgIoBcPLdaXrugF41/TdVfiy4VL4luHAHquQ2nwMfCDn4cAevHQ4nwSvaAXDwH04qHF+oJepr5eJsX4N6z2NoAjjzyyMlEvuOCC9KpXvSodcsgh6eCDD66ob7nllum6665LO+ywQ7r66qvTwoULx0Rj/vz5zSL0WOveWwXsRoSIT6+/uTvuGNFd+tnixVU/0eOjPy08bemFeBCPOgTQXx1Kg4+BH/w8BNCLh9bYY+EHPw8B9OKhRb6hlxi9sF/VOKI/jVuvFfzg5yGAXjy0OD9AL+jFQwC9eGixvqAX9OIhgF48tFhf2tLLeA/VT1ttj903+Ax61b91+c1vfjMtWLAgffjDH06HHnpo9S2nnHJK2myzzdKxxx6bVq1aVb0RYPny5dWT/+N9eOJfDw539OjsrCX84OchgF48tMYeCz/4eQigFw8t8g29oBcPAfTiocX60hW98MS/puuuxJcn/olvHQLouQ6lwcfAD34eAujFQ4vzSfSCXjwE0IuHFusLepn6ehn6E/92P8GsWbOqV/vvvvvuawhfdtll6dxzz02XX355uvTSS9PZZ5+drr322oERwPjXxUli6+ww/puxgx/8vARYr7zERh4PP/h5CKAXDy02iugFvXgIoBcPreGtLxj/WlzQs8at1wp+8PMQQC8eWsOrH9xYpMUFPWvcqB8/bAbusdborxlG+MHPQwC9eGhx/tKGXmTj3xpO9FKA2bNnV6+m32qrrUZE7rbbbks77bTTiD979atfnc4///y0//77p5tvvjmtWLEiXXHFFWnevHkDFYLxrydPG0Ky0XDir8WEeGjcOPHnxF9RDvmmUFvbBn7w8xBALx5abHTQC3rxEEAvHlqD1xeMf40j+tO4sX9j/6Yoh3xTqLF/4/qkphvyTeNGfaO+Kcoh3xRq1Dfqm6abEvNNNv6nTZs2IeV77723enW/97NkyZLqZoH1119/wqYY/16yLIwsjJpmSlwYjRR6QS91CJAfdSgNPgZ+8PMQQC8eWoONPuqbxhH9ady4EJr3hVCMf03XrAcaN9aDvNcDzg80XbMeaNxYD1gPFOWQbwo1/ADqm6Yb8k3jRn2jvinKaSPfZOP/rLPOSqtWrRo4j+OOOy5tsMEGyjxrtcH4r4Vp3IPaEBJGKfGoSwD91SU1/nHwg5+HAHrx0MIoRS/oxUMAvXhosb6glzz1gvGvxQU9a9y4EMqFUEU55JtCDaMPo0/TDfmmcaO+Ud8U5ZBvCjXqG/VN002J+SYb//2IH3nkkWRP+NvHXv9vr/Pffffd1/nUvham/2uF8a/TK1HoRouFUdMMetG4ceLPib+iHPJNocaJP/VN0w35pnGjvlHfFOWQbwq19usbxr8WF/SscaN+UD8U5ZBvCrX26wf7Dy0u6FnjRv2gfijKId8UatQP6pumG/JN49ZmfWts/F9yySXpLW95S1q6dOmI2amv+q+LCOO/Lqmxx5GIOjtrCT/4eQigFw8t1iv0gl48BNCLhxbrC3pBLx4C6MVDq7vrC8a/FmfyQ+PW5oUt65sLtVpc0LPGDT1jRCrKId8UahiR1DdNN+Sbxo36Rn1TlEO+KdTarW+Njf8dd9wxbb755unWW29NL3jBC9KPf/zjNGfOnPTd736XJ/6nTWsW8V7r1aur/6LQazhZeDRuFHoKvaIc8k2h1m6hp37oMUHPOjtrCT/4eQigFw+tscfCD34eAj29YPx7qHG+xvUI9FKHAPWoDqXBx8APfh4C6MVDi/Nn9IJePATQi4cW6wt6yU8vjYz/3/3ud2mDDTZIF110Ufr2t7+dnvjEJ6Y3vOENafvtt0/Lli2rbgho68MT/zpZElFnh5HRjB384OclwHrlJTbyePjBz0MAvXhosbFDL+jFQwC9eGgNb33B+Nfigp41br1W8IOfhwB68dAaXv3gRiAtLuhZ40b94MEkRTnkm0JtbRv4wc9DAL14aA3nfK2R8W9D3G677Srz/41vfGM65ZRT0kEHHZQ+9alPpZ/+9Kdpp512ajbjCVpj/OtoSUSdnbWEH/w8BNCLh9ZwCp99CxcqtLigZ40bFyq4UKEoh3xTqHGhgvqm6abUfMP4Ry91CJSaH6ynddTB/o380HTC/oj9kaIc8k2hxv6Ieq7phnzTuFHfqG+KctrIt8bG/5VXXpmOO+64dOGFF6b58+enO+64I73kJS9Jl112mTLH2m0w/mujGnNgG0LCSCMedQmgv7qkxj8OfvDzEEAvHlpcuEQv6MVDAL14aLG+oJc89YLxr8UFPWvcuBDKhVBFOeSbQg2jD6NP0w35pnGjvlHfFOWQbwo16hv1TdNNifnW2Pg/77zz0l577ZWe/vSnp5UrV6Zbb701feELX0hvfvOb06xZs7RI1GiF8V8D0oBDShQ6Nyagl7oEyI+6pLgxwQigF/TiIYBePLQwStELevEQQC8eWqwvPb1g/Gu6Id80bhgjGCOKcsg3hRrGCMaIphvyTeNGfaO+Kcoh3xRq1Dfqm6abEvNNNv6vuuqq9PWvfz2Z8b/nnnumXXbZpaK+ZMmSdPHFF6c777wzPelJT9IiUaMVxn8NSAMOKVHohoKFUdMMetG4ceLPib+iHPJNocaJP/VN0w35pnGjvlHfFOWQbwq19usbxr8WF/SscaN+UD8U5ZBvCrX26wf7Dy0u6FnjRv2gfijKId8UatQP6pumG/JN49ZmfZON/zPPPDOdcMIJ485ot912S9dff32z2a6jNca/jpdE1NlZS/jBz0MAvXhojT0WfvDzEEAvHlrkG3pBLx4C6MVDi/WlK3rB+Nd03ZX4cuGS+NYhgJ7rUBp8DPzg5yGAXjy0OJ9EL+jFQwC9eGixvqCXqa8X2fh/5JFH0ooVK9KBBx6Y3vSmN6V99tlnDS17xf+0adOa0cP4X0tg9erqv9m4a5JiIdO49VrBD34eAujFQ4sTTfSCXjwE0IuHFusLekEvHgKl6gXj36OStceWqheuR6CXOgTIjzqUBh8DP/h5CKAXDy32R+gFvXgIoBcPLdYX9JKfXmTjv38qixYtSl/84hfTfffdlw466KD0ghe8IFgmfvMAACAASURBVE2fPr3ZbNfRmif+dbwkos7OWsIPfh4C6MVDixMl9IJePATQi4cW6wt6QS8eAujFQ6u76wvGvxZn8kPj1msFP/h5CKAXD63u1iNuLNLiTH5o3KhH/HSAohzyTaG2tg384OchgF48tMY//2ts/H/84x9Pr3/960f0/vKXvzx9/vOfbza6dbTG+Nfxkjg6O2sJP/h5CKAXDy0uVKAX9OIhgF48tFhf0At68RBALx5a3V1fMP61OJMfGjeMFowWRTnkm0INo4UbCTTdkG8aN+ob9U1RDvmmUKO+Ud803ZSYb42M/0cffTRtt912aZdddknnnntu2njjjdOpp56aPvWpT6Xbb789bb/99lokarTC+K8BacAhJQrdULAwappBLxo3Tvw58VeUQ74p1Djxp75puiHfNG7UN+qbohzyTaHWfn3D+Nfigp41btQP6oeiHPJNodZ+/WD/ocUFPWvcqB/UD0U55JtCjfpBfdN0Q75p3Nqsb42M/+XLl6ctttginXPOOenYY4+txnn55ZenfffdNy1cuDC98IUvbDbjCVpj/OtoSUSdnbWEH/w8BNCLh9bYY+EHPw8B9OKhRb6hF/TiIYBePLRYX7qiF4x/TdddiS8XLolvHQLouQ6lwcfAD34eAujFQ4vzSfSCXjwE0IuHFusLepn6emlk/Bsee+Lfnvx/xzvekWbOnJk+9rGPpbvuuiv94he/qN4A0NYH418nS2Lr7DD+m7GDH/y8BFivvMRGHg8/+HkIoBcPLTaK6AW9eAigFw+t4a0vGP9aXNCzxq3XCn7w8xBALx5aw6sf3FikxQU9a9yoHzzxryiHfFOorW0DP/h5CKAXD63hnK81Nv6/9a1vpde+9rXJOrLPpptumj7xiU+kgw8+uNls19Ea41/HSyLq7Kwl/ODnIYBePLSGU/jsW7hQocUFPWvcuFDBhQpFOeSbQo0LFdQ3TTel5hvGP3qpQ6DU/GA9raMO9m/kh6YT9kfsjxTlkG8KNfZH1HNNN+Sbxo36Rn1TlNNGvjU2/leuXJnWW2+99P3vfz898MADa17vP2PGDGWOtdtg/NdGNebANoSEkUY86hJAf3VJjX8c/ODnIYBePLS4cIle0IuHAHrx0GJ9QS956gXjX4sLeta4cSGUC6GKcsg3hRpGH0afphvyTeNGfaO+Kcoh3xRq1Dfqm6abEvNNNv4feeSRtGLFivS85z0vvfe9700veclLKuo/+tGP0h577JFuv/32tP3222uRqNEK478GpAGHlCh0Q8HCqGkGvWjcOPHnxF9RDvmmUOPEn/qm6YZ807hR36hvinLIN4Va+/UN41+LC3rWuFE/qB+Kcsg3hVr79YP9hxYX9Kxxo35QPxTlkG8KNeoH9U3TDfmmcWuzvsnG/5lnnplOOOGEgTN68MEH08yZM5vNeILWGP86WhJRZ2ct4Qc/DwH04qE19lj4wc9DAL14aJFv6AW9eAigFw8t1peu6AXjX9N1V+LLhUviW4cAeq5DafAx8IOfhwB68dDifBK9oBcPAfTiocX6gl6mvl5k4/+qq65KX//619N5552X9txzz7TLLrusoTVv3rx04IEHNqO3jtYY/zpeEltnh/HfjB384OclwHrlJTbyePjBz0MAvXhosVFEL+jFQwC9eGgNb33B+Nfigp41br1W8IOfhwB68dAaXv3gxiItLuhZ40b94Il/RTnkm0JtbRv4wc9DAL14aA3nfE02/nvD+8pXvpJ23XXXVl/rPx42jH9dTCSizs5awg9+HgLoxUNrOIXPvoULFVpc0LPGjQsVXKhQlEO+KdS4UEF903RTar5h/KOXOgRKzQ/W0zrqYP9Gfmg6YX/E/khRDvmmUGN/RD3XdEO+adyob9Q3RTlt5Ftj41+ZSEQbjH+dYhtCwkgjHnUJoL+6pMY/Dn7w8xBALx5aXLhEL+jFQwC9eGixvqCXPPWC8a/FBT1r3LgQyoVQRTnkm0INow+jT9MN+aZxo75R3xTlkG8KNeob9U3TTYn5hvHf4hPcXEghEesQKHHh4UaROsrA+DcC5IeuFfg1Ywc/+HkJsF55iY08Hn7w8xBALx5ag288Yb+qcUR/GjeMEYwRRTnkm0INYwRjRNMN+aZxo75R3xTlkG8KNeob9U3TTYn5hvHforHEhRQSsQ6BEhcejP86ysD4x3jVdcLGk42noh7qkUKNjScbT0035JvGjfoWW9/Yr2o6JH81buRvbP5SfzUdkr8aN/KX/FWUQ74p1NhfUt803ZBvGjfqG/VNUU4X8g3jH+Nf0faINl0QOkazHmbiq7PDuG7GDn7w8xJgvfISG3k8/ODnIYBePLTGHgs/+HkItKUXjH9PFLgQz4V49FKHQFvrFfqrQ5/zDfSn6QTjC+NLUQ75plDjfJJ6rumGfNO4lVzfMP4x/ptlTYv8KARaaCgEGreSC4HNnXzTdEO+adzINy4sKMoh3xRqXFigvmm6Id80bl2rbxj/WpzJD41b1/KD+qHFmfzQuJEf7I8U5ZBvCjX2R9Q3TTfkm8aN+kZ9U5RDvinURtY3jP8WjWsupGgCJbE1bhRSCqmiHPJNocZGkY2iphvyTeNGfaO+Kcoh3xRq1LfS6hv7VS1PWF80btRz6rmiHPJNoUY9L62eM18tT1hfNG7Uc+q5ohzyTaFGPae+abqxfJtU4/+BBx5Im2yySZo2bZp7BmeccUaaP3++u914DdpaeLiQooWnrXiwUBCPOgTQXx1Kg4+BH/w8BNCLh9bYY+EHPw8B9OKhRb6hlzL0wn5VizP5oXHDKMAoUJRDvinUMAq4/qfphnzTuFHfqG+Kcsg3hRr1jfqm6abEfJsU43/p0qVp0aJF6WUve1m67bbb0pw5c9IjjzySZs+enfbbb78qejvvvHM69dRTB0YS418TubUqUeg2bxZGTTPoRePGiT8n/opyyDeFGif+1DdNN+Sbxo36Rn1TlEO+KdTar28Y/1pc0LPGjfpB/VCUQ74p1NqvH+w/tLigZ40b9YP6oSiHfFOoUT+ob5puyDeNW5v1bVKM/y984Qtp4cKF6Zxzzkl33313Zfzfcsst6eSTT04XX3xx+v/tnQe4FtW1/hfFhkpEA2KNgmLvLdaIQSxwvepVg2IMURK9ajTmn2iiRoO9xRaCvcQSC7aoqBGNDRBzLbGhKGBXxAIGBTUi/2dt+DjncPg4s975Pp3D/L7n8QnRPZuZ337ftWbvNbOnffv2LZKi8N8ioqoNMKLOzo+EH/wiBNBLhFbztvCDX4QAeonQwm/oBb1ECKCXCC3iS2vRC4V/TdetZXxZuGR8sxBAz1koVW8DP/hFCKCXCC3uJ9ELeokQQC8RWsQX9LLg6+VbKfxXsPoW/5XC/91332377befTZ061TbbbDPzwn7Pnj2rjgCFf12cGFtnR+E/Hzv4wS9KgHgVJda0PfzgFyGAXiK0mCiiF/QSIYBeIrS+ufhC4V8bF/SscascBT/4RQiglwitby5/8GCRNi7oWeNG/uCNf0U5+E2h1nAM/OAXIYBeIrS+mfu1whT+H3zwQXv66aft8MMPt5tuuslOP/30tAuAPxwwrx+Ff11MGFFn50fCD34RAuglQuubSXz+t7BQoY0Leta4sVDBQoWiHPymUGOhgvym6aasfqPwj16yECirP4inWdTB/A1/aDphfsT8SFEOflOoMT8in2u6wW8aN/Ib+U1RTj38VpjC/5dffmnt2rVL/8yYMSNt9//WW2/ZiiuuaCNGjEifBpj716dPH4Vjs2M6dOiQ/t20adNq2l+37t1r0t+E8ePrcn61vl7604a7XvpjPBiPLATQXxZK1dvAD34RAuglQqt5W/jBL0IAvURo4bey6oX5quaTsuqF+SV6yUIAf2ShxPyyQgC9oJcIAfQSocX9PXpBLxEC6CVCi/jSWvTSrVu3ZoPVZubMmTPzDXfLRzfe6v/EE0+0Dz74wIYMGWKjRo2yH//4xzZ+dsF7Xj3xxn/LfKu1qMcTJP538QSdNiaMh8atchT84BchgF4itJq3hR/8IgTQS4QWfkMv6CVCAL1EaFWPL7zxr3FEfxo35m+8AaUoB78p1BqOgR/8IgTQS4QW8zf0gl4iBNBLhBbxBb3k18u3/sb/pEmTrHPnzvbee+9Zr1690pv+/s+gQYOsb9++Va+Qwr8++BhHZ+dHwg9+EQLoJUKLGxv0gl4iBNBLhBbxBb2glwgB9BKh1XrjC4V/bZzxh8aNwj+Ff0U5+E2hRuGfF5M03eA3jRv5jfymKAe/KdTIb+Q3TTdl9Nu3Wvif1zBNnDjRunbt2uIIUvhvEVHVBmUUusMgMGqaQS8aN278ufFXlIPfFGrc+JPfNN3gN40b+Y38pigHvynU6p/fKPxr44KeNW7kD/KHohz8plCrf/5g/qGNC3rWuJE/yB+KcvCbQo38QX7TdIPfNG71zG+FK/xnRUThPyup5u0wos7Oj4Qf/CIE0EuEFvEKvaCXCAH0EqFFfEEv6CVCAL1EaLXe+ELhXxtn/KFxq+fClvfNQq02LuhZ44aeKUQqysFvCjUKkeQ3TTf4TeNGfiO/KcrBbwq1+uY3Cv91LOSykKIJnkChcSMxk5gV5eA3hVp9EzMLl/qYoGednR8JP/hFCKCXCK3WWxhmoVEb59biD+arC/b44l/GNwuB1hKv0HOW0eR+Az1rOmE9kfVERTn4TaHGeiL5XNMNftO4lTm/Ufiv40I3CymaIQlkGrcyBzIKpbpm8JvOjkJpPnbwg1+UAPEqSqxpe/jBL0IAvURotd5CC/NVbZzxh8aN+SqFJUU5+E2hRmGJwpKmG/ymcSO/kd8U5eA3hRr5jfym6aaMfqPwT+Ffc0ujo8poHArNumzQi86OQmk+dvCDX5QA8SpKjEIz9we6ZvCbzo78lo9dmflR+Ne0Q7zSuFEYoTCiKAe/KdQojFAY0XSD3zRu5Dfym6Ic/KZQI7+R3zTdlNFvFP4p/GtuofDPNwRF5ZQx0FIIEsVSx/jMjZI2JvhX48ZCAAsBinLwm0KNhQDym6absvqNwj96yUKgrP4gnmZRR/M26EXjxnyB+YKiHPymUGO+QH7TdIPfNG7kN/Kbohz8plBrmt8o/NexsMRCiiZQjK1xI5GSSBXl4DeFGhNFJoqabvCbxo38Rn5TlIPfFGrkt7LlN+armk+ILxo38jn5XFEOflOokc/Lls+5Xs0nxBeNG/mcfK4oB78p1Mjn5DdNN+43Cv8U/jX1NDqKwJ0PIfzgFyGAXiK0mreFH/wiBNBLhBZ+Qy/oJUIAvURoEV/qpRcK/5oO6zUeLGwxHlkIoL8slKq3gR/8IgTQS4QW92voBb1ECKCXCC3iC3pBLxECFP5n06qXcVhIicixoW29xoOFFMYjCwH0l4USCykVAugFvUQIoJcILSZ26AW9RAiglwgt4ktFL8xXNd3gN40b98+8IagoB78p1FhfY/1P0w1+07iR38hvinLwm0KN/EZ+03RTRr/xxj9v/GtuaXRUGY3jl0+g1aSDXjRuTCSYSCjKwW8KNSYS5DdNN/hN40Z+I78pysFvCrXm+Y3Cv8YR/WnciPfEe0U5+E2hxnyG+YymG/ymcSO/kd8U5eA3hRr5jfym6aaMfqPwT+FfcwuFfwr/onLKGGh5UEQUSx3jMzdK2pjgX40bCwEsBCjKwW8KNRYCyG+absrqNwr/6CULgbL6g3iaRR3N26AXjRvzBeYLinLwm0KN+QL5TdMNftO4kd/Ib4py8JtCrWl+o/Bfx8ISCymaQDG2xo1ESiJVlIPfFGpMFJkoarrBbxo38hv5TVEOflOokd/Klt+Yr2o+Ib5o3Mjn5HNFOfhNoUY+L1s+53o1nxBfNG7kc/K5ohz8plAjn5PfNN243yj8U/jX1NPoKAJ3PoTwg1+EAHqJ0GreFn7wixBALxFa+A29oJcIAfQSoUV8qZdeKPxrOqzXeLCwxXhkIYD+slCq3gZ+8IsQQC8RWtyvoRf0EiGAXiK0iC/oBb1ECFD4n02rXsZhISUix4a29RoPFlIYjywE0F8WSiykVAigF/QSIYBeIrSY2KEX9BIhgF4itIgvFb0wX9V0g980btw/84agohz8plBjfY31P003+E3jRn4jvynKwW8KNfIb+U3TTRn9xhv/vPGvuaXRUWU0jl8+gVaTDnrRuDGRYCKhKAe/KdSYSJDfNN3gN40b+Y38pigHvynUmuc3Cv8aR/SncSPeE+8V5eA3hRrzGeYzmm7wm8aN/EZ+U5SD3xRq5Dfym6abMvqNwj+Ff80tFP4p/IvKKWOg5UERUSx1jM/cKGljgn81biwEsBCgKAe/KdRYCCC/abopq98o/KOXLATK6g/iaRZ1NG+DXjRuzBeYLyjKwW8KNeYL5DdNN/hN40Z+I78pysFvCrWm+Y3Cfx0LSyykaALF2Bo3EimJVFEOflOoMVFkoqjpBr9p3Mhv5DdFOfhNoUZ+K1t+Y76q+YT4onEjn5PPFeXgN4Ua+bxs+Zzr1XxCfNG4kc/J54py8JtCjXxOftN0436j8E/hX1NPo6MI3PkQwg9+EQLoJUKreVv4wS9CAL1EaOE39IJeIgTQS4QW8aVeeqHwr+mwXuPBwhbjkYUA+stCqXob+MEvQgC9RGhxv4Ze0EuEAHqJ0CK+oBf0EiFA4X82rXoZh4WUiBwb2tZrPFhIYTyyEEB/WSixkFIhgF7QS4QAeonQYmKHXtBLhAB6idAivlT0wnxV0w1+07hx/8wbgopy8JtCjfU11v803eA3jRv5jfymKAe/KdTIb+Q3TTdl9Btv/PPGv+aWRkeV0Th++QRaTTroRePGRIKJhKIc/KZQYyJBftN0g980buQ38puiHPymUGue3yj8axzRn8aNeE+8V5SD3xRqzGeYz2i6wW8aN/Ib+U1RDn5TqJHfyG+absroNwr/FP41t1D4p/AvKqeMgZYHRUSx1DE+c6OkjQn+1bixEMBCgKIc/KZQYyGA/Kbppqx+o/CPXrIQKKs/iKdZ1NG8DXrRuDFfYL6gKAe/KdSYL5DfNN3gN40b+Y38pigHvynUmuY3Cv91LCyxkKIJFGNr3EikJFJFOfhNocZEkYmiphv8pnEjv5HfFOXgN4Ua+a1s+Y35quYT4ovGjXxOPleUg98UauTzsuVzrlfzCfFF40Y+J58rysFvCjXyOflN0437jcI/hX9NPY2OInDnQwg/+EUIoJcIreZt4Qe/CAH0EqGF39ALeokQQC8RWsSXeumFwr+mw3qNBwtbjEcWAugvC6XqbeAHvwgB9BKhxf0aekEvEQLoJUKL+IJe0EuEAIX/2bTqZRwWUiJybGhbr/FgIYXxyEIA/WWhxEJKhQB6QS8RAuglQouJHXpBLxEC6CVCi/hS0QvzVU03+E3jxv0zbwgqysFvCjXW11j/03SD3zRu5Dfym6Ic/KZQI7+R3zTdlNFvvPHPG/+aWxodVUbj+OUTaDXpoBeNGxMJJhKKcvCbQo2JBPlN0w1+07iR38hvinLwm0KteX6j8K9xRH8aN+I98V5RDn5TqDGfYT6j6Qa/adzIb+Q3RTn4TaFGfiO/abopo98o/FP419xC4Z/Cv6icMgZaHhQRxVLH+MyNkjYm+FfjxkIACwGKcvCbQo2FAPKbppuy+o3CP3rJQqCs/iCeZlFH8zboRePGfIH5gqIc/KZQY75AftN0g980buQ38puiHPymUGua3yj817GwxEKKJlCMrXEjkZJIFeXgN4UaE0Umippu8JvGjfxGflOUg98UauS3suU35quaT4gvGjfyOflcUQ5+U6iRz8uWz7lezSfEF40b+Zx8rigHvynUyOfkN0037jcK/xT+NfU0OorAnQ8h/OAXIYBeIrSat4Uf/CIE0EuEFn5DL+glQgC9RGgRX+qlFwr/mg7rNR4sbDEeWQigvyyUqreBH/wiBNBLhBb3a+gFvUQIoJcILeILekEvEQIU/mfTqpdxWEiJyLGhbb3Gg4UUxiMLAfSXhRILKRUC6AW9RAiglwgtJnboBb1ECKCXCC3iS0UvzFc13eA3jRv3z7whqCgHvynUWF9j/U/TDX7TuJHfyG+KcvCbQo38Rn7TdFNGv/HGP2/8a25pdFQZjeOXT6DVpINeNG5MJJhIKMrBbwo1JhLkN003+E3jRn4jvynKwW8Kteb5jcK/xhH9adyI98R7RTn4TaHGfIb5jKYb/KZxI7+R3xTl4DeFGvmN/Kbppox++1YL/59++qktvvji1qZNmzkj9tlnn9liiy1mbdu2ne8onnnmmdanTx9tpOc6ql4Dz0KKNjz1Gg8CI+ORhQD6y0Kpehv4wS9CAL1EaDVvCz/4RQiglwgt/IZeyqEX5qvaOOMPjRuFEQojinLwm0KNwgjrf5pu8JvGjfxGflOUg98UauQ38pummzL67Vsp/E+aNMmee+4523PPPW3cuHHWpUsX+/DDD22//faz9u3b2xtvvGG/+c1vbMCAAVVHksK/JnI/qoxC9+smMGqaQS8aN278ufFXlIPfFGrc+JPfNN3gN40b+Y38pigHvynU6p/fKPxr44KeNW7kD/KHohz8plCrf/5g/qGNC3rWuJE/yB+KcvCbQo38QX7TdIPfNG71zG/fSuH/1ltvtZEjR9p5551n77//fir8n3HGGTZ16lQ79dRTbeLEibbccsuZv/3foUOHeVKj8K+LCSPq7HhwIh87+MEvSoB4FSXWtD384BchgF4itJq3hR/8IgTQS4QWfquXXij8azqs13iw0Mh4ZCGA/rJQqt4GfvCLEEAvEVrcr6EX9BIhgF4itIgv6AW9RAi4Xr6Vwn/lJH2L/0rhf+DAgdarVy/r16+fzZw5M231P378eOvWrds8r4nCf2SoKQQ5ARZSNM2QWDRulaPgB78IAfQSocWNP3pBLxEC6CVCi/iCXsqhFwr/2jjjD40b8yPe2FSUg98Uag3HwA9+EQLoJUKL+QJ6QS8RAuglQov4gl7y66Uwhf999tnH/J+99torXdWyyy5rTzzxhK2yyio2YsSItEPA3L8+ffrkIzD76MquAtOmTatpf926d69JfxPGj0/91Pr86E8bnnrphfFgPLIQQH9ZKFVvAz/4RQiglwit5m3hB78IAfQSoYXf0Ett9MJ8VeOI/jRulaPgB78IAfQSocX9AXpBLxEC6CVCi/iCXtBLhAB6idAivtRLL/N6qb7NTH/tvs6/xm/8n3TSSdaxY0f75S9/aTNmzLBOnTrZlClT0pv/8/rxxr8+ODwxo7PzI+EHvwgB9BKh1bwt/OAXIYBeIrTwG3pBLxEC6CVCi/jSWvTCG/+arlvL+LLjHeObhQB6zkKpehv4wS9CAL1EaHE/iV7QS4QAeonQIr6glwVfL4V54//OO++0wYMH2/33329Dhw61c8891x5//PGqI0DhXxcnxtbZUfjPxw5+8IsSIF5FiTVtDz/4RQiglwgtJoroBb1ECKCXCK1vLr5Q+NfGBT1r3CpHwQ9+EQLoJULrm8sfPFikjQt61riRP/hUjKIc/KZQazgGfvCLEEAvEVrfzP3at174nzRpknXu3NmmT59uu+66q40ZMyb9efjw4bbFFltUJUbhXxcTRtTZ+ZHwg1+EAHqJ0PpmEp//LSxUaOOCnjVuLFSwUKEoB78p1FioIL9puimr3yj8o5csBMrqD+JpFnUwf8Mfmk6YHzE/UpSD3xRqzI/I55pu8JvGjfxGflOUUw+/fauF/3lBeOutt6xr16620EILzZcRhX9FQrOOqYeQKKQxHlkJoL+spObdDn7wixBALxFaLFyiF/QSIYBeIrSIL+ilmHqh8K+NC3rWuLEQykKoohz8plCj0EehT9MNftO4kd/Ib4py8JtCjfxGftN0U0a/Fa7wn3XoKPxnJcVCYxmNzYMY+CMrAfyRlRQPYjgB9IJeIgTQS4QW92voBb1ECKCXCK3q8YXCv8YR/WncKIxQGFGUg98UahRGKIxousFvGjfyG/lNUQ5+U6iR38hvmm7K6DcK/3UsZLCQghGzEChj4OHBhCzKoNBMoVnXCRNPJp6KeshHCjUmnkw8Nd3gN40b+a22+Y35qqZD/Ktxw7+19S/5V9Mh/tW44V/8qygHvynUmF+S3zTd4DeNG/mN/KYopzX4jcI/hX9F202OaQ1Cp9CsDzPjq7OjcJ2PHfzgFyVAvIoSa9oefvCLEEAvEVrN28IPfhEC9dILhf/IKLAQz0I8eslCoF7xCv1loc/9BvrTdELhi8KXohz8plDjfpJ8rukGv2ncypzfKPxT+M/nmjryIxFoQ0Mi0LiVORH4teM3TTf4TeOG31hYUJSD3xRqLCyQ3zTd4DeNW2vLbxT+tXHGHxq31uYP8oc2zvhD44Y/mB8pysFvCjXmR+Q3TTf4TeNGfiO/KcrBbwq1pvmNwn8dC9cspGgCxdgaNxIpiVRRDn5TqDFRZKKo6Qa/adzIb+Q3RTn4TaFGfitbfmO+qvmE+KJxI5+TzxXl4DeFGvm8bPmc69V8QnzRuJHPyeeKcvCbQo18Tn7TdON+o/BP4V9TT6OjCNz5EMIPfhEC6CVCq3lb+MEvQgC9RGjhN/SCXiIE0EuEFvGlXnqh8K/psF7jwcIW45GFAPrLQql6G/jBL0IAvURocb+GXtBLhAB6idAivqAX9BIhQOF/Nq16GYeFlIgcG9rWazxYSGE8shBAf1kosZBSIYBe0EuEAHqJ0GJih17QS4QAeonQIr5U9MJ8VdMNftO4cf/MG4KKcvCbQo31Ndb/NN3gN40b+Y38pigHvynUyG/kN003ZfQbb/zzxr/mlkZHldE4fvkEWk066EXjxkSCiYSiHPymUGMiQX7TdIPfNG7kN/Kbohz8plBrnt8o/Gsc0Z/GjXhPvFeUg98UasxnmM9ousFvGjfyG/lNUQ5+U6iR38hvmm7K6DcK/xT+NbdQ+KfwLyqnjIGWFSbUuwAAIABJREFUB0VEsdQxPnOjpI0J/tW4sRDAQoCiHPymUGMhgPym6aasfqPwj16yECirP4inWdTRvA160bgxX2C+oCgHvynUmC+Q3zTd4DeNG/mN/KYoB78p1JrmNwr/dSwssZCiCRRja9xIpCRSRTn4TaHGRJGJoqYb/KZxI7+R3xTl4DeFGvmtbPmN+armE+KLxo18Tj5XlIPfFGrk87Llc65X8wnxReNGPiefK8rBbwo18jn5TdON+43CP4V/TT2NjiJw50MIP/hFCKCXCK3mbeEHvwgB9BKhhd/QC3qJEEAvEVrEl3rphcK/psN6jQcLW4xHFgLoLwul6m3gB78IAfQSocX9GnpBLxEC6CVCi/iCXtBLhACF/9m06mUcFlIicmxoW6/xYCGF8chCAP1locRCSoUAekEvEQLoJUKLiR16QS8RAuglQov4UtEL81VNN/hN48b9M28IKsrBbwo11tdY/9N0g980buQ38puiHPymUCO/kd803ZTRb7zxzxv/mlsaHVVG4/jlE2g16aAXjRsTCSYSinLwm0KNiQT5TdMNftO4kd/Ib4py8JtCrXl+o/CvcUR/GjfiPfFeUQ5+U6gxn2E+o+kGv2ncyG/kN0U5+E2hRn4jv2m6KaPfKPxT+NfcQuGfwr+onDIGWh4UEcVSx/jMjZI2JvhX48ZCAAsBinLwm0KNhQDym6absvqNwj96yUKgrP4gnmZRR/M26EXjxnyB+YKiHPymUGO+QH7TdIPfNG7kN/Kbohz8plBrmt8o/NexsMRCiiZQjK1xI5GSSBXl4DeFGhNFJoqabvCbxo38Rn5TlIPfFGrkt7LlN+armk+ILxo38jn5XFEOflOokc/Lls+5Xs0nxBeNG/mcfK4oB78p1Mjn5DdNN+43Cv8U/jX1NDqKwJ0PIfzgFyGAXiK0mreFH/wiBNBLhBZ+Qy/oJUIAvURoEV/qpRcK/5oO6zUeLGwxHlkIoL8slKq3gR/8IgTQS4QW92voBb1ECKCXCC3iC3pBLxECFP5n06qXcVhIicixoW29xoOFFMYjCwH0l4USCykVAugFvUQIoJcILSZ26AW9RAiglwgt4ktFL8xXNd3gN40b98+8IagoB78p1FhfY/1P0w1+07iR38hvinLwm0KN/EZ+03RTRr/xxj9v/GtuaXRUGY3jl0+g1aSDXjRuTCSYSCjKwW8KNSYS5DdNN/hN40Z+I78pysFvCrXm+Y3Cv8YR/WnciPfEe0U5+E2hxnyG+YymG/ymcSO/kd8U5eA3hRr5jfym6aaMfqPwT+FfcwuFfwr/onLKGGh5UEQUSx3jMzdK2pjgX40bCwEsBCjKwW8KNRYCyG+absrqNwr/6CULgbL6g3iaRR3N26AXjRvzBeYLinLwm0KN+QL5TdMNftO4kd/Ib4py8JtCrWl+o/Bfx8ISCymaQDG2xo1ESiJVlIPfFGpMFJkoarrBbxo38hv5TVEOflOokd/Klt+Yr2o+Ib5o3Mjn5HNFOfhNoUY+L1s+53o1nxBfNG7kc/K5ohz8plAjn5PfNN243yj8U/jX1NPoKAJ3PoTwg1+EAHqJ0GreFn7wixBALxFa+A29oJcIAfQSoUV8qZdeKPxrOqzXeLCwxXhkIYD+slCq3gZ+8IsQQC8RWtyvoRf0EiGAXiK0iC/oBb1ECFD4n02rXsZhISUix4a29RoPFlIYjywE0F8WSiykVAigF/QSIYBeIrSY2KEX9BIhgF4itIgvFb0wX9V0g980btw/84agohz8plBjfY31P003+E3jRn4jvynKwW8KNfIb+U3TTRn9xhv/vPGvuaXRUWU0jl8+gVaTDnrRuDGRYCKhKAe/KdSYSJDfNN3gN40b+Y38pigHvynUmuc3Cv8aR/SncSPeE+8V5eA3hRrzGeYzmm7wm8aN/EZ+U5SD3xRq5Dfym6abMvqNwj+Ff80tFP4p/IvKKWOg5UERUSx1jM/cKGljgn81biwEsBCgKAe/KdRYCCC/abopq98o/KOXLATK6g/iaRZ1NG+DXjRuzBeYLyjKwW8KNeYL5DdNN/hN40Z+I78pysFvCrWm+Y3Cfx0LSyykaALF2Bo3EimJVFEOflOoMVFkoqjpBr9p3Mhv5DdFOfhNoUZ+K1t+Y76q+YT4onEjn5PPFeXgN4Ua+bxs+Zzr1XxCfNG4kc/J54py8JtCjXxOftN0436j8E/hX1NPo6MI3PkQwg9+EQLoJUKreVv4wS9CAL1EaOE39IJeIgTQS4QW8aVeeqHwr+mwXuPBwhbjkYUA+stCqXob+MEvQgC9RGhxv4Ze0EuEAHqJ0CK+oBf0EiFA4X82rXoZh4WUiBwb2tZrPFhIYTyyEEB/WSixkFIhgF7QS4QAeonQYmKHXtBLhAB6idAivlT0wnxV0w1+07hx/8wbgopy8JtCjfU11v803eA3jRv5jfymKAe/KdTIb+Q3TTdl9Btv/PPGv+aWRkeV0Th++QRaTTroRePGRIKJhKIc/KZQYyJBftN0g980buQ38puiHPymUGue3yj8axzRn8aNeE+8V5SD3xRqzGeYz2i6wW8aN/Ib+U1RDn5TqJHfyG+absroNwr/FP41t1D4p/AvKqeMgZYHRUSx1DE+c6OkjQn+1bixEMBCgKIc/KZQYyGA/Kbppqx+o/CPXrIQKKs/iKdZ1NG8DXrRuDFfYL6gKAe/KdSYL5DfNN3gN40b+Y38pigHvynUmua3whT+v/jiC+vcubPtvPPO6QzXWGMNO/nkk6te4Zlnnml9+vTJR2D20fUSEgsp2vDUazy4sWE8shBAf1koVW8DP/hFCKCXCC0WVtELeokQQC8RWsSXsuqF+armk7Lqhfk0eslCAH9kocR8mkIQhSDFKcQXhVrTQpD/P/K5xhH9adyI98R7RTn4TaHWNN4XpvD/8ssv2wknnGB//etfrX379i1eGYX/FhFVbYBxdHZ+JPzgFyGAXiK0KDygF/QSIYBeIrSIL+gFvUQIoJcIrdYbXyj8a+OMPzRuLPyy8KsoB78p1Cj0UdjUdIPfNG7kN/Kbohz8plAjv5HfNN2U0W+FKfzffffdtt9++9nUqVNts802My/s9+zZs+pIUvjXRE7hWufGjRw3cop6yphYnBM3IopaeLBIo8aNP37TlEN81rhxP8T9kKIc/KZQq39+o/CvjQt61riRP8gfinLwm0Kt/vmD+Yc2LuhZ40b+IH8oysFvCjXyB/lN0w1+07jVM78VpvD/4IMP2tNPP22HH3643XTTTXb66aeb7wLQpk2beVKj8K+LCSPq7HhwIh87+MEvSoB4FSXWtD384BchgF4itJq3hR/8IgTQS4QWfquXXij8azqs13iw0Mh4ZCGA/rJQqt4GfvCLEEAvEVrcr6EX9BIhgF4itIgv6AW9RAi4XgpT+P/yyy+tXbt26Z8ZM2ak7f7feustW3HFFW3EiBE2cuTIZtfWp0+fyPVWbduhQ4f036ZNm1bT/rp1716T/iaMH1+X86v19dKfNtz10h/jwXhkIYD+slCq3gZ+8IsQQC8RWs3bwg9+EQLoJUILv5VVL8xXNZ+UVS/ML9FLFgL4Iwsl5pcVAugFvUQIoJcILe7v0Qt6iRBALxFaxJfWopdu3bo1G6w2M2fOnJlvuGNHn3jiifbBBx/YkCFDbNSoUfbjH//Yxs8ueM+rJ974j/Ft3JonhHR2fiT84BchgF4itJq3hR/8IgTQS4QWfkMv6CVCAL1EaBFfWoteeONf03VrGV92EGB8sxBAz1koVW8DP/hFCKCXCC3uJ9ELeokQQC8RWsQX9LLg66Uwb/y/99571qtXr/Smv/8zaNAg69u3b9URoPCvixNj6+wo/OdjBz/4RQkQr6LEmraHH/wiBNBLhBYTRfSCXiIE0EuE1jcXXyj8a+OCnjVulaPgB78IAfQSofXN5Q8eLNLGBT1r3MgfL+QDN/to9JcPI/zgFyGAXiK0uH+ph14KU/ivDO/EiROta9euLSqDwn+LiKo2qIeQ/C/jxl8bE8ZD48aNPzf+inLwm0Kt4Rj4wS9CAL1EaDHRQS/oJUIAvURoVY8vFP41juhP48b8jfmbohz8plBj/sb6pKYb/KZxI7+R3xTl4DeFGvmN/Kbppox+K1zhP+vQUfjPSoqF5DIamwcx8EdWAvgjK6l5t4Mf/CIE0EuEFvcv6AW9RAiglwgt4ktFLxT+Nd3gN40bhREKI4py8JtCjcIIhRFNN/hN40Z+I78pysFvCjXyG/lN000Z/Ubhv47fbGchBSNmIVDGwMODCVmUQaHZCeAPXSvwy8cOfvCLEiBeRYk1bQ8/+EUIoJcIreoPOjBf1TiiP40bhREKI4py8JtCjcIIhRFNN/hN40Z+I78pysFvCjXyG/lN000Z/Ubhv46FJRZSMGIWAmUMPBT+syiDwj+FV10nTDyZeCrqIR8p1Jh4MvHUdIPfNG7kt9rmN+armg7xr8YN/9bWv+RfTYf4V+OGf/Gvohz8plBjfkl+03SD3zRu5Dfym6Kc1uA3Cv8U/hVtNzmmNQidQrM+zIyvzo7CdT528INflADxKkqsaXv4wS9CAL1EaDVvCz/4RQjUSy8U/iOjwEI8C/HoJQuBesUr9JeFPvcb6E/TCYUvCl+KcvCbQo37SfK5phv8pnErc36j8E/hP59r6siPRKANDYlA41bmRODXjt803eA3jRt+Y2FBUQ5+U6ixsEB+03SD3zRurS2/UfjXxhl/aNxamz/IH9o44w+NG/5gfqQoB78p1Jgfkd803eA3jRv5jfymKAe/KdSa5jcK/3UsXLOQogkUY2vcSKQkUkU5+E2hxkSRiaKmG/ymcSO/kd8U5eA3hRr5rWz5jfmq5hPii8aNfE4+V5SD3xRq5POy5XOuV/MJ8UXjRj4nnyvKwW8KNfI5+U3TjfuNwj+Ff009jY4icOdDCD/4RQiglwit5m3hB78IAfQSoYXf0At6iRBALxFaxJd66YXCv6bDeo0HC1uMRxYC6C8Lpept4Ae/CAH0EqHF/Rp6QS8RAuglQov4gl7QS4QAhf/ZtOplHBZSInJsaFuv8WAhhfHIQgD9ZaHEQkqFAHpBLxEC6CVCi4kdekEvEQLoJUKL+FLRC/NVTTf4TePG/TNvCCrKwW8KNdbXWP/TdIPfNG7kN/Kbohz8plAjv5HfNN2U0W+88c8b/5pbGh1VRuP45RNoNemgF40bEwkmEopy8JtCjYkE+U3TDX7TuJHfyG+KcvCbQq15fqPwr3FEfxo34j3xXlEOflOoMZ9hPqPpBr9p3Mhv5DdFOfhNoUZ+I79puimj3yj8U/jX3ELhn8K/qJwyBloeFBHFUsf4zI2SNib4V+PGQgALAYpy8JtCjYUA8pumm7L6jcI/eslCoKz+IJ5mUUfzNuhF48Z8gfmCohz8plBjvkB+03SD3zRu5Dfym6Ic/KZQa5rfKPzXsbDEQoomUIytcSORkkgV5eA3hRoTRSaKmm7wm8aN/EZ+U5SD3xRq5Ley5Tfmq5pPiC8aN/I5+VxRDn5TqJHPy5bPuV7NJ8QXjRv5nHyuKAe/KdTI5+Q3TTfuNwr/FP419TQ6isCdDyH84BchgF4itJq3hR/8IgTQS4QWfkMv6CVCAL1EaBFf6qUXCv+aDus1HixsMR5ZCKC/LJSqt4Ef/CIE0EuEFvdr6AW9RAiglwgt4gt6QS8RAhT+Z9Oql3FYSInIsaFtvcaDhRTGIwsB9JeFEgspFQLoBb1ECKCXCC0mdugFvUQIoJcILeJLRS/MVzXd4DeNG/fPvCGoKAe/KdRYX2P9T9MNftO4kd/Ib4py8JtCjfxGftN0U0a/8cY/b/xrbml0VBmN45dPoNWkg140bkwkmEgoysFvCjUmEuQ3TTf4TeNGfiO/KcrBbwq15vmNwr/GEf1p3Ij3xHtFOfhNocZ8hvmMphv8pnEjv5HfFOXgN4Ua+Y38pummjH6j8E/hX3MLhX8K/6JyyhhoeVBEFEsd4zM3StqY4F+NGwsBLAQoysFvCjUWAshvmm7K6jcK/+glC4Gy+oN4mkUdzdugF40b8wXmC4py8JtCjfkC+U3TDX7TuJHfyG+KcvCbQq1pfqPwX8fCEgspmkAxtsaNREoiVZSD3xRqTBSZKGq6wW8aN/Ib+U1RDn5TqJHfypbfmK9qPiG+aNzI5+RzRTn4TaFGPi9bPud6NZ8QXzRu5HPyuaIc/KZQI5+T3zTduN8o/FP419TT6CgCdz6E8INfhAB6idBq3hZ+8IsQQC8RWvgNvaCXCAH0EqFFfKmXXij8azqs13iwsMV4ZCGA/rJQqt4GfvCLEEAvEVrcr6EX9BIhgF4itIgv6AW9RAhQ+J9Nq17GYSElIseGtvUaDxZSGI8sBNBfFkospFQIoBf0EiGAXiK0mNihF/QSIYBeIrSILxW9MF/VdIPfNG7cP/OGoKIc/KZQY32N9T9NN/hN40Z+I78pysFvCjXyG/lN000Z/cYb/7zxr7ml0VFlNI5fPoFWkw560bgxkWAioSgHvynUmEiQ3zTd4DeNG/mN/KYoB78p1JrnNwr/Gkf0p3Ej3hPvFeXgN4Ua8xnmM5pu8JvGjfxGflOUg98UauQ38pummzL6jcI/hX/NLRT+KfyLyiljoOVBEVEsdYzP3ChpY4J/NW4sBLAQoCgHvynUWAggv2m6KavfKPyjlywEyuoP4mkWdTRvg140bswXmC8oysFvCjXmC+Q3TTf4TeNGfiO/KcrBbwq1pvmNwn8dC0sspGgCxdgaNxIpiVRRDn5TqDFRZKKo6Qa/adzIb+Q3RTn4TaFGfitbfmO+qvmE+KJxI5+TzxXl4DeFGvm8bPmc69V8QnzRuJHPyeeKcvCbQo18Tn7TdON+o/BP4V9TT6OjCNz5EMIPfhEC6CVCq3lb+MEvQgC9RGjhN/SCXiIE0EuEFvGlXnqh8K/psF7jwcIW45GFAPrLQql6G/jBL0IAvURocb+GXtBLhAB6idAivqAX9BIhQOF/Nq16GYeFlIgcG9rWazxYSGE8shBAf1kosZBSIYBe0EuEAHqJ0GJih17QS4QAeonQIr5U9MJ8VdMNftO4cf/MG4KKcvCbQo31Ndb/NN3gN40b+Y38pigHvynUyG/kN003ZfQbb/zzxr/mlkZHldE4fvkEWk066EXjxkSCiYSiHPymUGMiQX7TdIPfNG7kN/Kbohz8plBrnt8o/Gsc0Z/GjXhPvFeUg98UasxnmM9ousFvGjfyG/lNUQ5+U6iR38hvmm7K6DcK/xT+NbdQ+KfwLyqnjIGWB0VEsdQxPnOjpI0J/tW4sRDAQoCiHPymUGMhgPym6aasfqPwj16yECirP4inWdTRvA160bgxX2C+oCgHvynUmC+Q3zTd4DeNG/mN/KYoB78p1JrmNwr/dSwssZCiCRRja9xIpCRSRTn4TaHGRJGJoqYb/KZxI7+R3xTl4DeFGvmtbPmN+armE+KLxo18Tj5XlIPfFGrk87Llc65X8wnxReNGPiefK8rBbwo18jn5TdON+43CP4V/TT2NjiJw50MIP/hFCKCXCK3mbeEHvwgB9BKhhd/QC3qJEEAvEVrEl3rphcK/psN6jQcLW4xHFgLoLwul6m3gB78IAfQSocX9GnpBLxEC6CVCi/iCXtBLhACF/9m06mUcFlIicmxoW6/xYCGF8chCAP1locRCSoUAekEvEQLoJUKLiR16QS8RAuglQov4UtEL81VNN/hN48b9M28IKsrBbwo11tdY/9N0g980buQ38puiHPymUCO/kd803ZTRb7zxzxv/mlsaHVVG4/jlE2g16aAXjRsTCSYSinLwm0KNiQT5TdMNftO4kd/Ib4py8JtCrXl+o/CvcUR/GjfiPfFeUQ5+U6gxn2E+o+kGv2ncyG/kN0U5+E2hRn4jv2m6KaPfClf4/+yzz2yxxRaztm3bzncUzzzzTOvTp4820nMdVa+BZyFFG556jQeBkfHIQgD9ZaFUvQ384BchgF4itJq3hR/8IgTQS4QWfkMv5dAL81VtnPGHxo3CCIURRTn4TaFGYYT1P003+E3jRn4jvynKwW8KNfIb+U3TTRn9VpjC/4cffmj77beftW/f3t544w37zW9+YwMGDKg6khT+NZH7UWUUul83gVHTDHrRuHHjz42/ohz8plDjxp/8pukGv2ncyG/kN0U5+E2hVv/8RuFfGxf0rHEjf5A/FOXgN4Va/fMH8w9tXNCzxo38Qf5QlIPfFGrkD/Kbphv8pnGrZ34rTOH/jDPOsKlTp9qpp55qEydOtOWWW8787f8OHTrMkxqFf11MGFFnx4MT+djBD35RAsSrKLGm7eEHvwgB9BKh1bwt/OAXIYBeIrTwW730QuFf02G9xoOFRsYjCwH0l4VS9Tbwg1+EAHqJ0OJ+Db2glwgB9BKhRXxBL+glQsD1UpjC/8CBA61Xr17Wr18/mzlzZtrqf/z48datW7d5XhOF/8hQUwhyAiykaJohsWjcKkfBD34RAuglQosbf/SCXiIE0EuEFvEFvZRDLxT+tXHGHxo35ke8sakoB78p1BqOgR/8IgTQS4QW8wX0gl4iBNBLhBbxBb3k10thCv/77LOP+T977bVXuqpll13WnnjiCVtllVVsxIgRNnLkyCZXu/jii6cdAfhBAAIQgAAEIAABCEAAAhCAAAQgAAEIQAACEIAABCAAAQhAAAIQgAAEykxgnXXWsb59+zZD0Gamv3b/Df5OOukk69ixo/3yl7+0GTNmWKdOnWzKlCnpzf88P98Z4JhjjsnTRZNj6S8fSvjBL0IAvURoNW8LP/hFCKCXCC38hl7QS4QAeonQIr6gF/QSIYBeIrSIL+gFvUQIoJcILeILekEvEQLoJUKL+IJe0EuEAHqJ0CpffPnGC/933nmnDR482O6//34bOnSonXvuufb444/nGyUzQ+j5EMIPfhEC6CVCq3yJZe4rRi/oJUIAvURoEV/QC3qJEEAvEVrEF/SCXiIE0EuEFvEFvaCXCAH0EqFFfEEv6CVCAL1EaBFf0At6iRBALxFatY8v33jhf/r06bbrrrvamDFjzP88fPhw22KLLfJRoPAPvyABAk8Q2FzN4Qe/CAH0EqFV+0Q/d4+MB+MRIYBeIrTwL3pBLxEC6CVCi/iCXtBLhAB6idAivqAX9BIhgF4itIgv6AW9RAiglwgt4gt6QS/zI/CNF/4rJ/PWW29Z165dbaGFFso3QrOPRuj5MMIPfhEC6CVCixsR9IJeIgTQS4QW8QW9oJcIAfQSoUV8QS/oJUIAvURoEV/QC3qJEEAvEVrEF/SCXiIE0EuEFvEFvaCXCAH0EqFV+/jyrRX+811286NHjBhh22yzTc26pb98KOEHvwgB9BKhRfxDL+glQgC9RGgRX9ALeokQQC8RWsQX9IJeIgTQS4QW8QW9oJcIAfQSoUV8QS/oJUIAvURoEV/QC3qJEEAvEVpmC0zhP3bZtIYABCAAAQhAAAIQgAAEIAABCEAAAhCAAAQgAAEIQAACEIAABCAAAQgsGARafeH/k08+sVdeecWWW245W3HFFQs1Kh9//LF9/vnntvzyy885r+eee87WWWcda9euXa5z9U8ldOzY0b7zne/k6qdy8EsvvZT6anyueToeN25cGo9FF11U7sbZVY4fM2ZM6s+vWfnde++9aUeIJZdcUjm8xWM++OADa9u2rS2zzDIttp1fg8mTJ9tHH31kq6yyirVv3z5XX40PZjw0lLUeD+IV8SqLEssar/AH/sAf1QngD/yBP/DH3ASYD2ZxRUMb7q9YL4kppmlr1kvy0DMr6noJ91fcX2VRNvmD/JFFJ9XakD/y0CN/KPSoR1GPiuqG+seCWa9ttYX/kSNH2gEHHGATJkywtdde2/7973/bl19+aRdddJHtueeeUX3XvL2fx6GHHpoKzQMGDLALL7ww/R0rrbSSedJfYoklQn/nsGHD7Nhjj03F+a222sr8Gxne9/HHH29HH310qK+vvvrKhg8f3uSY6667LhWbvTi+4447hovOW265pT366KP2n//8x3beeWf717/+lfo/77zz7KCDDgqdnzc+//zz7aqrrjIf5x/84Ac2adIk80nZSSedZL/85S/D/fkDA87+2muvtY033jh8/NwH3HXXXWl8V1111Sbj8etf/9pOOOGEcP+jR4+2/v37Jz37z8d2zTXXtEsuucQ22mijcH+Mxyx/FGU8iFfEq4iJyxav8Af+wB/VCeAP/IE/8EeFAPNB5oOReED+IH9E9ML8g/XErHphPXHBX08kf5A/ssYDb0f+IH9k1Qv5g/yRVSv1ale2em2rLfwvu+yyqTjcr18/a9OmTdLDCy+8YOutt55NmTIl9Cb8jBkzbODAgVU15aKIvLnuxW9/O92Lud/97netd+/e9v/+3/+zvfbaSy78b7DBBvbHP/7Rnn322VTMfPPNN9PDA5tuuqn52/CLLLJIZk9Mnz7devTokQrpu+yySzrOC/WdO3e2733ve3bFFVeErreS6P0p7jvuuMPuvPPOVLT3J8y8aP/iiy+GHiTwN/27dOlir776qj3wwAN2zz332PXXX2/Tpk1LRfBnnnnGOnTokPl6K+d3//3322GHHWbrr7++HXXUUel/1Z/v2uC6eOyxx9LDF++9914qNPtDBU8++WR4Z4E11lgj6fn73/9+erhh5ZVXts0228x23XVXe//9922xxRYLnarfeDEexRkP4hXxKmJg92+Z4hX+wB/4ozoB/IE/8Af+qBBgPsh8MBIPyB/kj4hemH+wnphVL6wnLvjrieQP8kfWeFDG9Xb8gT/wB/Pz1jI/b5WFfy/Ud+rUyZ5//vlUqG7823zzze3KK6+0ddddN+LD9Gb1IYccYn/6059sqaWWanKsP1wQ2XbdC/++5bu/2b/CCivYyy+/nN6i9wcT/Lyib/z7E1ELLbRQeqDBz2PfffdNxXX/bbJsoMM2AAAgAElEQVTJJnbjjTfa6quvHrpeL/offvjhqb8LLrggFZ39oYk99tgj1E+lcaXQfM4556TPLhx44IHpP3nh2nc7WG211TL36+PrnxwYNWqUPfjgg+bbWJ588sk2c+bMxM//XdeuXTP3V7kR8X68gH7NNdfY6aefnh6c2GmnnezUU09NfLP+fDx8XL0/L/L/6Ec/Sn/2n+vPH1KIjEelv9dffz2dn7/Nc8stt6SHJ/xhkUGDBqXPQ0R+jEdxxoN4RbwiXlWPXvgDf+AP/FEhwP0u97uR+13yB/mD/EH+IH+wXqKsl5A/yB/kD/IH+YP8Qf5oucrA/Jz5OfPz6j5pDf5olYV/R37MMcekt8v79u1r/ra0F8Uffvhh86dPfRv7SKG+MoRetPWCevQmcF4S+OlPf5redD/ttNOsV69edvXVV9vZZ5+d3s6fOnVqeKt/v86FF17YzjrrrFRE9z6GDBlif/3rX9MuAOrPt/j3Irg/QPGzn/1MLvz7Nvpe8PefP1QwduzY9Ob6X/7yF/Pvy1d2Zch6noMHD06fM/BPD/iDDfvvv7+9/fbbaccEL9xHf14I9+K8fyrBf27Of/7zn/bQQw+lHRQiOyb48b5zgHN/44030rhsu+226WEU353Arz36cz27Xnr27JkeXPHdHfxBEd9VwHc+aNu2bahLxqNY40G8Il5FDFy2eIU/8Af+qE4Af+AP/IE/KgSYDzIfjMQD8gf5I6IX5h+sJ0b0UmnLeuKCuZ5I/iB/ROIB+YP8EdEL+WPBrkeRP4qVP1pt4d8Dxb333puKt6+99loqhvu299ttt116M9x/iy++eCj2fPnll6mIO/fvs88+C/fnb/37NvW+/bsXr/3n/9+3b3YT+KcDIufnhf5bb701bSXvW9SPHz8+bcl/wAEHpGK4cr2V6/TC/LHHHmtHHnmkbb311qZcr/flW8v7WHiB/X/+53/M3/733RK8IK6cnxfWR4wYYa+88kra2t+fMtpnn33M2Ub7808tnHLKKfPcMl+53q+//toeeeSR9C0jf2jCH1Twc/SdDirb8kfG1x9YqejZF/V8HO666660o0NlB4pIf/MbD/8MhfKrNh7z8kxL/c9vPFo6dl7/fX7j4Z/biP7mNx6+24Pyqxavop+tqPzd1eKVcm7zi1f+AE/kUyf+988vXq255prKKc45Zu54pXZWLV7hj5aJ4o+GfI4/WtaLtyB/zMrn5I+W9UL+aLjf5f6qZb14C+6vZs0Hub9qWS/MPxrWS5h/tKyXxi2Yf8R4eWvm53FmjY9gft6wnsj8vGUtMT9nft6ySpq2YH7O/DyrZpifMz/PqpVKO+bnxZmft+rCfzXheXHdf717945qc57t6S8fRvgVi1++s+FohYDvMOG7QfiDIiuvvHLa/cN3FvEHRSoP7kT6pT/4LUh6mftafDebHj16pN1yavGjv3wU4fft8rv77rvTZ5N85x/f2cp3UvJPM/lnnyo7LUXOkP7gtyDpxR829t3afCcuX2DwXcG8AD5gwIBmn4PLct30B78sOqm0Kbpe/OWDgQMHJj/U4kd/+SjCr1j8Pv/8c7v99tvTnLxbt27pk5/++Uf3TPfu3cMnS3/5+PmDIjfffLM988wzNmnSpJTLN9poo/TJ1OjuoT549JePnz944jvsPvXUU2knUl+z2mKLLdJnTisvOkVMQn/wW5D0ErkW2kKgbATefPPNtHu1v2R76KGHznk43e+v/F4rmkPob9bLkyo/Cv8ZHEjhOgOk+TSB3zfPz3eEqPbziW108kR/DTQVfv3797d33303ffbCP4XhC3C+E0blKbioQugPfhHNFFkvn376qe2www5NLsc/obLEEkvYMssskwqdkbfS6M/SJ2jgl80hRdeLX4U/MOY7lEyYMMG23357O/7449PuSp5PvOAZ/dEf/CKaKbJefIc3X4T+7//+b/uv//qvVBw4//zz085j/oDLo48+GrnUtGMc/cEvq2iKrpdK/th5553Ndwnzh45XX331rJc3z3YeD+hPRwi/YunP50eTJ09OO2m+99576bOXvlPgLbfckoqd0R/95eN38MEHp50+PQ9fddVVKbe//vrr6cEM5VOf9JePn3+61j856t9AX2WVVVIBx19k8fnIqFGjwuuJ9Ae/SEwtul5quT4+Y8aMVNCr9vMCanQH1lqen58X/eWrB5SNn7+0suqqq6aXVLzQ/9xzz9myyy6bHiB76aWXwp8+p798/Cj8Z8g+FK4zQKLwP4fAt60Xv3Hwm/O3337bunTp0uzzFWPHjg0V0uiv6ec/ovz87Xzf3vmdd95Jiwr+yQov/vvDF5tvvrkNHTo09FYa/cHPPy+S9Vd0vfjCub9R/rvf/c4uvfRSW3fdde3Pf/6zrb322qmI42/++5vOWX/0B78FSS+NC/9//OMf0+ejfvGLXyQ7eP7wN3GWX375rPZI7SqFXPqDXxbhFFkv06ZNSwWBjz/+2C688ELzbW6PO+64dFlbbrml3XDDDel+OOuP/uC3IOmlEu/9QZgHH3wwfdLPC2r+WQh/83zppZfOao057Srf8KU/+GURT5H14vMj98BHH31k//d//5feYnav+K9nz5528cUX2xprrJHlMlMb+qsNv/fffz+9CegP7/lnL73g5W/9+84M/vJF1l9lPOhP4+frf+3bt7eJEyemYk3l5//e5+g+/1hrrbWyDofR3yxU8Msmmdagl1qutzuVSy65xA455JBUJK186rdCyz+f7H7M+mP9Pt/6Pfzy8fP5tH+m2nd5cd36Q/n/+te/7Oqrr5YK//SXj5/HDQr/GaLnt13IbekUOb+WCM3/vy+I/Hzx02/S/alpXxTN+6O/fAR94cPfzPSFNn8Dzd9w9u8krbbaaumtTS/mRH70B78FSS9+Lc8//3zaCcOfdvZFmg022MD22GOPyGU2aUt/8IuIp8h68Xh//fXX25NPPpnyxrnnnpse7PvhD39oTzzxRLPFgZaum/7g15JGGv/3ouvFC/w77bRT2kLQHyK77LLL0kOW/qbfmDFjrF27dpHLTQ8M0B/8soqm6HqpFF6/853vpLf+fRvt6667zv7+97+nfOK7A0V+9Ae/BUkv/gDloEGD0tvLp5xyir388svp4cgNN9ww7awU2XHMudBfPn7bbbednXTSSbbtttvaqaeeml6SOOigg2z33XdPuyT6TnCRH/3l4+cvq/hnKX1+7uz9YQrfCWO33XZLW/937tw5Mhzp5Rf6g19W0RRdL7VeH6/kEF8zZv0+q0oa2tV6POgvPgaNj/A3+0888UT7yU9+knL5VlttlR5s8X+nvPFPf/n4UfjPoOcFsTA8v8vmejOIYj5NisLPt0Tbc889w4s61S6N/nRd+JaB/v1Zf6PZt63zbdM22WQTO+qoo9KCQ/RHf/CLaKboeqlciz/Necwxx9jgwYPttttuy1X49z7pT39wAn7F0d/ll1+eCpj+IJ8vRL/44otpcblv3752wgknREJBakt/8IuIpuh68QfFfBeM++67LxUy/bfiiivaFVdcYb17945campLf/CLiKboemlcqG98XX5/5G/VRj/9Rn+zKMIvm0uKrpcRI0bYb3/72/Tmvz/wdfjhh6eH8X1u7nP06I/+8vF75JFH7Oc//3m63/WXJPyh1yOOOCLtBqfc79JfPn4+3/Dt1n1HDPeF32Ntttlm9vvf/z59Xin6oz/4RTRTdL34tdR6fdwf0Fx44aZvW0eYzd221udHf3lGo/Z6KfJ4+P3Qr371qznrVb67ktdBRo4cKT14TH/5+C1whX//DpRvKeFbvXbv3j2fM83Sd6XoT8cIP52dH1lrft6nvyno22H7U1O1+NFfdor+pLRvd+MLRl988YV16tQp13jQH/yyq2/WNpRF1l/lWvzta/88hi/E1SK+0F++eA+/YvFzn/g3afPmj8axg/7y3Q/B79vn5/e1kyZNSsVMLzblvd+lv3zzBfgVg59/Zsw/BzOvAr9yf0V/DZkTfi3PQIqul7mvwAubvoboW9Qq40t/teE3ZcqUObtZff3112lM8owH/eXj5+tW7mVfO4x+Z3xeUYL+Wo6d82sBv2Lxy3c2HA2BchHwz/P5pywin+acHyH6y6afVl3490UF/97T8OHD51ytfw/KnwaJfAO5cjD9WfqeFvyymafoeql2FUXZkYDzm0WA8cjmN/SCXvIpBX7wixMgPseZNT4CfvCLEEAvEVrN28IPfhEC6CVCC7+hF/QSIYBeIrRaX3zJd3UcDYHWT2D8+PFVL6Jbt26hHZX85Rx/6aXab8KECemBtMivlufnfy/9NdCPjm8Z+UW0Stv6E2jVhX//tlD//v1txx13TFtCeTD0t258u0flR3/wi+im6Hqpdi1MxCKj3PomYowv4xshgF4itIgH6AW9RAiglwgt4gt6QS8RAuglQov4gl7QS4QAeonQIr4saHrxF5yuvfbaqiLYb7/90i6CWX/015QU/OavnKLrZcaMGbbKKquknUi6dOnSbHv+sWPHWocOHbLaI7Xz2sJ6661no0ePTn02/vnfFfk0U63Pj/6afn4hOr5l41d0/5bt/DyWtOrC/9ChQ9N3TwcMGGBHHnmk3XHHHel7jtddd12zYJkl6tIf/LLopNKm6Hqpdi0L2sSkpTHjelsiNP//Dj/4RQiglwgtFsrQC3qJEEAvEVrEF/SCXiIE0EuEFvEFvaCXCAH0EqFFfPm29eKfWNh3333t5ptvtn79+jV723jw4MGhbf/pr+nb2vCbfzwoul787KdPn27LLrtsegG1a9eu+QLc7KN/8Ytf2KBBg9LnLvP+an1+9JdvRMrEr+j+Ldv5tfrC/7hx42ynnXZKBf+99trLTjvtNDv22GPtoYceSt+zi/7oD34RzRRdLxT+ZxH4tidOLWmK82uJ0Pz/O/zgFyGAXiK0WHhDL+glQgC9RGgRX9ALeokQQC8RWsQX9IJeIgTQS4RWeeJL9+7dbeTIkTUrbNJfPp3Br1j8rrnmGttzzz1tiSWWyHdiLRztOwv4W8orrbRS6O+p9fnRXwh/s8Zl40e8yqeXWvJr1W/8O8bnnnvO/Jso77//vp1zzjm2++67mz8ppf7oD34R7RRdL/O6FiZ2kREuz8SuGhX0gl4iBNBLhBbxBb2glwgB9BKhRXxBL+glQgC9RGgRX9ALeokQQC8RWsSXoujl2WeftbXWWqvZVubqaNKfSm7WcfArFr9qZ+M1Ai/Ub7DBBvlOePbRtY4HtT4/+ss3zAsqP+JVPl3Ukl+rL/xPmTLFXn75Zfvyyy/nUN16662tXbt2EmX6M4NfdukUXS/+PZl33313zgVdeeWVaduuzp07W6dOnbJf6OyW9Ae/iGjQC3pBL9UJ4A/8gT/wR4UA8YB4QDwgHhAPZhFgvhqJBmbkD/JHRDHoBb1E9DKvtg8//HAqbPbs2TNvV+l4+suHEX7F4lfrQj395Rtf+BWLH/Eq33go/Fp14d+L/f4E4nLLLWdLLbXUHHr+7fXFFlssTJP+ZiGDXzbpFF0v/lCCP8Tx1ltvpQuaOnWq9ejRw5566ilpOyL6g182Z8xqhV7QC3qpTgB/4A/8gT8qBIgHxAPiAfGAeMB8VdkumPxB/iB/kD/qlT+qkaWQFnFd87bwg1+EAHqJ0MJv6AW9zE2gVRf+77rrrlSk9m9l1OJHf/kowq9Y/O677770ffv+/fvb5ZdfboceeqgddNBBNmrUKGvfvn34ZOkPfhHRoBf0gl6qE8Af+AN/4I8KAeIB8YB4QDwgHjBfZX7eciQkX5IvW1ZJQwv0kk8vFP5nEaCQFnEdhVf0gl4iBNBLhBbxRdFLqy78T5gwIRUy7777blt88cXzqcXM6C8fQvgVi98DDzxg119/vZ1//vm2ww47pDf9d9ttNzvrrLNszTXXDJ8s/cEvIhr0gl7QS3UC+AN/4A/8USFAPCAeEA+IB8QD5qvMz1uOhORL8mXLKmlogV7y6YXCP4X/iN/QC3pBL3ECSiF3fn8L/cXHoPERCyK/Vl34f+KJJ+z73/9+GqMVV1xxzliNHTvWOnToEB5t+puFDH7ZpFN0vUybNs0OOOAA23333e22226zF1980fzfvfbaa9Ib//QHv2zOmNUKvaAX9FKdAP7AH/gDf1QIEA+IB8QD4gHxgPmq8sY/+YP8Qf4gf9Qrf1DIpZAbiS/oZRYBf+Do66+/tt69e4fxzZgxw9599905x1155ZW27777WufOna1Tp07h/uZ1QJ7zo7984ws/dlDJa2LlwYRWXfj3b6xPnjw5cZs5c6a1adMm/blLly5z/hyBSn/wW5D0UrkWv3lwf4wePdo23HBDU74f2JgL/S0RkUmztvCDX0RA6AW9oJfqBPAH/sAf+IP7Xe7vI3EAvaAX9NIyAe6vuL9qWSUNLdDLgq2Xxlp4/fXXbdKkSda2bVvbdNNNIzKZZ1v6y4cQft8uv7fffttGjBgx5yQGDx5s1113na2yyirhE5syZYptvfXW9tZbb6Vjp06daj169Eg796pr+LU8Pz8n+tPHt4z85jYB8SocFpocoPJr1YV/J3DjjTfaJZdckoJhnz590nfMt912W5km/cEvIp6i6+VPf/qT3XvvvTZ9+vQ5lzVs2DBpRwzvgP7M4JfdIegFvWRXC/HFWRFfsiuG+IJesquF+EJ8iagFvaAX9DI/AuRf8m/EIegFvaCX6gSK7A9/eej222+34cOHz7kA/8yuFzq/973vRYY1taU/S58phl826RRdL16g94df1lhjDfvss8/SAzGrrbZa8ouyg899991n/jZv//797fLLL0+1Lf+09ahRo6T+an1+9JdvfMvGr+j+LdP5terC/8SJE9MTUCNHjrQVVljBHnnkEdtzzz3tk08+sY4dO2bLJo1a0R/8IqIpul5eeukl69u3r1166aW25JJLzrm0TTbZxNq1axe51NSW/mYhg1826aAX9JJNKbNaoRf0gl6qE8Af+AN/4I8KAeIB8YB4QDwgHrC+wXpOy5GQfJkvX77wwgupCLnjjjvaK6+8YosvvnjacdcLlMqP/uAX0U3R9eKf033++eetX79+dsopp6QXUrfffnt76KGHkleiP9+C//rrr7fzzz/fdthhh/Ry62677WZnnXWWrbnmmtHu0ud+a3l+9JdvfMvGr+j+LdP5terCvxvHg6o/JVn5bbPNNnbhhRfaxhtvLAVG+oNfVuEUXX9+Q37PPfckP9TiR3/5KMIPfhEC6CVCq3lb+MEvQgC9RGjhN/SCXiIE0EuEFvEFvaCXCAH0EqFFfEEv6CVCYOjQoTZmzBgbMGCAHXnkkXbHHXek75b7Vub+ed3oj/7gF9FM0fXihfmjjjoq7ULds2dPe/TRR23vvfe2K664wlZfffXIpaa206ZNswMOOMB23333VLR/8cUX07977bXXpDf+a31+9JdvfMvGr+j+LdP5terC/6effmprrbVWeqN57bXXtn/+85/2q1/9ysaNG2eLLLJIONDSH/wioim6Xt59913baKON7Be/+EX6xlCbNm3S5f3oRz+SbhzoD34Rf6AX9IJeqhPAH/gDf+CPCgHiAfGAeEA8IB4wX1W2BiZ/kD/IH+SPeuUPX1ffaaedUsF/r732stNOO82OPfbY9PLd8ssvH5Feakt/8IuIpuh6mTFjhl188cXpsxf+Zr17Y4899khF+zw/79e3IR89erRtuOGGtsQSS0jd1fr86C/f+JaNX9H9W6bza9WFf49+Dz/8sF199dXpO+a77rqrHXLIIbbFFltIgZH+4BcVTpH1N3bsWBsyZEizS/KtgpQHY+hvFkr4ZXMJekEv2ZQyqxV6QS/opToB/IE/8Af+qBAgHhAPiAfEA+JBUw0wP88WFcgf5I9sSmlo9dxzz9lXX31l77//vp1zzjnpbWR/sUj90R/8Itopul4aX8vnn39uiy66aOTymrUdNWpU+pT1F198Mee/HX300bbwwgvn6tcPrsX51fp66S+fXorOr+j+Lcv5tfrC/6RJk9LTUP6Nq7vuust22WUX69q1qxwU6Q9+EfEUXS/+VNmIESPMv1/i2w/5zhh5fvQHv4h+0At6QS/VCeAP/IE/8EeFAPGAeEA8IB4QD5ivRuIAekEv6KVlAtxf5bu/mjJlir388sv25ZdfzoG99dZbp/V35Ud/ZvDLrpyi68U/O+0voU6fPn3ORQ0bNsw6dOiQ/SJnt/zoo4/Sev3//u//2pJLLjnn+COOOMIWWmihcH9+QC3Pj/5mDYE6vmXkV3T/luX8WnXhf/Lkybb++uvb7bffnp467Natmz355JPpxqSyrXkkOtIf/BYkvXz99de23nrr2TrrrGMrr7xy+uaQPxTjW3W1bds2cqmpLf3BLyIa9IJe0Et1AvgDf+AP/FEhQDwgHhAPiAfEA+arzM9bjoTkS/JlyyppaIFe8unFi/3+ad3lllvOllpqqTlg/dvIiy22WGQoUlv6m4UMftmkU3S9vPTSS9a3b9/06enGhfpNNtlEejDG1+kfeeQRO++887IBaqFVrc+P/mYBV8e3bPyK7t8ynV+rLvxfd9115lsz+BNQW265pb355pvWr18/GzRokK255prhYEl/8IuIpuh68W9vnX322XbPPfeky/LtglZbbbX0TS7/3+iP/uAX0Qx6QS/opToB/IE/8Af+qBAgHhAPiAfEA+IB81Xm5y1HQvIl+bJllTS0QC/59OI76nqR+pprrolgr9qW/vJhhF+x+N13331prf3CCy/Md2Kzj/bPaeywww520UUXpRf3Ki+zNv5z5C+q9fnRX4R+87Zl40e8yqeXWvJr1YV/L/r/9re/tVVWWSVtfXLsscfapptumr4VrGytQn/wi1iz6Hp5+umnkz/uv//+dFn+ba411ljDhg8fnnbHiP7oD34RzaAX9IJeqhPAH/gDf+CPCgHiAfGAeEA8IB4wX2V+3nIkJF+SL1tWSUML9JJPLxMmTLCDDjrI7r77blt88cUj6OfZlv7yIYRfsfi9++67ttFGG6Xdp70mVSnU/+hHP7L27duHT3b06NH2k5/8pNlxzzzzjFTfqvX50V+bNDbq+JaNH/EqHAKaHFBLfq268O9UhgwZYk899ZSdfPLJduaZZ6atiA455BCZMP3BLyKeoutlt912s3feeSdtRzNy5Mi0M8bll18eucQmbekPfhHxoBf0gl6qE8Af+AN/4I8KAeIB8YB4QDwgHjBfjcQB9IJe0EvLBLi/0u+vnnjiCfv+97+fIK+44opzYKsv2tHfLITwa9m33qLoevFx9HrA3L+zzjrLFllkkWwXOY9Wn376qXnRb91115U+0VvpstbnR3+zyKrjWzZ+Rfdvmc6vVRf+veD/8ssvW//+/eWg2vhA+suHEX7F4lc5m3Hjxtnjjz+eiv7KFoJzXxX95Rtn+MEvQgC9RGg1bws/+EUIoJcILfyGXtBLhAB6idAivqAX9BIhgF4itIgv6AW9ZCHg30CePHlys6ZdunSZ83Zzln4qbehvFgn4ZVNN0fXiVzFjxgwbMWKEvfDCC9azZ09be+21s11clVa+e8Add9xhSy+9tE2cODHt4HvUUUfJfdb6/Ogv3/iWiV/R/Vum82vVhf8333zTtt56a/MtUVZYYQU5GFYOpL98COFXLH5+Nn/4wx/Sd4L8RmTQoEF2xBFH2HHHHSefKP3BLyIe9IJe0Et1AvgDf+AP/FEhQDwgHhAPiAfEA+arkTiAXtALemmZAPdX+e6vXn31Vbvxxhvt2Weftd69e5vvoNC1a9eWwVdpQX/wi4inyHr5+uuvbb311rN11lnHVl55ZXv00UeTN7xw37Zt28hlprYvvvii7bnnnul//VMB7733ni2//PLpfxXP1fr86C/f+JaNn2u6yP4t0/m16sK/F/z9LWb/+VNzlZ9vi6J8g4j+ZhGEX7YcXXS9PPbYY3bCCSfY0KFDzb8Z6Ofr3+i69957bamllsp2kY1a0R/8IqJBL+gFvVQngD/wB/7AHxUCxAPiAfGAeEA8YL7K/LzlSEi+JF+2rJKGFugln16mTZuWCo7+SV3f6v+hhx6yv/3tb/bSSy/ZwgsvHBmK1Jb+4BcRTdH14n44++yz7Z577kmX9cUXX6Qddv3fKzvt3nfffXbTTTfZVVddNQfT5ptvnj7Vu/7660fQpba1Pj/6yze+ZeNXdP+W6fxadeH/q6++sqlTpzYLgJ06dQoHRT+A/mZhg182+RRdL/6koT+Z+4Mf/MBOPvlke/DBB9NTuv4dIuVGhP7gl80Zs1qhF/SCXqoTwB/4A3/gjwoB4gHxgHhAPCAeMF9lft5yJCRfki9bVklDC/SSTy9e5L/rrrtS4bHy22STTezqq69ObzpHf/RnBr/sqim6Xp5++um0Ff/999+fLsrrA2ussYYNHz48vXgX/fk28D169LC99947+WvUqFHmf4d/tlf51fr86C/f+JaNX9H9W6bza9WFfw9+l1xyiZ1yyim2xRZbpOC6zTbbpO2H1B/9wS+inSLr5d///rdttNFG9sEHH9hll11mH374YSr6+9ZByo/+4BfRDXpBL+ilOgH8gT/wB/6oECAeEA+IB8QD4gHz1UgcQC/oBb20TID7q3z3V++88076bKjvHOovh/n/33jjjW3MmDG2zDLLtDwAc7WgP/hFRFN0vfi1eO3Jz9Mf6Bg5cmTakbrxgzKR6/W2kyZNSjsI+G4l2267bep/6aWXjnYzp32tz4/+8o1vmfgV3b9lOr9WXfj375ZvtdVWdvfdd9s555yTtiDafvvtbezYsdJW5vQHv0hGLbpevvzyS/vss8/s448/tu7du6cnBtddd13r2LFj5DLntKU/+EWEg17QC3qpTgB/4A/8gT8qBIgHxAPiAfGAeMB8NRIH0At6QS8tE+D+Kt/9lRP2dfYLLrhgDuwTTzzRBg4c2OkhWEYAABTnSURBVDL8Ki3oD34R8RRdL34t48aNS2/le9Ff2bmnMQ/fPcA/qzF58uT0kuv++++fdu3N86vl+dX6eulvtTxDm44t8vgW3b9lOb9WXfj3b5XfeeedaRvzAw88MP25Z8+e6cZE+QYK/cEvEnWLrhf/RpA/DOPfkqnFj/7yUYQf/CIE0EuEVvO28INfhAB6idDCb+gFvUQIoJcILeILekEvEQLoJUKL+IJe0ItCwB+gePvtt9NW5r4Ved4f/eUjCL/i8PvDH/6QdsXwlwIHDRpkRxxxhB133HHSCfoLrP5GuNcZ/HO9v//971Nt65lnnrGFF15Y6rOW5+cnQH/6+JaRn18z8Uqy7pyDasGvVRf+//Of/9iGG25ohxxyiN100012wAEHpMD4/PPPW9u2bcN06Q9+EdEUXS++dclaa61lP/7xj23TTTe1Nm3apMvzpwbbt28fudTUlv7gFxENekEv6KU6AfyBP/AH/qgQIB4QD4gHxAPiAfNV5uctR0LyJfmyZZU0tEAv+fTihX7fUff4449P6+2+Bbl/StQfIFF+9Ae/iG6Krhffjv+EE06woUOHps9O+ycxDjrooFS4X2qppSKXmtrecMMNaffqPffcM63hP/vss7bXXnulBwrWWWedcH+1Pj/6yze+ZeNXdP+W6fxadeHfI58Hw2uuucYeeOAB22WXXWzAgAG25pprhoNi5QD6g19EPEXWy6uvvmqXXXZZs8vxHTIWWWSRyGWmtvQ3Cxn8skkHvaCXbEqZ1Qq9oBf0Up0A/sAf+AN/VAgQD4gHxAPiAfGgqQaYn2eLCuQP8kc2pcxqdfvtt6dddc877zxbeeWV7YMPPrC9997bhgwZkrYjj/7oD34RzRRdL3fccUeqR/nb+Z6DHnzwwbQtv/tD2fLfd9X44Q9/aJ07d7Zdd901fdbaHwB4/fXXrV27dhF0qW2tz4/+8o1v2fgV3b9lOr9WX/ifPn26Pfzww/bUU0+lgr9vjaJug+LBkf7gF8moRdfLlClT0hOHHTp0sBVWWMHWXXddW3TRRSOX2KQt/cEvIh70gl7QS3UC+AN/4A/8USFAPCAeEA+IB8QD5quROIBe0At6aZkA91f6/ZV/MvS2226zDTbYIBU1/Y1k/7N/h3zZZZdtGf5cLegPfhHRFF0v//73v9MOGP5AjL9w9+GHH6ai/4svvhi5zDltfUvvf/3rX+mt/3333deuuuqq9AnrLbbYQuqv1udHf/nGt2z8iu7fMp1fqy78f/7557b66qtbr169bKWVVrLhw4enAqfflCg/+oNfRDdF18vUqVPTFv9rrLFGuiz/86hRo+StuegPfhF/oBf0gl6qE8Af+AN/4I8KAeIB8YB4QDwgHjBfjcQB9IJe0EvLBLi/ynd/5Z827d+/vz3++OPpAYArr7zSPvvss7TjrvKjP/hFdFN0vbz11lv27rvv2ne/+13r3r17Wmv3F+06duwYucw5bf0TGmeeeaZ5QbIWv1qfH/3lG9+y8Su6f8t0fq268O83H4888ohdcMEFKS5+/fXX6Zvm/oazf2Ml+qM/+EU0U3S9DBs2zC666CK7+uqr7cADD0zbdPkTuv6k7tprrx251NSW/uAXEQ16QS/opToB/IE/8Af+qBAgHhAPiAfEA+IB81Xm5y1HQvIl+bJllTS0QC/59OK76r788sup+O+/yZMnW6dOnSJD0KQt/cEvIp6i6+XJJ59M3nCPtGnTJnJp82z7zjvvpHqWb+/vL+1V+tx///2tffv24f5rfX70Fx6CJgeUjV/R/Vum82vVhX/fAuXII49M3x5abLHF7JNPPrHtttvORowYYUsuuWTYlfQHv4hoiq6XcePG2eGHH56eyB04cGB6Stff/vcnEZWtuegPfhF/oBf0gl6qE8Af+AN/4I8KAeIB8YB4QDwgHjBfZX7eciQkX5IvW1ZJQwv0kk8vb775pm299dY2evTo9NnQvD/6y0cQfsXi5wX/zTff3JZbbrm0HX/btm3TCV588cXS53VfffXV9MmAuX8nn3yyLbLIIuGLr/X50V++8S0bP+JV2LJNDqglv1Zd+H/22Wdtww03TEX+VVdd1Z577rn0Z9/+33933XWXLb/88plp0x/8FiS9uPAPO+wwu+WWW2z69Onp4ZiDDz7YTjrppMyemLsh/cEvIh70gl7QS3UC+AN/4A/8USFAPCAeEA+IB8QD5quROIBe0At6aZkA91f6/ZUX/LfccssEuUuXLnNgT5gwwRZffPGW4c/Vgv5mAYFfNukUXS8ffvhheihm7t/OO+8svaHv/UyZMiXtYO2fsPaHbfzTAYsuumg2YHO1qvX50d8swOr4lo1f0f1bpvNr1YX/adOmmX8no9rPt/tfaKGFMgdJ+muKCn7zl07R9VI5+0mTJqW3/LfddltbZpllMvuhWkP6y4cQfvCLEEAvEVrN28IPfhEC6CVCC7+hF/QSIYBeIrSIL+gFvUQIoJcILeILekEvWQh89dVXNnXq1GZN1e3+6W8WSvhlUZ9Z0fXiV+Hbt/tb+iuttJKtvPLKttVWW9lqq62W7QLnauVe8y3+fZde//mffR3/vvvuk/qr9fnRX77xLRu/ovu3TOfXqgv/cvTjQAiUhIBvM+Q3Ik8//bT16NHDzj77bNttt93kq6c/+EXEg17QC3qpTgB/4A/8gT8qBIgHxAPiAfGAeMB8NRIH0At6QS8tE+D+Kt/91SWXXGKnnHJK2srcXwzbZpttcq0n0h/8WnZtQ4si6+Xdd9+1Nddc044//vj0uemf/OQndvTRR9tLL71kCy+8cOQyU9thw4bZRRddZFdffbUdeOCBduedd9oGG2xgN9xwg6299trh/mp9fvSXb3zLxs8FW2T/lun8KPyHwycHQKB1EHj++edtwIABdvPNN6fvDj366KO2zz772MSJE9PWQdEf/cEvohn0gl7QS3UC+AN/4A/8USFAPCAeEA+IB8QD5qvMz1uOhORL8mXLKmlogV7y6eWFF15IbzDffffdds4559iZZ55p22+/vY0dO9aWWmqpyFCktvQHv4hoiq6Xv/3tb6k4776oFOq32247u+CCC2yjjTaKXGpqO27cODv88MPtmmuusYEDB9ptt92W3v73t/6XXXbZcH+1Pj/6u9PyjG/Z+BXdv2U6Pwr/4fDJARBoHQT8icHHHnvMzjjjjDkn3Lt3bxsyZIi0/RD9mcEvu/bRC3rJrpZZTzgTr4jPWTWDXogvWbXi7dALekEv1QngD/yBP/BHhQDxgHhAPCAeVAj4t8a9sHnyySfPKWz27NkzFTbXX3/9iFRSW/q70+CXXTZF18vkyZOtV69e5ruKuEd83X2nnXZKD8YoD/I5mcMOO8xuueUWmz59ui222GJ28MEH20knnZQdWqOWtT4/+ss3vmXjV3T/lun8KPxLIZSDIFB8Au+8845tvPHG9utf/zo9Kfjss8/a4MGD7corr0wn7zedkRsS+oMfeqnue/yBP/AH/qgQIB4QD4gHxAPiAfMP5lstz5fJl+RL8iX5knxZzHz5n//8xzbccEM75JBD7KabbrIDDjggFf19J4W2bdu2HODnakF/8IuIpuh68Wu59tprU8F/zJgxae3dt/3fY489IpfZrO2kSZPsn//8p2255Za2zDLL5Oqr1udHf/nGt0z8iu7fMp0fhf9cYZSDIVBcAv6koX+Pq9rv3HPPtc6dO2e+APprigp+85cOekEvxJfqHsEf+AN/4I8KAeIB8YB4QDwgHsxbA8y3mG81JkC+JF+SL7+5fOl/k7885FuPP/DAA7bLLrukT4n6d83VH/3BL6Kdouulci1erO/SpUvk0ubZ9qmnnrKhQ4faE088Yeuuu6796le/slVXXTV3v7U6v1pfL/3lHtrUQVHHt+j+Lcv5Ufivjc/oBQIQgAAEIAABCEAAAhCAAAQgAAEIQAACEIAABCDQ6gl8/PHH5t9DXn311W255ZbLfT30lw8h/IrDz7f5v+yyy+zpp5+2Hj162Nlnn2277babdILvv/++bbrppnbqqafa8ssvb//4xz/SjgJvvPGGtMOGn0Qtz4/+8o1vGfn5NROvpHAw56Ba8KPwn28MOBoCEIAABCAAAQhAAAIQgAAEIAABCEAAAhCAAAQg0OoJzJw50/r162dPPvlkept59OjRaStz/5658qM/+EV0U3S9+CcvfAeMm2++OT0Q8+ijj9o+++xjEydODH1St8LklltuMX/j//TTT5+DaZtttrErrrgifbo3+qv1+dFfvvEtG7+i+7dM50fhPxo9aQ8BCEAAAhCAAAQgAAEIQAACEIAABCAAAQhAAAIQWMAI+Pb+gwcPtltvvdXatWtnkydPTtv8ewFL2dac/uAXsUjR9TJs2DB77LHH7IwzzphzWb1797YhQ4bYaqutFrnU1Pa9996zvn372p///Oe0u4bvsvHzn//cRowYYQsttJB17Ngx9OZ/rc+P/szyjG/Z+BXdv2U6Pwr/4XDMARCAAAQgAAEIQAACEIAABCAAAQhAAAIQgAAEIACBBYvAyJEj7S9/+Ytdeuml6cL8DcmtttrKbrvtNmnLf/qDX8QhRdfLO++8YxtvvLH9+te/Tm/k+/fC/UGZK6+8Ml1mz549Q2/+P/HEE7bjjjtWRfTiiy/aSiutlBlhrc+P/vKNb9n4Fd2/ZTo/Cv+ZwyYNIQABCEAAAhCAAAQgAAEIQAACEIAABCAAAQhAAAILJoEJEyZY9+7dbZdddrG11lorfcd8zJgx9tOf/jRd8DHHHGOdOnXKfPH0B78FSS9jx461U045par+zz33XOvcuXNmf9S6Ya3Pj/6ajlB0fMvGj3hfnHhP4b/W0ZX+IAABCEAAAhCAAAQgAAEIQAACEIAABCAAAQhAAAKtjIBvPX7PPfdUPWv/nvmSSy6Z+arorykq+M1fOkXXS2bh0xACJSRQdP+W6fwo/JfQgFwyBCAAAQhAAAIQgAAEIAABCEAAAhCAAAQgAAEIQAACEIAABCAAAQgsOAQo/C84Y8mVQAACEIAABCAAAQhAAAIQgAAEIAABCEAAAhCAAAQgAAEIQAACEIBACQlQ+C/hoHPJEIAABCAAAQhAAAIQgAAEIAABCEAAAhCAAAQgAAEIQAACEIAABCCw4BCg8L/gjCVXAgEIQAACEIAABCAAAQhAAAIQgAAEIAABCEAAAhCAAAQgAAEIQAACJSRA4b+Eg84lQwACEIAABCAAAQhAAAIQgAAEIAABCEAAAhCAAAQgAAEIQAACEIDAgkOAwv+CM5ZcCQQgAAEIQAACEIAABCAAAQhAAAIQgAAEIAABCEAAAhCAAAQgAAEIlJAAhf8SDjqXDAEIQAACEIAABCAAAQhAAAIQgAAEIAABCEAAAhCAAAQgAAEIQAACCw4BCv8LzlhyJRCAAAQgAAEIQAACEIAABCAAgRYJfPLJJ7bjjjvaFltsYWPGjLG3337bfvrTn9pvf/tbe/PNN+2II46wxx9/3L73ve/ZwIED7ec//7ndf//9dvzxx9v2229vw4YNs06dOtkxxxxjZ599tr322mvp2MMOO8wmT55sl19+efpn0UUXtd/85je2//77t3hONIAABCAAAQhAAAIQgAAEIAABCEAgHwEK//n4cTQEIAABCEAAAhCAAAQgAAEIQKBVEfjoo4/su9/9bjrnQw891B5++OH0AMAbb7xhp59+ul188cV27rnn2oMPPpiK/P4wwMiRI23fffe1Hj16pAcGrr322nS8PxRwxx132KRJk+zjjz+2wYMH2wknnGB/+MMf0jHDhw9P/7vVVlu1KkacLAQgAAEIQAACEIAABCAAAQhAoLURoPDf2kaM84UABCAAAQhAAAIQgAAEIAABCOQgUCn8/+xnP7NLL73UbrjhBttvv/3szjvvtLXWWstuu+028za33HKLTZgwIT0A4IV9L/zfdddd1qdPH2vbtq3ttNNOdt9996W3/c8880wbP3687bLLLjZlyhQ7+OCD7fXXX08PCPzud7+z0047LccZcygEIAABCEAAAhCAAAQgAAEIQAACLRGg8N8SIf47BCAAAQhAAAIQgAAEIAABCEBgASJQKfx7wd7f8PcC/957750K/1dccYX97W9/s6OOOipt23/11Vc3Kfz//e9/t969e1ubNm1sjz32SA8JHHfccamw/8orr6QdAbp06ZJ2Aqj8NttsM9ttt90WIIJcCgQgAAEIQAACEIAABCAAAQhAoHgEKPwXb0w4IwhAAAIQgAAEIAABCEAAAhCAQN0IzK/w379/f1t11VXt1ltvTW/t/+Mf/7AHHnjAPvjgg/TG//wK/747gO8cMHr0aLv33nvT5wNuvPFGO+mkk2znnXeu2/XQMQQgAAEIQAACEIAABCAAAQhAAAJmFP5RAQQgAAEIQAACEIAABCAAAQhAoEQEKoX/yhb8XuTfa6+90hv/L730kh1zzDGJxo477mjDhw+3P/3pT9a5c2fr16/fnMJ/x44drVevXumN/9///vd2yimn2GuvvWbTpk2zo48+2oYNG5b62GeffdJ2/wsvvHCJCHOpEIAABCAAAQhAAAIQgAAEIACBb54Ahf9vnjl/IwQgAAEIQAACEIAABCAAAQhAoLAEfIv/9u3b25JLLimfo+8Q0K5dO1t66aXlPjgQAhCAAAQgAAEIQAACEIAABCAAgewEKPxnZ0VLCEAAAhCAAAQgAAEIQAACEIAABCAAAQhAAAIQgAAEIAABCEAAAhCAQOEIUPgv3JBwQhCAAAQgAAEIQAACEIAABCAAAQhAAAIQgAAEIAABCEAAAhCAAAQgAIHsBCj8Z2dFSwhAAAIQgAAEIAABCEAAAhCAAAQgAAEIQAACEIAABCAAAQhAAAIQgEDhCFD4L9yQcEIQgAAEIAABCEAAAhCAAAQgAAEIQAACEIAABCAAAQhAAAIQgAAEIACB7AQo/GdnRUsIQAACEIAABCAAAQhAAAIQgAAEIAABCEAAAhCAAAQgAAEIQAACEIBA4QhQ+C/ckHBCEIAABCAAAQhAAAIQgAAEIAABCEAAAhCAAAQgAAEIQAACEIAABCAAgewEKPxnZ0VLCEAAAhCAAAQgAAEIQAACEIAABCAAAQhAAAIQgAAEIAABCEAAAhCAQOEI/H82os6BL5+h9AAAAABJRU5ErkJggg==\">"
   ]
  },
  {
   "cell_type": "markdown",
   "id": "72049713",
   "metadata": {},
   "source": [
    "<img src=\"data:image/png;base64,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\">"
   ]
  },
  {
   "cell_type": "markdown",
   "id": "6f8da3eb",
   "metadata": {},
   "source": [
    "<img src=\"data:image/png;base64,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\">"
   ]
  },
  {
   "cell_type": "markdown",
   "id": "6102a380",
   "metadata": {},
   "source": [
    "<img src=\"data:image/png;base64,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\">"
   ]
  }
 ],
 "metadata": {
  "hide_input": false,
  "kernelspec": {
   "display_name": "Python 3",
   "language": "python",
   "name": "python3"
  },
  "language_info": {
   "codemirror_mode": {
    "name": "ipython",
    "version": 3
   },
   "file_extension": ".py",
   "mimetype": "text/x-python",
   "name": "python",
   "nbconvert_exporter": "python",
   "pygments_lexer": "ipython3",
   "version": "3.8.3"
  },
  "toc": {
   "base_numbering": 1,
   "nav_menu": {},
   "number_sections": true,
   "sideBar": true,
   "skip_h1_title": false,
   "title_cell": "Table of Contents",
   "title_sidebar": "Contents",
   "toc_cell": false,
   "toc_position": {},
   "toc_section_display": true,
   "toc_window_display": true
  }
 },
 "nbformat": 4,
 "nbformat_minor": 5
}
