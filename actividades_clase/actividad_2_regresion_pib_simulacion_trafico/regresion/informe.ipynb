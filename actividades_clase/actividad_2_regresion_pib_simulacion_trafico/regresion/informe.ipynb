{
 "cells": [
  {
   "cell_type": "markdown",
   "metadata": {},
   "source": [
    "<img src=\"https://www.universidades.com.ec/logos/original/logo-universidad-politecnica-salesiana.png\" style=\"margin: 0 auto\"/>"
   ]
  },
  {
   "cell_type": "markdown",
   "metadata": {},
   "source": [
    "<h1 style=\"text-align:center;color: darkblue\">Sistema de Regresión para predicción del PIB en Ecuador</h1>"
   ]
  },
  {
   "cell_type": "markdown",
   "metadata": {},
   "source": [
    "<ul style=\"text-align:center;list-style:none\">\n",
    "    <li><strong>Autor: </strong> Bryam David Vega Moreno</li>\n",
    "    <li><strong>Maestro: </strong> Diego Quisi</li>\n",
    "    <li><strong>Materia: </strong> Simulación</li>\n",
    "    <li><strong>Universidad: </strong> Universidad Politécnica Salesiana</li>\n",
    "    <li><strong>Carrera: </strong> Ciencias de la computación</li>\n",
    "</ul>"
   ]
  },
  {
   "cell_type": "markdown",
   "metadata": {},
   "source": [
    "--------------------"
   ]
  },
  {
   "cell_type": "markdown",
   "metadata": {},
   "source": [
    "<h2 style=\"color:yellowgreen\">Introducción</h2>"
   ]
  },
  {
   "cell_type": "markdown",
   "metadata": {},
   "source": [
    "El Producto Interno Bruto **(PIB)** es una medida que permite ver la actividad económica de un país. Básicamente calcula cual fue la producción en bienes y servicios que se hizo en un periodo de tiempo específico, generalmente en un trimestre o en un año, en las fronteras de un país.  Entre otras palabras el PIB nos permite visualizar como va la economía de un País. Por ejemplo: Si comparamos el PIB de Ecuador contra Venezuela nos daremos cuenta que la economía Ecuatoriana es mejor y más estable que la Venezolana.\n",
    "\n",
    "\n",
    "En el presente trabajo presentamos un pequeño sistema de predicción del **PIB** tomando como referencia los datos del <a href=\"https://datos.bancomundial.org/\">Banco Mundial</a>. Estos datos nos van a permitir obtener una predicción de como se comportara dicho valor en nuestro País. Sin embargo debemos tomar en cuenta que el calculo del **PIB** dependera de otros factores,los cuales iremos explicando a lo largo de este trabajo."
   ]
  },
  {
   "cell_type": "markdown",
   "metadata": {},
   "source": [
    "--------------------------"
   ]
  },
  {
   "cell_type": "markdown",
   "metadata": {},
   "source": [
    "<h2 style=\"color:yellowgreen\">Librerias a importar</h2>"
   ]
  },
  {
   "cell_type": "markdown",
   "metadata": {},
   "source": [
    "Para este pequeño sistema haremos uso de diferentes librerias que nos permitiran hacer análisis y crear nuestros modelos de predicción"
   ]
  },
  {
   "cell_type": "markdown",
   "metadata": {},
   "source": [
    "**Librerias para analisis de datos**"
   ]
  },
  {
   "cell_type": "code",
   "execution_count": 1,
   "metadata": {},
   "outputs": [],
   "source": [
    "import pandas as pd\n",
    "import numpy as np"
   ]
  },
  {
   "cell_type": "markdown",
   "metadata": {},
   "source": [
    "**Librerias para graficos**"
   ]
  },
  {
   "cell_type": "code",
   "execution_count": 2,
   "metadata": {},
   "outputs": [],
   "source": [
    "import altair as alt\n",
    "import seaborn as sns"
   ]
  },
  {
   "cell_type": "markdown",
   "metadata": {},
   "source": [
    "**Librerias para las predicciones**"
   ]
  },
  {
   "cell_type": "code",
   "execution_count": 3,
   "metadata": {},
   "outputs": [],
   "source": [
    "from sklearn.linear_model import LinearRegression\n",
    "from sklearn.pipeline import Pipeline\n",
    "from sklearn.preprocessing import PolynomialFeatures"
   ]
  },
  {
   "cell_type": "markdown",
   "metadata": {},
   "source": [
    "**Librerias para las métricas**"
   ]
  },
  {
   "cell_type": "code",
   "execution_count": 4,
   "metadata": {},
   "outputs": [],
   "source": [
    "from sklearn.metrics import mean_squared_error"
   ]
  },
  {
   "cell_type": "markdown",
   "metadata": {},
   "source": [
    "**Mejorar visualización de datos**"
   ]
  },
  {
   "cell_type": "code",
   "execution_count": 5,
   "metadata": {},
   "outputs": [],
   "source": [
    "pd.options.display.float_format='{:,.2f}'.format\n",
    "import warnings\n",
    "warnings.simplefilter(\"ignore\")"
   ]
  },
  {
   "cell_type": "markdown",
   "metadata": {},
   "source": [
    "----------------------------------"
   ]
  },
  {
   "cell_type": "markdown",
   "metadata": {},
   "source": [
    "<h2 style=\"color:yellowgreen\">Lectura de Datos</h2>"
   ]
  },
  {
   "cell_type": "markdown",
   "metadata": {},
   "source": [
    "Como habiamos dicho en la introducción, obtuvimos los datos del banco mundial, en esta ocasión tenemos los datos del PIB del Ecuador desde el año de 1960 hasta el 2019. A continuación mostramos los datos obtenidos"
   ]
  },
  {
   "cell_type": "code",
   "execution_count": 6,
   "metadata": {},
   "outputs": [],
   "source": [
    "df  = pd.read_csv('./in/pib.csv',sep=';')"
   ]
  },
  {
   "cell_type": "code",
   "execution_count": 7,
   "metadata": {},
   "outputs": [],
   "source": [
    "df = df[df['Country/Region']=='Ecuador']\n",
    "df = pd.DataFrame(df.iloc[0].loc['1960':])"
   ]
  },
  {
   "cell_type": "code",
   "execution_count": 8,
   "metadata": {},
   "outputs": [
    {
     "data": {
      "text/html": [
       "<div>\n",
       "<style scoped>\n",
       "    .dataframe tbody tr th:only-of-type {\n",
       "        vertical-align: middle;\n",
       "    }\n",
       "\n",
       "    .dataframe tbody tr th {\n",
       "        vertical-align: top;\n",
       "    }\n",
       "\n",
       "    .dataframe thead th {\n",
       "        text-align: right;\n",
       "    }\n",
       "</style>\n",
       "<table border=\"1\" class=\"dataframe\">\n",
       "  <thead>\n",
       "    <tr style=\"text-align: right;\">\n",
       "      <th></th>\n",
       "      <th>64</th>\n",
       "    </tr>\n",
       "  </thead>\n",
       "  <tbody>\n",
       "    <tr>\n",
       "      <th>1960</th>\n",
       "      <td>1723727707,50</td>\n",
       "    </tr>\n",
       "    <tr>\n",
       "      <th>1961</th>\n",
       "      <td>1606925598,76</td>\n",
       "    </tr>\n",
       "    <tr>\n",
       "      <th>1962</th>\n",
       "      <td>1517480482,39</td>\n",
       "    </tr>\n",
       "    <tr>\n",
       "      <th>1963</th>\n",
       "      <td>1823470009,69</td>\n",
       "    </tr>\n",
       "    <tr>\n",
       "      <th>1964</th>\n",
       "      <td>2243071157,20</td>\n",
       "    </tr>\n",
       "  </tbody>\n",
       "</table>\n",
       "</div>"
      ],
      "text/plain": [
       "                 64\n",
       "1960  1723727707,50\n",
       "1961  1606925598,76\n",
       "1962  1517480482,39\n",
       "1963  1823470009,69\n",
       "1964  2243071157,20"
      ]
     },
     "execution_count": 8,
     "metadata": {},
     "output_type": "execute_result"
    }
   ],
   "source": [
    "df.head()"
   ]
  },
  {
   "cell_type": "markdown",
   "metadata": {},
   "source": [
    "Como podemos notar, el conjunto de datos inicia esde 1960 como se había explicado anteriormente, sin embargo, vemos que los datos estan sucios, como por ejemplo las cebeceras de las columnas, los valores del pib estan con coma, lo cual hace que dicho valor sea tomado como un str más no como un tipo de dato numérico, por lo cual procederemos a realizar un proceso rápido de transformación"
   ]
  },
  {
   "cell_type": "markdown",
   "metadata": {},
   "source": [
    "----------------------------"
   ]
  },
  {
   "cell_type": "markdown",
   "metadata": {},
   "source": [
    "<h2 style=\"color:yellowgreen\">Proceso de transformación</h2>"
   ]
  },
  {
   "cell_type": "markdown",
   "metadata": {},
   "source": [
    "Procedemos a resetear los index con la finalidad de que el año forme parte de una columna y una vez hecho eso procedemos a ponerles nombre a las cabeceras con el objetivo de identificar mejor las columnas"
   ]
  },
  {
   "cell_type": "code",
   "execution_count": 9,
   "metadata": {},
   "outputs": [],
   "source": [
    "df.reset_index(inplace=True)\n",
    "df.columns = ['year','pib_value']"
   ]
  },
  {
   "cell_type": "markdown",
   "metadata": {},
   "source": [
    "Por ultimo procedemos a cambiar el tipo de datos tanto para el año a fin de que ambos sean numéricos y tengan el formato correspondiente.Recordemos que os tipos de datos numéricos en python no aceptan coma como separador decimal, por lo que se debe eliminar la coma y reemplzarlo por el punto. Con ello encuenta obtenemos el siguiente resultado."
   ]
  },
  {
   "cell_type": "code",
   "execution_count": 10,
   "metadata": {},
   "outputs": [],
   "source": [
    "df['year']= df['year'].astype(np.int64)\n",
    "df['pib_value'] = df['pib_value'].apply(lambda x : x.replace(',','.')).astype(np.float64)"
   ]
  },
  {
   "cell_type": "code",
   "execution_count": 11,
   "metadata": {},
   "outputs": [
    {
     "data": {
      "text/html": [
       "<div>\n",
       "<style scoped>\n",
       "    .dataframe tbody tr th:only-of-type {\n",
       "        vertical-align: middle;\n",
       "    }\n",
       "\n",
       "    .dataframe tbody tr th {\n",
       "        vertical-align: top;\n",
       "    }\n",
       "\n",
       "    .dataframe thead th {\n",
       "        text-align: right;\n",
       "    }\n",
       "</style>\n",
       "<table border=\"1\" class=\"dataframe\">\n",
       "  <thead>\n",
       "    <tr style=\"text-align: right;\">\n",
       "      <th></th>\n",
       "      <th>year</th>\n",
       "      <th>pib_value</th>\n",
       "    </tr>\n",
       "  </thead>\n",
       "  <tbody>\n",
       "    <tr>\n",
       "      <th>0</th>\n",
       "      <td>1960</td>\n",
       "      <td>1,723,727,707.50</td>\n",
       "    </tr>\n",
       "    <tr>\n",
       "      <th>1</th>\n",
       "      <td>1961</td>\n",
       "      <td>1,606,925,598.76</td>\n",
       "    </tr>\n",
       "    <tr>\n",
       "      <th>2</th>\n",
       "      <td>1962</td>\n",
       "      <td>1,517,480,482.39</td>\n",
       "    </tr>\n",
       "    <tr>\n",
       "      <th>3</th>\n",
       "      <td>1963</td>\n",
       "      <td>1,823,470,009.69</td>\n",
       "    </tr>\n",
       "    <tr>\n",
       "      <th>4</th>\n",
       "      <td>1964</td>\n",
       "      <td>2,243,071,157.20</td>\n",
       "    </tr>\n",
       "  </tbody>\n",
       "</table>\n",
       "</div>"
      ],
      "text/plain": [
       "   year        pib_value\n",
       "0  1960 1,723,727,707.50\n",
       "1  1961 1,606,925,598.76\n",
       "2  1962 1,517,480,482.39\n",
       "3  1963 1,823,470,009.69\n",
       "4  1964 2,243,071,157.20"
      ]
     },
     "execution_count": 11,
     "metadata": {},
     "output_type": "execute_result"
    }
   ],
   "source": [
    "df.head()"
   ]
  },
  {
   "cell_type": "markdown",
   "metadata": {},
   "source": [
    "Con los datos procesados, podemos realizar un pequeño análisis de los datos a fin de encontrar insights valiosos y al mismo tiempo, entender el comportamiento de los datos."
   ]
  },
  {
   "cell_type": "markdown",
   "metadata": {},
   "source": [
    "------------------------------"
   ]
  },
  {
   "cell_type": "markdown",
   "metadata": {},
   "source": [
    "<h2 style=\"color:yellowgreen\">Análisis Exploratorio</h2>"
   ]
  },
  {
   "cell_type": "markdown",
   "metadata": {},
   "source": [
    " <h4 style=\"color:orange\">Comportamiento del PIB a lo largo del tiempo</h4>"
   ]
  },
  {
   "cell_type": "code",
   "execution_count": 12,
   "metadata": {},
   "outputs": [
    {
     "data": {
      "text/html": [
       "\n",
       "<div id=\"altair-viz-451ee5115eeb4cb58360fb2ef4635e05\"></div>\n",
       "<script type=\"text/javascript\">\n",
       "  (function(spec, embedOpt){\n",
       "    let outputDiv = document.currentScript.previousElementSibling;\n",
       "    if (outputDiv.id !== \"altair-viz-451ee5115eeb4cb58360fb2ef4635e05\") {\n",
       "      outputDiv = document.getElementById(\"altair-viz-451ee5115eeb4cb58360fb2ef4635e05\");\n",
       "    }\n",
       "    const paths = {\n",
       "      \"vega\": \"https://cdn.jsdelivr.net/npm//vega@5?noext\",\n",
       "      \"vega-lib\": \"https://cdn.jsdelivr.net/npm//vega-lib?noext\",\n",
       "      \"vega-lite\": \"https://cdn.jsdelivr.net/npm//vega-lite@4.8.1?noext\",\n",
       "      \"vega-embed\": \"https://cdn.jsdelivr.net/npm//vega-embed@6?noext\",\n",
       "    };\n",
       "\n",
       "    function loadScript(lib) {\n",
       "      return new Promise(function(resolve, reject) {\n",
       "        var s = document.createElement('script');\n",
       "        s.src = paths[lib];\n",
       "        s.async = true;\n",
       "        s.onload = () => resolve(paths[lib]);\n",
       "        s.onerror = () => reject(`Error loading script: ${paths[lib]}`);\n",
       "        document.getElementsByTagName(\"head\")[0].appendChild(s);\n",
       "      });\n",
       "    }\n",
       "\n",
       "    function showError(err) {\n",
       "      outputDiv.innerHTML = `<div class=\"error\" style=\"color:red;\">${err}</div>`;\n",
       "      throw err;\n",
       "    }\n",
       "\n",
       "    function displayChart(vegaEmbed) {\n",
       "      vegaEmbed(outputDiv, spec, embedOpt)\n",
       "        .catch(err => showError(`Javascript Error: ${err.message}<br>This usually means there's a typo in your chart specification. See the javascript console for the full traceback.`));\n",
       "    }\n",
       "\n",
       "    if(typeof define === \"function\" && define.amd) {\n",
       "      requirejs.config({paths});\n",
       "      require([\"vega-embed\"], displayChart, err => showError(`Error loading script: ${err.message}`));\n",
       "    } else if (typeof vegaEmbed === \"function\") {\n",
       "      displayChart(vegaEmbed);\n",
       "    } else {\n",
       "      loadScript(\"vega\")\n",
       "        .then(() => loadScript(\"vega-lite\"))\n",
       "        .then(() => loadScript(\"vega-embed\"))\n",
       "        .catch(showError)\n",
       "        .then(() => displayChart(vegaEmbed));\n",
       "    }\n",
       "  })({\"config\": {\"view\": {\"continuousWidth\": 400, \"continuousHeight\": 300}}, \"data\": {\"name\": \"data-7b40ce7a73d8f414e92d6972d9541fa0\"}, \"mark\": \"line\", \"encoding\": {\"color\": {\"type\": \"nominal\", \"field\": \"variable\"}, \"x\": {\"type\": \"quantitative\", \"field\": \"year\"}, \"y\": {\"type\": \"quantitative\", \"field\": \"value\", \"title\": \"PIB value $\"}}, \"title\": \"PIB Ecuador\", \"$schema\": \"https://vega.github.io/schema/vega-lite/v4.8.1.json\", \"datasets\": {\"data-7b40ce7a73d8f414e92d6972d9541fa0\": [{\"year\": 1960, \"variable\": \"pib_value\", \"value\": 1723727707.5}, {\"year\": 1961, \"variable\": \"pib_value\", \"value\": 1606925598.76}, {\"year\": 1962, \"variable\": \"pib_value\", \"value\": 1517480482.39}, {\"year\": 1963, \"variable\": \"pib_value\", \"value\": 1823470009.69}, {\"year\": 1964, \"variable\": \"pib_value\", \"value\": 2243071157.2}, {\"year\": 1965, \"variable\": \"pib_value\", \"value\": 2385904000.0}, {\"year\": 1966, \"variable\": \"pib_value\", \"value\": 2428145000.0}, {\"year\": 1967, \"variable\": \"pib_value\", \"value\": 2552372000.0}, {\"year\": 1968, \"variable\": \"pib_value\", \"value\": 2580943000.0}, {\"year\": 1969, \"variable\": \"pib_value\", \"value\": 3110675000.0}, {\"year\": 1970, \"variable\": \"pib_value\", \"value\": 2861132000.0}, {\"year\": 1971, \"variable\": \"pib_value\", \"value\": 2752900000.0}, {\"year\": 1972, \"variable\": \"pib_value\", \"value\": 3184460000.0}, {\"year\": 1973, \"variable\": \"pib_value\", \"value\": 3889890000.0}, {\"year\": 1974, \"variable\": \"pib_value\", \"value\": 6596096000.0}, {\"year\": 1975, \"variable\": \"pib_value\", \"value\": 7727971000.0}, {\"year\": 1976, \"variable\": \"pib_value\", \"value\": 9087566000.0}, {\"year\": 1977, \"variable\": \"pib_value\", \"value\": 11021061000.0}, {\"year\": 1978, \"variable\": \"pib_value\", \"value\": 11916787000.0}, {\"year\": 1979, \"variable\": \"pib_value\", \"value\": 14168371000.0}, {\"year\": 1980, \"variable\": \"pib_value\", \"value\": 17872943000.0}, {\"year\": 1981, \"variable\": \"pib_value\", \"value\": 21800312000.0}, {\"year\": 1982, \"variable\": \"pib_value\", \"value\": 19920300000.0}, {\"year\": 1983, \"variable\": \"pib_value\", \"value\": 17144261000.0}, {\"year\": 1984, \"variable\": \"pib_value\", \"value\": 16904408000.0}, {\"year\": 1985, \"variable\": \"pib_value\", \"value\": 17140874000.0}, {\"year\": 1986, \"variable\": \"pib_value\", \"value\": 15306803000.0}, {\"year\": 1987, \"variable\": \"pib_value\", \"value\": 13938747000.0}, {\"year\": 1988, \"variable\": \"pib_value\", \"value\": 13045630000.0}, {\"year\": 1989, \"variable\": \"pib_value\", \"value\": 13884170000.0}, {\"year\": 1990, \"variable\": \"pib_value\", \"value\": 15231973000.0}, {\"year\": 1991, \"variable\": \"pib_value\", \"value\": 16980041000.0}, {\"year\": 1992, \"variable\": \"pib_value\", \"value\": 18085191000.0}, {\"year\": 1993, \"variable\": \"pib_value\", \"value\": 18929248000.0}, {\"year\": 1994, \"variable\": \"pib_value\", \"value\": 22697319000.0}, {\"year\": 1995, \"variable\": \"pib_value\", \"value\": 24420668000.0}, {\"year\": 1996, \"variable\": \"pib_value\", \"value\": 25213780000.0}, {\"year\": 1997, \"variable\": \"pib_value\", \"value\": 28147972000.0}, {\"year\": 1998, \"variable\": \"pib_value\", \"value\": 27967906000.0}, {\"year\": 1999, \"variable\": \"pib_value\", \"value\": 19635450000.0}, {\"year\": 2000, \"variable\": \"pib_value\", \"value\": 18318601000.0}, {\"year\": 2001, \"variable\": \"pib_value\", \"value\": 24468324000.0}, {\"year\": 2002, \"variable\": \"pib_value\", \"value\": 28548945000.0}, {\"year\": 2003, \"variable\": \"pib_value\", \"value\": 32432858000.0}, {\"year\": 2004, \"variable\": \"pib_value\", \"value\": 36591661000.0}, {\"year\": 2005, \"variable\": \"pib_value\", \"value\": 41507085000.0}, {\"year\": 2006, \"variable\": \"pib_value\", \"value\": 46802044000.0}, {\"year\": 2007, \"variable\": \"pib_value\", \"value\": 51007777000.0}, {\"year\": 2008, \"variable\": \"pib_value\", \"value\": 61762635000.0}, {\"year\": 2009, \"variable\": \"pib_value\", \"value\": 62519686000.0}, {\"year\": 2010, \"variable\": \"pib_value\", \"value\": 69555367000.0}, {\"year\": 2011, \"variable\": \"pib_value\", \"value\": 79276664000.0}, {\"year\": 2012, \"variable\": \"pib_value\", \"value\": 87924544000.0}, {\"year\": 2013, \"variable\": \"pib_value\", \"value\": 95129659000.0}, {\"year\": 2014, \"variable\": \"pib_value\", \"value\": 101726331000.0}, {\"year\": 2015, \"variable\": \"pib_value\", \"value\": 99290381000.0}, {\"year\": 2016, \"variable\": \"pib_value\", \"value\": 99937696000.0}, {\"year\": 2017, \"variable\": \"pib_value\", \"value\": 104295862000.0}, {\"year\": 2018, \"variable\": \"pib_value\", \"value\": 107562008000.0}, {\"year\": 2019, \"variable\": \"pib_value\", \"value\": 107435665000.0}]}}, {\"mode\": \"vega-lite\"});\n",
       "</script>"
      ],
      "text/plain": [
       "alt.Chart(...)"
      ]
     },
     "execution_count": 12,
     "metadata": {},
     "output_type": "execute_result"
    }
   ],
   "source": [
    "alt.Chart(df.melt('year')).mark_line().encode(\n",
    "    x='year',\n",
    "    y=alt.Y('value',title='PIB value $'),\n",
    "    color='variable'\n",
    ").properties(title='PIB Ecuador')"
   ]
  },
  {
   "cell_type": "markdown",
   "metadata": {},
   "source": [
    " <h4 style=\"color:orange\">Cambio del PIB a lo largo del tiempo</h4>"
   ]
  },
  {
   "cell_type": "code",
   "execution_count": 13,
   "metadata": {},
   "outputs": [
    {
     "data": {
      "text/html": [
       "<div>\n",
       "<style scoped>\n",
       "    .dataframe tbody tr th:only-of-type {\n",
       "        vertical-align: middle;\n",
       "    }\n",
       "\n",
       "    .dataframe tbody tr th {\n",
       "        vertical-align: top;\n",
       "    }\n",
       "\n",
       "    .dataframe thead th {\n",
       "        text-align: right;\n",
       "    }\n",
       "</style>\n",
       "<table border=\"1\" class=\"dataframe\">\n",
       "  <thead>\n",
       "    <tr style=\"text-align: right;\">\n",
       "      <th></th>\n",
       "      <th>year</th>\n",
       "      <th>pib_value</th>\n",
       "      <th>change</th>\n",
       "    </tr>\n",
       "  </thead>\n",
       "  <tbody>\n",
       "    <tr>\n",
       "      <th>0</th>\n",
       "      <td>1960</td>\n",
       "      <td>1,723,727,707.50</td>\n",
       "      <td>0.00</td>\n",
       "    </tr>\n",
       "    <tr>\n",
       "      <th>1</th>\n",
       "      <td>1961</td>\n",
       "      <td>1,606,925,598.76</td>\n",
       "      <td>-7.27</td>\n",
       "    </tr>\n",
       "    <tr>\n",
       "      <th>2</th>\n",
       "      <td>1962</td>\n",
       "      <td>1,517,480,482.39</td>\n",
       "      <td>-5.89</td>\n",
       "    </tr>\n",
       "    <tr>\n",
       "      <th>3</th>\n",
       "      <td>1963</td>\n",
       "      <td>1,823,470,009.69</td>\n",
       "      <td>16.78</td>\n",
       "    </tr>\n",
       "    <tr>\n",
       "      <th>4</th>\n",
       "      <td>1964</td>\n",
       "      <td>2,243,071,157.20</td>\n",
       "      <td>18.71</td>\n",
       "    </tr>\n",
       "  </tbody>\n",
       "</table>\n",
       "</div>"
      ],
      "text/plain": [
       "   year        pib_value  change\n",
       "0  1960 1,723,727,707.50    0.00\n",
       "1  1961 1,606,925,598.76   -7.27\n",
       "2  1962 1,517,480,482.39   -5.89\n",
       "3  1963 1,823,470,009.69   16.78\n",
       "4  1964 2,243,071,157.20   18.71"
      ]
     },
     "execution_count": 13,
     "metadata": {},
     "output_type": "execute_result"
    }
   ],
   "source": [
    "df['change']=df['pib_value'].diff()\n",
    "df['change']=(df['change']/df['pib_value']) *100\n",
    "df=df.fillna(0)\n",
    "df.head()"
   ]
  },
  {
   "cell_type": "code",
   "execution_count": 14,
   "metadata": {},
   "outputs": [
    {
     "data": {
      "text/html": [
       "\n",
       "<div id=\"altair-viz-882860b9afeb4786aff4d12348d2f176\"></div>\n",
       "<script type=\"text/javascript\">\n",
       "  (function(spec, embedOpt){\n",
       "    let outputDiv = document.currentScript.previousElementSibling;\n",
       "    if (outputDiv.id !== \"altair-viz-882860b9afeb4786aff4d12348d2f176\") {\n",
       "      outputDiv = document.getElementById(\"altair-viz-882860b9afeb4786aff4d12348d2f176\");\n",
       "    }\n",
       "    const paths = {\n",
       "      \"vega\": \"https://cdn.jsdelivr.net/npm//vega@5?noext\",\n",
       "      \"vega-lib\": \"https://cdn.jsdelivr.net/npm//vega-lib?noext\",\n",
       "      \"vega-lite\": \"https://cdn.jsdelivr.net/npm//vega-lite@4.8.1?noext\",\n",
       "      \"vega-embed\": \"https://cdn.jsdelivr.net/npm//vega-embed@6?noext\",\n",
       "    };\n",
       "\n",
       "    function loadScript(lib) {\n",
       "      return new Promise(function(resolve, reject) {\n",
       "        var s = document.createElement('script');\n",
       "        s.src = paths[lib];\n",
       "        s.async = true;\n",
       "        s.onload = () => resolve(paths[lib]);\n",
       "        s.onerror = () => reject(`Error loading script: ${paths[lib]}`);\n",
       "        document.getElementsByTagName(\"head\")[0].appendChild(s);\n",
       "      });\n",
       "    }\n",
       "\n",
       "    function showError(err) {\n",
       "      outputDiv.innerHTML = `<div class=\"error\" style=\"color:red;\">${err}</div>`;\n",
       "      throw err;\n",
       "    }\n",
       "\n",
       "    function displayChart(vegaEmbed) {\n",
       "      vegaEmbed(outputDiv, spec, embedOpt)\n",
       "        .catch(err => showError(`Javascript Error: ${err.message}<br>This usually means there's a typo in your chart specification. See the javascript console for the full traceback.`));\n",
       "    }\n",
       "\n",
       "    if(typeof define === \"function\" && define.amd) {\n",
       "      requirejs.config({paths});\n",
       "      require([\"vega-embed\"], displayChart, err => showError(`Error loading script: ${err.message}`));\n",
       "    } else if (typeof vegaEmbed === \"function\") {\n",
       "      displayChart(vegaEmbed);\n",
       "    } else {\n",
       "      loadScript(\"vega\")\n",
       "        .then(() => loadScript(\"vega-lite\"))\n",
       "        .then(() => loadScript(\"vega-embed\"))\n",
       "        .catch(showError)\n",
       "        .then(() => displayChart(vegaEmbed));\n",
       "    }\n",
       "  })({\"config\": {\"view\": {\"continuousWidth\": 400, \"continuousHeight\": 300}}, \"data\": {\"name\": \"data-f28ee39dff54d89cbed07aa8f52f07e7\"}, \"mark\": \"line\", \"encoding\": {\"color\": {\"type\": \"nominal\", \"field\": \"variable\"}, \"x\": {\"type\": \"quantitative\", \"field\": \"year\"}, \"y\": {\"type\": \"quantitative\", \"field\": \"value\", \"title\": \"PIB Change %\"}}, \"title\": \"PIB Ecuador Change\", \"$schema\": \"https://vega.github.io/schema/vega-lite/v4.8.1.json\", \"datasets\": {\"data-f28ee39dff54d89cbed07aa8f52f07e7\": [{\"year\": 1960, \"variable\": \"change\", \"value\": 0.0}, {\"year\": 1961, \"variable\": \"change\", \"value\": -7.268669366530194}, {\"year\": 1962, \"variable\": \"change\", \"value\": -5.894317416796405}, {\"year\": 1963, \"variable\": \"change\", \"value\": 16.780617486109346}, {\"year\": 1964, \"variable\": \"change\", \"value\": 18.706546431357225}, {\"year\": 1965, \"variable\": \"change\", \"value\": 5.986529332278256}, {\"year\": 1966, \"variable\": \"change\", \"value\": 1.7396407545677874}, {\"year\": 1967, \"variable\": \"change\", \"value\": 4.867119683180978}, {\"year\": 1968, \"variable\": \"change\", \"value\": 1.1069984885369417}, {\"year\": 1969, \"variable\": \"change\", \"value\": 17.02948716918354}, {\"year\": 1970, \"variable\": \"change\", \"value\": -8.721827584326764}, {\"year\": 1971, \"variable\": \"change\", \"value\": -3.931563078934942}, {\"year\": 1972, \"variable\": \"change\", \"value\": 13.552062202068797}, {\"year\": 1973, \"variable\": \"change\", \"value\": 18.134960114553365}, {\"year\": 1974, \"variable\": \"change\", \"value\": 41.02738953465808}, {\"year\": 1975, \"variable\": \"change\", \"value\": 14.646470593639648}, {\"year\": 1976, \"variable\": \"change\", \"value\": 14.961046775341163}, {\"year\": 1977, \"variable\": \"change\", \"value\": 17.543637586254174}, {\"year\": 1978, \"variable\": \"change\", \"value\": 7.5165059172409485}, {\"year\": 1979, \"variable\": \"change\", \"value\": 15.89162226200881}, {\"year\": 1980, \"variable\": \"change\", \"value\": 20.72726355139162}, {\"year\": 1981, \"variable\": \"change\", \"value\": 18.015196296273192}, {\"year\": 1982, \"variable\": \"change\", \"value\": -9.437669111408965}, {\"year\": 1983, \"variable\": \"change\", \"value\": -16.192234824236518}, {\"year\": 1984, \"variable\": \"change\", \"value\": -1.418878436914206}, {\"year\": 1985, \"variable\": \"change\", \"value\": 1.3795445903166899}, {\"year\": 1986, \"variable\": \"change\", \"value\": -11.982064445462584}, {\"year\": 1987, \"variable\": \"change\", \"value\": -9.814770294632652}, {\"year\": 1988, \"variable\": \"change\", \"value\": -6.846100954879144}, {\"year\": 1989, \"variable\": \"change\", \"value\": 6.039539994108399}, {\"year\": 1990, \"variable\": \"change\", \"value\": 8.848512270866028}, {\"year\": 1991, \"variable\": \"change\", \"value\": 10.294839688549633}, {\"year\": 1992, \"variable\": \"change\", \"value\": 6.110800820406044}, {\"year\": 1993, \"variable\": \"change\", \"value\": 4.459009676454131}, {\"year\": 1994, \"variable\": \"change\", \"value\": 16.601392437582607}, {\"year\": 1995, \"variable\": \"change\", \"value\": 7.056928172480785}, {\"year\": 1996, \"variable\": \"change\", \"value\": 3.145549774766021}, {\"year\": 1997, \"variable\": \"change\", \"value\": 10.424168391243247}, {\"year\": 1998, \"variable\": \"change\", \"value\": -0.6438308252323216}, {\"year\": 1999, \"variable\": \"change\", \"value\": -42.435778146159116}, {\"year\": 2000, \"variable\": \"change\", \"value\": -7.188589346970328}, {\"year\": 2001, \"variable\": \"change\", \"value\": 25.133405132284498}, {\"year\": 2002, \"variable\": \"change\", \"value\": 14.293421350596319}, {\"year\": 2003, \"variable\": \"change\", \"value\": 11.975241281542317}, {\"year\": 2004, \"variable\": \"change\", \"value\": 11.365439245843472}, {\"year\": 2005, \"variable\": \"change\", \"value\": 11.84237341649022}, {\"year\": 2006, \"variable\": \"change\", \"value\": 11.31352083682499}, {\"year\": 2007, \"variable\": \"change\", \"value\": 8.24527797006327}, {\"year\": 2008, \"variable\": \"change\", \"value\": 17.413211078186674}, {\"year\": 2009, \"variable\": \"change\", \"value\": 1.2109001955000223}, {\"year\": 2010, \"variable\": \"change\", \"value\": 10.115223746860542}, {\"year\": 2011, \"variable\": \"change\", \"value\": 12.262495051507214}, {\"year\": 2012, \"variable\": \"change\", \"value\": 9.83556991776949}, {\"year\": 2013, \"variable\": \"change\", \"value\": 7.573994352276612}, {\"year\": 2014, \"variable\": \"change\", \"value\": 6.48472419594097}, {\"year\": 2015, \"variable\": \"change\", \"value\": -2.4533595051871138}, {\"year\": 2016, \"variable\": \"change\", \"value\": 0.6477185545682382}, {\"year\": 2017, \"variable\": \"change\", \"value\": 4.178656675755746}, {\"year\": 2018, \"variable\": \"change\", \"value\": 3.0365238254012517}, {\"year\": 2019, \"variable\": \"change\", \"value\": -0.11759875084312087}]}}, {\"mode\": \"vega-lite\"});\n",
       "</script>"
      ],
      "text/plain": [
       "alt.Chart(...)"
      ]
     },
     "execution_count": 14,
     "metadata": {},
     "output_type": "execute_result"
    }
   ],
   "source": [
    "alt.Chart(df.drop('pib_value',axis=1).melt('year')).mark_line().encode(\n",
    "    x='year',\n",
    "    y=alt.Y('value',title='PIB Change %'),\n",
    "    color='variable'\n",
    ").properties(title='PIB Ecuador Change')"
   ]
  },
  {
   "cell_type": "markdown",
   "metadata": {},
   "source": [
    " <h4 style=\"color:orange\">PIB mas alto y PIB mas bajo</h4>"
   ]
  },
  {
   "cell_type": "code",
   "execution_count": 15,
   "metadata": {},
   "outputs": [
    {
     "name": "stdout",
     "output_type": "stream",
     "text": [
      "PIB más alto es :\n"
     ]
    },
    {
     "data": {
      "text/html": [
       "<div>\n",
       "<style scoped>\n",
       "    .dataframe tbody tr th:only-of-type {\n",
       "        vertical-align: middle;\n",
       "    }\n",
       "\n",
       "    .dataframe tbody tr th {\n",
       "        vertical-align: top;\n",
       "    }\n",
       "\n",
       "    .dataframe thead th {\n",
       "        text-align: right;\n",
       "    }\n",
       "</style>\n",
       "<table border=\"1\" class=\"dataframe\">\n",
       "  <thead>\n",
       "    <tr style=\"text-align: right;\">\n",
       "      <th></th>\n",
       "      <th>year</th>\n",
       "      <th>pib_value</th>\n",
       "      <th>change</th>\n",
       "    </tr>\n",
       "  </thead>\n",
       "  <tbody>\n",
       "    <tr>\n",
       "      <th>0</th>\n",
       "      <td>2,019.00</td>\n",
       "      <td>107,562,008,000.00</td>\n",
       "      <td>41.03</td>\n",
       "    </tr>\n",
       "  </tbody>\n",
       "</table>\n",
       "</div>"
      ],
      "text/plain": [
       "      year          pib_value  change\n",
       "0 2,019.00 107,562,008,000.00   41.03"
      ]
     },
     "execution_count": 15,
     "metadata": {},
     "output_type": "execute_result"
    }
   ],
   "source": [
    "print(\"PIB más alto es :\")\n",
    "pd.DataFrame(df.max()).T"
   ]
  },
  {
   "cell_type": "code",
   "execution_count": 16,
   "metadata": {},
   "outputs": [
    {
     "name": "stdout",
     "output_type": "stream",
     "text": [
      "PIB más bajo es :\n"
     ]
    },
    {
     "data": {
      "text/html": [
       "<div>\n",
       "<style scoped>\n",
       "    .dataframe tbody tr th:only-of-type {\n",
       "        vertical-align: middle;\n",
       "    }\n",
       "\n",
       "    .dataframe tbody tr th {\n",
       "        vertical-align: top;\n",
       "    }\n",
       "\n",
       "    .dataframe thead th {\n",
       "        text-align: right;\n",
       "    }\n",
       "</style>\n",
       "<table border=\"1\" class=\"dataframe\">\n",
       "  <thead>\n",
       "    <tr style=\"text-align: right;\">\n",
       "      <th></th>\n",
       "      <th>year</th>\n",
       "      <th>pib_value</th>\n",
       "      <th>change</th>\n",
       "    </tr>\n",
       "  </thead>\n",
       "  <tbody>\n",
       "    <tr>\n",
       "      <th>0</th>\n",
       "      <td>1,960.00</td>\n",
       "      <td>1,517,480,482.39</td>\n",
       "      <td>-42.44</td>\n",
       "    </tr>\n",
       "  </tbody>\n",
       "</table>\n",
       "</div>"
      ],
      "text/plain": [
       "      year        pib_value  change\n",
       "0 1,960.00 1,517,480,482.39  -42.44"
      ]
     },
     "execution_count": 16,
     "metadata": {},
     "output_type": "execute_result"
    }
   ],
   "source": [
    "print(\"PIB más bajo es :\")\n",
    "pd.DataFrame(df.min()).T"
   ]
  },
  {
   "cell_type": "markdown",
   "metadata": {},
   "source": [
    "Como podemos darnos cuenta, esto tiene sentido, puesto que como vimos en la gráfica inicial del PIB, este tiene una tendencia creciente, sin embargo existen momentos en los que decrece el PIB, por lo cual, fijarnos en el valor del PIB para ver el máximo y el mínimo no tiene sentido puesto que el valor del PIB es variable, en este caso, es mejor ver el cambio máximo y el cambio mínimo que se ha dado. Con ello vemos que el cambio más alto es de **41.03%** mientras que el más bajo es de **-42.44%**, ahora tomemos en cuenta que dichos cambios no corresponden a los años que se muetran en als tablas, puesto que ahí se estan mostrando el máximo y mínimo de cada columna, por lo que procederemos a buscar dichos cambios para encontrar el año específico. A continuación mostramos los siguientes resultados:"
   ]
  },
  {
   "cell_type": "code",
   "execution_count": 17,
   "metadata": {},
   "outputs": [
    {
     "name": "stdout",
     "output_type": "stream",
     "text": [
      "PIB más alto es :\n"
     ]
    },
    {
     "data": {
      "text/html": [
       "<div>\n",
       "<style scoped>\n",
       "    .dataframe tbody tr th:only-of-type {\n",
       "        vertical-align: middle;\n",
       "    }\n",
       "\n",
       "    .dataframe tbody tr th {\n",
       "        vertical-align: top;\n",
       "    }\n",
       "\n",
       "    .dataframe thead th {\n",
       "        text-align: right;\n",
       "    }\n",
       "</style>\n",
       "<table border=\"1\" class=\"dataframe\">\n",
       "  <thead>\n",
       "    <tr style=\"text-align: right;\">\n",
       "      <th></th>\n",
       "      <th>year</th>\n",
       "      <th>pib_value</th>\n",
       "      <th>change</th>\n",
       "    </tr>\n",
       "  </thead>\n",
       "  <tbody>\n",
       "    <tr>\n",
       "      <th>14</th>\n",
       "      <td>1974</td>\n",
       "      <td>6,596,096,000.00</td>\n",
       "      <td>41.03</td>\n",
       "    </tr>\n",
       "  </tbody>\n",
       "</table>\n",
       "</div>"
      ],
      "text/plain": [
       "    year        pib_value  change\n",
       "14  1974 6,596,096,000.00   41.03"
      ]
     },
     "execution_count": 17,
     "metadata": {},
     "output_type": "execute_result"
    }
   ],
   "source": [
    "print(\"PIB más alto es :\")\n",
    "df[df['change']==pd.DataFrame(df.max()).T['change'][0]]"
   ]
  },
  {
   "cell_type": "code",
   "execution_count": 18,
   "metadata": {},
   "outputs": [
    {
     "name": "stdout",
     "output_type": "stream",
     "text": [
      "PIB más bajo es :\n"
     ]
    },
    {
     "data": {
      "text/html": [
       "<div>\n",
       "<style scoped>\n",
       "    .dataframe tbody tr th:only-of-type {\n",
       "        vertical-align: middle;\n",
       "    }\n",
       "\n",
       "    .dataframe tbody tr th {\n",
       "        vertical-align: top;\n",
       "    }\n",
       "\n",
       "    .dataframe thead th {\n",
       "        text-align: right;\n",
       "    }\n",
       "</style>\n",
       "<table border=\"1\" class=\"dataframe\">\n",
       "  <thead>\n",
       "    <tr style=\"text-align: right;\">\n",
       "      <th></th>\n",
       "      <th>year</th>\n",
       "      <th>pib_value</th>\n",
       "      <th>change</th>\n",
       "    </tr>\n",
       "  </thead>\n",
       "  <tbody>\n",
       "    <tr>\n",
       "      <th>39</th>\n",
       "      <td>1999</td>\n",
       "      <td>19,635,450,000.00</td>\n",
       "      <td>-42.44</td>\n",
       "    </tr>\n",
       "  </tbody>\n",
       "</table>\n",
       "</div>"
      ],
      "text/plain": [
       "    year         pib_value  change\n",
       "39  1999 19,635,450,000.00  -42.44"
      ]
     },
     "execution_count": 18,
     "metadata": {},
     "output_type": "execute_result"
    }
   ],
   "source": [
    "print(\"PIB más bajo es :\")\n",
    "df[df['change']==pd.DataFrame(df.min()).T['change'][0]]"
   ]
  },
  {
   "cell_type": "markdown",
   "metadata": {},
   "source": [
    "Con ello podemos notar que la mejor época del PIB en el Ecuador fue en el año **1974** en donde hubo el mejor cambio del dicho valor, mientras que el año **1999** es el peor cambio del PIB en el Ecuador."
   ]
  },
  {
   "cell_type": "markdown",
   "metadata": {},
   "source": [
    " <h4 style=\"color:orange\">PIB negativos vs PIB positivos</h4>"
   ]
  },
  {
   "cell_type": "markdown",
   "metadata": {},
   "source": [
    "Como habiamos explicado anteriormente, si bien el valor del PIB tiende a ser creciente, este tiene a ser cambiante por diferentes valores, por lo cual su valor no es una médida que nos de mucha información, sin embargo, trabajar con el cambio del PIB, nos aportara una mejor prespectiva de como ha ido cambiando el PIB realmente con respecto al tiempo, de esta manera podemos obtener los siguientes resultados."
   ]
  },
  {
   "cell_type": "code",
   "execution_count": 19,
   "metadata": {},
   "outputs": [],
   "source": [
    "dict_n_vs_p = {'positive':df.query('change>0').count()[0],'negative':df.query('change<0').count()[0]}\n",
    "df_pn = pd.DataFrame(dict_n_vs_p,index=[0]).T\n",
    "df_pn.reset_index(inplace=True)\n",
    "df_pn.columns = ['description','value']"
   ]
  },
  {
   "cell_type": "code",
   "execution_count": 20,
   "metadata": {},
   "outputs": [
    {
     "data": {
      "text/html": [
       "\n",
       "<div id=\"altair-viz-e9df7dcc3ade490cadd1bf8a6a475ae6\"></div>\n",
       "<script type=\"text/javascript\">\n",
       "  (function(spec, embedOpt){\n",
       "    let outputDiv = document.currentScript.previousElementSibling;\n",
       "    if (outputDiv.id !== \"altair-viz-e9df7dcc3ade490cadd1bf8a6a475ae6\") {\n",
       "      outputDiv = document.getElementById(\"altair-viz-e9df7dcc3ade490cadd1bf8a6a475ae6\");\n",
       "    }\n",
       "    const paths = {\n",
       "      \"vega\": \"https://cdn.jsdelivr.net/npm//vega@5?noext\",\n",
       "      \"vega-lib\": \"https://cdn.jsdelivr.net/npm//vega-lib?noext\",\n",
       "      \"vega-lite\": \"https://cdn.jsdelivr.net/npm//vega-lite@4.8.1?noext\",\n",
       "      \"vega-embed\": \"https://cdn.jsdelivr.net/npm//vega-embed@6?noext\",\n",
       "    };\n",
       "\n",
       "    function loadScript(lib) {\n",
       "      return new Promise(function(resolve, reject) {\n",
       "        var s = document.createElement('script');\n",
       "        s.src = paths[lib];\n",
       "        s.async = true;\n",
       "        s.onload = () => resolve(paths[lib]);\n",
       "        s.onerror = () => reject(`Error loading script: ${paths[lib]}`);\n",
       "        document.getElementsByTagName(\"head\")[0].appendChild(s);\n",
       "      });\n",
       "    }\n",
       "\n",
       "    function showError(err) {\n",
       "      outputDiv.innerHTML = `<div class=\"error\" style=\"color:red;\">${err}</div>`;\n",
       "      throw err;\n",
       "    }\n",
       "\n",
       "    function displayChart(vegaEmbed) {\n",
       "      vegaEmbed(outputDiv, spec, embedOpt)\n",
       "        .catch(err => showError(`Javascript Error: ${err.message}<br>This usually means there's a typo in your chart specification. See the javascript console for the full traceback.`));\n",
       "    }\n",
       "\n",
       "    if(typeof define === \"function\" && define.amd) {\n",
       "      requirejs.config({paths});\n",
       "      require([\"vega-embed\"], displayChart, err => showError(`Error loading script: ${err.message}`));\n",
       "    } else if (typeof vegaEmbed === \"function\") {\n",
       "      displayChart(vegaEmbed);\n",
       "    } else {\n",
       "      loadScript(\"vega\")\n",
       "        .then(() => loadScript(\"vega-lite\"))\n",
       "        .then(() => loadScript(\"vega-embed\"))\n",
       "        .catch(showError)\n",
       "        .then(() => displayChart(vegaEmbed));\n",
       "    }\n",
       "  })({\"config\": {\"view\": {\"continuousWidth\": 400, \"continuousHeight\": 300}}, \"data\": {\"name\": \"data-794d8d66415536800c7020a95fdef424\"}, \"mark\": {\"type\": \"bar\", \"size\": 30}, \"encoding\": {\"color\": {\"type\": \"nominal\", \"field\": \"description\"}, \"x\": {\"type\": \"nominal\", \"field\": \"description\"}, \"y\": {\"type\": \"quantitative\", \"field\": \"value\", \"title\": \"count values\"}}, \"title\": \"Positive vs Negative PIB\", \"width\": {\"step\": 100}, \"$schema\": \"https://vega.github.io/schema/vega-lite/v4.8.1.json\", \"datasets\": {\"data-794d8d66415536800c7020a95fdef424\": [{\"description\": \"positive\", \"value\": 44}, {\"description\": \"negative\", \"value\": 15}]}}, {\"mode\": \"vega-lite\"});\n",
       "</script>"
      ],
      "text/plain": [
       "alt.Chart(...)"
      ]
     },
     "execution_count": 20,
     "metadata": {},
     "output_type": "execute_result"
    }
   ],
   "source": [
    "alt.Chart(df_pn).mark_bar(size=30).encode(\n",
    "    x='description',\n",
    "    y=alt.Y('value',title='count values'),\n",
    "    color='description'\n",
    ").properties(width=alt.Step(100),title='Positive vs Negative PIB')"
   ]
  },
  {
   "cell_type": "markdown",
   "metadata": {},
   "source": [
    "Con esta gráfica podemos apreciar que han existido cambios más positivos que negativos, sin embargo, con ese simple hecho no podemos saber si esos valores negativos afectarón más que los positivos, ya que esta gráfica solamente nos presenta el número de cambios negativos y positivos que han existido, más no la afección de los cambios positivos y negativos del PIB, para ello lo que procedemos a hacer es calcular dicha affección. A continuación mostramos los resultados"
   ]
  },
  {
   "cell_type": "code",
   "execution_count": 21,
   "metadata": {},
   "outputs": [],
   "source": [
    "data=pd.DataFrame(df['pib_value'].diff())\n",
    "data=data.fillna(0.00)\n",
    "dict_n_vs_p = {'positive':data.query('pib_value>0').sum()[0],'negative':np.abs(data.query('pib_value<0').sum()[0])}\n",
    "df_pn = pd.DataFrame(dict_n_vs_p,index=[0]).T\n",
    "df_pn.reset_index(inplace=True)\n",
    "df_pn.columns = ['description','value']"
   ]
  },
  {
   "cell_type": "code",
   "execution_count": 22,
   "metadata": {},
   "outputs": [
    {
     "data": {
      "text/html": [
       "\n",
       "<div id=\"altair-viz-799377b860594ad1b72d74ce9e267d96\"></div>\n",
       "<script type=\"text/javascript\">\n",
       "  (function(spec, embedOpt){\n",
       "    let outputDiv = document.currentScript.previousElementSibling;\n",
       "    if (outputDiv.id !== \"altair-viz-799377b860594ad1b72d74ce9e267d96\") {\n",
       "      outputDiv = document.getElementById(\"altair-viz-799377b860594ad1b72d74ce9e267d96\");\n",
       "    }\n",
       "    const paths = {\n",
       "      \"vega\": \"https://cdn.jsdelivr.net/npm//vega@5?noext\",\n",
       "      \"vega-lib\": \"https://cdn.jsdelivr.net/npm//vega-lib?noext\",\n",
       "      \"vega-lite\": \"https://cdn.jsdelivr.net/npm//vega-lite@4.8.1?noext\",\n",
       "      \"vega-embed\": \"https://cdn.jsdelivr.net/npm//vega-embed@6?noext\",\n",
       "    };\n",
       "\n",
       "    function loadScript(lib) {\n",
       "      return new Promise(function(resolve, reject) {\n",
       "        var s = document.createElement('script');\n",
       "        s.src = paths[lib];\n",
       "        s.async = true;\n",
       "        s.onload = () => resolve(paths[lib]);\n",
       "        s.onerror = () => reject(`Error loading script: ${paths[lib]}`);\n",
       "        document.getElementsByTagName(\"head\")[0].appendChild(s);\n",
       "      });\n",
       "    }\n",
       "\n",
       "    function showError(err) {\n",
       "      outputDiv.innerHTML = `<div class=\"error\" style=\"color:red;\">${err}</div>`;\n",
       "      throw err;\n",
       "    }\n",
       "\n",
       "    function displayChart(vegaEmbed) {\n",
       "      vegaEmbed(outputDiv, spec, embedOpt)\n",
       "        .catch(err => showError(`Javascript Error: ${err.message}<br>This usually means there's a typo in your chart specification. See the javascript console for the full traceback.`));\n",
       "    }\n",
       "\n",
       "    if(typeof define === \"function\" && define.amd) {\n",
       "      requirejs.config({paths});\n",
       "      require([\"vega-embed\"], displayChart, err => showError(`Error loading script: ${err.message}`));\n",
       "    } else if (typeof vegaEmbed === \"function\") {\n",
       "      displayChart(vegaEmbed);\n",
       "    } else {\n",
       "      loadScript(\"vega\")\n",
       "        .then(() => loadScript(\"vega-lite\"))\n",
       "        .then(() => loadScript(\"vega-embed\"))\n",
       "        .catch(showError)\n",
       "        .then(() => displayChart(vegaEmbed));\n",
       "    }\n",
       "  })({\"config\": {\"view\": {\"continuousWidth\": 400, \"continuousHeight\": 300}}, \"data\": {\"name\": \"data-85da5a95124b52d63a9a02e3127210b7\"}, \"mark\": {\"type\": \"bar\", \"size\": 30}, \"encoding\": {\"color\": {\"type\": \"nominal\", \"field\": \"description\"}, \"x\": {\"type\": \"nominal\", \"field\": \"description\"}, \"y\": {\"type\": \"quantitative\", \"field\": \"value\", \"title\": \"value PIB $\"}}, \"title\": \"Positive vs Negative PIB affection\", \"width\": {\"step\": 150}, \"$schema\": \"https://vega.github.io/schema/vega-lite/v4.8.1.json\", \"datasets\": {\"data-85da5a95124b52d63a9a02e3127210b7\": [{\"description\": \"positive\", \"value\": 127658771517.61}, {\"description\": \"negative\", \"value\": 21946834225.11}]}}, {\"mode\": \"vega-lite\"});\n",
       "</script>"
      ],
      "text/plain": [
       "alt.Chart(...)"
      ]
     },
     "execution_count": 22,
     "metadata": {},
     "output_type": "execute_result"
    }
   ],
   "source": [
    "alt.Chart(df_pn).mark_bar(size=30).encode(\n",
    "    x='description',\n",
    "    y=alt.Y('value',title='value PIB $'),\n",
    "    color='description'\n",
    ").properties(width=alt.Step(150),title='Positive vs Negative PIB affection')"
   ]
  },
  {
   "cell_type": "markdown",
   "metadata": {},
   "source": [
    "Como podemos notar la afección de los cambios ha sido pequeña con respecto a la afección positiva que se ha tenido, lo cual nos da a entender que el PIB del Ecuador a tenido un buen comportamiento a lo largo del tiempo."
   ]
  },
  {
   "cell_type": "markdown",
   "metadata": {},
   "source": [
    " <h4 style=\"color:orange\">PIB en el tiempo de COVID-19</h4>"
   ]
  },
  {
   "cell_type": "markdown",
   "metadata": {},
   "source": [
    "Con la llegada del COVID-19, la economía del mundo se ha visto afectada en gran manera, en Ecuador esta no fue la excepción, actualmente el Ecuador ha sufrido un cambio negativo, actualmente esta en un coste de **$ 98.80** millones de dolares en donde a diferencia del año anterior en donde su cambio es de un **8 a 11%** según lo investigado, esto nos hace caer en cuenta que el inicio de una pandemia hace decrecer la economia no de una manera drástica pero si baja, pero esto dependera de otros factores como la importación, la exportación, la inversión y el gasto que el país realiza a lo largo del tiempo.\n",
    "\n",
    "Por tanto, el conjunto de datos inicial es muy pobre en datos ya que no tiene la información suficiente para hacer una predicción correcta del valor del PIB a futuro ya que solo toma en consideración el año y este al ser variable no puede ser tomado como una variable tan util, de cierta manera si existe una fuerte correlción sin embargo, debemos depender de otras caracteristicas para proceder a la predicción."
   ]
  },
  {
   "cell_type": "markdown",
   "metadata": {},
   "source": [
    "-------------------------"
   ]
  },
  {
   "cell_type": "markdown",
   "metadata": {},
   "source": [
    "<h2 style=\"color:yellowgreen\">Selección de Features y Target</h2>"
   ]
  },
  {
   "cell_type": "markdown",
   "metadata": {},
   "source": [
    "Antes de proceder a hacer el modelo, dividimos las variables de entrada y las variables de salida con la finalidad de obtener nuestro feature y target, sin embargo, no procedemos a hacer un split de train y test debido a que no tenemos los suficientes datos como para pdoer hacer dicha división e incluso podriamos caer en un **underfitting**"
   ]
  },
  {
   "cell_type": "code",
   "execution_count": 23,
   "metadata": {},
   "outputs": [],
   "source": [
    "def _obtain_feature_target(df,feature_columns,target_columns):\n",
    "    features = df[feature_columns]\n",
    "    target   = df[target_columns]\n",
    "    return features,target"
   ]
  },
  {
   "cell_type": "code",
   "execution_count": 24,
   "metadata": {},
   "outputs": [],
   "source": [
    "features,target = _obtain_feature_target(df,['year'],'pib_value')"
   ]
  },
  {
   "cell_type": "markdown",
   "metadata": {},
   "source": [
    "Con la división de feature y target procedemos a predecir el PIB con diferentes modelos de regresión. A continuación mostramos cada uno de ellos y en la sección de interpretación explicaremos los resultados obtenidos en cada modelo"
   ]
  },
  {
   "cell_type": "markdown",
   "metadata": {},
   "source": [
    "------------------------------"
   ]
  },
  {
   "cell_type": "markdown",
   "metadata": {},
   "source": [
    "<h2 style=\"color:yellowgreen\">Modelo de regresión Lineal</h2>"
   ]
  },
  {
   "cell_type": "code",
   "execution_count": 25,
   "metadata": {},
   "outputs": [
    {
     "name": "stdout",
     "output_type": "stream",
     "text": [
      "Score linear model = 0.7617039980975064\n"
     ]
    }
   ],
   "source": [
    "model_linear = LinearRegression()\n",
    "model_linear = model_linear.fit(features,target)\n",
    "print(\"Score linear model = {}\".format(model_linear.score(features,target)))"
   ]
  },
  {
   "cell_type": "code",
   "execution_count": 26,
   "metadata": {},
   "outputs": [],
   "source": [
    "predict_linear = pd.DataFrame({'year':features.values.reshape(-1),'real':target.values,'predict':model_linear.predict(features)})"
   ]
  },
  {
   "cell_type": "code",
   "execution_count": 27,
   "metadata": {},
   "outputs": [
    {
     "data": {
      "text/html": [
       "\n",
       "<div id=\"altair-viz-eb23aaa45e9c4e988269c8d0c812972f\"></div>\n",
       "<script type=\"text/javascript\">\n",
       "  (function(spec, embedOpt){\n",
       "    let outputDiv = document.currentScript.previousElementSibling;\n",
       "    if (outputDiv.id !== \"altair-viz-eb23aaa45e9c4e988269c8d0c812972f\") {\n",
       "      outputDiv = document.getElementById(\"altair-viz-eb23aaa45e9c4e988269c8d0c812972f\");\n",
       "    }\n",
       "    const paths = {\n",
       "      \"vega\": \"https://cdn.jsdelivr.net/npm//vega@5?noext\",\n",
       "      \"vega-lib\": \"https://cdn.jsdelivr.net/npm//vega-lib?noext\",\n",
       "      \"vega-lite\": \"https://cdn.jsdelivr.net/npm//vega-lite@4.8.1?noext\",\n",
       "      \"vega-embed\": \"https://cdn.jsdelivr.net/npm//vega-embed@6?noext\",\n",
       "    };\n",
       "\n",
       "    function loadScript(lib) {\n",
       "      return new Promise(function(resolve, reject) {\n",
       "        var s = document.createElement('script');\n",
       "        s.src = paths[lib];\n",
       "        s.async = true;\n",
       "        s.onload = () => resolve(paths[lib]);\n",
       "        s.onerror = () => reject(`Error loading script: ${paths[lib]}`);\n",
       "        document.getElementsByTagName(\"head\")[0].appendChild(s);\n",
       "      });\n",
       "    }\n",
       "\n",
       "    function showError(err) {\n",
       "      outputDiv.innerHTML = `<div class=\"error\" style=\"color:red;\">${err}</div>`;\n",
       "      throw err;\n",
       "    }\n",
       "\n",
       "    function displayChart(vegaEmbed) {\n",
       "      vegaEmbed(outputDiv, spec, embedOpt)\n",
       "        .catch(err => showError(`Javascript Error: ${err.message}<br>This usually means there's a typo in your chart specification. See the javascript console for the full traceback.`));\n",
       "    }\n",
       "\n",
       "    if(typeof define === \"function\" && define.amd) {\n",
       "      requirejs.config({paths});\n",
       "      require([\"vega-embed\"], displayChart, err => showError(`Error loading script: ${err.message}`));\n",
       "    } else if (typeof vegaEmbed === \"function\") {\n",
       "      displayChart(vegaEmbed);\n",
       "    } else {\n",
       "      loadScript(\"vega\")\n",
       "        .then(() => loadScript(\"vega-lite\"))\n",
       "        .then(() => loadScript(\"vega-embed\"))\n",
       "        .catch(showError)\n",
       "        .then(() => displayChart(vegaEmbed));\n",
       "    }\n",
       "  })({\"config\": {\"view\": {\"continuousWidth\": 400, \"continuousHeight\": 300}}, \"data\": {\"name\": \"data-7b7726da53b317d12ce495f09e657d52\"}, \"mark\": \"line\", \"encoding\": {\"color\": {\"type\": \"nominal\", \"field\": \"variable\"}, \"x\": {\"type\": \"quantitative\", \"field\": \"year\"}, \"y\": {\"type\": \"quantitative\", \"field\": \"value\"}}, \"title\": \"Linear model predictions\", \"$schema\": \"https://vega.github.io/schema/vega-lite/v4.8.1.json\", \"datasets\": {\"data-7b7726da53b317d12ce495f09e657d52\": [{\"year\": 1960, \"variable\": \"real\", \"value\": 1723727707.5}, {\"year\": 1961, \"variable\": \"real\", \"value\": 1606925598.76}, {\"year\": 1962, \"variable\": \"real\", \"value\": 1517480482.39}, {\"year\": 1963, \"variable\": \"real\", \"value\": 1823470009.69}, {\"year\": 1964, \"variable\": \"real\", \"value\": 2243071157.2}, {\"year\": 1965, \"variable\": \"real\", \"value\": 2385904000.0}, {\"year\": 1966, \"variable\": \"real\", \"value\": 2428145000.0}, {\"year\": 1967, \"variable\": \"real\", \"value\": 2552372000.0}, {\"year\": 1968, \"variable\": \"real\", \"value\": 2580943000.0}, {\"year\": 1969, \"variable\": \"real\", \"value\": 3110675000.0}, {\"year\": 1970, \"variable\": \"real\", \"value\": 2861132000.0}, {\"year\": 1971, \"variable\": \"real\", \"value\": 2752900000.0}, {\"year\": 1972, \"variable\": \"real\", \"value\": 3184460000.0}, {\"year\": 1973, \"variable\": \"real\", \"value\": 3889890000.0}, {\"year\": 1974, \"variable\": \"real\", \"value\": 6596096000.0}, {\"year\": 1975, \"variable\": \"real\", \"value\": 7727971000.0}, {\"year\": 1976, \"variable\": \"real\", \"value\": 9087566000.0}, {\"year\": 1977, \"variable\": \"real\", \"value\": 11021061000.0}, {\"year\": 1978, \"variable\": \"real\", \"value\": 11916787000.0}, {\"year\": 1979, \"variable\": \"real\", \"value\": 14168371000.0}, {\"year\": 1980, \"variable\": \"real\", \"value\": 17872943000.0}, {\"year\": 1981, \"variable\": \"real\", \"value\": 21800312000.0}, {\"year\": 1982, \"variable\": \"real\", \"value\": 19920300000.0}, {\"year\": 1983, \"variable\": \"real\", \"value\": 17144261000.0}, {\"year\": 1984, \"variable\": \"real\", \"value\": 16904408000.0}, {\"year\": 1985, \"variable\": \"real\", \"value\": 17140874000.0}, {\"year\": 1986, \"variable\": \"real\", \"value\": 15306803000.0}, {\"year\": 1987, \"variable\": \"real\", \"value\": 13938747000.0}, {\"year\": 1988, \"variable\": \"real\", \"value\": 13045630000.0}, {\"year\": 1989, \"variable\": \"real\", \"value\": 13884170000.0}, {\"year\": 1990, \"variable\": \"real\", \"value\": 15231973000.0}, {\"year\": 1991, \"variable\": \"real\", \"value\": 16980041000.0}, {\"year\": 1992, \"variable\": \"real\", \"value\": 18085191000.0}, {\"year\": 1993, \"variable\": \"real\", \"value\": 18929248000.0}, {\"year\": 1994, \"variable\": \"real\", \"value\": 22697319000.0}, {\"year\": 1995, \"variable\": \"real\", \"value\": 24420668000.0}, {\"year\": 1996, \"variable\": \"real\", \"value\": 25213780000.0}, {\"year\": 1997, \"variable\": \"real\", \"value\": 28147972000.0}, {\"year\": 1998, \"variable\": \"real\", \"value\": 27967906000.0}, {\"year\": 1999, \"variable\": \"real\", \"value\": 19635450000.0}, {\"year\": 2000, \"variable\": \"real\", \"value\": 18318601000.0}, {\"year\": 2001, \"variable\": \"real\", \"value\": 24468324000.0}, {\"year\": 2002, \"variable\": \"real\", \"value\": 28548945000.0}, {\"year\": 2003, \"variable\": \"real\", \"value\": 32432858000.0}, {\"year\": 2004, \"variable\": \"real\", \"value\": 36591661000.0}, {\"year\": 2005, \"variable\": \"real\", \"value\": 41507085000.0}, {\"year\": 2006, \"variable\": \"real\", \"value\": 46802044000.0}, {\"year\": 2007, \"variable\": \"real\", \"value\": 51007777000.0}, {\"year\": 2008, \"variable\": \"real\", \"value\": 61762635000.0}, {\"year\": 2009, \"variable\": \"real\", \"value\": 62519686000.0}, {\"year\": 2010, \"variable\": \"real\", \"value\": 69555367000.0}, {\"year\": 2011, \"variable\": \"real\", \"value\": 79276664000.0}, {\"year\": 2012, \"variable\": \"real\", \"value\": 87924544000.0}, {\"year\": 2013, \"variable\": \"real\", \"value\": 95129659000.0}, {\"year\": 2014, \"variable\": \"real\", \"value\": 101726331000.0}, {\"year\": 2015, \"variable\": \"real\", \"value\": 99290381000.0}, {\"year\": 2016, \"variable\": \"real\", \"value\": 99937696000.0}, {\"year\": 2017, \"variable\": \"real\", \"value\": 104295862000.0}, {\"year\": 2018, \"variable\": \"real\", \"value\": 107562008000.0}, {\"year\": 2019, \"variable\": \"real\", \"value\": 107435665000.0}, {\"year\": 1960, \"variable\": \"predict\", \"value\": -17513770418.5542}, {\"year\": 1961, \"variable\": \"predict\", \"value\": -15883054620.77539}, {\"year\": 1962, \"variable\": \"predict\", \"value\": -14252338822.996582}, {\"year\": 1963, \"variable\": \"predict\", \"value\": -12621623025.217285}, {\"year\": 1964, \"variable\": \"predict\", \"value\": -10990907227.438477}, {\"year\": 1965, \"variable\": \"predict\", \"value\": -9360191429.65918}, {\"year\": 1966, \"variable\": \"predict\", \"value\": -7729475631.880371}, {\"year\": 1967, \"variable\": \"predict\", \"value\": -6098759834.1015625}, {\"year\": 1968, \"variable\": \"predict\", \"value\": -4468044036.322266}, {\"year\": 1969, \"variable\": \"predict\", \"value\": -2837328238.543457}, {\"year\": 1970, \"variable\": \"predict\", \"value\": -1206612440.7646484}, {\"year\": 1971, \"variable\": \"predict\", \"value\": 424103357.01464844}, {\"year\": 1972, \"variable\": \"predict\", \"value\": 2054819154.793457}, {\"year\": 1973, \"variable\": \"predict\", \"value\": 3685534952.572754}, {\"year\": 1974, \"variable\": \"predict\", \"value\": 5316250750.3515625}, {\"year\": 1975, \"variable\": \"predict\", \"value\": 6946966548.130371}, {\"year\": 1976, \"variable\": \"predict\", \"value\": 8577682345.909668}, {\"year\": 1977, \"variable\": \"predict\", \"value\": 10208398143.688477}, {\"year\": 1978, \"variable\": \"predict\", \"value\": 11839113941.467285}, {\"year\": 1979, \"variable\": \"predict\", \"value\": 13469829739.246582}, {\"year\": 1980, \"variable\": \"predict\", \"value\": 15100545537.02539}, {\"year\": 1981, \"variable\": \"predict\", \"value\": 16731261334.804688}, {\"year\": 1982, \"variable\": \"predict\", \"value\": 18361977132.583496}, {\"year\": 1983, \"variable\": \"predict\", \"value\": 19992692930.362305}, {\"year\": 1984, \"variable\": \"predict\", \"value\": 21623408728.1416}, {\"year\": 1985, \"variable\": \"predict\", \"value\": 23254124525.92041}, {\"year\": 1986, \"variable\": \"predict\", \"value\": 24884840323.699707}, {\"year\": 1987, \"variable\": \"predict\", \"value\": 26515556121.478516}, {\"year\": 1988, \"variable\": \"predict\", \"value\": 28146271919.257324}, {\"year\": 1989, \"variable\": \"predict\", \"value\": 29776987717.03662}, {\"year\": 1990, \"variable\": \"predict\", \"value\": 31407703514.81543}, {\"year\": 1991, \"variable\": \"predict\", \"value\": 33038419312.59424}, {\"year\": 1992, \"variable\": \"predict\", \"value\": 34669135110.373535}, {\"year\": 1993, \"variable\": \"predict\", \"value\": 36299850908.15234}, {\"year\": 1994, \"variable\": \"predict\", \"value\": 37930566705.93164}, {\"year\": 1995, \"variable\": \"predict\", \"value\": 39561282503.71045}, {\"year\": 1996, \"variable\": \"predict\", \"value\": 41191998301.48926}, {\"year\": 1997, \"variable\": \"predict\", \"value\": 42822714099.268555}, {\"year\": 1998, \"variable\": \"predict\", \"value\": 44453429897.04736}, {\"year\": 1999, \"variable\": \"predict\", \"value\": 46084145694.82617}, {\"year\": 2000, \"variable\": \"predict\", \"value\": 47714861492.60547}, {\"year\": 2001, \"variable\": \"predict\", \"value\": 49345577290.38428}, {\"year\": 2002, \"variable\": \"predict\", \"value\": 50976293088.163574}, {\"year\": 2003, \"variable\": \"predict\", \"value\": 52607008885.94238}, {\"year\": 2004, \"variable\": \"predict\", \"value\": 54237724683.72119}, {\"year\": 2005, \"variable\": \"predict\", \"value\": 55868440481.50049}, {\"year\": 2006, \"variable\": \"predict\", \"value\": 57499156279.2793}, {\"year\": 2007, \"variable\": \"predict\", \"value\": 59129872077.058105}, {\"year\": 2008, \"variable\": \"predict\", \"value\": 60760587874.8374}, {\"year\": 2009, \"variable\": \"predict\", \"value\": 62391303672.61621}, {\"year\": 2010, \"variable\": \"predict\", \"value\": 64022019470.39551}, {\"year\": 2011, \"variable\": \"predict\", \"value\": 65652735268.17432}, {\"year\": 2012, \"variable\": \"predict\", \"value\": 67283451065.953125}, {\"year\": 2013, \"variable\": \"predict\", \"value\": 68914166863.73242}, {\"year\": 2014, \"variable\": \"predict\", \"value\": 70544882661.51123}, {\"year\": 2015, \"variable\": \"predict\", \"value\": 72175598459.29004}, {\"year\": 2016, \"variable\": \"predict\", \"value\": 73806314257.06934}, {\"year\": 2017, \"variable\": \"predict\", \"value\": 75437030054.84814}, {\"year\": 2018, \"variable\": \"predict\", \"value\": 77067745852.62744}, {\"year\": 2019, \"variable\": \"predict\", \"value\": 78698461650.40625}]}}, {\"mode\": \"vega-lite\"});\n",
       "</script>"
      ],
      "text/plain": [
       "alt.Chart(...)"
      ]
     },
     "execution_count": 27,
     "metadata": {},
     "output_type": "execute_result"
    }
   ],
   "source": [
    "alt.Chart(predict_linear.melt('year')).mark_line().encode(\n",
    "    x='year',\n",
    "    y='value',\n",
    "    color='variable'\n",
    ").properties(title='Linear model predictions')"
   ]
  },
  {
   "cell_type": "markdown",
   "metadata": {},
   "source": [
    "-------------------------------"
   ]
  },
  {
   "cell_type": "markdown",
   "metadata": {},
   "source": [
    "<h2 style=\"color:yellowgreen\">Modelo de regresión polinomial</h2>"
   ]
  },
  {
   "cell_type": "code",
   "execution_count": 28,
   "metadata": {},
   "outputs": [
    {
     "name": "stdout",
     "output_type": "stream",
     "text": [
      "Score polinomyal model = 0.9688228641534355\n"
     ]
    }
   ],
   "source": [
    " model_poly = Pipeline([('poly', PolynomialFeatures(degree=3)),\n",
    "('linear', LinearRegression(fit_intercept=True))])\n",
    "model_poly = model_poly.fit(features,target)\n",
    "print(\"Score polinomyal model = {}\".format(model_poly.score(features,target)))"
   ]
  },
  {
   "cell_type": "code",
   "execution_count": 29,
   "metadata": {},
   "outputs": [],
   "source": [
    "predict_polinomyal = pd.DataFrame({'year':features.values.reshape(-1),'real':target.values,'predict':model_poly.predict(features)})"
   ]
  },
  {
   "cell_type": "code",
   "execution_count": 30,
   "metadata": {},
   "outputs": [
    {
     "data": {
      "text/html": [
       "\n",
       "<div id=\"altair-viz-b56e5ada214d480bb3300cf5fe81616a\"></div>\n",
       "<script type=\"text/javascript\">\n",
       "  (function(spec, embedOpt){\n",
       "    let outputDiv = document.currentScript.previousElementSibling;\n",
       "    if (outputDiv.id !== \"altair-viz-b56e5ada214d480bb3300cf5fe81616a\") {\n",
       "      outputDiv = document.getElementById(\"altair-viz-b56e5ada214d480bb3300cf5fe81616a\");\n",
       "    }\n",
       "    const paths = {\n",
       "      \"vega\": \"https://cdn.jsdelivr.net/npm//vega@5?noext\",\n",
       "      \"vega-lib\": \"https://cdn.jsdelivr.net/npm//vega-lib?noext\",\n",
       "      \"vega-lite\": \"https://cdn.jsdelivr.net/npm//vega-lite@4.8.1?noext\",\n",
       "      \"vega-embed\": \"https://cdn.jsdelivr.net/npm//vega-embed@6?noext\",\n",
       "    };\n",
       "\n",
       "    function loadScript(lib) {\n",
       "      return new Promise(function(resolve, reject) {\n",
       "        var s = document.createElement('script');\n",
       "        s.src = paths[lib];\n",
       "        s.async = true;\n",
       "        s.onload = () => resolve(paths[lib]);\n",
       "        s.onerror = () => reject(`Error loading script: ${paths[lib]}`);\n",
       "        document.getElementsByTagName(\"head\")[0].appendChild(s);\n",
       "      });\n",
       "    }\n",
       "\n",
       "    function showError(err) {\n",
       "      outputDiv.innerHTML = `<div class=\"error\" style=\"color:red;\">${err}</div>`;\n",
       "      throw err;\n",
       "    }\n",
       "\n",
       "    function displayChart(vegaEmbed) {\n",
       "      vegaEmbed(outputDiv, spec, embedOpt)\n",
       "        .catch(err => showError(`Javascript Error: ${err.message}<br>This usually means there's a typo in your chart specification. See the javascript console for the full traceback.`));\n",
       "    }\n",
       "\n",
       "    if(typeof define === \"function\" && define.amd) {\n",
       "      requirejs.config({paths});\n",
       "      require([\"vega-embed\"], displayChart, err => showError(`Error loading script: ${err.message}`));\n",
       "    } else if (typeof vegaEmbed === \"function\") {\n",
       "      displayChart(vegaEmbed);\n",
       "    } else {\n",
       "      loadScript(\"vega\")\n",
       "        .then(() => loadScript(\"vega-lite\"))\n",
       "        .then(() => loadScript(\"vega-embed\"))\n",
       "        .catch(showError)\n",
       "        .then(() => displayChart(vegaEmbed));\n",
       "    }\n",
       "  })({\"config\": {\"view\": {\"continuousWidth\": 400, \"continuousHeight\": 300}}, \"data\": {\"name\": \"data-11ca89ead2de2bf1fb8f1007b43cda55\"}, \"mark\": \"line\", \"encoding\": {\"color\": {\"type\": \"nominal\", \"field\": \"variable\"}, \"x\": {\"type\": \"quantitative\", \"field\": \"year\"}, \"y\": {\"type\": \"quantitative\", \"field\": \"value\"}}, \"title\": \"polinomyal model predictions\", \"$schema\": \"https://vega.github.io/schema/vega-lite/v4.8.1.json\", \"datasets\": {\"data-11ca89ead2de2bf1fb8f1007b43cda55\": [{\"year\": 1960, \"variable\": \"real\", \"value\": 1723727707.5}, {\"year\": 1961, \"variable\": \"real\", \"value\": 1606925598.76}, {\"year\": 1962, \"variable\": \"real\", \"value\": 1517480482.39}, {\"year\": 1963, \"variable\": \"real\", \"value\": 1823470009.69}, {\"year\": 1964, \"variable\": \"real\", \"value\": 2243071157.2}, {\"year\": 1965, \"variable\": \"real\", \"value\": 2385904000.0}, {\"year\": 1966, \"variable\": \"real\", \"value\": 2428145000.0}, {\"year\": 1967, \"variable\": \"real\", \"value\": 2552372000.0}, {\"year\": 1968, \"variable\": \"real\", \"value\": 2580943000.0}, {\"year\": 1969, \"variable\": \"real\", \"value\": 3110675000.0}, {\"year\": 1970, \"variable\": \"real\", \"value\": 2861132000.0}, {\"year\": 1971, \"variable\": \"real\", \"value\": 2752900000.0}, {\"year\": 1972, \"variable\": \"real\", \"value\": 3184460000.0}, {\"year\": 1973, \"variable\": \"real\", \"value\": 3889890000.0}, {\"year\": 1974, \"variable\": \"real\", \"value\": 6596096000.0}, {\"year\": 1975, \"variable\": \"real\", \"value\": 7727971000.0}, {\"year\": 1976, \"variable\": \"real\", \"value\": 9087566000.0}, {\"year\": 1977, \"variable\": \"real\", \"value\": 11021061000.0}, {\"year\": 1978, \"variable\": \"real\", \"value\": 11916787000.0}, {\"year\": 1979, \"variable\": \"real\", \"value\": 14168371000.0}, {\"year\": 1980, \"variable\": \"real\", \"value\": 17872943000.0}, {\"year\": 1981, \"variable\": \"real\", \"value\": 21800312000.0}, {\"year\": 1982, \"variable\": \"real\", \"value\": 19920300000.0}, {\"year\": 1983, \"variable\": \"real\", \"value\": 17144261000.0}, {\"year\": 1984, \"variable\": \"real\", \"value\": 16904408000.0}, {\"year\": 1985, \"variable\": \"real\", \"value\": 17140874000.0}, {\"year\": 1986, \"variable\": \"real\", \"value\": 15306803000.0}, {\"year\": 1987, \"variable\": \"real\", \"value\": 13938747000.0}, {\"year\": 1988, \"variable\": \"real\", \"value\": 13045630000.0}, {\"year\": 1989, \"variable\": \"real\", \"value\": 13884170000.0}, {\"year\": 1990, \"variable\": \"real\", \"value\": 15231973000.0}, {\"year\": 1991, \"variable\": \"real\", \"value\": 16980041000.0}, {\"year\": 1992, \"variable\": \"real\", \"value\": 18085191000.0}, {\"year\": 1993, \"variable\": \"real\", \"value\": 18929248000.0}, {\"year\": 1994, \"variable\": \"real\", \"value\": 22697319000.0}, {\"year\": 1995, \"variable\": \"real\", \"value\": 24420668000.0}, {\"year\": 1996, \"variable\": \"real\", \"value\": 25213780000.0}, {\"year\": 1997, \"variable\": \"real\", \"value\": 28147972000.0}, {\"year\": 1998, \"variable\": \"real\", \"value\": 27967906000.0}, {\"year\": 1999, \"variable\": \"real\", \"value\": 19635450000.0}, {\"year\": 2000, \"variable\": \"real\", \"value\": 18318601000.0}, {\"year\": 2001, \"variable\": \"real\", \"value\": 24468324000.0}, {\"year\": 2002, \"variable\": \"real\", \"value\": 28548945000.0}, {\"year\": 2003, \"variable\": \"real\", \"value\": 32432858000.0}, {\"year\": 2004, \"variable\": \"real\", \"value\": 36591661000.0}, {\"year\": 2005, \"variable\": \"real\", \"value\": 41507085000.0}, {\"year\": 2006, \"variable\": \"real\", \"value\": 46802044000.0}, {\"year\": 2007, \"variable\": \"real\", \"value\": 51007777000.0}, {\"year\": 2008, \"variable\": \"real\", \"value\": 61762635000.0}, {\"year\": 2009, \"variable\": \"real\", \"value\": 62519686000.0}, {\"year\": 2010, \"variable\": \"real\", \"value\": 69555367000.0}, {\"year\": 2011, \"variable\": \"real\", \"value\": 79276664000.0}, {\"year\": 2012, \"variable\": \"real\", \"value\": 87924544000.0}, {\"year\": 2013, \"variable\": \"real\", \"value\": 95129659000.0}, {\"year\": 2014, \"variable\": \"real\", \"value\": 101726331000.0}, {\"year\": 2015, \"variable\": \"real\", \"value\": 99290381000.0}, {\"year\": 2016, \"variable\": \"real\", \"value\": 99937696000.0}, {\"year\": 2017, \"variable\": \"real\", \"value\": 104295862000.0}, {\"year\": 2018, \"variable\": \"real\", \"value\": 107562008000.0}, {\"year\": 2019, \"variable\": \"real\", \"value\": 107435665000.0}, {\"year\": 1960, \"variable\": \"predict\", \"value\": -3536349188.0}, {\"year\": 1961, \"variable\": \"predict\", \"value\": -1847211864.0}, {\"year\": 1962, \"variable\": \"predict\", \"value\": -313178184.0}, {\"year\": 1963, \"variable\": \"predict\", \"value\": 1074704444.0}, {\"year\": 1964, \"variable\": \"predict\", \"value\": 2325388608.0}, {\"year\": 1965, \"variable\": \"predict\", \"value\": 3447826888.0}, {\"year\": 1966, \"variable\": \"predict\", \"value\": 4450971884.0}, {\"year\": 1967, \"variable\": \"predict\", \"value\": 5343776172.0}, {\"year\": 1968, \"variable\": \"predict\", \"value\": 6135192360.0}, {\"year\": 1969, \"variable\": \"predict\", \"value\": 6834173008.0}, {\"year\": 1970, \"variable\": \"predict\", \"value\": 7449670724.0}, {\"year\": 1971, \"variable\": \"predict\", \"value\": 7990638084.0}, {\"year\": 1972, \"variable\": \"predict\", \"value\": 8466027692.0}, {\"year\": 1973, \"variable\": \"predict\", \"value\": 8884792116.0}, {\"year\": 1974, \"variable\": \"predict\", \"value\": 9255883960.0}, {\"year\": 1975, \"variable\": \"predict\", \"value\": 9588255808.0}, {\"year\": 1976, \"variable\": \"predict\", \"value\": 9890860240.0}, {\"year\": 1977, \"variable\": \"predict\", \"value\": 10172649856.0}, {\"year\": 1978, \"variable\": \"predict\", \"value\": 10442577232.0}, {\"year\": 1979, \"variable\": \"predict\", \"value\": 10709594968.0}, {\"year\": 1980, \"variable\": \"predict\", \"value\": 10982655648.0}, {\"year\": 1981, \"variable\": \"predict\", \"value\": 11270711848.0}, {\"year\": 1982, \"variable\": \"predict\", \"value\": 11582716176.0}, {\"year\": 1983, \"variable\": \"predict\", \"value\": 11927621208.0}, {\"year\": 1984, \"variable\": \"predict\", \"value\": 12314379536.0}, {\"year\": 1985, \"variable\": \"predict\", \"value\": 12751943732.0}, {\"year\": 1986, \"variable\": \"predict\", \"value\": 13249266420.0}, {\"year\": 1987, \"variable\": \"predict\", \"value\": 13815300156.0}, {\"year\": 1988, \"variable\": \"predict\", \"value\": 14458997540.0}, {\"year\": 1989, \"variable\": \"predict\", \"value\": 15189311152.0}, {\"year\": 1990, \"variable\": \"predict\", \"value\": 16015193592.0}, {\"year\": 1991, \"variable\": \"predict\", \"value\": 16945597436.0}, {\"year\": 1992, \"variable\": \"predict\", \"value\": 17989475284.0}, {\"year\": 1993, \"variable\": \"predict\", \"value\": 19155779720.0}, {\"year\": 1994, \"variable\": \"predict\", \"value\": 20453463328.0}, {\"year\": 1995, \"variable\": \"predict\", \"value\": 21891478692.0}, {\"year\": 1996, \"variable\": \"predict\", \"value\": 23478778412.0}, {\"year\": 1997, \"variable\": \"predict\", \"value\": 25224315072.0}, {\"year\": 1998, \"variable\": \"predict\", \"value\": 27137041252.0}, {\"year\": 1999, \"variable\": \"predict\", \"value\": 29225909556.0}, {\"year\": 2000, \"variable\": \"predict\", \"value\": 31499872552.0}, {\"year\": 2001, \"variable\": \"predict\", \"value\": 33967882844.0}, {\"year\": 2002, \"variable\": \"predict\", \"value\": 36638893008.0}, {\"year\": 2003, \"variable\": \"predict\", \"value\": 39521855644.0}, {\"year\": 2004, \"variable\": \"predict\", \"value\": 42625723344.0}, {\"year\": 2005, \"variable\": \"predict\", \"value\": 45959448668.0}, {\"year\": 2006, \"variable\": \"predict\", \"value\": 49531984232.0}, {\"year\": 2007, \"variable\": \"predict\", \"value\": 53352282612.0}, {\"year\": 2008, \"variable\": \"predict\", \"value\": 57429296400.0}, {\"year\": 2009, \"variable\": \"predict\", \"value\": 61771978180.0}, {\"year\": 2010, \"variable\": \"predict\", \"value\": 66389280544.0}, {\"year\": 2011, \"variable\": \"predict\", \"value\": 71290156072.0}, {\"year\": 2012, \"variable\": \"predict\", \"value\": 76483557364.0}, {\"year\": 2013, \"variable\": \"predict\", \"value\": 81978437000.0}, {\"year\": 2014, \"variable\": \"predict\", \"value\": 87783747572.0}, {\"year\": 2015, \"variable\": \"predict\", \"value\": 93908441660.0}, {\"year\": 2016, \"variable\": \"predict\", \"value\": 100361471872.0}, {\"year\": 2017, \"variable\": \"predict\", \"value\": 107151790768.0}, {\"year\": 2018, \"variable\": \"predict\", \"value\": 114288350960.0}, {\"year\": 2019, \"variable\": \"predict\", \"value\": 121780105024.0}]}}, {\"mode\": \"vega-lite\"});\n",
       "</script>"
      ],
      "text/plain": [
       "alt.Chart(...)"
      ]
     },
     "execution_count": 30,
     "metadata": {},
     "output_type": "execute_result"
    }
   ],
   "source": [
    "alt.Chart(predict_polinomyal.melt('year')).mark_line().encode(\n",
    "    x='year',\n",
    "    y='value',\n",
    "    color='variable'\n",
    ").properties(title='polinomyal model predictions')"
   ]
  },
  {
   "cell_type": "markdown",
   "metadata": {},
   "source": [
    "-----------------------------------"
   ]
  },
  {
   "cell_type": "markdown",
   "metadata": {},
   "source": [
    "<h2 style=\"color:yellowgreen\">Modelo de regresión polinomial con numpy</h2>"
   ]
  },
  {
   "cell_type": "code",
   "execution_count": 31,
   "metadata": {},
   "outputs": [],
   "source": [
    "model_poly_np = np.poly1d(np.polyfit(features.values.reshape(-1), target.values, 7))\n",
    "predict_polinomyal_np = pd.DataFrame({'year':features.values.reshape(-1),'real':target.values,'predict':model_poly_np(features.values.reshape(-1))})"
   ]
  },
  {
   "cell_type": "code",
   "execution_count": 32,
   "metadata": {},
   "outputs": [
    {
     "data": {
      "text/html": [
       "\n",
       "<div id=\"altair-viz-d289773f8d5447c5b5675351d0856b3d\"></div>\n",
       "<script type=\"text/javascript\">\n",
       "  (function(spec, embedOpt){\n",
       "    let outputDiv = document.currentScript.previousElementSibling;\n",
       "    if (outputDiv.id !== \"altair-viz-d289773f8d5447c5b5675351d0856b3d\") {\n",
       "      outputDiv = document.getElementById(\"altair-viz-d289773f8d5447c5b5675351d0856b3d\");\n",
       "    }\n",
       "    const paths = {\n",
       "      \"vega\": \"https://cdn.jsdelivr.net/npm//vega@5?noext\",\n",
       "      \"vega-lib\": \"https://cdn.jsdelivr.net/npm//vega-lib?noext\",\n",
       "      \"vega-lite\": \"https://cdn.jsdelivr.net/npm//vega-lite@4.8.1?noext\",\n",
       "      \"vega-embed\": \"https://cdn.jsdelivr.net/npm//vega-embed@6?noext\",\n",
       "    };\n",
       "\n",
       "    function loadScript(lib) {\n",
       "      return new Promise(function(resolve, reject) {\n",
       "        var s = document.createElement('script');\n",
       "        s.src = paths[lib];\n",
       "        s.async = true;\n",
       "        s.onload = () => resolve(paths[lib]);\n",
       "        s.onerror = () => reject(`Error loading script: ${paths[lib]}`);\n",
       "        document.getElementsByTagName(\"head\")[0].appendChild(s);\n",
       "      });\n",
       "    }\n",
       "\n",
       "    function showError(err) {\n",
       "      outputDiv.innerHTML = `<div class=\"error\" style=\"color:red;\">${err}</div>`;\n",
       "      throw err;\n",
       "    }\n",
       "\n",
       "    function displayChart(vegaEmbed) {\n",
       "      vegaEmbed(outputDiv, spec, embedOpt)\n",
       "        .catch(err => showError(`Javascript Error: ${err.message}<br>This usually means there's a typo in your chart specification. See the javascript console for the full traceback.`));\n",
       "    }\n",
       "\n",
       "    if(typeof define === \"function\" && define.amd) {\n",
       "      requirejs.config({paths});\n",
       "      require([\"vega-embed\"], displayChart, err => showError(`Error loading script: ${err.message}`));\n",
       "    } else if (typeof vegaEmbed === \"function\") {\n",
       "      displayChart(vegaEmbed);\n",
       "    } else {\n",
       "      loadScript(\"vega\")\n",
       "        .then(() => loadScript(\"vega-lite\"))\n",
       "        .then(() => loadScript(\"vega-embed\"))\n",
       "        .catch(showError)\n",
       "        .then(() => displayChart(vegaEmbed));\n",
       "    }\n",
       "  })({\"config\": {\"view\": {\"continuousWidth\": 400, \"continuousHeight\": 300}}, \"data\": {\"name\": \"data-21b6692ef5ffc7193dcdfb7949281fe9\"}, \"mark\": \"line\", \"encoding\": {\"color\": {\"type\": \"nominal\", \"field\": \"variable\"}, \"x\": {\"type\": \"quantitative\", \"field\": \"year\"}, \"y\": {\"type\": \"quantitative\", \"field\": \"value\"}}, \"title\": \"polinomyal numpy model predictions\", \"$schema\": \"https://vega.github.io/schema/vega-lite/v4.8.1.json\", \"datasets\": {\"data-21b6692ef5ffc7193dcdfb7949281fe9\": [{\"year\": 1960, \"variable\": \"real\", \"value\": 1723727707.5}, {\"year\": 1961, \"variable\": \"real\", \"value\": 1606925598.76}, {\"year\": 1962, \"variable\": \"real\", \"value\": 1517480482.39}, {\"year\": 1963, \"variable\": \"real\", \"value\": 1823470009.69}, {\"year\": 1964, \"variable\": \"real\", \"value\": 2243071157.2}, {\"year\": 1965, \"variable\": \"real\", \"value\": 2385904000.0}, {\"year\": 1966, \"variable\": \"real\", \"value\": 2428145000.0}, {\"year\": 1967, \"variable\": \"real\", \"value\": 2552372000.0}, {\"year\": 1968, \"variable\": \"real\", \"value\": 2580943000.0}, {\"year\": 1969, \"variable\": \"real\", \"value\": 3110675000.0}, {\"year\": 1970, \"variable\": \"real\", \"value\": 2861132000.0}, {\"year\": 1971, \"variable\": \"real\", \"value\": 2752900000.0}, {\"year\": 1972, \"variable\": \"real\", \"value\": 3184460000.0}, {\"year\": 1973, \"variable\": \"real\", \"value\": 3889890000.0}, {\"year\": 1974, \"variable\": \"real\", \"value\": 6596096000.0}, {\"year\": 1975, \"variable\": \"real\", \"value\": 7727971000.0}, {\"year\": 1976, \"variable\": \"real\", \"value\": 9087566000.0}, {\"year\": 1977, \"variable\": \"real\", \"value\": 11021061000.0}, {\"year\": 1978, \"variable\": \"real\", \"value\": 11916787000.0}, {\"year\": 1979, \"variable\": \"real\", \"value\": 14168371000.0}, {\"year\": 1980, \"variable\": \"real\", \"value\": 17872943000.0}, {\"year\": 1981, \"variable\": \"real\", \"value\": 21800312000.0}, {\"year\": 1982, \"variable\": \"real\", \"value\": 19920300000.0}, {\"year\": 1983, \"variable\": \"real\", \"value\": 17144261000.0}, {\"year\": 1984, \"variable\": \"real\", \"value\": 16904408000.0}, {\"year\": 1985, \"variable\": \"real\", \"value\": 17140874000.0}, {\"year\": 1986, \"variable\": \"real\", \"value\": 15306803000.0}, {\"year\": 1987, \"variable\": \"real\", \"value\": 13938747000.0}, {\"year\": 1988, \"variable\": \"real\", \"value\": 13045630000.0}, {\"year\": 1989, \"variable\": \"real\", \"value\": 13884170000.0}, {\"year\": 1990, \"variable\": \"real\", \"value\": 15231973000.0}, {\"year\": 1991, \"variable\": \"real\", \"value\": 16980041000.0}, {\"year\": 1992, \"variable\": \"real\", \"value\": 18085191000.0}, {\"year\": 1993, \"variable\": \"real\", \"value\": 18929248000.0}, {\"year\": 1994, \"variable\": \"real\", \"value\": 22697319000.0}, {\"year\": 1995, \"variable\": \"real\", \"value\": 24420668000.0}, {\"year\": 1996, \"variable\": \"real\", \"value\": 25213780000.0}, {\"year\": 1997, \"variable\": \"real\", \"value\": 28147972000.0}, {\"year\": 1998, \"variable\": \"real\", \"value\": 27967906000.0}, {\"year\": 1999, \"variable\": \"real\", \"value\": 19635450000.0}, {\"year\": 2000, \"variable\": \"real\", \"value\": 18318601000.0}, {\"year\": 2001, \"variable\": \"real\", \"value\": 24468324000.0}, {\"year\": 2002, \"variable\": \"real\", \"value\": 28548945000.0}, {\"year\": 2003, \"variable\": \"real\", \"value\": 32432858000.0}, {\"year\": 2004, \"variable\": \"real\", \"value\": 36591661000.0}, {\"year\": 2005, \"variable\": \"real\", \"value\": 41507085000.0}, {\"year\": 2006, \"variable\": \"real\", \"value\": 46802044000.0}, {\"year\": 2007, \"variable\": \"real\", \"value\": 51007777000.0}, {\"year\": 2008, \"variable\": \"real\", \"value\": 61762635000.0}, {\"year\": 2009, \"variable\": \"real\", \"value\": 62519686000.0}, {\"year\": 2010, \"variable\": \"real\", \"value\": 69555367000.0}, {\"year\": 2011, \"variable\": \"real\", \"value\": 79276664000.0}, {\"year\": 2012, \"variable\": \"real\", \"value\": 87924544000.0}, {\"year\": 2013, \"variable\": \"real\", \"value\": 95129659000.0}, {\"year\": 2014, \"variable\": \"real\", \"value\": 101726331000.0}, {\"year\": 2015, \"variable\": \"real\", \"value\": 99290381000.0}, {\"year\": 2016, \"variable\": \"real\", \"value\": 99937696000.0}, {\"year\": 2017, \"variable\": \"real\", \"value\": 104295862000.0}, {\"year\": 2018, \"variable\": \"real\", \"value\": 107562008000.0}, {\"year\": 2019, \"variable\": \"real\", \"value\": 107435665000.0}, {\"year\": 1960, \"variable\": \"predict\", \"value\": 7584153600.0}, {\"year\": 1961, \"variable\": \"predict\", \"value\": 3701055488.0}, {\"year\": 1962, \"variable\": \"predict\", \"value\": 990650368.0}, {\"year\": 1963, \"variable\": \"predict\", \"value\": -721936384.0}, {\"year\": 1964, \"variable\": \"predict\", \"value\": -1597022208.0}, {\"year\": 1965, \"variable\": \"predict\", \"value\": -1781039104.0}, {\"year\": 1966, \"variable\": \"predict\", \"value\": -1406853120.0}, {\"year\": 1967, \"variable\": \"predict\", \"value\": -594452480.0}, {\"year\": 1968, \"variable\": \"predict\", \"value\": 548691968.0}, {\"year\": 1969, \"variable\": \"predict\", \"value\": 1927053312.0}, {\"year\": 1970, \"variable\": \"predict\", \"value\": 3456565248.0}, {\"year\": 1971, \"variable\": \"predict\", \"value\": 5064048640.0}, {\"year\": 1972, \"variable\": \"predict\", \"value\": 6686867456.0}, {\"year\": 1973, \"variable\": \"predict\", \"value\": 8272142336.0}, {\"year\": 1974, \"variable\": \"predict\", \"value\": 9776521216.0}, {\"year\": 1975, \"variable\": \"predict\", \"value\": 11165458432.0}, {\"year\": 1976, \"variable\": \"predict\", \"value\": 12412813312.0}, {\"year\": 1977, \"variable\": \"predict\", \"value\": 13500301312.0}, {\"year\": 1978, \"variable\": \"predict\", \"value\": 14416896000.0}, {\"year\": 1979, \"variable\": \"predict\", \"value\": 15158452224.0}, {\"year\": 1980, \"variable\": \"predict\", \"value\": 15726985216.0}, {\"year\": 1981, \"variable\": \"predict\", \"value\": 16130424832.0}, {\"year\": 1982, \"variable\": \"predict\", \"value\": 16381796352.0}, {\"year\": 1983, \"variable\": \"predict\", \"value\": 16498819072.0}, {\"year\": 1984, \"variable\": \"predict\", \"value\": 16503472128.0}, {\"year\": 1985, \"variable\": \"predict\", \"value\": 16421240832.0}, {\"year\": 1986, \"variable\": \"predict\", \"value\": 16280838144.0}, {\"year\": 1987, \"variable\": \"predict\", \"value\": 16113377280.0}, {\"year\": 1988, \"variable\": \"predict\", \"value\": 15952109568.0}, {\"year\": 1989, \"variable\": \"predict\", \"value\": 15831769088.0}, {\"year\": 1990, \"variable\": \"predict\", \"value\": 15787966464.0}, {\"year\": 1991, \"variable\": \"predict\", \"value\": 15856746496.0}, {\"year\": 1992, \"variable\": \"predict\", \"value\": 16073949184.0}, {\"year\": 1993, \"variable\": \"predict\", \"value\": 16474865664.0}, {\"year\": 1994, \"variable\": \"predict\", \"value\": 17093402624.0}, {\"year\": 1995, \"variable\": \"predict\", \"value\": 17961787392.0}, {\"year\": 1996, \"variable\": \"predict\", \"value\": 19109773312.0}, {\"year\": 1997, \"variable\": \"predict\", \"value\": 20564402176.0}, {\"year\": 1998, \"variable\": \"predict\", \"value\": 22349103104.0}, {\"year\": 1999, \"variable\": \"predict\", \"value\": 24483389440.0}, {\"year\": 2000, \"variable\": \"predict\", \"value\": 26982227968.0}, {\"year\": 2001, \"variable\": \"predict\", \"value\": 29855424512.0}, {\"year\": 2002, \"variable\": \"predict\", \"value\": 33107132416.0}, {\"year\": 2003, \"variable\": \"predict\", \"value\": 36735246336.0}, {\"year\": 2004, \"variable\": \"predict\", \"value\": 40730894336.0}, {\"year\": 2005, \"variable\": \"predict\", \"value\": 45077807104.0}, {\"year\": 2006, \"variable\": \"predict\", \"value\": 49751777280.0}, {\"year\": 2007, \"variable\": \"predict\", \"value\": 54720094208.0}, {\"year\": 2008, \"variable\": \"predict\", \"value\": 59940954112.0}, {\"year\": 2009, \"variable\": \"predict\", \"value\": 65362952192.0}, {\"year\": 2010, \"variable\": \"predict\", \"value\": 70924460032.0}, {\"year\": 2011, \"variable\": \"predict\", \"value\": 76553003008.0}, {\"year\": 2012, \"variable\": \"predict\", \"value\": 82164736000.0}, {\"year\": 2013, \"variable\": \"predict\", \"value\": 87663845376.0}, {\"year\": 2014, \"variable\": \"predict\", \"value\": 92942114816.0}, {\"year\": 2015, \"variable\": \"predict\", \"value\": 97878056960.0}, {\"year\": 2016, \"variable\": \"predict\", \"value\": 102336544768.0}, {\"year\": 2017, \"variable\": \"predict\", \"value\": 106168180736.0}, {\"year\": 2018, \"variable\": \"predict\", \"value\": 109208616960.0}, {\"year\": 2019, \"variable\": \"predict\", \"value\": 111278120960.0}]}}, {\"mode\": \"vega-lite\"});\n",
       "</script>"
      ],
      "text/plain": [
       "alt.Chart(...)"
      ]
     },
     "execution_count": 32,
     "metadata": {},
     "output_type": "execute_result"
    }
   ],
   "source": [
    "alt.Chart(predict_polinomyal_np.melt('year')).mark_line().encode(\n",
    "    x='year',\n",
    "    y='value',\n",
    "    color='variable'\n",
    ").properties(title='polinomyal numpy model predictions')"
   ]
  },
  {
   "cell_type": "markdown",
   "metadata": {},
   "source": [
    "----------------------------------"
   ]
  },
  {
   "cell_type": "markdown",
   "metadata": {},
   "source": [
    "<h2 style=\"color:yellowgreen\">Interpretación</h2>"
   ]
  },
  {
   "cell_type": "markdown",
   "metadata": {},
   "source": [
    "Con los resultados obtenidos anteriormente, podemos notar que el modelo que mejor se ajusta a los datos termina siendo el **modelo de regresión polinomial con numpy**, esta claro que el peor es el lineal debido a que estos datos no tienen un comportamiento lineal y este tiende a variar, por otro lado probamos dos modelos polinomiales, uno con sklearn y otro con numpy, como podemos notar, el modelo de numpy se ajusta mejor a los datos a diferencia del modelo de sklearn el cual no se ajusta bien debido a que tiene como base el modelo lineal de sklean, haciendo que pierda precisión. Para poder ver de una manera más visual la diferencia procedemos a calcular el **MSE** para los modelos."
   ]
  },
  {
   "cell_type": "markdown",
   "metadata": {},
   "source": [
    "--------------------------------"
   ]
  },
  {
   "cell_type": "markdown",
   "metadata": {},
   "source": [
    "<h2 style=\"color:yellowgreen\">Métricas de calidad</h2>"
   ]
  },
  {
   "cell_type": "markdown",
   "metadata": {},
   "source": [
    "Como métrica de calidad utilizamos el **mean squad error** que nos permite ver la perdida del modelo. A continuación mostramos los resultados"
   ]
  },
  {
   "cell_type": "code",
   "execution_count": 33,
   "metadata": {},
   "outputs": [],
   "source": [
    "metrics = pd.DataFrame({'linear':mean_squared_error(target,model_linear.predict(features)),\n",
    "                        'polynomial':mean_squared_error(target,model_poly.predict(features)),\n",
    "                        'polynomial_numpy':mean_squared_error(target,model_poly_np(features.values.reshape(-1)))},index=[0])\n",
    "metrics = metrics/10000000000000000000"
   ]
  },
  {
   "cell_type": "code",
   "execution_count": 34,
   "metadata": {},
   "outputs": [
    {
     "data": {
      "text/html": [
       "<div>\n",
       "<style scoped>\n",
       "    .dataframe tbody tr th:only-of-type {\n",
       "        vertical-align: middle;\n",
       "    }\n",
       "\n",
       "    .dataframe tbody tr th {\n",
       "        vertical-align: top;\n",
       "    }\n",
       "\n",
       "    .dataframe thead th {\n",
       "        text-align: right;\n",
       "    }\n",
       "</style>\n",
       "<table border=\"1\" class=\"dataframe\">\n",
       "  <thead>\n",
       "    <tr style=\"text-align: right;\">\n",
       "      <th></th>\n",
       "      <th>linear</th>\n",
       "      <th>polynomial</th>\n",
       "      <th>polynomial_numpy</th>\n",
       "    </tr>\n",
       "  </thead>\n",
       "  <tbody>\n",
       "    <tr>\n",
       "      <th>0</th>\n",
       "      <td>24.95</td>\n",
       "      <td>3.26</td>\n",
       "      <td>1.51</td>\n",
       "    </tr>\n",
       "  </tbody>\n",
       "</table>\n",
       "</div>"
      ],
      "text/plain": [
       "   linear  polynomial  polynomial_numpy\n",
       "0   24.95        3.26              1.51"
      ]
     },
     "execution_count": 34,
     "metadata": {},
     "output_type": "execute_result"
    }
   ],
   "source": [
    "metrics"
   ]
  },
  {
   "cell_type": "markdown",
   "metadata": {},
   "source": [
    "Como podemos apreciar en los resultados, el que mejor dio resultados fue el modelo polinimial de numpy con un pequeño margen de error, a diferencia del polinomial que tiene un margen de error más alto.\n",
    "\n",
    "**NOTA:**Estos resultados estan estandarizados por su gran valor de notación científica."
   ]
  },
  {
   "cell_type": "markdown",
   "metadata": {},
   "source": [
    "--------------------------------------"
   ]
  },
  {
   "cell_type": "markdown",
   "metadata": {},
   "source": [
    "<h2 style=\"color:yellowgreen\">Predicciones</h2>"
   ]
  },
  {
   "cell_type": "markdown",
   "metadata": {},
   "source": [
    "Por ultimo, procedemos a realizar las predicciones para los años del 2020 hasta el año 2025 con el fin de ver el comportamiento del PIB en cada uno de los modelos. Los resultados son los siguientes:"
   ]
  },
  {
   "cell_type": "code",
   "execution_count": 35,
   "metadata": {},
   "outputs": [],
   "source": [
    "predictions=pd.DataFrame({'year':[i for i in range(2020,2026)]})\n",
    "df_predict = pd.DataFrame({'year':['{}'.format(i) for i in range(2020,2026)],\n",
    "                          'linear':model_linear.predict(predictions),\n",
    "                          'poly':model_poly.predict(predictions),\n",
    "                          'poly_np':model_poly_np(predictions.values.reshape(-1))})"
   ]
  },
  {
   "cell_type": "code",
   "execution_count": 36,
   "metadata": {},
   "outputs": [
    {
     "data": {
      "text/html": [
       "<div>\n",
       "<style scoped>\n",
       "    .dataframe tbody tr th:only-of-type {\n",
       "        vertical-align: middle;\n",
       "    }\n",
       "\n",
       "    .dataframe tbody tr th {\n",
       "        vertical-align: top;\n",
       "    }\n",
       "\n",
       "    .dataframe thead th {\n",
       "        text-align: right;\n",
       "    }\n",
       "</style>\n",
       "<table border=\"1\" class=\"dataframe\">\n",
       "  <thead>\n",
       "    <tr style=\"text-align: right;\">\n",
       "      <th></th>\n",
       "      <th>year</th>\n",
       "      <th>linear</th>\n",
       "      <th>poly</th>\n",
       "      <th>poly_np</th>\n",
       "    </tr>\n",
       "  </thead>\n",
       "  <tbody>\n",
       "    <tr>\n",
       "      <th>0</th>\n",
       "      <td>2020</td>\n",
       "      <td>80,329,177,448.19</td>\n",
       "      <td>129,636,005,552.00</td>\n",
       "      <td>112,180,953,088.00</td>\n",
       "    </tr>\n",
       "    <tr>\n",
       "      <th>1</th>\n",
       "      <td>2021</td>\n",
       "      <td>81,959,893,245.96</td>\n",
       "      <td>137,865,005,120.00</td>\n",
       "      <td>111,704,580,096.00</td>\n",
       "    </tr>\n",
       "    <tr>\n",
       "      <th>2</th>\n",
       "      <td>2022</td>\n",
       "      <td>83,590,609,043.74</td>\n",
       "      <td>146,476,056,336.00</td>\n",
       "      <td>109,619,331,072.00</td>\n",
       "    </tr>\n",
       "    <tr>\n",
       "      <th>3</th>\n",
       "      <td>2023</td>\n",
       "      <td>85,221,324,841.52</td>\n",
       "      <td>155,478,111,776.00</td>\n",
       "      <td>105,677,701,120.00</td>\n",
       "    </tr>\n",
       "    <tr>\n",
       "      <th>4</th>\n",
       "      <td>2024</td>\n",
       "      <td>86,852,040,639.30</td>\n",
       "      <td>164,880,124,032.00</td>\n",
       "      <td>99,613,671,424.00</td>\n",
       "    </tr>\n",
       "    <tr>\n",
       "      <th>5</th>\n",
       "      <td>2025</td>\n",
       "      <td>88,482,756,437.08</td>\n",
       "      <td>174,691,045,688.00</td>\n",
       "      <td>91,142,324,224.00</td>\n",
       "    </tr>\n",
       "  </tbody>\n",
       "</table>\n",
       "</div>"
      ],
      "text/plain": [
       "   year            linear               poly            poly_np\n",
       "0  2020 80,329,177,448.19 129,636,005,552.00 112,180,953,088.00\n",
       "1  2021 81,959,893,245.96 137,865,005,120.00 111,704,580,096.00\n",
       "2  2022 83,590,609,043.74 146,476,056,336.00 109,619,331,072.00\n",
       "3  2023 85,221,324,841.52 155,478,111,776.00 105,677,701,120.00\n",
       "4  2024 86,852,040,639.30 164,880,124,032.00  99,613,671,424.00\n",
       "5  2025 88,482,756,437.08 174,691,045,688.00  91,142,324,224.00"
      ]
     },
     "execution_count": 36,
     "metadata": {},
     "output_type": "execute_result"
    }
   ],
   "source": [
    "df_predict"
   ]
  },
  {
   "cell_type": "code",
   "execution_count": 37,
   "metadata": {},
   "outputs": [
    {
     "data": {
      "text/html": [
       "\n",
       "<div id=\"altair-viz-e81e457a365647799aba8f27572a97d8\"></div>\n",
       "<script type=\"text/javascript\">\n",
       "  (function(spec, embedOpt){\n",
       "    let outputDiv = document.currentScript.previousElementSibling;\n",
       "    if (outputDiv.id !== \"altair-viz-e81e457a365647799aba8f27572a97d8\") {\n",
       "      outputDiv = document.getElementById(\"altair-viz-e81e457a365647799aba8f27572a97d8\");\n",
       "    }\n",
       "    const paths = {\n",
       "      \"vega\": \"https://cdn.jsdelivr.net/npm//vega@5?noext\",\n",
       "      \"vega-lib\": \"https://cdn.jsdelivr.net/npm//vega-lib?noext\",\n",
       "      \"vega-lite\": \"https://cdn.jsdelivr.net/npm//vega-lite@4.8.1?noext\",\n",
       "      \"vega-embed\": \"https://cdn.jsdelivr.net/npm//vega-embed@6?noext\",\n",
       "    };\n",
       "\n",
       "    function loadScript(lib) {\n",
       "      return new Promise(function(resolve, reject) {\n",
       "        var s = document.createElement('script');\n",
       "        s.src = paths[lib];\n",
       "        s.async = true;\n",
       "        s.onload = () => resolve(paths[lib]);\n",
       "        s.onerror = () => reject(`Error loading script: ${paths[lib]}`);\n",
       "        document.getElementsByTagName(\"head\")[0].appendChild(s);\n",
       "      });\n",
       "    }\n",
       "\n",
       "    function showError(err) {\n",
       "      outputDiv.innerHTML = `<div class=\"error\" style=\"color:red;\">${err}</div>`;\n",
       "      throw err;\n",
       "    }\n",
       "\n",
       "    function displayChart(vegaEmbed) {\n",
       "      vegaEmbed(outputDiv, spec, embedOpt)\n",
       "        .catch(err => showError(`Javascript Error: ${err.message}<br>This usually means there's a typo in your chart specification. See the javascript console for the full traceback.`));\n",
       "    }\n",
       "\n",
       "    if(typeof define === \"function\" && define.amd) {\n",
       "      requirejs.config({paths});\n",
       "      require([\"vega-embed\"], displayChart, err => showError(`Error loading script: ${err.message}`));\n",
       "    } else if (typeof vegaEmbed === \"function\") {\n",
       "      displayChart(vegaEmbed);\n",
       "    } else {\n",
       "      loadScript(\"vega\")\n",
       "        .then(() => loadScript(\"vega-lite\"))\n",
       "        .then(() => loadScript(\"vega-embed\"))\n",
       "        .catch(showError)\n",
       "        .then(() => displayChart(vegaEmbed));\n",
       "    }\n",
       "  })({\"config\": {\"view\": {\"continuousWidth\": 400, \"continuousHeight\": 300}}, \"layer\": [{\"data\": {\"name\": \"data-443ae50aaf4317b475ae73e9155e859d\"}, \"mark\": \"point\", \"encoding\": {\"color\": {\"type\": \"nominal\", \"field\": \"variable\"}, \"x\": {\"type\": \"nominal\", \"field\": \"year\"}, \"y\": {\"type\": \"quantitative\", \"field\": \"value\"}}}, {\"data\": {\"name\": \"data-443ae50aaf4317b475ae73e9155e859d\"}, \"mark\": \"line\", \"encoding\": {\"color\": {\"type\": \"nominal\", \"field\": \"variable\"}, \"x\": {\"type\": \"nominal\", \"field\": \"year\"}, \"y\": {\"type\": \"quantitative\", \"field\": \"value\"}}, \"title\": \"Prediction from 2020 to 2025\", \"width\": {\"step\": 50}}], \"$schema\": \"https://vega.github.io/schema/vega-lite/v4.8.1.json\", \"datasets\": {\"data-443ae50aaf4317b475ae73e9155e859d\": [{\"year\": \"2020\", \"variable\": \"linear\", \"value\": 80329177448.18506}, {\"year\": \"2021\", \"variable\": \"linear\", \"value\": 81959893245.96436}, {\"year\": \"2022\", \"variable\": \"linear\", \"value\": 83590609043.74316}, {\"year\": \"2023\", \"variable\": \"linear\", \"value\": 85221324841.52246}, {\"year\": \"2024\", \"variable\": \"linear\", \"value\": 86852040639.30127}, {\"year\": \"2025\", \"variable\": \"linear\", \"value\": 88482756437.08008}, {\"year\": \"2020\", \"variable\": \"poly\", \"value\": 129636005552.0}, {\"year\": \"2021\", \"variable\": \"poly\", \"value\": 137865005120.0}, {\"year\": \"2022\", \"variable\": \"poly\", \"value\": 146476056336.0}, {\"year\": \"2023\", \"variable\": \"poly\", \"value\": 155478111776.0}, {\"year\": \"2024\", \"variable\": \"poly\", \"value\": 164880124032.0}, {\"year\": \"2025\", \"variable\": \"poly\", \"value\": 174691045688.0}, {\"year\": \"2020\", \"variable\": \"poly_np\", \"value\": 112180953088.0}, {\"year\": \"2021\", \"variable\": \"poly_np\", \"value\": 111704580096.0}, {\"year\": \"2022\", \"variable\": \"poly_np\", \"value\": 109619331072.0}, {\"year\": \"2023\", \"variable\": \"poly_np\", \"value\": 105677701120.0}, {\"year\": \"2024\", \"variable\": \"poly_np\", \"value\": 99613671424.0}, {\"year\": \"2025\", \"variable\": \"poly_np\", \"value\": 91142324224.0}]}}, {\"mode\": \"vega-lite\"});\n",
       "</script>"
      ],
      "text/plain": [
       "alt.LayerChart(...)"
      ]
     },
     "execution_count": 37,
     "metadata": {},
     "output_type": "execute_result"
    }
   ],
   "source": [
    "alt.Chart(df_predict.melt('year')).mark_point().encode(\n",
    "    x='year',\n",
    "    y='value',\n",
    "    color='variable'\n",
    ")+alt.Chart(df_predict.melt('year')).mark_line().encode(\n",
    "    x='year',\n",
    "    y='value',\n",
    "    color='variable'\n",
    ").properties(title='Prediction from 2020 to 2025',width=alt.Step(50))"
   ]
  },
  {
   "cell_type": "markdown",
   "metadata": {},
   "source": [
    "Como podemos notar en la gráfica y con todo lo explicado lo anterior, las predicciones tienden o a ser altas o a ser bajas y esto es debido a la falta de caracteristicas para poder tener una correcta presición del modelo. Sin embargo, podemos notar que el modelo que tiende a estar en la media de los extremos es el modelo polinomial de numpy por lo cual se lo considera el mejor modelo en este caso y **para estos datos**. Debemos tomar en cuenta que para tener una mejor presición en nuestro modelo debemos tener en consideración lo que se necesita para calcular el pib, entre ellos pueden depender varios factores y se necesitara de un experto en econometria para poder tener una mejor presición en la predicción del PIB."
   ]
  },
  {
   "cell_type": "markdown",
   "metadata": {},
   "source": [
    "-------------------------------------------------------------"
   ]
  },
  {
   "cell_type": "markdown",
   "metadata": {},
   "source": [
    "<h2 style=\"color:yellowgreen\">Contenido Extra</h2>"
   ]
  },
  {
   "cell_type": "markdown",
   "metadata": {},
   "source": [
    "Como comentamos, con el año, no podemos predecir como sera el comportamiento del PIB a lo largo del tiempo, por lo que es necesario que se tomen otras características para mejorar la predicción. Para este caso procesamos un nuevo csv mediante el archivo **main.py** el cual realiza el proceso de transformación de los datos. En este nuevo dataset tenemos el gasto,exportaciones,importaciones e inversión que son variables importantes para nuestra predicción. A continuación realizamos pruebas rápidas para ver si nuestro modelo mejora"
   ]
  },
  {
   "cell_type": "code",
   "execution_count": 38,
   "metadata": {},
   "outputs": [
    {
     "data": {
      "text/html": [
       "<div>\n",
       "<style scoped>\n",
       "    .dataframe tbody tr th:only-of-type {\n",
       "        vertical-align: middle;\n",
       "    }\n",
       "\n",
       "    .dataframe tbody tr th {\n",
       "        vertical-align: top;\n",
       "    }\n",
       "\n",
       "    .dataframe thead th {\n",
       "        text-align: right;\n",
       "    }\n",
       "</style>\n",
       "<table border=\"1\" class=\"dataframe\">\n",
       "  <thead>\n",
       "    <tr style=\"text-align: right;\">\n",
       "      <th></th>\n",
       "      <th>year</th>\n",
       "      <th>pib_value</th>\n",
       "      <th>gasto_value</th>\n",
       "      <th>inversion_value</th>\n",
       "      <th>exportacion_value</th>\n",
       "      <th>importacion_value</th>\n",
       "    </tr>\n",
       "  </thead>\n",
       "  <tbody>\n",
       "    <tr>\n",
       "      <th>0</th>\n",
       "      <td>1976</td>\n",
       "      <td>9,087,566,000.00</td>\n",
       "      <td>7,354,173,296.51</td>\n",
       "      <td>19,900,000.00</td>\n",
       "      <td>1,457,947,881.90</td>\n",
       "      <td>1,634,570,547.74</td>\n",
       "    </tr>\n",
       "    <tr>\n",
       "      <th>1</th>\n",
       "      <td>1977</td>\n",
       "      <td>11,021,061,000.00</td>\n",
       "      <td>8,528,523,232.90</td>\n",
       "      <td>34,500,000.00</td>\n",
       "      <td>1,797,611,703.15</td>\n",
       "      <td>2,000,105,770.70</td>\n",
       "    </tr>\n",
       "    <tr>\n",
       "      <th>2</th>\n",
       "      <td>1978</td>\n",
       "      <td>11,916,787,000.00</td>\n",
       "      <td>9,207,582,746.87</td>\n",
       "      <td>48,600,000.00</td>\n",
       "      <td>1,756,420,957.95</td>\n",
       "      <td>2,213,274,955.48</td>\n",
       "    </tr>\n",
       "    <tr>\n",
       "      <th>3</th>\n",
       "      <td>1979</td>\n",
       "      <td>14,168,371,000.00</td>\n",
       "      <td>10,982,660,648.21</td>\n",
       "      <td>63,400,000.00</td>\n",
       "      <td>2,538,499,855.29</td>\n",
       "      <td>2,575,840,755.02</td>\n",
       "    </tr>\n",
       "    <tr>\n",
       "      <th>4</th>\n",
       "      <td>1980</td>\n",
       "      <td>17,872,943,000.00</td>\n",
       "      <td>13,474,450,112.41</td>\n",
       "      <td>70,000,000.00</td>\n",
       "      <td>3,066,326,874.45</td>\n",
       "      <td>3,196,675,358.30</td>\n",
       "    </tr>\n",
       "  </tbody>\n",
       "</table>\n",
       "</div>"
      ],
      "text/plain": [
       "   year         pib_value       gasto_value  inversion_value  \\\n",
       "0  1976  9,087,566,000.00  7,354,173,296.51    19,900,000.00   \n",
       "1  1977 11,021,061,000.00  8,528,523,232.90    34,500,000.00   \n",
       "2  1978 11,916,787,000.00  9,207,582,746.87    48,600,000.00   \n",
       "3  1979 14,168,371,000.00 10,982,660,648.21    63,400,000.00   \n",
       "4  1980 17,872,943,000.00 13,474,450,112.41    70,000,000.00   \n",
       "\n",
       "   exportacion_value  importacion_value  \n",
       "0   1,457,947,881.90   1,634,570,547.74  \n",
       "1   1,797,611,703.15   2,000,105,770.70  \n",
       "2   1,756,420,957.95   2,213,274,955.48  \n",
       "3   2,538,499,855.29   2,575,840,755.02  \n",
       "4   3,066,326,874.45   3,196,675,358.30  "
      ]
     },
     "execution_count": 38,
     "metadata": {},
     "output_type": "execute_result"
    }
   ],
   "source": [
    "df = pd.read_csv('./out/pib_dataset.csv')\n",
    "df.head()"
   ]
  },
  {
   "cell_type": "code",
   "execution_count": 39,
   "metadata": {},
   "outputs": [
    {
     "data": {
      "text/html": [
       "\n",
       "<div id=\"altair-viz-dec5dab5d06f43d2bb3a76c285f15025\"></div>\n",
       "<script type=\"text/javascript\">\n",
       "  (function(spec, embedOpt){\n",
       "    let outputDiv = document.currentScript.previousElementSibling;\n",
       "    if (outputDiv.id !== \"altair-viz-dec5dab5d06f43d2bb3a76c285f15025\") {\n",
       "      outputDiv = document.getElementById(\"altair-viz-dec5dab5d06f43d2bb3a76c285f15025\");\n",
       "    }\n",
       "    const paths = {\n",
       "      \"vega\": \"https://cdn.jsdelivr.net/npm//vega@5?noext\",\n",
       "      \"vega-lib\": \"https://cdn.jsdelivr.net/npm//vega-lib?noext\",\n",
       "      \"vega-lite\": \"https://cdn.jsdelivr.net/npm//vega-lite@4.8.1?noext\",\n",
       "      \"vega-embed\": \"https://cdn.jsdelivr.net/npm//vega-embed@6?noext\",\n",
       "    };\n",
       "\n",
       "    function loadScript(lib) {\n",
       "      return new Promise(function(resolve, reject) {\n",
       "        var s = document.createElement('script');\n",
       "        s.src = paths[lib];\n",
       "        s.async = true;\n",
       "        s.onload = () => resolve(paths[lib]);\n",
       "        s.onerror = () => reject(`Error loading script: ${paths[lib]}`);\n",
       "        document.getElementsByTagName(\"head\")[0].appendChild(s);\n",
       "      });\n",
       "    }\n",
       "\n",
       "    function showError(err) {\n",
       "      outputDiv.innerHTML = `<div class=\"error\" style=\"color:red;\">${err}</div>`;\n",
       "      throw err;\n",
       "    }\n",
       "\n",
       "    function displayChart(vegaEmbed) {\n",
       "      vegaEmbed(outputDiv, spec, embedOpt)\n",
       "        .catch(err => showError(`Javascript Error: ${err.message}<br>This usually means there's a typo in your chart specification. See the javascript console for the full traceback.`));\n",
       "    }\n",
       "\n",
       "    if(typeof define === \"function\" && define.amd) {\n",
       "      requirejs.config({paths});\n",
       "      require([\"vega-embed\"], displayChart, err => showError(`Error loading script: ${err.message}`));\n",
       "    } else if (typeof vegaEmbed === \"function\") {\n",
       "      displayChart(vegaEmbed);\n",
       "    } else {\n",
       "      loadScript(\"vega\")\n",
       "        .then(() => loadScript(\"vega-lite\"))\n",
       "        .then(() => loadScript(\"vega-embed\"))\n",
       "        .catch(showError)\n",
       "        .then(() => displayChart(vegaEmbed));\n",
       "    }\n",
       "  })({\"config\": {\"view\": {\"continuousWidth\": 400, \"continuousHeight\": 300}}, \"data\": {\"name\": \"data-2b2bab18851a0f701699b4350dfdbefb\"}, \"mark\": \"line\", \"encoding\": {\"color\": {\"type\": \"nominal\", \"field\": \"variable\"}, \"x\": {\"type\": \"quantitative\", \"field\": \"year\"}, \"y\": {\"type\": \"quantitative\", \"field\": \"value\", \"title\": \"value $\"}}, \"title\": \"Dataset behavior\", \"$schema\": \"https://vega.github.io/schema/vega-lite/v4.8.1.json\", \"datasets\": {\"data-2b2bab18851a0f701699b4350dfdbefb\": [{\"year\": 1976, \"variable\": \"pib_value\", \"value\": 9087566000.0}, {\"year\": 1977, \"variable\": \"pib_value\", \"value\": 11021061000.0}, {\"year\": 1978, \"variable\": \"pib_value\", \"value\": 11916787000.0}, {\"year\": 1979, \"variable\": \"pib_value\", \"value\": 14168371000.0}, {\"year\": 1980, \"variable\": \"pib_value\", \"value\": 17872943000.0}, {\"year\": 1981, \"variable\": \"pib_value\", \"value\": 21800312000.0}, {\"year\": 1982, \"variable\": \"pib_value\", \"value\": 19920300000.0}, {\"year\": 1983, \"variable\": \"pib_value\", \"value\": 17144261000.0}, {\"year\": 1984, \"variable\": \"pib_value\", \"value\": 16904408000.0}, {\"year\": 1985, \"variable\": \"pib_value\", \"value\": 17140874000.0}, {\"year\": 1986, \"variable\": \"pib_value\", \"value\": 15306803000.0}, {\"year\": 1987, \"variable\": \"pib_value\", \"value\": 13938747000.0}, {\"year\": 1988, \"variable\": \"pib_value\", \"value\": 13045630000.0}, {\"year\": 1989, \"variable\": \"pib_value\", \"value\": 13884170000.0}, {\"year\": 1990, \"variable\": \"pib_value\", \"value\": 15231973000.0}, {\"year\": 1991, \"variable\": \"pib_value\", \"value\": 16980041000.0}, {\"year\": 1992, \"variable\": \"pib_value\", \"value\": 18085191000.0}, {\"year\": 1993, \"variable\": \"pib_value\", \"value\": 18929248000.0}, {\"year\": 1994, \"variable\": \"pib_value\", \"value\": 22697319000.0}, {\"year\": 1995, \"variable\": \"pib_value\", \"value\": 24420668000.0}, {\"year\": 1996, \"variable\": \"pib_value\", \"value\": 25213780000.0}, {\"year\": 1997, \"variable\": \"pib_value\", \"value\": 28147972000.0}, {\"year\": 1998, \"variable\": \"pib_value\", \"value\": 27967906000.0}, {\"year\": 1999, \"variable\": \"pib_value\", \"value\": 19635450000.0}, {\"year\": 2000, \"variable\": \"pib_value\", \"value\": 18318601000.0}, {\"year\": 2001, \"variable\": \"pib_value\", \"value\": 24468324000.0}, {\"year\": 2002, \"variable\": \"pib_value\", \"value\": 28548945000.0}, {\"year\": 2003, \"variable\": \"pib_value\", \"value\": 32432858000.0}, {\"year\": 2004, \"variable\": \"pib_value\", \"value\": 36591661000.0}, {\"year\": 2005, \"variable\": \"pib_value\", \"value\": 41507085000.0}, {\"year\": 2006, \"variable\": \"pib_value\", \"value\": 46802044000.0}, {\"year\": 2007, \"variable\": \"pib_value\", \"value\": 51007777000.0}, {\"year\": 2008, \"variable\": \"pib_value\", \"value\": 61762635000.0}, {\"year\": 2009, \"variable\": \"pib_value\", \"value\": 62519686000.0}, {\"year\": 2010, \"variable\": \"pib_value\", \"value\": 69555367000.0}, {\"year\": 2011, \"variable\": \"pib_value\", \"value\": 79276664000.0}, {\"year\": 2012, \"variable\": \"pib_value\", \"value\": 87924544000.0}, {\"year\": 2013, \"variable\": \"pib_value\", \"value\": 95129659000.0}, {\"year\": 2014, \"variable\": \"pib_value\", \"value\": 101726331000.0}, {\"year\": 2015, \"variable\": \"pib_value\", \"value\": 99290381000.0}, {\"year\": 2016, \"variable\": \"pib_value\", \"value\": 99937696000.0}, {\"year\": 2017, \"variable\": \"pib_value\", \"value\": 104295862000.0}, {\"year\": 2018, \"variable\": \"pib_value\", \"value\": 107562008000.0}, {\"year\": 2019, \"variable\": \"pib_value\", \"value\": 107435665000.0}, {\"year\": 1976, \"variable\": \"gasto_value\", \"value\": 7354173296.51}, {\"year\": 1977, \"variable\": \"gasto_value\", \"value\": 8528523232.9}, {\"year\": 1978, \"variable\": \"gasto_value\", \"value\": 9207582746.87}, {\"year\": 1979, \"variable\": \"gasto_value\", \"value\": 10982660648.21}, {\"year\": 1980, \"variable\": \"gasto_value\", \"value\": 13474450112.41}, {\"year\": 1981, \"variable\": \"gasto_value\", \"value\": 16326063061.59}, {\"year\": 1982, \"variable\": \"gasto_value\", \"value\": 16209975413.81}, {\"year\": 1983, \"variable\": \"gasto_value\", \"value\": 13566028011.19}, {\"year\": 1984, \"variable\": \"gasto_value\", \"value\": 13449445126.02}, {\"year\": 1985, \"variable\": \"gasto_value\", \"value\": 13273906980.05}, {\"year\": 1986, \"variable\": \"gasto_value\", \"value\": 11988363742.04}, {\"year\": 1987, \"variable\": \"gasto_value\", \"value\": 11378211259.35}, {\"year\": 1988, \"variable\": \"gasto_value\", \"value\": 10251015926.99}, {\"year\": 1989, \"variable\": \"gasto_value\", \"value\": 10759414633.0}, {\"year\": 1990, \"variable\": \"gasto_value\", \"value\": 11428569399.03}, {\"year\": 1991, \"variable\": \"gasto_value\", \"value\": 12877652826.41}, {\"year\": 1992, \"variable\": \"gasto_value\", \"value\": 13366034017.01}, {\"year\": 1993, \"variable\": \"gasto_value\", \"value\": 15533934967.48}, {\"year\": 1994, \"variable\": \"gasto_value\", \"value\": 18605633816.91}, {\"year\": 1995, \"variable\": \"gasto_value\", \"value\": 20404561280.64}, {\"year\": 1996, \"variable\": \"gasto_value\", \"value\": 20466505252.63}, {\"year\": 1997, \"variable\": \"gasto_value\", \"value\": 22991046523.26}, {\"year\": 1998, \"variable\": \"gasto_value\", \"value\": 23397216608.3}, {\"year\": 1999, \"variable\": \"gasto_value\", \"value\": 15091047523.76}, {\"year\": 2000, \"variable\": \"gasto_value\", \"value\": 13549882941.47}, {\"year\": 2001, \"variable\": \"gasto_value\", \"value\": 20051882000.0}, {\"year\": 2002, \"variable\": \"gasto_value\", \"value\": 23606958000.0}, {\"year\": 2003, \"variable\": \"gasto_value\", \"value\": 26742603000.0}, {\"year\": 2004, \"variable\": \"gasto_value\", \"value\": 29770074000.0}, {\"year\": 2005, \"variable\": \"gasto_value\", \"value\": 32884561000.0}, {\"year\": 2006, \"variable\": \"gasto_value\", \"value\": 35842793000.0}, {\"year\": 2007, \"variable\": \"gasto_value\", \"value\": 38775487000.0}, {\"year\": 2008, \"variable\": \"gasto_value\", \"value\": 45298051000.0}, {\"year\": 2009, \"variable\": \"gasto_value\", \"value\": 47494560000.0}, {\"year\": 2010, \"variable\": \"gasto_value\", \"value\": 53193172000.0}, {\"year\": 2011, \"variable\": \"gasto_value\", \"value\": 58748321000.0}, {\"year\": 2012, \"variable\": \"gasto_value\", \"value\": 64735024000.0}, {\"year\": 2013, \"variable\": \"gasto_value\", \"value\": 70265165000.0}, {\"year\": 2014, \"variable\": \"gasto_value\", \"value\": 74555251000.0}, {\"year\": 2015, \"variable\": \"gasto_value\", \"value\": 75319038000.0}, {\"year\": 2016, \"variable\": \"gasto_value\", \"value\": 74486286000.0}, {\"year\": 2017, \"variable\": \"gasto_value\", \"value\": 77675205000.0}, {\"year\": 2018, \"variable\": \"gasto_value\", \"value\": 80031510000.0}, {\"year\": 2019, \"variable\": \"gasto_value\", \"value\": 80582081000.0}, {\"year\": 1976, \"variable\": \"inversion_value\", \"value\": 19900000.0}, {\"year\": 1977, \"variable\": \"inversion_value\", \"value\": 34500000.0}, {\"year\": 1978, \"variable\": \"inversion_value\", \"value\": 48600000.0}, {\"year\": 1979, \"variable\": \"inversion_value\", \"value\": 63400000.0}, {\"year\": 1980, \"variable\": \"inversion_value\", \"value\": 70000000.0}, {\"year\": 1981, \"variable\": \"inversion_value\", \"value\": 60000000.0}, {\"year\": 1982, \"variable\": \"inversion_value\", \"value\": 40000000.0}, {\"year\": 1983, \"variable\": \"inversion_value\", \"value\": 50000000.0}, {\"year\": 1984, \"variable\": \"inversion_value\", \"value\": 50000000.0}, {\"year\": 1985, \"variable\": \"inversion_value\", \"value\": 62000000.0}, {\"year\": 1986, \"variable\": \"inversion_value\", \"value\": 81000000.0}, {\"year\": 1987, \"variable\": \"inversion_value\", \"value\": 123000000.0}, {\"year\": 1988, \"variable\": \"inversion_value\", \"value\": 155000000.0}, {\"year\": 1989, \"variable\": \"inversion_value\", \"value\": 160000000.0}, {\"year\": 1990, \"variable\": \"inversion_value\", \"value\": 126000000.0}, {\"year\": 1991, \"variable\": \"inversion_value\", \"value\": 160000000.0}, {\"year\": 1992, \"variable\": \"inversion_value\", \"value\": 178000000.0}, {\"year\": 1993, \"variable\": \"inversion_value\", \"value\": 473720000.0}, {\"year\": 1994, \"variable\": \"inversion_value\", \"value\": 576330000.0}, {\"year\": 1995, \"variable\": \"inversion_value\", \"value\": 452480000.0}, {\"year\": 1996, \"variable\": \"inversion_value\", \"value\": 499680000.0}, {\"year\": 1997, \"variable\": \"inversion_value\", \"value\": 723950000.0}, {\"year\": 1998, \"variable\": \"inversion_value\", \"value\": 869980000.0}, {\"year\": 1999, \"variable\": \"inversion_value\", \"value\": 648410000.0}, {\"year\": 2000, \"variable\": \"inversion_value\", \"value\": 23439367.91}, {\"year\": 2001, \"variable\": \"inversion_value\", \"value\": 538568575.17}, {\"year\": 2002, \"variable\": \"inversion_value\", \"value\": 783261009.55}, {\"year\": 2003, \"variable\": \"inversion_value\", \"value\": 871513414.02}, {\"year\": 2004, \"variable\": \"inversion_value\", \"value\": 836939593.9}, {\"year\": 2005, \"variable\": \"inversion_value\", \"value\": 493413835.55}, {\"year\": 2006, \"variable\": \"inversion_value\", \"value\": 271428852.53}, {\"year\": 2007, \"variable\": \"inversion_value\", \"value\": 193872526.93}, {\"year\": 2008, \"variable\": \"inversion_value\", \"value\": 1057404020.15}, {\"year\": 2009, \"variable\": \"inversion_value\", \"value\": 308629890.11}, {\"year\": 2010, \"variable\": \"inversion_value\", \"value\": 165893320.36}, {\"year\": 2011, \"variable\": \"inversion_value\", \"value\": 646084358.69}, {\"year\": 2012, \"variable\": \"inversion_value\", \"value\": 567417300.86}, {\"year\": 2013, \"variable\": \"inversion_value\", \"value\": 727081206.26}, {\"year\": 2014, \"variable\": \"inversion_value\", \"value\": 772389946.09}, {\"year\": 2015, \"variable\": \"inversion_value\", \"value\": 1322701337.31}, {\"year\": 2016, \"variable\": \"inversion_value\", \"value\": 756028868.12}, {\"year\": 2017, \"variable\": \"inversion_value\", \"value\": 624503412.26}, {\"year\": 2018, \"variable\": \"inversion_value\", \"value\": 1388254145.24}, {\"year\": 2019, \"variable\": \"inversion_value\", \"value\": 948594269.51}, {\"year\": 1976, \"variable\": \"exportacion_value\", \"value\": 1457947881.9}, {\"year\": 1977, \"variable\": \"exportacion_value\", \"value\": 1797611703.15}, {\"year\": 1978, \"variable\": \"exportacion_value\", \"value\": 1756420957.95}, {\"year\": 1979, \"variable\": \"exportacion_value\", \"value\": 2538499855.29}, {\"year\": 1980, \"variable\": \"exportacion_value\", \"value\": 3066326874.45}, {\"year\": 1981, \"variable\": \"exportacion_value\", \"value\": 3188264326.39}, {\"year\": 1982, \"variable\": \"exportacion_value\", \"value\": 2921017218.81}, {\"year\": 1983, \"variable\": \"exportacion_value\", \"value\": 2668860344.89}, {\"year\": 1984, \"variable\": \"exportacion_value\", \"value\": 2938789738.25}, {\"year\": 1985, \"variable\": \"exportacion_value\", \"value\": 3375176924.81}, {\"year\": 1986, \"variable\": \"exportacion_value\", \"value\": 2393509352.64}, {\"year\": 1987, \"variable\": \"exportacion_value\", \"value\": 2142867204.82}, {\"year\": 1988, \"variable\": \"exportacion_value\", \"value\": 2480622111.02}, {\"year\": 1989, \"variable\": \"exportacion_value\", \"value\": 2817483588.93}, {\"year\": 1990, \"variable\": \"exportacion_value\", \"value\": 3469125960.22}, {\"year\": 1991, \"variable\": \"exportacion_value\", \"value\": 4021964982.49}, {\"year\": 1992, \"variable\": \"exportacion_value\", \"value\": 4366816408.2}, {\"year\": 1993, \"variable\": \"exportacion_value\", \"value\": 3794531265.63}, {\"year\": 1994, \"variable\": \"exportacion_value\", \"value\": 4605277638.82}, {\"year\": 1995, \"variable\": \"exportacion_value\", \"value\": 5201004502.25}, {\"year\": 1996, \"variable\": \"exportacion_value\", \"value\": 5618746373.19}, {\"year\": 1997, \"variable\": \"exportacion_value\", \"value\": 6064677338.67}, {\"year\": 1998, \"variable\": \"exportacion_value\", \"value\": 5006507253.63}, {\"year\": 1999, \"variable\": \"exportacion_value\", \"value\": 5181939969.98}, {\"year\": 2000, \"variable\": \"exportacion_value\", \"value\": 5888259129.56}, {\"year\": 2001, \"variable\": \"exportacion_value\", \"value\": 5682217000.0}, {\"year\": 2002, \"variable\": \"exportacion_value\", \"value\": 6135846000.0}, {\"year\": 2003, \"variable\": \"exportacion_value\", \"value\": 7329307000.0}, {\"year\": 2004, \"variable\": \"exportacion_value\", \"value\": 8984844000.0}, {\"year\": 2005, \"variable\": \"exportacion_value\", \"value\": 11463499000.0}, {\"year\": 2006, \"variable\": \"exportacion_value\", \"value\": 14196499000.0}, {\"year\": 2007, \"variable\": \"exportacion_value\", \"value\": 16287685000.0}, {\"year\": 2008, \"variable\": \"exportacion_value\", \"value\": 21100364000.0}, {\"year\": 2009, \"variable\": \"exportacion_value\", \"value\": 15785663000.0}, {\"year\": 2010, \"variable\": \"exportacion_value\", \"value\": 19402439000.0}, {\"year\": 2011, \"variable\": \"exportacion_value\", \"value\": 24671849000.0}, {\"year\": 2012, \"variable\": \"exportacion_value\", \"value\": 26522271000.0}, {\"year\": 2013, \"variable\": \"exportacion_value\", \"value\": 27243506000.0}, {\"year\": 2014, \"variable\": \"exportacion_value\", \"value\": 28536122000.0}, {\"year\": 2015, \"variable\": \"exportacion_value\", \"value\": 21107369000.0}, {\"year\": 2016, \"variable\": \"exportacion_value\", \"value\": 19492639000.0}, {\"year\": 2017, \"variable\": \"exportacion_value\", \"value\": 21727767000.0}, {\"year\": 2018, \"variable\": \"exportacion_value\", \"value\": 24314052000.0}, {\"year\": 2019, \"variable\": \"exportacion_value\", \"value\": 25129245000.0}, {\"year\": 1976, \"variable\": \"importacion_value\", \"value\": 1634570547.74}, {\"year\": 1977, \"variable\": \"importacion_value\", \"value\": 2000105770.7}, {\"year\": 1978, \"variable\": \"importacion_value\", \"value\": 2213274955.48}, {\"year\": 1979, \"variable\": \"importacion_value\", \"value\": 2575840755.02}, {\"year\": 1980, \"variable\": \"importacion_value\", \"value\": 3196675358.3}, {\"year\": 1981, \"variable\": \"importacion_value\", \"value\": 3336486378.11}, {\"year\": 1982, \"variable\": \"importacion_value\", \"value\": 3538835376.13}, {\"year\": 1983, \"variable\": \"importacion_value\", \"value\": 2627143347.44}, {\"year\": 1984, \"variable\": \"importacion_value\", \"value\": 2652200358.76}, {\"year\": 1985, \"variable\": \"importacion_value\", \"value\": 2750018248.75}, {\"year\": 1986, \"variable\": \"importacion_value\", \"value\": 2677096292.88}, {\"year\": 1987, \"variable\": \"importacion_value\", \"value\": 3118845049.56}, {\"year\": 1988, \"variable\": \"importacion_value\", \"value\": 3087613078.21}, {\"year\": 1989, \"variable\": \"importacion_value\", \"value\": 3449083352.6}, {\"year\": 1990, \"variable\": \"importacion_value\", \"value\": 3326816742.87}, {\"year\": 1991, \"variable\": \"importacion_value\", \"value\": 3656282141.07}, {\"year\": 1992, \"variable\": \"importacion_value\", \"value\": 3740586293.15}, {\"year\": 1993, \"variable\": \"importacion_value\", \"value\": 4381543771.89}, {\"year\": 1994, \"variable\": \"importacion_value\", \"value\": 5336068034.02}, {\"year\": 1995, \"variable\": \"importacion_value\", \"value\": 6016443221.61}, {\"year\": 1996, \"variable\": \"importacion_value\", \"value\": 5535280640.32}, {\"year\": 1997, \"variable\": \"importacion_value\", \"value\": 6613086543.27}, {\"year\": 1998, \"variable\": \"importacion_value\", \"value\": 7136267133.57}, {\"year\": 1999, \"variable\": \"importacion_value\", \"value\": 4483779889.94}, {\"year\": 2000, \"variable\": \"importacion_value\", \"value\": 5010291145.57}, {\"year\": 2001, \"variable\": \"importacion_value\", \"value\": 6734248000.0}, {\"year\": 2002, \"variable\": \"importacion_value\", \"value\": 7960638000.0}, {\"year\": 2003, \"variable\": \"importacion_value\", \"value\": 7992504000.0}, {\"year\": 2004, \"variable\": \"importacion_value\", \"value\": 9554409000.0}, {\"year\": 2005, \"variable\": \"importacion_value\", \"value\": 11821905000.0}, {\"year\": 2006, \"variable\": \"importacion_value\", \"value\": 13748900000.0}, {\"year\": 2007, \"variable\": \"importacion_value\", \"value\": 15636623000.0}, {\"year\": 2008, \"variable\": \"importacion_value\", \"value\": 20933400000.0}, {\"year\": 2009, \"variable\": \"importacion_value\", \"value\": 16790125000.0}, {\"year\": 2010, \"variable\": \"importacion_value\", \"value\": 22541700000.0}, {\"year\": 2011, \"variable\": \"importacion_value\", \"value\": 26453861000.0}, {\"year\": 2012, \"variable\": \"importacion_value\", \"value\": 27772113000.0}, {\"year\": 2013, \"variable\": \"importacion_value\", \"value\": 29459627000.0}, {\"year\": 2014, \"variable\": \"importacion_value\", \"value\": 30168281000.0}, {\"year\": 2015, \"variable\": \"importacion_value\", \"value\": 23815449000.0}, {\"year\": 2016, \"variable\": \"importacion_value\", \"value\": 19004701000.0}, {\"year\": 2017, \"variable\": \"importacion_value\", \"value\": 22516333000.0}, {\"year\": 2018, \"variable\": \"importacion_value\", \"value\": 25553987000.0}, {\"year\": 2019, \"variable\": \"importacion_value\", \"value\": 25086092000.0}]}}, {\"mode\": \"vega-lite\"});\n",
       "</script>"
      ],
      "text/plain": [
       "alt.Chart(...)"
      ]
     },
     "execution_count": 39,
     "metadata": {},
     "output_type": "execute_result"
    }
   ],
   "source": [
    "alt.Chart(df.melt('year')).mark_line().encode(\n",
    "    x='year',\n",
    "    y=alt.Y('value',title='value $'),\n",
    "    color='variable'\n",
    ").properties(title='Dataset behavior')"
   ]
  },
  {
   "cell_type": "markdown",
   "metadata": {},
   "source": [
    "En este caso como podemos apreciar en este gráfica, podemos ver que existe una fuerte relación entre el PIB y el gasto del gobierno, de la misma manera tenemos una fuerte relación con respecto a la exportación e importación, sin embargo, no existe mucha relación con la inversión. Para ver de una mejor manera la relación que existen entre variables procedemos a hacer un mapa de calor para apreciar mejor dichas relaciones"
   ]
  },
  {
   "cell_type": "code",
   "execution_count": 40,
   "metadata": {},
   "outputs": [
    {
     "data": {
      "text/plain": [
       "<matplotlib.axes._subplots.AxesSubplot at 0x7fa588ba3d30>"
      ]
     },
     "execution_count": 40,
     "metadata": {},
     "output_type": "execute_result"
    },
    {
     "data": {
      "image/png": "[encoded data removed]",
      "text/plain": [
       "<Figure size 432x288 with 2 Axes>"
      ]
     },
     "metadata": {
      "needs_background": "light"
     },
     "output_type": "display_data"
    }
   ],
   "source": [
    "sns.heatmap(df.corr(),annot=True)"
   ]
  },
  {
   "cell_type": "markdown",
   "metadata": {},
   "source": [
    "Como podemos apreciar la relación que existe entre el gasto y el PIB es de 1, eso quiere decir que si el PIB baja, el gasto también, de la misma manera podemos notar la relación de la exportación e importación con respecto al PIB. Con estas relaciones tomadas en cuenta, procedemos a obtener nuestros features y target. En este caso no tomaremos en cuenta el gasto, debido a que existe una relación muy fuerte y sufririamos overfitting a causa de dicha variable, por lo que usaremos las variables del año, importación y exportación para este nuevo modelo"
   ]
  },
  {
   "cell_type": "code",
   "execution_count": 41,
   "metadata": {},
   "outputs": [],
   "source": [
    "features = df[['year','exportacion_value','importacion_value']]\n",
    "target = df['pib_value']"
   ]
  },
  {
   "cell_type": "markdown",
   "metadata": {},
   "source": [
    "Vamos a crear un modelo polinomial utilizando el modelo polinomial de sklearn debido a que este nos permite una análisis de multivariables, con esto en cuenta procedemos a realizar la creación del modelo."
   ]
  },
  {
   "cell_type": "code",
   "execution_count": 42,
   "metadata": {},
   "outputs": [
    {
     "name": "stdout",
     "output_type": "stream",
     "text": [
      "Score extra model = 0.987657298397219\n",
      "MSE = 1.2971508997266836\n"
     ]
    }
   ],
   "source": [
    "model_extra = Pipeline([('poly', PolynomialFeatures(degree=3)),\n",
    "('linear', LinearRegression(fit_intercept=True))])\n",
    "model_extra = model_extra.fit(features,target)\n",
    "print(\"Score extra model = {}\".format(model_extra.score(features,target)))\n",
    "print(\"MSE = {}\".format(mean_squared_error(target,model_extra.predict(features))/10000000000000000000))"
   ]
  },
  {
   "cell_type": "code",
   "execution_count": 43,
   "metadata": {},
   "outputs": [
    {
     "data": {
      "text/html": [
       "\n",
       "<div id=\"altair-viz-9826d231510c4f5d803c2edaf9e66612\"></div>\n",
       "<script type=\"text/javascript\">\n",
       "  (function(spec, embedOpt){\n",
       "    let outputDiv = document.currentScript.previousElementSibling;\n",
       "    if (outputDiv.id !== \"altair-viz-9826d231510c4f5d803c2edaf9e66612\") {\n",
       "      outputDiv = document.getElementById(\"altair-viz-9826d231510c4f5d803c2edaf9e66612\");\n",
       "    }\n",
       "    const paths = {\n",
       "      \"vega\": \"https://cdn.jsdelivr.net/npm//vega@5?noext\",\n",
       "      \"vega-lib\": \"https://cdn.jsdelivr.net/npm//vega-lib?noext\",\n",
       "      \"vega-lite\": \"https://cdn.jsdelivr.net/npm//vega-lite@4.8.1?noext\",\n",
       "      \"vega-embed\": \"https://cdn.jsdelivr.net/npm//vega-embed@6?noext\",\n",
       "    };\n",
       "\n",
       "    function loadScript(lib) {\n",
       "      return new Promise(function(resolve, reject) {\n",
       "        var s = document.createElement('script');\n",
       "        s.src = paths[lib];\n",
       "        s.async = true;\n",
       "        s.onload = () => resolve(paths[lib]);\n",
       "        s.onerror = () => reject(`Error loading script: ${paths[lib]}`);\n",
       "        document.getElementsByTagName(\"head\")[0].appendChild(s);\n",
       "      });\n",
       "    }\n",
       "\n",
       "    function showError(err) {\n",
       "      outputDiv.innerHTML = `<div class=\"error\" style=\"color:red;\">${err}</div>`;\n",
       "      throw err;\n",
       "    }\n",
       "\n",
       "    function displayChart(vegaEmbed) {\n",
       "      vegaEmbed(outputDiv, spec, embedOpt)\n",
       "        .catch(err => showError(`Javascript Error: ${err.message}<br>This usually means there's a typo in your chart specification. See the javascript console for the full traceback.`));\n",
       "    }\n",
       "\n",
       "    if(typeof define === \"function\" && define.amd) {\n",
       "      requirejs.config({paths});\n",
       "      require([\"vega-embed\"], displayChart, err => showError(`Error loading script: ${err.message}`));\n",
       "    } else if (typeof vegaEmbed === \"function\") {\n",
       "      displayChart(vegaEmbed);\n",
       "    } else {\n",
       "      loadScript(\"vega\")\n",
       "        .then(() => loadScript(\"vega-lite\"))\n",
       "        .then(() => loadScript(\"vega-embed\"))\n",
       "        .catch(showError)\n",
       "        .then(() => displayChart(vegaEmbed));\n",
       "    }\n",
       "  })({\"config\": {\"view\": {\"continuousWidth\": 400, \"continuousHeight\": 300}}, \"data\": {\"name\": \"data-79e58f366eb929de6379e4cb9a3eae1a\"}, \"mark\": \"line\", \"encoding\": {\"color\": {\"type\": \"nominal\", \"field\": \"variable\"}, \"x\": {\"type\": \"quantitative\", \"field\": \"year\"}, \"y\": {\"type\": \"quantitative\", \"field\": \"value\"}}, \"title\": \"Prediction vs Real\", \"$schema\": \"https://vega.github.io/schema/vega-lite/v4.8.1.json\", \"datasets\": {\"data-79e58f366eb929de6379e4cb9a3eae1a\": [{\"year\": 1976, \"variable\": \"real\", \"value\": 9087566000.0}, {\"year\": 1977, \"variable\": \"real\", \"value\": 11021061000.0}, {\"year\": 1978, \"variable\": \"real\", \"value\": 11916787000.0}, {\"year\": 1979, \"variable\": \"real\", \"value\": 14168371000.0}, {\"year\": 1980, \"variable\": \"real\", \"value\": 17872943000.0}, {\"year\": 1981, \"variable\": \"real\", \"value\": 21800312000.0}, {\"year\": 1982, \"variable\": \"real\", \"value\": 19920300000.0}, {\"year\": 1983, \"variable\": \"real\", \"value\": 17144261000.0}, {\"year\": 1984, \"variable\": \"real\", \"value\": 16904408000.0}, {\"year\": 1985, \"variable\": \"real\", \"value\": 17140874000.0}, {\"year\": 1986, \"variable\": \"real\", \"value\": 15306803000.0}, {\"year\": 1987, \"variable\": \"real\", \"value\": 13938747000.0}, {\"year\": 1988, \"variable\": \"real\", \"value\": 13045630000.0}, {\"year\": 1989, \"variable\": \"real\", \"value\": 13884170000.0}, {\"year\": 1990, \"variable\": \"real\", \"value\": 15231973000.0}, {\"year\": 1991, \"variable\": \"real\", \"value\": 16980041000.0}, {\"year\": 1992, \"variable\": \"real\", \"value\": 18085191000.0}, {\"year\": 1993, \"variable\": \"real\", \"value\": 18929248000.0}, {\"year\": 1994, \"variable\": \"real\", \"value\": 22697319000.0}, {\"year\": 1995, \"variable\": \"real\", \"value\": 24420668000.0}, {\"year\": 1996, \"variable\": \"real\", \"value\": 25213780000.0}, {\"year\": 1997, \"variable\": \"real\", \"value\": 28147972000.0}, {\"year\": 1998, \"variable\": \"real\", \"value\": 27967906000.0}, {\"year\": 1999, \"variable\": \"real\", \"value\": 19635450000.0}, {\"year\": 2000, \"variable\": \"real\", \"value\": 18318601000.0}, {\"year\": 2001, \"variable\": \"real\", \"value\": 24468324000.0}, {\"year\": 2002, \"variable\": \"real\", \"value\": 28548945000.0}, {\"year\": 2003, \"variable\": \"real\", \"value\": 32432858000.0}, {\"year\": 2004, \"variable\": \"real\", \"value\": 36591661000.0}, {\"year\": 2005, \"variable\": \"real\", \"value\": 41507085000.0}, {\"year\": 2006, \"variable\": \"real\", \"value\": 46802044000.0}, {\"year\": 2007, \"variable\": \"real\", \"value\": 51007777000.0}, {\"year\": 2008, \"variable\": \"real\", \"value\": 61762635000.0}, {\"year\": 2009, \"variable\": \"real\", \"value\": 62519686000.0}, {\"year\": 2010, \"variable\": \"real\", \"value\": 69555367000.0}, {\"year\": 2011, \"variable\": \"real\", \"value\": 79276664000.0}, {\"year\": 2012, \"variable\": \"real\", \"value\": 87924544000.0}, {\"year\": 2013, \"variable\": \"real\", \"value\": 95129659000.0}, {\"year\": 2014, \"variable\": \"real\", \"value\": 101726331000.0}, {\"year\": 2015, \"variable\": \"real\", \"value\": 99290381000.0}, {\"year\": 2016, \"variable\": \"real\", \"value\": 99937696000.0}, {\"year\": 2017, \"variable\": \"real\", \"value\": 104295862000.0}, {\"year\": 2018, \"variable\": \"real\", \"value\": 107562008000.0}, {\"year\": 2019, \"variable\": \"real\", \"value\": 107435665000.0}, {\"year\": 1976, \"variable\": \"predict\", \"value\": 11660357158.693153}, {\"year\": 1977, \"variable\": \"predict\", \"value\": 12598127198.430183}, {\"year\": 1978, \"variable\": \"predict\", \"value\": 13052459423.32985}, {\"year\": 1979, \"variable\": \"predict\", \"value\": 14071610242.133568}, {\"year\": 1980, \"variable\": \"predict\", \"value\": 15488384680.60276}, {\"year\": 1981, \"variable\": \"predict\", \"value\": 15871111144.112541}, {\"year\": 1982, \"variable\": \"predict\", \"value\": 16421393238.309807}, {\"year\": 1983, \"variable\": \"predict\", \"value\": 14465106444.420692}, {\"year\": 1984, \"variable\": \"predict\", \"value\": 14677130326.078514}, {\"year\": 1985, \"variable\": \"predict\", \"value\": 15094381048.17324}, {\"year\": 1986, \"variable\": \"predict\", \"value\": 14603351160.397102}, {\"year\": 1987, \"variable\": \"predict\", \"value\": 15263277394.664146}, {\"year\": 1988, \"variable\": \"predict\", \"value\": 15539235688.97979}, {\"year\": 1989, \"variable\": \"predict\", \"value\": 16538259832.21708}, {\"year\": 1990, \"variable\": \"predict\", \"value\": 16843272842.041649}, {\"year\": 1991, \"variable\": \"predict\", \"value\": 17915517875.832405}, {\"year\": 1992, \"variable\": \"predict\", \"value\": 18455463287.792244}, {\"year\": 1993, \"variable\": \"predict\", \"value\": 19366181341.578194}, {\"year\": 1994, \"variable\": \"predict\", \"value\": 21894216664.442116}, {\"year\": 1995, \"variable\": \"predict\", \"value\": 23756568299.449257}, {\"year\": 1996, \"variable\": \"predict\", \"value\": 23422154808.494667}, {\"year\": 1997, \"variable\": \"predict\", \"value\": 25993321779.98844}, {\"year\": 1998, \"variable\": \"predict\", \"value\": 24801821462.01316}, {\"year\": 1999, \"variable\": \"predict\", \"value\": 22181068593.0196}, {\"year\": 2000, \"variable\": \"predict\", \"value\": 24216558696.41221}, {\"year\": 2001, \"variable\": \"predict\", \"value\": 26555475794.835976}, {\"year\": 2002, \"variable\": \"predict\", \"value\": 28556562080.712624}, {\"year\": 2003, \"variable\": \"predict\", \"value\": 31742983130.890724}, {\"year\": 2004, \"variable\": \"predict\", \"value\": 37099356423.59739}, {\"year\": 2005, \"variable\": \"predict\", \"value\": 44443853429.109474}, {\"year\": 2006, \"variable\": \"predict\", \"value\": 49710793651.5366}, {\"year\": 2007, \"variable\": \"predict\", \"value\": 53982671665.70774}, {\"year\": 2008, \"variable\": \"predict\", \"value\": 60922414425.44553}, {\"year\": 2009, \"variable\": \"predict\", \"value\": 62570610335.44236}, {\"year\": 2010, \"variable\": \"predict\", \"value\": 74027629806.30832}, {\"year\": 2011, \"variable\": \"predict\", \"value\": 83965245993.21945}, {\"year\": 2012, \"variable\": \"predict\", \"value\": 85314777550.44797}, {\"year\": 2013, \"variable\": \"predict\", \"value\": 95804375372.83078}, {\"year\": 2014, \"variable\": \"predict\", \"value\": 97914595877.02414}, {\"year\": 2015, \"variable\": \"predict\", \"value\": 93092981453.64719}, {\"year\": 2016, \"variable\": \"predict\", \"value\": 86945678150.05637}, {\"year\": 2017, \"variable\": \"predict\", \"value\": 100884380233.35422}, {\"year\": 2018, \"variable\": \"predict\", \"value\": 113653859672.7136}, {\"year\": 2019, \"variable\": \"predict\", \"value\": 115176998321.49191}]}}, {\"mode\": \"vega-lite\"});\n",
       "</script>"
      ],
      "text/plain": [
       "alt.Chart(...)"
      ]
     },
     "execution_count": 43,
     "metadata": {},
     "output_type": "execute_result"
    }
   ],
   "source": [
    "predict_extra = pd.DataFrame({'year':df['year'].values.reshape(-1),'real':target.values,'predict':model_extra.predict(features)})\n",
    "alt.Chart(predict_extra.melt('year')).mark_line().encode(\n",
    "    x='year',\n",
    "    y='value',\n",
    "    color='variable'\n",
    ").properties(title='Prediction vs Real')"
   ]
  },
  {
   "cell_type": "markdown",
   "metadata": {},
   "source": [
    "Como podemos apreciar en los resultados, el valor de MSE baja drasticamente, así como su score también sube. Asi mismo podemos darnos cuenta que las prédicciones con respecto a los valores reales del PIB, tienden a ajustarse mucho mejor que en los modelos anteriores. Con esto en cuenta procederemos a hacer una predicción para el año **2020**. Para realizar esta predicción tomamos en cuenta los valores de exportación e importación obtenidos por <a href='https://datosmacro.expansion.com/comercio/importaciones/ecuador'>datosmacro</a>."
   ]
  },
  {
   "cell_type": "code",
   "execution_count": 44,
   "metadata": {},
   "outputs": [
    {
     "data": {
      "text/html": [
       "<div>\n",
       "<style scoped>\n",
       "    .dataframe tbody tr th:only-of-type {\n",
       "        vertical-align: middle;\n",
       "    }\n",
       "\n",
       "    .dataframe tbody tr th {\n",
       "        vertical-align: top;\n",
       "    }\n",
       "\n",
       "    .dataframe thead th {\n",
       "        text-align: right;\n",
       "    }\n",
       "</style>\n",
       "<table border=\"1\" class=\"dataframe\">\n",
       "  <thead>\n",
       "    <tr style=\"text-align: right;\">\n",
       "      <th></th>\n",
       "      <th>year</th>\n",
       "      <th>value_pib</th>\n",
       "    </tr>\n",
       "  </thead>\n",
       "  <tbody>\n",
       "    <tr>\n",
       "      <th>0</th>\n",
       "      <td>2020</td>\n",
       "      <td>98,706,498,476.54</td>\n",
       "    </tr>\n",
       "  </tbody>\n",
       "</table>\n",
       "</div>"
      ],
      "text/plain": [
       "   year         value_pib\n",
       "0  2020 98,706,498,476.54"
      ]
     },
     "execution_count": 44,
     "metadata": {},
     "output_type": "execute_result"
    }
   ],
   "source": [
    "lista = np.array([2020,20226245000.00,17959092000.00]).reshape(1,-1)\n",
    "pd.DataFrame({'year':'2020','value_pib':model_extra.predict(lista)},index=[0])"
   ]
  },
  {
   "cell_type": "markdown",
   "metadata": {},
   "source": [
    "Con esta predicción podemos notar que el valor del PIB en el año 2020 sera de <strong>98,70</strong> millones de dolares. Una predicción es casi similar al verdadero valor del PIB del Ecuador en el año 2020 el cual es de <strong>98,80</strong> millones de dolares. Lo cual afirma nuestra hipótesis de que se necesitan más características para mejorar la predicción del **PIB**."
   ]
  },
  {
   "cell_type": "markdown",
   "metadata": {},
   "source": [
    "----------------------------------"
   ]
  },
  {
   "cell_type": "markdown",
   "metadata": {},
   "source": [
    "<h2 style=\"color:yellowgreen\">Conclusiones</h2>"
   ]
  },
  {
   "cell_type": "markdown",
   "metadata": {},
   "source": [
    "Como hemos visto a lo largo de este informe, hemos notado que el modelo de regresión es una buena opción para predecir valores cambiantes en el tiempo, sin embargo, también notamos que dependiendo de lo que vayamos a predecir, deberemos tomar en cuenta varias características para lograr una mejor predicción ya que caso contrario podriamos dar malos resultados y empeorar una situación cuando se lo realice en un mundo empresarial. El PIB es un valor complejo de calcular y por lo tanto de predecir, y dicho valor dependera de varios factores como lo hemos visto, sin embargo, es necesario la ayuda de un experto con el fin de saber el comportamiento del PIB en el país y como se comportan sus características en el mundo."
   ]
  },
  {
   "cell_type": "markdown",
   "metadata": {},
   "source": [
    "----------------------"
   ]
  },
  {
   "cell_type": "markdown",
   "metadata": {},
   "source": [
    "<h2 style=\"color:yellowgreen\">Recursos</h2>"
   ]
  },
  {
   "cell_type": "markdown",
   "metadata": {},
   "source": [
    "* **banco mundial:** https://datos.bancomundial.org/\n",
    "* **datosmacro:**  https://datosmacro.expansion.com/comercio/importaciones/ecuador"
   ]
  }
 ],
 "metadata": {
  "kernelspec": {
   "display_name": "Python 3",
   "language": "python",
   "name": "python3"
  },
  "language_info": {
   "codemirror_mode": {
    "name": "ipython",
    "version": 3
   },
   "file_extension": ".py",
   "mimetype": "text/x-python",
   "name": "python",
   "nbconvert_exporter": "python",
   "pygments_lexer": "ipython3",
   "version": "3.8.3"
  }
 },
 "nbformat": 4,
 "nbformat_minor": 4
}
