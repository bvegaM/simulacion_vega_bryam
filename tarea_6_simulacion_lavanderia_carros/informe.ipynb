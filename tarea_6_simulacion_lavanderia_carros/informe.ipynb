{
 "cells": [
  {
   "cell_type": "markdown",
   "id": "66e4b1bd",
   "metadata": {},
   "source": [
    "<img src=\"https://www.universidades.com.ec/logos/original/logo-universidad-politecnica-salesiana.png\" style=\"margin: 0 auto\"/>"
   ]
  },
  {
   "cell_type": "markdown",
   "id": "2476b3b7",
   "metadata": {
    "hide_input": true
   },
   "source": [
    "<h1 style=\"text-align:center;color: darkblue\">Simulación de eventos discretos - Car wash</h1>\n",
    "<ul style=\"text-align:center;list-style:none\">\n",
    "    <li><strong>Autor: </strong> Bryam David Vega Moreno</li>\n",
    "    <li><strong>Maestro: </strong> Diego Quisi</li>\n",
    "    <li><strong>Materia: </strong> Simulación</li>\n",
    "    <li><strong>Universidad: </strong> Universidad Politécnica Salesiana</li>\n",
    "    <li><strong>Carrera: </strong> Ciencias de la computación</li>\n",
    "</ul>\n",
    "\n",
    "\n",
    "<h2 style=\"color:yellowgreen\">Introducción</h2>\n",
    "\n",
    "![carwash](https://parksol.lt/wp-content/uploads/2020/08/Case-study-carwash.png)\n",
    "\n",
    "En el presente trabajo se procedera a realizar la simulación de un evento a traves de una ejemplificación de lavado de carros mediante máquinas con la finalidad de entender como funciona la simulación con simpy y sus procesos.\n",
    "\n",
    "<h2 style=\"color:yellowgreen\">Enunciado</h2>\n",
    "\n",
    "Este ejemplo permite simular un negocio de car wash. De igual forma, es importante destacar que este ejemplo aborda los siguientes puntos:\n",
    "\n",
    "* Estados de espera por otros procesos\n",
    "* Recursos: clase **Resource**\n",
    "\n",
    "<h2 style=\"color:yellowgreen\">Características del sistema real a simular</h2>\n",
    "\n",
    "Es importante observar que el negocio de lavado de autos tiene características propias a su naturaleza. A continuación establecemos dichas peculiaridades a tener en mente en el momento de llevar a cabo la simulación:\n",
    "\n",
    "* El negocio tiene un número limitado de máquinas de lavado.\n",
    "* Se puede recibir un cierto número de vehículos para ser lavados, de los cuáles los que no estén siendo procesados tendrán que esperar.\n",
    "* Una vez que un vehículo entra a la máquina, debe ser lavado y solo al finalizar la limpieza podrá salir de la misma, dejando un espacio libre a otro vehículo.\n",
    "\n",
    "-------------------------"
   ]
  },
  {
   "cell_type": "markdown",
   "id": "96454caa",
   "metadata": {
    "hide_input": false
   },
   "source": [
    "<h1 style=\"color: darkblue\">Desarrollo de la simulación</h1>\n",
    "\n",
    "En este desarrollo tomaremo en cuenta las variables de interes que necesita nuestro sistema de simulación para que trabaje correctamente, de la misma manera realizaremos la programación explicando cada uno de los procesos."
   ]
  },
  {
   "cell_type": "markdown",
   "id": "48c09cf7",
   "metadata": {},
   "source": [
    "<h2 style=\"color:yellowgreen\">Importar librerías</h2>\n",
    "\n",
    "Importamos las librerías necesarias para desarrollar el proyecto de simulación"
   ]
  },
  {
   "cell_type": "code",
   "execution_count": 1,
   "id": "03b60bda",
   "metadata": {},
   "outputs": [],
   "source": [
    "import numpy\n",
    "import random\n",
    "import simpy"
   ]
  },
  {
   "cell_type": "markdown",
   "id": "c347fd00",
   "metadata": {},
   "source": [
    "<h2 style=\"color:yellowgreen\">Variables de interes</h2>\n",
    "\n",
    "En este caso hemos decidido utilizar las siguientes variables de interes\n",
    "\n",
    "* **máximo de vehiculos:** Numero máximo de vehiculos que puede recibir el local\n",
    "* **tiempo de simulación:** Tiempo en que se tardara la simulación\n",
    "* **tiempo de lavado:** Tiempo de lavado del vehículo\n",
    "* **intervalo de llegada:** Intervalo del tiempo en el que llegan vehiculos\n",
    "* **número de máquinas:** Máquinas que proceden a realizar el lavado al vehículo\n",
    "\n",
    "Con estas variables de interes procedemos a realizar el proceso de inicializarlas con valores:"
   ]
  },
  {
   "cell_type": "code",
   "execution_count": 2,
   "id": "5c01e17d",
   "metadata": {},
   "outputs": [],
   "source": [
    "MAX_VEHICULOS     = 57 \n",
    "NUM_MAQUINAS      = 3\n",
    "TIEMPO_LAVADO     = 7 \n",
    "INTERVALO_LLEGADA = 9\n",
    "TIEMPO_SIMULACION = 23"
   ]
  },
  {
   "cell_type": "markdown",
   "id": "a4dc142f",
   "metadata": {},
   "source": [
    "<h2 style=\"color:yellowgreen\">Desarrollar las clases para la simulación</h2>\n",
    "\n",
    "Para esta práctica vamos a contrar con las siguientes clases:\n",
    "* **Lavanderia :** Ejecutra los procesos nomrales de la lavandería\n",
    "* **Simulacion :** Ejecuta el proceso de simulación"
   ]
  },
  {
   "cell_type": "code",
   "execution_count": 3,
   "id": "780b89f3",
   "metadata": {
    "hide_input": false
   },
   "outputs": [],
   "source": [
    "class Lavanderia():\n",
    "    \n",
    "    def __init__ (self,enviroment,num_maquinas,tiempo_lavado):\n",
    "        self.env = enviroment\n",
    "        self.maquinas = simpy.Resource(enviroment, num_maquinas)\n",
    "        self.tiempo_lavado = tiempo_lavado\n",
    "     \n",
    "    def lavar_vehiculo(self,vehiculo):\n",
    "        yield self.env.timeout(TIEMPO_LAVADO)\n",
    "        print(\"Lavando el vehículo {}\".format(vehiculo))\n",
    "    \n",
    "    def llegada_vehiculo(self,vehiculo):\n",
    "        print('Llega vehiculo: %s a la hora %.2f.' % (vehiculo, self.env.now))\n",
    "        with self.maquinas.request() as maquina:\n",
    "            yield maquina\n",
    "            print('Entra vehiculo a lavarse: %s a la hora %.2f.' % (vehiculo, env.now))\n",
    "            yield env.process(self.lavar_vehiculo(vehiculo))\n",
    "            print('Vehiculo [%s] lavado a las %.2f.' % (vehiculo, env.now))\n",
    "    \n",
    "\n",
    "class Simulacion():\n",
    "    \n",
    "    def __init__(self,inicial):\n",
    "        self.inicial = inicial\n",
    "    \n",
    "    def ejecutar_simulacion(self,env, num_maquinas, tiempo_lavado, intervalo):\n",
    "        lavanderia=Lavanderia(env, num_maquinas, tiempo_lavado)\n",
    "        self.inicializar_vehiculos(env,lavanderia)\n",
    "        while True:\n",
    "            yield env.timeout(random.randint(intervalo-2, intervalo+2))\n",
    "            self.inicial+=1\n",
    "            env.process(lavanderia.llegada_vehiculo('Vehiculo-%d'%(self.inicial)))\n",
    "    \n",
    "    \n",
    "    def inicializar_vehiculos(self,env,lavanderia):\n",
    "        for i in range(self.inicial):\n",
    "            env.process(lavanderia.llegada_vehiculo('Vehiculo-%d'%(i+1)))\n"
   ]
  },
  {
   "cell_type": "code",
   "execution_count": 4,
   "id": "4df6fc41",
   "metadata": {
    "scrolled": false
   },
   "outputs": [
    {
     "name": "stdout",
     "output_type": "stream",
     "text": [
      "********** Lavanderia Vega Simulación **********\n",
      "Llega vehiculo: Vehiculo-1 a la hora 0.00.\n",
      "Llega vehiculo: Vehiculo-2 a la hora 0.00.\n",
      "Llega vehiculo: Vehiculo-3 a la hora 0.00.\n",
      "Entra vehiculo a lavarse: Vehiculo-1 a la hora 0.00.\n",
      "Entra vehiculo a lavarse: Vehiculo-2 a la hora 0.00.\n",
      "Entra vehiculo a lavarse: Vehiculo-3 a la hora 0.00.\n",
      "Lavando el vehículo Vehiculo-1\n",
      "Lavando el vehículo Vehiculo-2\n",
      "Lavando el vehículo Vehiculo-3\n",
      "Vehiculo [Vehiculo-1] lavado a las 7.00.\n",
      "Vehiculo [Vehiculo-2] lavado a las 7.00.\n",
      "Vehiculo [Vehiculo-3] lavado a las 7.00.\n",
      "Llega vehiculo: Vehiculo-4 a la hora 9.00.\n",
      "Entra vehiculo a lavarse: Vehiculo-4 a la hora 9.00.\n",
      "Lavando el vehículo Vehiculo-4\n",
      "Vehiculo [Vehiculo-4] lavado a las 16.00.\n",
      "Llega vehiculo: Vehiculo-5 a la hora 18.00.\n",
      "Entra vehiculo a lavarse: Vehiculo-5 a la hora 18.00.\n"
     ]
    }
   ],
   "source": [
    "print('*'*10,'Lavanderia Vega Simulación','*'*10)\n",
    "random.seed(77)\n",
    "\n",
    "env=simpy.Environment()\n",
    "simulacion = Simulacion(3)\n",
    "env.process(simulacion.ejecutar_simulacion(env, NUM_MAQUINAS, TIEMPO_LAVADO, INTERVALO_LLEGADA))\n",
    "env.run(until = TIEMPO_SIMULACION)"
   ]
  },
  {
   "cell_type": "markdown",
   "id": "f4df3cc7",
   "metadata": {},
   "source": [
    "Como podemos apreciar, esta la simulación básica de un lavado de carro, ahora, vamos a realizar otros procesos, con el fin de ir detallando de mejor manera la simulación y que sea un poco más real"
   ]
  },
  {
   "cell_type": "markdown",
   "id": "99967538",
   "metadata": {},
   "source": [
    "<h3 style=\"color:orange\">Agregar un tiempo de espera entre la llegada del vehiculo y la llegada a la maquina de lavado con un intervalo (1,5)</h3>\n",
    "\n",
    "Procedemos a crear un método que nos permita saber el tiempo que se demorará el vehículo en llegar a la máquina de lavado a partir de su llegada inicial. Por tanto debemos modificar la clase Lavandería indicando un número aleatorio de 1 a 5 con la finalidad de tener una mayor realidad en la simulación ya que los vehiculos pueden demorarse en llegar a la maquina en diferentes tiempos."
   ]
  },
  {
   "cell_type": "code",
   "execution_count": 5,
   "id": "5eca581b",
   "metadata": {
    "hide_input": false
   },
   "outputs": [],
   "source": [
    "class Lavanderia():\n",
    "    \n",
    "    def __init__ (self,enviroment,num_maquinas,tiempo_lavado):\n",
    "        self.env = enviroment\n",
    "        self.maquinas = simpy.Resource(enviroment, num_maquinas)\n",
    "        self.tiempo_lavado = tiempo_lavado\n",
    "     \n",
    "    def lavar_vehiculo(self,vehiculo):\n",
    "        yield self.env.timeout(TIEMPO_LAVADO)\n",
    "        print(\"Lavando el vehículo {}\".format(vehiculo))\n",
    "    \n",
    "    def llegada_al_lavado(self,vehiculo,espera):\n",
    "        yield self.env.timeout(espera)\n",
    "    \n",
    "    def llegada_vehiculo(self,vehiculo):\n",
    "        with self.maquinas.request() as maquina:\n",
    "            yield maquina\n",
    "            \n",
    "            espera = random.randint(1,5)\n",
    "            yield env.process(self.llegada_al_lavado(vehiculo,espera))\n",
    "            \n",
    "            print('Vehiculo empieza transporte: %s a la hora %.2f.'% (vehiculo, env.now-(espera)))\n",
    "            print('Entra vehiculo a lavarse: %s a la hora %.2f.' % (vehiculo, env.now))\n",
    "            \n",
    "            yield env.process(self.lavar_vehiculo(vehiculo))\n",
    "            print('Vehiculo [%s] lavado a las %.2f.' % (vehiculo, env.now))"
   ]
  },
  {
   "cell_type": "code",
   "execution_count": 6,
   "id": "6c56df06",
   "metadata": {},
   "outputs": [
    {
     "name": "stdout",
     "output_type": "stream",
     "text": [
      "********** Lavanderia Vega Simulación **********\n",
      "Vehiculo empieza transporte: Vehiculo-2 a la hora 0.00.\n",
      "Entra vehiculo a lavarse: Vehiculo-2 a la hora 2.00.\n",
      "Vehiculo empieza transporte: Vehiculo-3 a la hora 0.00.\n",
      "Entra vehiculo a lavarse: Vehiculo-3 a la hora 2.00.\n",
      "Vehiculo empieza transporte: Vehiculo-1 a la hora 0.00.\n",
      "Entra vehiculo a lavarse: Vehiculo-1 a la hora 3.00.\n",
      "Lavando el vehículo Vehiculo-2\n",
      "Lavando el vehículo Vehiculo-3\n",
      "Vehiculo [Vehiculo-2] lavado a las 9.00.\n",
      "Vehiculo [Vehiculo-3] lavado a las 9.00.\n",
      "Lavando el vehículo Vehiculo-1\n",
      "Vehiculo [Vehiculo-1] lavado a las 10.00.\n",
      "Vehiculo empieza transporte: Vehiculo-4 a la hora 9.00.\n",
      "Entra vehiculo a lavarse: Vehiculo-4 a la hora 10.00.\n",
      "Vehiculo empieza transporte: Vehiculo-5 a la hora 9.00.\n",
      "Entra vehiculo a lavarse: Vehiculo-5 a la hora 12.00.\n",
      "Vehiculo empieza transporte: Vehiculo-6 a la hora 10.00.\n",
      "Entra vehiculo a lavarse: Vehiculo-6 a la hora 14.00.\n",
      "Lavando el vehículo Vehiculo-4\n",
      "Vehiculo [Vehiculo-4] lavado a las 17.00.\n",
      "Lavando el vehículo Vehiculo-5\n",
      "Vehiculo [Vehiculo-5] lavado a las 19.00.\n",
      "Lavando el vehículo Vehiculo-6\n",
      "Vehiculo [Vehiculo-6] lavado a las 21.00.\n",
      "Vehiculo empieza transporte: Vehiculo-7 a la hora 17.00.\n",
      "Entra vehiculo a lavarse: Vehiculo-7 a la hora 22.00.\n"
     ]
    }
   ],
   "source": [
    "print('*'*10,'Lavanderia Vega Simulación','*'*10)\n",
    "random.seed(77)\n",
    "\n",
    "env=simpy.Environment()\n",
    "simulacion = Simulacion(5)\n",
    "env.process(simulacion.ejecutar_simulacion(env, NUM_MAQUINAS, TIEMPO_LAVADO, INTERVALO_LLEGADA))\n",
    "env.run(until = TIEMPO_SIMULACION)"
   ]
  },
  {
   "cell_type": "markdown",
   "id": "2bd4bb75",
   "metadata": {},
   "source": [
    "Como podemos notar, ahora que tenemos el tiempo en el que el vehículo tarda en llegar a la máquina, podemos notar claramente como ahora los vehículos no llegan a la vez ya que su tiempo es aleatorio. Sin embargo, sería bueno identificar la máquina que cada vehīculo esta ocupando con la finalidad de tener más detalle de la simulación.\n"
   ]
  },
  {
   "cell_type": "markdown",
   "id": "b094493a",
   "metadata": {},
   "source": [
    "<h3 style=\"color:orange\">Identificar el número de máquina dentro de cada proceso</h3>\n",
    "\n",
    "Es importante saber en que máquina se encuentra nuestro vehículo con la finalidad de poder saber a que máquina entra un nuevo vehículo y cual se desocupa. Para ello igualmente modificaremos la clase de Lavandería"
   ]
  },
  {
   "cell_type": "code",
   "execution_count": 7,
   "id": "dc8afb10",
   "metadata": {},
   "outputs": [],
   "source": [
    "class Lavanderia():\n",
    "    \n",
    "    def __init__ (self,enviroment,num_maquinas,tiempo_lavado):\n",
    "        self.env = enviroment\n",
    "        self.maquinas = simpy.Resource(enviroment, num_maquinas)\n",
    "        self.tiempo_lavado = tiempo_lavado\n",
    "        self.maquinas_uso = {'machine_{}'.format(i+1):False for i in range(num_maquinas)}\n",
    "    \n",
    "     \n",
    "    def lavar_vehiculo(self,vehiculo):\n",
    "        yield self.env.timeout(TIEMPO_LAVADO)\n",
    "        print(\"Lavando el vehículo {}\".format(vehiculo))\n",
    "    \n",
    "    def llegada_al_lavado(self,vehiculo,espera):\n",
    "        yield self.env.timeout(espera)\n",
    "    \n",
    "    def usar_maquina(self):\n",
    "        maquina_nombre=''\n",
    "        for maquina in self.maquinas_uso.items():\n",
    "            if(maquina[1]==False):\n",
    "                self.maquinas_uso[maquina[0]]=True\n",
    "                maquina_nombre=maquina[0]\n",
    "                break\n",
    "        return maquina_nombre\n",
    "    \n",
    "    def desocupar_maquina(self,key):\n",
    "        self.maquinas_uso[key]=False\n",
    "    \n",
    "    def llegada_vehiculo(self,vehiculo):\n",
    "        with self.maquinas.request() as maquina:\n",
    "            yield maquina\n",
    "            maquina_nombre = self.usar_maquina()\n",
    "            espera = random.randint(1,5)\n",
    "            yield env.process(self.llegada_al_lavado(vehiculo,espera))\n",
    "            print('Vehiculo empieza transporte en la maquina %s: %s a la hora %.2f.'% (maquina_nombre,vehiculo, env.now-(espera)))\n",
    "            print('Entra vehiculo a lavarse: %s a la hora %.2f.' % (vehiculo, env.now))\n",
    "            \n",
    "            yield env.process(self.lavar_vehiculo(vehiculo))\n",
    "            self.desocupar_maquina(maquina_nombre)\n",
    "            print('Vehiculo [%s] lavado en la %s a las %.2f.' % (vehiculo,maquina_nombre, env.now))"
   ]
  },
  {
   "cell_type": "code",
   "execution_count": 8,
   "id": "157c7f0d",
   "metadata": {},
   "outputs": [
    {
     "name": "stdout",
     "output_type": "stream",
     "text": [
      "********** Lavanderia Vega Simulación **********\n",
      "Vehiculo empieza transporte en la maquina machine_2: Vehiculo-2 a la hora 0.00.\n",
      "Entra vehiculo a lavarse: Vehiculo-2 a la hora 2.00.\n",
      "Vehiculo empieza transporte en la maquina machine_3: Vehiculo-3 a la hora 0.00.\n",
      "Entra vehiculo a lavarse: Vehiculo-3 a la hora 2.00.\n",
      "Vehiculo empieza transporte en la maquina machine_1: Vehiculo-1 a la hora 0.00.\n",
      "Entra vehiculo a lavarse: Vehiculo-1 a la hora 3.00.\n",
      "Lavando el vehículo Vehiculo-2\n",
      "Lavando el vehículo Vehiculo-3\n",
      "Vehiculo [Vehiculo-2] lavado en la machine_2 a las 9.00.\n",
      "Vehiculo [Vehiculo-3] lavado en la machine_3 a las 9.00.\n",
      "Lavando el vehículo Vehiculo-1\n",
      "Vehiculo [Vehiculo-1] lavado en la machine_1 a las 10.00.\n",
      "Vehiculo empieza transporte en la maquina machine_2: Vehiculo-4 a la hora 9.00.\n",
      "Entra vehiculo a lavarse: Vehiculo-4 a la hora 10.00.\n",
      "Lavando el vehículo Vehiculo-4\n",
      "Vehiculo [Vehiculo-4] lavado en la machine_2 a las 17.00.\n",
      "Vehiculo empieza transporte en la maquina machine_1: Vehiculo-5 a la hora 17.00.\n",
      "Entra vehiculo a lavarse: Vehiculo-5 a la hora 21.00.\n"
     ]
    }
   ],
   "source": [
    "print('*'*10,'Lavanderia Vega Simulación','*'*10)\n",
    "random.seed(77)\n",
    "\n",
    "env=simpy.Environment()\n",
    "simulacion = Simulacion(3)\n",
    "env.process(simulacion.ejecutar_simulacion(env, NUM_MAQUINAS, TIEMPO_LAVADO, INTERVALO_LLEGADA))\n",
    "env.run(until = TIEMPO_SIMULACION)"
   ]
  },
  {
   "cell_type": "markdown",
   "id": "07c6ff23",
   "metadata": {},
   "source": [
    "Como nos podemos dar cuenta, ahora se puede identificar a que máquina entra cada vehículo con la finalidad de ver a más detalle lo que sucede. Sin embargo, podemos detallar a un más, indicando el tiempo en el que el vehículo se demora en salir del local una vez que acabo de ser lavado en la máquina."
   ]
  },
  {
   "cell_type": "markdown",
   "id": "556297cc",
   "metadata": {},
   "source": [
    "<h3 style=\"color:orange\">Agregar y modificar el tiempo de salir de la máquina a la puerta principal del negocio con un intervalo (2,5)</h3>\n",
    "\n",
    "Como explicamos antes, tenemos que tomar en cuenta que una vez que el auto se acabo de lavar, tiene que salir del local y por lo tanto habrá cierto tiempo de espera entre la máquina y la salida, por esa razón eso se debe simular. Para ello modificamos la clase Lavanderia nuevamente"
   ]
  },
  {
   "cell_type": "code",
   "execution_count": 9,
   "id": "d5fe775a",
   "metadata": {},
   "outputs": [],
   "source": [
    "class Lavanderia():\n",
    "    \n",
    "    def __init__ (self,enviroment,num_maquinas,tiempo_lavado):\n",
    "        self.env = enviroment\n",
    "        self.maquinas = simpy.Resource(enviroment, num_maquinas)\n",
    "        self.tiempo_lavado = tiempo_lavado\n",
    "        self.maquinas_uso = {'machine_{}'.format(i+1):False for i in range(num_maquinas)}\n",
    "    \n",
    "     \n",
    "    def lavar_vehiculo(self,vehiculo):\n",
    "        yield self.env.timeout(TIEMPO_LAVADO)\n",
    "        print(\"Lavando el vehículo {}\".format(vehiculo))\n",
    "    \n",
    "    def llegada_al_lavado(self,vehiculo,espera):\n",
    "        yield self.env.timeout(espera)\n",
    "    \n",
    "    def salida_local(self,espera):\n",
    "        yield self.env.timeout(espera)\n",
    "        \n",
    "    def usar_maquina(self):\n",
    "        maquina_nombre=''\n",
    "        for maquina in self.maquinas_uso.items():\n",
    "            if(maquina[1]==False):\n",
    "                self.maquinas_uso[maquina[0]]=True\n",
    "                maquina_nombre=maquina[0]\n",
    "                break\n",
    "        return maquina_nombre\n",
    "    \n",
    "    def desocupar_maquina(self,key):\n",
    "        self.maquinas_uso[key]=False\n",
    "    \n",
    "    def llegada_vehiculo(self,vehiculo):\n",
    "        with self.maquinas.request() as maquina:\n",
    "            yield maquina\n",
    "            maquina_nombre = self.usar_maquina()\n",
    "            espera = random.randint(1,5)\n",
    "            yield env.process(self.llegada_al_lavado(vehiculo,espera))\n",
    "            print('Vehiculo empieza transporte en la maquina %s: %s a la hora %.2f.'% (maquina_nombre,vehiculo, env.now-(espera)))\n",
    "            print('Entra vehiculo a lavarse: %s a la hora %.2f.' % (vehiculo, env.now))\n",
    "            \n",
    "            yield env.process(self.lavar_vehiculo(vehiculo))\n",
    "            self.desocupar_maquina(maquina_nombre)        \n",
    "            print('Vehiculo [%s] lavado en la %s a las %.2f.' % (vehiculo,maquina_nombre, env.now))\n",
    "            salida = random.randint(2,5)\n",
    "            yield env.process(self.salida_local(salida))\n",
    "            print('Vehiculo empieza transporte a la salida : %s a la hora %.2f.'% (vehiculo, env.now-(salida)))\n",
    "            print('Vehiculo  sale : %s a la hora %.2f.'% (vehiculo, env.now))"
   ]
  },
  {
   "cell_type": "code",
   "execution_count": 10,
   "id": "22133d6f",
   "metadata": {},
   "outputs": [
    {
     "name": "stdout",
     "output_type": "stream",
     "text": [
      "********** Lavanderia Vega Simulación **********\n",
      "Vehiculo empieza transporte en la maquina machine_2: Vehiculo-2 a la hora 0.00.\n",
      "Entra vehiculo a lavarse: Vehiculo-2 a la hora 2.00.\n",
      "Vehiculo empieza transporte en la maquina machine_3: Vehiculo-3 a la hora 0.00.\n",
      "Entra vehiculo a lavarse: Vehiculo-3 a la hora 2.00.\n",
      "Vehiculo empieza transporte en la maquina machine_1: Vehiculo-1 a la hora 0.00.\n",
      "Entra vehiculo a lavarse: Vehiculo-1 a la hora 3.00.\n",
      "Lavando el vehículo Vehiculo-2\n",
      "Lavando el vehículo Vehiculo-3\n",
      "Vehiculo [Vehiculo-2] lavado en la machine_2 a las 9.00.\n",
      "Vehiculo [Vehiculo-3] lavado en la machine_3 a las 9.00.\n",
      "Lavando el vehículo Vehiculo-1\n",
      "Vehiculo [Vehiculo-1] lavado en la machine_1 a las 10.00.\n",
      "Vehiculo empieza transporte a la salida : Vehiculo-2 a la hora 9.00.\n",
      "Vehiculo  sale : Vehiculo-2 a la hora 11.00.\n",
      "Vehiculo empieza transporte a la salida : Vehiculo-3 a la hora 9.00.\n",
      "Vehiculo  sale : Vehiculo-3 a la hora 13.00.\n",
      "Vehiculo empieza transporte a la salida : Vehiculo-1 a la hora 10.00.\n",
      "Vehiculo  sale : Vehiculo-1 a la hora 15.00.\n",
      "Vehiculo empieza transporte en la maquina machine_1: Vehiculo-4 a la hora 11.00.\n",
      "Entra vehiculo a lavarse: Vehiculo-4 a la hora 16.00.\n",
      "Vehiculo empieza transporte en la maquina machine_2: Vehiculo-5 a la hora 17.00.\n",
      "Entra vehiculo a lavarse: Vehiculo-5 a la hora 19.00.\n"
     ]
    }
   ],
   "source": [
    "print('*'*10,'Lavanderia Vega Simulación','*'*10)\n",
    "random.seed(77)\n",
    "\n",
    "env=simpy.Environment()\n",
    "simulacion = Simulacion(3)\n",
    "env.process(simulacion.ejecutar_simulacion(env, NUM_MAQUINAS, TIEMPO_LAVADO, INTERVALO_LLEGADA))\n",
    "env.run(until = TIEMPO_SIMULACION)"
   ]
  },
  {
   "cell_type": "markdown",
   "id": "35c242c1",
   "metadata": {},
   "source": [
    "Como podemos darnos cuenta, ahora se tiene simulado la salida del local del los vehículos, con esto hemos detallado mucho más nuestra simulación, ahora nos faltaría realizar una simulación del tiempo aleatorio del lavado ya que estamos poniendo tiempos iguales, sin embargo, esto podría varias dependiendo del vehículo, por lo que es necesario poner un randomico en el tiempo de lavado."
   ]
  },
  {
   "cell_type": "markdown",
   "id": "b64e1a19",
   "metadata": {},
   "source": [
    "<h3 style=\"color:orange\">Modificar el tiempo de lavado entre 5 y 11</h3>\n",
    "\n",
    "En esta ocasión vamos a realizar un ultimo ajuste a nuestra simulación realizando un cambio en el tiempo de lavado. Para ello realizamos el cambio en la clase lavandería."
   ]
  },
  {
   "cell_type": "code",
   "execution_count": 11,
   "id": "27b64f8d",
   "metadata": {},
   "outputs": [],
   "source": [
    "class Lavanderia():\n",
    "    \n",
    "    def __init__ (self,enviroment,num_maquinas,tiempo_lavado):\n",
    "        self.env = enviroment\n",
    "        self.maquinas = simpy.Resource(enviroment, num_maquinas)\n",
    "        self.tiempo_lavado = tiempo_lavado\n",
    "        self.maquinas_uso = {'machine_{}'.format(i+1):False for i in range(num_maquinas)}\n",
    "    \n",
    "     \n",
    "    def lavar_vehiculo(self,vehiculo):\n",
    "        yield self.env.timeout(random.randint(5,11))\n",
    "        print(\"Lavando el vehículo {}\".format(vehiculo))\n",
    "    \n",
    "    def llegada_al_lavado(self,vehiculo,espera):\n",
    "        yield self.env.timeout(espera)\n",
    "    \n",
    "    def salida_local(self,espera):\n",
    "        yield self.env.timeout(espera)\n",
    "        \n",
    "    def usar_maquina(self):\n",
    "        maquina_nombre=''\n",
    "        for maquina in self.maquinas_uso.items():\n",
    "            if(maquina[1]==False):\n",
    "                self.maquinas_uso[maquina[0]]=True\n",
    "                maquina_nombre=maquina[0]\n",
    "                break\n",
    "        return maquina_nombre\n",
    "    \n",
    "    def desocupar_maquina(self,key):\n",
    "        self.maquinas_uso[key]=False\n",
    "    \n",
    "    def llegada_vehiculo(self,vehiculo):\n",
    "        with self.maquinas.request() as maquina:\n",
    "            yield maquina\n",
    "            maquina_nombre = self.usar_maquina()\n",
    "            espera = random.randint(1,5)\n",
    "            yield env.process(self.llegada_al_lavado(vehiculo,espera))\n",
    "            print('Vehiculo empieza transporte en la maquina %s: %s a la hora %.2f.'% (maquina_nombre,vehiculo, env.now-(espera)))\n",
    "            print('Entra vehiculo a lavarse: %s a la hora %.2f.' % (vehiculo, env.now))\n",
    "            \n",
    "            yield env.process(self.lavar_vehiculo(vehiculo))\n",
    "            self.desocupar_maquina(maquina_nombre)        \n",
    "            print('Vehiculo [%s] lavado en la %s a las %.2f.' % (vehiculo,maquina_nombre, env.now))\n",
    "            salida = random.randint(2,5)\n",
    "            yield env.process(self.salida_local(salida))\n",
    "            print('Vehiculo empieza transporte a la salida : %s a la hora %.2f.'% (vehiculo, env.now-(salida)))\n",
    "            print('Vehiculo  sale : %s a la hora %.2f.'% (vehiculo, env.now))"
   ]
  },
  {
   "cell_type": "code",
   "execution_count": 12,
   "id": "f2da9c24",
   "metadata": {},
   "outputs": [
    {
     "name": "stdout",
     "output_type": "stream",
     "text": [
      "********** Lavanderia Vega Simulación **********\n",
      "Vehiculo empieza transporte en la maquina machine_2: Vehiculo-2 a la hora 0.00.\n",
      "Entra vehiculo a lavarse: Vehiculo-2 a la hora 2.00.\n",
      "Vehiculo empieza transporte en la maquina machine_3: Vehiculo-3 a la hora 0.00.\n",
      "Entra vehiculo a lavarse: Vehiculo-3 a la hora 2.00.\n",
      "Vehiculo empieza transporte en la maquina machine_1: Vehiculo-1 a la hora 0.00.\n",
      "Entra vehiculo a lavarse: Vehiculo-1 a la hora 3.00.\n",
      "Lavando el vehículo Vehiculo-2\n",
      "Lavando el vehículo Vehiculo-1\n",
      "Vehiculo [Vehiculo-2] lavado en la machine_2 a las 8.00.\n",
      "Vehiculo [Vehiculo-1] lavado en la machine_1 a las 8.00.\n",
      "Vehiculo empieza transporte a la salida : Vehiculo-2 a la hora 8.00.\n",
      "Vehiculo  sale : Vehiculo-2 a la hora 12.00.\n",
      "Lavando el vehículo Vehiculo-3\n",
      "Vehiculo [Vehiculo-3] lavado en la machine_3 a las 13.00.\n",
      "Vehiculo empieza transporte a la salida : Vehiculo-1 a la hora 8.00.\n",
      "Vehiculo  sale : Vehiculo-1 a la hora 13.00.\n",
      "Vehiculo empieza transporte a la salida : Vehiculo-3 a la hora 13.00.\n",
      "Vehiculo  sale : Vehiculo-3 a la hora 16.00.\n",
      "Vehiculo empieza transporte en la maquina machine_1: Vehiculo-4 a la hora 12.00.\n",
      "Entra vehiculo a lavarse: Vehiculo-4 a la hora 17.00.\n"
     ]
    }
   ],
   "source": [
    "print('*'*10,'Lavanderia Vega Simulación','*'*10)\n",
    "random.seed(77)\n",
    "\n",
    "env=simpy.Environment()\n",
    "simulacion = Simulacion(3)\n",
    "env.process(simulacion.ejecutar_simulacion(env, NUM_MAQUINAS, TIEMPO_LAVADO, INTERVALO_LLEGADA))\n",
    "env.run(until = TIEMPO_SIMULACION)"
   ]
  },
  {
   "cell_type": "markdown",
   "id": "4bba432f",
   "metadata": {},
   "source": [
    "Como podemos notar ahora ya existen diferentes tiempos de lavado de autos, haciendo más real la simulación. Por ultimo para dejar todo listo, procedemos a realizar una refactorización a fin de dejar listo el código y sea facil de entender."
   ]
  },
  {
   "cell_type": "markdown",
   "id": "c952f758",
   "metadata": {},
   "source": [
    "<h2 style=\"color:yellowgreen\">Refactorización</h2>\n",
    "\n",
    "Esto nos va a permitir entender de una manera más sencilla todo el código que hemos ido realizando a lo largo de estos ejemplos y unificarlos en uno solo. Para esto vamos a crear las clases **CarWash** y **Simulation** que tienen los métodos realizados en los puntos anteriores, con el objetivo de que estan refactorizados y entendibles para cualquier desarrollador."
   ]
  },
  {
   "cell_type": "code",
   "execution_count": 22,
   "id": "73dd102b",
   "metadata": {},
   "outputs": [],
   "source": [
    "class CarWash():\n",
    "    \n",
    "    \n",
    "    def __init__(self,environment,machines):\n",
    "        self.env          = environment # inicializamos el entorno de simulación\n",
    "        self.machine      = simpy.Resource(environment, machines) # inicializamos los recursos de nuestras máquinas\n",
    "        self.use_machine  = {'maquina_{}'.format(i+1):False for i in range(machines)}# dicionario para guardar estados de las máquinas usadas\n",
    "        self.wait_time    = 0 # tiempo de espera para llegar a la máquina de lavado\n",
    "        self.wash_time    = 0 # tiempo de lavado del vehículo\n",
    "        self.out_time     = 0 # timpo de salida de la máquina hacia la puerta de salida del local\n",
    "    \n",
    "    # Proceso de lavado del vehículo\n",
    "    def wash_car(self):\n",
    "        self.wash_time = random.randint(5,11) # Tiempo de lavado del vehículo\n",
    "        yield self.env.timeout(self.wash_time)# Realizamos la simulación del lavado del vehículo\n",
    "    \n",
    "    # Proceso de llegada a la máquina\n",
    "    def arrived_machine(self):\n",
    "        yield self.env.timeout(self.wait_time) # Realizamos la simulación de llegada a la máquina\n",
    "        \n",
    "    # Proceso de salida del carwash\n",
    "    def go_out_carwash(self):\n",
    "        yield self.env.timeout(self.out_time) # Realizamos la simulación de salida del carwash\n",
    "\n",
    "    \n",
    "    # Proceso de asignar máquina a vehículo\n",
    "    def busy_machine(self):\n",
    "        name_machine = '' # nombre de la máquina a retornar\n",
    "        for machine in self.use_machine.items(): # recorremos el diccionario de máquinas\n",
    "            if(machine[1]==False): # Si la máquina tiene estado False, significa que no esta usada\n",
    "                self.use_machine[machine[0]]=True # Se cambia el estado de la máquina a True, para indicar que se esta ocupando\n",
    "                name_machine = machine[0] # Asigno el nombre de la maquina a ocupar\n",
    "                break\n",
    "        return name_machine # retorno el nombre de la máquina\n",
    "    \n",
    "\n",
    "    # Proceso de desocupar máquina\n",
    "    def vacate_machine(self,key):\n",
    "        self.use_machine[key] = False # Asignamos un valor de False para indicar que la máquina esta desalojada\n",
    "    \n",
    "    # Proceso del arrivo del vehículo\n",
    "    def arrived_car(self,car):\n",
    "        print('[{}] llega a la hora {:,.2f}'.format(car,self.env.now))\n",
    "        with self.machine.request() as machine: # Utilizamos los recursos de máquinas de lavado\n",
    "            yield machine # Ocupo el recurso de la máquina\n",
    "            name_machine = self.busy_machine() # Obtengo el nombre de la máquina a ocupar\n",
    "            \n",
    "            # Proceso de llegada a la máquina\n",
    "            self.wait_time = random.randint(1,5) # Tiempo de llegada hacia la máquina\n",
    "            print('[{}] empieza a dirigirse a la [{}] a la hora {:,.2f}'.format(car,name_machine,(self.env.now)))\n",
    "            yield self.env.process(self.arrived_machine()) # Simulación de llegada a la máquina\n",
    "            print('[{}] entra a la [{}] a lavarse a la hora {:,.2f}'.format(car,name_machine,self.env.now))\n",
    "            \n",
    "            #Proceso de lavar el carro\n",
    "            yield self.env.process(self.wash_car()) # Proceso del lavado del vehículo\n",
    "            print('[{}] lavado en la [{}] a la hora {:,.2f}'.format(car,name_machine,self.env.now))\n",
    "            self.vacate_machine(name_machine) # Proceso de desocupar la máquina\n",
    "            \n",
    "            #Proceso de salida\n",
    "            self.out_time = random.randint(2,5) # Tiempo de salida del carwash\n",
    "            print('[{}] empieza a dirigirse a la salida del carwash a la hora {:,.2f}'.format(car,(self.env.now)))\n",
    "            yield self.env.process(self.go_out_carwash()) # Proceso de salida del carwash\n",
    "            print('[{}] sale del carwash a la hora {:,.2f}'.format(car,self.env.now))\n",
    "            \n",
    "    \n",
    "\n",
    "class Simulation():\n",
    "    \n",
    "    def __init__(self,init):\n",
    "        self.init = init # Número de vehículos para iniciar la simulación\n",
    "        self.name_car = 'vehiculo_{}' # Nombre del vehículo\n",
    "        \n",
    "    # Ejecuta la simulación\n",
    "    def execute_simulation(self,env,machine, interval):\n",
    "        car_wash = CarWash(env,machine)# Inicializa la lavandería con las variables de interes\n",
    "        self.init_cars(env,car_wash) # Inicializamos los vehículos para la simulación\n",
    "        \n",
    "        # Mientras el tiempo de simulación no termina llegaran más carros\n",
    "        while True:\n",
    "            yield env.timeout(random.randint(interval-2,interval+2)) # Tiempo de espera a que llegue un nuevo vehículo\n",
    "            self.init+=1 # Aumentamos id del vehículo a uno\n",
    "            env.process(car_wash.arrived_car(self.name_car.format(self.init))) # Iniciamos proceso para lavar el vehículo\n",
    "    \n",
    "    # Inicializa los primeros vehículos\n",
    "    def init_cars(self,env,car_wash):\n",
    "        for i in range(self.init): # Creamos vehículos hasta el valor inicial\n",
    "            env.process(car_wash.arrived_car(self.name_car.format(i+1))) # Iniciamos proceso para lavar el vehículo  "
   ]
  },
  {
   "cell_type": "markdown",
   "id": "ea455c31",
   "metadata": {},
   "source": [
    "Realizamos la creación de las nuevas variables de interes a partir de la refactorización realizada, obteniendo las siguientes variables."
   ]
  },
  {
   "cell_type": "code",
   "execution_count": 20,
   "id": "8f112ff8",
   "metadata": {},
   "outputs": [],
   "source": [
    "NUM_CARS    = 3\n",
    "NUM_MACHINE = 3\n",
    "INTERVAL    = 9\n",
    "TIME_SIM    = 24"
   ]
  },
  {
   "cell_type": "markdown",
   "id": "47a950b2",
   "metadata": {},
   "source": [
    "Realizamos el proceso de simulación con el proceso refactorizado para ver los nuevos resultados"
   ]
  },
  {
   "cell_type": "code",
   "execution_count": 21,
   "id": "446c000a",
   "metadata": {},
   "outputs": [
    {
     "name": "stdout",
     "output_type": "stream",
     "text": [
      "********** Simulación CarWash UPS **********\n",
      "[vehiculo_1] llega a la hora 0.00\n",
      "[vehiculo_2] llega a la hora 0.00\n",
      "[vehiculo_3] llega a la hora 0.00\n",
      "[vehiculo_1] empieza a dirigirse a la [maquina_1] a la hora 0.00\n",
      "[vehiculo_2] empieza a dirigirse a la [maquina_2] a la hora 0.00\n",
      "[vehiculo_3] empieza a dirigirse a la [maquina_3] a la hora 0.00\n",
      "[vehiculo_2] entra a la [maquina_2] a lavarse a la hora 2.00\n",
      "[vehiculo_3] entra a la [maquina_3] a lavarse a la hora 2.00\n",
      "[vehiculo_1] entra a la [maquina_1] a lavarse a la hora 3.00\n",
      "[vehiculo_2] lavado en la [maquina_2] a la hora 8.00\n",
      "[vehiculo_2] empieza a dirigirse a la salida del carwash a la hora 8.00\n",
      "[vehiculo_1] lavado en la [maquina_1] a la hora 8.00\n",
      "[vehiculo_1] empieza a dirigirse a la salida del carwash a la hora 8.00\n",
      "[vehiculo_4] llega a la hora 9.00\n",
      "[vehiculo_2] sale del carwash a la hora 12.00\n",
      "[vehiculo_4] empieza a dirigirse a la [maquina_1] a la hora 12.00\n",
      "[vehiculo_3] lavado en la [maquina_3] a la hora 13.00\n",
      "[vehiculo_3] empieza a dirigirse a la salida del carwash a la hora 13.00\n",
      "[vehiculo_1] sale del carwash a la hora 13.00\n",
      "[vehiculo_3] sale del carwash a la hora 16.00\n",
      "[vehiculo_4] entra a la [maquina_1] a lavarse a la hora 17.00\n",
      "[vehiculo_5] llega a la hora 20.00\n",
      "[vehiculo_5] empieza a dirigirse a la [maquina_2] a la hora 20.00\n",
      "[vehiculo_4] lavado en la [maquina_1] a la hora 23.00\n",
      "[vehiculo_4] empieza a dirigirse a la salida del carwash a la hora 23.00\n"
     ]
    }
   ],
   "source": [
    "print('*'*10,'Simulación CarWash UPS','*'*10)\n",
    "random.seed(77)\n",
    "\n",
    "env = simpy.Environment()\n",
    "simulacion = Simulation(NUM_CARS)\n",
    "env.process(simulacion.execute_simulation(env,NUM_MACHINE,INTERVAL))\n",
    "env.run(until = TIME_SIM)"
   ]
  },
  {
   "cell_type": "markdown",
   "id": "a3d6935a",
   "metadata": {},
   "source": [
    "Como podemos ver, con la refactorización podemos entender de mejor manera como se realiza el proceso de carwash para ciertos carros, ademas de ello realizamos una programación ordenada y coherente con la finalidad de que se entienda con comantarios a la vez lo que se realiza"
   ]
  },
  {
   "cell_type": "markdown",
   "id": "b2b48b47",
   "metadata": {},
   "source": [
    "----------------------"
   ]
  },
  {
   "cell_type": "markdown",
   "id": "de0603e2",
   "metadata": {},
   "source": [
    "<h1 style=\"color: darkblue\">Conclusiones</h1>\n",
    "\n",
    "Mediante este trabajo, hemos aprendido a utilizar la librería Simpy y ademas a entender como funcionan los proceso de simulación en eventos discretos con la finalidad de apreciar de mejor manera la importancia de realizar una simulación para poder tomar decisiones a partir de ello. Ademas hemos aprendido el uso de nuevos comandos como yield que permite guardar los estados de un proceso y ejecutarlos en paralelo con otros."
   ]
  }
 ],
 "metadata": {
  "hide_input": false,
  "kernelspec": {
   "display_name": "Python 3",
   "language": "python",
   "name": "python3"
  },
  "language_info": {
   "codemirror_mode": {
    "name": "ipython",
    "version": 3
   },
   "file_extension": ".py",
   "mimetype": "text/x-python",
   "name": "python",
   "nbconvert_exporter": "python",
   "pygments_lexer": "ipython3",
   "version": "3.8.3"
  },
  "toc": {
   "base_numbering": 1,
   "nav_menu": {},
   "number_sections": true,
   "sideBar": true,
   "skip_h1_title": false,
   "title_cell": "Table of Contents",
   "title_sidebar": "Contents",
   "toc_cell": false,
   "toc_position": {},
   "toc_section_display": true,
   "toc_window_display": false
  }
 },
 "nbformat": 4,
 "nbformat_minor": 5
}
